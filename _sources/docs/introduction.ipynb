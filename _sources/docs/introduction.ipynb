{
 "cells": [
  {
   "cell_type": "markdown",
   "id": "998aedbc",
   "metadata": {},
   "source": [
    "# Introduction"
   ]
  },
  {
   "cell_type": "markdown",
   "id": "99c2e38d",
   "metadata": {},
   "source": [
    "- Douwe Maljers (15264424)\n",
    "- Justin van Egmond (15011178)\n",
    "- Noor Verbrugge (15168298)"
   ]
  },
  {
   "cell_type": "markdown",
   "id": "317435ef",
   "metadata": {},
   "source": [
    "Mentale gezondheid onder studenten is de afgelopen jaren een groeiend maatschappelijk thema geworden. De combinatie van allemaal verschillende omstandigheden, zoals prestatiedruk, sociale verwachtingen en onzekerheid over de toekomst maakt deze groep bijzonder kwetsbaar. In deze data-analyse richten we ons op het identificeren van factoren die samenhangen met mentale gezondheid, met als doel het onthullen van mogelijke risico’s en beschermende factoren binnen het studentenleven.\n",
    "\n",
    "Op basis van enquêtegegevens van studenten wereldwijd, verkennen we de verbanden tussen mentale gezondheid en verschillende leefomstandigheden, gedragingen en gevoelens. Daarbij kijken we naar zowel interne als externe factoren die het welzijn kunnen beïnvloeden. De persectieven waaruit wij naar de mentale gezondheid gaan kijken zijn, social media gebruik, slaap, sport gewoonten ....\n",
    "\n",
    "Wereldwijd is de populatie met mentale stoornissen significant gestegen. In de grafiek boven is per land de trend te zien. Vandaar dat dit onderzoek nog meer van belang is. Vrouwen en mannen zijn beide slachtoffer van deze chronische ziekte. \n",
    "\n",
    "In dit onderzoek worden meerdere standpunten onderbouwd aan de hand van data visualisaties, specifiek gericht op de invloeden op metale gezondheid onder studenten. Dit wordt gedaan met behulp van verschillende datasets van diverse groepen studenten. Tevens wordt een dataset van het Institute for Health Metrics and Evaluation gebruikt om de grootschaligheid van het wereldwijde probleem van mentale stoornissen en verminderde mentale gesteldheid in kaart te brengen."
   ]
  },
  {
   "cell_type": "code",
   "execution_count": 2,
   "id": "0b6219e6",
   "metadata": {
    "tags": [
     "hide-input"
    ]
   },
   "outputs": [
    {
     "data": {
      "text/html": [
       "        <script type=\"text/javascript\">\n",
       "        window.PlotlyConfig = {MathJaxConfig: 'local'};\n",
       "        if (window.MathJax && window.MathJax.Hub && window.MathJax.Hub.Config) {window.MathJax.Hub.Config({SVG: {font: \"STIX-Web\"}});}\n",
       "        </script>\n",
       "        <script type=\"module\">import \"https://cdn.plot.ly/plotly-3.0.1.min\"</script>\n",
       "        "
      ]
     },
     "metadata": {},
     "output_type": "display_data"
    },
    {
     "data": {
      "application/vnd.plotly.v1+json": {
       "config": {
        "plotlyServerURL": "https://plot.ly"
       },
       "data": [
        {
         "coloraxis": "coloraxis",
         "geo": "geo",
         "hovertemplate": "<b>%{hovertext}</b><br><br>Country=%{location}<br>Prevalentie (Rate)=%{z}<extra></extra>",
         "hovertext": [
          "Thailand",
          "Sri Lanka",
          "Vanuatu",
          "Tonga",
          "Myanmar",
          "Philippines",
          "Solomon Islands",
          "Turkmenistan",
          "Malaysia",
          "Maldives",
          "Papua New Guinea",
          "Tajikistan",
          "Samoa",
          "Lao People's Democratic Republic",
          "Kyrgyzstan",
          "Indonesia",
          "Micronesia (Federated States of)",
          "Georgia",
          "Cambodia",
          "Kiribati",
          "Mongolia",
          "Fiji",
          "Marshall Islands",
          "Kazakhstan",
          "Democratic People's Republic of Korea",
          "Azerbaijan",
          "Viet Nam",
          "Taiwan (Province of China)",
          "Armenia",
          "Bosnia and Herzegovina",
          "Albania",
          "China",
          "Belarus",
          "Uzbekistan",
          "Timor-Leste",
          "Singapore",
          "Slovenia",
          "Slovakia",
          "Serbia",
          "Japan",
          "Republic of Korea",
          "Romania",
          "Poland",
          "Brunei Darussalam",
          "Montenegro",
          "Denmark",
          "North Macedonia",
          "Ukraine",
          "Cyprus",
          "Russian Federation",
          "Belgium",
          "Finland",
          "Lithuania",
          "Austria",
          "Andorra",
          "Hungary",
          "Republic of Moldova",
          "Latvia",
          "Bulgaria",
          "Croatia",
          "New Zealand",
          "Czechia",
          "Greece",
          "Estonia",
          "France",
          "Germany",
          "United Kingdom",
          "Australia",
          "Switzerland",
          "Sweden",
          "Belize",
          "Barbados",
          "Spain",
          "Antigua and Barbuda",
          "Bahamas",
          "Norway",
          "Portugal",
          "Netherlands",
          "United States of America",
          "Canada",
          "Luxembourg",
          "Saint Lucia",
          "Malta",
          "Ireland",
          "Jamaica",
          "Haiti",
          "Uruguay",
          "Italy",
          "Saint Vincent and the Grenadines",
          "Israel",
          "Iceland",
          "Suriname",
          "Bolivia (Plurinational State of)",
          "Chile",
          "Argentina",
          "Trinidad and Tobago",
          "Guyana",
          "Dominican Republic",
          "Grenada",
          "Dominica",
          "Cuba",
          "Venezuela (Bolivarian Republic of)",
          "Nicaragua",
          "Panama",
          "Mexico",
          "Kuwait",
          "Lebanon",
          "Jordan",
          "Honduras",
          "Iraq",
          "El Salvador",
          "Iran (Islamic Republic of)",
          "Guatemala",
          "Bahrain",
          "Egypt",
          "Costa Rica",
          "Colombia",
          "Ecuador",
          "Peru",
          "Türkiye",
          "Tunisia",
          "Paraguay",
          "Syrian Arab Republic",
          "Saudi Arabia",
          "Algeria",
          "Qatar",
          "Oman",
          "Yemen",
          "Brazil",
          "United Arab Emirates",
          "Palestine",
          "Democratic Republic of the Congo",
          "Equatorial Guinea",
          "Congo",
          "Libya",
          "Rwanda",
          "Morocco",
          "Mozambique",
          "Angola",
          "Central African Republic",
          "Mauritius",
          "Madagascar",
          "Malawi",
          "Kenya",
          "Pakistan",
          "Nepal",
          "Bhutan",
          "Eritrea",
          "Ethiopia",
          "Lesotho",
          "Bangladesh",
          "India",
          "Djibouti",
          "Gabon",
          "Afghanistan",
          "Zimbabwe",
          "Eswatini",
          "Botswana",
          "United Republic of Tanzania",
          "Namibia",
          "Comoros",
          "Zambia",
          "Burundi",
          "South Africa",
          "Mali",
          "Somalia",
          "Uganda",
          "Guinea-Bissau",
          "Liberia",
          "Guinea",
          "Seychelles",
          "Ghana",
          "Côte d'Ivoire",
          "Gambia",
          "Monaco",
          "Nauru",
          "Chad",
          "Cameroon",
          "Cabo Verde",
          "Togo",
          "Guam",
          "Senegal",
          "Cook Islands",
          "Greenland",
          "Burkina Faso",
          "Nigeria",
          "Sao Tome and Principe",
          "American Samoa",
          "Sierra Leone",
          "Benin",
          "Niger",
          "Bermuda",
          "South Sudan",
          "United States Virgin Islands",
          "Mauritania",
          "Tuvalu",
          "Niue",
          "Northern Mariana Islands",
          "Tokelau",
          "San Marino",
          "Saint Kitts and Nevis",
          "Palau",
          "Puerto Rico",
          "Sudan"
         ],
         "locations": [
          "THA",
          "LKA",
          "VUT",
          "TON",
          "MMR",
          "PHL",
          "SLB",
          "TKM",
          "MYS",
          "MDV",
          "PNG",
          "TJK",
          "WSM",
          "LAO",
          "KGZ",
          "IDN",
          null,
          "GEO",
          "KHM",
          "KIR",
          "MNG",
          "FJI",
          "MHL",
          "KAZ",
          "PRK",
          "AZE",
          "VNM",
          null,
          "ARM",
          "BIH",
          "ALB",
          "CHN",
          "BLR",
          "UZB",
          "TLS",
          "SGP",
          "SVN",
          "SVK",
          "SRB",
          "JPN",
          null,
          "ROU",
          "POL",
          "BRN",
          "MNE",
          "DNK",
          "MKD",
          "UKR",
          "CYP",
          "RUS",
          "BEL",
          "FIN",
          "LTU",
          "AUT",
          "AND",
          "HUN",
          "MDA",
          "LVA",
          "BGR",
          "HRV",
          "NZL",
          "CZE",
          "GRC",
          "EST",
          "FRA",
          "DEU",
          "GBR",
          "AUS",
          "CHE",
          "SWE",
          "BLZ",
          "BRB",
          "ESP",
          "ATG",
          "BHS",
          "NOR",
          "PRT",
          "NLD",
          "USA",
          "CAN",
          "LUX",
          "LCA",
          "MLT",
          "IRL",
          "JAM",
          "HTI",
          "URY",
          "ITA",
          "VCT",
          "ISR",
          "ISL",
          "SUR",
          null,
          "CHL",
          "ARG",
          "TTO",
          "GUY",
          "DOM",
          "GRD",
          "DMA",
          "CUB",
          null,
          "NIC",
          "PAN",
          "MEX",
          "KWT",
          "LBN",
          "JOR",
          "HND",
          "IRQ",
          "SLV",
          null,
          "GTM",
          "BHR",
          "EGY",
          "CRI",
          "COL",
          "ECU",
          "PER",
          "TUR",
          "TUN",
          "PRY",
          "SYR",
          "SAU",
          "DZA",
          "QAT",
          "OMN",
          "YEM",
          "BRA",
          "ARE",
          null,
          null,
          "GNQ",
          "COG",
          "LBY",
          "RWA",
          "MAR",
          "MOZ",
          "AGO",
          "CAF",
          "MUS",
          "MDG",
          "MWI",
          "KEN",
          "PAK",
          "NPL",
          "BTN",
          "ERI",
          "ETH",
          "LSO",
          "BGD",
          "IND",
          "DJI",
          "GAB",
          "AFG",
          "ZWE",
          "SWZ",
          "BWA",
          "TZA",
          "NAM",
          "COM",
          "ZMB",
          "BDI",
          "ZAF",
          "MLI",
          "SOM",
          "UGA",
          "GNB",
          "LBR",
          "GIN",
          "SYC",
          "GHA",
          "CIV",
          "GMB",
          "MCO",
          "NRU",
          "TCD",
          "CMR",
          "CPV",
          "TGO",
          "GUM",
          "SEN",
          "COK",
          "GRL",
          "BFA",
          "NGA",
          "STP",
          "ASM",
          "SLE",
          "BEN",
          "NER",
          "BMU",
          "SSD",
          null,
          "MRT",
          "TUV",
          "NIU",
          "MNP",
          "TKL",
          "SMR",
          "KNA",
          "PLW",
          "PRI",
          "SDN"
         ],
         "name": "",
         "type": "choropleth",
         "z": {
          "bdata": "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",
          "dtype": "f8"
         }
        }
       ],
       "layout": {
        "coloraxis": {
         "cmax": 24265.36555356327,
         "cmin": 8.83465557755024,
         "colorbar": {
          "title": {
           "text": "Prevalentie (Rate)"
          }
         },
         "colorscale": [
          [
           0,
           "rgb(255,245,240)"
          ],
          [
           0.125,
           "rgb(254,224,210)"
          ],
          [
           0.25,
           "rgb(252,187,161)"
          ],
          [
           0.375,
           "rgb(252,146,114)"
          ],
          [
           0.5,
           "rgb(251,106,74)"
          ],
          [
           0.625,
           "rgb(239,59,44)"
          ],
          [
           0.75,
           "rgb(203,24,29)"
          ],
          [
           0.875,
           "rgb(165,15,21)"
          ],
          [
           1,
           "rgb(103,0,13)"
          ]
         ]
        },
        "geo": {
         "center": {},
         "domain": {
          "x": [
           0,
           1
          ],
          "y": [
           0,
           1
          ]
         },
         "projection": {
          "type": "natural earth"
         },
         "showcoastlines": true,
         "showframe": false
        },
        "height": 650,
        "legend": {
         "tracegroupgap": 0
        },
        "margin": {
         "b": 0,
         "l": 0,
         "r": 0,
         "t": 50
        },
        "template": {
         "data": {
          "bar": [
           {
            "error_x": {
             "color": "#2a3f5f"
            },
            "error_y": {
             "color": "#2a3f5f"
            },
            "marker": {
             "line": {
              "color": "#E5ECF6",
              "width": 0.5
             },
             "pattern": {
              "fillmode": "overlay",
              "size": 10,
              "solidity": 0.2
             }
            },
            "type": "bar"
           }
          ],
          "barpolar": [
           {
            "marker": {
             "line": {
              "color": "#E5ECF6",
              "width": 0.5
             },
             "pattern": {
              "fillmode": "overlay",
              "size": 10,
              "solidity": 0.2
             }
            },
            "type": "barpolar"
           }
          ],
          "carpet": [
           {
            "aaxis": {
             "endlinecolor": "#2a3f5f",
             "gridcolor": "white",
             "linecolor": "white",
             "minorgridcolor": "white",
             "startlinecolor": "#2a3f5f"
            },
            "baxis": {
             "endlinecolor": "#2a3f5f",
             "gridcolor": "white",
             "linecolor": "white",
             "minorgridcolor": "white",
             "startlinecolor": "#2a3f5f"
            },
            "type": "carpet"
           }
          ],
          "choropleth": [
           {
            "colorbar": {
             "outlinewidth": 0,
             "ticks": ""
            },
            "type": "choropleth"
           }
          ],
          "contour": [
           {
            "colorbar": {
             "outlinewidth": 0,
             "ticks": ""
            },
            "colorscale": [
             [
              0,
              "#0d0887"
             ],
             [
              0.1111111111111111,
              "#46039f"
             ],
             [
              0.2222222222222222,
              "#7201a8"
             ],
             [
              0.3333333333333333,
              "#9c179e"
             ],
             [
              0.4444444444444444,
              "#bd3786"
             ],
             [
              0.5555555555555556,
              "#d8576b"
             ],
             [
              0.6666666666666666,
              "#ed7953"
             ],
             [
              0.7777777777777778,
              "#fb9f3a"
             ],
             [
              0.8888888888888888,
              "#fdca26"
             ],
             [
              1,
              "#f0f921"
             ]
            ],
            "type": "contour"
           }
          ],
          "contourcarpet": [
           {
            "colorbar": {
             "outlinewidth": 0,
             "ticks": ""
            },
            "type": "contourcarpet"
           }
          ],
          "heatmap": [
           {
            "colorbar": {
             "outlinewidth": 0,
             "ticks": ""
            },
            "colorscale": [
             [
              0,
              "#0d0887"
             ],
             [
              0.1111111111111111,
              "#46039f"
             ],
             [
              0.2222222222222222,
              "#7201a8"
             ],
             [
              0.3333333333333333,
              "#9c179e"
             ],
             [
              0.4444444444444444,
              "#bd3786"
             ],
             [
              0.5555555555555556,
              "#d8576b"
             ],
             [
              0.6666666666666666,
              "#ed7953"
             ],
             [
              0.7777777777777778,
              "#fb9f3a"
             ],
             [
              0.8888888888888888,
              "#fdca26"
             ],
             [
              1,
              "#f0f921"
             ]
            ],
            "type": "heatmap"
           }
          ],
          "histogram": [
           {
            "marker": {
             "pattern": {
              "fillmode": "overlay",
              "size": 10,
              "solidity": 0.2
             }
            },
            "type": "histogram"
           }
          ],
          "histogram2d": [
           {
            "colorbar": {
             "outlinewidth": 0,
             "ticks": ""
            },
            "colorscale": [
             [
              0,
              "#0d0887"
             ],
             [
              0.1111111111111111,
              "#46039f"
             ],
             [
              0.2222222222222222,
              "#7201a8"
             ],
             [
              0.3333333333333333,
              "#9c179e"
             ],
             [
              0.4444444444444444,
              "#bd3786"
             ],
             [
              0.5555555555555556,
              "#d8576b"
             ],
             [
              0.6666666666666666,
              "#ed7953"
             ],
             [
              0.7777777777777778,
              "#fb9f3a"
             ],
             [
              0.8888888888888888,
              "#fdca26"
             ],
             [
              1,
              "#f0f921"
             ]
            ],
            "type": "histogram2d"
           }
          ],
          "histogram2dcontour": [
           {
            "colorbar": {
             "outlinewidth": 0,
             "ticks": ""
            },
            "colorscale": [
             [
              0,
              "#0d0887"
             ],
             [
              0.1111111111111111,
              "#46039f"
             ],
             [
              0.2222222222222222,
              "#7201a8"
             ],
             [
              0.3333333333333333,
              "#9c179e"
             ],
             [
              0.4444444444444444,
              "#bd3786"
             ],
             [
              0.5555555555555556,
              "#d8576b"
             ],
             [
              0.6666666666666666,
              "#ed7953"
             ],
             [
              0.7777777777777778,
              "#fb9f3a"
             ],
             [
              0.8888888888888888,
              "#fdca26"
             ],
             [
              1,
              "#f0f921"
             ]
            ],
            "type": "histogram2dcontour"
           }
          ],
          "mesh3d": [
           {
            "colorbar": {
             "outlinewidth": 0,
             "ticks": ""
            },
            "type": "mesh3d"
           }
          ],
          "parcoords": [
           {
            "line": {
             "colorbar": {
              "outlinewidth": 0,
              "ticks": ""
             }
            },
            "type": "parcoords"
           }
          ],
          "pie": [
           {
            "automargin": true,
            "type": "pie"
           }
          ],
          "scatter": [
           {
            "fillpattern": {
             "fillmode": "overlay",
             "size": 10,
             "solidity": 0.2
            },
            "type": "scatter"
           }
          ],
          "scatter3d": [
           {
            "line": {
             "colorbar": {
              "outlinewidth": 0,
              "ticks": ""
             }
            },
            "marker": {
             "colorbar": {
              "outlinewidth": 0,
              "ticks": ""
             }
            },
            "type": "scatter3d"
           }
          ],
          "scattercarpet": [
           {
            "marker": {
             "colorbar": {
              "outlinewidth": 0,
              "ticks": ""
             }
            },
            "type": "scattercarpet"
           }
          ],
          "scattergeo": [
           {
            "marker": {
             "colorbar": {
              "outlinewidth": 0,
              "ticks": ""
             }
            },
            "type": "scattergeo"
           }
          ],
          "scattergl": [
           {
            "marker": {
             "colorbar": {
              "outlinewidth": 0,
              "ticks": ""
             }
            },
            "type": "scattergl"
           }
          ],
          "scattermap": [
           {
            "marker": {
             "colorbar": {
              "outlinewidth": 0,
              "ticks": ""
             }
            },
            "type": "scattermap"
           }
          ],
          "scattermapbox": [
           {
            "marker": {
             "colorbar": {
              "outlinewidth": 0,
              "ticks": ""
             }
            },
            "type": "scattermapbox"
           }
          ],
          "scatterpolar": [
           {
            "marker": {
             "colorbar": {
              "outlinewidth": 0,
              "ticks": ""
             }
            },
            "type": "scatterpolar"
           }
          ],
          "scatterpolargl": [
           {
            "marker": {
             "colorbar": {
              "outlinewidth": 0,
              "ticks": ""
             }
            },
            "type": "scatterpolargl"
           }
          ],
          "scatterternary": [
           {
            "marker": {
             "colorbar": {
              "outlinewidth": 0,
              "ticks": ""
             }
            },
            "type": "scatterternary"
           }
          ],
          "surface": [
           {
            "colorbar": {
             "outlinewidth": 0,
             "ticks": ""
            },
            "colorscale": [
             [
              0,
              "#0d0887"
             ],
             [
              0.1111111111111111,
              "#46039f"
             ],
             [
              0.2222222222222222,
              "#7201a8"
             ],
             [
              0.3333333333333333,
              "#9c179e"
             ],
             [
              0.4444444444444444,
              "#bd3786"
             ],
             [
              0.5555555555555556,
              "#d8576b"
             ],
             [
              0.6666666666666666,
              "#ed7953"
             ],
             [
              0.7777777777777778,
              "#fb9f3a"
             ],
             [
              0.8888888888888888,
              "#fdca26"
             ],
             [
              1,
              "#f0f921"
             ]
            ],
            "type": "surface"
           }
          ],
          "table": [
           {
            "cells": {
             "fill": {
              "color": "#EBF0F8"
             },
             "line": {
              "color": "white"
             }
            },
            "header": {
             "fill": {
              "color": "#C8D4E3"
             },
             "line": {
              "color": "white"
             }
            },
            "type": "table"
           }
          ]
         },
         "layout": {
          "annotationdefaults": {
           "arrowcolor": "#2a3f5f",
           "arrowhead": 0,
           "arrowwidth": 1
          },
          "autotypenumbers": "strict",
          "coloraxis": {
           "colorbar": {
            "outlinewidth": 0,
            "ticks": ""
           }
          },
          "colorscale": {
           "diverging": [
            [
             0,
             "#8e0152"
            ],
            [
             0.1,
             "#c51b7d"
            ],
            [
             0.2,
             "#de77ae"
            ],
            [
             0.3,
             "#f1b6da"
            ],
            [
             0.4,
             "#fde0ef"
            ],
            [
             0.5,
             "#f7f7f7"
            ],
            [
             0.6,
             "#e6f5d0"
            ],
            [
             0.7,
             "#b8e186"
            ],
            [
             0.8,
             "#7fbc41"
            ],
            [
             0.9,
             "#4d9221"
            ],
            [
             1,
             "#276419"
            ]
           ],
           "sequential": [
            [
             0,
             "#0d0887"
            ],
            [
             0.1111111111111111,
             "#46039f"
            ],
            [
             0.2222222222222222,
             "#7201a8"
            ],
            [
             0.3333333333333333,
             "#9c179e"
            ],
            [
             0.4444444444444444,
             "#bd3786"
            ],
            [
             0.5555555555555556,
             "#d8576b"
            ],
            [
             0.6666666666666666,
             "#ed7953"
            ],
            [
             0.7777777777777778,
             "#fb9f3a"
            ],
            [
             0.8888888888888888,
             "#fdca26"
            ],
            [
             1,
             "#f0f921"
            ]
           ],
           "sequentialminus": [
            [
             0,
             "#0d0887"
            ],
            [
             0.1111111111111111,
             "#46039f"
            ],
            [
             0.2222222222222222,
             "#7201a8"
            ],
            [
             0.3333333333333333,
             "#9c179e"
            ],
            [
             0.4444444444444444,
             "#bd3786"
            ],
            [
             0.5555555555555556,
             "#d8576b"
            ],
            [
             0.6666666666666666,
             "#ed7953"
            ],
            [
             0.7777777777777778,
             "#fb9f3a"
            ],
            [
             0.8888888888888888,
             "#fdca26"
            ],
            [
             1,
             "#f0f921"
            ]
           ]
          },
          "colorway": [
           "#636efa",
           "#EF553B",
           "#00cc96",
           "#ab63fa",
           "#FFA15A",
           "#19d3f3",
           "#FF6692",
           "#B6E880",
           "#FF97FF",
           "#FECB52"
          ],
          "font": {
           "color": "#2a3f5f"
          },
          "geo": {
           "bgcolor": "white",
           "lakecolor": "white",
           "landcolor": "#E5ECF6",
           "showlakes": true,
           "showland": true,
           "subunitcolor": "white"
          },
          "hoverlabel": {
           "align": "left"
          },
          "hovermode": "closest",
          "mapbox": {
           "style": "light"
          },
          "paper_bgcolor": "white",
          "plot_bgcolor": "#E5ECF6",
          "polar": {
           "angularaxis": {
            "gridcolor": "white",
            "linecolor": "white",
            "ticks": ""
           },
           "bgcolor": "#E5ECF6",
           "radialaxis": {
            "gridcolor": "white",
            "linecolor": "white",
            "ticks": ""
           }
          },
          "scene": {
           "xaxis": {
            "backgroundcolor": "#E5ECF6",
            "gridcolor": "white",
            "gridwidth": 2,
            "linecolor": "white",
            "showbackground": true,
            "ticks": "",
            "zerolinecolor": "white"
           },
           "yaxis": {
            "backgroundcolor": "#E5ECF6",
            "gridcolor": "white",
            "gridwidth": 2,
            "linecolor": "white",
            "showbackground": true,
            "ticks": "",
            "zerolinecolor": "white"
           },
           "zaxis": {
            "backgroundcolor": "#E5ECF6",
            "gridcolor": "white",
            "gridwidth": 2,
            "linecolor": "white",
            "showbackground": true,
            "ticks": "",
            "zerolinecolor": "white"
           }
          },
          "shapedefaults": {
           "line": {
            "color": "#2a3f5f"
           }
          },
          "ternary": {
           "aaxis": {
            "gridcolor": "white",
            "linecolor": "white",
            "ticks": ""
           },
           "baxis": {
            "gridcolor": "white",
            "linecolor": "white",
            "ticks": ""
           },
           "bgcolor": "#E5ECF6",
           "caxis": {
            "gridcolor": "white",
            "linecolor": "white",
            "ticks": ""
           }
          },
          "title": {
           "x": 0.05
          },
          "xaxis": {
           "automargin": true,
           "gridcolor": "white",
           "linecolor": "white",
           "ticks": "",
           "title": {
            "standoff": 15
           },
           "zerolinecolor": "white",
           "zerolinewidth": 2
          },
          "yaxis": {
           "automargin": true,
           "gridcolor": "white",
           "linecolor": "white",
           "ticks": "",
           "title": {
            "standoff": 15
           },
           "zerolinecolor": "white",
           "zerolinewidth": 2
          }
         }
        },
        "title": {
         "text": "Mental Disorders – Both – Rate – 2015"
        },
        "width": 1100
       }
      },
      "text/html": [
       "<div>            <script src=\"https://cdnjs.cloudflare.com/ajax/libs/mathjax/2.7.5/MathJax.js?config=TeX-AMS-MML_SVG\"></script><script type=\"text/javascript\">if (window.MathJax && window.MathJax.Hub && window.MathJax.Hub.Config) {window.MathJax.Hub.Config({SVG: {font: \"STIX-Web\"}});}</script>                <script type=\"text/javascript\">window.PlotlyConfig = {MathJaxConfig: 'local'};</script>\n",
       "        <script charset=\"utf-8\" src=\"https://cdn.plot.ly/plotly-3.0.1.min.js\"></script>                <div id=\"dbfa22ba-b638-4934-98ae-60e8c08ed858\" class=\"plotly-graph-div\" style=\"height:650px; width:1100px;\"></div>            <script type=\"text/javascript\">                window.PLOTLYENV=window.PLOTLYENV || {};                                if (document.getElementById(\"dbfa22ba-b638-4934-98ae-60e8c08ed858\")) {                    Plotly.newPlot(                        \"dbfa22ba-b638-4934-98ae-60e8c08ed858\",                        [{\"coloraxis\":\"coloraxis\",\"geo\":\"geo\",\"hovertemplate\":\"\\u003cb\\u003e%{hovertext}\\u003c\\u002fb\\u003e\\u003cbr\\u003e\\u003cbr\\u003eCountry=%{location}\\u003cbr\\u003ePrevalentie (Rate)=%{z}\\u003cextra\\u003e\\u003c\\u002fextra\\u003e\",\"hovertext\":[\"Thailand\",\"Sri Lanka\",\"Vanuatu\",\"Tonga\",\"Myanmar\",\"Philippines\",\"Solomon Islands\",\"Turkmenistan\",\"Malaysia\",\"Maldives\",\"Papua New Guinea\",\"Tajikistan\",\"Samoa\",\"Lao People's Democratic Republic\",\"Kyrgyzstan\",\"Indonesia\",\"Micronesia (Federated States of)\",\"Georgia\",\"Cambodia\",\"Kiribati\",\"Mongolia\",\"Fiji\",\"Marshall Islands\",\"Kazakhstan\",\"Democratic People's Republic of Korea\",\"Azerbaijan\",\"Viet Nam\",\"Taiwan (Province of China)\",\"Armenia\",\"Bosnia and Herzegovina\",\"Albania\",\"China\",\"Belarus\",\"Uzbekistan\",\"Timor-Leste\",\"Singapore\",\"Slovenia\",\"Slovakia\",\"Serbia\",\"Japan\",\"Republic of Korea\",\"Romania\",\"Poland\",\"Brunei Darussalam\",\"Montenegro\",\"Denmark\",\"North Macedonia\",\"Ukraine\",\"Cyprus\",\"Russian Federation\",\"Belgium\",\"Finland\",\"Lithuania\",\"Austria\",\"Andorra\",\"Hungary\",\"Republic of Moldova\",\"Latvia\",\"Bulgaria\",\"Croatia\",\"New Zealand\",\"Czechia\",\"Greece\",\"Estonia\",\"France\",\"Germany\",\"United Kingdom\",\"Australia\",\"Switzerland\",\"Sweden\",\"Belize\",\"Barbados\",\"Spain\",\"Antigua and Barbuda\",\"Bahamas\",\"Norway\",\"Portugal\",\"Netherlands\",\"United States of America\",\"Canada\",\"Luxembourg\",\"Saint Lucia\",\"Malta\",\"Ireland\",\"Jamaica\",\"Haiti\",\"Uruguay\",\"Italy\",\"Saint Vincent and the Grenadines\",\"Israel\",\"Iceland\",\"Suriname\",\"Bolivia (Plurinational State of)\",\"Chile\",\"Argentina\",\"Trinidad and Tobago\",\"Guyana\",\"Dominican Republic\",\"Grenada\",\"Dominica\",\"Cuba\",\"Venezuela (Bolivarian Republic of)\",\"Nicaragua\",\"Panama\",\"Mexico\",\"Kuwait\",\"Lebanon\",\"Jordan\",\"Honduras\",\"Iraq\",\"El Salvador\",\"Iran (Islamic Republic of)\",\"Guatemala\",\"Bahrain\",\"Egypt\",\"Costa Rica\",\"Colombia\",\"Ecuador\",\"Peru\",\"T\\u00fcrkiye\",\"Tunisia\",\"Paraguay\",\"Syrian Arab Republic\",\"Saudi Arabia\",\"Algeria\",\"Qatar\",\"Oman\",\"Yemen\",\"Brazil\",\"United Arab Emirates\",\"Palestine\",\"Democratic Republic of the Congo\",\"Equatorial Guinea\",\"Congo\",\"Libya\",\"Rwanda\",\"Morocco\",\"Mozambique\",\"Angola\",\"Central African Republic\",\"Mauritius\",\"Madagascar\",\"Malawi\",\"Kenya\",\"Pakistan\",\"Nepal\",\"Bhutan\",\"Eritrea\",\"Ethiopia\",\"Lesotho\",\"Bangladesh\",\"India\",\"Djibouti\",\"Gabon\",\"Afghanistan\",\"Zimbabwe\",\"Eswatini\",\"Botswana\",\"United Republic of Tanzania\",\"Namibia\",\"Comoros\",\"Zambia\",\"Burundi\",\"South Africa\",\"Mali\",\"Somalia\",\"Uganda\",\"Guinea-Bissau\",\"Liberia\",\"Guinea\",\"Seychelles\",\"Ghana\",\"C\\u00f4te d'Ivoire\",\"Gambia\",\"Monaco\",\"Nauru\",\"Chad\",\"Cameroon\",\"Cabo Verde\",\"Togo\",\"Guam\",\"Senegal\",\"Cook Islands\",\"Greenland\",\"Burkina Faso\",\"Nigeria\",\"Sao Tome and Principe\",\"American Samoa\",\"Sierra Leone\",\"Benin\",\"Niger\",\"Bermuda\",\"South Sudan\",\"United States Virgin Islands\",\"Mauritania\",\"Tuvalu\",\"Niue\",\"Northern Mariana Islands\",\"Tokelau\",\"San Marino\",\"Saint Kitts and Nevis\",\"Palau\",\"Puerto Rico\",\"Sudan\"],\"locations\":[\"THA\",\"LKA\",\"VUT\",\"TON\",\"MMR\",\"PHL\",\"SLB\",\"TKM\",\"MYS\",\"MDV\",\"PNG\",\"TJK\",\"WSM\",\"LAO\",\"KGZ\",\"IDN\",null,\"GEO\",\"KHM\",\"KIR\",\"MNG\",\"FJI\",\"MHL\",\"KAZ\",\"PRK\",\"AZE\",\"VNM\",null,\"ARM\",\"BIH\",\"ALB\",\"CHN\",\"BLR\",\"UZB\",\"TLS\",\"SGP\",\"SVN\",\"SVK\",\"SRB\",\"JPN\",null,\"ROU\",\"POL\",\"BRN\",\"MNE\",\"DNK\",\"MKD\",\"UKR\",\"CYP\",\"RUS\",\"BEL\",\"FIN\",\"LTU\",\"AUT\",\"AND\",\"HUN\",\"MDA\",\"LVA\",\"BGR\",\"HRV\",\"NZL\",\"CZE\",\"GRC\",\"EST\",\"FRA\",\"DEU\",\"GBR\",\"AUS\",\"CHE\",\"SWE\",\"BLZ\",\"BRB\",\"ESP\",\"ATG\",\"BHS\",\"NOR\",\"PRT\",\"NLD\",\"USA\",\"CAN\",\"LUX\",\"LCA\",\"MLT\",\"IRL\",\"JAM\",\"HTI\",\"URY\",\"ITA\",\"VCT\",\"ISR\",\"ISL\",\"SUR\",null,\"CHL\",\"ARG\",\"TTO\",\"GUY\",\"DOM\",\"GRD\",\"DMA\",\"CUB\",null,\"NIC\",\"PAN\",\"MEX\",\"KWT\",\"LBN\",\"JOR\",\"HND\",\"IRQ\",\"SLV\",null,\"GTM\",\"BHR\",\"EGY\",\"CRI\",\"COL\",\"ECU\",\"PER\",\"TUR\",\"TUN\",\"PRY\",\"SYR\",\"SAU\",\"DZA\",\"QAT\",\"OMN\",\"YEM\",\"BRA\",\"ARE\",null,null,\"GNQ\",\"COG\",\"LBY\",\"RWA\",\"MAR\",\"MOZ\",\"AGO\",\"CAF\",\"MUS\",\"MDG\",\"MWI\",\"KEN\",\"PAK\",\"NPL\",\"BTN\",\"ERI\",\"ETH\",\"LSO\",\"BGD\",\"IND\",\"DJI\",\"GAB\",\"AFG\",\"ZWE\",\"SWZ\",\"BWA\",\"TZA\",\"NAM\",\"COM\",\"ZMB\",\"BDI\",\"ZAF\",\"MLI\",\"SOM\",\"UGA\",\"GNB\",\"LBR\",\"GIN\",\"SYC\",\"GHA\",\"CIV\",\"GMB\",\"MCO\",\"NRU\",\"TCD\",\"CMR\",\"CPV\",\"TGO\",\"GUM\",\"SEN\",\"COK\",\"GRL\",\"BFA\",\"NGA\",\"STP\",\"ASM\",\"SLE\",\"BEN\",\"NER\",\"BMU\",\"SSD\",null,\"MRT\",\"TUV\",\"NIU\",\"MNP\",\"TKL\",\"SMR\",\"KNA\",\"PLW\",\"PRI\",\"SDN\"],\"name\":\"\",\"z\":{\"dtype\":\"f8\",\"bdata\":\"3jn3mx6UyEDSPxiMQNTFQHntCZOQi8RASEJ4+mMnxEChOS2H5oXEQAiq9SJyQMVAMH5fp1TTxEBjAQl613nDQJ3UKOTnMsdAtH9Lwj+KxUAANe\\u002fFGKbEQEQG9W3ODMNABQ26aww2xECgIyuq+yTGQLdEx14aJsRA8rEQ3+N5xEDUPZZIwJXFQH70ZAUVZMZA+89bp8wXxkCWEyStJkvFQCW6\\u002f4UXn8RAvDQSLWZMxUAdCPOzYDDFQLSXLRv6VsRASUOTn9aZxkCisy4DUtfDQGpO0Sj+WsJArCWkc+VxxkAfugP\\u002fRLTFQMHpDWIHx8dALpAGOJvOxkCqsA6IsprGQLMAr5ErDspAJqJcS7jlw0CvE7a5sTjDQJBKwIKD\\u002fsVA\\u002fdSv3s2hyEDMRlCgd2bHQEbgfM9srcdA7GW1ER7VxEAgOW8RwEjHQIjxJ3ZfEsdA5773RtKPxUCaXCc3hw7FQJn2cPs4d8dAmxtpyxu0zECvpEIVVivHQIDnAmA1sslAojOjH8b9zUBMVZ0EPZzHQJkIrNx4ysxAVm68OIFVzEDAqXoqTfLLQKfqUYsVp81AiGtgbQ9gzkBsE+Wb3hrIQJsoVAqs1MlAg7Oj4yNMykCAUTeMxrzHQIBOHX0heMhA7MSD1RST0UD1YJ3\\u002f34bHQDPM7\\u002f9hctBADjCz+nO2yUB3eWFxw+PPQHXVrz2tVM5Awflg8XlczUA1WgJlR+fRQJTs5qk2wtBAo3G8vdZJzkAL4JhbolbLQK1MHCM+fMxAWog+KPK80UA7LmRvsCHMQJHSkjSHF8xAuLvk6+Eaz0BLWYeFgwLSQAaKuRanb89AHb0nA0yHz0Bqvyu3EH3LQJrmbZh8Gc1AWR729GbwzEAiLf9T9aLNQNrWTlEZo9BATvp9qjy7y0Ck2oBQs7rLQBQYMslVhctAbX8vl9kWzkBEtsmLHjvMQOhjvmUp4MpA25k9bOs\\u002fzECO1FT1DT\\u002fOQAAQQVKL78tArlj6Xj2rzUAfjpkcN+7JQHkjI5Zz18xAeRqhrGSrzkBVpb7dl8XMQOHuNK87TcxAK1Lh0S7sy0CgwUvE+CjOQOSVuWkxdspABlBHl520yEB4tBGoGrLHQCgreCspnsdA3+sYdff4zEA2Zwy0wazQQIWH3w\\u002fK0stA4C834oqlx0BrxYlBzlvLQNXVZhaKEslA\\u002fSsufng500BM6uLG4nfIQDPeX7w8WM5AeGMzDb+zykCsodH0NZnJQAhxJwVNA8dAmwC1ws1fy0DxWy32hE7KQLdi7YWzRcxAQZqd79WLz0DKVoKn\\u002fCPOQHSDY0FIjc1A7+LX4ZF2zEDonmw7Ah7MQHg9W\\u002fTNeM1ALvdyT\\u002feLy0A9YR8UkF7LQELUmQtIudBAPg0jAG3Ry0B\\u002fC2RGIBbQQCprxVXB6cZA+XzV3a98xkD\\u002fWKpLm07HQDAGf\\u002fbCNs5Ay28DfhY3xkDh3xxMnn7OQEMIrpKGvMRAL9UEti5bxUArynQgOwjIQFChu73HqchAe53oL0gkxUASaGsI+C7EQDJKIjirLMVABAdFumAix0C55wbAijjJQAz0eR0LNsdA35k5i+DfxUA6q1lbJQLFQPR5bPw7\\u002f8dALdf8ZVv3xUCDhq43b9DKQP87W+y5AsZAweW\\u002f7OOcx0AebbXNzDTNQObwCSCWzcJA1jvrjgZmxUBgYOnXam7GQLRrT46ZqcRAZ7VIEoB9xED596SkwtTFQA12y8l5zsNAhTbKQvABxUCLwbMUCoPHQMcCzzM+M8FAzF0gQ5o3xkDBDtj5HSHGQD7ienh\\u002fTsNAFvkCr3IOxUCGH36M1SzDQN+h1WM9QcVAn6R5TPcCxECtlr+aGe3CQBVRH\\u002fhOCsVA8yF+sH4Dz0AGyYXdkZDEQDBrXWnXDcNA98M5sAeFw0CpC9ffRRjHQA54DIlMdsRAwHP4Ano+xkBR\\u002fEHEJtfCQEWn7H0ptMZAA7uoUHA10UA5rd2DoGnDQJsh5x236cFA3M1B4hA1w0D0JSq74p3EQKy\\u002fuCdjTsRAo8SpThr1wkCP02QSGPvBQHloeP280MxAd9i7CafbxEAcW4tlHmvMQHwhIbotAMJAQf57WrsqxkDMBSnQkZ7GQGoVfkH8AMZAR6+s1IwexkD0fq2iKxHPQFfJWJ0uY85AEZr05Wcjx0CRDZJskerLQPbM7K7zX8xA\"},\"type\":\"choropleth\"}],                        {\"template\":{\"data\":{\"histogram2dcontour\":[{\"type\":\"histogram2dcontour\",\"colorbar\":{\"outlinewidth\":0,\"ticks\":\"\"},\"colorscale\":[[0.0,\"#0d0887\"],[0.1111111111111111,\"#46039f\"],[0.2222222222222222,\"#7201a8\"],[0.3333333333333333,\"#9c179e\"],[0.4444444444444444,\"#bd3786\"],[0.5555555555555556,\"#d8576b\"],[0.6666666666666666,\"#ed7953\"],[0.7777777777777778,\"#fb9f3a\"],[0.8888888888888888,\"#fdca26\"],[1.0,\"#f0f921\"]]}],\"choropleth\":[{\"type\":\"choropleth\",\"colorbar\":{\"outlinewidth\":0,\"ticks\":\"\"}}],\"histogram2d\":[{\"type\":\"histogram2d\",\"colorbar\":{\"outlinewidth\":0,\"ticks\":\"\"},\"colorscale\":[[0.0,\"#0d0887\"],[0.1111111111111111,\"#46039f\"],[0.2222222222222222,\"#7201a8\"],[0.3333333333333333,\"#9c179e\"],[0.4444444444444444,\"#bd3786\"],[0.5555555555555556,\"#d8576b\"],[0.6666666666666666,\"#ed7953\"],[0.7777777777777778,\"#fb9f3a\"],[0.8888888888888888,\"#fdca26\"],[1.0,\"#f0f921\"]]}],\"heatmap\":[{\"type\":\"heatmap\",\"colorbar\":{\"outlinewidth\":0,\"ticks\":\"\"},\"colorscale\":[[0.0,\"#0d0887\"],[0.1111111111111111,\"#46039f\"],[0.2222222222222222,\"#7201a8\"],[0.3333333333333333,\"#9c179e\"],[0.4444444444444444,\"#bd3786\"],[0.5555555555555556,\"#d8576b\"],[0.6666666666666666,\"#ed7953\"],[0.7777777777777778,\"#fb9f3a\"],[0.8888888888888888,\"#fdca26\"],[1.0,\"#f0f921\"]]}],\"contourcarpet\":[{\"type\":\"contourcarpet\",\"colorbar\":{\"outlinewidth\":0,\"ticks\":\"\"}}],\"contour\":[{\"type\":\"contour\",\"colorbar\":{\"outlinewidth\":0,\"ticks\":\"\"},\"colorscale\":[[0.0,\"#0d0887\"],[0.1111111111111111,\"#46039f\"],[0.2222222222222222,\"#7201a8\"],[0.3333333333333333,\"#9c179e\"],[0.4444444444444444,\"#bd3786\"],[0.5555555555555556,\"#d8576b\"],[0.6666666666666666,\"#ed7953\"],[0.7777777777777778,\"#fb9f3a\"],[0.8888888888888888,\"#fdca26\"],[1.0,\"#f0f921\"]]}],\"surface\":[{\"type\":\"surface\",\"colorbar\":{\"outlinewidth\":0,\"ticks\":\"\"},\"colorscale\":[[0.0,\"#0d0887\"],[0.1111111111111111,\"#46039f\"],[0.2222222222222222,\"#7201a8\"],[0.3333333333333333,\"#9c179e\"],[0.4444444444444444,\"#bd3786\"],[0.5555555555555556,\"#d8576b\"],[0.6666666666666666,\"#ed7953\"],[0.7777777777777778,\"#fb9f3a\"],[0.8888888888888888,\"#fdca26\"],[1.0,\"#f0f921\"]]}],\"mesh3d\":[{\"type\":\"mesh3d\",\"colorbar\":{\"outlinewidth\":0,\"ticks\":\"\"}}],\"scatter\":[{\"fillpattern\":{\"fillmode\":\"overlay\",\"size\":10,\"solidity\":0.2},\"type\":\"scatter\"}],\"parcoords\":[{\"type\":\"parcoords\",\"line\":{\"colorbar\":{\"outlinewidth\":0,\"ticks\":\"\"}}}],\"scatterpolargl\":[{\"type\":\"scatterpolargl\",\"marker\":{\"colorbar\":{\"outlinewidth\":0,\"ticks\":\"\"}}}],\"bar\":[{\"error_x\":{\"color\":\"#2a3f5f\"},\"error_y\":{\"color\":\"#2a3f5f\"},\"marker\":{\"line\":{\"color\":\"#E5ECF6\",\"width\":0.5},\"pattern\":{\"fillmode\":\"overlay\",\"size\":10,\"solidity\":0.2}},\"type\":\"bar\"}],\"scattergeo\":[{\"type\":\"scattergeo\",\"marker\":{\"colorbar\":{\"outlinewidth\":0,\"ticks\":\"\"}}}],\"scatterpolar\":[{\"type\":\"scatterpolar\",\"marker\":{\"colorbar\":{\"outlinewidth\":0,\"ticks\":\"\"}}}],\"histogram\":[{\"marker\":{\"pattern\":{\"fillmode\":\"overlay\",\"size\":10,\"solidity\":0.2}},\"type\":\"histogram\"}],\"scattergl\":[{\"type\":\"scattergl\",\"marker\":{\"colorbar\":{\"outlinewidth\":0,\"ticks\":\"\"}}}],\"scatter3d\":[{\"type\":\"scatter3d\",\"line\":{\"colorbar\":{\"outlinewidth\":0,\"ticks\":\"\"}},\"marker\":{\"colorbar\":{\"outlinewidth\":0,\"ticks\":\"\"}}}],\"scattermap\":[{\"type\":\"scattermap\",\"marker\":{\"colorbar\":{\"outlinewidth\":0,\"ticks\":\"\"}}}],\"scattermapbox\":[{\"type\":\"scattermapbox\",\"marker\":{\"colorbar\":{\"outlinewidth\":0,\"ticks\":\"\"}}}],\"scatterternary\":[{\"type\":\"scatterternary\",\"marker\":{\"colorbar\":{\"outlinewidth\":0,\"ticks\":\"\"}}}],\"scattercarpet\":[{\"type\":\"scattercarpet\",\"marker\":{\"colorbar\":{\"outlinewidth\":0,\"ticks\":\"\"}}}],\"carpet\":[{\"aaxis\":{\"endlinecolor\":\"#2a3f5f\",\"gridcolor\":\"white\",\"linecolor\":\"white\",\"minorgridcolor\":\"white\",\"startlinecolor\":\"#2a3f5f\"},\"baxis\":{\"endlinecolor\":\"#2a3f5f\",\"gridcolor\":\"white\",\"linecolor\":\"white\",\"minorgridcolor\":\"white\",\"startlinecolor\":\"#2a3f5f\"},\"type\":\"carpet\"}],\"table\":[{\"cells\":{\"fill\":{\"color\":\"#EBF0F8\"},\"line\":{\"color\":\"white\"}},\"header\":{\"fill\":{\"color\":\"#C8D4E3\"},\"line\":{\"color\":\"white\"}},\"type\":\"table\"}],\"barpolar\":[{\"marker\":{\"line\":{\"color\":\"#E5ECF6\",\"width\":0.5},\"pattern\":{\"fillmode\":\"overlay\",\"size\":10,\"solidity\":0.2}},\"type\":\"barpolar\"}],\"pie\":[{\"automargin\":true,\"type\":\"pie\"}]},\"layout\":{\"autotypenumbers\":\"strict\",\"colorway\":[\"#636efa\",\"#EF553B\",\"#00cc96\",\"#ab63fa\",\"#FFA15A\",\"#19d3f3\",\"#FF6692\",\"#B6E880\",\"#FF97FF\",\"#FECB52\"],\"font\":{\"color\":\"#2a3f5f\"},\"hovermode\":\"closest\",\"hoverlabel\":{\"align\":\"left\"},\"paper_bgcolor\":\"white\",\"plot_bgcolor\":\"#E5ECF6\",\"polar\":{\"bgcolor\":\"#E5ECF6\",\"angularaxis\":{\"gridcolor\":\"white\",\"linecolor\":\"white\",\"ticks\":\"\"},\"radialaxis\":{\"gridcolor\":\"white\",\"linecolor\":\"white\",\"ticks\":\"\"}},\"ternary\":{\"bgcolor\":\"#E5ECF6\",\"aaxis\":{\"gridcolor\":\"white\",\"linecolor\":\"white\",\"ticks\":\"\"},\"baxis\":{\"gridcolor\":\"white\",\"linecolor\":\"white\",\"ticks\":\"\"},\"caxis\":{\"gridcolor\":\"white\",\"linecolor\":\"white\",\"ticks\":\"\"}},\"coloraxis\":{\"colorbar\":{\"outlinewidth\":0,\"ticks\":\"\"}},\"colorscale\":{\"sequential\":[[0.0,\"#0d0887\"],[0.1111111111111111,\"#46039f\"],[0.2222222222222222,\"#7201a8\"],[0.3333333333333333,\"#9c179e\"],[0.4444444444444444,\"#bd3786\"],[0.5555555555555556,\"#d8576b\"],[0.6666666666666666,\"#ed7953\"],[0.7777777777777778,\"#fb9f3a\"],[0.8888888888888888,\"#fdca26\"],[1.0,\"#f0f921\"]],\"sequentialminus\":[[0.0,\"#0d0887\"],[0.1111111111111111,\"#46039f\"],[0.2222222222222222,\"#7201a8\"],[0.3333333333333333,\"#9c179e\"],[0.4444444444444444,\"#bd3786\"],[0.5555555555555556,\"#d8576b\"],[0.6666666666666666,\"#ed7953\"],[0.7777777777777778,\"#fb9f3a\"],[0.8888888888888888,\"#fdca26\"],[1.0,\"#f0f921\"]],\"diverging\":[[0,\"#8e0152\"],[0.1,\"#c51b7d\"],[0.2,\"#de77ae\"],[0.3,\"#f1b6da\"],[0.4,\"#fde0ef\"],[0.5,\"#f7f7f7\"],[0.6,\"#e6f5d0\"],[0.7,\"#b8e186\"],[0.8,\"#7fbc41\"],[0.9,\"#4d9221\"],[1,\"#276419\"]]},\"xaxis\":{\"gridcolor\":\"white\",\"linecolor\":\"white\",\"ticks\":\"\",\"title\":{\"standoff\":15},\"zerolinecolor\":\"white\",\"automargin\":true,\"zerolinewidth\":2},\"yaxis\":{\"gridcolor\":\"white\",\"linecolor\":\"white\",\"ticks\":\"\",\"title\":{\"standoff\":15},\"zerolinecolor\":\"white\",\"automargin\":true,\"zerolinewidth\":2},\"scene\":{\"xaxis\":{\"backgroundcolor\":\"#E5ECF6\",\"gridcolor\":\"white\",\"linecolor\":\"white\",\"showbackground\":true,\"ticks\":\"\",\"zerolinecolor\":\"white\",\"gridwidth\":2},\"yaxis\":{\"backgroundcolor\":\"#E5ECF6\",\"gridcolor\":\"white\",\"linecolor\":\"white\",\"showbackground\":true,\"ticks\":\"\",\"zerolinecolor\":\"white\",\"gridwidth\":2},\"zaxis\":{\"backgroundcolor\":\"#E5ECF6\",\"gridcolor\":\"white\",\"linecolor\":\"white\",\"showbackground\":true,\"ticks\":\"\",\"zerolinecolor\":\"white\",\"gridwidth\":2}},\"shapedefaults\":{\"line\":{\"color\":\"#2a3f5f\"}},\"annotationdefaults\":{\"arrowcolor\":\"#2a3f5f\",\"arrowhead\":0,\"arrowwidth\":1},\"geo\":{\"bgcolor\":\"white\",\"landcolor\":\"#E5ECF6\",\"subunitcolor\":\"white\",\"showland\":true,\"showlakes\":true,\"lakecolor\":\"white\"},\"title\":{\"x\":0.05},\"mapbox\":{\"style\":\"light\"}}},\"geo\":{\"domain\":{\"x\":[0.0,1.0],\"y\":[0.0,1.0]},\"center\":{},\"projection\":{\"type\":\"natural earth\"},\"showframe\":false,\"showcoastlines\":true},\"coloraxis\":{\"colorbar\":{\"title\":{\"text\":\"Prevalentie (Rate)\"}},\"colorscale\":[[0.0,\"rgb(255,245,240)\"],[0.125,\"rgb(254,224,210)\"],[0.25,\"rgb(252,187,161)\"],[0.375,\"rgb(252,146,114)\"],[0.5,\"rgb(251,106,74)\"],[0.625,\"rgb(239,59,44)\"],[0.75,\"rgb(203,24,29)\"],[0.875,\"rgb(165,15,21)\"],[1.0,\"rgb(103,0,13)\"]],\"cmin\":8.83465557755024,\"cmax\":24265.36555356327},\"legend\":{\"tracegroupgap\":0},\"title\":{\"text\":\"Mental Disorders \\u2013 Both \\u2013 Rate \\u2013 2015\"},\"height\":650,\"width\":1100,\"margin\":{\"l\":0,\"r\":0,\"t\":50,\"b\":0}},                        {\"responsive\": true}                    ).then(function(){\n",
       "                            \n",
       "var gd = document.getElementById('dbfa22ba-b638-4934-98ae-60e8c08ed858');\n",
       "var x = new MutationObserver(function (mutations, observer) {{\n",
       "        var display = window.getComputedStyle(gd).display;\n",
       "        if (!display || display === 'none') {{\n",
       "            console.log([gd, 'removed!']);\n",
       "            Plotly.purge(gd);\n",
       "            observer.disconnect();\n",
       "        }}\n",
       "}});\n",
       "\n",
       "// Listen for the removal of the full notebook cells\n",
       "var notebookContainer = gd.closest('#notebook-container');\n",
       "if (notebookContainer) {{\n",
       "    x.observe(notebookContainer, {childList: true});\n",
       "}}\n",
       "\n",
       "// Listen for the clearing of the current output cell\n",
       "var outputEl = gd.closest('.output');\n",
       "if (outputEl) {{\n",
       "    x.observe(outputEl, {childList: true});\n",
       "}}\n",
       "\n",
       "                        })                };            </script>        </div>"
      ]
     },
     "metadata": {},
     "output_type": "display_data"
    }
   ],
   "source": [
    "import pandas as pd\n",
    "import plotly.express as px\n",
    "from ipywidgets import Dropdown, SelectionSlider, Layout, HBox, VBox, interactive_output\n",
    "from IPython.display import display, HTML\n",
    "import pycountry\n",
    "from plotly.offline import init_notebook_mode\n",
    "init_notebook_mode(connected=True)\n",
    "\n",
    "# === Data inladen ===\n",
    "csv_path = \"datasets/IHME_mental_real.csv\"\n",
    "df2 = pd.read_csv(csv_path)\n",
    "\n",
    "# === Landen omzetten naar ISO3-codes ===\n",
    "def get_iso3(name):\n",
    "    try:\n",
    "        return pycountry.countries.lookup(name).alpha_3\n",
    "    except LookupError:\n",
    "        return None\n",
    "\n",
    "df2[\"Country\"] = df2[\"location\"].apply(get_iso3)\n",
    "\n",
    "df2[\"val_display\"] = df2[\"val\"]\n",
    "df2.loc[df2[\"metric\"] == \"Percent\", \"val_display\"] *= 100\n",
    "\n",
    "# === Vaste schaal voor percentages ===\n",
    "percent_max = df2.loc[df2[\"metric\"] == \"Percent\", \"val_display\"].max()\n",
    "\n",
    "year = 2015\n",
    "sex = 'Both'\n",
    "metric = 'Rate'\n",
    "\n",
    "dff = df2[(df2[\"year\"] == year) & (df2[\"sex\"] == sex) & (df2[\"metric\"] == metric)]\n",
    "if dff.empty:\n",
    "    print(\"Geen data beschikbaar voor deze selectie.\")\n",
    "\n",
    "if metric == \"Percent\":\n",
    "    color_range = [0, percent_max]\n",
    "else:\n",
    "    color_range = [df2[\"val_display\"].min(), df2[\"val_display\"].max()]\n",
    "\n",
    "fig = px.choropleth(\n",
    "    dff,\n",
    "    locations=\"Country\",\n",
    "    color=\"val_display\",\n",
    "    hover_name=\"location\",\n",
    "    color_continuous_scale=\"Reds\",\n",
    "    range_color=color_range,\n",
    "    labels={\"val_display\": f\"Prevalentie ({metric})\"},\n",
    "    title=f\"Mental Disorders – {sex} – {metric} – {year}\",\n",
    "    width=1100,\n",
    "    height=650\n",
    ")\n",
    "fig.update_layout(\n",
    "    geo=dict(\n",
    "        showframe=False,\n",
    "        showcoastlines=True,\n",
    "        projection_type=\"natural earth\"\n",
    "    ),\n",
    "    margin=dict(l=0, r=0, t=50, b=0)\n",
    ")\n",
    "fig.show()"
   ]
  },
  {
   "cell_type": "code",
   "execution_count": 4,
   "id": "47a30911",
   "metadata": {},
   "outputs": [
    {
     "data": {
      "application/vnd.plotly.v1+json": {
       "config": {
        "plotlyServerURL": "https://plot.ly"
       },
       "data": [
        {
         "colorbar": {
          "title": {
           "text": "Prevalentie (Rate)"
          }
         },
         "colorscale": [
          [
           0,
           "rgb(255,245,240)"
          ],
          [
           0.125,
           "rgb(254,224,210)"
          ],
          [
           0.25,
           "rgb(252,187,161)"
          ],
          [
           0.375,
           "rgb(252,146,114)"
          ],
          [
           0.5,
           "rgb(251,106,74)"
          ],
          [
           0.625,
           "rgb(239,59,44)"
          ],
          [
           0.75,
           "rgb(203,24,29)"
          ],
          [
           0.875,
           "rgb(165,15,21)"
          ],
          [
           1,
           "rgb(103,0,13)"
          ]
         ],
         "locations": [
          "THA",
          "LKA",
          "VUT",
          "TON",
          "MMR",
          "PHL",
          "SLB",
          "TKM",
          "MYS",
          "MDV",
          "PNG",
          "TJK",
          "WSM",
          "LAO",
          "KGZ",
          "IDN",
          null,
          "GEO",
          "KHM",
          "KIR",
          "MNG",
          "FJI",
          "MHL",
          "KAZ",
          "PRK",
          "AZE",
          "VNM",
          null,
          "ARM",
          "BIH",
          "ALB",
          "CHN",
          "BLR",
          "UZB",
          "TLS",
          "SGP",
          "SVN",
          "SVK",
          "SRB",
          "JPN",
          null,
          "ROU",
          "POL",
          "BRN",
          "MNE",
          "DNK",
          "MKD",
          "UKR",
          "CYP",
          "RUS",
          "BEL",
          "FIN",
          "LTU",
          "AUT",
          "AND",
          "HUN",
          "MDA",
          "LVA",
          "BGR",
          "HRV",
          "NZL",
          "CZE",
          "GRC",
          "EST",
          "FRA",
          "DEU",
          "GBR",
          "AUS",
          "CHE",
          "SWE",
          "BLZ",
          "BRB",
          "ESP",
          "ATG",
          "BHS",
          "NOR",
          "PRT",
          "NLD",
          "USA",
          "CAN",
          "LUX",
          "LCA",
          "MLT",
          "IRL",
          "JAM",
          "HTI",
          "URY",
          "ITA",
          "VCT",
          "ISR",
          "ISL",
          "SUR",
          null,
          "CHL",
          "ARG",
          "TTO",
          "GUY",
          "DOM",
          "GRD",
          "DMA",
          "CUB",
          null,
          "NIC",
          "PAN",
          "MEX",
          "KWT",
          "LBN",
          "JOR",
          "HND",
          "IRQ",
          "SLV",
          null,
          "GTM",
          "BHR",
          "EGY",
          "CRI",
          "COL",
          "ECU",
          "PER",
          "TUR",
          "TUN",
          "PRY",
          "SYR",
          "SAU",
          "DZA",
          "QAT",
          "OMN",
          "YEM",
          "BRA",
          "ARE",
          null,
          null,
          "GNQ",
          "COG",
          "LBY",
          "RWA",
          "MAR",
          "MOZ",
          "AGO",
          "CAF",
          "MUS",
          "MDG",
          "MWI",
          "KEN",
          "PAK",
          "NPL",
          "BTN",
          "ERI",
          "ETH",
          "LSO",
          "BGD",
          "IND",
          "DJI",
          "GAB",
          "AFG",
          "ZWE",
          "SWZ",
          "BWA",
          "TZA",
          "NAM",
          "COM",
          "ZMB",
          "BDI",
          "ZAF",
          "MLI",
          "SOM",
          "UGA",
          "GNB",
          "LBR",
          "GIN",
          "SYC",
          "GHA",
          "CIV",
          "GMB",
          "MCO",
          "NRU",
          "TCD",
          "CMR",
          "CPV",
          "TGO",
          "GUM",
          "SEN",
          "COK",
          "GRL",
          "BFA",
          "NGA",
          "STP",
          "ASM",
          "SLE",
          "BEN",
          "NER",
          "BMU",
          "SSD",
          null,
          "MRT",
          "TUV",
          "NIU",
          "MNP",
          "TKL",
          "SMR",
          "KNA",
          "PLW",
          "PRI",
          "SDN"
         ],
         "text": [
          "Thailand",
          "Sri Lanka",
          "Vanuatu",
          "Tonga",
          "Myanmar",
          "Philippines",
          "Solomon Islands",
          "Turkmenistan",
          "Malaysia",
          "Maldives",
          "Papua New Guinea",
          "Tajikistan",
          "Samoa",
          "Lao People's Democratic Republic",
          "Kyrgyzstan",
          "Indonesia",
          "Micronesia (Federated States of)",
          "Georgia",
          "Cambodia",
          "Kiribati",
          "Mongolia",
          "Fiji",
          "Marshall Islands",
          "Kazakhstan",
          "Democratic People's Republic of Korea",
          "Azerbaijan",
          "Viet Nam",
          "Taiwan (Province of China)",
          "Armenia",
          "Bosnia and Herzegovina",
          "Albania",
          "China",
          "Belarus",
          "Uzbekistan",
          "Timor-Leste",
          "Singapore",
          "Slovenia",
          "Slovakia",
          "Serbia",
          "Japan",
          "Republic of Korea",
          "Romania",
          "Poland",
          "Brunei Darussalam",
          "Montenegro",
          "Denmark",
          "North Macedonia",
          "Ukraine",
          "Cyprus",
          "Russian Federation",
          "Belgium",
          "Finland",
          "Lithuania",
          "Austria",
          "Andorra",
          "Hungary",
          "Republic of Moldova",
          "Latvia",
          "Bulgaria",
          "Croatia",
          "New Zealand",
          "Czechia",
          "Greece",
          "Estonia",
          "France",
          "Germany",
          "United Kingdom",
          "Australia",
          "Switzerland",
          "Sweden",
          "Belize",
          "Barbados",
          "Spain",
          "Antigua and Barbuda",
          "Bahamas",
          "Norway",
          "Portugal",
          "Netherlands",
          "United States of America",
          "Canada",
          "Luxembourg",
          "Saint Lucia",
          "Malta",
          "Ireland",
          "Jamaica",
          "Haiti",
          "Uruguay",
          "Italy",
          "Saint Vincent and the Grenadines",
          "Israel",
          "Iceland",
          "Suriname",
          "Bolivia (Plurinational State of)",
          "Chile",
          "Argentina",
          "Trinidad and Tobago",
          "Guyana",
          "Dominican Republic",
          "Grenada",
          "Dominica",
          "Cuba",
          "Venezuela (Bolivarian Republic of)",
          "Nicaragua",
          "Panama",
          "Mexico",
          "Kuwait",
          "Lebanon",
          "Jordan",
          "Honduras",
          "Iraq",
          "El Salvador",
          "Iran (Islamic Republic of)",
          "Guatemala",
          "Bahrain",
          "Egypt",
          "Costa Rica",
          "Colombia",
          "Ecuador",
          "Peru",
          "Türkiye",
          "Tunisia",
          "Paraguay",
          "Syrian Arab Republic",
          "Saudi Arabia",
          "Algeria",
          "Qatar",
          "Oman",
          "Yemen",
          "Brazil",
          "United Arab Emirates",
          "Palestine",
          "Democratic Republic of the Congo",
          "Equatorial Guinea",
          "Congo",
          "Libya",
          "Rwanda",
          "Morocco",
          "Mozambique",
          "Angola",
          "Central African Republic",
          "Mauritius",
          "Madagascar",
          "Malawi",
          "Kenya",
          "Pakistan",
          "Nepal",
          "Bhutan",
          "Eritrea",
          "Ethiopia",
          "Lesotho",
          "Bangladesh",
          "India",
          "Djibouti",
          "Gabon",
          "Afghanistan",
          "Zimbabwe",
          "Eswatini",
          "Botswana",
          "United Republic of Tanzania",
          "Namibia",
          "Comoros",
          "Zambia",
          "Burundi",
          "South Africa",
          "Mali",
          "Somalia",
          "Uganda",
          "Guinea-Bissau",
          "Liberia",
          "Guinea",
          "Seychelles",
          "Ghana",
          "Côte d'Ivoire",
          "Gambia",
          "Monaco",
          "Nauru",
          "Chad",
          "Cameroon",
          "Cabo Verde",
          "Togo",
          "Guam",
          "Senegal",
          "Cook Islands",
          "Greenland",
          "Burkina Faso",
          "Nigeria",
          "Sao Tome and Principe",
          "American Samoa",
          "Sierra Leone",
          "Benin",
          "Niger",
          "Bermuda",
          "South Sudan",
          "United States Virgin Islands",
          "Mauritania",
          "Tuvalu",
          "Niue",
          "Northern Mariana Islands",
          "Tokelau",
          "San Marino",
          "Saint Kitts and Nevis",
          "Palau",
          "Puerto Rico",
          "Sudan"
         ],
         "type": "choropleth",
         "z": {
          "bdata": "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",
          "dtype": "f8"
         },
         "zmax": 24265.36555356327,
         "zmin": 8.83465557755024
        }
       ],
       "frames": [
        {
         "data": [
          {
           "colorbar": {
            "title": {
             "text": "Prevalentie (Rate)"
            }
           },
           "colorscale": [
            [
             0,
             "rgb(255,245,240)"
            ],
            [
             0.125,
             "rgb(254,224,210)"
            ],
            [
             0.25,
             "rgb(252,187,161)"
            ],
            [
             0.375,
             "rgb(252,146,114)"
            ],
            [
             0.5,
             "rgb(251,106,74)"
            ],
            [
             0.625,
             "rgb(239,59,44)"
            ],
            [
             0.75,
             "rgb(203,24,29)"
            ],
            [
             0.875,
             "rgb(165,15,21)"
            ],
            [
             1,
             "rgb(103,0,13)"
            ]
           ],
           "locations": [
            "THA",
            "LKA",
            "VUT",
            "TON",
            "MMR",
            "PHL",
            "SLB",
            "TKM",
            "MYS",
            "MDV",
            "PNG",
            "TJK",
            "WSM",
            "LAO",
            "KGZ",
            "IDN",
            null,
            "GEO",
            "KHM",
            "KIR",
            "MNG",
            "FJI",
            "MHL",
            "KAZ",
            "PRK",
            "AZE",
            "VNM",
            null,
            "ARM",
            "BIH",
            "ALB",
            "CHN",
            "BLR",
            "UZB",
            "TLS",
            "SGP",
            "SVN",
            "SVK",
            "SRB",
            "JPN",
            null,
            "ROU",
            "POL",
            "BRN",
            "MNE",
            "DNK",
            "MKD",
            "UKR",
            "CYP",
            "RUS",
            "BEL",
            "FIN",
            "LTU",
            "AUT",
            "AND",
            "HUN",
            "MDA",
            "LVA",
            "BGR",
            "HRV",
            "NZL",
            "CZE",
            "GRC",
            "EST",
            "FRA",
            "DEU",
            "GBR",
            "AUS",
            "CHE",
            "SWE",
            "BLZ",
            "BRB",
            "ESP",
            "ATG",
            "BHS",
            "NOR",
            "PRT",
            "NLD",
            "USA",
            "CAN",
            "LUX",
            "LCA",
            "MLT",
            "IRL",
            "JAM",
            "HTI",
            "URY",
            "ITA",
            "VCT",
            "ISR",
            "ISL",
            "SUR",
            null,
            "CHL",
            "ARG",
            "TTO",
            "GUY",
            "DOM",
            "GRD",
            "DMA",
            "CUB",
            null,
            "NIC",
            "PAN",
            "MEX",
            "KWT",
            "LBN",
            "JOR",
            "HND",
            "IRQ",
            "SLV",
            null,
            "GTM",
            "BHR",
            "EGY",
            "CRI",
            "COL",
            "ECU",
            "PER",
            "TUR",
            "TUN",
            "PRY",
            "SYR",
            "SAU",
            "DZA",
            "QAT",
            "OMN",
            "YEM",
            "BRA",
            "ARE",
            null,
            null,
            "GNQ",
            "COG",
            "LBY",
            "RWA",
            "MAR",
            "MOZ",
            "AGO",
            "CAF",
            "MUS",
            "MDG",
            "MWI",
            "KEN",
            "PAK",
            "NPL",
            "BTN",
            "ERI",
            "ETH",
            "LSO",
            "BGD",
            "IND",
            "DJI",
            "GAB",
            "AFG",
            "ZWE",
            "SWZ",
            "BWA",
            "TZA",
            "NAM",
            "COM",
            "ZMB",
            "BDI",
            "ZAF",
            "MLI",
            "SOM",
            "UGA",
            "GNB",
            "LBR",
            "GIN",
            "SYC",
            "GHA",
            "CIV",
            "GMB",
            "MCO",
            "NRU",
            "TCD",
            "CMR",
            "CPV",
            "TGO",
            "GUM",
            "SEN",
            "COK",
            "GRL",
            "BFA",
            "NGA",
            "STP",
            "ASM",
            "SLE",
            "BEN",
            "NER",
            "BMU",
            "SSD",
            null,
            "MRT",
            "TUV",
            "NIU",
            "MNP",
            "TKL",
            "SMR",
            "KNA",
            "PLW",
            "PRI",
            "SDN"
           ],
           "text": [
            "Thailand",
            "Sri Lanka",
            "Vanuatu",
            "Tonga",
            "Myanmar",
            "Philippines",
            "Solomon Islands",
            "Turkmenistan",
            "Malaysia",
            "Maldives",
            "Papua New Guinea",
            "Tajikistan",
            "Samoa",
            "Lao People's Democratic Republic",
            "Kyrgyzstan",
            "Indonesia",
            "Micronesia (Federated States of)",
            "Georgia",
            "Cambodia",
            "Kiribati",
            "Mongolia",
            "Fiji",
            "Marshall Islands",
            "Kazakhstan",
            "Democratic People's Republic of Korea",
            "Azerbaijan",
            "Viet Nam",
            "Taiwan (Province of China)",
            "Armenia",
            "Bosnia and Herzegovina",
            "Albania",
            "China",
            "Belarus",
            "Uzbekistan",
            "Timor-Leste",
            "Singapore",
            "Slovenia",
            "Slovakia",
            "Serbia",
            "Japan",
            "Republic of Korea",
            "Romania",
            "Poland",
            "Brunei Darussalam",
            "Montenegro",
            "Denmark",
            "North Macedonia",
            "Ukraine",
            "Cyprus",
            "Russian Federation",
            "Belgium",
            "Finland",
            "Lithuania",
            "Austria",
            "Andorra",
            "Hungary",
            "Republic of Moldova",
            "Latvia",
            "Bulgaria",
            "Croatia",
            "New Zealand",
            "Czechia",
            "Greece",
            "Estonia",
            "France",
            "Germany",
            "United Kingdom",
            "Australia",
            "Switzerland",
            "Sweden",
            "Belize",
            "Barbados",
            "Spain",
            "Antigua and Barbuda",
            "Bahamas",
            "Norway",
            "Portugal",
            "Netherlands",
            "United States of America",
            "Canada",
            "Luxembourg",
            "Saint Lucia",
            "Malta",
            "Ireland",
            "Jamaica",
            "Haiti",
            "Uruguay",
            "Italy",
            "Saint Vincent and the Grenadines",
            "Israel",
            "Iceland",
            "Suriname",
            "Bolivia (Plurinational State of)",
            "Chile",
            "Argentina",
            "Trinidad and Tobago",
            "Guyana",
            "Dominican Republic",
            "Grenada",
            "Dominica",
            "Cuba",
            "Venezuela (Bolivarian Republic of)",
            "Nicaragua",
            "Panama",
            "Mexico",
            "Kuwait",
            "Lebanon",
            "Jordan",
            "Honduras",
            "Iraq",
            "El Salvador",
            "Iran (Islamic Republic of)",
            "Guatemala",
            "Bahrain",
            "Egypt",
            "Costa Rica",
            "Colombia",
            "Ecuador",
            "Peru",
            "Türkiye",
            "Tunisia",
            "Paraguay",
            "Syrian Arab Republic",
            "Saudi Arabia",
            "Algeria",
            "Qatar",
            "Oman",
            "Yemen",
            "Brazil",
            "United Arab Emirates",
            "Palestine",
            "Democratic Republic of the Congo",
            "Equatorial Guinea",
            "Congo",
            "Libya",
            "Rwanda",
            "Morocco",
            "Mozambique",
            "Angola",
            "Central African Republic",
            "Mauritius",
            "Madagascar",
            "Malawi",
            "Kenya",
            "Pakistan",
            "Nepal",
            "Bhutan",
            "Eritrea",
            "Ethiopia",
            "Lesotho",
            "Bangladesh",
            "India",
            "Djibouti",
            "Gabon",
            "Afghanistan",
            "Zimbabwe",
            "Eswatini",
            "Botswana",
            "United Republic of Tanzania",
            "Namibia",
            "Comoros",
            "Zambia",
            "Burundi",
            "South Africa",
            "Mali",
            "Somalia",
            "Uganda",
            "Guinea-Bissau",
            "Liberia",
            "Guinea",
            "Seychelles",
            "Ghana",
            "Côte d'Ivoire",
            "Gambia",
            "Monaco",
            "Nauru",
            "Chad",
            "Cameroon",
            "Cabo Verde",
            "Togo",
            "Guam",
            "Senegal",
            "Cook Islands",
            "Greenland",
            "Burkina Faso",
            "Nigeria",
            "Sao Tome and Principe",
            "American Samoa",
            "Sierra Leone",
            "Benin",
            "Niger",
            "Bermuda",
            "South Sudan",
            "United States Virgin Islands",
            "Mauritania",
            "Tuvalu",
            "Niue",
            "Northern Mariana Islands",
            "Tokelau",
            "San Marino",
            "Saint Kitts and Nevis",
            "Palau",
            "Puerto Rico",
            "Sudan"
           ],
           "type": "choropleth",
           "z": {
            "bdata": "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",
            "dtype": "f8"
           },
           "zmax": 24265.36555356327,
           "zmin": 8.83465557755024
          }
         ],
         "name": "2015"
        },
        {
         "data": [
          {
           "colorbar": {
            "title": {
             "text": "Prevalentie (Rate)"
            }
           },
           "colorscale": [
            [
             0,
             "rgb(255,245,240)"
            ],
            [
             0.125,
             "rgb(254,224,210)"
            ],
            [
             0.25,
             "rgb(252,187,161)"
            ],
            [
             0.375,
             "rgb(252,146,114)"
            ],
            [
             0.5,
             "rgb(251,106,74)"
            ],
            [
             0.625,
             "rgb(239,59,44)"
            ],
            [
             0.75,
             "rgb(203,24,29)"
            ],
            [
             0.875,
             "rgb(165,15,21)"
            ],
            [
             1,
             "rgb(103,0,13)"
            ]
           ],
           "locations": [
            "THA",
            "LKA",
            "VUT",
            "TON",
            "MMR",
            "PHL",
            "SLB",
            "TKM",
            "MYS",
            "MDV",
            "PNG",
            "TJK",
            "WSM",
            "LAO",
            "KGZ",
            "IDN",
            null,
            "GEO",
            "KHM",
            "KIR",
            "MNG",
            "FJI",
            "MHL",
            "KAZ",
            "PRK",
            "AZE",
            "VNM",
            null,
            "ARM",
            "BIH",
            "ALB",
            "CHN",
            "BLR",
            "UZB",
            "TLS",
            "SGP",
            "SVN",
            "SVK",
            "SRB",
            "JPN",
            null,
            "ROU",
            "POL",
            "BRN",
            "MNE",
            "DNK",
            "MKD",
            "UKR",
            "CYP",
            "RUS",
            "BEL",
            "FIN",
            "LTU",
            "AUT",
            "AND",
            "HUN",
            "MDA",
            "LVA",
            "BGR",
            "HRV",
            "NZL",
            "CZE",
            "GRC",
            "EST",
            "FRA",
            "DEU",
            "GBR",
            "AUS",
            "CHE",
            "SWE",
            "BLZ",
            "BRB",
            "ESP",
            "ATG",
            "BHS",
            "NOR",
            "PRT",
            "NLD",
            "USA",
            "CAN",
            "LUX",
            "LCA",
            "MLT",
            "IRL",
            "JAM",
            "HTI",
            "URY",
            "ITA",
            "VCT",
            "ISR",
            "ISL",
            "SUR",
            null,
            "CHL",
            "ARG",
            "TTO",
            "GUY",
            "DOM",
            "GRD",
            "DMA",
            "CUB",
            null,
            "NIC",
            "PAN",
            "MEX",
            "KWT",
            "LBN",
            "JOR",
            "HND",
            "IRQ",
            "SLV",
            null,
            "GTM",
            "BHR",
            "EGY",
            "CRI",
            "COL",
            "ECU",
            "PER",
            "TUR",
            "TUN",
            "PRY",
            "SYR",
            "SAU",
            "DZA",
            "QAT",
            "OMN",
            "YEM",
            "BRA",
            "ARE",
            null,
            null,
            "GNQ",
            "COG",
            "LBY",
            "RWA",
            "MAR",
            "MOZ",
            "AGO",
            "CAF",
            "MUS",
            "MDG",
            "MWI",
            "KEN",
            "PAK",
            "NPL",
            "BTN",
            "ERI",
            "ETH",
            "LSO",
            "BGD",
            "IND",
            "DJI",
            "GAB",
            "AFG",
            "ZWE",
            "SWZ",
            "BWA",
            "TZA",
            "NAM",
            "COM",
            "ZMB",
            "BDI",
            "ZAF",
            "MLI",
            "SOM",
            "UGA",
            "GNB",
            "LBR",
            "GIN",
            "SYC",
            "GHA",
            "CIV",
            "GMB",
            "MCO",
            "NRU",
            "TCD",
            "CMR",
            "CPV",
            "TGO",
            "GUM",
            "SEN",
            "COK",
            "GRL",
            "BFA",
            "NGA",
            "STP",
            "ASM",
            "SLE",
            "BEN",
            "NER",
            "BMU",
            "SSD",
            null,
            "MRT",
            "TUV",
            "NIU",
            "MNP",
            "TKL",
            "SMR",
            "KNA",
            "PLW",
            "PRI",
            "SDN"
           ],
           "text": [
            "Thailand",
            "Sri Lanka",
            "Vanuatu",
            "Tonga",
            "Myanmar",
            "Philippines",
            "Solomon Islands",
            "Turkmenistan",
            "Malaysia",
            "Maldives",
            "Papua New Guinea",
            "Tajikistan",
            "Samoa",
            "Lao People's Democratic Republic",
            "Kyrgyzstan",
            "Indonesia",
            "Micronesia (Federated States of)",
            "Georgia",
            "Cambodia",
            "Kiribati",
            "Mongolia",
            "Fiji",
            "Marshall Islands",
            "Kazakhstan",
            "Democratic People's Republic of Korea",
            "Azerbaijan",
            "Viet Nam",
            "Taiwan (Province of China)",
            "Armenia",
            "Bosnia and Herzegovina",
            "Albania",
            "China",
            "Belarus",
            "Uzbekistan",
            "Timor-Leste",
            "Singapore",
            "Slovenia",
            "Slovakia",
            "Serbia",
            "Japan",
            "Republic of Korea",
            "Romania",
            "Poland",
            "Brunei Darussalam",
            "Montenegro",
            "Denmark",
            "North Macedonia",
            "Ukraine",
            "Cyprus",
            "Russian Federation",
            "Belgium",
            "Finland",
            "Lithuania",
            "Austria",
            "Andorra",
            "Hungary",
            "Republic of Moldova",
            "Latvia",
            "Bulgaria",
            "Croatia",
            "New Zealand",
            "Czechia",
            "Greece",
            "Estonia",
            "France",
            "Germany",
            "United Kingdom",
            "Australia",
            "Switzerland",
            "Sweden",
            "Belize",
            "Barbados",
            "Spain",
            "Antigua and Barbuda",
            "Bahamas",
            "Norway",
            "Portugal",
            "Netherlands",
            "United States of America",
            "Canada",
            "Luxembourg",
            "Saint Lucia",
            "Malta",
            "Ireland",
            "Jamaica",
            "Haiti",
            "Uruguay",
            "Italy",
            "Saint Vincent and the Grenadines",
            "Israel",
            "Iceland",
            "Suriname",
            "Bolivia (Plurinational State of)",
            "Chile",
            "Argentina",
            "Trinidad and Tobago",
            "Guyana",
            "Dominican Republic",
            "Grenada",
            "Dominica",
            "Cuba",
            "Venezuela (Bolivarian Republic of)",
            "Nicaragua",
            "Panama",
            "Mexico",
            "Kuwait",
            "Lebanon",
            "Jordan",
            "Honduras",
            "Iraq",
            "El Salvador",
            "Iran (Islamic Republic of)",
            "Guatemala",
            "Bahrain",
            "Egypt",
            "Costa Rica",
            "Colombia",
            "Ecuador",
            "Peru",
            "Türkiye",
            "Tunisia",
            "Paraguay",
            "Syrian Arab Republic",
            "Saudi Arabia",
            "Algeria",
            "Qatar",
            "Oman",
            "Yemen",
            "Brazil",
            "United Arab Emirates",
            "Palestine",
            "Democratic Republic of the Congo",
            "Equatorial Guinea",
            "Congo",
            "Libya",
            "Rwanda",
            "Morocco",
            "Mozambique",
            "Angola",
            "Central African Republic",
            "Mauritius",
            "Madagascar",
            "Malawi",
            "Kenya",
            "Pakistan",
            "Nepal",
            "Bhutan",
            "Eritrea",
            "Ethiopia",
            "Lesotho",
            "Bangladesh",
            "India",
            "Djibouti",
            "Gabon",
            "Afghanistan",
            "Zimbabwe",
            "Eswatini",
            "Botswana",
            "United Republic of Tanzania",
            "Namibia",
            "Comoros",
            "Zambia",
            "Burundi",
            "South Africa",
            "Mali",
            "Somalia",
            "Uganda",
            "Guinea-Bissau",
            "Liberia",
            "Guinea",
            "Seychelles",
            "Ghana",
            "Côte d'Ivoire",
            "Gambia",
            "Monaco",
            "Nauru",
            "Chad",
            "Cameroon",
            "Cabo Verde",
            "Togo",
            "Guam",
            "Senegal",
            "Cook Islands",
            "Greenland",
            "Burkina Faso",
            "Nigeria",
            "Sao Tome and Principe",
            "American Samoa",
            "Sierra Leone",
            "Benin",
            "Niger",
            "Bermuda",
            "South Sudan",
            "United States Virgin Islands",
            "Mauritania",
            "Tuvalu",
            "Niue",
            "Northern Mariana Islands",
            "Tokelau",
            "San Marino",
            "Saint Kitts and Nevis",
            "Palau",
            "Puerto Rico",
            "Sudan"
           ],
           "type": "choropleth",
           "z": {
            "bdata": "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",
            "dtype": "f8"
           },
           "zmax": 24265.36555356327,
           "zmin": 8.83465557755024
          }
         ],
         "name": "2016"
        },
        {
         "data": [
          {
           "colorbar": {
            "title": {
             "text": "Prevalentie (Rate)"
            }
           },
           "colorscale": [
            [
             0,
             "rgb(255,245,240)"
            ],
            [
             0.125,
             "rgb(254,224,210)"
            ],
            [
             0.25,
             "rgb(252,187,161)"
            ],
            [
             0.375,
             "rgb(252,146,114)"
            ],
            [
             0.5,
             "rgb(251,106,74)"
            ],
            [
             0.625,
             "rgb(239,59,44)"
            ],
            [
             0.75,
             "rgb(203,24,29)"
            ],
            [
             0.875,
             "rgb(165,15,21)"
            ],
            [
             1,
             "rgb(103,0,13)"
            ]
           ],
           "locations": [
            "THA",
            "LKA",
            "VUT",
            "TON",
            "MMR",
            "PHL",
            "SLB",
            "TKM",
            "MYS",
            "MDV",
            "PNG",
            "TJK",
            "WSM",
            "LAO",
            "KGZ",
            "IDN",
            null,
            "GEO",
            "KHM",
            "KIR",
            "MNG",
            "FJI",
            "MHL",
            "KAZ",
            "PRK",
            "AZE",
            "VNM",
            null,
            "ARM",
            "BIH",
            "ALB",
            "CHN",
            "BLR",
            "UZB",
            "TLS",
            "SGP",
            "SVN",
            "SVK",
            "SRB",
            "JPN",
            null,
            "ROU",
            "POL",
            "BRN",
            "MNE",
            "DNK",
            "MKD",
            "UKR",
            "CYP",
            "RUS",
            "BEL",
            "FIN",
            "LTU",
            "AUT",
            "AND",
            "HUN",
            "MDA",
            "LVA",
            "BGR",
            "HRV",
            "NZL",
            "CZE",
            "GRC",
            "EST",
            "FRA",
            "DEU",
            "GBR",
            "AUS",
            "CHE",
            "SWE",
            "BLZ",
            "BRB",
            "ESP",
            "ATG",
            "BHS",
            "NOR",
            "PRT",
            "NLD",
            "USA",
            "CAN",
            "LUX",
            "LCA",
            "MLT",
            "IRL",
            "JAM",
            "HTI",
            "URY",
            "ITA",
            "VCT",
            "ISR",
            "ISL",
            "SUR",
            null,
            "CHL",
            "ARG",
            "TTO",
            "GUY",
            "DOM",
            "GRD",
            "DMA",
            "CUB",
            null,
            "NIC",
            "PAN",
            "MEX",
            "KWT",
            "LBN",
            "JOR",
            "HND",
            "IRQ",
            "SLV",
            null,
            "GTM",
            "BHR",
            "EGY",
            "CRI",
            "COL",
            "ECU",
            "PER",
            "TUR",
            "TUN",
            "PRY",
            "SYR",
            "SAU",
            "DZA",
            "QAT",
            "OMN",
            "YEM",
            "BRA",
            "ARE",
            null,
            null,
            "GNQ",
            "COG",
            "LBY",
            "RWA",
            "MAR",
            "MOZ",
            "AGO",
            "CAF",
            "MUS",
            "MDG",
            "MWI",
            "KEN",
            "PAK",
            "NPL",
            "BTN",
            "ERI",
            "ETH",
            "LSO",
            "BGD",
            "IND",
            "DJI",
            "GAB",
            "AFG",
            "ZWE",
            "SWZ",
            "BWA",
            "TZA",
            "NAM",
            "COM",
            "ZMB",
            "BDI",
            "ZAF",
            "MLI",
            "SOM",
            "UGA",
            "GNB",
            "LBR",
            "GIN",
            "SYC",
            "GHA",
            "CIV",
            "GMB",
            "MCO",
            "NRU",
            "TCD",
            "CMR",
            "CPV",
            "TGO",
            "GUM",
            "SEN",
            "COK",
            "GRL",
            "BFA",
            "NGA",
            "STP",
            "ASM",
            "SLE",
            "BEN",
            "NER",
            "BMU",
            "SSD",
            null,
            "MRT",
            "TUV",
            "NIU",
            "MNP",
            "TKL",
            "SMR",
            "KNA",
            "PLW",
            "PRI",
            "SDN"
           ],
           "text": [
            "Thailand",
            "Sri Lanka",
            "Vanuatu",
            "Tonga",
            "Myanmar",
            "Philippines",
            "Solomon Islands",
            "Turkmenistan",
            "Malaysia",
            "Maldives",
            "Papua New Guinea",
            "Tajikistan",
            "Samoa",
            "Lao People's Democratic Republic",
            "Kyrgyzstan",
            "Indonesia",
            "Micronesia (Federated States of)",
            "Georgia",
            "Cambodia",
            "Kiribati",
            "Mongolia",
            "Fiji",
            "Marshall Islands",
            "Kazakhstan",
            "Democratic People's Republic of Korea",
            "Azerbaijan",
            "Viet Nam",
            "Taiwan (Province of China)",
            "Armenia",
            "Bosnia and Herzegovina",
            "Albania",
            "China",
            "Belarus",
            "Uzbekistan",
            "Timor-Leste",
            "Singapore",
            "Slovenia",
            "Slovakia",
            "Serbia",
            "Japan",
            "Republic of Korea",
            "Romania",
            "Poland",
            "Brunei Darussalam",
            "Montenegro",
            "Denmark",
            "North Macedonia",
            "Ukraine",
            "Cyprus",
            "Russian Federation",
            "Belgium",
            "Finland",
            "Lithuania",
            "Austria",
            "Andorra",
            "Hungary",
            "Republic of Moldova",
            "Latvia",
            "Bulgaria",
            "Croatia",
            "New Zealand",
            "Czechia",
            "Greece",
            "Estonia",
            "France",
            "Germany",
            "United Kingdom",
            "Australia",
            "Switzerland",
            "Sweden",
            "Belize",
            "Barbados",
            "Spain",
            "Antigua and Barbuda",
            "Bahamas",
            "Norway",
            "Portugal",
            "Netherlands",
            "United States of America",
            "Canada",
            "Luxembourg",
            "Saint Lucia",
            "Malta",
            "Ireland",
            "Jamaica",
            "Haiti",
            "Uruguay",
            "Italy",
            "Saint Vincent and the Grenadines",
            "Israel",
            "Iceland",
            "Suriname",
            "Bolivia (Plurinational State of)",
            "Chile",
            "Argentina",
            "Trinidad and Tobago",
            "Guyana",
            "Dominican Republic",
            "Grenada",
            "Dominica",
            "Cuba",
            "Venezuela (Bolivarian Republic of)",
            "Nicaragua",
            "Panama",
            "Mexico",
            "Kuwait",
            "Lebanon",
            "Jordan",
            "Honduras",
            "Iraq",
            "El Salvador",
            "Iran (Islamic Republic of)",
            "Guatemala",
            "Bahrain",
            "Egypt",
            "Costa Rica",
            "Colombia",
            "Ecuador",
            "Peru",
            "Türkiye",
            "Tunisia",
            "Paraguay",
            "Syrian Arab Republic",
            "Saudi Arabia",
            "Algeria",
            "Qatar",
            "Oman",
            "Yemen",
            "Brazil",
            "United Arab Emirates",
            "Palestine",
            "Democratic Republic of the Congo",
            "Equatorial Guinea",
            "Congo",
            "Libya",
            "Rwanda",
            "Morocco",
            "Mozambique",
            "Angola",
            "Central African Republic",
            "Mauritius",
            "Madagascar",
            "Malawi",
            "Kenya",
            "Pakistan",
            "Nepal",
            "Bhutan",
            "Eritrea",
            "Ethiopia",
            "Lesotho",
            "Bangladesh",
            "India",
            "Djibouti",
            "Gabon",
            "Afghanistan",
            "Zimbabwe",
            "Eswatini",
            "Botswana",
            "United Republic of Tanzania",
            "Namibia",
            "Comoros",
            "Zambia",
            "Burundi",
            "South Africa",
            "Mali",
            "Somalia",
            "Uganda",
            "Guinea-Bissau",
            "Liberia",
            "Guinea",
            "Seychelles",
            "Ghana",
            "Côte d'Ivoire",
            "Gambia",
            "Monaco",
            "Nauru",
            "Chad",
            "Cameroon",
            "Cabo Verde",
            "Togo",
            "Guam",
            "Senegal",
            "Cook Islands",
            "Greenland",
            "Burkina Faso",
            "Nigeria",
            "Sao Tome and Principe",
            "American Samoa",
            "Sierra Leone",
            "Benin",
            "Niger",
            "Bermuda",
            "South Sudan",
            "United States Virgin Islands",
            "Mauritania",
            "Tuvalu",
            "Niue",
            "Northern Mariana Islands",
            "Tokelau",
            "San Marino",
            "Saint Kitts and Nevis",
            "Palau",
            "Puerto Rico",
            "Sudan"
           ],
           "type": "choropleth",
           "z": {
            "bdata": "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",
            "dtype": "f8"
           },
           "zmax": 24265.36555356327,
           "zmin": 8.83465557755024
          }
         ],
         "name": "2017"
        },
        {
         "data": [
          {
           "colorbar": {
            "title": {
             "text": "Prevalentie (Rate)"
            }
           },
           "colorscale": [
            [
             0,
             "rgb(255,245,240)"
            ],
            [
             0.125,
             "rgb(254,224,210)"
            ],
            [
             0.25,
             "rgb(252,187,161)"
            ],
            [
             0.375,
             "rgb(252,146,114)"
            ],
            [
             0.5,
             "rgb(251,106,74)"
            ],
            [
             0.625,
             "rgb(239,59,44)"
            ],
            [
             0.75,
             "rgb(203,24,29)"
            ],
            [
             0.875,
             "rgb(165,15,21)"
            ],
            [
             1,
             "rgb(103,0,13)"
            ]
           ],
           "locations": [
            "THA",
            "LKA",
            "VUT",
            "TON",
            "MMR",
            "PHL",
            "SLB",
            "TKM",
            "MYS",
            "MDV",
            "PNG",
            "TJK",
            "WSM",
            "LAO",
            "KGZ",
            "IDN",
            null,
            "GEO",
            "KHM",
            "KIR",
            "MNG",
            "FJI",
            "MHL",
            "KAZ",
            "PRK",
            "AZE",
            "VNM",
            null,
            "ARM",
            "BIH",
            "ALB",
            "CHN",
            "BLR",
            "UZB",
            "TLS",
            "SGP",
            "SVN",
            "SVK",
            "SRB",
            "JPN",
            null,
            "ROU",
            "POL",
            "BRN",
            "MNE",
            "DNK",
            "MKD",
            "UKR",
            "CYP",
            "RUS",
            "BEL",
            "FIN",
            "LTU",
            "AUT",
            "AND",
            "HUN",
            "MDA",
            "LVA",
            "BGR",
            "HRV",
            "NZL",
            "CZE",
            "GRC",
            "EST",
            "FRA",
            "DEU",
            "GBR",
            "AUS",
            "CHE",
            "SWE",
            "BLZ",
            "BRB",
            "ESP",
            "ATG",
            "BHS",
            "NOR",
            "PRT",
            "NLD",
            "USA",
            "CAN",
            "LUX",
            "LCA",
            "MLT",
            "IRL",
            "JAM",
            "HTI",
            "URY",
            "ITA",
            "VCT",
            "ISR",
            "ISL",
            "SUR",
            null,
            "CHL",
            "ARG",
            "TTO",
            "GUY",
            "DOM",
            "GRD",
            "DMA",
            "CUB",
            null,
            "NIC",
            "PAN",
            "MEX",
            "KWT",
            "LBN",
            "JOR",
            "HND",
            "IRQ",
            "SLV",
            null,
            "GTM",
            "BHR",
            "EGY",
            "CRI",
            "COL",
            "ECU",
            "PER",
            "TUR",
            "TUN",
            "PRY",
            "SYR",
            "SAU",
            "DZA",
            "QAT",
            "OMN",
            "YEM",
            "BRA",
            "ARE",
            null,
            null,
            "GNQ",
            "COG",
            "LBY",
            "RWA",
            "MAR",
            "MOZ",
            "AGO",
            "CAF",
            "MUS",
            "MDG",
            "MWI",
            "KEN",
            "PAK",
            "NPL",
            "BTN",
            "ERI",
            "ETH",
            "LSO",
            "BGD",
            "IND",
            "DJI",
            "GAB",
            "AFG",
            "ZWE",
            "SWZ",
            "BWA",
            "TZA",
            "NAM",
            "COM",
            "ZMB",
            "BDI",
            "ZAF",
            "MLI",
            "SOM",
            "UGA",
            "GNB",
            "LBR",
            "GIN",
            "SYC",
            "GHA",
            "CIV",
            "GMB",
            "MCO",
            "NRU",
            "TCD",
            "CMR",
            "CPV",
            "TGO",
            "GUM",
            "SEN",
            "COK",
            "GRL",
            "BFA",
            "NGA",
            "STP",
            "ASM",
            "SLE",
            "BEN",
            "NER",
            "BMU",
            "SSD",
            null,
            "MRT",
            "TUV",
            "NIU",
            "MNP",
            "TKL",
            "SMR",
            "KNA",
            "PLW",
            "PRI",
            "SDN"
           ],
           "text": [
            "Thailand",
            "Sri Lanka",
            "Vanuatu",
            "Tonga",
            "Myanmar",
            "Philippines",
            "Solomon Islands",
            "Turkmenistan",
            "Malaysia",
            "Maldives",
            "Papua New Guinea",
            "Tajikistan",
            "Samoa",
            "Lao People's Democratic Republic",
            "Kyrgyzstan",
            "Indonesia",
            "Micronesia (Federated States of)",
            "Georgia",
            "Cambodia",
            "Kiribati",
            "Mongolia",
            "Fiji",
            "Marshall Islands",
            "Kazakhstan",
            "Democratic People's Republic of Korea",
            "Azerbaijan",
            "Viet Nam",
            "Taiwan (Province of China)",
            "Armenia",
            "Bosnia and Herzegovina",
            "Albania",
            "China",
            "Belarus",
            "Uzbekistan",
            "Timor-Leste",
            "Singapore",
            "Slovenia",
            "Slovakia",
            "Serbia",
            "Japan",
            "Republic of Korea",
            "Romania",
            "Poland",
            "Brunei Darussalam",
            "Montenegro",
            "Denmark",
            "North Macedonia",
            "Ukraine",
            "Cyprus",
            "Russian Federation",
            "Belgium",
            "Finland",
            "Lithuania",
            "Austria",
            "Andorra",
            "Hungary",
            "Republic of Moldova",
            "Latvia",
            "Bulgaria",
            "Croatia",
            "New Zealand",
            "Czechia",
            "Greece",
            "Estonia",
            "France",
            "Germany",
            "United Kingdom",
            "Australia",
            "Switzerland",
            "Sweden",
            "Belize",
            "Barbados",
            "Spain",
            "Antigua and Barbuda",
            "Bahamas",
            "Norway",
            "Portugal",
            "Netherlands",
            "United States of America",
            "Canada",
            "Luxembourg",
            "Saint Lucia",
            "Malta",
            "Ireland",
            "Jamaica",
            "Haiti",
            "Uruguay",
            "Italy",
            "Saint Vincent and the Grenadines",
            "Israel",
            "Iceland",
            "Suriname",
            "Bolivia (Plurinational State of)",
            "Chile",
            "Argentina",
            "Trinidad and Tobago",
            "Guyana",
            "Dominican Republic",
            "Grenada",
            "Dominica",
            "Cuba",
            "Venezuela (Bolivarian Republic of)",
            "Nicaragua",
            "Panama",
            "Mexico",
            "Kuwait",
            "Lebanon",
            "Jordan",
            "Honduras",
            "Iraq",
            "El Salvador",
            "Iran (Islamic Republic of)",
            "Guatemala",
            "Bahrain",
            "Egypt",
            "Costa Rica",
            "Colombia",
            "Ecuador",
            "Peru",
            "Türkiye",
            "Tunisia",
            "Paraguay",
            "Syrian Arab Republic",
            "Saudi Arabia",
            "Algeria",
            "Qatar",
            "Oman",
            "Yemen",
            "Brazil",
            "United Arab Emirates",
            "Palestine",
            "Democratic Republic of the Congo",
            "Equatorial Guinea",
            "Congo",
            "Libya",
            "Rwanda",
            "Morocco",
            "Mozambique",
            "Angola",
            "Central African Republic",
            "Mauritius",
            "Madagascar",
            "Malawi",
            "Kenya",
            "Pakistan",
            "Nepal",
            "Bhutan",
            "Eritrea",
            "Ethiopia",
            "Lesotho",
            "Bangladesh",
            "India",
            "Djibouti",
            "Gabon",
            "Afghanistan",
            "Zimbabwe",
            "Eswatini",
            "Botswana",
            "United Republic of Tanzania",
            "Namibia",
            "Comoros",
            "Zambia",
            "Burundi",
            "South Africa",
            "Mali",
            "Somalia",
            "Uganda",
            "Guinea-Bissau",
            "Liberia",
            "Guinea",
            "Seychelles",
            "Ghana",
            "Côte d'Ivoire",
            "Gambia",
            "Monaco",
            "Nauru",
            "Chad",
            "Cameroon",
            "Cabo Verde",
            "Togo",
            "Guam",
            "Senegal",
            "Cook Islands",
            "Greenland",
            "Burkina Faso",
            "Nigeria",
            "Sao Tome and Principe",
            "American Samoa",
            "Sierra Leone",
            "Benin",
            "Niger",
            "Bermuda",
            "South Sudan",
            "United States Virgin Islands",
            "Mauritania",
            "Tuvalu",
            "Niue",
            "Northern Mariana Islands",
            "Tokelau",
            "San Marino",
            "Saint Kitts and Nevis",
            "Palau",
            "Puerto Rico",
            "Sudan"
           ],
           "type": "choropleth",
           "z": {
            "bdata": "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",
            "dtype": "f8"
           },
           "zmax": 24265.36555356327,
           "zmin": 8.83465557755024
          }
         ],
         "name": "2018"
        },
        {
         "data": [
          {
           "colorbar": {
            "title": {
             "text": "Prevalentie (Rate)"
            }
           },
           "colorscale": [
            [
             0,
             "rgb(255,245,240)"
            ],
            [
             0.125,
             "rgb(254,224,210)"
            ],
            [
             0.25,
             "rgb(252,187,161)"
            ],
            [
             0.375,
             "rgb(252,146,114)"
            ],
            [
             0.5,
             "rgb(251,106,74)"
            ],
            [
             0.625,
             "rgb(239,59,44)"
            ],
            [
             0.75,
             "rgb(203,24,29)"
            ],
            [
             0.875,
             "rgb(165,15,21)"
            ],
            [
             1,
             "rgb(103,0,13)"
            ]
           ],
           "locations": [
            "THA",
            "LKA",
            "VUT",
            "TON",
            "MMR",
            "PHL",
            "SLB",
            "TKM",
            "MYS",
            "MDV",
            "PNG",
            "TJK",
            "WSM",
            "LAO",
            "KGZ",
            "IDN",
            null,
            "GEO",
            "KHM",
            "KIR",
            "MNG",
            "FJI",
            "MHL",
            "KAZ",
            "PRK",
            "AZE",
            "VNM",
            null,
            "ARM",
            "BIH",
            "ALB",
            "CHN",
            "BLR",
            "UZB",
            "TLS",
            "SGP",
            "SVN",
            "SVK",
            "SRB",
            "JPN",
            null,
            "ROU",
            "POL",
            "BRN",
            "MNE",
            "DNK",
            "MKD",
            "UKR",
            "CYP",
            "RUS",
            "BEL",
            "FIN",
            "LTU",
            "AUT",
            "AND",
            "HUN",
            "MDA",
            "LVA",
            "BGR",
            "HRV",
            "NZL",
            "CZE",
            "GRC",
            "EST",
            "FRA",
            "DEU",
            "GBR",
            "AUS",
            "CHE",
            "SWE",
            "BLZ",
            "BRB",
            "ESP",
            "ATG",
            "BHS",
            "NOR",
            "PRT",
            "NLD",
            "USA",
            "CAN",
            "LUX",
            "LCA",
            "MLT",
            "IRL",
            "JAM",
            "HTI",
            "URY",
            "ITA",
            "VCT",
            "ISR",
            "ISL",
            "SUR",
            null,
            "CHL",
            "ARG",
            "TTO",
            "GUY",
            "DOM",
            "GRD",
            "DMA",
            "CUB",
            null,
            "NIC",
            "PAN",
            "MEX",
            "KWT",
            "LBN",
            "JOR",
            "HND",
            "IRQ",
            "SLV",
            null,
            "GTM",
            "BHR",
            "EGY",
            "CRI",
            "COL",
            "ECU",
            "PER",
            "TUR",
            "TUN",
            "PRY",
            "SYR",
            "SAU",
            "DZA",
            "QAT",
            "OMN",
            "YEM",
            "BRA",
            "ARE",
            null,
            null,
            "GNQ",
            "COG",
            "LBY",
            "RWA",
            "MAR",
            "MOZ",
            "AGO",
            "CAF",
            "MUS",
            "MDG",
            "MWI",
            "KEN",
            "PAK",
            "NPL",
            "BTN",
            "ERI",
            "ETH",
            "LSO",
            "BGD",
            "IND",
            "DJI",
            "GAB",
            "AFG",
            "ZWE",
            "SWZ",
            "BWA",
            "TZA",
            "NAM",
            "COM",
            "ZMB",
            "BDI",
            "ZAF",
            "MLI",
            "SOM",
            "UGA",
            "GNB",
            "LBR",
            "GIN",
            "SYC",
            "GHA",
            "CIV",
            "GMB",
            "MCO",
            "NRU",
            "TCD",
            "CMR",
            "CPV",
            "TGO",
            "GUM",
            "SEN",
            "COK",
            "GRL",
            "BFA",
            "NGA",
            "STP",
            "ASM",
            "SLE",
            "BEN",
            "NER",
            "BMU",
            "SSD",
            null,
            "MRT",
            "TUV",
            "NIU",
            "MNP",
            "TKL",
            "SMR",
            "KNA",
            "PLW",
            "PRI",
            "SDN"
           ],
           "text": [
            "Thailand",
            "Sri Lanka",
            "Vanuatu",
            "Tonga",
            "Myanmar",
            "Philippines",
            "Solomon Islands",
            "Turkmenistan",
            "Malaysia",
            "Maldives",
            "Papua New Guinea",
            "Tajikistan",
            "Samoa",
            "Lao People's Democratic Republic",
            "Kyrgyzstan",
            "Indonesia",
            "Micronesia (Federated States of)",
            "Georgia",
            "Cambodia",
            "Kiribati",
            "Mongolia",
            "Fiji",
            "Marshall Islands",
            "Kazakhstan",
            "Democratic People's Republic of Korea",
            "Azerbaijan",
            "Viet Nam",
            "Taiwan (Province of China)",
            "Armenia",
            "Bosnia and Herzegovina",
            "Albania",
            "China",
            "Belarus",
            "Uzbekistan",
            "Timor-Leste",
            "Singapore",
            "Slovenia",
            "Slovakia",
            "Serbia",
            "Japan",
            "Republic of Korea",
            "Romania",
            "Poland",
            "Brunei Darussalam",
            "Montenegro",
            "Denmark",
            "North Macedonia",
            "Ukraine",
            "Cyprus",
            "Russian Federation",
            "Belgium",
            "Finland",
            "Lithuania",
            "Austria",
            "Andorra",
            "Hungary",
            "Republic of Moldova",
            "Latvia",
            "Bulgaria",
            "Croatia",
            "New Zealand",
            "Czechia",
            "Greece",
            "Estonia",
            "France",
            "Germany",
            "United Kingdom",
            "Australia",
            "Switzerland",
            "Sweden",
            "Belize",
            "Barbados",
            "Spain",
            "Antigua and Barbuda",
            "Bahamas",
            "Norway",
            "Portugal",
            "Netherlands",
            "United States of America",
            "Canada",
            "Luxembourg",
            "Saint Lucia",
            "Malta",
            "Ireland",
            "Jamaica",
            "Haiti",
            "Uruguay",
            "Italy",
            "Saint Vincent and the Grenadines",
            "Israel",
            "Iceland",
            "Suriname",
            "Bolivia (Plurinational State of)",
            "Chile",
            "Argentina",
            "Trinidad and Tobago",
            "Guyana",
            "Dominican Republic",
            "Grenada",
            "Dominica",
            "Cuba",
            "Venezuela (Bolivarian Republic of)",
            "Nicaragua",
            "Panama",
            "Mexico",
            "Kuwait",
            "Lebanon",
            "Jordan",
            "Honduras",
            "Iraq",
            "El Salvador",
            "Iran (Islamic Republic of)",
            "Guatemala",
            "Bahrain",
            "Egypt",
            "Costa Rica",
            "Colombia",
            "Ecuador",
            "Peru",
            "Türkiye",
            "Tunisia",
            "Paraguay",
            "Syrian Arab Republic",
            "Saudi Arabia",
            "Algeria",
            "Qatar",
            "Oman",
            "Yemen",
            "Brazil",
            "United Arab Emirates",
            "Palestine",
            "Democratic Republic of the Congo",
            "Equatorial Guinea",
            "Congo",
            "Libya",
            "Rwanda",
            "Morocco",
            "Mozambique",
            "Angola",
            "Central African Republic",
            "Mauritius",
            "Madagascar",
            "Malawi",
            "Kenya",
            "Pakistan",
            "Nepal",
            "Bhutan",
            "Eritrea",
            "Ethiopia",
            "Lesotho",
            "Bangladesh",
            "India",
            "Djibouti",
            "Gabon",
            "Afghanistan",
            "Zimbabwe",
            "Eswatini",
            "Botswana",
            "United Republic of Tanzania",
            "Namibia",
            "Comoros",
            "Zambia",
            "Burundi",
            "South Africa",
            "Mali",
            "Somalia",
            "Uganda",
            "Guinea-Bissau",
            "Liberia",
            "Guinea",
            "Seychelles",
            "Ghana",
            "Côte d'Ivoire",
            "Gambia",
            "Monaco",
            "Nauru",
            "Chad",
            "Cameroon",
            "Cabo Verde",
            "Togo",
            "Guam",
            "Senegal",
            "Cook Islands",
            "Greenland",
            "Burkina Faso",
            "Nigeria",
            "Sao Tome and Principe",
            "American Samoa",
            "Sierra Leone",
            "Benin",
            "Niger",
            "Bermuda",
            "South Sudan",
            "United States Virgin Islands",
            "Mauritania",
            "Tuvalu",
            "Niue",
            "Northern Mariana Islands",
            "Tokelau",
            "San Marino",
            "Saint Kitts and Nevis",
            "Palau",
            "Puerto Rico",
            "Sudan"
           ],
           "type": "choropleth",
           "z": {
            "bdata": "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",
            "dtype": "f8"
           },
           "zmax": 24265.36555356327,
           "zmin": 8.83465557755024
          }
         ],
         "name": "2019"
        },
        {
         "data": [
          {
           "colorbar": {
            "title": {
             "text": "Prevalentie (Rate)"
            }
           },
           "colorscale": [
            [
             0,
             "rgb(255,245,240)"
            ],
            [
             0.125,
             "rgb(254,224,210)"
            ],
            [
             0.25,
             "rgb(252,187,161)"
            ],
            [
             0.375,
             "rgb(252,146,114)"
            ],
            [
             0.5,
             "rgb(251,106,74)"
            ],
            [
             0.625,
             "rgb(239,59,44)"
            ],
            [
             0.75,
             "rgb(203,24,29)"
            ],
            [
             0.875,
             "rgb(165,15,21)"
            ],
            [
             1,
             "rgb(103,0,13)"
            ]
           ],
           "locations": [
            "THA",
            "LKA",
            "VUT",
            "TON",
            "MMR",
            "PHL",
            "SLB",
            "TKM",
            "MYS",
            "MDV",
            "PNG",
            "TJK",
            "WSM",
            "LAO",
            "KGZ",
            "IDN",
            null,
            "GEO",
            "KHM",
            "KIR",
            "MNG",
            "FJI",
            "MHL",
            "KAZ",
            "PRK",
            "AZE",
            "VNM",
            null,
            "ARM",
            "BIH",
            "ALB",
            "CHN",
            "BLR",
            "UZB",
            "TLS",
            "SGP",
            "SVN",
            "SVK",
            "SRB",
            "JPN",
            null,
            "ROU",
            "POL",
            "BRN",
            "MNE",
            "DNK",
            "MKD",
            "UKR",
            "CYP",
            "RUS",
            "BEL",
            "FIN",
            "LTU",
            "AUT",
            "AND",
            "HUN",
            "MDA",
            "LVA",
            "BGR",
            "HRV",
            "NZL",
            "CZE",
            "GRC",
            "EST",
            "FRA",
            "DEU",
            "GBR",
            "AUS",
            "CHE",
            "SWE",
            "BLZ",
            "BRB",
            "ESP",
            "ATG",
            "BHS",
            "NOR",
            "PRT",
            "NLD",
            "USA",
            "CAN",
            "LUX",
            "LCA",
            "MLT",
            "IRL",
            "JAM",
            "HTI",
            "URY",
            "ITA",
            "VCT",
            "ISR",
            "ISL",
            "SUR",
            null,
            "CHL",
            "ARG",
            "TTO",
            "GUY",
            "DOM",
            "GRD",
            "DMA",
            "CUB",
            null,
            "NIC",
            "PAN",
            "MEX",
            "KWT",
            "LBN",
            "JOR",
            "HND",
            "IRQ",
            "SLV",
            null,
            "GTM",
            "BHR",
            "EGY",
            "CRI",
            "COL",
            "ECU",
            "PER",
            "TUR",
            "TUN",
            "PRY",
            "SYR",
            "SAU",
            "DZA",
            "QAT",
            "OMN",
            "YEM",
            "BRA",
            "ARE",
            null,
            null,
            "GNQ",
            "COG",
            "LBY",
            "RWA",
            "MAR",
            "MOZ",
            "AGO",
            "CAF",
            "MUS",
            "MDG",
            "MWI",
            "KEN",
            "PAK",
            "NPL",
            "BTN",
            "ERI",
            "ETH",
            "LSO",
            "BGD",
            "IND",
            "DJI",
            "GAB",
            "AFG",
            "ZWE",
            "SWZ",
            "BWA",
            "TZA",
            "NAM",
            "COM",
            "ZMB",
            "BDI",
            "ZAF",
            "MLI",
            "SOM",
            "UGA",
            "GNB",
            "LBR",
            "GIN",
            "SYC",
            "GHA",
            "CIV",
            "GMB",
            "MCO",
            "NRU",
            "TCD",
            "CMR",
            "CPV",
            "TGO",
            "GUM",
            "SEN",
            "COK",
            "GRL",
            "BFA",
            "NGA",
            "STP",
            "ASM",
            "SLE",
            "BEN",
            "NER",
            "BMU",
            "SSD",
            null,
            "MRT",
            "TUV",
            "NIU",
            "MNP",
            "TKL",
            "SMR",
            "KNA",
            "PLW",
            "PRI",
            "SDN"
           ],
           "text": [
            "Thailand",
            "Sri Lanka",
            "Vanuatu",
            "Tonga",
            "Myanmar",
            "Philippines",
            "Solomon Islands",
            "Turkmenistan",
            "Malaysia",
            "Maldives",
            "Papua New Guinea",
            "Tajikistan",
            "Samoa",
            "Lao People's Democratic Republic",
            "Kyrgyzstan",
            "Indonesia",
            "Micronesia (Federated States of)",
            "Georgia",
            "Cambodia",
            "Kiribati",
            "Mongolia",
            "Fiji",
            "Marshall Islands",
            "Kazakhstan",
            "Democratic People's Republic of Korea",
            "Azerbaijan",
            "Viet Nam",
            "Taiwan (Province of China)",
            "Armenia",
            "Bosnia and Herzegovina",
            "Albania",
            "China",
            "Belarus",
            "Uzbekistan",
            "Timor-Leste",
            "Singapore",
            "Slovenia",
            "Slovakia",
            "Serbia",
            "Japan",
            "Republic of Korea",
            "Romania",
            "Poland",
            "Brunei Darussalam",
            "Montenegro",
            "Denmark",
            "North Macedonia",
            "Ukraine",
            "Cyprus",
            "Russian Federation",
            "Belgium",
            "Finland",
            "Lithuania",
            "Austria",
            "Andorra",
            "Hungary",
            "Republic of Moldova",
            "Latvia",
            "Bulgaria",
            "Croatia",
            "New Zealand",
            "Czechia",
            "Greece",
            "Estonia",
            "France",
            "Germany",
            "United Kingdom",
            "Australia",
            "Switzerland",
            "Sweden",
            "Belize",
            "Barbados",
            "Spain",
            "Antigua and Barbuda",
            "Bahamas",
            "Norway",
            "Portugal",
            "Netherlands",
            "United States of America",
            "Canada",
            "Luxembourg",
            "Saint Lucia",
            "Malta",
            "Ireland",
            "Jamaica",
            "Haiti",
            "Uruguay",
            "Italy",
            "Saint Vincent and the Grenadines",
            "Israel",
            "Iceland",
            "Suriname",
            "Bolivia (Plurinational State of)",
            "Chile",
            "Argentina",
            "Trinidad and Tobago",
            "Guyana",
            "Dominican Republic",
            "Grenada",
            "Dominica",
            "Cuba",
            "Venezuela (Bolivarian Republic of)",
            "Nicaragua",
            "Panama",
            "Mexico",
            "Kuwait",
            "Lebanon",
            "Jordan",
            "Honduras",
            "Iraq",
            "El Salvador",
            "Iran (Islamic Republic of)",
            "Guatemala",
            "Bahrain",
            "Egypt",
            "Costa Rica",
            "Colombia",
            "Ecuador",
            "Peru",
            "Türkiye",
            "Tunisia",
            "Paraguay",
            "Syrian Arab Republic",
            "Saudi Arabia",
            "Algeria",
            "Qatar",
            "Oman",
            "Yemen",
            "Brazil",
            "United Arab Emirates",
            "Palestine",
            "Democratic Republic of the Congo",
            "Equatorial Guinea",
            "Congo",
            "Libya",
            "Rwanda",
            "Morocco",
            "Mozambique",
            "Angola",
            "Central African Republic",
            "Mauritius",
            "Madagascar",
            "Malawi",
            "Kenya",
            "Pakistan",
            "Nepal",
            "Bhutan",
            "Eritrea",
            "Ethiopia",
            "Lesotho",
            "Bangladesh",
            "India",
            "Djibouti",
            "Gabon",
            "Afghanistan",
            "Zimbabwe",
            "Eswatini",
            "Botswana",
            "United Republic of Tanzania",
            "Namibia",
            "Comoros",
            "Zambia",
            "Burundi",
            "South Africa",
            "Mali",
            "Somalia",
            "Uganda",
            "Guinea-Bissau",
            "Liberia",
            "Guinea",
            "Seychelles",
            "Ghana",
            "Côte d'Ivoire",
            "Gambia",
            "Monaco",
            "Nauru",
            "Chad",
            "Cameroon",
            "Cabo Verde",
            "Togo",
            "Guam",
            "Senegal",
            "Cook Islands",
            "Greenland",
            "Burkina Faso",
            "Nigeria",
            "Sao Tome and Principe",
            "American Samoa",
            "Sierra Leone",
            "Benin",
            "Niger",
            "Bermuda",
            "South Sudan",
            "United States Virgin Islands",
            "Mauritania",
            "Tuvalu",
            "Niue",
            "Northern Mariana Islands",
            "Tokelau",
            "San Marino",
            "Saint Kitts and Nevis",
            "Palau",
            "Puerto Rico",
            "Sudan"
           ],
           "type": "choropleth",
           "z": {
            "bdata": "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",
            "dtype": "f8"
           },
           "zmax": 24265.36555356327,
           "zmin": 8.83465557755024
          }
         ],
         "name": "2020"
        },
        {
         "data": [
          {
           "colorbar": {
            "title": {
             "text": "Prevalentie (Rate)"
            }
           },
           "colorscale": [
            [
             0,
             "rgb(255,245,240)"
            ],
            [
             0.125,
             "rgb(254,224,210)"
            ],
            [
             0.25,
             "rgb(252,187,161)"
            ],
            [
             0.375,
             "rgb(252,146,114)"
            ],
            [
             0.5,
             "rgb(251,106,74)"
            ],
            [
             0.625,
             "rgb(239,59,44)"
            ],
            [
             0.75,
             "rgb(203,24,29)"
            ],
            [
             0.875,
             "rgb(165,15,21)"
            ],
            [
             1,
             "rgb(103,0,13)"
            ]
           ],
           "locations": [
            "THA",
            "LKA",
            "VUT",
            "TON",
            "MMR",
            "PHL",
            "SLB",
            "TKM",
            "MYS",
            "MDV",
            "PNG",
            "TJK",
            "WSM",
            "LAO",
            "KGZ",
            "IDN",
            null,
            "GEO",
            "KHM",
            "KIR",
            "MNG",
            "FJI",
            "MHL",
            "KAZ",
            "PRK",
            "AZE",
            "VNM",
            null,
            "ARM",
            "BIH",
            "ALB",
            "CHN",
            "BLR",
            "UZB",
            "TLS",
            "SGP",
            "SVN",
            "SVK",
            "SRB",
            "JPN",
            null,
            "ROU",
            "POL",
            "BRN",
            "MNE",
            "DNK",
            "MKD",
            "UKR",
            "CYP",
            "RUS",
            "BEL",
            "FIN",
            "LTU",
            "AUT",
            "AND",
            "HUN",
            "MDA",
            "LVA",
            "BGR",
            "HRV",
            "NZL",
            "CZE",
            "GRC",
            "EST",
            "FRA",
            "DEU",
            "GBR",
            "AUS",
            "CHE",
            "SWE",
            "BLZ",
            "BRB",
            "ESP",
            "ATG",
            "BHS",
            "NOR",
            "PRT",
            "NLD",
            "USA",
            "CAN",
            "LUX",
            "LCA",
            "MLT",
            "IRL",
            "JAM",
            "HTI",
            "URY",
            "ITA",
            "VCT",
            "ISR",
            "ISL",
            "SUR",
            null,
            "CHL",
            "ARG",
            "TTO",
            "GUY",
            "DOM",
            "GRD",
            "DMA",
            "CUB",
            null,
            "NIC",
            "PAN",
            "MEX",
            "KWT",
            "LBN",
            "JOR",
            "HND",
            "IRQ",
            "SLV",
            null,
            "GTM",
            "BHR",
            "EGY",
            "CRI",
            "COL",
            "ECU",
            "PER",
            "TUR",
            "TUN",
            "PRY",
            "SYR",
            "SAU",
            "DZA",
            "QAT",
            "OMN",
            "YEM",
            "BRA",
            "ARE",
            null,
            null,
            "GNQ",
            "COG",
            "LBY",
            "RWA",
            "MAR",
            "MOZ",
            "AGO",
            "CAF",
            "MUS",
            "MDG",
            "MWI",
            "KEN",
            "PAK",
            "NPL",
            "BTN",
            "ERI",
            "ETH",
            "LSO",
            "BGD",
            "IND",
            "DJI",
            "GAB",
            "AFG",
            "ZWE",
            "SWZ",
            "BWA",
            "TZA",
            "NAM",
            "COM",
            "ZMB",
            "BDI",
            "ZAF",
            "MLI",
            "SOM",
            "UGA",
            "GNB",
            "LBR",
            "GIN",
            "SYC",
            "GHA",
            "CIV",
            "GMB",
            "MCO",
            "NRU",
            "TCD",
            "CMR",
            "CPV",
            "TGO",
            "GUM",
            "SEN",
            "COK",
            "GRL",
            "BFA",
            "NGA",
            "STP",
            "ASM",
            "SLE",
            "BEN",
            "NER",
            "BMU",
            "SSD",
            null,
            "MRT",
            "TUV",
            "NIU",
            "MNP",
            "TKL",
            "SMR",
            "KNA",
            "PLW",
            "PRI",
            "SDN"
           ],
           "text": [
            "Thailand",
            "Sri Lanka",
            "Vanuatu",
            "Tonga",
            "Myanmar",
            "Philippines",
            "Solomon Islands",
            "Turkmenistan",
            "Malaysia",
            "Maldives",
            "Papua New Guinea",
            "Tajikistan",
            "Samoa",
            "Lao People's Democratic Republic",
            "Kyrgyzstan",
            "Indonesia",
            "Micronesia (Federated States of)",
            "Georgia",
            "Cambodia",
            "Kiribati",
            "Mongolia",
            "Fiji",
            "Marshall Islands",
            "Kazakhstan",
            "Democratic People's Republic of Korea",
            "Azerbaijan",
            "Viet Nam",
            "Taiwan (Province of China)",
            "Armenia",
            "Bosnia and Herzegovina",
            "Albania",
            "China",
            "Belarus",
            "Uzbekistan",
            "Timor-Leste",
            "Singapore",
            "Slovenia",
            "Slovakia",
            "Serbia",
            "Japan",
            "Republic of Korea",
            "Romania",
            "Poland",
            "Brunei Darussalam",
            "Montenegro",
            "Denmark",
            "North Macedonia",
            "Ukraine",
            "Cyprus",
            "Russian Federation",
            "Belgium",
            "Finland",
            "Lithuania",
            "Austria",
            "Andorra",
            "Hungary",
            "Republic of Moldova",
            "Latvia",
            "Bulgaria",
            "Croatia",
            "New Zealand",
            "Czechia",
            "Greece",
            "Estonia",
            "France",
            "Germany",
            "United Kingdom",
            "Australia",
            "Switzerland",
            "Sweden",
            "Belize",
            "Barbados",
            "Spain",
            "Antigua and Barbuda",
            "Bahamas",
            "Norway",
            "Portugal",
            "Netherlands",
            "United States of America",
            "Canada",
            "Luxembourg",
            "Saint Lucia",
            "Malta",
            "Ireland",
            "Jamaica",
            "Haiti",
            "Uruguay",
            "Italy",
            "Saint Vincent and the Grenadines",
            "Israel",
            "Iceland",
            "Suriname",
            "Bolivia (Plurinational State of)",
            "Chile",
            "Argentina",
            "Trinidad and Tobago",
            "Guyana",
            "Dominican Republic",
            "Grenada",
            "Dominica",
            "Cuba",
            "Venezuela (Bolivarian Republic of)",
            "Nicaragua",
            "Panama",
            "Mexico",
            "Kuwait",
            "Lebanon",
            "Jordan",
            "Honduras",
            "Iraq",
            "El Salvador",
            "Iran (Islamic Republic of)",
            "Guatemala",
            "Bahrain",
            "Egypt",
            "Costa Rica",
            "Colombia",
            "Ecuador",
            "Peru",
            "Türkiye",
            "Tunisia",
            "Paraguay",
            "Syrian Arab Republic",
            "Saudi Arabia",
            "Algeria",
            "Qatar",
            "Oman",
            "Yemen",
            "Brazil",
            "United Arab Emirates",
            "Palestine",
            "Democratic Republic of the Congo",
            "Equatorial Guinea",
            "Congo",
            "Libya",
            "Rwanda",
            "Morocco",
            "Mozambique",
            "Angola",
            "Central African Republic",
            "Mauritius",
            "Madagascar",
            "Malawi",
            "Kenya",
            "Pakistan",
            "Nepal",
            "Bhutan",
            "Eritrea",
            "Ethiopia",
            "Lesotho",
            "Bangladesh",
            "India",
            "Djibouti",
            "Gabon",
            "Afghanistan",
            "Zimbabwe",
            "Eswatini",
            "Botswana",
            "United Republic of Tanzania",
            "Namibia",
            "Comoros",
            "Zambia",
            "Burundi",
            "South Africa",
            "Mali",
            "Somalia",
            "Uganda",
            "Guinea-Bissau",
            "Liberia",
            "Guinea",
            "Seychelles",
            "Ghana",
            "Côte d'Ivoire",
            "Gambia",
            "Monaco",
            "Nauru",
            "Chad",
            "Cameroon",
            "Cabo Verde",
            "Togo",
            "Guam",
            "Senegal",
            "Cook Islands",
            "Greenland",
            "Burkina Faso",
            "Nigeria",
            "Sao Tome and Principe",
            "American Samoa",
            "Sierra Leone",
            "Benin",
            "Niger",
            "Bermuda",
            "South Sudan",
            "United States Virgin Islands",
            "Mauritania",
            "Tuvalu",
            "Niue",
            "Northern Mariana Islands",
            "Tokelau",
            "San Marino",
            "Saint Kitts and Nevis",
            "Palau",
            "Puerto Rico",
            "Sudan"
           ],
           "type": "choropleth",
           "z": {
            "bdata": "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",
            "dtype": "f8"
           },
           "zmax": 24265.36555356327,
           "zmin": 8.83465557755024
          }
         ],
         "name": "2021"
        }
       ],
       "layout": {
        "geo": {
         "projection": {
          "type": "natural earth"
         },
         "showcoastlines": true,
         "showframe": false
        },
        "sliders": [
         {
          "currentvalue": {
           "font": {
            "size": 16
           },
           "prefix": "Jaar: "
          },
          "len": 0.8,
          "pad": {
           "b": 10,
           "t": 50
          },
          "steps": [
           {
            "args": [
             [
              "2015"
             ],
             {
              "frame": {
               "duration": 800,
               "redraw": true
              },
              "mode": "immediate",
              "transition": {
               "duration": 0
              }
             }
            ],
            "label": "2015",
            "method": "animate"
           },
           {
            "args": [
             [
              "2016"
             ],
             {
              "frame": {
               "duration": 800,
               "redraw": true
              },
              "mode": "immediate",
              "transition": {
               "duration": 0
              }
             }
            ],
            "label": "2016",
            "method": "animate"
           },
           {
            "args": [
             [
              "2017"
             ],
             {
              "frame": {
               "duration": 800,
               "redraw": true
              },
              "mode": "immediate",
              "transition": {
               "duration": 0
              }
             }
            ],
            "label": "2017",
            "method": "animate"
           },
           {
            "args": [
             [
              "2018"
             ],
             {
              "frame": {
               "duration": 800,
               "redraw": true
              },
              "mode": "immediate",
              "transition": {
               "duration": 0
              }
             }
            ],
            "label": "2018",
            "method": "animate"
           },
           {
            "args": [
             [
              "2019"
             ],
             {
              "frame": {
               "duration": 800,
               "redraw": true
              },
              "mode": "immediate",
              "transition": {
               "duration": 0
              }
             }
            ],
            "label": "2019",
            "method": "animate"
           },
           {
            "args": [
             [
              "2020"
             ],
             {
              "frame": {
               "duration": 800,
               "redraw": true
              },
              "mode": "immediate",
              "transition": {
               "duration": 0
              }
             }
            ],
            "label": "2020",
            "method": "animate"
           },
           {
            "args": [
             [
              "2021"
             ],
             {
              "frame": {
               "duration": 800,
               "redraw": true
              },
              "mode": "immediate",
              "transition": {
               "duration": 0
              }
             }
            ],
            "label": "2021",
            "method": "animate"
           }
          ],
          "transition": {
           "duration": 0
          },
          "x": 0.1,
          "xanchor": "left",
          "yanchor": "top"
         }
        ],
        "template": {
         "data": {
          "bar": [
           {
            "error_x": {
             "color": "#2a3f5f"
            },
            "error_y": {
             "color": "#2a3f5f"
            },
            "marker": {
             "line": {
              "color": "#E5ECF6",
              "width": 0.5
             },
             "pattern": {
              "fillmode": "overlay",
              "size": 10,
              "solidity": 0.2
             }
            },
            "type": "bar"
           }
          ],
          "barpolar": [
           {
            "marker": {
             "line": {
              "color": "#E5ECF6",
              "width": 0.5
             },
             "pattern": {
              "fillmode": "overlay",
              "size": 10,
              "solidity": 0.2
             }
            },
            "type": "barpolar"
           }
          ],
          "carpet": [
           {
            "aaxis": {
             "endlinecolor": "#2a3f5f",
             "gridcolor": "white",
             "linecolor": "white",
             "minorgridcolor": "white",
             "startlinecolor": "#2a3f5f"
            },
            "baxis": {
             "endlinecolor": "#2a3f5f",
             "gridcolor": "white",
             "linecolor": "white",
             "minorgridcolor": "white",
             "startlinecolor": "#2a3f5f"
            },
            "type": "carpet"
           }
          ],
          "choropleth": [
           {
            "colorbar": {
             "outlinewidth": 0,
             "ticks": ""
            },
            "type": "choropleth"
           }
          ],
          "contour": [
           {
            "colorbar": {
             "outlinewidth": 0,
             "ticks": ""
            },
            "colorscale": [
             [
              0,
              "#0d0887"
             ],
             [
              0.1111111111111111,
              "#46039f"
             ],
             [
              0.2222222222222222,
              "#7201a8"
             ],
             [
              0.3333333333333333,
              "#9c179e"
             ],
             [
              0.4444444444444444,
              "#bd3786"
             ],
             [
              0.5555555555555556,
              "#d8576b"
             ],
             [
              0.6666666666666666,
              "#ed7953"
             ],
             [
              0.7777777777777778,
              "#fb9f3a"
             ],
             [
              0.8888888888888888,
              "#fdca26"
             ],
             [
              1,
              "#f0f921"
             ]
            ],
            "type": "contour"
           }
          ],
          "contourcarpet": [
           {
            "colorbar": {
             "outlinewidth": 0,
             "ticks": ""
            },
            "type": "contourcarpet"
           }
          ],
          "heatmap": [
           {
            "colorbar": {
             "outlinewidth": 0,
             "ticks": ""
            },
            "colorscale": [
             [
              0,
              "#0d0887"
             ],
             [
              0.1111111111111111,
              "#46039f"
             ],
             [
              0.2222222222222222,
              "#7201a8"
             ],
             [
              0.3333333333333333,
              "#9c179e"
             ],
             [
              0.4444444444444444,
              "#bd3786"
             ],
             [
              0.5555555555555556,
              "#d8576b"
             ],
             [
              0.6666666666666666,
              "#ed7953"
             ],
             [
              0.7777777777777778,
              "#fb9f3a"
             ],
             [
              0.8888888888888888,
              "#fdca26"
             ],
             [
              1,
              "#f0f921"
             ]
            ],
            "type": "heatmap"
           }
          ],
          "histogram": [
           {
            "marker": {
             "pattern": {
              "fillmode": "overlay",
              "size": 10,
              "solidity": 0.2
             }
            },
            "type": "histogram"
           }
          ],
          "histogram2d": [
           {
            "colorbar": {
             "outlinewidth": 0,
             "ticks": ""
            },
            "colorscale": [
             [
              0,
              "#0d0887"
             ],
             [
              0.1111111111111111,
              "#46039f"
             ],
             [
              0.2222222222222222,
              "#7201a8"
             ],
             [
              0.3333333333333333,
              "#9c179e"
             ],
             [
              0.4444444444444444,
              "#bd3786"
             ],
             [
              0.5555555555555556,
              "#d8576b"
             ],
             [
              0.6666666666666666,
              "#ed7953"
             ],
             [
              0.7777777777777778,
              "#fb9f3a"
             ],
             [
              0.8888888888888888,
              "#fdca26"
             ],
             [
              1,
              "#f0f921"
             ]
            ],
            "type": "histogram2d"
           }
          ],
          "histogram2dcontour": [
           {
            "colorbar": {
             "outlinewidth": 0,
             "ticks": ""
            },
            "colorscale": [
             [
              0,
              "#0d0887"
             ],
             [
              0.1111111111111111,
              "#46039f"
             ],
             [
              0.2222222222222222,
              "#7201a8"
             ],
             [
              0.3333333333333333,
              "#9c179e"
             ],
             [
              0.4444444444444444,
              "#bd3786"
             ],
             [
              0.5555555555555556,
              "#d8576b"
             ],
             [
              0.6666666666666666,
              "#ed7953"
             ],
             [
              0.7777777777777778,
              "#fb9f3a"
             ],
             [
              0.8888888888888888,
              "#fdca26"
             ],
             [
              1,
              "#f0f921"
             ]
            ],
            "type": "histogram2dcontour"
           }
          ],
          "mesh3d": [
           {
            "colorbar": {
             "outlinewidth": 0,
             "ticks": ""
            },
            "type": "mesh3d"
           }
          ],
          "parcoords": [
           {
            "line": {
             "colorbar": {
              "outlinewidth": 0,
              "ticks": ""
             }
            },
            "type": "parcoords"
           }
          ],
          "pie": [
           {
            "automargin": true,
            "type": "pie"
           }
          ],
          "scatter": [
           {
            "fillpattern": {
             "fillmode": "overlay",
             "size": 10,
             "solidity": 0.2
            },
            "type": "scatter"
           }
          ],
          "scatter3d": [
           {
            "line": {
             "colorbar": {
              "outlinewidth": 0,
              "ticks": ""
             }
            },
            "marker": {
             "colorbar": {
              "outlinewidth": 0,
              "ticks": ""
             }
            },
            "type": "scatter3d"
           }
          ],
          "scattercarpet": [
           {
            "marker": {
             "colorbar": {
              "outlinewidth": 0,
              "ticks": ""
             }
            },
            "type": "scattercarpet"
           }
          ],
          "scattergeo": [
           {
            "marker": {
             "colorbar": {
              "outlinewidth": 0,
              "ticks": ""
             }
            },
            "type": "scattergeo"
           }
          ],
          "scattergl": [
           {
            "marker": {
             "colorbar": {
              "outlinewidth": 0,
              "ticks": ""
             }
            },
            "type": "scattergl"
           }
          ],
          "scattermap": [
           {
            "marker": {
             "colorbar": {
              "outlinewidth": 0,
              "ticks": ""
             }
            },
            "type": "scattermap"
           }
          ],
          "scattermapbox": [
           {
            "marker": {
             "colorbar": {
              "outlinewidth": 0,
              "ticks": ""
             }
            },
            "type": "scattermapbox"
           }
          ],
          "scatterpolar": [
           {
            "marker": {
             "colorbar": {
              "outlinewidth": 0,
              "ticks": ""
             }
            },
            "type": "scatterpolar"
           }
          ],
          "scatterpolargl": [
           {
            "marker": {
             "colorbar": {
              "outlinewidth": 0,
              "ticks": ""
             }
            },
            "type": "scatterpolargl"
           }
          ],
          "scatterternary": [
           {
            "marker": {
             "colorbar": {
              "outlinewidth": 0,
              "ticks": ""
             }
            },
            "type": "scatterternary"
           }
          ],
          "surface": [
           {
            "colorbar": {
             "outlinewidth": 0,
             "ticks": ""
            },
            "colorscale": [
             [
              0,
              "#0d0887"
             ],
             [
              0.1111111111111111,
              "#46039f"
             ],
             [
              0.2222222222222222,
              "#7201a8"
             ],
             [
              0.3333333333333333,
              "#9c179e"
             ],
             [
              0.4444444444444444,
              "#bd3786"
             ],
             [
              0.5555555555555556,
              "#d8576b"
             ],
             [
              0.6666666666666666,
              "#ed7953"
             ],
             [
              0.7777777777777778,
              "#fb9f3a"
             ],
             [
              0.8888888888888888,
              "#fdca26"
             ],
             [
              1,
              "#f0f921"
             ]
            ],
            "type": "surface"
           }
          ],
          "table": [
           {
            "cells": {
             "fill": {
              "color": "#EBF0F8"
             },
             "line": {
              "color": "white"
             }
            },
            "header": {
             "fill": {
              "color": "#C8D4E3"
             },
             "line": {
              "color": "white"
             }
            },
            "type": "table"
           }
          ]
         },
         "layout": {
          "annotationdefaults": {
           "arrowcolor": "#2a3f5f",
           "arrowhead": 0,
           "arrowwidth": 1
          },
          "autotypenumbers": "strict",
          "coloraxis": {
           "colorbar": {
            "outlinewidth": 0,
            "ticks": ""
           }
          },
          "colorscale": {
           "diverging": [
            [
             0,
             "#8e0152"
            ],
            [
             0.1,
             "#c51b7d"
            ],
            [
             0.2,
             "#de77ae"
            ],
            [
             0.3,
             "#f1b6da"
            ],
            [
             0.4,
             "#fde0ef"
            ],
            [
             0.5,
             "#f7f7f7"
            ],
            [
             0.6,
             "#e6f5d0"
            ],
            [
             0.7,
             "#b8e186"
            ],
            [
             0.8,
             "#7fbc41"
            ],
            [
             0.9,
             "#4d9221"
            ],
            [
             1,
             "#276419"
            ]
           ],
           "sequential": [
            [
             0,
             "#0d0887"
            ],
            [
             0.1111111111111111,
             "#46039f"
            ],
            [
             0.2222222222222222,
             "#7201a8"
            ],
            [
             0.3333333333333333,
             "#9c179e"
            ],
            [
             0.4444444444444444,
             "#bd3786"
            ],
            [
             0.5555555555555556,
             "#d8576b"
            ],
            [
             0.6666666666666666,
             "#ed7953"
            ],
            [
             0.7777777777777778,
             "#fb9f3a"
            ],
            [
             0.8888888888888888,
             "#fdca26"
            ],
            [
             1,
             "#f0f921"
            ]
           ],
           "sequentialminus": [
            [
             0,
             "#0d0887"
            ],
            [
             0.1111111111111111,
             "#46039f"
            ],
            [
             0.2222222222222222,
             "#7201a8"
            ],
            [
             0.3333333333333333,
             "#9c179e"
            ],
            [
             0.4444444444444444,
             "#bd3786"
            ],
            [
             0.5555555555555556,
             "#d8576b"
            ],
            [
             0.6666666666666666,
             "#ed7953"
            ],
            [
             0.7777777777777778,
             "#fb9f3a"
            ],
            [
             0.8888888888888888,
             "#fdca26"
            ],
            [
             1,
             "#f0f921"
            ]
           ]
          },
          "colorway": [
           "#636efa",
           "#EF553B",
           "#00cc96",
           "#ab63fa",
           "#FFA15A",
           "#19d3f3",
           "#FF6692",
           "#B6E880",
           "#FF97FF",
           "#FECB52"
          ],
          "font": {
           "color": "#2a3f5f"
          },
          "geo": {
           "bgcolor": "white",
           "lakecolor": "white",
           "landcolor": "#E5ECF6",
           "showlakes": true,
           "showland": true,
           "subunitcolor": "white"
          },
          "hoverlabel": {
           "align": "left"
          },
          "hovermode": "closest",
          "mapbox": {
           "style": "light"
          },
          "paper_bgcolor": "white",
          "plot_bgcolor": "#E5ECF6",
          "polar": {
           "angularaxis": {
            "gridcolor": "white",
            "linecolor": "white",
            "ticks": ""
           },
           "bgcolor": "#E5ECF6",
           "radialaxis": {
            "gridcolor": "white",
            "linecolor": "white",
            "ticks": ""
           }
          },
          "scene": {
           "xaxis": {
            "backgroundcolor": "#E5ECF6",
            "gridcolor": "white",
            "gridwidth": 2,
            "linecolor": "white",
            "showbackground": true,
            "ticks": "",
            "zerolinecolor": "white"
           },
           "yaxis": {
            "backgroundcolor": "#E5ECF6",
            "gridcolor": "white",
            "gridwidth": 2,
            "linecolor": "white",
            "showbackground": true,
            "ticks": "",
            "zerolinecolor": "white"
           },
           "zaxis": {
            "backgroundcolor": "#E5ECF6",
            "gridcolor": "white",
            "gridwidth": 2,
            "linecolor": "white",
            "showbackground": true,
            "ticks": "",
            "zerolinecolor": "white"
           }
          },
          "shapedefaults": {
           "line": {
            "color": "#2a3f5f"
           }
          },
          "ternary": {
           "aaxis": {
            "gridcolor": "white",
            "linecolor": "white",
            "ticks": ""
           },
           "baxis": {
            "gridcolor": "white",
            "linecolor": "white",
            "ticks": ""
           },
           "bgcolor": "#E5ECF6",
           "caxis": {
            "gridcolor": "white",
            "linecolor": "white",
            "ticks": ""
           }
          },
          "title": {
           "x": 0.05
          },
          "xaxis": {
           "automargin": true,
           "gridcolor": "white",
           "linecolor": "white",
           "ticks": "",
           "title": {
            "standoff": 15
           },
           "zerolinecolor": "white",
           "zerolinewidth": 2
          },
          "yaxis": {
           "automargin": true,
           "gridcolor": "white",
           "linecolor": "white",
           "ticks": "",
           "title": {
            "standoff": 15
           },
           "zerolinecolor": "white",
           "zerolinewidth": 2
          }
         }
        },
        "title": {
         "text": "Mental Disorders – Both – Rate – 2015"
        },
        "updatemenus": [
         {
          "buttons": [
           {
            "args": [
             null,
             {
              "frame": {
               "duration": 800,
               "redraw": true
              },
              "fromcurrent": true
             }
            ],
            "label": "▶️",
            "method": "animate"
           },
           {
            "args": [
             [
              null
             ],
             {
              "frame": {
               "duration": 0
              },
              "mode": "immediate",
              "transition": {
               "duration": 0
              }
             }
            ],
            "label": "⏸️",
            "method": "animate"
           }
          ],
          "pad": {
           "r": 10,
           "t": 70
          },
          "showactive": false,
          "type": "buttons",
          "x": 0.05,
          "xanchor": "right",
          "y": 1.12,
          "yanchor": "top"
         }
        ]
       }
      },
      "text/html": [
       "<div>            <script src=\"https://cdnjs.cloudflare.com/ajax/libs/mathjax/2.7.5/MathJax.js?config=TeX-AMS-MML_SVG\"></script><script type=\"text/javascript\">if (window.MathJax && window.MathJax.Hub && window.MathJax.Hub.Config) {window.MathJax.Hub.Config({SVG: {font: \"STIX-Web\"}});}</script>                <script type=\"text/javascript\">window.PlotlyConfig = {MathJaxConfig: 'local'};</script>\n",
       "        <script charset=\"utf-8\" src=\"https://cdn.plot.ly/plotly-3.0.1.min.js\"></script>                <div id=\"9cf75d8c-ffa8-49a0-ac9f-4a5c76872abe\" class=\"plotly-graph-div\" style=\"height:525px; width:100%;\"></div>            <script type=\"text/javascript\">                window.PLOTLYENV=window.PLOTLYENV || {};                                if (document.getElementById(\"9cf75d8c-ffa8-49a0-ac9f-4a5c76872abe\")) {                    Plotly.newPlot(                        \"9cf75d8c-ffa8-49a0-ac9f-4a5c76872abe\",                        [{\"colorbar\":{\"title\":{\"text\":\"Prevalentie (Rate)\"}},\"colorscale\":[[0.0,\"rgb(255,245,240)\"],[0.125,\"rgb(254,224,210)\"],[0.25,\"rgb(252,187,161)\"],[0.375,\"rgb(252,146,114)\"],[0.5,\"rgb(251,106,74)\"],[0.625,\"rgb(239,59,44)\"],[0.75,\"rgb(203,24,29)\"],[0.875,\"rgb(165,15,21)\"],[1.0,\"rgb(103,0,13)\"]],\"locations\":[\"THA\",\"LKA\",\"VUT\",\"TON\",\"MMR\",\"PHL\",\"SLB\",\"TKM\",\"MYS\",\"MDV\",\"PNG\",\"TJK\",\"WSM\",\"LAO\",\"KGZ\",\"IDN\",null,\"GEO\",\"KHM\",\"KIR\",\"MNG\",\"FJI\",\"MHL\",\"KAZ\",\"PRK\",\"AZE\",\"VNM\",null,\"ARM\",\"BIH\",\"ALB\",\"CHN\",\"BLR\",\"UZB\",\"TLS\",\"SGP\",\"SVN\",\"SVK\",\"SRB\",\"JPN\",null,\"ROU\",\"POL\",\"BRN\",\"MNE\",\"DNK\",\"MKD\",\"UKR\",\"CYP\",\"RUS\",\"BEL\",\"FIN\",\"LTU\",\"AUT\",\"AND\",\"HUN\",\"MDA\",\"LVA\",\"BGR\",\"HRV\",\"NZL\",\"CZE\",\"GRC\",\"EST\",\"FRA\",\"DEU\",\"GBR\",\"AUS\",\"CHE\",\"SWE\",\"BLZ\",\"BRB\",\"ESP\",\"ATG\",\"BHS\",\"NOR\",\"PRT\",\"NLD\",\"USA\",\"CAN\",\"LUX\",\"LCA\",\"MLT\",\"IRL\",\"JAM\",\"HTI\",\"URY\",\"ITA\",\"VCT\",\"ISR\",\"ISL\",\"SUR\",null,\"CHL\",\"ARG\",\"TTO\",\"GUY\",\"DOM\",\"GRD\",\"DMA\",\"CUB\",null,\"NIC\",\"PAN\",\"MEX\",\"KWT\",\"LBN\",\"JOR\",\"HND\",\"IRQ\",\"SLV\",null,\"GTM\",\"BHR\",\"EGY\",\"CRI\",\"COL\",\"ECU\",\"PER\",\"TUR\",\"TUN\",\"PRY\",\"SYR\",\"SAU\",\"DZA\",\"QAT\",\"OMN\",\"YEM\",\"BRA\",\"ARE\",null,null,\"GNQ\",\"COG\",\"LBY\",\"RWA\",\"MAR\",\"MOZ\",\"AGO\",\"CAF\",\"MUS\",\"MDG\",\"MWI\",\"KEN\",\"PAK\",\"NPL\",\"BTN\",\"ERI\",\"ETH\",\"LSO\",\"BGD\",\"IND\",\"DJI\",\"GAB\",\"AFG\",\"ZWE\",\"SWZ\",\"BWA\",\"TZA\",\"NAM\",\"COM\",\"ZMB\",\"BDI\",\"ZAF\",\"MLI\",\"SOM\",\"UGA\",\"GNB\",\"LBR\",\"GIN\",\"SYC\",\"GHA\",\"CIV\",\"GMB\",\"MCO\",\"NRU\",\"TCD\",\"CMR\",\"CPV\",\"TGO\",\"GUM\",\"SEN\",\"COK\",\"GRL\",\"BFA\",\"NGA\",\"STP\",\"ASM\",\"SLE\",\"BEN\",\"NER\",\"BMU\",\"SSD\",null,\"MRT\",\"TUV\",\"NIU\",\"MNP\",\"TKL\",\"SMR\",\"KNA\",\"PLW\",\"PRI\",\"SDN\"],\"text\":[\"Thailand\",\"Sri Lanka\",\"Vanuatu\",\"Tonga\",\"Myanmar\",\"Philippines\",\"Solomon Islands\",\"Turkmenistan\",\"Malaysia\",\"Maldives\",\"Papua New Guinea\",\"Tajikistan\",\"Samoa\",\"Lao People's Democratic Republic\",\"Kyrgyzstan\",\"Indonesia\",\"Micronesia (Federated States of)\",\"Georgia\",\"Cambodia\",\"Kiribati\",\"Mongolia\",\"Fiji\",\"Marshall Islands\",\"Kazakhstan\",\"Democratic People's Republic of Korea\",\"Azerbaijan\",\"Viet Nam\",\"Taiwan (Province of China)\",\"Armenia\",\"Bosnia and Herzegovina\",\"Albania\",\"China\",\"Belarus\",\"Uzbekistan\",\"Timor-Leste\",\"Singapore\",\"Slovenia\",\"Slovakia\",\"Serbia\",\"Japan\",\"Republic of Korea\",\"Romania\",\"Poland\",\"Brunei Darussalam\",\"Montenegro\",\"Denmark\",\"North Macedonia\",\"Ukraine\",\"Cyprus\",\"Russian Federation\",\"Belgium\",\"Finland\",\"Lithuania\",\"Austria\",\"Andorra\",\"Hungary\",\"Republic of Moldova\",\"Latvia\",\"Bulgaria\",\"Croatia\",\"New Zealand\",\"Czechia\",\"Greece\",\"Estonia\",\"France\",\"Germany\",\"United Kingdom\",\"Australia\",\"Switzerland\",\"Sweden\",\"Belize\",\"Barbados\",\"Spain\",\"Antigua and Barbuda\",\"Bahamas\",\"Norway\",\"Portugal\",\"Netherlands\",\"United States of America\",\"Canada\",\"Luxembourg\",\"Saint Lucia\",\"Malta\",\"Ireland\",\"Jamaica\",\"Haiti\",\"Uruguay\",\"Italy\",\"Saint Vincent and the Grenadines\",\"Israel\",\"Iceland\",\"Suriname\",\"Bolivia (Plurinational State of)\",\"Chile\",\"Argentina\",\"Trinidad and Tobago\",\"Guyana\",\"Dominican Republic\",\"Grenada\",\"Dominica\",\"Cuba\",\"Venezuela (Bolivarian Republic of)\",\"Nicaragua\",\"Panama\",\"Mexico\",\"Kuwait\",\"Lebanon\",\"Jordan\",\"Honduras\",\"Iraq\",\"El Salvador\",\"Iran (Islamic Republic of)\",\"Guatemala\",\"Bahrain\",\"Egypt\",\"Costa Rica\",\"Colombia\",\"Ecuador\",\"Peru\",\"T\\u00fcrkiye\",\"Tunisia\",\"Paraguay\",\"Syrian Arab Republic\",\"Saudi Arabia\",\"Algeria\",\"Qatar\",\"Oman\",\"Yemen\",\"Brazil\",\"United Arab Emirates\",\"Palestine\",\"Democratic Republic of the Congo\",\"Equatorial Guinea\",\"Congo\",\"Libya\",\"Rwanda\",\"Morocco\",\"Mozambique\",\"Angola\",\"Central African Republic\",\"Mauritius\",\"Madagascar\",\"Malawi\",\"Kenya\",\"Pakistan\",\"Nepal\",\"Bhutan\",\"Eritrea\",\"Ethiopia\",\"Lesotho\",\"Bangladesh\",\"India\",\"Djibouti\",\"Gabon\",\"Afghanistan\",\"Zimbabwe\",\"Eswatini\",\"Botswana\",\"United Republic of Tanzania\",\"Namibia\",\"Comoros\",\"Zambia\",\"Burundi\",\"South Africa\",\"Mali\",\"Somalia\",\"Uganda\",\"Guinea-Bissau\",\"Liberia\",\"Guinea\",\"Seychelles\",\"Ghana\",\"C\\u00f4te d'Ivoire\",\"Gambia\",\"Monaco\",\"Nauru\",\"Chad\",\"Cameroon\",\"Cabo Verde\",\"Togo\",\"Guam\",\"Senegal\",\"Cook Islands\",\"Greenland\",\"Burkina Faso\",\"Nigeria\",\"Sao Tome and Principe\",\"American Samoa\",\"Sierra Leone\",\"Benin\",\"Niger\",\"Bermuda\",\"South Sudan\",\"United States Virgin Islands\",\"Mauritania\",\"Tuvalu\",\"Niue\",\"Northern Mariana Islands\",\"Tokelau\",\"San Marino\",\"Saint Kitts and Nevis\",\"Palau\",\"Puerto Rico\",\"Sudan\"],\"z\":{\"dtype\":\"f8\",\"bdata\":\"3jn3mx6UyEDSPxiMQNTFQHntCZOQi8RASEJ4+mMnxEChOS2H5oXEQAiq9SJyQMVAMH5fp1TTxEBjAQl613nDQJ3UKOTnMsdAtH9Lwj+KxUAANe\\u002fFGKbEQEQG9W3ODMNABQ26aww2xECgIyuq+yTGQLdEx14aJsRA8rEQ3+N5xEDUPZZIwJXFQH70ZAUVZMZA+89bp8wXxkCWEyStJkvFQCW6\\u002f4UXn8RAvDQSLWZMxUAdCPOzYDDFQLSXLRv6VsRASUOTn9aZxkCisy4DUtfDQGpO0Sj+WsJArCWkc+VxxkAfugP\\u002fRLTFQMHpDWIHx8dALpAGOJvOxkCqsA6IsprGQLMAr5ErDspAJqJcS7jlw0CvE7a5sTjDQJBKwIKD\\u002fsVA\\u002fdSv3s2hyEDMRlCgd2bHQEbgfM9srcdA7GW1ER7VxEAgOW8RwEjHQIjxJ3ZfEsdA5773RtKPxUCaXCc3hw7FQJn2cPs4d8dAmxtpyxu0zECvpEIVVivHQIDnAmA1sslAojOjH8b9zUBMVZ0EPZzHQJkIrNx4ysxAVm68OIFVzEDAqXoqTfLLQKfqUYsVp81AiGtgbQ9gzkBsE+Wb3hrIQJsoVAqs1MlAg7Oj4yNMykCAUTeMxrzHQIBOHX0heMhA7MSD1RST0UD1YJ3\\u002f34bHQDPM7\\u002f9hctBADjCz+nO2yUB3eWFxw+PPQHXVrz2tVM5Awflg8XlczUA1WgJlR+fRQJTs5qk2wtBAo3G8vdZJzkAL4JhbolbLQK1MHCM+fMxAWog+KPK80UA7LmRvsCHMQJHSkjSHF8xAuLvk6+Eaz0BLWYeFgwLSQAaKuRanb89AHb0nA0yHz0Bqvyu3EH3LQJrmbZh8Gc1AWR729GbwzEAiLf9T9aLNQNrWTlEZo9BATvp9qjy7y0Ck2oBQs7rLQBQYMslVhctAbX8vl9kWzkBEtsmLHjvMQOhjvmUp4MpA25k9bOs\\u002fzECO1FT1DT\\u002fOQAAQQVKL78tArlj6Xj2rzUAfjpkcN+7JQHkjI5Zz18xAeRqhrGSrzkBVpb7dl8XMQOHuNK87TcxAK1Lh0S7sy0CgwUvE+CjOQOSVuWkxdspABlBHl520yEB4tBGoGrLHQCgreCspnsdA3+sYdff4zEA2Zwy0wazQQIWH3w\\u002fK0stA4C834oqlx0BrxYlBzlvLQNXVZhaKEslA\\u002fSsufng500BM6uLG4nfIQDPeX7w8WM5AeGMzDb+zykCsodH0NZnJQAhxJwVNA8dAmwC1ws1fy0DxWy32hE7KQLdi7YWzRcxAQZqd79WLz0DKVoKn\\u002fCPOQHSDY0FIjc1A7+LX4ZF2zEDonmw7Ah7MQHg9W\\u002fTNeM1ALvdyT\\u002feLy0A9YR8UkF7LQELUmQtIudBAPg0jAG3Ry0B\\u002fC2RGIBbQQCprxVXB6cZA+XzV3a98xkD\\u002fWKpLm07HQDAGf\\u002fbCNs5Ay28DfhY3xkDh3xxMnn7OQEMIrpKGvMRAL9UEti5bxUArynQgOwjIQFChu73HqchAe53oL0gkxUASaGsI+C7EQDJKIjirLMVABAdFumAix0C55wbAijjJQAz0eR0LNsdA35k5i+DfxUA6q1lbJQLFQPR5bPw7\\u002f8dALdf8ZVv3xUCDhq43b9DKQP87W+y5AsZAweW\\u002f7OOcx0AebbXNzDTNQObwCSCWzcJA1jvrjgZmxUBgYOnXam7GQLRrT46ZqcRAZ7VIEoB9xED596SkwtTFQA12y8l5zsNAhTbKQvABxUCLwbMUCoPHQMcCzzM+M8FAzF0gQ5o3xkDBDtj5HSHGQD7ienh\\u002fTsNAFvkCr3IOxUCGH36M1SzDQN+h1WM9QcVAn6R5TPcCxECtlr+aGe3CQBVRH\\u002fhOCsVA8yF+sH4Dz0AGyYXdkZDEQDBrXWnXDcNA98M5sAeFw0CpC9ffRRjHQA54DIlMdsRAwHP4Ano+xkBR\\u002fEHEJtfCQEWn7H0ptMZAA7uoUHA10UA5rd2DoGnDQJsh5x236cFA3M1B4hA1w0D0JSq74p3EQKy\\u002fuCdjTsRAo8SpThr1wkCP02QSGPvBQHloeP280MxAd9i7CafbxEAcW4tlHmvMQHwhIbotAMJAQf57WrsqxkDMBSnQkZ7GQGoVfkH8AMZAR6+s1IwexkD0fq2iKxHPQFfJWJ0uY85AEZr05Wcjx0CRDZJskerLQPbM7K7zX8xA\"},\"zmax\":24265.36555356327,\"zmin\":8.83465557755024,\"type\":\"choropleth\"}],                        {\"geo\":{\"projection\":{\"type\":\"natural earth\"},\"showcoastlines\":true,\"showframe\":false},\"sliders\":[{\"currentvalue\":{\"font\":{\"size\":16},\"prefix\":\"Jaar: \"},\"len\":0.8,\"pad\":{\"b\":10,\"t\":50},\"steps\":[{\"args\":[[\"2015\"],{\"mode\":\"immediate\",\"frame\":{\"duration\":800,\"redraw\":true},\"transition\":{\"duration\":0}}],\"label\":\"2015\",\"method\":\"animate\"},{\"args\":[[\"2016\"],{\"mode\":\"immediate\",\"frame\":{\"duration\":800,\"redraw\":true},\"transition\":{\"duration\":0}}],\"label\":\"2016\",\"method\":\"animate\"},{\"args\":[[\"2017\"],{\"mode\":\"immediate\",\"frame\":{\"duration\":800,\"redraw\":true},\"transition\":{\"duration\":0}}],\"label\":\"2017\",\"method\":\"animate\"},{\"args\":[[\"2018\"],{\"mode\":\"immediate\",\"frame\":{\"duration\":800,\"redraw\":true},\"transition\":{\"duration\":0}}],\"label\":\"2018\",\"method\":\"animate\"},{\"args\":[[\"2019\"],{\"mode\":\"immediate\",\"frame\":{\"duration\":800,\"redraw\":true},\"transition\":{\"duration\":0}}],\"label\":\"2019\",\"method\":\"animate\"},{\"args\":[[\"2020\"],{\"mode\":\"immediate\",\"frame\":{\"duration\":800,\"redraw\":true},\"transition\":{\"duration\":0}}],\"label\":\"2020\",\"method\":\"animate\"},{\"args\":[[\"2021\"],{\"mode\":\"immediate\",\"frame\":{\"duration\":800,\"redraw\":true},\"transition\":{\"duration\":0}}],\"label\":\"2021\",\"method\":\"animate\"}],\"transition\":{\"duration\":0},\"x\":0.1,\"xanchor\":\"left\",\"yanchor\":\"top\"}],\"title\":{\"text\":\"Mental Disorders \\u2013 Both \\u2013 Rate \\u2013 2015\"},\"updatemenus\":[{\"buttons\":[{\"args\":[null,{\"frame\":{\"duration\":800,\"redraw\":true},\"fromcurrent\":true}],\"label\":\"\\u25b6\\ufe0f\",\"method\":\"animate\"},{\"args\":[[null],{\"mode\":\"immediate\",\"frame\":{\"duration\":0},\"transition\":{\"duration\":0}}],\"label\":\"\\u23f8\\ufe0f\",\"method\":\"animate\"}],\"pad\":{\"r\":10,\"t\":70},\"showactive\":false,\"type\":\"buttons\",\"x\":0.05,\"xanchor\":\"right\",\"y\":1.12,\"yanchor\":\"top\"}],\"template\":{\"data\":{\"histogram2dcontour\":[{\"type\":\"histogram2dcontour\",\"colorbar\":{\"outlinewidth\":0,\"ticks\":\"\"},\"colorscale\":[[0.0,\"#0d0887\"],[0.1111111111111111,\"#46039f\"],[0.2222222222222222,\"#7201a8\"],[0.3333333333333333,\"#9c179e\"],[0.4444444444444444,\"#bd3786\"],[0.5555555555555556,\"#d8576b\"],[0.6666666666666666,\"#ed7953\"],[0.7777777777777778,\"#fb9f3a\"],[0.8888888888888888,\"#fdca26\"],[1.0,\"#f0f921\"]]}],\"choropleth\":[{\"type\":\"choropleth\",\"colorbar\":{\"outlinewidth\":0,\"ticks\":\"\"}}],\"histogram2d\":[{\"type\":\"histogram2d\",\"colorbar\":{\"outlinewidth\":0,\"ticks\":\"\"},\"colorscale\":[[0.0,\"#0d0887\"],[0.1111111111111111,\"#46039f\"],[0.2222222222222222,\"#7201a8\"],[0.3333333333333333,\"#9c179e\"],[0.4444444444444444,\"#bd3786\"],[0.5555555555555556,\"#d8576b\"],[0.6666666666666666,\"#ed7953\"],[0.7777777777777778,\"#fb9f3a\"],[0.8888888888888888,\"#fdca26\"],[1.0,\"#f0f921\"]]}],\"heatmap\":[{\"type\":\"heatmap\",\"colorbar\":{\"outlinewidth\":0,\"ticks\":\"\"},\"colorscale\":[[0.0,\"#0d0887\"],[0.1111111111111111,\"#46039f\"],[0.2222222222222222,\"#7201a8\"],[0.3333333333333333,\"#9c179e\"],[0.4444444444444444,\"#bd3786\"],[0.5555555555555556,\"#d8576b\"],[0.6666666666666666,\"#ed7953\"],[0.7777777777777778,\"#fb9f3a\"],[0.8888888888888888,\"#fdca26\"],[1.0,\"#f0f921\"]]}],\"contourcarpet\":[{\"type\":\"contourcarpet\",\"colorbar\":{\"outlinewidth\":0,\"ticks\":\"\"}}],\"contour\":[{\"type\":\"contour\",\"colorbar\":{\"outlinewidth\":0,\"ticks\":\"\"},\"colorscale\":[[0.0,\"#0d0887\"],[0.1111111111111111,\"#46039f\"],[0.2222222222222222,\"#7201a8\"],[0.3333333333333333,\"#9c179e\"],[0.4444444444444444,\"#bd3786\"],[0.5555555555555556,\"#d8576b\"],[0.6666666666666666,\"#ed7953\"],[0.7777777777777778,\"#fb9f3a\"],[0.8888888888888888,\"#fdca26\"],[1.0,\"#f0f921\"]]}],\"surface\":[{\"type\":\"surface\",\"colorbar\":{\"outlinewidth\":0,\"ticks\":\"\"},\"colorscale\":[[0.0,\"#0d0887\"],[0.1111111111111111,\"#46039f\"],[0.2222222222222222,\"#7201a8\"],[0.3333333333333333,\"#9c179e\"],[0.4444444444444444,\"#bd3786\"],[0.5555555555555556,\"#d8576b\"],[0.6666666666666666,\"#ed7953\"],[0.7777777777777778,\"#fb9f3a\"],[0.8888888888888888,\"#fdca26\"],[1.0,\"#f0f921\"]]}],\"mesh3d\":[{\"type\":\"mesh3d\",\"colorbar\":{\"outlinewidth\":0,\"ticks\":\"\"}}],\"scatter\":[{\"fillpattern\":{\"fillmode\":\"overlay\",\"size\":10,\"solidity\":0.2},\"type\":\"scatter\"}],\"parcoords\":[{\"type\":\"parcoords\",\"line\":{\"colorbar\":{\"outlinewidth\":0,\"ticks\":\"\"}}}],\"scatterpolargl\":[{\"type\":\"scatterpolargl\",\"marker\":{\"colorbar\":{\"outlinewidth\":0,\"ticks\":\"\"}}}],\"bar\":[{\"error_x\":{\"color\":\"#2a3f5f\"},\"error_y\":{\"color\":\"#2a3f5f\"},\"marker\":{\"line\":{\"color\":\"#E5ECF6\",\"width\":0.5},\"pattern\":{\"fillmode\":\"overlay\",\"size\":10,\"solidity\":0.2}},\"type\":\"bar\"}],\"scattergeo\":[{\"type\":\"scattergeo\",\"marker\":{\"colorbar\":{\"outlinewidth\":0,\"ticks\":\"\"}}}],\"scatterpolar\":[{\"type\":\"scatterpolar\",\"marker\":{\"colorbar\":{\"outlinewidth\":0,\"ticks\":\"\"}}}],\"histogram\":[{\"marker\":{\"pattern\":{\"fillmode\":\"overlay\",\"size\":10,\"solidity\":0.2}},\"type\":\"histogram\"}],\"scattergl\":[{\"type\":\"scattergl\",\"marker\":{\"colorbar\":{\"outlinewidth\":0,\"ticks\":\"\"}}}],\"scatter3d\":[{\"type\":\"scatter3d\",\"line\":{\"colorbar\":{\"outlinewidth\":0,\"ticks\":\"\"}},\"marker\":{\"colorbar\":{\"outlinewidth\":0,\"ticks\":\"\"}}}],\"scattermap\":[{\"type\":\"scattermap\",\"marker\":{\"colorbar\":{\"outlinewidth\":0,\"ticks\":\"\"}}}],\"scattermapbox\":[{\"type\":\"scattermapbox\",\"marker\":{\"colorbar\":{\"outlinewidth\":0,\"ticks\":\"\"}}}],\"scatterternary\":[{\"type\":\"scatterternary\",\"marker\":{\"colorbar\":{\"outlinewidth\":0,\"ticks\":\"\"}}}],\"scattercarpet\":[{\"type\":\"scattercarpet\",\"marker\":{\"colorbar\":{\"outlinewidth\":0,\"ticks\":\"\"}}}],\"carpet\":[{\"aaxis\":{\"endlinecolor\":\"#2a3f5f\",\"gridcolor\":\"white\",\"linecolor\":\"white\",\"minorgridcolor\":\"white\",\"startlinecolor\":\"#2a3f5f\"},\"baxis\":{\"endlinecolor\":\"#2a3f5f\",\"gridcolor\":\"white\",\"linecolor\":\"white\",\"minorgridcolor\":\"white\",\"startlinecolor\":\"#2a3f5f\"},\"type\":\"carpet\"}],\"table\":[{\"cells\":{\"fill\":{\"color\":\"#EBF0F8\"},\"line\":{\"color\":\"white\"}},\"header\":{\"fill\":{\"color\":\"#C8D4E3\"},\"line\":{\"color\":\"white\"}},\"type\":\"table\"}],\"barpolar\":[{\"marker\":{\"line\":{\"color\":\"#E5ECF6\",\"width\":0.5},\"pattern\":{\"fillmode\":\"overlay\",\"size\":10,\"solidity\":0.2}},\"type\":\"barpolar\"}],\"pie\":[{\"automargin\":true,\"type\":\"pie\"}]},\"layout\":{\"autotypenumbers\":\"strict\",\"colorway\":[\"#636efa\",\"#EF553B\",\"#00cc96\",\"#ab63fa\",\"#FFA15A\",\"#19d3f3\",\"#FF6692\",\"#B6E880\",\"#FF97FF\",\"#FECB52\"],\"font\":{\"color\":\"#2a3f5f\"},\"hovermode\":\"closest\",\"hoverlabel\":{\"align\":\"left\"},\"paper_bgcolor\":\"white\",\"plot_bgcolor\":\"#E5ECF6\",\"polar\":{\"bgcolor\":\"#E5ECF6\",\"angularaxis\":{\"gridcolor\":\"white\",\"linecolor\":\"white\",\"ticks\":\"\"},\"radialaxis\":{\"gridcolor\":\"white\",\"linecolor\":\"white\",\"ticks\":\"\"}},\"ternary\":{\"bgcolor\":\"#E5ECF6\",\"aaxis\":{\"gridcolor\":\"white\",\"linecolor\":\"white\",\"ticks\":\"\"},\"baxis\":{\"gridcolor\":\"white\",\"linecolor\":\"white\",\"ticks\":\"\"},\"caxis\":{\"gridcolor\":\"white\",\"linecolor\":\"white\",\"ticks\":\"\"}},\"coloraxis\":{\"colorbar\":{\"outlinewidth\":0,\"ticks\":\"\"}},\"colorscale\":{\"sequential\":[[0.0,\"#0d0887\"],[0.1111111111111111,\"#46039f\"],[0.2222222222222222,\"#7201a8\"],[0.3333333333333333,\"#9c179e\"],[0.4444444444444444,\"#bd3786\"],[0.5555555555555556,\"#d8576b\"],[0.6666666666666666,\"#ed7953\"],[0.7777777777777778,\"#fb9f3a\"],[0.8888888888888888,\"#fdca26\"],[1.0,\"#f0f921\"]],\"sequentialminus\":[[0.0,\"#0d0887\"],[0.1111111111111111,\"#46039f\"],[0.2222222222222222,\"#7201a8\"],[0.3333333333333333,\"#9c179e\"],[0.4444444444444444,\"#bd3786\"],[0.5555555555555556,\"#d8576b\"],[0.6666666666666666,\"#ed7953\"],[0.7777777777777778,\"#fb9f3a\"],[0.8888888888888888,\"#fdca26\"],[1.0,\"#f0f921\"]],\"diverging\":[[0,\"#8e0152\"],[0.1,\"#c51b7d\"],[0.2,\"#de77ae\"],[0.3,\"#f1b6da\"],[0.4,\"#fde0ef\"],[0.5,\"#f7f7f7\"],[0.6,\"#e6f5d0\"],[0.7,\"#b8e186\"],[0.8,\"#7fbc41\"],[0.9,\"#4d9221\"],[1,\"#276419\"]]},\"xaxis\":{\"gridcolor\":\"white\",\"linecolor\":\"white\",\"ticks\":\"\",\"title\":{\"standoff\":15},\"zerolinecolor\":\"white\",\"automargin\":true,\"zerolinewidth\":2},\"yaxis\":{\"gridcolor\":\"white\",\"linecolor\":\"white\",\"ticks\":\"\",\"title\":{\"standoff\":15},\"zerolinecolor\":\"white\",\"automargin\":true,\"zerolinewidth\":2},\"scene\":{\"xaxis\":{\"backgroundcolor\":\"#E5ECF6\",\"gridcolor\":\"white\",\"linecolor\":\"white\",\"showbackground\":true,\"ticks\":\"\",\"zerolinecolor\":\"white\",\"gridwidth\":2},\"yaxis\":{\"backgroundcolor\":\"#E5ECF6\",\"gridcolor\":\"white\",\"linecolor\":\"white\",\"showbackground\":true,\"ticks\":\"\",\"zerolinecolor\":\"white\",\"gridwidth\":2},\"zaxis\":{\"backgroundcolor\":\"#E5ECF6\",\"gridcolor\":\"white\",\"linecolor\":\"white\",\"showbackground\":true,\"ticks\":\"\",\"zerolinecolor\":\"white\",\"gridwidth\":2}},\"shapedefaults\":{\"line\":{\"color\":\"#2a3f5f\"}},\"annotationdefaults\":{\"arrowcolor\":\"#2a3f5f\",\"arrowhead\":0,\"arrowwidth\":1},\"geo\":{\"bgcolor\":\"white\",\"landcolor\":\"#E5ECF6\",\"subunitcolor\":\"white\",\"showland\":true,\"showlakes\":true,\"lakecolor\":\"white\"},\"title\":{\"x\":0.05},\"mapbox\":{\"style\":\"light\"}}}},                        {\"responsive\": true}                    ).then(function(){\n",
       "                            Plotly.addFrames('9cf75d8c-ffa8-49a0-ac9f-4a5c76872abe', [{\"data\":[{\"colorbar\":{\"title\":{\"text\":\"Prevalentie (Rate)\"}},\"colorscale\":[[0.0,\"rgb(255,245,240)\"],[0.125,\"rgb(254,224,210)\"],[0.25,\"rgb(252,187,161)\"],[0.375,\"rgb(252,146,114)\"],[0.5,\"rgb(251,106,74)\"],[0.625,\"rgb(239,59,44)\"],[0.75,\"rgb(203,24,29)\"],[0.875,\"rgb(165,15,21)\"],[1.0,\"rgb(103,0,13)\"]],\"locations\":[\"THA\",\"LKA\",\"VUT\",\"TON\",\"MMR\",\"PHL\",\"SLB\",\"TKM\",\"MYS\",\"MDV\",\"PNG\",\"TJK\",\"WSM\",\"LAO\",\"KGZ\",\"IDN\",null,\"GEO\",\"KHM\",\"KIR\",\"MNG\",\"FJI\",\"MHL\",\"KAZ\",\"PRK\",\"AZE\",\"VNM\",null,\"ARM\",\"BIH\",\"ALB\",\"CHN\",\"BLR\",\"UZB\",\"TLS\",\"SGP\",\"SVN\",\"SVK\",\"SRB\",\"JPN\",null,\"ROU\",\"POL\",\"BRN\",\"MNE\",\"DNK\",\"MKD\",\"UKR\",\"CYP\",\"RUS\",\"BEL\",\"FIN\",\"LTU\",\"AUT\",\"AND\",\"HUN\",\"MDA\",\"LVA\",\"BGR\",\"HRV\",\"NZL\",\"CZE\",\"GRC\",\"EST\",\"FRA\",\"DEU\",\"GBR\",\"AUS\",\"CHE\",\"SWE\",\"BLZ\",\"BRB\",\"ESP\",\"ATG\",\"BHS\",\"NOR\",\"PRT\",\"NLD\",\"USA\",\"CAN\",\"LUX\",\"LCA\",\"MLT\",\"IRL\",\"JAM\",\"HTI\",\"URY\",\"ITA\",\"VCT\",\"ISR\",\"ISL\",\"SUR\",null,\"CHL\",\"ARG\",\"TTO\",\"GUY\",\"DOM\",\"GRD\",\"DMA\",\"CUB\",null,\"NIC\",\"PAN\",\"MEX\",\"KWT\",\"LBN\",\"JOR\",\"HND\",\"IRQ\",\"SLV\",null,\"GTM\",\"BHR\",\"EGY\",\"CRI\",\"COL\",\"ECU\",\"PER\",\"TUR\",\"TUN\",\"PRY\",\"SYR\",\"SAU\",\"DZA\",\"QAT\",\"OMN\",\"YEM\",\"BRA\",\"ARE\",null,null,\"GNQ\",\"COG\",\"LBY\",\"RWA\",\"MAR\",\"MOZ\",\"AGO\",\"CAF\",\"MUS\",\"MDG\",\"MWI\",\"KEN\",\"PAK\",\"NPL\",\"BTN\",\"ERI\",\"ETH\",\"LSO\",\"BGD\",\"IND\",\"DJI\",\"GAB\",\"AFG\",\"ZWE\",\"SWZ\",\"BWA\",\"TZA\",\"NAM\",\"COM\",\"ZMB\",\"BDI\",\"ZAF\",\"MLI\",\"SOM\",\"UGA\",\"GNB\",\"LBR\",\"GIN\",\"SYC\",\"GHA\",\"CIV\",\"GMB\",\"MCO\",\"NRU\",\"TCD\",\"CMR\",\"CPV\",\"TGO\",\"GUM\",\"SEN\",\"COK\",\"GRL\",\"BFA\",\"NGA\",\"STP\",\"ASM\",\"SLE\",\"BEN\",\"NER\",\"BMU\",\"SSD\",null,\"MRT\",\"TUV\",\"NIU\",\"MNP\",\"TKL\",\"SMR\",\"KNA\",\"PLW\",\"PRI\",\"SDN\"],\"text\":[\"Thailand\",\"Sri Lanka\",\"Vanuatu\",\"Tonga\",\"Myanmar\",\"Philippines\",\"Solomon Islands\",\"Turkmenistan\",\"Malaysia\",\"Maldives\",\"Papua New Guinea\",\"Tajikistan\",\"Samoa\",\"Lao People's Democratic Republic\",\"Kyrgyzstan\",\"Indonesia\",\"Micronesia (Federated States of)\",\"Georgia\",\"Cambodia\",\"Kiribati\",\"Mongolia\",\"Fiji\",\"Marshall Islands\",\"Kazakhstan\",\"Democratic People's Republic of Korea\",\"Azerbaijan\",\"Viet Nam\",\"Taiwan (Province of China)\",\"Armenia\",\"Bosnia and Herzegovina\",\"Albania\",\"China\",\"Belarus\",\"Uzbekistan\",\"Timor-Leste\",\"Singapore\",\"Slovenia\",\"Slovakia\",\"Serbia\",\"Japan\",\"Republic of Korea\",\"Romania\",\"Poland\",\"Brunei Darussalam\",\"Montenegro\",\"Denmark\",\"North Macedonia\",\"Ukraine\",\"Cyprus\",\"Russian Federation\",\"Belgium\",\"Finland\",\"Lithuania\",\"Austria\",\"Andorra\",\"Hungary\",\"Republic of Moldova\",\"Latvia\",\"Bulgaria\",\"Croatia\",\"New Zealand\",\"Czechia\",\"Greece\",\"Estonia\",\"France\",\"Germany\",\"United Kingdom\",\"Australia\",\"Switzerland\",\"Sweden\",\"Belize\",\"Barbados\",\"Spain\",\"Antigua and Barbuda\",\"Bahamas\",\"Norway\",\"Portugal\",\"Netherlands\",\"United States of America\",\"Canada\",\"Luxembourg\",\"Saint Lucia\",\"Malta\",\"Ireland\",\"Jamaica\",\"Haiti\",\"Uruguay\",\"Italy\",\"Saint Vincent and the Grenadines\",\"Israel\",\"Iceland\",\"Suriname\",\"Bolivia (Plurinational State of)\",\"Chile\",\"Argentina\",\"Trinidad and Tobago\",\"Guyana\",\"Dominican Republic\",\"Grenada\",\"Dominica\",\"Cuba\",\"Venezuela (Bolivarian Republic of)\",\"Nicaragua\",\"Panama\",\"Mexico\",\"Kuwait\",\"Lebanon\",\"Jordan\",\"Honduras\",\"Iraq\",\"El Salvador\",\"Iran (Islamic Republic of)\",\"Guatemala\",\"Bahrain\",\"Egypt\",\"Costa Rica\",\"Colombia\",\"Ecuador\",\"Peru\",\"T\\u00fcrkiye\",\"Tunisia\",\"Paraguay\",\"Syrian Arab Republic\",\"Saudi Arabia\",\"Algeria\",\"Qatar\",\"Oman\",\"Yemen\",\"Brazil\",\"United Arab Emirates\",\"Palestine\",\"Democratic Republic of the Congo\",\"Equatorial Guinea\",\"Congo\",\"Libya\",\"Rwanda\",\"Morocco\",\"Mozambique\",\"Angola\",\"Central African Republic\",\"Mauritius\",\"Madagascar\",\"Malawi\",\"Kenya\",\"Pakistan\",\"Nepal\",\"Bhutan\",\"Eritrea\",\"Ethiopia\",\"Lesotho\",\"Bangladesh\",\"India\",\"Djibouti\",\"Gabon\",\"Afghanistan\",\"Zimbabwe\",\"Eswatini\",\"Botswana\",\"United Republic of Tanzania\",\"Namibia\",\"Comoros\",\"Zambia\",\"Burundi\",\"South Africa\",\"Mali\",\"Somalia\",\"Uganda\",\"Guinea-Bissau\",\"Liberia\",\"Guinea\",\"Seychelles\",\"Ghana\",\"C\\u00f4te d'Ivoire\",\"Gambia\",\"Monaco\",\"Nauru\",\"Chad\",\"Cameroon\",\"Cabo Verde\",\"Togo\",\"Guam\",\"Senegal\",\"Cook Islands\",\"Greenland\",\"Burkina Faso\",\"Nigeria\",\"Sao Tome and Principe\",\"American Samoa\",\"Sierra Leone\",\"Benin\",\"Niger\",\"Bermuda\",\"South Sudan\",\"United States Virgin Islands\",\"Mauritania\",\"Tuvalu\",\"Niue\",\"Northern Mariana Islands\",\"Tokelau\",\"San Marino\",\"Saint Kitts and Nevis\",\"Palau\",\"Puerto Rico\",\"Sudan\"],\"z\":{\"dtype\":\"f8\",\"bdata\":\"3jn3mx6UyEDSPxiMQNTFQHntCZOQi8RASEJ4+mMnxEChOS2H5oXEQAiq9SJyQMVAMH5fp1TTxEBjAQl613nDQJ3UKOTnMsdAtH9Lwj+KxUAANe\\u002fFGKbEQEQG9W3ODMNABQ26aww2xECgIyuq+yTGQLdEx14aJsRA8rEQ3+N5xEDUPZZIwJXFQH70ZAUVZMZA+89bp8wXxkCWEyStJkvFQCW6\\u002f4UXn8RAvDQSLWZMxUAdCPOzYDDFQLSXLRv6VsRASUOTn9aZxkCisy4DUtfDQGpO0Sj+WsJArCWkc+VxxkAfugP\\u002fRLTFQMHpDWIHx8dALpAGOJvOxkCqsA6IsprGQLMAr5ErDspAJqJcS7jlw0CvE7a5sTjDQJBKwIKD\\u002fsVA\\u002fdSv3s2hyEDMRlCgd2bHQEbgfM9srcdA7GW1ER7VxEAgOW8RwEjHQIjxJ3ZfEsdA5773RtKPxUCaXCc3hw7FQJn2cPs4d8dAmxtpyxu0zECvpEIVVivHQIDnAmA1sslAojOjH8b9zUBMVZ0EPZzHQJkIrNx4ysxAVm68OIFVzEDAqXoqTfLLQKfqUYsVp81AiGtgbQ9gzkBsE+Wb3hrIQJsoVAqs1MlAg7Oj4yNMykCAUTeMxrzHQIBOHX0heMhA7MSD1RST0UD1YJ3\\u002f34bHQDPM7\\u002f9hctBADjCz+nO2yUB3eWFxw+PPQHXVrz2tVM5Awflg8XlczUA1WgJlR+fRQJTs5qk2wtBAo3G8vdZJzkAL4JhbolbLQK1MHCM+fMxAWog+KPK80UA7LmRvsCHMQJHSkjSHF8xAuLvk6+Eaz0BLWYeFgwLSQAaKuRanb89AHb0nA0yHz0Bqvyu3EH3LQJrmbZh8Gc1AWR729GbwzEAiLf9T9aLNQNrWTlEZo9BATvp9qjy7y0Ck2oBQs7rLQBQYMslVhctAbX8vl9kWzkBEtsmLHjvMQOhjvmUp4MpA25k9bOs\\u002fzECO1FT1DT\\u002fOQAAQQVKL78tArlj6Xj2rzUAfjpkcN+7JQHkjI5Zz18xAeRqhrGSrzkBVpb7dl8XMQOHuNK87TcxAK1Lh0S7sy0CgwUvE+CjOQOSVuWkxdspABlBHl520yEB4tBGoGrLHQCgreCspnsdA3+sYdff4zEA2Zwy0wazQQIWH3w\\u002fK0stA4C834oqlx0BrxYlBzlvLQNXVZhaKEslA\\u002fSsufng500BM6uLG4nfIQDPeX7w8WM5AeGMzDb+zykCsodH0NZnJQAhxJwVNA8dAmwC1ws1fy0DxWy32hE7KQLdi7YWzRcxAQZqd79WLz0DKVoKn\\u002fCPOQHSDY0FIjc1A7+LX4ZF2zEDonmw7Ah7MQHg9W\\u002fTNeM1ALvdyT\\u002feLy0A9YR8UkF7LQELUmQtIudBAPg0jAG3Ry0B\\u002fC2RGIBbQQCprxVXB6cZA+XzV3a98xkD\\u002fWKpLm07HQDAGf\\u002fbCNs5Ay28DfhY3xkDh3xxMnn7OQEMIrpKGvMRAL9UEti5bxUArynQgOwjIQFChu73HqchAe53oL0gkxUASaGsI+C7EQDJKIjirLMVABAdFumAix0C55wbAijjJQAz0eR0LNsdA35k5i+DfxUA6q1lbJQLFQPR5bPw7\\u002f8dALdf8ZVv3xUCDhq43b9DKQP87W+y5AsZAweW\\u002f7OOcx0AebbXNzDTNQObwCSCWzcJA1jvrjgZmxUBgYOnXam7GQLRrT46ZqcRAZ7VIEoB9xED596SkwtTFQA12y8l5zsNAhTbKQvABxUCLwbMUCoPHQMcCzzM+M8FAzF0gQ5o3xkDBDtj5HSHGQD7ienh\\u002fTsNAFvkCr3IOxUCGH36M1SzDQN+h1WM9QcVAn6R5TPcCxECtlr+aGe3CQBVRH\\u002fhOCsVA8yF+sH4Dz0AGyYXdkZDEQDBrXWnXDcNA98M5sAeFw0CpC9ffRRjHQA54DIlMdsRAwHP4Ano+xkBR\\u002fEHEJtfCQEWn7H0ptMZAA7uoUHA10UA5rd2DoGnDQJsh5x236cFA3M1B4hA1w0D0JSq74p3EQKy\\u002fuCdjTsRAo8SpThr1wkCP02QSGPvBQHloeP280MxAd9i7CafbxEAcW4tlHmvMQHwhIbotAMJAQf57WrsqxkDMBSnQkZ7GQGoVfkH8AMZAR6+s1IwexkD0fq2iKxHPQFfJWJ0uY85AEZr05Wcjx0CRDZJskerLQPbM7K7zX8xA\"},\"zmax\":24265.36555356327,\"zmin\":8.83465557755024,\"type\":\"choropleth\"}],\"name\":\"2015\"},{\"data\":[{\"colorbar\":{\"title\":{\"text\":\"Prevalentie (Rate)\"}},\"colorscale\":[[0.0,\"rgb(255,245,240)\"],[0.125,\"rgb(254,224,210)\"],[0.25,\"rgb(252,187,161)\"],[0.375,\"rgb(252,146,114)\"],[0.5,\"rgb(251,106,74)\"],[0.625,\"rgb(239,59,44)\"],[0.75,\"rgb(203,24,29)\"],[0.875,\"rgb(165,15,21)\"],[1.0,\"rgb(103,0,13)\"]],\"locations\":[\"THA\",\"LKA\",\"VUT\",\"TON\",\"MMR\",\"PHL\",\"SLB\",\"TKM\",\"MYS\",\"MDV\",\"PNG\",\"TJK\",\"WSM\",\"LAO\",\"KGZ\",\"IDN\",null,\"GEO\",\"KHM\",\"KIR\",\"MNG\",\"FJI\",\"MHL\",\"KAZ\",\"PRK\",\"AZE\",\"VNM\",null,\"ARM\",\"BIH\",\"ALB\",\"CHN\",\"BLR\",\"UZB\",\"TLS\",\"SGP\",\"SVN\",\"SVK\",\"SRB\",\"JPN\",null,\"ROU\",\"POL\",\"BRN\",\"MNE\",\"DNK\",\"MKD\",\"UKR\",\"CYP\",\"RUS\",\"BEL\",\"FIN\",\"LTU\",\"AUT\",\"AND\",\"HUN\",\"MDA\",\"LVA\",\"BGR\",\"HRV\",\"NZL\",\"CZE\",\"GRC\",\"EST\",\"FRA\",\"DEU\",\"GBR\",\"AUS\",\"CHE\",\"SWE\",\"BLZ\",\"BRB\",\"ESP\",\"ATG\",\"BHS\",\"NOR\",\"PRT\",\"NLD\",\"USA\",\"CAN\",\"LUX\",\"LCA\",\"MLT\",\"IRL\",\"JAM\",\"HTI\",\"URY\",\"ITA\",\"VCT\",\"ISR\",\"ISL\",\"SUR\",null,\"CHL\",\"ARG\",\"TTO\",\"GUY\",\"DOM\",\"GRD\",\"DMA\",\"CUB\",null,\"NIC\",\"PAN\",\"MEX\",\"KWT\",\"LBN\",\"JOR\",\"HND\",\"IRQ\",\"SLV\",null,\"GTM\",\"BHR\",\"EGY\",\"CRI\",\"COL\",\"ECU\",\"PER\",\"TUR\",\"TUN\",\"PRY\",\"SYR\",\"SAU\",\"DZA\",\"QAT\",\"OMN\",\"YEM\",\"BRA\",\"ARE\",null,null,\"GNQ\",\"COG\",\"LBY\",\"RWA\",\"MAR\",\"MOZ\",\"AGO\",\"CAF\",\"MUS\",\"MDG\",\"MWI\",\"KEN\",\"PAK\",\"NPL\",\"BTN\",\"ERI\",\"ETH\",\"LSO\",\"BGD\",\"IND\",\"DJI\",\"GAB\",\"AFG\",\"ZWE\",\"SWZ\",\"BWA\",\"TZA\",\"NAM\",\"COM\",\"ZMB\",\"BDI\",\"ZAF\",\"MLI\",\"SOM\",\"UGA\",\"GNB\",\"LBR\",\"GIN\",\"SYC\",\"GHA\",\"CIV\",\"GMB\",\"MCO\",\"NRU\",\"TCD\",\"CMR\",\"CPV\",\"TGO\",\"GUM\",\"SEN\",\"COK\",\"GRL\",\"BFA\",\"NGA\",\"STP\",\"ASM\",\"SLE\",\"BEN\",\"NER\",\"BMU\",\"SSD\",null,\"MRT\",\"TUV\",\"NIU\",\"MNP\",\"TKL\",\"SMR\",\"KNA\",\"PLW\",\"PRI\",\"SDN\"],\"text\":[\"Thailand\",\"Sri Lanka\",\"Vanuatu\",\"Tonga\",\"Myanmar\",\"Philippines\",\"Solomon Islands\",\"Turkmenistan\",\"Malaysia\",\"Maldives\",\"Papua New Guinea\",\"Tajikistan\",\"Samoa\",\"Lao People's Democratic Republic\",\"Kyrgyzstan\",\"Indonesia\",\"Micronesia (Federated States of)\",\"Georgia\",\"Cambodia\",\"Kiribati\",\"Mongolia\",\"Fiji\",\"Marshall Islands\",\"Kazakhstan\",\"Democratic People's Republic of Korea\",\"Azerbaijan\",\"Viet Nam\",\"Taiwan (Province of China)\",\"Armenia\",\"Bosnia and Herzegovina\",\"Albania\",\"China\",\"Belarus\",\"Uzbekistan\",\"Timor-Leste\",\"Singapore\",\"Slovenia\",\"Slovakia\",\"Serbia\",\"Japan\",\"Republic of Korea\",\"Romania\",\"Poland\",\"Brunei Darussalam\",\"Montenegro\",\"Denmark\",\"North Macedonia\",\"Ukraine\",\"Cyprus\",\"Russian Federation\",\"Belgium\",\"Finland\",\"Lithuania\",\"Austria\",\"Andorra\",\"Hungary\",\"Republic of Moldova\",\"Latvia\",\"Bulgaria\",\"Croatia\",\"New Zealand\",\"Czechia\",\"Greece\",\"Estonia\",\"France\",\"Germany\",\"United Kingdom\",\"Australia\",\"Switzerland\",\"Sweden\",\"Belize\",\"Barbados\",\"Spain\",\"Antigua and Barbuda\",\"Bahamas\",\"Norway\",\"Portugal\",\"Netherlands\",\"United States of America\",\"Canada\",\"Luxembourg\",\"Saint Lucia\",\"Malta\",\"Ireland\",\"Jamaica\",\"Haiti\",\"Uruguay\",\"Italy\",\"Saint Vincent and the Grenadines\",\"Israel\",\"Iceland\",\"Suriname\",\"Bolivia (Plurinational State of)\",\"Chile\",\"Argentina\",\"Trinidad and Tobago\",\"Guyana\",\"Dominican Republic\",\"Grenada\",\"Dominica\",\"Cuba\",\"Venezuela (Bolivarian Republic of)\",\"Nicaragua\",\"Panama\",\"Mexico\",\"Kuwait\",\"Lebanon\",\"Jordan\",\"Honduras\",\"Iraq\",\"El Salvador\",\"Iran (Islamic Republic of)\",\"Guatemala\",\"Bahrain\",\"Egypt\",\"Costa Rica\",\"Colombia\",\"Ecuador\",\"Peru\",\"T\\u00fcrkiye\",\"Tunisia\",\"Paraguay\",\"Syrian Arab Republic\",\"Saudi Arabia\",\"Algeria\",\"Qatar\",\"Oman\",\"Yemen\",\"Brazil\",\"United Arab Emirates\",\"Palestine\",\"Democratic Republic of the Congo\",\"Equatorial Guinea\",\"Congo\",\"Libya\",\"Rwanda\",\"Morocco\",\"Mozambique\",\"Angola\",\"Central African Republic\",\"Mauritius\",\"Madagascar\",\"Malawi\",\"Kenya\",\"Pakistan\",\"Nepal\",\"Bhutan\",\"Eritrea\",\"Ethiopia\",\"Lesotho\",\"Bangladesh\",\"India\",\"Djibouti\",\"Gabon\",\"Afghanistan\",\"Zimbabwe\",\"Eswatini\",\"Botswana\",\"United Republic of Tanzania\",\"Namibia\",\"Comoros\",\"Zambia\",\"Burundi\",\"South Africa\",\"Mali\",\"Somalia\",\"Uganda\",\"Guinea-Bissau\",\"Liberia\",\"Guinea\",\"Seychelles\",\"Ghana\",\"C\\u00f4te d'Ivoire\",\"Gambia\",\"Monaco\",\"Nauru\",\"Chad\",\"Cameroon\",\"Cabo Verde\",\"Togo\",\"Guam\",\"Senegal\",\"Cook Islands\",\"Greenland\",\"Burkina Faso\",\"Nigeria\",\"Sao Tome and Principe\",\"American Samoa\",\"Sierra Leone\",\"Benin\",\"Niger\",\"Bermuda\",\"South Sudan\",\"United States Virgin Islands\",\"Mauritania\",\"Tuvalu\",\"Niue\",\"Northern Mariana Islands\",\"Tokelau\",\"San Marino\",\"Saint Kitts and Nevis\",\"Palau\",\"Puerto Rico\",\"Sudan\"],\"z\":{\"dtype\":\"f8\",\"bdata\":\"SPkRisuayEAZdU0MweLFQIp4TXOJmcRA8LaDHQMrxEA0qY0r9YHEQM1XRwgxTcVA6mfEdXPgxECd4OoPnnrDQGhJ1dCUScdAjfSAVBCjxUDTSO3XgaPEQPeU0tRzBsNAOTFyhYE3xEB2xgrvxifGQGm+VDNtFsRADfN6V0uKxEAbnBMvaKnFQO1KLimJXsZAuS4BI58UxkDsqcIKdFHFQDWS+6h1lMRAKAxheydOxUDf6I0aZ0bFQB8M+k4JS8RAm4pw4varxkBe9DuGceXDQBXBc\\u002fW9WcJADeyFfUx7xkDJ5X3i5rvFQBEdFSvTy8dAL2VUtAXZxkDC67SD0ZbGQHAGAB\\u002fvAspAne1TlD7Zw0CeWEClNkrDQO1pfZ525sVAACul+NKeyEBapMjQImbHQBN9zmMPuMdAQv0v1c3JxECX3IGfGCPHQPh+TRByFMdAQXFgwN+dxUBJR61WMhTFQK\\u002fJqVOMecdABJShkUu6zEAwJoB7kzDHQCC7C+V3wclAfAeSy9T+zUByiNxSJ5XHQAM505\\u002frycxAb95HP89QzEBuibaN1vDLQDi7dlnKpc1AEdQXfUFuzkCIwyGfPBrIQMRWCuS018lAv3VgvaNLykDHsDCT1r7HQEb8FUGHgchAXTZXV1eZ0UAqexgeVIPHQGDgRroDh9BA97+Bb2G4yUCYwYWd5eTPQPyQt01eQs5A8sahXppRzUBnWIL8g+XRQOCL6RxQvdBAPLODRaNEzkAHMjVAO3LLQGqoD9dDkMxAPShFqgy00UB8FWHY4jfMQKFLn\\u002fgMNcxAktmmCUgmz0BBW4VKQQnSQPa+J+mieM9A2N2gxiSnz0BepoddAHXLQJ\\u002f79xmWG81AmPZ64cL+zECn6WLsh53NQCG9YBFRq9BAG5bxNFbSy0DVnXITiMTLQAgW8bqwgctAoDY1vsQezkD3mvvc2kXMQGFRsCXY38pAe\\u002fqGrRlOzEApiczXc0DOQGoD2Blo98tADhjXS+SizUDc8oymovTJQOkGmspi28xAq6k7zuKhzkBScZ+qusfMQGMbFJC2XcxAA0RwuzcKzEDhJwQvLijOQDQyr9IqespAL9bRb6S8yEDHSLG4SLrHQJMYxXzMt8dAAzxn7GkbzUDLPSMCtpTQQD9pOs+s+8tAhPHF2Ea2x0Dqy8lxzWPLQGz74GR+F8lAHyoY98wa00DNGGS\\u002fzZHIQAZEebVRUM5AD2xsPOexykCViLfmfqXJQKmqw6vURsdAWhwBQapuy0B8uP4UFFTKQBNtBVDyN8xAWzUNnqaQz0CW7rJyJzzOQBpE4pHf3M1AaAgUAfWTzED7QOKEixLMQO0qjtVaec1AdaZJex+Uy0BfsdKOBZnLQA4Ac1qKu9BAnu3e+\\u002f\\u002fVy0CC2q8hQBPQQEbCFXZK+MZA\\u002fBTaWZqmxkA2H6ni\\u002fWvHQLg3yHdXcc5A3+q5P19QxkCPtFTGeojOQOtWIZB5xMRAoog7bK5kxUAtUu5udSHIQHMuaijOuMhAWFLnhSw\\u002fxUDwCfeG+0\\u002fEQCo55jP8TMVAJgFcRWNGx0C2vms6a07JQP6\\u002fOYcBVcdAPmezlSrzxUBWy8X+LhXFQCujmiwtFshAUJpLVrEexkDR6aXmibzKQJMeHSShE8ZAoLWpo6i2x0BJrabyrTfNQIh1Nrvt2MJACKb6LmN+xUCWS6DH34fGQH87URSCvMRA1\\u002flA8zeVxEAVPV\\u002fzoPbFQKDFTiAm58NAs5frWzsVxUDe7Nk5w5jHQL1zazpvOcFAuo+0e8k3xkA0j\\u002fUG0DrGQEz0abNcWsNAVMv9d3ITxUDsqcVuPjDDQJ\\u002fsJvmxScVApAAVkmoLxEAmRWT\\u002flvTCQElbsNc\\u002fIcVAKoNzfxICz0AF0PfrS5bEQBX+yFkKFsNA\\u002fEtDeN+Tw0CFcaBaVDrHQDYOA1O+h8RA4kcTdaFPxkAMMg\\u002fIdO7CQFJYGnXkycZAPEvqJ0Uh0UB9b2fc9WXDQB2JnDSL88FAdsNLr81bw0DASrDSkL7EQBmiNn2yXsRAkc0dPUEAw0Ds6NISRQPCQELSENrA1MxATwi3JQ78xEDHAaMHVnjMQGYHj0KPEcJAvZQ3vKYwxkBfc6O\\u002fHK3GQE8cL1\\u002fmDsZAP+gWrNEfxkA0mINmDhzPQCcsOWpeb85ApeBDJo84x0CMFV8Z3\\u002fzLQDocd4ZldcxA\"},\"zmax\":24265.36555356327,\"zmin\":8.83465557755024,\"type\":\"choropleth\"}],\"name\":\"2016\"},{\"data\":[{\"colorbar\":{\"title\":{\"text\":\"Prevalentie (Rate)\"}},\"colorscale\":[[0.0,\"rgb(255,245,240)\"],[0.125,\"rgb(254,224,210)\"],[0.25,\"rgb(252,187,161)\"],[0.375,\"rgb(252,146,114)\"],[0.5,\"rgb(251,106,74)\"],[0.625,\"rgb(239,59,44)\"],[0.75,\"rgb(203,24,29)\"],[0.875,\"rgb(165,15,21)\"],[1.0,\"rgb(103,0,13)\"]],\"locations\":[\"THA\",\"LKA\",\"VUT\",\"TON\",\"MMR\",\"PHL\",\"SLB\",\"TKM\",\"MYS\",\"MDV\",\"PNG\",\"TJK\",\"WSM\",\"LAO\",\"KGZ\",\"IDN\",null,\"GEO\",\"KHM\",\"KIR\",\"MNG\",\"FJI\",\"MHL\",\"KAZ\",\"PRK\",\"AZE\",\"VNM\",null,\"ARM\",\"BIH\",\"ALB\",\"CHN\",\"BLR\",\"UZB\",\"TLS\",\"SGP\",\"SVN\",\"SVK\",\"SRB\",\"JPN\",null,\"ROU\",\"POL\",\"BRN\",\"MNE\",\"DNK\",\"MKD\",\"UKR\",\"CYP\",\"RUS\",\"BEL\",\"FIN\",\"LTU\",\"AUT\",\"AND\",\"HUN\",\"MDA\",\"LVA\",\"BGR\",\"HRV\",\"NZL\",\"CZE\",\"GRC\",\"EST\",\"FRA\",\"DEU\",\"GBR\",\"AUS\",\"CHE\",\"SWE\",\"BLZ\",\"BRB\",\"ESP\",\"ATG\",\"BHS\",\"NOR\",\"PRT\",\"NLD\",\"USA\",\"CAN\",\"LUX\",\"LCA\",\"MLT\",\"IRL\",\"JAM\",\"HTI\",\"URY\",\"ITA\",\"VCT\",\"ISR\",\"ISL\",\"SUR\",null,\"CHL\",\"ARG\",\"TTO\",\"GUY\",\"DOM\",\"GRD\",\"DMA\",\"CUB\",null,\"NIC\",\"PAN\",\"MEX\",\"KWT\",\"LBN\",\"JOR\",\"HND\",\"IRQ\",\"SLV\",null,\"GTM\",\"BHR\",\"EGY\",\"CRI\",\"COL\",\"ECU\",\"PER\",\"TUR\",\"TUN\",\"PRY\",\"SYR\",\"SAU\",\"DZA\",\"QAT\",\"OMN\",\"YEM\",\"BRA\",\"ARE\",null,null,\"GNQ\",\"COG\",\"LBY\",\"RWA\",\"MAR\",\"MOZ\",\"AGO\",\"CAF\",\"MUS\",\"MDG\",\"MWI\",\"KEN\",\"PAK\",\"NPL\",\"BTN\",\"ERI\",\"ETH\",\"LSO\",\"BGD\",\"IND\",\"DJI\",\"GAB\",\"AFG\",\"ZWE\",\"SWZ\",\"BWA\",\"TZA\",\"NAM\",\"COM\",\"ZMB\",\"BDI\",\"ZAF\",\"MLI\",\"SOM\",\"UGA\",\"GNB\",\"LBR\",\"GIN\",\"SYC\",\"GHA\",\"CIV\",\"GMB\",\"MCO\",\"NRU\",\"TCD\",\"CMR\",\"CPV\",\"TGO\",\"GUM\",\"SEN\",\"COK\",\"GRL\",\"BFA\",\"NGA\",\"STP\",\"ASM\",\"SLE\",\"BEN\",\"NER\",\"BMU\",\"SSD\",null,\"MRT\",\"TUV\",\"NIU\",\"MNP\",\"TKL\",\"SMR\",\"KNA\",\"PLW\",\"PRI\",\"SDN\"],\"text\":[\"Thailand\",\"Sri Lanka\",\"Vanuatu\",\"Tonga\",\"Myanmar\",\"Philippines\",\"Solomon Islands\",\"Turkmenistan\",\"Malaysia\",\"Maldives\",\"Papua New Guinea\",\"Tajikistan\",\"Samoa\",\"Lao People's Democratic Republic\",\"Kyrgyzstan\",\"Indonesia\",\"Micronesia (Federated States of)\",\"Georgia\",\"Cambodia\",\"Kiribati\",\"Mongolia\",\"Fiji\",\"Marshall Islands\",\"Kazakhstan\",\"Democratic People's Republic of Korea\",\"Azerbaijan\",\"Viet Nam\",\"Taiwan (Province of China)\",\"Armenia\",\"Bosnia and Herzegovina\",\"Albania\",\"China\",\"Belarus\",\"Uzbekistan\",\"Timor-Leste\",\"Singapore\",\"Slovenia\",\"Slovakia\",\"Serbia\",\"Japan\",\"Republic of Korea\",\"Romania\",\"Poland\",\"Brunei Darussalam\",\"Montenegro\",\"Denmark\",\"North Macedonia\",\"Ukraine\",\"Cyprus\",\"Russian Federation\",\"Belgium\",\"Finland\",\"Lithuania\",\"Austria\",\"Andorra\",\"Hungary\",\"Republic of Moldova\",\"Latvia\",\"Bulgaria\",\"Croatia\",\"New Zealand\",\"Czechia\",\"Greece\",\"Estonia\",\"France\",\"Germany\",\"United Kingdom\",\"Australia\",\"Switzerland\",\"Sweden\",\"Belize\",\"Barbados\",\"Spain\",\"Antigua and Barbuda\",\"Bahamas\",\"Norway\",\"Portugal\",\"Netherlands\",\"United States of America\",\"Canada\",\"Luxembourg\",\"Saint Lucia\",\"Malta\",\"Ireland\",\"Jamaica\",\"Haiti\",\"Uruguay\",\"Italy\",\"Saint Vincent and the Grenadines\",\"Israel\",\"Iceland\",\"Suriname\",\"Bolivia (Plurinational State of)\",\"Chile\",\"Argentina\",\"Trinidad and Tobago\",\"Guyana\",\"Dominican Republic\",\"Grenada\",\"Dominica\",\"Cuba\",\"Venezuela (Bolivarian Republic of)\",\"Nicaragua\",\"Panama\",\"Mexico\",\"Kuwait\",\"Lebanon\",\"Jordan\",\"Honduras\",\"Iraq\",\"El Salvador\",\"Iran (Islamic Republic of)\",\"Guatemala\",\"Bahrain\",\"Egypt\",\"Costa Rica\",\"Colombia\",\"Ecuador\",\"Peru\",\"T\\u00fcrkiye\",\"Tunisia\",\"Paraguay\",\"Syrian Arab Republic\",\"Saudi Arabia\",\"Algeria\",\"Qatar\",\"Oman\",\"Yemen\",\"Brazil\",\"United Arab Emirates\",\"Palestine\",\"Democratic Republic of the Congo\",\"Equatorial Guinea\",\"Congo\",\"Libya\",\"Rwanda\",\"Morocco\",\"Mozambique\",\"Angola\",\"Central African Republic\",\"Mauritius\",\"Madagascar\",\"Malawi\",\"Kenya\",\"Pakistan\",\"Nepal\",\"Bhutan\",\"Eritrea\",\"Ethiopia\",\"Lesotho\",\"Bangladesh\",\"India\",\"Djibouti\",\"Gabon\",\"Afghanistan\",\"Zimbabwe\",\"Eswatini\",\"Botswana\",\"United Republic of Tanzania\",\"Namibia\",\"Comoros\",\"Zambia\",\"Burundi\",\"South Africa\",\"Mali\",\"Somalia\",\"Uganda\",\"Guinea-Bissau\",\"Liberia\",\"Guinea\",\"Seychelles\",\"Ghana\",\"C\\u00f4te d'Ivoire\",\"Gambia\",\"Monaco\",\"Nauru\",\"Chad\",\"Cameroon\",\"Cabo Verde\",\"Togo\",\"Guam\",\"Senegal\",\"Cook Islands\",\"Greenland\",\"Burkina Faso\",\"Nigeria\",\"Sao Tome and Principe\",\"American Samoa\",\"Sierra Leone\",\"Benin\",\"Niger\",\"Bermuda\",\"South Sudan\",\"United States Virgin Islands\",\"Mauritania\",\"Tuvalu\",\"Niue\",\"Northern Mariana Islands\",\"Tokelau\",\"San Marino\",\"Saint Kitts and Nevis\",\"Palau\",\"Puerto Rico\",\"Sudan\"],\"z\":{\"dtype\":\"f8\",\"bdata\":\"zv+0EAeiyEA4EdqMkfXFQOfgYOsSq8RA2hG\\u002fKTIwxEDVlFEk\\u002f3\\u002fEQDLkNFMqXMVAMuMjgTjuxECrNgtVC37DQF1m3CBYYcdAfHQrFle\\u002fxUBsZhcvoKDEQBIE0x5TBcNAMmS5Y2U5xEAg3bRLiynGQGbsxKb1CsRAgSUqkmefxEDjKmuRsL3FQChYmZhaXsZA89QeIGASxkCsdh6lNVnFQKGd17XZncRA58eFbOJSxUBMjZCd4VvFQGEI+qJ8QcRA0XHLuA3AxkBvBel9TfrDQOfKxxxzWsJAgYSRCt6ExkDAhJhF28jFQPcQhOMW08dAKvzOyRfixkD9Tk0J+pzGQAvFHHmW+8lAhPxsZW\\u002fOw0Bz8bvLRVzDQEKe1icY08VA+e71E7icyEChI4fTkWPHQPgoovx7wMdAA3FVk\\u002fK6xEDh\\u002fnMzo9nGQOCEf8KBFMdAbeN8uOC+xUBYHFmftxnFQPc0jCjxe8dAFALVqVjDzEDMuZ6TrDbHQFvNU3m52slAHEfR+PoAzkAUZirS8pPHQOtyp9IJzMxA8b\\u002fJrr1PzEAt4IUOafTLQKISzdvtqc1A3f9MIU6GzkCOA0qcjBfIQC14uopu3MlAdxMWPzJUykBmXG663MLHQJU\\u002fXOfNjMhAb6Ksjlui0UBHICi2coDHQFg6XwbZsdBAFnn7TgO+yUAH7oILpefPQC9bdy4BKc5AGSX0MNc5zUDMbbF5XOvRQIGitl6OudBAbnt9JQZFzkDukOD6XIzLQNqoBowhpcxA\\u002fdN8VuuW0UClxBc3707MQCJuapReU8xAeFGFlsI5z0Cz+KoPSxvSQGdOycl0gs9A3dEQB7z9z0CEb7akRnHLQD++GBLUIs1AhncZkJoLzUBhKpRhPZrNQJHxfZiStdBAXaEjzl\\u002fqy0DKyc+wA8\\u002fLQIzLuJLCgctArcdEp\\u002fgnzkD5pFLXt1PMQJcDDDer5cpAnjDjPw5bzECl+OWbjT\\u002fOQGbMG3Hd\\u002fctAFgLUC5KazUBmoJu2pf7JQPnjY6SS5sxARQifJJCOzkDiiD4k+8jMQAvhq\\u002fdlbcxA3\\u002f3+CecrzECIlVHX9CjOQOFJ81DNfspAZLzI0qTDyEBbE\\u002fYKM8THQJ5iFr4D18dAc9+N5i8\\u002fzUAqM+37sGPQQJlemeZ2J8xAvpMIFf\\u002fDx0CvEtTVJGrLQCPlaz0bHMlA1OVuZY3m0kDei8rpRKzIQHuERoFoT85AwGm8v265ykDplEX8abTJQJGKuwymxMdAN6FS7ZZ8y0BO4lL8zlnKQIcFLQzWH8xA2GvaQvCaz0Cq+wjojVTOQD35IP\\u002fBLM5A3BYQi9uwzEBzaqGDMg\\u002fMQOqhwQXCgM1Ajke0UdKiy0A4h3bB2OrLQAqlT2Mjv9BAlx38NffZy0B\\u002f3PYRfhDQQEieJ\\u002f\\u002fsBsdA3\\u002fLI3crTxkCS+RwTGY\\u002fHQHA3x43yrs5ARUb8dxZrxkCDj+ufppLOQG4v0OSFzsRAKSG\\u002faA5xxUCiQznX\\u002fTrIQBTW3atLxchA0ro2NCJdxUBd2aHiIXHEQFWSeDijcMVAknYr0sxyx0A7ED5i0WfJQPArm+sKdsdANGhHLGYIxkAyB6GTDSbFQNb7Bb6pM8hAnwJyZfhHxkBX8Vl6pZ3KQJ3t9czbI8ZARnJ+MvrSx0D3P1+zhzrNQF2f9DfD5MJAh8qgo5mYxUCEGgmimqLGQAuMbQPy0MRAtKNV9VavxEDMOn+65BnGQP3RiX4kAsRAk1VQliEsxUDdL2Jp37HHQH5e3VJZQMFArR\\u002fs5hI0xkADvnat9FfGQAi9EWwuacNAWTf5M2IBxUCGG2C6vzbDQKaxCaRDVMVAqeJNVuoVxEC11Z9WQv7CQIH3lflcPMVAlbwMaZD7zkBrHXVDTJ3EQIIhVLIJIsNADk6OOYWlw0CLfeGA\\u002flrHQI3kjpk\\u002fm8RAIx\\u002frYX9ixkB2BPm0eAjDQObnh6ux4MZA0OzIouAF0UC06lScl1TDQH8kVI6iAcJAURI\\u002f8pOHw0CTp58FhePEQHcaZnFLccRAsbqpc8ELw0CovrXH5AzCQDJqHgXO1sxAx\\u002fiC8tctxUDnB\\u002fDUYIbMQNl34hoMJsJA1dwI\\u002f9cyxkDtyvsZJLzGQPOEkOR4G8ZAkexCchQoxkDGSOC0OyfPQOYgcLUWd85AGx40NudNx0AU+ZH8vg7MQAV1zigmjcxA\"},\"zmax\":24265.36555356327,\"zmin\":8.83465557755024,\"type\":\"choropleth\"}],\"name\":\"2017\"},{\"data\":[{\"colorbar\":{\"title\":{\"text\":\"Prevalentie (Rate)\"}},\"colorscale\":[[0.0,\"rgb(255,245,240)\"],[0.125,\"rgb(254,224,210)\"],[0.25,\"rgb(252,187,161)\"],[0.375,\"rgb(252,146,114)\"],[0.5,\"rgb(251,106,74)\"],[0.625,\"rgb(239,59,44)\"],[0.75,\"rgb(203,24,29)\"],[0.875,\"rgb(165,15,21)\"],[1.0,\"rgb(103,0,13)\"]],\"locations\":[\"THA\",\"LKA\",\"VUT\",\"TON\",\"MMR\",\"PHL\",\"SLB\",\"TKM\",\"MYS\",\"MDV\",\"PNG\",\"TJK\",\"WSM\",\"LAO\",\"KGZ\",\"IDN\",null,\"GEO\",\"KHM\",\"KIR\",\"MNG\",\"FJI\",\"MHL\",\"KAZ\",\"PRK\",\"AZE\",\"VNM\",null,\"ARM\",\"BIH\",\"ALB\",\"CHN\",\"BLR\",\"UZB\",\"TLS\",\"SGP\",\"SVN\",\"SVK\",\"SRB\",\"JPN\",null,\"ROU\",\"POL\",\"BRN\",\"MNE\",\"DNK\",\"MKD\",\"UKR\",\"CYP\",\"RUS\",\"BEL\",\"FIN\",\"LTU\",\"AUT\",\"AND\",\"HUN\",\"MDA\",\"LVA\",\"BGR\",\"HRV\",\"NZL\",\"CZE\",\"GRC\",\"EST\",\"FRA\",\"DEU\",\"GBR\",\"AUS\",\"CHE\",\"SWE\",\"BLZ\",\"BRB\",\"ESP\",\"ATG\",\"BHS\",\"NOR\",\"PRT\",\"NLD\",\"USA\",\"CAN\",\"LUX\",\"LCA\",\"MLT\",\"IRL\",\"JAM\",\"HTI\",\"URY\",\"ITA\",\"VCT\",\"ISR\",\"ISL\",\"SUR\",null,\"CHL\",\"ARG\",\"TTO\",\"GUY\",\"DOM\",\"GRD\",\"DMA\",\"CUB\",null,\"NIC\",\"PAN\",\"MEX\",\"KWT\",\"LBN\",\"JOR\",\"HND\",\"IRQ\",\"SLV\",null,\"GTM\",\"BHR\",\"EGY\",\"CRI\",\"COL\",\"ECU\",\"PER\",\"TUR\",\"TUN\",\"PRY\",\"SYR\",\"SAU\",\"DZA\",\"QAT\",\"OMN\",\"YEM\",\"BRA\",\"ARE\",null,null,\"GNQ\",\"COG\",\"LBY\",\"RWA\",\"MAR\",\"MOZ\",\"AGO\",\"CAF\",\"MUS\",\"MDG\",\"MWI\",\"KEN\",\"PAK\",\"NPL\",\"BTN\",\"ERI\",\"ETH\",\"LSO\",\"BGD\",\"IND\",\"DJI\",\"GAB\",\"AFG\",\"ZWE\",\"SWZ\",\"BWA\",\"TZA\",\"NAM\",\"COM\",\"ZMB\",\"BDI\",\"ZAF\",\"MLI\",\"SOM\",\"UGA\",\"GNB\",\"LBR\",\"GIN\",\"SYC\",\"GHA\",\"CIV\",\"GMB\",\"MCO\",\"NRU\",\"TCD\",\"CMR\",\"CPV\",\"TGO\",\"GUM\",\"SEN\",\"COK\",\"GRL\",\"BFA\",\"NGA\",\"STP\",\"ASM\",\"SLE\",\"BEN\",\"NER\",\"BMU\",\"SSD\",null,\"MRT\",\"TUV\",\"NIU\",\"MNP\",\"TKL\",\"SMR\",\"KNA\",\"PLW\",\"PRI\",\"SDN\"],\"text\":[\"Thailand\",\"Sri Lanka\",\"Vanuatu\",\"Tonga\",\"Myanmar\",\"Philippines\",\"Solomon Islands\",\"Turkmenistan\",\"Malaysia\",\"Maldives\",\"Papua New Guinea\",\"Tajikistan\",\"Samoa\",\"Lao People's Democratic Republic\",\"Kyrgyzstan\",\"Indonesia\",\"Micronesia (Federated States of)\",\"Georgia\",\"Cambodia\",\"Kiribati\",\"Mongolia\",\"Fiji\",\"Marshall Islands\",\"Kazakhstan\",\"Democratic People's Republic of Korea\",\"Azerbaijan\",\"Viet Nam\",\"Taiwan (Province of China)\",\"Armenia\",\"Bosnia and Herzegovina\",\"Albania\",\"China\",\"Belarus\",\"Uzbekistan\",\"Timor-Leste\",\"Singapore\",\"Slovenia\",\"Slovakia\",\"Serbia\",\"Japan\",\"Republic of Korea\",\"Romania\",\"Poland\",\"Brunei Darussalam\",\"Montenegro\",\"Denmark\",\"North Macedonia\",\"Ukraine\",\"Cyprus\",\"Russian Federation\",\"Belgium\",\"Finland\",\"Lithuania\",\"Austria\",\"Andorra\",\"Hungary\",\"Republic of Moldova\",\"Latvia\",\"Bulgaria\",\"Croatia\",\"New Zealand\",\"Czechia\",\"Greece\",\"Estonia\",\"France\",\"Germany\",\"United Kingdom\",\"Australia\",\"Switzerland\",\"Sweden\",\"Belize\",\"Barbados\",\"Spain\",\"Antigua and Barbuda\",\"Bahamas\",\"Norway\",\"Portugal\",\"Netherlands\",\"United States of America\",\"Canada\",\"Luxembourg\",\"Saint Lucia\",\"Malta\",\"Ireland\",\"Jamaica\",\"Haiti\",\"Uruguay\",\"Italy\",\"Saint Vincent and the Grenadines\",\"Israel\",\"Iceland\",\"Suriname\",\"Bolivia (Plurinational State of)\",\"Chile\",\"Argentina\",\"Trinidad and Tobago\",\"Guyana\",\"Dominican Republic\",\"Grenada\",\"Dominica\",\"Cuba\",\"Venezuela (Bolivarian Republic of)\",\"Nicaragua\",\"Panama\",\"Mexico\",\"Kuwait\",\"Lebanon\",\"Jordan\",\"Honduras\",\"Iraq\",\"El Salvador\",\"Iran (Islamic Republic of)\",\"Guatemala\",\"Bahrain\",\"Egypt\",\"Costa Rica\",\"Colombia\",\"Ecuador\",\"Peru\",\"T\\u00fcrkiye\",\"Tunisia\",\"Paraguay\",\"Syrian Arab Republic\",\"Saudi Arabia\",\"Algeria\",\"Qatar\",\"Oman\",\"Yemen\",\"Brazil\",\"United Arab Emirates\",\"Palestine\",\"Democratic Republic of the Congo\",\"Equatorial Guinea\",\"Congo\",\"Libya\",\"Rwanda\",\"Morocco\",\"Mozambique\",\"Angola\",\"Central African Republic\",\"Mauritius\",\"Madagascar\",\"Malawi\",\"Kenya\",\"Pakistan\",\"Nepal\",\"Bhutan\",\"Eritrea\",\"Ethiopia\",\"Lesotho\",\"Bangladesh\",\"India\",\"Djibouti\",\"Gabon\",\"Afghanistan\",\"Zimbabwe\",\"Eswatini\",\"Botswana\",\"United Republic of Tanzania\",\"Namibia\",\"Comoros\",\"Zambia\",\"Burundi\",\"South Africa\",\"Mali\",\"Somalia\",\"Uganda\",\"Guinea-Bissau\",\"Liberia\",\"Guinea\",\"Seychelles\",\"Ghana\",\"C\\u00f4te d'Ivoire\",\"Gambia\",\"Monaco\",\"Nauru\",\"Chad\",\"Cameroon\",\"Cabo Verde\",\"Togo\",\"Guam\",\"Senegal\",\"Cook Islands\",\"Greenland\",\"Burkina Faso\",\"Nigeria\",\"Sao Tome and Principe\",\"American Samoa\",\"Sierra Leone\",\"Benin\",\"Niger\",\"Bermuda\",\"South Sudan\",\"United States Virgin Islands\",\"Mauritania\",\"Tuvalu\",\"Niue\",\"Northern Mariana Islands\",\"Tokelau\",\"San Marino\",\"Saint Kitts and Nevis\",\"Palau\",\"Puerto Rico\",\"Sudan\"],\"z\":{\"dtype\":\"f8\",\"bdata\":\"udvHaDOpyEAumsrxhgjGQNGxt1EtvsRA8ccTyzI2xED65X6Rdn7EQP0FYr86bMVAIUTRMvz7xEBlPQ2wf4LDQJH\\u002fuSNcdsdAJTAZK7zdxUAXGqgl6p3EQK\\u002fWxEBBB8NA11xxrHQ7xEAowjTY3yrGQAU6jHSoBcRA9AjZfaK0xEB3H6ylN9HFQKlM3otMYcZAEyxI3OsQxkAQmo1bB2LFQPBmiBmOrMRAI5HvbclZxUDYW88mk3DFQB45y6ejOsRAtBPubu3TxkCnCbrXJhLEQBFGEohSXMJAgJGxn+GPxkB3sNVmRdjFQGjxSfan28dAymg3pGzqxkBqv7srya7GQPE51tRQ+slAAnXbJvHEw0A5uhze0WzDQKkdWT9aw8VA+kbpc+KcyEA9vNinmmHHQGF3w3FcycdA+R60GAWuxEBStXs+0pLGQBlcTMzEFMdArfxQQkzixUA158GZ4RzFQF822nJQf8dAU4KFGwPLzECpNUefeT7HQBdX0UgQ+MlAAQyYpmYCzkAud9kSS5jHQH\\u002fxmnk+z8xA8zs4+NJZzED7UawS2vrLQIJRmsl8rs1AOOPIB2KgzkBGH9mVXxTIQKNbXz0b48lALD5vsSBiykCaMoaJP8jHQL0ETJFBmMhA5qkjFfeq0UCAUpFNGH\\u002fHQOZqRegW3dBA240UwY\\u002fFyUD8dmt7hOvPQDyO+nm1DM5AHsuo7QYjzUDMbapUQfPRQGsWtBEpttBAnyfHX7dIzkA0JxZ7NaXLQMlHT3ZKuMxAD0WPlJJ40UBHMHDLHWPMQGlyl1C5b8xA4h4f72JOz0C4Bqrkwy7SQEceKOZPis9AUyTtXEos0ECGvBqwynHLQHl9iIFfKc1AnCLtr0IXzUCJe9MD3ZbNQHJamhTNvNBAFAKaZDABzEABQ7bhmNnLQBNERmVMhstAT\\u002fhMp28yzkAy4B1PKmXMQOcjJiHr7spAM4SY0ZhkzEC4YvXSKkDOQAhwUMbeBcxANwy6jr+VzUC3s47\\u002fBQ7KQPL0SYXl9MxAwD9HqOt5zkDT3kRnacrMQIEM5Gade8xACGeEDd5MzEDhRSSDCCzOQNflJduIiMpARRjV66HMyEC\\u002fQkqK8s7HQNbnmArd98dAUZ9xWlZjzUAJJFtIOTfQQDCv7popUsxAjgP\\u002fwuvQx0C+1ul2PnbLQOZpIFsiI8lAnC+WP6Kz0kCqiqwJbcjIQEL1yIOoVM5Afc2Yuy3HykDADnDql8XJQLmuHHZTQMhAAVLf7zWLy0Bayglfol\\u002fKQNAkwi0tCcxA\\u002fObn+Xioz0Ba5m5f7GzOQFtsF3aQds5ArGTIKTPNzEDAeryj3BHMQLCLdZJBjM1A0KKwQCS1y0DTnQdJTUXMQJ17+Zgtw9BA3XQueXLgy0DR6nTvshLQQHLs0sisGMdAAvDhYhwEx0CJQu9ynbbHQD+hx0GI6s5APBieo1qFxkB0Rh3+EZ\\u002fOQLSSFvT128RA3o8yKn2BxUDJk\\u002fWiRFXIQMDnM+Er0MhA9FuahSx9xUD8XLvTG5PEQCWBprDVlsVAmy13wS2gx0DPkfwEzoHJQBWbNR9JmMdAonruJGsexkBGe6AgWDbFQIx\\u002fzXpDU8hAfUSm\\u002fThyxkAB9QqA6YTKQLXl3nr1NMZA+NG9cBzyx0Bbd+VoHz7NQEGFxHzP8cJALnMlLwC0xUCar1yusb3GQJYY+WE\\u002f58RAQ0QXGxDKxEBzZ8zUizzGQJ\\u002fggTMMIMRAzVIlO3FDxUDFum9nA83HQAELZVEPR8FAM6mh4zkxxkCmMafAwXbGQH6OPSCCecNAdWlZhy3vxEBAdatp0T\\u002fDQEHN1GQ1X8VAmBqTNVkixEDfh+p3BAnDQJpqo\\u002f0TWcVAeHph+0L2zkCFHP8g8aXEQGpgMmAjLsNAy1ZGXt25w0CHWXNfzHvHQDrcfMzEsMRAgAZ1Z7d1xkDjgSN\\u002fVyLDQB7cDXu59sZAAAsJoL3s0EC8pc8fGUHDQHDeMajhEcJA4xFx9Xu0w0DH83qfFgrFQOGBjX8thMRA0ewpCWcXw0B3keIUCRbCQFXfrdyY18xAr7JHPg5nxUAVgYSXyZPMQNnGA+1QPMJALtrntzkzxkCw\\u002fVC4oMrGQB6yO0sdJ8ZA0uof3R82xkAg81lQnDHPQGCTPoGXfc5Ac0aiVrFjx0CRg+vzwSDMQAYXSCX6p8xA\"},\"zmax\":24265.36555356327,\"zmin\":8.83465557755024,\"type\":\"choropleth\"}],\"name\":\"2018\"},{\"data\":[{\"colorbar\":{\"title\":{\"text\":\"Prevalentie (Rate)\"}},\"colorscale\":[[0.0,\"rgb(255,245,240)\"],[0.125,\"rgb(254,224,210)\"],[0.25,\"rgb(252,187,161)\"],[0.375,\"rgb(252,146,114)\"],[0.5,\"rgb(251,106,74)\"],[0.625,\"rgb(239,59,44)\"],[0.75,\"rgb(203,24,29)\"],[0.875,\"rgb(165,15,21)\"],[1.0,\"rgb(103,0,13)\"]],\"locations\":[\"THA\",\"LKA\",\"VUT\",\"TON\",\"MMR\",\"PHL\",\"SLB\",\"TKM\",\"MYS\",\"MDV\",\"PNG\",\"TJK\",\"WSM\",\"LAO\",\"KGZ\",\"IDN\",null,\"GEO\",\"KHM\",\"KIR\",\"MNG\",\"FJI\",\"MHL\",\"KAZ\",\"PRK\",\"AZE\",\"VNM\",null,\"ARM\",\"BIH\",\"ALB\",\"CHN\",\"BLR\",\"UZB\",\"TLS\",\"SGP\",\"SVN\",\"SVK\",\"SRB\",\"JPN\",null,\"ROU\",\"POL\",\"BRN\",\"MNE\",\"DNK\",\"MKD\",\"UKR\",\"CYP\",\"RUS\",\"BEL\",\"FIN\",\"LTU\",\"AUT\",\"AND\",\"HUN\",\"MDA\",\"LVA\",\"BGR\",\"HRV\",\"NZL\",\"CZE\",\"GRC\",\"EST\",\"FRA\",\"DEU\",\"GBR\",\"AUS\",\"CHE\",\"SWE\",\"BLZ\",\"BRB\",\"ESP\",\"ATG\",\"BHS\",\"NOR\",\"PRT\",\"NLD\",\"USA\",\"CAN\",\"LUX\",\"LCA\",\"MLT\",\"IRL\",\"JAM\",\"HTI\",\"URY\",\"ITA\",\"VCT\",\"ISR\",\"ISL\",\"SUR\",null,\"CHL\",\"ARG\",\"TTO\",\"GUY\",\"DOM\",\"GRD\",\"DMA\",\"CUB\",null,\"NIC\",\"PAN\",\"MEX\",\"KWT\",\"LBN\",\"JOR\",\"HND\",\"IRQ\",\"SLV\",null,\"GTM\",\"BHR\",\"EGY\",\"CRI\",\"COL\",\"ECU\",\"PER\",\"TUR\",\"TUN\",\"PRY\",\"SYR\",\"SAU\",\"DZA\",\"QAT\",\"OMN\",\"YEM\",\"BRA\",\"ARE\",null,null,\"GNQ\",\"COG\",\"LBY\",\"RWA\",\"MAR\",\"MOZ\",\"AGO\",\"CAF\",\"MUS\",\"MDG\",\"MWI\",\"KEN\",\"PAK\",\"NPL\",\"BTN\",\"ERI\",\"ETH\",\"LSO\",\"BGD\",\"IND\",\"DJI\",\"GAB\",\"AFG\",\"ZWE\",\"SWZ\",\"BWA\",\"TZA\",\"NAM\",\"COM\",\"ZMB\",\"BDI\",\"ZAF\",\"MLI\",\"SOM\",\"UGA\",\"GNB\",\"LBR\",\"GIN\",\"SYC\",\"GHA\",\"CIV\",\"GMB\",\"MCO\",\"NRU\",\"TCD\",\"CMR\",\"CPV\",\"TGO\",\"GUM\",\"SEN\",\"COK\",\"GRL\",\"BFA\",\"NGA\",\"STP\",\"ASM\",\"SLE\",\"BEN\",\"NER\",\"BMU\",\"SSD\",null,\"MRT\",\"TUV\",\"NIU\",\"MNP\",\"TKL\",\"SMR\",\"KNA\",\"PLW\",\"PRI\",\"SDN\"],\"text\":[\"Thailand\",\"Sri Lanka\",\"Vanuatu\",\"Tonga\",\"Myanmar\",\"Philippines\",\"Solomon Islands\",\"Turkmenistan\",\"Malaysia\",\"Maldives\",\"Papua New Guinea\",\"Tajikistan\",\"Samoa\",\"Lao People's Democratic Republic\",\"Kyrgyzstan\",\"Indonesia\",\"Micronesia (Federated States of)\",\"Georgia\",\"Cambodia\",\"Kiribati\",\"Mongolia\",\"Fiji\",\"Marshall Islands\",\"Kazakhstan\",\"Democratic People's Republic of Korea\",\"Azerbaijan\",\"Viet Nam\",\"Taiwan (Province of China)\",\"Armenia\",\"Bosnia and Herzegovina\",\"Albania\",\"China\",\"Belarus\",\"Uzbekistan\",\"Timor-Leste\",\"Singapore\",\"Slovenia\",\"Slovakia\",\"Serbia\",\"Japan\",\"Republic of Korea\",\"Romania\",\"Poland\",\"Brunei Darussalam\",\"Montenegro\",\"Denmark\",\"North Macedonia\",\"Ukraine\",\"Cyprus\",\"Russian Federation\",\"Belgium\",\"Finland\",\"Lithuania\",\"Austria\",\"Andorra\",\"Hungary\",\"Republic of Moldova\",\"Latvia\",\"Bulgaria\",\"Croatia\",\"New Zealand\",\"Czechia\",\"Greece\",\"Estonia\",\"France\",\"Germany\",\"United Kingdom\",\"Australia\",\"Switzerland\",\"Sweden\",\"Belize\",\"Barbados\",\"Spain\",\"Antigua and Barbuda\",\"Bahamas\",\"Norway\",\"Portugal\",\"Netherlands\",\"United States of America\",\"Canada\",\"Luxembourg\",\"Saint Lucia\",\"Malta\",\"Ireland\",\"Jamaica\",\"Haiti\",\"Uruguay\",\"Italy\",\"Saint Vincent and the Grenadines\",\"Israel\",\"Iceland\",\"Suriname\",\"Bolivia (Plurinational State of)\",\"Chile\",\"Argentina\",\"Trinidad and Tobago\",\"Guyana\",\"Dominican Republic\",\"Grenada\",\"Dominica\",\"Cuba\",\"Venezuela (Bolivarian Republic of)\",\"Nicaragua\",\"Panama\",\"Mexico\",\"Kuwait\",\"Lebanon\",\"Jordan\",\"Honduras\",\"Iraq\",\"El Salvador\",\"Iran (Islamic Republic of)\",\"Guatemala\",\"Bahrain\",\"Egypt\",\"Costa Rica\",\"Colombia\",\"Ecuador\",\"Peru\",\"T\\u00fcrkiye\",\"Tunisia\",\"Paraguay\",\"Syrian Arab Republic\",\"Saudi Arabia\",\"Algeria\",\"Qatar\",\"Oman\",\"Yemen\",\"Brazil\",\"United Arab Emirates\",\"Palestine\",\"Democratic Republic of the Congo\",\"Equatorial Guinea\",\"Congo\",\"Libya\",\"Rwanda\",\"Morocco\",\"Mozambique\",\"Angola\",\"Central African Republic\",\"Mauritius\",\"Madagascar\",\"Malawi\",\"Kenya\",\"Pakistan\",\"Nepal\",\"Bhutan\",\"Eritrea\",\"Ethiopia\",\"Lesotho\",\"Bangladesh\",\"India\",\"Djibouti\",\"Gabon\",\"Afghanistan\",\"Zimbabwe\",\"Eswatini\",\"Botswana\",\"United Republic of Tanzania\",\"Namibia\",\"Comoros\",\"Zambia\",\"Burundi\",\"South Africa\",\"Mali\",\"Somalia\",\"Uganda\",\"Guinea-Bissau\",\"Liberia\",\"Guinea\",\"Seychelles\",\"Ghana\",\"C\\u00f4te d'Ivoire\",\"Gambia\",\"Monaco\",\"Nauru\",\"Chad\",\"Cameroon\",\"Cabo Verde\",\"Togo\",\"Guam\",\"Senegal\",\"Cook Islands\",\"Greenland\",\"Burkina Faso\",\"Nigeria\",\"Sao Tome and Principe\",\"American Samoa\",\"Sierra Leone\",\"Benin\",\"Niger\",\"Bermuda\",\"South Sudan\",\"United States Virgin Islands\",\"Mauritania\",\"Tuvalu\",\"Niue\",\"Northern Mariana Islands\",\"Tokelau\",\"San Marino\",\"Saint Kitts and Nevis\",\"Palau\",\"Puerto Rico\",\"Sudan\"],\"z\":{\"dtype\":\"f8\",\"bdata\":\"s67AfFuvyEBjWoWNIhjGQGBOlMav0MRAS\\u002fx6WTw8xEDVdcLX4HvEQOZ2FLETfMVAxrTZDkkJxUAgRzpfaYbDQIFcb4RFhMdAVeMIVqP8xUAoj\\u002fFQpZvEQKSFUC0PCsNAeEjvk08+xEBcpmUIbSzGQKC97CIHCMRAPmruwlrFxEC1SQCRjeLFQAo3UlteZcZAvrMsy70QxkDKCd2R7mvFQDbNkuMussRAiYkG1sJhxUDPcBJvlITFQAGnpgrNNcRAV2sq4i7lxkA5h8vNKCnEQBQxAxaWXsJA5oOEc3WbxkCqBgD8dubFQFQIm7rM48dANbUlfWbyxkB9BoniHcfGQLgLXEoC\\u002f8lAqiamqUO8w0Au8yUSpnnDQJJhuP3zscVAjkRFcoigyEAugvdIZGLHQLc+Svsi1MdAVaW+zDCnxEBMFvPVL3bGQEkDx1rBFcdA51\\u002f6K4v2xUBVs\\u002fuVPh3FQIF7yU+Ag8dA1Z73c83NzEB0ASo5TUjHQKyk+lc\\u002fEspAy3TEDokAzkAdnTxVg5\\u002fHQDDuozUZ08xAWZFw1zF2zEDfFSLwagLMQHfl78LGrc1ALz2TWY2yzkDoRCqt1RLIQMEhtyTy6slATWB1G\\u002fxuykAZeh2dn83HQJuhqJlFoshA4K6W3uCv0UDHmj0rI3\\u002fHQDTg1rOr8dBAsHR8dHbMyUC8SxXM+O\\u002fPQBIhU7Bs8M1ApbDmx9YazUDlcFwb9vfRQMZsydIcstBAbBAy+7pMzkB\\u002fHvB3nrzLQHReLHxAx8xAHcwcpLFt0UDXoPYxu3DMQPvhMoiyh8xAiZoxfXRfz0Brj6CjdznSQODciMOBjM9ABhNgNtZC0EASAT+SY3bLQBtz4iUzLs1AQdIKtYshzUCK9V5GvI7NQOZPJPvdu9BAQS+tcW8UzEBCs\\u002fP2HeTLQOJQWwWej8tA5qxixkQ9zkAGmLo2Z3nMQFKcjaH+98pAQQn5N\\u002f9ozEDNL7bJVUXOQI8jcMVmEsxAAF7qbW2XzUAzp9O\\u002fDCTKQPoWHNUqAs1A9D7iV0NtzkBki6Ya\\u002fszMQIgJTYKqh8xA0GlaZfdozEBF\\u002fLxrMTLOQPQfLq6fmspANpg59GjayEDMFfvsk9vHQJO179xpFshAn0aqZ9iIzUAo6bG+cizQQHcihfgEesxAkPdcyKnfx0D5M9q5oI7LQE5iRvmkLslAoqUouMuX0kAeYZ5B0ebIQNmYxYjnXs5AaiKwB+\\u002fYykDy0f1MudjJQGUYiOzVfchABL9BF06cy0DKC1kF6WTKQMUczQvK\\u002f8tASAtPbkm3z0C9xok1F4XOQKi2vxt4s85A+PUtXjHpzED5Okgb6xfMQHA7U4\\u002f0mc1AE6kJQnDIy0COP5NwoJrMQKfr\\u002frKqxtBA90L2KSLry0DvuT2lGB\\u002fQQLyUwUy\\u002fMMdA8pdxEwQ3x0CVA0yiVuHHQB3C3ONpH89Abg655AGexkAZY5KBOLDOQL0bi2+w7cRAvAXqlw6XxUCj4gBuim7IQH+NtYGy2chAC\\u002f0iv2yexUDNIuP5+bbEQFGSo9WqvsVAASxHK73Gx0DaIZyRWJnJQLGKNDP9usdAVmZPSFQzxkDaAS8VG0jFQMpLY9AtcMhADjgrIdecxkD1Y8kcDoPKQDjFJRLvSMZAJx1cKQIUyECy+p3kNUTNQJ9wFv8nAcNACwYM7nXQxUCf6HCn3dfGQGgCaFm1\\u002f8RAdN20KHXjxEDHv542mVzGQEPhvhFHQcRAAztCQcpZxUC3DcgTpujHQHPHAN3NTMFATYS5A0IyxkAjSsBeS5bGQB8Th+Q2isNAoGzTRyH1xECiIfLgmUrDQLprKVJUaMVA\\u002f9A0oncwxEBo4IX8rRPDQFfGo27HdMVAlHs0ut\\u002fxzkB\\u002fep3VdrDEQLiZu\\u002fTXNsNA5AezSWHQw0AaNLGKtp7HQPlX63qXyMRA2mXGj0GHxkCGkGajxznDQOhqphjkCcdAguqa9E7Y0ECdCTJLXzfDQHb1jiBzIsJAZTWu8M3ew0BAXb2\\u002ffy\\u002fFQA26EF+klcRAl6j3W7Uiw0DDVB7qah3CQL+07HoD2MxA4IO0tqOLxUBB8by1Lp\\u002fMQHzDIu6tUsJAaSRCP+0zxkDTf6IEbdfGQH4kCCSYMcZAJoFtrCJJxkAMmGqkJjrPQI9iupEqhc5AcsrqaC15x0DvBhvm6zLMQCpYhVuXxsxA\"},\"zmax\":24265.36555356327,\"zmin\":8.83465557755024,\"type\":\"choropleth\"}],\"name\":\"2019\"},{\"data\":[{\"colorbar\":{\"title\":{\"text\":\"Prevalentie (Rate)\"}},\"colorscale\":[[0.0,\"rgb(255,245,240)\"],[0.125,\"rgb(254,224,210)\"],[0.25,\"rgb(252,187,161)\"],[0.375,\"rgb(252,146,114)\"],[0.5,\"rgb(251,106,74)\"],[0.625,\"rgb(239,59,44)\"],[0.75,\"rgb(203,24,29)\"],[0.875,\"rgb(165,15,21)\"],[1.0,\"rgb(103,0,13)\"]],\"locations\":[\"THA\",\"LKA\",\"VUT\",\"TON\",\"MMR\",\"PHL\",\"SLB\",\"TKM\",\"MYS\",\"MDV\",\"PNG\",\"TJK\",\"WSM\",\"LAO\",\"KGZ\",\"IDN\",null,\"GEO\",\"KHM\",\"KIR\",\"MNG\",\"FJI\",\"MHL\",\"KAZ\",\"PRK\",\"AZE\",\"VNM\",null,\"ARM\",\"BIH\",\"ALB\",\"CHN\",\"BLR\",\"UZB\",\"TLS\",\"SGP\",\"SVN\",\"SVK\",\"SRB\",\"JPN\",null,\"ROU\",\"POL\",\"BRN\",\"MNE\",\"DNK\",\"MKD\",\"UKR\",\"CYP\",\"RUS\",\"BEL\",\"FIN\",\"LTU\",\"AUT\",\"AND\",\"HUN\",\"MDA\",\"LVA\",\"BGR\",\"HRV\",\"NZL\",\"CZE\",\"GRC\",\"EST\",\"FRA\",\"DEU\",\"GBR\",\"AUS\",\"CHE\",\"SWE\",\"BLZ\",\"BRB\",\"ESP\",\"ATG\",\"BHS\",\"NOR\",\"PRT\",\"NLD\",\"USA\",\"CAN\",\"LUX\",\"LCA\",\"MLT\",\"IRL\",\"JAM\",\"HTI\",\"URY\",\"ITA\",\"VCT\",\"ISR\",\"ISL\",\"SUR\",null,\"CHL\",\"ARG\",\"TTO\",\"GUY\",\"DOM\",\"GRD\",\"DMA\",\"CUB\",null,\"NIC\",\"PAN\",\"MEX\",\"KWT\",\"LBN\",\"JOR\",\"HND\",\"IRQ\",\"SLV\",null,\"GTM\",\"BHR\",\"EGY\",\"CRI\",\"COL\",\"ECU\",\"PER\",\"TUR\",\"TUN\",\"PRY\",\"SYR\",\"SAU\",\"DZA\",\"QAT\",\"OMN\",\"YEM\",\"BRA\",\"ARE\",null,null,\"GNQ\",\"COG\",\"LBY\",\"RWA\",\"MAR\",\"MOZ\",\"AGO\",\"CAF\",\"MUS\",\"MDG\",\"MWI\",\"KEN\",\"PAK\",\"NPL\",\"BTN\",\"ERI\",\"ETH\",\"LSO\",\"BGD\",\"IND\",\"DJI\",\"GAB\",\"AFG\",\"ZWE\",\"SWZ\",\"BWA\",\"TZA\",\"NAM\",\"COM\",\"ZMB\",\"BDI\",\"ZAF\",\"MLI\",\"SOM\",\"UGA\",\"GNB\",\"LBR\",\"GIN\",\"SYC\",\"GHA\",\"CIV\",\"GMB\",\"MCO\",\"NRU\",\"TCD\",\"CMR\",\"CPV\",\"TGO\",\"GUM\",\"SEN\",\"COK\",\"GRL\",\"BFA\",\"NGA\",\"STP\",\"ASM\",\"SLE\",\"BEN\",\"NER\",\"BMU\",\"SSD\",null,\"MRT\",\"TUV\",\"NIU\",\"MNP\",\"TKL\",\"SMR\",\"KNA\",\"PLW\",\"PRI\",\"SDN\"],\"text\":[\"Thailand\",\"Sri Lanka\",\"Vanuatu\",\"Tonga\",\"Myanmar\",\"Philippines\",\"Solomon Islands\",\"Turkmenistan\",\"Malaysia\",\"Maldives\",\"Papua New Guinea\",\"Tajikistan\",\"Samoa\",\"Lao People's Democratic Republic\",\"Kyrgyzstan\",\"Indonesia\",\"Micronesia (Federated States of)\",\"Georgia\",\"Cambodia\",\"Kiribati\",\"Mongolia\",\"Fiji\",\"Marshall Islands\",\"Kazakhstan\",\"Democratic People's Republic of Korea\",\"Azerbaijan\",\"Viet Nam\",\"Taiwan (Province of China)\",\"Armenia\",\"Bosnia and Herzegovina\",\"Albania\",\"China\",\"Belarus\",\"Uzbekistan\",\"Timor-Leste\",\"Singapore\",\"Slovenia\",\"Slovakia\",\"Serbia\",\"Japan\",\"Republic of Korea\",\"Romania\",\"Poland\",\"Brunei Darussalam\",\"Montenegro\",\"Denmark\",\"North Macedonia\",\"Ukraine\",\"Cyprus\",\"Russian Federation\",\"Belgium\",\"Finland\",\"Lithuania\",\"Austria\",\"Andorra\",\"Hungary\",\"Republic of Moldova\",\"Latvia\",\"Bulgaria\",\"Croatia\",\"New Zealand\",\"Czechia\",\"Greece\",\"Estonia\",\"France\",\"Germany\",\"United Kingdom\",\"Australia\",\"Switzerland\",\"Sweden\",\"Belize\",\"Barbados\",\"Spain\",\"Antigua and Barbuda\",\"Bahamas\",\"Norway\",\"Portugal\",\"Netherlands\",\"United States of America\",\"Canada\",\"Luxembourg\",\"Saint Lucia\",\"Malta\",\"Ireland\",\"Jamaica\",\"Haiti\",\"Uruguay\",\"Italy\",\"Saint Vincent and the Grenadines\",\"Israel\",\"Iceland\",\"Suriname\",\"Bolivia (Plurinational State of)\",\"Chile\",\"Argentina\",\"Trinidad and Tobago\",\"Guyana\",\"Dominican Republic\",\"Grenada\",\"Dominica\",\"Cuba\",\"Venezuela (Bolivarian Republic of)\",\"Nicaragua\",\"Panama\",\"Mexico\",\"Kuwait\",\"Lebanon\",\"Jordan\",\"Honduras\",\"Iraq\",\"El Salvador\",\"Iran (Islamic Republic of)\",\"Guatemala\",\"Bahrain\",\"Egypt\",\"Costa Rica\",\"Colombia\",\"Ecuador\",\"Peru\",\"T\\u00fcrkiye\",\"Tunisia\",\"Paraguay\",\"Syrian Arab Republic\",\"Saudi Arabia\",\"Algeria\",\"Qatar\",\"Oman\",\"Yemen\",\"Brazil\",\"United Arab Emirates\",\"Palestine\",\"Democratic Republic of the Congo\",\"Equatorial Guinea\",\"Congo\",\"Libya\",\"Rwanda\",\"Morocco\",\"Mozambique\",\"Angola\",\"Central African Republic\",\"Mauritius\",\"Madagascar\",\"Malawi\",\"Kenya\",\"Pakistan\",\"Nepal\",\"Bhutan\",\"Eritrea\",\"Ethiopia\",\"Lesotho\",\"Bangladesh\",\"India\",\"Djibouti\",\"Gabon\",\"Afghanistan\",\"Zimbabwe\",\"Eswatini\",\"Botswana\",\"United Republic of Tanzania\",\"Namibia\",\"Comoros\",\"Zambia\",\"Burundi\",\"South Africa\",\"Mali\",\"Somalia\",\"Uganda\",\"Guinea-Bissau\",\"Liberia\",\"Guinea\",\"Seychelles\",\"Ghana\",\"C\\u00f4te d'Ivoire\",\"Gambia\",\"Monaco\",\"Nauru\",\"Chad\",\"Cameroon\",\"Cabo Verde\",\"Togo\",\"Guam\",\"Senegal\",\"Cook Islands\",\"Greenland\",\"Burkina Faso\",\"Nigeria\",\"Sao Tome and Principe\",\"American Samoa\",\"Sierra Leone\",\"Benin\",\"Niger\",\"Bermuda\",\"South Sudan\",\"United States Virgin Islands\",\"Mauritania\",\"Tuvalu\",\"Niue\",\"Northern Mariana Islands\",\"Tokelau\",\"San Marino\",\"Saint Kitts and Nevis\",\"Palau\",\"Puerto Rico\",\"Sudan\"],\"z\":{\"dtype\":\"f8\",\"bdata\":\"rLqj4JIiyUDGbuhURRzHQNIKryJJN8VA9pOi6IyNxECx2cFCmIbFQPtOQpa5ecdAWS8sjpVnxUD3J+9b8cfEQO70a3\\u002fgsMdAJrbkmhs3x0AJwk3w9KnEQDcRqZlqHsRAUQBcHFGPxEADq2CY6bTGQN1NOXl\\u002fx8VAFnII9Yf2xUCWJ9tPpTfGQE749uuLesdADksLgpy3xkBHhbYXqcfFQLLoGWWXt8RAgVIG3dLjxUBlCSH8ot3FQItJMdYPKsVA\\u002fxLSTsg7x0A9Zz3AO6zFQFS9B+s5ncJAakwaTXXyxkBCOKN7kd3HQOweKQupqMlAOXi57GADyUCWyPpJWjLHQL+RDIsOesxACCWDhqHcxEC9tvZQuyvEQME6qlD6R8ZAKl2kCa1sykAYs76WsIDIQBJ+yF6vaclAveqtY1pTxUBPsFLMrifHQC0g76c+DslAUc6CwS9kx0DFXumu2dPFQApfnBmmlMlAFzFDZp+zzkAV\\u002fng3INzJQII3BM3ujstAqAmdiMuDz0D6\\u002ffvKQUPJQIlcCT2wCdBA4eP3KvRdzkAyV0wldzrOQNLGCjPV5c9A62cnbMAL0UCR7G\\u002fbYTvJQB6\\u002fIJZ4DcxAxsMlf6qxy0BMBEISr6HJQGwWSUa1SspAsRe4CQ3+0UCBFVbhTPjIQIlYGB6K7dFAK5yzbUvqykCVkyxPSpbRQArh2FkG289ACe4vQ7Yu0ECk+NPchY7SQAjyk4MRh9FAT1bvmT1t0EDw6hnywSHOQF6GtptSHc5AYVK50BvI0kAZWR\\u002f0CQTOQH1b1+FYAM9ApME\\u002fgUt30EA5Say1YDDUQOZ2r9loatFA4cCOY7X+0UB8ag8tB5zNQAzV+2pBvM9A4vOS55iYzkCxy6QNRmPPQCFglWqoG9JAKZ3YW9iHzUAPI9dHgZTNQIRgBIsa2sxAEa4T5Fm60EARuQ0KX\\u002fTNQP179mHz8cxAjIkh5EDNzUD7Qe3WRD7QQAvMlsyAHtFAAYUV8FGu0EB08dOoBDfNQHtz2eahhs5Au9bLbOxr0EBVckCt6qzPQLA0jszfBM5AbKRs3zDwzUBiPE5BBJvPQOa\\u002fGSxnx8tAAdzcASC6y0CKcNpb5e7KQAZc\\u002flGHv8tAUR\\u002fvnK5sz0AJTBzE2qHRQGY7TumeQs5A93S1T5LDykAJtvLpKTfPQNfVMeEJ\\u002fMtAjVXtIAhV1ED6B+Lj3a\\u002fLQCSrImA0dNBAb8goWEkezUBORko4vxDMQD9Esz1azspATq5C5g4a0EChrm+VbnjPQA0QE7AvHs5AJpbeOzY00UBIYdnOsW\\u002fQQAGYzV55fdBAy0t5uhX5z0DyV2zExFvOQJM29NufTs9AQxCqpkh6zkBJAIxGFRLOQOlaVYr8ZNJAYJ9\\u002f6CQuzkCL2lLK45zRQDGhvX6pAclAQHzsgIBCyUD9wtl4vvDJQDLt2a3G\\u002fdBARgd0GKqWx0AtrkSHkHLRQIJ6e3Xz3cVAbZEFs+JOx0A4fBro9pvKQALoHPBwVcpA9Se2VNIbx0Ai\\u002foT5gLPFQEhbNGqWjsdAsclq6Jp1yUCNPJ+SBirMQLh7gVUexMhAFFCvaPHIxkBTJPRWQpzGQGAuoHszMspAxPEEbrDGyEDFIQp6bZzMQG3wP0hcwsdAQL5\\u002fzLW2yUB4iHuwO83PQPFBHc586cNAod9UE1I8yED1ElXJT5jHQLZED1gSHcZAu9rWJQNGxkB4XHazsrbHQN\\u002fvdXjzLMVAApkiDqWpxkDgrePTBd7KQGWGDKwwQMJAB90Qt95Hx0AuH+m9KRzIQNghcqSKyMRAmVg\\u002fYXMYxkAVIiV9hmHEQCaYpXceYMZAUqlaJoNGxUAQebo2V8XDQIlqbOyB78ZAW5v2Qudp0EDcNfpMFAzFQIRt\\u002fgn9P8RAEwDUIjOYxEDUZVbZ3e\\u002fJQAkHoyDGx8VA0cHiDJf\\u002fx0BZpkkV8sHEQKOvUKZlaMdAHDtUwMfa0kDX4h\\u002ffvcfDQKdrh7edHsNAuhrffigGxUD0nmHacZfFQB\\u002f9vodrwcVAlmDAWxnQw0BYG+cQfqXCQMtN10cCWs5AWonC8RHxxkB\\u002f9AuNkS\\u002fOQFdOjVrBU8NAY29MIyuGxkCDXx99BTnHQPFS7afcCMdALeWbdNqsxkAFb6cQkF7RQFwNMS63LtBAsMj6ncfUx0DeFQg0+BfOQBuEvBDh0c9A\"},\"zmax\":24265.36555356327,\"zmin\":8.83465557755024,\"type\":\"choropleth\"}],\"name\":\"2020\"},{\"data\":[{\"colorbar\":{\"title\":{\"text\":\"Prevalentie (Rate)\"}},\"colorscale\":[[0.0,\"rgb(255,245,240)\"],[0.125,\"rgb(254,224,210)\"],[0.25,\"rgb(252,187,161)\"],[0.375,\"rgb(252,146,114)\"],[0.5,\"rgb(251,106,74)\"],[0.625,\"rgb(239,59,44)\"],[0.75,\"rgb(203,24,29)\"],[0.875,\"rgb(165,15,21)\"],[1.0,\"rgb(103,0,13)\"]],\"locations\":[\"THA\",\"LKA\",\"VUT\",\"TON\",\"MMR\",\"PHL\",\"SLB\",\"TKM\",\"MYS\",\"MDV\",\"PNG\",\"TJK\",\"WSM\",\"LAO\",\"KGZ\",\"IDN\",null,\"GEO\",\"KHM\",\"KIR\",\"MNG\",\"FJI\",\"MHL\",\"KAZ\",\"PRK\",\"AZE\",\"VNM\",null,\"ARM\",\"BIH\",\"ALB\",\"CHN\",\"BLR\",\"UZB\",\"TLS\",\"SGP\",\"SVN\",\"SVK\",\"SRB\",\"JPN\",null,\"ROU\",\"POL\",\"BRN\",\"MNE\",\"DNK\",\"MKD\",\"UKR\",\"CYP\",\"RUS\",\"BEL\",\"FIN\",\"LTU\",\"AUT\",\"AND\",\"HUN\",\"MDA\",\"LVA\",\"BGR\",\"HRV\",\"NZL\",\"CZE\",\"GRC\",\"EST\",\"FRA\",\"DEU\",\"GBR\",\"AUS\",\"CHE\",\"SWE\",\"BLZ\",\"BRB\",\"ESP\",\"ATG\",\"BHS\",\"NOR\",\"PRT\",\"NLD\",\"USA\",\"CAN\",\"LUX\",\"LCA\",\"MLT\",\"IRL\",\"JAM\",\"HTI\",\"URY\",\"ITA\",\"VCT\",\"ISR\",\"ISL\",\"SUR\",null,\"CHL\",\"ARG\",\"TTO\",\"GUY\",\"DOM\",\"GRD\",\"DMA\",\"CUB\",null,\"NIC\",\"PAN\",\"MEX\",\"KWT\",\"LBN\",\"JOR\",\"HND\",\"IRQ\",\"SLV\",null,\"GTM\",\"BHR\",\"EGY\",\"CRI\",\"COL\",\"ECU\",\"PER\",\"TUR\",\"TUN\",\"PRY\",\"SYR\",\"SAU\",\"DZA\",\"QAT\",\"OMN\",\"YEM\",\"BRA\",\"ARE\",null,null,\"GNQ\",\"COG\",\"LBY\",\"RWA\",\"MAR\",\"MOZ\",\"AGO\",\"CAF\",\"MUS\",\"MDG\",\"MWI\",\"KEN\",\"PAK\",\"NPL\",\"BTN\",\"ERI\",\"ETH\",\"LSO\",\"BGD\",\"IND\",\"DJI\",\"GAB\",\"AFG\",\"ZWE\",\"SWZ\",\"BWA\",\"TZA\",\"NAM\",\"COM\",\"ZMB\",\"BDI\",\"ZAF\",\"MLI\",\"SOM\",\"UGA\",\"GNB\",\"LBR\",\"GIN\",\"SYC\",\"GHA\",\"CIV\",\"GMB\",\"MCO\",\"NRU\",\"TCD\",\"CMR\",\"CPV\",\"TGO\",\"GUM\",\"SEN\",\"COK\",\"GRL\",\"BFA\",\"NGA\",\"STP\",\"ASM\",\"SLE\",\"BEN\",\"NER\",\"BMU\",\"SSD\",null,\"MRT\",\"TUV\",\"NIU\",\"MNP\",\"TKL\",\"SMR\",\"KNA\",\"PLW\",\"PRI\",\"SDN\"],\"text\":[\"Thailand\",\"Sri Lanka\",\"Vanuatu\",\"Tonga\",\"Myanmar\",\"Philippines\",\"Solomon Islands\",\"Turkmenistan\",\"Malaysia\",\"Maldives\",\"Papua New Guinea\",\"Tajikistan\",\"Samoa\",\"Lao People's Democratic Republic\",\"Kyrgyzstan\",\"Indonesia\",\"Micronesia (Federated States of)\",\"Georgia\",\"Cambodia\",\"Kiribati\",\"Mongolia\",\"Fiji\",\"Marshall Islands\",\"Kazakhstan\",\"Democratic People's Republic of Korea\",\"Azerbaijan\",\"Viet Nam\",\"Taiwan (Province of China)\",\"Armenia\",\"Bosnia and Herzegovina\",\"Albania\",\"China\",\"Belarus\",\"Uzbekistan\",\"Timor-Leste\",\"Singapore\",\"Slovenia\",\"Slovakia\",\"Serbia\",\"Japan\",\"Republic of Korea\",\"Romania\",\"Poland\",\"Brunei Darussalam\",\"Montenegro\",\"Denmark\",\"North Macedonia\",\"Ukraine\",\"Cyprus\",\"Russian Federation\",\"Belgium\",\"Finland\",\"Lithuania\",\"Austria\",\"Andorra\",\"Hungary\",\"Republic of Moldova\",\"Latvia\",\"Bulgaria\",\"Croatia\",\"New Zealand\",\"Czechia\",\"Greece\",\"Estonia\",\"France\",\"Germany\",\"United Kingdom\",\"Australia\",\"Switzerland\",\"Sweden\",\"Belize\",\"Barbados\",\"Spain\",\"Antigua and Barbuda\",\"Bahamas\",\"Norway\",\"Portugal\",\"Netherlands\",\"United States of America\",\"Canada\",\"Luxembourg\",\"Saint Lucia\",\"Malta\",\"Ireland\",\"Jamaica\",\"Haiti\",\"Uruguay\",\"Italy\",\"Saint Vincent and the Grenadines\",\"Israel\",\"Iceland\",\"Suriname\",\"Bolivia (Plurinational State of)\",\"Chile\",\"Argentina\",\"Trinidad and Tobago\",\"Guyana\",\"Dominican Republic\",\"Grenada\",\"Dominica\",\"Cuba\",\"Venezuela (Bolivarian Republic of)\",\"Nicaragua\",\"Panama\",\"Mexico\",\"Kuwait\",\"Lebanon\",\"Jordan\",\"Honduras\",\"Iraq\",\"El Salvador\",\"Iran (Islamic Republic of)\",\"Guatemala\",\"Bahrain\",\"Egypt\",\"Costa Rica\",\"Colombia\",\"Ecuador\",\"Peru\",\"T\\u00fcrkiye\",\"Tunisia\",\"Paraguay\",\"Syrian Arab Republic\",\"Saudi Arabia\",\"Algeria\",\"Qatar\",\"Oman\",\"Yemen\",\"Brazil\",\"United Arab Emirates\",\"Palestine\",\"Democratic Republic of the Congo\",\"Equatorial Guinea\",\"Congo\",\"Libya\",\"Rwanda\",\"Morocco\",\"Mozambique\",\"Angola\",\"Central African Republic\",\"Mauritius\",\"Madagascar\",\"Malawi\",\"Kenya\",\"Pakistan\",\"Nepal\",\"Bhutan\",\"Eritrea\",\"Ethiopia\",\"Lesotho\",\"Bangladesh\",\"India\",\"Djibouti\",\"Gabon\",\"Afghanistan\",\"Zimbabwe\",\"Eswatini\",\"Botswana\",\"United Republic of Tanzania\",\"Namibia\",\"Comoros\",\"Zambia\",\"Burundi\",\"South Africa\",\"Mali\",\"Somalia\",\"Uganda\",\"Guinea-Bissau\",\"Liberia\",\"Guinea\",\"Seychelles\",\"Ghana\",\"C\\u00f4te d'Ivoire\",\"Gambia\",\"Monaco\",\"Nauru\",\"Chad\",\"Cameroon\",\"Cabo Verde\",\"Togo\",\"Guam\",\"Senegal\",\"Cook Islands\",\"Greenland\",\"Burkina Faso\",\"Nigeria\",\"Sao Tome and Principe\",\"American Samoa\",\"Sierra Leone\",\"Benin\",\"Niger\",\"Bermuda\",\"South Sudan\",\"United States Virgin Islands\",\"Mauritania\",\"Tuvalu\",\"Niue\",\"Northern Mariana Islands\",\"Tokelau\",\"San Marino\",\"Saint Kitts and Nevis\",\"Palau\",\"Puerto Rico\",\"Sudan\"],\"z\":{\"dtype\":\"f8\",\"bdata\":\"7Bxt+rT+yUCts5nwa4zIQLsb08IuTMZA9jLpeI55xUDl65q0cfjGQHKNzEtiGMhAnlfg8MluxkAWdE2RwCvFQKG52bMGWMlAqdMzTRj+x0Ck0FjXm2jFQE3YF4lV0cRA3M7lol9\\u002fxUAi\\u002f7ysudvHQEhwPEHAEMZA4e61nw0Sx0DgRxxlkkTHQJuQn5zttchAy2s9kfNXyEDnWD9N29XGQFOWWimdXMVArvswt+1Jx0BX\\u002fd3SY\\u002fXGQNEt1hLhoMVAyg1vnLt7x0Cr4e+NuXfGQBOuBHnFocNAJ1TwiRtIx0BJE8sDqpXIQAA5gwB9zMpAkzhHUsevyUAeThPnFvLHQAPIeWzy585Axd8nLDbrxECc34AoEDjFQI+MY8dDRsZA5Zrq3F+1ykCji8XChlvKQH4plr3kTMpAwmRqjYmBxkDaxIwUXHDHQMv9kg7w4slAljq6QW4myECYTeikqy\\u002fGQLT6lRPT78pAoXhUR5Moz0A3jM0eBBTLQPRs3EUmVc1A8OSbPFQc0ECWiSjxl7TKQBlmX6MzLM9AoOAE0776zkAhx+xVhGPQQDfzb5cAGNBANEvSbY7Z0EAwLFDmz2XKQMTBDQBpDc1A5xJduRyMzkDEBXHtybvLQCwvVg2hCMtAFBMoCEHj0UBK2iUHm9PJQOW6+ymmpdJANZb\\u002f\\u002fHoEzUBNa\\u002fr\\u002fHozRQBRaz+L1ctBANFNVPRMc0ECRH7lH6Y7SQA+gsNqf0tFAkj1uYfU40EBaKtGi4TfOQCu8N+6go89Avc20Y1lu0kA557\\u002f93ufOQGfyalZvk89AkhPh3eqv0ECCv4ZMxn7UQBiSE6lSYNFAZM\\u002fxLIAU0kDPKqkih+zNQLvCg5PKgs9AoU12zcFK0EA0ALUO8UnPQCH2Hr4DSNJA8lOEvhQaz0ATUQE3VTHOQIaobxnlOs9AvFQd75+u0EBhp9U2jkjPQFQPe+Bj6MxAMxavmM+JzUBFBpMbT3TRQFhScKA66dBAujJErNh\\u002f0ECV8USZV8zNQH0Ud7PnltBAEzjwUbRn0UDDJUQzWMfOQENe1tYuH89AKiAKQPYzz0D+Pn\\u002f3DKHQQAx6kQBe6ctALdbCvgyTy0C6Dltc8V\\u002fKQLpu1Sueb8tAN4scZBeRzkAoHA9J0nLTQKH9QvqM885AK8FbfoGEy0Dw02Bw6qzNQEyW0Jnh0stAfCkteLUy1EDBY6eXe+HLQPdlAvU8yNBA8daSjpZszUAqhcckI73MQKFYxka7ycpAOdcm1xeSz0D00Kh8\\u002ffHOQDXw1X0nGc9AElAX7dWM0kDBTJ49OWXRQFTkTTq76tBAD9fUPcyjzkAVzqCLzMrNQKurROv9K89AA++2KyiazkC9cB0q+OHNQJ2oIbet9tJA5+zgObOKzkAeQPk7fQDSQA+T\\u002fcvQfshA5bXavt0TyUDysOC\\u002f4CnKQKmxlPjmCNFAhlZJqvfSyEAEC9A+kRTRQP9WP7qdQsdAJlFddhmZx0BErOOOb6vJQEjt04fPactAZ1xynWK3x0Bi4Jdb4AzHQBwgMdmQpMdA1teTbMAzyUDATbhoiZDMQKT8lOsNNMhAi\\u002fc0GK+kx0DKbL0dBQfHQOMQ6V+TlM1AVgY7n68EyUCGR1Hk5dXMQF08gA+6CMhAZq1xEqzDykCuqylrPDvQQCFbsVBkD8VAd3ZbmzoDy0DEMXWg5oTKQIkSgrUKyMZAMN2RKNQcyUCNoJZeGHXIQG5nXmm6xMZA53nf+Y5gx0Bd53rF4qbLQKTBm1a9DsJAB3PmEArAyEA1TcnAuh7JQGrlYesmyMRAI+75mP35xUAvKq6KBZvEQDMfobdY4MdAd1ibqC51xUBTLpRZObvDQNr1UfNJF8dAv71j2WPe0EDFGmOIiyDGQJFXESJkqMNAO38WtufkxECvtJiwClzKQDWyX9UUvcVAiOUPUlmeyEB3fQjaZCTFQCx2lrE6cchAF\\u002fSRI7QW00CBYZhDGc\\u002fDQJwd01\\u002fJq8JAE9GRs8b0xECVKX1yf6nGQBk+HbMa7MRAPyVw6FgVxEBbcguyZkjCQCyHUhmlNs9AqFqBJ9akxkA9C3wYyefOQJH2AnOuYMNA90hQS1mHx0C4N8hiKTvIQDSoS3e0dMhAdIPNLkDFx0A9gYN\\u002fdETRQHlPyYBbfdBAHBW8TnjbyECwlkDSswLOQMBIjvpsl89A\"},\"zmax\":24265.36555356327,\"zmin\":8.83465557755024,\"type\":\"choropleth\"}],\"name\":\"2021\"}]);\n",
       "                        }).then(function(){\n",
       "                            \n",
       "var gd = document.getElementById('9cf75d8c-ffa8-49a0-ac9f-4a5c76872abe');\n",
       "var x = new MutationObserver(function (mutations, observer) {{\n",
       "        var display = window.getComputedStyle(gd).display;\n",
       "        if (!display || display === 'none') {{\n",
       "            console.log([gd, 'removed!']);\n",
       "            Plotly.purge(gd);\n",
       "            observer.disconnect();\n",
       "        }}\n",
       "}});\n",
       "\n",
       "// Listen for the removal of the full notebook cells\n",
       "var notebookContainer = gd.closest('#notebook-container');\n",
       "if (notebookContainer) {{\n",
       "    x.observe(notebookContainer, {childList: true});\n",
       "}}\n",
       "\n",
       "// Listen for the clearing of the current output cell\n",
       "var outputEl = gd.closest('.output');\n",
       "if (outputEl) {{\n",
       "    x.observe(outputEl, {childList: true});\n",
       "}}\n",
       "\n",
       "                        })                };            </script>        </div>"
      ]
     },
     "metadata": {},
     "output_type": "display_data"
    }
   ],
   "source": [
    "import pandas as pd\n",
    "import plotly.graph_objects as go\n",
    "import pycountry\n",
    "\n",
    "# === Data inladen ===\n",
    "csv_path = \"datasets/IHME_mental_real.csv\"\n",
    "df = pd.read_csv(csv_path)\n",
    "\n",
    "# === Landen naar ISO3 codes ===\n",
    "def get_iso3(name):\n",
    "    try:\n",
    "        return pycountry.countries.lookup(name).alpha_3\n",
    "    except LookupError:\n",
    "        return None\n",
    "\n",
    "df[\"iso_alpha\"] = df[\"location\"].apply(get_iso3)\n",
    "df[\"val_display\"] = df[\"val\"]\n",
    "df.loc[df[\"metric\"] == \"Percent\", \"val_display\"] *= 100\n",
    "percent_max = df.loc[df[\"metric\"] == \"Percent\", \"val_display\"].max()\n",
    "\n",
    "# === Parameters ===\n",
    "sex = \"Both\"\n",
    "metric = \"Rate\"\n",
    "min_val = df[\"val_display\"].min()\n",
    "max_val = df[\"val_display\"].max()\n",
    "\n",
    "# === Unieke jaren ===\n",
    "years = sorted(df[\"year\"].unique())\n",
    "\n",
    "# === Frames per jaar ===\n",
    "frames = []\n",
    "for year in years:\n",
    "    dff = df[(df[\"year\"] == year) & (df[\"sex\"] == sex) & (df[\"metric\"] == metric)]\n",
    "    if dff.empty:\n",
    "        continue\n",
    "    frames.append(\n",
    "        go.Frame(\n",
    "            data=[\n",
    "                go.Choropleth(\n",
    "                    locations=dff[\"iso_alpha\"],\n",
    "                    z=dff[\"val_display\"],\n",
    "                    text=dff[\"location\"],\n",
    "                    colorscale=\"Reds\",\n",
    "                    zmin=min_val if metric != \"Percent\" else 0,\n",
    "                    zmax=max_val if metric != \"Percent\" else percent_max,\n",
    "                    colorbar_title=f\"Prevalentie ({metric})\",\n",
    "                )\n",
    "            ],\n",
    "            name=str(year),\n",
    "        )\n",
    "    )\n",
    "\n",
    "# === Initieel figuur voor eerste jaar ===\n",
    "first_year = years[0]\n",
    "df_first = df[(df[\"year\"] == first_year) & (df[\"sex\"] == sex) & (df[\"metric\"] == metric)]\n",
    "\n",
    "fig = go.Figure(\n",
    "    data=[\n",
    "        go.Choropleth(\n",
    "            locations=df_first[\"iso_alpha\"],\n",
    "            z=df_first[\"val_display\"],\n",
    "            text=df_first[\"location\"],\n",
    "            colorscale=\"Reds\",\n",
    "            zmin=min_val if metric != \"Percent\" else 0,\n",
    "            zmax=max_val if metric != \"Percent\" else percent_max,\n",
    "            colorbar_title=f\"Prevalentie ({metric})\",\n",
    "        )\n",
    "    ],\n",
    "    layout=go.Layout(\n",
    "        title_text=f\"Mental Disorders – {sex} – {metric} – {first_year}\",\n",
    "        geo=dict(showframe=False, showcoastlines=True, projection_type=\"natural earth\"),\n",
    "        sliders=[\n",
    "            {\n",
    "                \"steps\": [\n",
    "                    {\n",
    "                        \"method\": \"animate\",\n",
    "                        \"args\": [[str(y)], {\"mode\": \"immediate\", \"frame\": {\"duration\": 800, \"redraw\": True}, \"transition\": {\"duration\": 0}}],\n",
    "                        \"label\": str(y),\n",
    "                    }\n",
    "                    for y in years\n",
    "                ],\n",
    "                \"transition\": {\"duration\": 0},\n",
    "                \"x\": 0.1,\n",
    "                \"len\": 0.8,\n",
    "                \"xanchor\": \"left\",\n",
    "                \"yanchor\": \"top\",\n",
    "                \"pad\": {\"b\": 10, \"t\": 50},\n",
    "                \"currentvalue\": {\"prefix\": \"Jaar: \", \"font\": {\"size\": 16}},\n",
    "            }\n",
    "        ],\n",
    "        updatemenus=[\n",
    "            {\n",
    "                \"type\": \"buttons\",\n",
    "                \"showactive\": False,\n",
    "                \"x\": 0.05,\n",
    "                \"y\": 1.12,\n",
    "                \"xanchor\": \"right\",\n",
    "                \"yanchor\": \"top\",\n",
    "                \"pad\": {\"r\": 10, \"t\": 70},\n",
    "                \"buttons\": [\n",
    "                    {\n",
    "                        \"label\": \"▶️\",\n",
    "                        \"method\": \"animate\",\n",
    "                        \"args\": [None, {\"frame\": {\"duration\": 800, \"redraw\": True}, \"fromcurrent\": True}],\n",
    "                    },\n",
    "                    {\n",
    "                        \"label\": \"⏸️\",\n",
    "                        \"method\": \"animate\",\n",
    "                        \"args\": [[None], {\"mode\": \"immediate\", \"frame\": {\"duration\": 0}, \"transition\": {\"duration\": 0}}],\n",
    "                    },\n",
    "                ],\n",
    "            }\n",
    "        ],\n",
    "    ),\n",
    "    frames=frames,\n",
    ")\n",
    "\n",
    "fig.show()\n"
   ]
  },
  {
   "cell_type": "code",
   "execution_count": null,
   "id": "1277e355",
   "metadata": {},
   "outputs": [],
   "source": []
  }
 ],
 "metadata": {
  "kernelspec": {
   "display_name": "jupyterbook",
   "language": "python",
   "name": "python3"
  },
  "language_info": {
   "codemirror_mode": {
    "name": "ipython",
    "version": 3
   },
   "file_extension": ".py",
   "mimetype": "text/x-python",
   "name": "python",
   "nbconvert_exporter": "python",
   "pygments_lexer": "ipython3",
   "version": "3.10.16"
  }
 },
 "nbformat": 4,
 "nbformat_minor": 5
}
