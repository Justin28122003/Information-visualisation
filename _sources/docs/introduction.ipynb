{
 "cells": [
  {
   "cell_type": "markdown",
   "id": "998aedbc",
   "metadata": {},
   "source": [
    "# Introduction"
   ]
  },
  {
   "cell_type": "markdown",
   "id": "99c2e38d",
   "metadata": {},
   "source": [
    "- Douwe Maljers (15264424)\n",
    "- Justin van Egmond (15011178)\n",
    "- Noor Verbrugge (15168298)"
   ]
  },
  {
   "cell_type": "markdown",
   "id": "317435ef",
   "metadata": {},
   "source": [
    "Het gebruik van sociale media is de laatste jaren in enorm tempo toegenomen. Alhoewel het gebruik van sociale media de mogelijkheid biedt voor voorbending en entertainment, echter lijkt het gebruik hiervan ook een keerzijde te hebben. Tal van studies tonen aan dat excessief sociale media gebruik samenhangt met verminderde mentale gezondheid. Zo leggen studies het verband tussen sociale mediaverslaving en mentale problemen, als depressie en angststoornissen (Ergün et al., 2023). Desalniettemin zijn er ook studies die het overtuigt zijn, dat dit verband in werkelijk niet bestaat. Zo concludeert Huang (2018) uit een meta-analyse dat het bestaan van dit verband te snel wordt getrokken en dubieus van aard is. \n",
    "Nadat er vanuit artsen, wetenschappers en deskundigen een brandbrief werd verstuurd met een oproep tot regelgeving omtrent smartphone bezit en sociale media gebruik, komt de Nederlandse politiek binnenkort met een richtlijn omtrent dit  (NOS, 2025). In hoeverre is de invoering van deze richtlijnen terecht? Zijn richtlijnen alleen voor kinderen nodig of mooeten deze voor de hele samenleving gelden?\n",
    "\n",
    "Wereldwijd is de populatie met mentale stoornissen significant gestegen. In de grafiek boven is per land de trend te zien. Vandaar dat dit onderzoek nog meer van belang is. Vrouwen en mannen zijn beide slachtoffer van deze chronische ziekte. \n",
    "\n",
    "In dit onderzoek worden beide standpunten onderbouwd aan de hand van data visualisaties, specifiek gericht op sociale mediaverslaving onder studenten. Dit wordt gedaan met behulp van verschillende datasets van diverse groepen studenten. Tevens wordt een dataset van het Institute for Health Metrics and Evaluation gebruikt om de grootschaligheid van het wereldwijde probleem van mentale stoornissen en verminderde mentale gesteldheid in kaart te brengen."
   ]
  },
  {
   "cell_type": "code",
   "execution_count": 3,
   "id": "0b6219e6",
   "metadata": {},
   "outputs": [
    {
     "data": {
      "application/vnd.plotly.v1+json": {
       "config": {
        "plotlyServerURL": "https://plot.ly"
       },
       "data": [
        {
         "coloraxis": "coloraxis",
         "geo": "geo",
         "hovertemplate": "<b>%{hovertext}</b><br><br>Country=%{location}<br>Prevalentie (Rate)=%{z}<extra></extra>",
         "hovertext": [
          "Thailand",
          "Sri Lanka",
          "Vanuatu",
          "Tonga",
          "Myanmar",
          "Philippines",
          "Solomon Islands",
          "Turkmenistan",
          "Malaysia",
          "Maldives",
          "Papua New Guinea",
          "Tajikistan",
          "Samoa",
          "Lao People's Democratic Republic",
          "Kyrgyzstan",
          "Indonesia",
          "Micronesia (Federated States of)",
          "Georgia",
          "Cambodia",
          "Kiribati",
          "Mongolia",
          "Fiji",
          "Marshall Islands",
          "Kazakhstan",
          "Democratic People's Republic of Korea",
          "Azerbaijan",
          "Viet Nam",
          "Taiwan (Province of China)",
          "Armenia",
          "Bosnia and Herzegovina",
          "Albania",
          "China",
          "Belarus",
          "Uzbekistan",
          "Timor-Leste",
          "Singapore",
          "Slovenia",
          "Slovakia",
          "Serbia",
          "Japan",
          "Republic of Korea",
          "Romania",
          "Poland",
          "Brunei Darussalam",
          "Montenegro",
          "Denmark",
          "North Macedonia",
          "Ukraine",
          "Cyprus",
          "Russian Federation",
          "Belgium",
          "Finland",
          "Lithuania",
          "Austria",
          "Andorra",
          "Hungary",
          "Republic of Moldova",
          "Latvia",
          "Bulgaria",
          "Croatia",
          "New Zealand",
          "Czechia",
          "Greece",
          "Estonia",
          "France",
          "Germany",
          "United Kingdom",
          "Australia",
          "Switzerland",
          "Sweden",
          "Belize",
          "Barbados",
          "Spain",
          "Antigua and Barbuda",
          "Bahamas",
          "Norway",
          "Portugal",
          "Netherlands",
          "United States of America",
          "Canada",
          "Luxembourg",
          "Saint Lucia",
          "Malta",
          "Ireland",
          "Jamaica",
          "Haiti",
          "Uruguay",
          "Italy",
          "Saint Vincent and the Grenadines",
          "Israel",
          "Iceland",
          "Suriname",
          "Bolivia (Plurinational State of)",
          "Chile",
          "Argentina",
          "Trinidad and Tobago",
          "Guyana",
          "Dominican Republic",
          "Grenada",
          "Dominica",
          "Cuba",
          "Venezuela (Bolivarian Republic of)",
          "Nicaragua",
          "Panama",
          "Mexico",
          "Kuwait",
          "Lebanon",
          "Jordan",
          "Honduras",
          "Iraq",
          "El Salvador",
          "Iran (Islamic Republic of)",
          "Guatemala",
          "Bahrain",
          "Egypt",
          "Costa Rica",
          "Colombia",
          "Ecuador",
          "Peru",
          "Türkiye",
          "Tunisia",
          "Paraguay",
          "Syrian Arab Republic",
          "Saudi Arabia",
          "Algeria",
          "Qatar",
          "Oman",
          "Yemen",
          "Brazil",
          "United Arab Emirates",
          "Palestine",
          "Democratic Republic of the Congo",
          "Equatorial Guinea",
          "Congo",
          "Libya",
          "Rwanda",
          "Morocco",
          "Mozambique",
          "Angola",
          "Central African Republic",
          "Mauritius",
          "Madagascar",
          "Malawi",
          "Kenya",
          "Pakistan",
          "Nepal",
          "Bhutan",
          "Eritrea",
          "Ethiopia",
          "Lesotho",
          "Bangladesh",
          "India",
          "Djibouti",
          "Gabon",
          "Afghanistan",
          "Zimbabwe",
          "Eswatini",
          "Botswana",
          "United Republic of Tanzania",
          "Namibia",
          "Comoros",
          "Zambia",
          "Burundi",
          "South Africa",
          "Mali",
          "Somalia",
          "Uganda",
          "Guinea-Bissau",
          "Liberia",
          "Guinea",
          "Seychelles",
          "Ghana",
          "Côte d'Ivoire",
          "Gambia",
          "Monaco",
          "Nauru",
          "Chad",
          "Cameroon",
          "Cabo Verde",
          "Togo",
          "Guam",
          "Senegal",
          "Cook Islands",
          "Greenland",
          "Burkina Faso",
          "Nigeria",
          "Sao Tome and Principe",
          "American Samoa",
          "Sierra Leone",
          "Benin",
          "Niger",
          "Bermuda",
          "South Sudan",
          "United States Virgin Islands",
          "Mauritania",
          "Tuvalu",
          "Niue",
          "Northern Mariana Islands",
          "Tokelau",
          "San Marino",
          "Saint Kitts and Nevis",
          "Palau",
          "Puerto Rico",
          "Sudan"
         ],
         "locations": [
          "THA",
          "LKA",
          "VUT",
          "TON",
          "MMR",
          "PHL",
          "SLB",
          "TKM",
          "MYS",
          "MDV",
          "PNG",
          "TJK",
          "WSM",
          "LAO",
          "KGZ",
          "IDN",
          null,
          "GEO",
          "KHM",
          "KIR",
          "MNG",
          "FJI",
          "MHL",
          "KAZ",
          "PRK",
          "AZE",
          "VNM",
          null,
          "ARM",
          "BIH",
          "ALB",
          "CHN",
          "BLR",
          "UZB",
          "TLS",
          "SGP",
          "SVN",
          "SVK",
          "SRB",
          "JPN",
          null,
          "ROU",
          "POL",
          "BRN",
          "MNE",
          "DNK",
          "MKD",
          "UKR",
          "CYP",
          "RUS",
          "BEL",
          "FIN",
          "LTU",
          "AUT",
          "AND",
          "HUN",
          "MDA",
          "LVA",
          "BGR",
          "HRV",
          "NZL",
          "CZE",
          "GRC",
          "EST",
          "FRA",
          "DEU",
          "GBR",
          "AUS",
          "CHE",
          "SWE",
          "BLZ",
          "BRB",
          "ESP",
          "ATG",
          "BHS",
          "NOR",
          "PRT",
          "NLD",
          "USA",
          "CAN",
          "LUX",
          "LCA",
          "MLT",
          "IRL",
          "JAM",
          "HTI",
          "URY",
          "ITA",
          "VCT",
          "ISR",
          "ISL",
          "SUR",
          null,
          "CHL",
          "ARG",
          "TTO",
          "GUY",
          "DOM",
          "GRD",
          "DMA",
          "CUB",
          null,
          "NIC",
          "PAN",
          "MEX",
          "KWT",
          "LBN",
          "JOR",
          "HND",
          "IRQ",
          "SLV",
          null,
          "GTM",
          "BHR",
          "EGY",
          "CRI",
          "COL",
          "ECU",
          "PER",
          "TUR",
          "TUN",
          "PRY",
          "SYR",
          "SAU",
          "DZA",
          "QAT",
          "OMN",
          "YEM",
          "BRA",
          "ARE",
          null,
          null,
          "GNQ",
          "COG",
          "LBY",
          "RWA",
          "MAR",
          "MOZ",
          "AGO",
          "CAF",
          "MUS",
          "MDG",
          "MWI",
          "KEN",
          "PAK",
          "NPL",
          "BTN",
          "ERI",
          "ETH",
          "LSO",
          "BGD",
          "IND",
          "DJI",
          "GAB",
          "AFG",
          "ZWE",
          "SWZ",
          "BWA",
          "TZA",
          "NAM",
          "COM",
          "ZMB",
          "BDI",
          "ZAF",
          "MLI",
          "SOM",
          "UGA",
          "GNB",
          "LBR",
          "GIN",
          "SYC",
          "GHA",
          "CIV",
          "GMB",
          "MCO",
          "NRU",
          "TCD",
          "CMR",
          "CPV",
          "TGO",
          "GUM",
          "SEN",
          "COK",
          "GRL",
          "BFA",
          "NGA",
          "STP",
          "ASM",
          "SLE",
          "BEN",
          "NER",
          "BMU",
          "SSD",
          null,
          "MRT",
          "TUV",
          "NIU",
          "MNP",
          "TKL",
          "SMR",
          "KNA",
          "PLW",
          "PRI",
          "SDN"
         ],
         "name": "",
         "type": "choropleth",
         "z": {
          "bdata": "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",
          "dtype": "f8"
         }
        }
       ],
       "layout": {
        "coloraxis": {
         "cmax": 24265.36555356327,
         "cmin": 8.83465557755024,
         "colorbar": {
          "title": {
           "text": "Prevalentie (Rate)"
          }
         },
         "colorscale": [
          [
           0,
           "rgb(255,245,240)"
          ],
          [
           0.125,
           "rgb(254,224,210)"
          ],
          [
           0.25,
           "rgb(252,187,161)"
          ],
          [
           0.375,
           "rgb(252,146,114)"
          ],
          [
           0.5,
           "rgb(251,106,74)"
          ],
          [
           0.625,
           "rgb(239,59,44)"
          ],
          [
           0.75,
           "rgb(203,24,29)"
          ],
          [
           0.875,
           "rgb(165,15,21)"
          ],
          [
           1,
           "rgb(103,0,13)"
          ]
         ]
        },
        "geo": {
         "center": {},
         "domain": {
          "x": [
           0,
           1
          ],
          "y": [
           0,
           1
          ]
         },
         "projection": {
          "type": "natural earth"
         },
         "showcoastlines": true,
         "showframe": false
        },
        "height": 650,
        "legend": {
         "tracegroupgap": 0
        },
        "margin": {
         "b": 0,
         "l": 0,
         "r": 0,
         "t": 50
        },
        "template": {
         "data": {
          "bar": [
           {
            "error_x": {
             "color": "#2a3f5f"
            },
            "error_y": {
             "color": "#2a3f5f"
            },
            "marker": {
             "line": {
              "color": "#E5ECF6",
              "width": 0.5
             },
             "pattern": {
              "fillmode": "overlay",
              "size": 10,
              "solidity": 0.2
             }
            },
            "type": "bar"
           }
          ],
          "barpolar": [
           {
            "marker": {
             "line": {
              "color": "#E5ECF6",
              "width": 0.5
             },
             "pattern": {
              "fillmode": "overlay",
              "size": 10,
              "solidity": 0.2
             }
            },
            "type": "barpolar"
           }
          ],
          "carpet": [
           {
            "aaxis": {
             "endlinecolor": "#2a3f5f",
             "gridcolor": "white",
             "linecolor": "white",
             "minorgridcolor": "white",
             "startlinecolor": "#2a3f5f"
            },
            "baxis": {
             "endlinecolor": "#2a3f5f",
             "gridcolor": "white",
             "linecolor": "white",
             "minorgridcolor": "white",
             "startlinecolor": "#2a3f5f"
            },
            "type": "carpet"
           }
          ],
          "choropleth": [
           {
            "colorbar": {
             "outlinewidth": 0,
             "ticks": ""
            },
            "type": "choropleth"
           }
          ],
          "contour": [
           {
            "colorbar": {
             "outlinewidth": 0,
             "ticks": ""
            },
            "colorscale": [
             [
              0,
              "#0d0887"
             ],
             [
              0.1111111111111111,
              "#46039f"
             ],
             [
              0.2222222222222222,
              "#7201a8"
             ],
             [
              0.3333333333333333,
              "#9c179e"
             ],
             [
              0.4444444444444444,
              "#bd3786"
             ],
             [
              0.5555555555555556,
              "#d8576b"
             ],
             [
              0.6666666666666666,
              "#ed7953"
             ],
             [
              0.7777777777777778,
              "#fb9f3a"
             ],
             [
              0.8888888888888888,
              "#fdca26"
             ],
             [
              1,
              "#f0f921"
             ]
            ],
            "type": "contour"
           }
          ],
          "contourcarpet": [
           {
            "colorbar": {
             "outlinewidth": 0,
             "ticks": ""
            },
            "type": "contourcarpet"
           }
          ],
          "heatmap": [
           {
            "colorbar": {
             "outlinewidth": 0,
             "ticks": ""
            },
            "colorscale": [
             [
              0,
              "#0d0887"
             ],
             [
              0.1111111111111111,
              "#46039f"
             ],
             [
              0.2222222222222222,
              "#7201a8"
             ],
             [
              0.3333333333333333,
              "#9c179e"
             ],
             [
              0.4444444444444444,
              "#bd3786"
             ],
             [
              0.5555555555555556,
              "#d8576b"
             ],
             [
              0.6666666666666666,
              "#ed7953"
             ],
             [
              0.7777777777777778,
              "#fb9f3a"
             ],
             [
              0.8888888888888888,
              "#fdca26"
             ],
             [
              1,
              "#f0f921"
             ]
            ],
            "type": "heatmap"
           }
          ],
          "histogram": [
           {
            "marker": {
             "pattern": {
              "fillmode": "overlay",
              "size": 10,
              "solidity": 0.2
             }
            },
            "type": "histogram"
           }
          ],
          "histogram2d": [
           {
            "colorbar": {
             "outlinewidth": 0,
             "ticks": ""
            },
            "colorscale": [
             [
              0,
              "#0d0887"
             ],
             [
              0.1111111111111111,
              "#46039f"
             ],
             [
              0.2222222222222222,
              "#7201a8"
             ],
             [
              0.3333333333333333,
              "#9c179e"
             ],
             [
              0.4444444444444444,
              "#bd3786"
             ],
             [
              0.5555555555555556,
              "#d8576b"
             ],
             [
              0.6666666666666666,
              "#ed7953"
             ],
             [
              0.7777777777777778,
              "#fb9f3a"
             ],
             [
              0.8888888888888888,
              "#fdca26"
             ],
             [
              1,
              "#f0f921"
             ]
            ],
            "type": "histogram2d"
           }
          ],
          "histogram2dcontour": [
           {
            "colorbar": {
             "outlinewidth": 0,
             "ticks": ""
            },
            "colorscale": [
             [
              0,
              "#0d0887"
             ],
             [
              0.1111111111111111,
              "#46039f"
             ],
             [
              0.2222222222222222,
              "#7201a8"
             ],
             [
              0.3333333333333333,
              "#9c179e"
             ],
             [
              0.4444444444444444,
              "#bd3786"
             ],
             [
              0.5555555555555556,
              "#d8576b"
             ],
             [
              0.6666666666666666,
              "#ed7953"
             ],
             [
              0.7777777777777778,
              "#fb9f3a"
             ],
             [
              0.8888888888888888,
              "#fdca26"
             ],
             [
              1,
              "#f0f921"
             ]
            ],
            "type": "histogram2dcontour"
           }
          ],
          "mesh3d": [
           {
            "colorbar": {
             "outlinewidth": 0,
             "ticks": ""
            },
            "type": "mesh3d"
           }
          ],
          "parcoords": [
           {
            "line": {
             "colorbar": {
              "outlinewidth": 0,
              "ticks": ""
             }
            },
            "type": "parcoords"
           }
          ],
          "pie": [
           {
            "automargin": true,
            "type": "pie"
           }
          ],
          "scatter": [
           {
            "fillpattern": {
             "fillmode": "overlay",
             "size": 10,
             "solidity": 0.2
            },
            "type": "scatter"
           }
          ],
          "scatter3d": [
           {
            "line": {
             "colorbar": {
              "outlinewidth": 0,
              "ticks": ""
             }
            },
            "marker": {
             "colorbar": {
              "outlinewidth": 0,
              "ticks": ""
             }
            },
            "type": "scatter3d"
           }
          ],
          "scattercarpet": [
           {
            "marker": {
             "colorbar": {
              "outlinewidth": 0,
              "ticks": ""
             }
            },
            "type": "scattercarpet"
           }
          ],
          "scattergeo": [
           {
            "marker": {
             "colorbar": {
              "outlinewidth": 0,
              "ticks": ""
             }
            },
            "type": "scattergeo"
           }
          ],
          "scattergl": [
           {
            "marker": {
             "colorbar": {
              "outlinewidth": 0,
              "ticks": ""
             }
            },
            "type": "scattergl"
           }
          ],
          "scattermap": [
           {
            "marker": {
             "colorbar": {
              "outlinewidth": 0,
              "ticks": ""
             }
            },
            "type": "scattermap"
           }
          ],
          "scattermapbox": [
           {
            "marker": {
             "colorbar": {
              "outlinewidth": 0,
              "ticks": ""
             }
            },
            "type": "scattermapbox"
           }
          ],
          "scatterpolar": [
           {
            "marker": {
             "colorbar": {
              "outlinewidth": 0,
              "ticks": ""
             }
            },
            "type": "scatterpolar"
           }
          ],
          "scatterpolargl": [
           {
            "marker": {
             "colorbar": {
              "outlinewidth": 0,
              "ticks": ""
             }
            },
            "type": "scatterpolargl"
           }
          ],
          "scatterternary": [
           {
            "marker": {
             "colorbar": {
              "outlinewidth": 0,
              "ticks": ""
             }
            },
            "type": "scatterternary"
           }
          ],
          "surface": [
           {
            "colorbar": {
             "outlinewidth": 0,
             "ticks": ""
            },
            "colorscale": [
             [
              0,
              "#0d0887"
             ],
             [
              0.1111111111111111,
              "#46039f"
             ],
             [
              0.2222222222222222,
              "#7201a8"
             ],
             [
              0.3333333333333333,
              "#9c179e"
             ],
             [
              0.4444444444444444,
              "#bd3786"
             ],
             [
              0.5555555555555556,
              "#d8576b"
             ],
             [
              0.6666666666666666,
              "#ed7953"
             ],
             [
              0.7777777777777778,
              "#fb9f3a"
             ],
             [
              0.8888888888888888,
              "#fdca26"
             ],
             [
              1,
              "#f0f921"
             ]
            ],
            "type": "surface"
           }
          ],
          "table": [
           {
            "cells": {
             "fill": {
              "color": "#EBF0F8"
             },
             "line": {
              "color": "white"
             }
            },
            "header": {
             "fill": {
              "color": "#C8D4E3"
             },
             "line": {
              "color": "white"
             }
            },
            "type": "table"
           }
          ]
         },
         "layout": {
          "annotationdefaults": {
           "arrowcolor": "#2a3f5f",
           "arrowhead": 0,
           "arrowwidth": 1
          },
          "autotypenumbers": "strict",
          "coloraxis": {
           "colorbar": {
            "outlinewidth": 0,
            "ticks": ""
           }
          },
          "colorscale": {
           "diverging": [
            [
             0,
             "#8e0152"
            ],
            [
             0.1,
             "#c51b7d"
            ],
            [
             0.2,
             "#de77ae"
            ],
            [
             0.3,
             "#f1b6da"
            ],
            [
             0.4,
             "#fde0ef"
            ],
            [
             0.5,
             "#f7f7f7"
            ],
            [
             0.6,
             "#e6f5d0"
            ],
            [
             0.7,
             "#b8e186"
            ],
            [
             0.8,
             "#7fbc41"
            ],
            [
             0.9,
             "#4d9221"
            ],
            [
             1,
             "#276419"
            ]
           ],
           "sequential": [
            [
             0,
             "#0d0887"
            ],
            [
             0.1111111111111111,
             "#46039f"
            ],
            [
             0.2222222222222222,
             "#7201a8"
            ],
            [
             0.3333333333333333,
             "#9c179e"
            ],
            [
             0.4444444444444444,
             "#bd3786"
            ],
            [
             0.5555555555555556,
             "#d8576b"
            ],
            [
             0.6666666666666666,
             "#ed7953"
            ],
            [
             0.7777777777777778,
             "#fb9f3a"
            ],
            [
             0.8888888888888888,
             "#fdca26"
            ],
            [
             1,
             "#f0f921"
            ]
           ],
           "sequentialminus": [
            [
             0,
             "#0d0887"
            ],
            [
             0.1111111111111111,
             "#46039f"
            ],
            [
             0.2222222222222222,
             "#7201a8"
            ],
            [
             0.3333333333333333,
             "#9c179e"
            ],
            [
             0.4444444444444444,
             "#bd3786"
            ],
            [
             0.5555555555555556,
             "#d8576b"
            ],
            [
             0.6666666666666666,
             "#ed7953"
            ],
            [
             0.7777777777777778,
             "#fb9f3a"
            ],
            [
             0.8888888888888888,
             "#fdca26"
            ],
            [
             1,
             "#f0f921"
            ]
           ]
          },
          "colorway": [
           "#636efa",
           "#EF553B",
           "#00cc96",
           "#ab63fa",
           "#FFA15A",
           "#19d3f3",
           "#FF6692",
           "#B6E880",
           "#FF97FF",
           "#FECB52"
          ],
          "font": {
           "color": "#2a3f5f"
          },
          "geo": {
           "bgcolor": "white",
           "lakecolor": "white",
           "landcolor": "#E5ECF6",
           "showlakes": true,
           "showland": true,
           "subunitcolor": "white"
          },
          "hoverlabel": {
           "align": "left"
          },
          "hovermode": "closest",
          "mapbox": {
           "style": "light"
          },
          "paper_bgcolor": "white",
          "plot_bgcolor": "#E5ECF6",
          "polar": {
           "angularaxis": {
            "gridcolor": "white",
            "linecolor": "white",
            "ticks": ""
           },
           "bgcolor": "#E5ECF6",
           "radialaxis": {
            "gridcolor": "white",
            "linecolor": "white",
            "ticks": ""
           }
          },
          "scene": {
           "xaxis": {
            "backgroundcolor": "#E5ECF6",
            "gridcolor": "white",
            "gridwidth": 2,
            "linecolor": "white",
            "showbackground": true,
            "ticks": "",
            "zerolinecolor": "white"
           },
           "yaxis": {
            "backgroundcolor": "#E5ECF6",
            "gridcolor": "white",
            "gridwidth": 2,
            "linecolor": "white",
            "showbackground": true,
            "ticks": "",
            "zerolinecolor": "white"
           },
           "zaxis": {
            "backgroundcolor": "#E5ECF6",
            "gridcolor": "white",
            "gridwidth": 2,
            "linecolor": "white",
            "showbackground": true,
            "ticks": "",
            "zerolinecolor": "white"
           }
          },
          "shapedefaults": {
           "line": {
            "color": "#2a3f5f"
           }
          },
          "ternary": {
           "aaxis": {
            "gridcolor": "white",
            "linecolor": "white",
            "ticks": ""
           },
           "baxis": {
            "gridcolor": "white",
            "linecolor": "white",
            "ticks": ""
           },
           "bgcolor": "#E5ECF6",
           "caxis": {
            "gridcolor": "white",
            "linecolor": "white",
            "ticks": ""
           }
          },
          "title": {
           "x": 0.05
          },
          "xaxis": {
           "automargin": true,
           "gridcolor": "white",
           "linecolor": "white",
           "ticks": "",
           "title": {
            "standoff": 15
           },
           "zerolinecolor": "white",
           "zerolinewidth": 2
          },
          "yaxis": {
           "automargin": true,
           "gridcolor": "white",
           "linecolor": "white",
           "ticks": "",
           "title": {
            "standoff": 15
           },
           "zerolinecolor": "white",
           "zerolinewidth": 2
          }
         }
        },
        "title": {
         "text": "Mental Disorders – Both – Rate – 2015"
        },
        "width": 1100
       }
      }
     },
     "metadata": {},
     "output_type": "display_data"
    }
   ],
   "source": [
    "import pandas as pd\n",
    "import plotly.express as px\n",
    "from ipywidgets import Dropdown, SelectionSlider, Layout, HBox, VBox, interactive_output\n",
    "from IPython.display import display, HTML\n",
    "import pycountry\n",
    "\n",
    "# === Data inladen ===\n",
    "csv_path = \"datasets/IHME_mental_real.csv\"\n",
    "df2 = pd.read_csv(csv_path)\n",
    "\n",
    "# === Landen omzetten naar ISO3-codes ===\n",
    "def get_iso3(name):\n",
    "    try:\n",
    "        return pycountry.countries.lookup(name).alpha_3\n",
    "    except LookupError:\n",
    "        return None\n",
    "\n",
    "df2[\"Country\"] = df2[\"location\"].apply(get_iso3)\n",
    "\n",
    "df2[\"val_display\"] = df2[\"val\"]\n",
    "df2.loc[df2[\"metric\"] == \"Percent\", \"val_display\"] *= 100\n",
    "\n",
    "# === Vaste schaal voor percentages ===\n",
    "percent_max = df2.loc[df2[\"metric\"] == \"Percent\", \"val_display\"].max()\n",
    "\n",
    "def plot_map(year, sex, metric):\n",
    "    dff = df2[(df2[\"year\"] == year) & (df2[\"sex\"] == sex) & (df2[\"metric\"] == metric)]\n",
    "    if dff.empty:\n",
    "        print(\"Geen data beschikbaar voor deze selectie.\")\n",
    "        return\n",
    "    \n",
    "    if metric == \"Percent\":\n",
    "        color_range = [0, percent_max]\n",
    "    else:\n",
    "        color_range = [df2[\"val_display\"].min(), df2[\"val_display\"].max()]\n",
    "    \n",
    "    fig = px.choropleth(\n",
    "        dff,\n",
    "        locations=\"Country\",\n",
    "        color=\"val_display\",\n",
    "        hover_name=\"location\",\n",
    "        color_continuous_scale=\"Reds\",\n",
    "        range_color=color_range,\n",
    "        labels={\"val_display\": f\"Prevalentie ({metric})\"},\n",
    "        title=f\"Mental Disorders – {sex} – {metric} – {year}\",\n",
    "        width=1100,\n",
    "        height=650\n",
    "    )\n",
    "    fig.update_layout(\n",
    "        geo=dict(\n",
    "            showframe=False,\n",
    "            showcoastlines=True,\n",
    "            projection_type=\"natural earth\"\n",
    "        ),\n",
    "        margin=dict(l=0, r=0, t=50, b=0)\n",
    "    )\n",
    "    fig.show()\n",
    "\n",
    "plot_map(2015, 'Both', 'Rate')"
   ]
  },
  {
   "cell_type": "code",
   "execution_count": null,
   "id": "47a30911",
   "metadata": {},
   "outputs": [],
   "source": []
  }
 ],
 "metadata": {
  "kernelspec": {
   "display_name": "jupyterbook",
   "language": "python",
   "name": "python3"
  },
  "language_info": {
   "codemirror_mode": {
    "name": "ipython",
    "version": 3
   },
   "file_extension": ".py",
   "mimetype": "text/x-python",
   "name": "python",
   "nbconvert_exporter": "python",
   "pygments_lexer": "ipython3",
   "version": "3.10.16"
  }
 },
 "nbformat": 4,
 "nbformat_minor": 5
}
