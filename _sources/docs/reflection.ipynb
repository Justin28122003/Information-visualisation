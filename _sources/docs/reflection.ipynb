{
 "cells": [
  {
   "cell_type": "markdown",
   "id": "891192ff",
   "metadata": {},
   "source": [
    "# Reflectie\n",
    "\n"
   ]
  },
  {
   "cell_type": "markdown",
   "id": "5543e1d1",
   "metadata": {},
   "source": [
    "## Peer Feedback\n",
    "Op dinsdag 24 juni hebben wij feedback ontvangen van onze medestudenten. Twee verschillende groepen hebben ons geholpen om een beter eindresultaat neer te zetten. De feedback richtte zich vooral op de visualisaties van ons onderzoek: hoe we deze visueel aantrekkelijker konden maken en de informatie duidelijker konden overbrengen naar de lezer.\n",
    "\n",
    "Naar aanleiding van deze feedback realiseerden we ons dat onze onderzoeksvraag enigszins aangepast moest worden. Aanvankelijk keken we naar twee invalshoeken om de mentale gezondheid van studenten te benaderen. Na onze gesprekken met medestudenten kwamen we tot de conclusie dat het tegenoverstellen van één positief en één negatief aspect niet realistisch was. Daarom hebben we ervoor gekozen om het onderzoek meer multidisciplinair in te richten. Op die manier kunnen we mentale klachten bij studenten vanuit meerdere perspectieven verklaren.\n",
    "\n",
    "De feedback van de studenten was als volgt:\n",
    "\n",
    "* Maak de correlatie tussen mentale gezondheid en individuele factoren meer zichtbaar. Er wordt nu te veel gefocust op de interactie tussen verschillende factoren, bijvoorbeeld sociale media en slaapgedrag. Dat is interessant, maar niet van toepassing op dit onderzoek.\n",
    "\n",
    "* De variabelen mogen meer uitgelegd worden bij de visualisaties. Door meer uitleg te geven per waarde wordt de grafiek duidelijker en vertelt deze meer over de correlaties.\n",
    "\n",
    "* Voeg een regressielijn toe aan de boxplot. Daardoor wordt de toename van de ene variabele beter zichtbaar en kunnen er betere conclusies getrokken worden.\n",
    "\n",
    "* Meer variatie in de verschillende soorten visualisaties maakt het verhaal interessanter. Als er meer verschillende grafieken zijn, komt het onderzoek overtuigender over.\n",
    "\n",
    "## Zelfreflectie\n",
    "Wat ons tijdens het proces het meest opviel, is dat we op het laatste moment nog veel moesten aanpassen. Doordat het feedbackmoment laat in het traject viel, hadden we weinig tijd om de verbeteringen zorgvuldig door te voeren. In de toekomst zouden we proberen eerder in het proces feedbackmomenten in te plannen, zodat er meer ruimte is om het project inhoudelijk te verdiepen.\n",
    "\n",
    "We hadden daarnaast graag wereldwijd studentenervaringen willen meenemen in onze analyse. Al snel merkten we echter dat datasets over mentale gezondheid van studenten vaak beperkt zijn in omvang of reikwijdte. Dat was een leerpunt: sommige onderzoeksvragen zijn moeilijker empirisch te onderbouwen dan verwacht. Een volgende keer zouden we wellicht zelf een survey ontwikkelen of eerder op zoek gaan naar alternatieve databronnen.\n",
    "\n",
    "Ondanks deze beperkingen hebben we een helder overzicht kunnen maken van factoren die bijdragen aan mentale klachten bij studenten. Het bleek een waardevol onderwerp om verder in te duiken, en we hebben veel geleerd over hoe je met beperkte data toch een betekenisvolle analyse kunt uitvoeren."
   ]
  }
 ],
 "metadata": {
  "language_info": {
   "name": "python"
  }
 },
 "nbformat": 4,
 "nbformat_minor": 5
}
