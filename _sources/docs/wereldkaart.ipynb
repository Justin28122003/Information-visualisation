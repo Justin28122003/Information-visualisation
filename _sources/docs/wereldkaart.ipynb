{
 "cells": [
  {
   "cell_type": "code",
   "execution_count": 1,
   "id": "f37f9b0a",
   "metadata": {},
   "outputs": [
    {
     "data": {
      "text/html": [
       "\n",
       "<style>\n",
       ".vbox {\n",
       "    background-color: #f9f9f9;\n",
       "    padding: 20px;\n",
       "    border-radius: 12px;\n",
       "    box-shadow: 0 0 10px rgba(0,0,0,0.1);\n",
       "    width: fit-content;\n",
       "    margin-bottom: 25px;\n",
       "}\n",
       "\n",
       "/* Dropdown styling */\n",
       ".widget-dropdown select {\n",
       "    background-color: white;\n",
       "    border: 1px solid #ccc;\n",
       "    border-radius: 8px;\n",
       "    padding: 6px 12px;\n",
       "    font-size: 14px;\n",
       "}\n",
       "\n",
       "/* Slider track */\n",
       ".widget-selection-slider .slider {\n",
       "    background-color: #ddd;\n",
       "    height: 8px;\n",
       "    border-radius: 4px;\n",
       "}\n",
       "\n",
       "/* Slider handle */\n",
       ".widget-selection-slider .slider .slider-handle {\n",
       "    background-color: #e74c3c;\n",
       "    border-radius: 50%;\n",
       "    width: 16px;\n",
       "    height: 16px;\n",
       "    margin-top: -4px;\n",
       "}\n",
       "\n",
       "/* Beschrijving labels */\n",
       ".widget-label {\n",
       "    font-weight: bold;\n",
       "    font-size: 14px;\n",
       "}\n",
       "\n",
       "/* Responsive tweaks */\n",
       "@media screen and (max-width: 768px) {\n",
       "    .hbox {\n",
       "        flex-direction: column !important;\n",
       "        gap: 10px !important;\n",
       "    }\n",
       "}\n",
       "</style>\n"
      ],
      "text/plain": [
       "<IPython.core.display.HTML object>"
      ]
     },
     "metadata": {},
     "output_type": "display_data"
    },
    {
     "data": {
      "application/vnd.jupyter.widget-view+json": {
       "model_id": "b73180d68043418988c5f4064eb45c2f",
       "version_major": 2,
       "version_minor": 0
      },
      "text/plain": [
       "VBox(children=(HBox(children=(Dropdown(description='Sex', layout=Layout(width='200px'), options=('Both', 'Fema…"
      ]
     },
     "metadata": {},
     "output_type": "display_data"
    },
    {
     "data": {
      "application/vnd.jupyter.widget-view+json": {
       "model_id": "4a8e867296da4b68b7a2ac83e9f81e1b",
       "version_major": 2,
       "version_minor": 0
      },
      "text/plain": [
       "Output()"
      ]
     },
     "metadata": {},
     "output_type": "display_data"
    }
   ],
   "source": [
    "import pandas as pd\n",
    "import plotly.express as px\n",
    "from ipywidgets import Dropdown, SelectionSlider, Layout, HBox, VBox, interactive_output\n",
    "from IPython.display import display, HTML\n",
    "import pycountry\n",
    "\n",
    "# === Data inladen ===\n",
    "csv_path = \"datasets/IHME_mental_real.csv\"\n",
    "df2 = pd.read_csv(csv_path)\n",
    "\n",
    "# === Landen omzetten naar ISO3-codes ===\n",
    "def get_iso3(name):\n",
    "    try:\n",
    "        return pycountry.countries.lookup(name).alpha_3\n",
    "    except LookupError:\n",
    "        return None\n",
    "\n",
    "df2[\"Country\"] = df2[\"location\"].apply(get_iso3)\n",
    "\n",
    "# === Waarden in juiste schaal zetten ===\n",
    "df2[\"val_display\"] = df2[\"val\"]\n",
    "df2.loc[df2[\"metric\"] == \"Percent\", \"val_display\"] *= 100\n",
    "\n",
    "# === Vaste schaal voor percentages ===\n",
    "percent_max = df2.loc[df2[\"metric\"] == \"Percent\", \"val_display\"].max()\n",
    "\n",
    "# === Widget opties ===\n",
    "years = sorted(df2[\"year\"].unique())\n",
    "sexes = sorted(df2[\"sex\"].unique())\n",
    "metrics = sorted(df2[\"metric\"].unique())\n",
    "\n",
    "# === Plotfunctie ===\n",
    "def plot_map(year, sex, metric):\n",
    "    dff = df2[(df2[\"year\"] == year) & (df2[\"sex\"] == sex) & (df2[\"metric\"] == metric)]\n",
    "    print(f'y: {year} sex: {sex}')\n",
    "    if dff.empty:\n",
    "        print(\"Geen data beschikbaar voor deze selectie.\")\n",
    "        return\n",
    "    \n",
    "    if metric == \"Percent\":\n",
    "        color_range = [0, percent_max]\n",
    "    else:\n",
    "        color_range = [df2[\"val_display\"].min(), df2[\"val_display\"].max()]\n",
    "    \n",
    "    fig = px.choropleth(\n",
    "        dff,\n",
    "        locations=\"Country\",\n",
    "        color=\"val_display\",\n",
    "        hover_name=\"location\",\n",
    "        color_continuous_scale=\"Reds\",\n",
    "        range_color=color_range,\n",
    "        labels={\"val_display\": f\"Prevalentie ({metric})\"},\n",
    "        title=f\"Mental Disorders – {sex} – {metric} – {year}\",\n",
    "        width=1100,\n",
    "        height=650\n",
    "    )\n",
    "    fig.update_layout(\n",
    "        geo=dict(\n",
    "            showframe=False,\n",
    "            showcoastlines=True,\n",
    "            projection_type=\"natural earth\"\n",
    "        ),\n",
    "        margin=dict(l=0, r=0, t=50, b=0)\n",
    "    )\n",
    "    fig.show()\n",
    "\n",
    "# === Widgets ===\n",
    "year_slider = SelectionSlider(\n",
    "    options=years,\n",
    "    description=\"Jaar\",\n",
    "    continuous_update=False,\n",
    "    layout=Layout(width=\"100%\")\n",
    ")\n",
    "\n",
    "sex_dropdown = Dropdown(\n",
    "    options=sexes,\n",
    "    description=\"Sex\",\n",
    "    layout=Layout(width=\"200px\")\n",
    ")\n",
    "\n",
    "metric_dropdown = Dropdown(\n",
    "    options=metrics,\n",
    "    description=\"Metric\",\n",
    "    layout=Layout(width=\"200px\")\n",
    ")\n",
    "\n",
    "controls_top = HBox([sex_dropdown, metric_dropdown], layout=Layout(gap=\"20px\"))\n",
    "controls = VBox([controls_top, year_slider], layout=Layout(gap=\"15px\", width=\"1000px\"), _dom_classes=[\"vbox\"])\n",
    "\n",
    "interactive_plot = interactive_output(plot_map, {\n",
    "    \"year\": year_slider,\n",
    "    \"sex\": sex_dropdown,\n",
    "    \"metric\": metric_dropdown\n",
    "})\n",
    "\n",
    "# === Styling met CSS ===\n",
    "custom_css = \"\"\"\n",
    "<style>\n",
    ".vbox {\n",
    "    background-color: #f9f9f9;\n",
    "    padding: 20px;\n",
    "    border-radius: 12px;\n",
    "    box-shadow: 0 0 10px rgba(0,0,0,0.1);\n",
    "    width: fit-content;\n",
    "    margin-bottom: 25px;\n",
    "}\n",
    "\n",
    "/* Dropdown styling */\n",
    ".widget-dropdown select {\n",
    "    background-color: white;\n",
    "    border: 1px solid #ccc;\n",
    "    border-radius: 8px;\n",
    "    padding: 6px 12px;\n",
    "    font-size: 14px;\n",
    "}\n",
    "\n",
    "/* Slider track */\n",
    ".widget-selection-slider .slider {\n",
    "    background-color: #ddd;\n",
    "    height: 8px;\n",
    "    border-radius: 4px;\n",
    "}\n",
    "\n",
    "/* Slider handle */\n",
    ".widget-selection-slider .slider .slider-handle {\n",
    "    background-color: #e74c3c;\n",
    "    border-radius: 50%;\n",
    "    width: 16px;\n",
    "    height: 16px;\n",
    "    margin-top: -4px;\n",
    "}\n",
    "\n",
    "/* Beschrijving labels */\n",
    ".widget-label {\n",
    "    font-weight: bold;\n",
    "    font-size: 14px;\n",
    "}\n",
    "\n",
    "/* Responsive tweaks */\n",
    "@media screen and (max-width: 768px) {\n",
    "    .hbox {\n",
    "        flex-direction: column !important;\n",
    "        gap: 10px !important;\n",
    "    }\n",
    "}\n",
    "</style>\n",
    "\"\"\"\n",
    "\n",
    "# === Weergeven ===\n",
    "display(HTML(custom_css))\n",
    "display(controls, interactive_plot)\n"
   ]
  },
  {
   "cell_type": "code",
   "execution_count": 2,
   "id": "b817cba1",
   "metadata": {},
   "outputs": [
    {
     "name": "stdout",
     "output_type": "stream",
     "text": [
      "         measure  location     sex       age             cause   metric  year  \\\n",
      "0     Prevalence  Thailand    Male  All ages  Mental disorders  Percent  2015   \n",
      "1     Prevalence  Thailand  Female  All ages  Mental disorders  Percent  2015   \n",
      "2     Prevalence  Thailand    Both  All ages  Mental disorders  Percent  2015   \n",
      "3     Prevalence  Thailand    Male  All ages  Mental disorders     Rate  2015   \n",
      "4     Prevalence  Thailand  Female  All ages  Mental disorders     Rate  2015   \n",
      "...          ...       ...     ...       ...               ...      ...   ...   \n",
      "8563  Prevalence     Sudan  Female  All ages  Mental disorders  Percent  2021   \n",
      "8564  Prevalence     Sudan    Both  All ages  Mental disorders  Percent  2021   \n",
      "8565  Prevalence     Sudan    Male  All ages  Mental disorders     Rate  2021   \n",
      "8566  Prevalence     Sudan  Female  All ages  Mental disorders     Rate  2021   \n",
      "8567  Prevalence     Sudan    Both  All ages  Mental disorders     Rate  2021   \n",
      "\n",
      "               val         upper         lower  \n",
      "0         0.131197      0.144148      0.119852  \n",
      "1         0.128001      0.141363      0.116295  \n",
      "2         0.129541      0.141394      0.118523  \n",
      "3     12636.750541  13885.866911  11532.393608  \n",
      "4     12534.603010  13824.775927  11405.071706  \n",
      "...            ...           ...           ...  \n",
      "8563      0.174267      0.206849      0.150289  \n",
      "8564      0.169139      0.195455      0.148799  \n",
      "8565  15539.411227  17671.886399  13724.953374  \n",
      "8566  16830.982340  20014.925607  14511.386883  \n",
      "8567  16174.851396  18686.559824  14208.957589  \n",
      "\n",
      "[8568 rows x 10 columns]\n"
     ]
    },
    {
     "data": {
      "application/vnd.plotly.v1+json": {
       "config": {
        "plotlyServerURL": "https://plot.ly"
       },
       "data": [
        {
         "coloraxis": "coloraxis",
         "geo": "geo",
         "hovertemplate": "<b>%{hovertext}</b><br><br>Country=%{location}<br>val_display=%{z}<extra></extra>",
         "hovertext": [
          "Thailand",
          "Sri Lanka",
          "Vanuatu",
          "Tonga",
          "Myanmar",
          "Philippines",
          "Solomon Islands",
          "Turkmenistan",
          "Malaysia",
          "Maldives",
          "Papua New Guinea",
          "Tajikistan",
          "Samoa",
          "Lao People's Democratic Republic",
          "Kyrgyzstan",
          "Indonesia",
          "Micronesia (Federated States of)",
          "Georgia",
          "Cambodia",
          "Kiribati",
          "Mongolia",
          "Fiji",
          "Marshall Islands",
          "Kazakhstan",
          "Democratic People's Republic of Korea",
          "Azerbaijan",
          "Viet Nam",
          "Taiwan (Province of China)",
          "Armenia",
          "Bosnia and Herzegovina",
          "Albania",
          "China",
          "Belarus",
          "Uzbekistan",
          "Timor-Leste",
          "Singapore",
          "Slovenia",
          "Slovakia",
          "Serbia",
          "Japan",
          "Republic of Korea",
          "Romania",
          "Poland",
          "Brunei Darussalam",
          "Montenegro",
          "Denmark",
          "North Macedonia",
          "Ukraine",
          "Cyprus",
          "Russian Federation",
          "Belgium",
          "Finland",
          "Lithuania",
          "Austria",
          "Andorra",
          "Hungary",
          "Republic of Moldova",
          "Latvia",
          "Bulgaria",
          "Croatia",
          "New Zealand",
          "Czechia",
          "Greece",
          "Estonia",
          "France",
          "Germany",
          "United Kingdom",
          "Australia",
          "Switzerland",
          "Sweden",
          "Belize",
          "Barbados",
          "Spain",
          "Antigua and Barbuda",
          "Bahamas",
          "Norway",
          "Portugal",
          "Netherlands",
          "United States of America",
          "Canada",
          "Luxembourg",
          "Saint Lucia",
          "Malta",
          "Ireland",
          "Jamaica",
          "Haiti",
          "Uruguay",
          "Italy",
          "Saint Vincent and the Grenadines",
          "Israel",
          "Iceland",
          "Suriname",
          "Bolivia (Plurinational State of)",
          "Chile",
          "Argentina",
          "Trinidad and Tobago",
          "Guyana",
          "Dominican Republic",
          "Grenada",
          "Dominica",
          "Cuba",
          "Venezuela (Bolivarian Republic of)",
          "Nicaragua",
          "Panama",
          "Mexico",
          "Kuwait",
          "Lebanon",
          "Jordan",
          "Honduras",
          "Iraq",
          "El Salvador",
          "Iran (Islamic Republic of)",
          "Guatemala",
          "Bahrain",
          "Egypt",
          "Costa Rica",
          "Colombia",
          "Ecuador",
          "Peru",
          "Türkiye",
          "Tunisia",
          "Paraguay",
          "Syrian Arab Republic",
          "Saudi Arabia",
          "Algeria",
          "Qatar",
          "Oman",
          "Yemen",
          "Brazil",
          "United Arab Emirates",
          "Palestine",
          "Democratic Republic of the Congo",
          "Equatorial Guinea",
          "Congo",
          "Libya",
          "Rwanda",
          "Morocco",
          "Mozambique",
          "Angola",
          "Central African Republic",
          "Mauritius",
          "Madagascar",
          "Malawi",
          "Kenya",
          "Pakistan",
          "Nepal",
          "Bhutan",
          "Eritrea",
          "Ethiopia",
          "Lesotho",
          "Bangladesh",
          "India",
          "Djibouti",
          "Gabon",
          "Afghanistan",
          "Zimbabwe",
          "Eswatini",
          "Botswana",
          "United Republic of Tanzania",
          "Namibia",
          "Comoros",
          "Zambia",
          "Burundi",
          "South Africa",
          "Mali",
          "Somalia",
          "Uganda",
          "Guinea-Bissau",
          "Liberia",
          "Guinea",
          "Seychelles",
          "Ghana",
          "Côte d'Ivoire",
          "Gambia",
          "Monaco",
          "Nauru",
          "Chad",
          "Cameroon",
          "Cabo Verde",
          "Togo",
          "Guam",
          "Senegal",
          "Cook Islands",
          "Greenland",
          "Burkina Faso",
          "Nigeria",
          "Sao Tome and Principe",
          "American Samoa",
          "Sierra Leone",
          "Benin",
          "Niger",
          "Bermuda",
          "South Sudan",
          "United States Virgin Islands",
          "Mauritania",
          "Tuvalu",
          "Niue",
          "Northern Mariana Islands",
          "Tokelau",
          "San Marino",
          "Saint Kitts and Nevis",
          "Palau",
          "Puerto Rico",
          "Sudan"
         ],
         "locations": [
          "THA",
          "LKA",
          "VUT",
          "TON",
          "MMR",
          "PHL",
          "SLB",
          "TKM",
          "MYS",
          "MDV",
          "PNG",
          "TJK",
          "WSM",
          "LAO",
          "KGZ",
          "IDN",
          null,
          "GEO",
          "KHM",
          "KIR",
          "MNG",
          "FJI",
          "MHL",
          "KAZ",
          "PRK",
          "AZE",
          "VNM",
          null,
          "ARM",
          "BIH",
          "ALB",
          "CHN",
          "BLR",
          "UZB",
          "TLS",
          "SGP",
          "SVN",
          "SVK",
          "SRB",
          "JPN",
          null,
          "ROU",
          "POL",
          "BRN",
          "MNE",
          "DNK",
          "MKD",
          "UKR",
          "CYP",
          "RUS",
          "BEL",
          "FIN",
          "LTU",
          "AUT",
          "AND",
          "HUN",
          "MDA",
          "LVA",
          "BGR",
          "HRV",
          "NZL",
          "CZE",
          "GRC",
          "EST",
          "FRA",
          "DEU",
          "GBR",
          "AUS",
          "CHE",
          "SWE",
          "BLZ",
          "BRB",
          "ESP",
          "ATG",
          "BHS",
          "NOR",
          "PRT",
          "NLD",
          "USA",
          "CAN",
          "LUX",
          "LCA",
          "MLT",
          "IRL",
          "JAM",
          "HTI",
          "URY",
          "ITA",
          "VCT",
          "ISR",
          "ISL",
          "SUR",
          null,
          "CHL",
          "ARG",
          "TTO",
          "GUY",
          "DOM",
          "GRD",
          "DMA",
          "CUB",
          null,
          "NIC",
          "PAN",
          "MEX",
          "KWT",
          "LBN",
          "JOR",
          "HND",
          "IRQ",
          "SLV",
          null,
          "GTM",
          "BHR",
          "EGY",
          "CRI",
          "COL",
          "ECU",
          "PER",
          "TUR",
          "TUN",
          "PRY",
          "SYR",
          "SAU",
          "DZA",
          "QAT",
          "OMN",
          "YEM",
          "BRA",
          "ARE",
          null,
          null,
          "GNQ",
          "COG",
          "LBY",
          "RWA",
          "MAR",
          "MOZ",
          "AGO",
          "CAF",
          "MUS",
          "MDG",
          "MWI",
          "KEN",
          "PAK",
          "NPL",
          "BTN",
          "ERI",
          "ETH",
          "LSO",
          "BGD",
          "IND",
          "DJI",
          "GAB",
          "AFG",
          "ZWE",
          "SWZ",
          "BWA",
          "TZA",
          "NAM",
          "COM",
          "ZMB",
          "BDI",
          "ZAF",
          "MLI",
          "SOM",
          "UGA",
          "GNB",
          "LBR",
          "GIN",
          "SYC",
          "GHA",
          "CIV",
          "GMB",
          "MCO",
          "NRU",
          "TCD",
          "CMR",
          "CPV",
          "TGO",
          "GUM",
          "SEN",
          "COK",
          "GRL",
          "BFA",
          "NGA",
          "STP",
          "ASM",
          "SLE",
          "BEN",
          "NER",
          "BMU",
          "SSD",
          null,
          "MRT",
          "TUV",
          "NIU",
          "MNP",
          "TKL",
          "SMR",
          "KNA",
          "PLW",
          "PRI",
          "SDN"
         ],
         "name": "",
         "type": "choropleth",
         "z": {
          "bdata": "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",
          "dtype": "f8"
         }
        }
       ],
       "layout": {
        "coloraxis": {
         "colorbar": {
          "title": {
           "text": "val_display"
          }
         },
         "colorscale": [
          [
           0,
           "#0d0887"
          ],
          [
           0.1111111111111111,
           "#46039f"
          ],
          [
           0.2222222222222222,
           "#7201a8"
          ],
          [
           0.3333333333333333,
           "#9c179e"
          ],
          [
           0.4444444444444444,
           "#bd3786"
          ],
          [
           0.5555555555555556,
           "#d8576b"
          ],
          [
           0.6666666666666666,
           "#ed7953"
          ],
          [
           0.7777777777777778,
           "#fb9f3a"
          ],
          [
           0.8888888888888888,
           "#fdca26"
          ],
          [
           1,
           "#f0f921"
          ]
         ]
        },
        "geo": {
         "center": {},
         "domain": {
          "x": [
           0,
           1
          ],
          "y": [
           0,
           1
          ]
         }
        },
        "legend": {
         "tracegroupgap": 0
        },
        "margin": {
         "t": 60
        },
        "template": {
         "data": {
          "bar": [
           {
            "error_x": {
             "color": "#2a3f5f"
            },
            "error_y": {
             "color": "#2a3f5f"
            },
            "marker": {
             "line": {
              "color": "#E5ECF6",
              "width": 0.5
             },
             "pattern": {
              "fillmode": "overlay",
              "size": 10,
              "solidity": 0.2
             }
            },
            "type": "bar"
           }
          ],
          "barpolar": [
           {
            "marker": {
             "line": {
              "color": "#E5ECF6",
              "width": 0.5
             },
             "pattern": {
              "fillmode": "overlay",
              "size": 10,
              "solidity": 0.2
             }
            },
            "type": "barpolar"
           }
          ],
          "carpet": [
           {
            "aaxis": {
             "endlinecolor": "#2a3f5f",
             "gridcolor": "white",
             "linecolor": "white",
             "minorgridcolor": "white",
             "startlinecolor": "#2a3f5f"
            },
            "baxis": {
             "endlinecolor": "#2a3f5f",
             "gridcolor": "white",
             "linecolor": "white",
             "minorgridcolor": "white",
             "startlinecolor": "#2a3f5f"
            },
            "type": "carpet"
           }
          ],
          "choropleth": [
           {
            "colorbar": {
             "outlinewidth": 0,
             "ticks": ""
            },
            "type": "choropleth"
           }
          ],
          "contour": [
           {
            "colorbar": {
             "outlinewidth": 0,
             "ticks": ""
            },
            "colorscale": [
             [
              0,
              "#0d0887"
             ],
             [
              0.1111111111111111,
              "#46039f"
             ],
             [
              0.2222222222222222,
              "#7201a8"
             ],
             [
              0.3333333333333333,
              "#9c179e"
             ],
             [
              0.4444444444444444,
              "#bd3786"
             ],
             [
              0.5555555555555556,
              "#d8576b"
             ],
             [
              0.6666666666666666,
              "#ed7953"
             ],
             [
              0.7777777777777778,
              "#fb9f3a"
             ],
             [
              0.8888888888888888,
              "#fdca26"
             ],
             [
              1,
              "#f0f921"
             ]
            ],
            "type": "contour"
           }
          ],
          "contourcarpet": [
           {
            "colorbar": {
             "outlinewidth": 0,
             "ticks": ""
            },
            "type": "contourcarpet"
           }
          ],
          "heatmap": [
           {
            "colorbar": {
             "outlinewidth": 0,
             "ticks": ""
            },
            "colorscale": [
             [
              0,
              "#0d0887"
             ],
             [
              0.1111111111111111,
              "#46039f"
             ],
             [
              0.2222222222222222,
              "#7201a8"
             ],
             [
              0.3333333333333333,
              "#9c179e"
             ],
             [
              0.4444444444444444,
              "#bd3786"
             ],
             [
              0.5555555555555556,
              "#d8576b"
             ],
             [
              0.6666666666666666,
              "#ed7953"
             ],
             [
              0.7777777777777778,
              "#fb9f3a"
             ],
             [
              0.8888888888888888,
              "#fdca26"
             ],
             [
              1,
              "#f0f921"
             ]
            ],
            "type": "heatmap"
           }
          ],
          "histogram": [
           {
            "marker": {
             "pattern": {
              "fillmode": "overlay",
              "size": 10,
              "solidity": 0.2
             }
            },
            "type": "histogram"
           }
          ],
          "histogram2d": [
           {
            "colorbar": {
             "outlinewidth": 0,
             "ticks": ""
            },
            "colorscale": [
             [
              0,
              "#0d0887"
             ],
             [
              0.1111111111111111,
              "#46039f"
             ],
             [
              0.2222222222222222,
              "#7201a8"
             ],
             [
              0.3333333333333333,
              "#9c179e"
             ],
             [
              0.4444444444444444,
              "#bd3786"
             ],
             [
              0.5555555555555556,
              "#d8576b"
             ],
             [
              0.6666666666666666,
              "#ed7953"
             ],
             [
              0.7777777777777778,
              "#fb9f3a"
             ],
             [
              0.8888888888888888,
              "#fdca26"
             ],
             [
              1,
              "#f0f921"
             ]
            ],
            "type": "histogram2d"
           }
          ],
          "histogram2dcontour": [
           {
            "colorbar": {
             "outlinewidth": 0,
             "ticks": ""
            },
            "colorscale": [
             [
              0,
              "#0d0887"
             ],
             [
              0.1111111111111111,
              "#46039f"
             ],
             [
              0.2222222222222222,
              "#7201a8"
             ],
             [
              0.3333333333333333,
              "#9c179e"
             ],
             [
              0.4444444444444444,
              "#bd3786"
             ],
             [
              0.5555555555555556,
              "#d8576b"
             ],
             [
              0.6666666666666666,
              "#ed7953"
             ],
             [
              0.7777777777777778,
              "#fb9f3a"
             ],
             [
              0.8888888888888888,
              "#fdca26"
             ],
             [
              1,
              "#f0f921"
             ]
            ],
            "type": "histogram2dcontour"
           }
          ],
          "mesh3d": [
           {
            "colorbar": {
             "outlinewidth": 0,
             "ticks": ""
            },
            "type": "mesh3d"
           }
          ],
          "parcoords": [
           {
            "line": {
             "colorbar": {
              "outlinewidth": 0,
              "ticks": ""
             }
            },
            "type": "parcoords"
           }
          ],
          "pie": [
           {
            "automargin": true,
            "type": "pie"
           }
          ],
          "scatter": [
           {
            "fillpattern": {
             "fillmode": "overlay",
             "size": 10,
             "solidity": 0.2
            },
            "type": "scatter"
           }
          ],
          "scatter3d": [
           {
            "line": {
             "colorbar": {
              "outlinewidth": 0,
              "ticks": ""
             }
            },
            "marker": {
             "colorbar": {
              "outlinewidth": 0,
              "ticks": ""
             }
            },
            "type": "scatter3d"
           }
          ],
          "scattercarpet": [
           {
            "marker": {
             "colorbar": {
              "outlinewidth": 0,
              "ticks": ""
             }
            },
            "type": "scattercarpet"
           }
          ],
          "scattergeo": [
           {
            "marker": {
             "colorbar": {
              "outlinewidth": 0,
              "ticks": ""
             }
            },
            "type": "scattergeo"
           }
          ],
          "scattergl": [
           {
            "marker": {
             "colorbar": {
              "outlinewidth": 0,
              "ticks": ""
             }
            },
            "type": "scattergl"
           }
          ],
          "scattermap": [
           {
            "marker": {
             "colorbar": {
              "outlinewidth": 0,
              "ticks": ""
             }
            },
            "type": "scattermap"
           }
          ],
          "scattermapbox": [
           {
            "marker": {
             "colorbar": {
              "outlinewidth": 0,
              "ticks": ""
             }
            },
            "type": "scattermapbox"
           }
          ],
          "scatterpolar": [
           {
            "marker": {
             "colorbar": {
              "outlinewidth": 0,
              "ticks": ""
             }
            },
            "type": "scatterpolar"
           }
          ],
          "scatterpolargl": [
           {
            "marker": {
             "colorbar": {
              "outlinewidth": 0,
              "ticks": ""
             }
            },
            "type": "scatterpolargl"
           }
          ],
          "scatterternary": [
           {
            "marker": {
             "colorbar": {
              "outlinewidth": 0,
              "ticks": ""
             }
            },
            "type": "scatterternary"
           }
          ],
          "surface": [
           {
            "colorbar": {
             "outlinewidth": 0,
             "ticks": ""
            },
            "colorscale": [
             [
              0,
              "#0d0887"
             ],
             [
              0.1111111111111111,
              "#46039f"
             ],
             [
              0.2222222222222222,
              "#7201a8"
             ],
             [
              0.3333333333333333,
              "#9c179e"
             ],
             [
              0.4444444444444444,
              "#bd3786"
             ],
             [
              0.5555555555555556,
              "#d8576b"
             ],
             [
              0.6666666666666666,
              "#ed7953"
             ],
             [
              0.7777777777777778,
              "#fb9f3a"
             ],
             [
              0.8888888888888888,
              "#fdca26"
             ],
             [
              1,
              "#f0f921"
             ]
            ],
            "type": "surface"
           }
          ],
          "table": [
           {
            "cells": {
             "fill": {
              "color": "#EBF0F8"
             },
             "line": {
              "color": "white"
             }
            },
            "header": {
             "fill": {
              "color": "#C8D4E3"
             },
             "line": {
              "color": "white"
             }
            },
            "type": "table"
           }
          ]
         },
         "layout": {
          "annotationdefaults": {
           "arrowcolor": "#2a3f5f",
           "arrowhead": 0,
           "arrowwidth": 1
          },
          "autotypenumbers": "strict",
          "coloraxis": {
           "colorbar": {
            "outlinewidth": 0,
            "ticks": ""
           }
          },
          "colorscale": {
           "diverging": [
            [
             0,
             "#8e0152"
            ],
            [
             0.1,
             "#c51b7d"
            ],
            [
             0.2,
             "#de77ae"
            ],
            [
             0.3,
             "#f1b6da"
            ],
            [
             0.4,
             "#fde0ef"
            ],
            [
             0.5,
             "#f7f7f7"
            ],
            [
             0.6,
             "#e6f5d0"
            ],
            [
             0.7,
             "#b8e186"
            ],
            [
             0.8,
             "#7fbc41"
            ],
            [
             0.9,
             "#4d9221"
            ],
            [
             1,
             "#276419"
            ]
           ],
           "sequential": [
            [
             0,
             "#0d0887"
            ],
            [
             0.1111111111111111,
             "#46039f"
            ],
            [
             0.2222222222222222,
             "#7201a8"
            ],
            [
             0.3333333333333333,
             "#9c179e"
            ],
            [
             0.4444444444444444,
             "#bd3786"
            ],
            [
             0.5555555555555556,
             "#d8576b"
            ],
            [
             0.6666666666666666,
             "#ed7953"
            ],
            [
             0.7777777777777778,
             "#fb9f3a"
            ],
            [
             0.8888888888888888,
             "#fdca26"
            ],
            [
             1,
             "#f0f921"
            ]
           ],
           "sequentialminus": [
            [
             0,
             "#0d0887"
            ],
            [
             0.1111111111111111,
             "#46039f"
            ],
            [
             0.2222222222222222,
             "#7201a8"
            ],
            [
             0.3333333333333333,
             "#9c179e"
            ],
            [
             0.4444444444444444,
             "#bd3786"
            ],
            [
             0.5555555555555556,
             "#d8576b"
            ],
            [
             0.6666666666666666,
             "#ed7953"
            ],
            [
             0.7777777777777778,
             "#fb9f3a"
            ],
            [
             0.8888888888888888,
             "#fdca26"
            ],
            [
             1,
             "#f0f921"
            ]
           ]
          },
          "colorway": [
           "#636efa",
           "#EF553B",
           "#00cc96",
           "#ab63fa",
           "#FFA15A",
           "#19d3f3",
           "#FF6692",
           "#B6E880",
           "#FF97FF",
           "#FECB52"
          ],
          "font": {
           "color": "#2a3f5f"
          },
          "geo": {
           "bgcolor": "white",
           "lakecolor": "white",
           "landcolor": "#E5ECF6",
           "showlakes": true,
           "showland": true,
           "subunitcolor": "white"
          },
          "hoverlabel": {
           "align": "left"
          },
          "hovermode": "closest",
          "mapbox": {
           "style": "light"
          },
          "paper_bgcolor": "white",
          "plot_bgcolor": "#E5ECF6",
          "polar": {
           "angularaxis": {
            "gridcolor": "white",
            "linecolor": "white",
            "ticks": ""
           },
           "bgcolor": "#E5ECF6",
           "radialaxis": {
            "gridcolor": "white",
            "linecolor": "white",
            "ticks": ""
           }
          },
          "scene": {
           "xaxis": {
            "backgroundcolor": "#E5ECF6",
            "gridcolor": "white",
            "gridwidth": 2,
            "linecolor": "white",
            "showbackground": true,
            "ticks": "",
            "zerolinecolor": "white"
           },
           "yaxis": {
            "backgroundcolor": "#E5ECF6",
            "gridcolor": "white",
            "gridwidth": 2,
            "linecolor": "white",
            "showbackground": true,
            "ticks": "",
            "zerolinecolor": "white"
           },
           "zaxis": {
            "backgroundcolor": "#E5ECF6",
            "gridcolor": "white",
            "gridwidth": 2,
            "linecolor": "white",
            "showbackground": true,
            "ticks": "",
            "zerolinecolor": "white"
           }
          },
          "shapedefaults": {
           "line": {
            "color": "#2a3f5f"
           }
          },
          "ternary": {
           "aaxis": {
            "gridcolor": "white",
            "linecolor": "white",
            "ticks": ""
           },
           "baxis": {
            "gridcolor": "white",
            "linecolor": "white",
            "ticks": ""
           },
           "bgcolor": "#E5ECF6",
           "caxis": {
            "gridcolor": "white",
            "linecolor": "white",
            "ticks": ""
           }
          },
          "title": {
           "x": 0.05
          },
          "xaxis": {
           "automargin": true,
           "gridcolor": "white",
           "linecolor": "white",
           "ticks": "",
           "title": {
            "standoff": 15
           },
           "zerolinecolor": "white",
           "zerolinewidth": 2
          },
          "yaxis": {
           "automargin": true,
           "gridcolor": "white",
           "linecolor": "white",
           "ticks": "",
           "title": {
            "standoff": 15
           },
           "zerolinecolor": "white",
           "zerolinewidth": 2
          }
         }
        }
       }
      }
     },
     "metadata": {},
     "output_type": "display_data"
    }
   ],
   "source": [
    "import pandas as pd\n",
    "import plotly.express as px\n",
    "from ipywidgets import Dropdown, SelectionSlider, Layout, HBox, VBox, interactive_output\n",
    "from IPython.display import display, HTML\n",
    "import pycountry\n",
    "\n",
    "# === Data inladen ===\n",
    "csv_path = \"datasets/IHME_mental_real.csv\"\n",
    "df2 = pd.read_csv(csv_path)\n",
    "print(df2)\n",
    "\n",
    "# === Landen omzetten naar ISO3-codes ===\n",
    "def get_iso3(name):\n",
    "    try:\n",
    "        return pycountry.countries.lookup(name).alpha_3\n",
    "    except LookupError:\n",
    "        return None\n",
    "\n",
    "df2[\"Country\"] = df2[\"location\"].apply(get_iso3)\n",
    "\n",
    "df2[\"val_display\"] = df2[\"val\"]\n",
    "df2.loc[df2[\"metric\"] == \"Percent\", \"val_display\"] *= 100\n",
    "\n",
    "# === Vaste schaal voor percentages ===\n",
    "# percent_max = df2.loc[df2[\"metric\"] == \"Percent\", \"val_display\"].max()\n",
    "\n",
    "year = 2015\n",
    "sex = 'Both'\n",
    "metric = 'Rate'\n",
    "\n",
    "dff = df2[(df2[\"year\"] == year) & (df2[\"sex\"] == sex) & (df2[\"metric\"] == metric)]\n",
    "# if dff.empty:\n",
    "#     print(\"Geen data beschikbaar voor deze selectie.\")\n",
    "\n",
    "# if metric == \"Percent\":\n",
    "#     color_range = [0, percent_max]\n",
    "# else:\n",
    "#     color_range = [df2[\"val_display\"].min(), df2[\"val_display\"].max()]\n",
    "\n",
    "fig = px.choropleth(\n",
    "    dff,\n",
    "    locations=\"Country\",\n",
    "    color=\"val_display\",\n",
    "    hover_name=\"location\",\n",
    "    # color_continuous_scale=\"Reds\",\n",
    "    # range_color=color_range,\n",
    "    # labels={\"val_display\": f\"Prevalentie ({metric})\"},\n",
    "    # title=f\"Mental Disorders – {sex} – {metric} – {year}\",\n",
    "    # width=1100,\n",
    "    # height=650\n",
    ")\n",
    "# fig.update_layout(\n",
    "#     geo=dict(\n",
    "#         showframe=False,\n",
    "#         showcoastlines=True,\n",
    "#         projection_type=\"natural earth\"\n",
    "#     ),\n",
    "#     margin=dict(l=0, r=0, t=50, b=0)\n",
    "# )\n",
    "fig.show()\n",
    "\n"
   ]
  },
  {
   "cell_type": "code",
   "execution_count": 4,
   "id": "0d3719cf",
   "metadata": {},
   "outputs": [
    {
     "ename": "ModuleNotFoundError",
     "evalue": "No module named 'sklearn'",
     "output_type": "error",
     "traceback": [
      "\u001b[0;31m---------------------------------------------------------------------------\u001b[0m",
      "\u001b[0;31mModuleNotFoundError\u001b[0m                       Traceback (most recent call last)",
      "Cell \u001b[0;32mIn[4], line 51\u001b[0m\n\u001b[1;32m     49\u001b[0m \u001b[38;5;28;01mimport\u001b[39;00m\u001b[38;5;250m \u001b[39m\u001b[38;5;21;01mmatplotlib\u001b[39;00m\u001b[38;5;21;01m.\u001b[39;00m\u001b[38;5;21;01mpyplot\u001b[39;00m\u001b[38;5;250m \u001b[39m\u001b[38;5;28;01mas\u001b[39;00m\u001b[38;5;250m \u001b[39m\u001b[38;5;21;01mplt\u001b[39;00m\n\u001b[1;32m     50\u001b[0m \u001b[38;5;28;01mimport\u001b[39;00m\u001b[38;5;250m \u001b[39m\u001b[38;5;21;01mseaborn\u001b[39;00m\u001b[38;5;250m \u001b[39m\u001b[38;5;28;01mas\u001b[39;00m\u001b[38;5;250m \u001b[39m\u001b[38;5;21;01msns\u001b[39;00m\n\u001b[0;32m---> 51\u001b[0m \u001b[38;5;28;01mfrom\u001b[39;00m\u001b[38;5;250m \u001b[39m\u001b[38;5;21;01msklearn\u001b[39;00m\u001b[38;5;21;01m.\u001b[39;00m\u001b[38;5;21;01mlinear_model\u001b[39;00m\u001b[38;5;250m \u001b[39m\u001b[38;5;28;01mimport\u001b[39;00m LinearRegression\n\u001b[1;32m     52\u001b[0m \u001b[38;5;28;01mfrom\u001b[39;00m\u001b[38;5;250m \u001b[39m\u001b[38;5;21;01msklearn\u001b[39;00m\u001b[38;5;21;01m.\u001b[39;00m\u001b[38;5;21;01mpreprocessing\u001b[39;00m\u001b[38;5;250m \u001b[39m\u001b[38;5;28;01mimport\u001b[39;00m StandardScaler\n\u001b[1;32m     54\u001b[0m \u001b[38;5;66;03m# 🔢 Definieer relevante variabelen\u001b[39;00m\n",
      "\u001b[0;31mModuleNotFoundError\u001b[0m: No module named 'sklearn'"
     ]
    }
   ],
   "source": [
    "import pandas as pd\n",
    "import seaborn as sns\n",
    "import matplotlib.pyplot as plt\n",
    "from pandas.plotting import parallel_coordinates\n",
    "\n",
    "# ⬇️ Laad je dataset (pas het pad aan naar jouw bestand)\n",
    "da = pd.read_csv(\"datasets/MentalHealthSurvey.csv\")\n",
    "\n",
    "# 🔃 Voeg handmatig kolomnamen toe als ze ontbreken of overschreven moeten worden\n",
    "da.columns = [\n",
    "    'gender', 'age', 'university', 'degree_level', 'degree_major', 'academic_year',\n",
    "    'cgpa', 'residential_status', 'campus_discrimination', 'sports_engagement',\n",
    "    'average_sleep', 'study_satisfaction', 'academic_workload', 'academic_pressure',\n",
    "    'financial_concerns', 'social_relationships', 'depression', 'anxiety',\n",
    "    'isolation', 'future_insecurity', 'stress_relief_activities'\n",
    "]\n",
    "\n",
    "# 🔢 CGPA converteren naar gemiddelde getal (bijv. \"3.0-3.5\" → 3.25)\n",
    "def convert_cgpa(value):\n",
    "    if isinstance(value, str) and \"-\" in value:\n",
    "        try:\n",
    "            low, high = value.split(\"-\")\n",
    "            return (float(low) + float(high)) / 2\n",
    "        except:\n",
    "            return None\n",
    "    try:\n",
    "        return float(value)\n",
    "    except:\n",
    "        return None\n",
    "\n",
    "da['cgpa'] = da['cgpa'].apply(convert_cgpa)\n",
    "\n",
    "# 💤 Slaaprange (\"4-6 hrs\") → gemiddeld aantal uur\n",
    "def convert_sleep(value):\n",
    "    if isinstance(value, str) and \"-\" in value:\n",
    "        try:\n",
    "            nums = [int(s.replace(\"hrs\", \"\").strip()) for s in value.split(\"-\")]\n",
    "            return sum(nums) / len(nums)\n",
    "        except:\n",
    "            return None\n",
    "    try:\n",
    "        return float(value)\n",
    "    except:\n",
    "        return None\n",
    "\n",
    "da['average_sleep'] = da['average_sleep'].apply(convert_sleep)\n",
    "\n",
    "import pandas as pd\n",
    "import matplotlib.pyplot as plt\n",
    "import seaborn as sns\n",
    "from sklearn.linear_model import LinearRegression\n",
    "from sklearn.preprocessing import StandardScaler\n",
    "\n",
    "# 🔢 Definieer relevante variabelen\n",
    "features = [\n",
    "    'academic_workload',\n",
    "    'academic_pressure',\n",
    "    'financial_concerns',\n",
    "    'study_satisfaction',\n",
    "    'social_relationships',\n",
    "    'average_sleep'\n",
    "]\n",
    "target = 'depression'\n",
    "\n",
    "# 🧼 Filter en converteer naar numeriek\n",
    "reg_df = da[features + [target]].dropna().astype(float)\n",
    "\n",
    "# 🧪 X en y scheiden\n",
    "X = reg_df[features]\n",
    "y = reg_df[target]\n",
    "\n",
    "# 🧮 Standaardiseer features voor eerlijke coëfficiëntenvergelijking\n",
    "scaler = StandardScaler()\n",
    "X_scaled = scaler.fit_transform(X)\n",
    "\n",
    "# 🔁 Lineaire regressie\n",
    "model = LinearRegression()\n",
    "model.fit(X_scaled, y)\n",
    "\n",
    "# 📊 Visualiseer coëfficiënten\n",
    "coefs = pd.Series(model.coef_, index=features).sort_values()\n",
    "\n",
    "plt.figure(figsize=(10, 6))\n",
    "sns.barplot(x=coefs.values, y=coefs.index, palette=\"coolwarm\", orient='h')\n",
    "plt.axvline(0, color='black', linestyle='--')\n",
    "plt.title(\"Effect van verklarende factoren op depressiescore\")\n",
    "plt.xlabel(\"Standaardiseerde regressiecoëfficiënt\")\n",
    "plt.ylabel(\"Factoren\")\n",
    "plt.tight_layout()\n",
    "plt.show()\n"
   ]
  },
  {
   "cell_type": "code",
   "execution_count": null,
   "id": "407e3f17",
   "metadata": {},
   "outputs": [],
   "source": []
  }
 ],
 "metadata": {
  "kernelspec": {
   "display_name": "jupyterbook",
   "language": "python",
   "name": "python3"
  },
  "language_info": {
   "codemirror_mode": {
    "name": "ipython",
    "version": 3
   },
   "file_extension": ".py",
   "mimetype": "text/x-python",
   "name": "python",
   "nbconvert_exporter": "python",
   "pygments_lexer": "ipython3",
   "version": "3.10.16"
  }
 },
 "nbformat": 4,
 "nbformat_minor": 5
}
