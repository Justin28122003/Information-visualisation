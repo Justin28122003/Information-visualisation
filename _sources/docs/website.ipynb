{
 "cells": [
  {
   "cell_type": "markdown",
   "id": "cd1e6997",
   "metadata": {},
   "source": [
    "# Mentale Gezondheid\n",
    "\n",
    "Student names: Justin van Egmond, Noor Verbrugge & Douwe Maljers\n",
    "\n",
    "Team number: 32"
   ]
  },
  {
   "cell_type": "code",
   "execution_count": 1,
   "id": "d487d432",
   "metadata": {},
   "outputs": [
    {
     "data": {
      "text/html": [
       "\n",
       "<style>\n",
       ".vbox {\n",
       "    background-color: #f9f9f9;\n",
       "    padding: 20px;\n",
       "    border-radius: 12px;\n",
       "    box-shadow: 0 0 10px rgba(0,0,0,0.1);\n",
       "    width: fit-content;\n",
       "    margin-bottom: 25px;\n",
       "}\n",
       "\n",
       "/* Dropdown styling */\n",
       ".widget-dropdown select {\n",
       "    background-color: white;\n",
       "    border: 1px solid #ccc;\n",
       "    border-radius: 8px;\n",
       "    padding: 6px 12px;\n",
       "    font-size: 14px;\n",
       "}\n",
       "\n",
       "/* Slider track */\n",
       ".widget-selection-slider .slider {\n",
       "    background-color: #ddd;\n",
       "    height: 8px;\n",
       "    border-radius: 4px;\n",
       "}\n",
       "\n",
       "/* Slider handle */\n",
       ".widget-selection-slider .slider .slider-handle {\n",
       "    background-color: #e74c3c;\n",
       "    border-radius: 50%;\n",
       "    width: 16px;\n",
       "    height: 16px;\n",
       "    margin-top: -4px;\n",
       "}\n",
       "\n",
       "/* Beschrijving labels */\n",
       ".widget-label {\n",
       "    font-weight: bold;\n",
       "    font-size: 14px;\n",
       "}\n",
       "\n",
       "/* Responsive tweaks */\n",
       "@media screen and (max-width: 768px) {\n",
       "    .hbox {\n",
       "        flex-direction: column !important;\n",
       "        gap: 10px !important;\n",
       "    }\n",
       "}\n",
       "</style>\n"
      ],
      "text/plain": [
       "<IPython.core.display.HTML object>"
      ]
     },
     "metadata": {},
     "output_type": "display_data"
    },
    {
     "data": {
      "application/vnd.jupyter.widget-view+json": {
       "model_id": "37e1b4de7ef848ed9a46dae90ea115b9",
       "version_major": 2,
       "version_minor": 0
      },
      "text/plain": [
       "VBox(children=(HBox(children=(Dropdown(description='Sex', layout=Layout(width='200px'), options=('Both', 'Fema…"
      ]
     },
     "metadata": {},
     "output_type": "display_data"
    },
    {
     "data": {
      "application/vnd.jupyter.widget-view+json": {
       "model_id": "3f8deb3d824b4eb6bfa8dc85ea167763",
       "version_major": 2,
       "version_minor": 0
      },
      "text/plain": [
       "Output()"
      ]
     },
     "metadata": {},
     "output_type": "display_data"
    }
   ],
   "source": [
    "import pandas as pd\n",
    "import plotly.express as px\n",
    "from ipywidgets import Dropdown, SelectionSlider, Layout, HBox, VBox, interactive_output\n",
    "from IPython.display import display, HTML\n",
    "import pycountry\n",
    "\n",
    "# === Data inladen ===\n",
    "csv_path = \"datasets/IHME_mental_real.csv\"\n",
    "df2 = pd.read_csv(csv_path)\n",
    "\n",
    "# === Landen omzetten naar ISO3-codes ===\n",
    "def get_iso3(name):\n",
    "    try:\n",
    "        return pycountry.countries.lookup(name).alpha_3\n",
    "    except LookupError:\n",
    "        return None\n",
    "\n",
    "df2[\"Country\"] = df2[\"location\"].apply(get_iso3)\n",
    "\n",
    "# === Waarden in juiste schaal zetten ===\n",
    "df2[\"val_display\"] = df2[\"val\"]\n",
    "df2.loc[df2[\"metric\"] == \"Percent\", \"val_display\"] *= 100\n",
    "\n",
    "# === Vaste schaal voor percentages ===\n",
    "percent_max = df2.loc[df2[\"metric\"] == \"Percent\", \"val_display\"].max()\n",
    "\n",
    "# === Widget opties ===\n",
    "years = sorted(df2[\"year\"].unique())\n",
    "sexes = sorted(df2[\"sex\"].unique())\n",
    "metrics = sorted(df2[\"metric\"].unique())\n",
    "\n",
    "# === Plotfunctie ===\n",
    "def plot_map(year, sex, metric):\n",
    "    dff = df2[(df2[\"year\"] == year) & (df2[\"sex\"] == sex) & (df2[\"metric\"] == metric)]\n",
    "    print(f'y: {year} sex: {sex}')\n",
    "    if dff.empty:\n",
    "        print(\"Geen data beschikbaar voor deze selectie.\")\n",
    "        return\n",
    "    \n",
    "    if metric == \"Percent\":\n",
    "        color_range = [0, percent_max]\n",
    "    else:\n",
    "        color_range = [df2[\"val_display\"].min(), df2[\"val_display\"].max()]\n",
    "    \n",
    "    fig = px.choropleth(\n",
    "        dff,\n",
    "        locations=\"Country\",\n",
    "        color=\"val_display\",\n",
    "        hover_name=\"location\",\n",
    "        color_continuous_scale=\"Reds\",\n",
    "        range_color=color_range,\n",
    "        labels={\"val_display\": f\"Prevalentie ({metric})\"},\n",
    "        title=f\"Mental Disorders – {sex} – {metric} – {year}\",\n",
    "        width=1100,\n",
    "        height=650\n",
    "    )\n",
    "    fig.update_layout(\n",
    "        geo=dict(\n",
    "            showframe=False,\n",
    "            showcoastlines=True,\n",
    "            projection_type=\"natural earth\"\n",
    "        ),\n",
    "        margin=dict(l=0, r=0, t=50, b=0)\n",
    "    )\n",
    "    fig.show()\n",
    "\n",
    "# === Widgets ===\n",
    "year_slider = SelectionSlider(\n",
    "    options=years,\n",
    "    description=\"Jaar\",\n",
    "    continuous_update=False,\n",
    "    layout=Layout(width=\"100%\")\n",
    ")\n",
    "\n",
    "sex_dropdown = Dropdown(\n",
    "    options=sexes,\n",
    "    description=\"Sex\",\n",
    "    layout=Layout(width=\"200px\")\n",
    ")\n",
    "\n",
    "metric_dropdown = Dropdown(\n",
    "    options=metrics,\n",
    "    description=\"Metric\",\n",
    "    layout=Layout(width=\"200px\")\n",
    ")\n",
    "\n",
    "controls_top = HBox([sex_dropdown, metric_dropdown], layout=Layout(gap=\"20px\"))\n",
    "controls = VBox([controls_top, year_slider], layout=Layout(gap=\"15px\", width=\"1000px\"), _dom_classes=[\"vbox\"])\n",
    "\n",
    "interactive_plot = interactive_output(plot_map, {\n",
    "    \"year\": year_slider,\n",
    "    \"sex\": sex_dropdown,\n",
    "    \"metric\": metric_dropdown\n",
    "})\n",
    "\n",
    "# === Styling met CSS ===\n",
    "custom_css = \"\"\"\n",
    "<style>\n",
    ".vbox {\n",
    "    background-color: #f9f9f9;\n",
    "    padding: 20px;\n",
    "    border-radius: 12px;\n",
    "    box-shadow: 0 0 10px rgba(0,0,0,0.1);\n",
    "    width: fit-content;\n",
    "    margin-bottom: 25px;\n",
    "}\n",
    "\n",
    "/* Dropdown styling */\n",
    ".widget-dropdown select {\n",
    "    background-color: white;\n",
    "    border: 1px solid #ccc;\n",
    "    border-radius: 8px;\n",
    "    padding: 6px 12px;\n",
    "    font-size: 14px;\n",
    "}\n",
    "\n",
    "/* Slider track */\n",
    ".widget-selection-slider .slider {\n",
    "    background-color: #ddd;\n",
    "    height: 8px;\n",
    "    border-radius: 4px;\n",
    "}\n",
    "\n",
    "/* Slider handle */\n",
    ".widget-selection-slider .slider .slider-handle {\n",
    "    background-color: #e74c3c;\n",
    "    border-radius: 50%;\n",
    "    width: 16px;\n",
    "    height: 16px;\n",
    "    margin-top: -4px;\n",
    "}\n",
    "\n",
    "/* Beschrijving labels */\n",
    ".widget-label {\n",
    "    font-weight: bold;\n",
    "    font-size: 14px;\n",
    "}\n",
    "\n",
    "/* Responsive tweaks */\n",
    "@media screen and (max-width: 768px) {\n",
    "    .hbox {\n",
    "        flex-direction: column !important;\n",
    "        gap: 10px !important;\n",
    "    }\n",
    "}\n",
    "</style>\n",
    "\"\"\"\n",
    "\n",
    "# === Weergeven ===\n",
    "display(HTML(custom_css))\n",
    "display(controls, interactive_plot)\n"
   ]
  },
  {
   "cell_type": "markdown",
   "id": "22af5f25",
   "metadata": {},
   "source": [
    "> *Figuur 1: Interactieve kaart van wereldwijde cijfers over mentale klachten.*"
   ]
  },
  {
   "cell_type": "markdown",
   "id": "7393b7e6",
   "metadata": {},
   "source": [
    "## Introductie"
   ]
  },
  {
   "cell_type": "markdown",
   "id": "798b7c51",
   "metadata": {},
   "source": [
    "Het gebruik van sociale media is de laatste jaren in enorm tempo toegenomen. Alhoewel het gebruik van sociale media de mogelijkheid biedt voor voorbending en entertainment, echter lijkt het gebruik hiervan ook een keerzijde te hebben. Tal van studies tonen aan dat excessief sociale media gebruik samenhangt met verminderde mentale gezondheid. Zo leggen studies het verband tussen sociale mediaverslaving en mentale problemen, als depressie en angststoornissen (Ergün et al., 2023). Desalniettemin zijn er ook studies die het overtuigt zijn, dat dit verband in werkelijk niet bestaat. Zo concludeert Huang (2018) uit een meta-analyse dat het bestaan van dit verband te snel wordt getrokken en dubieus van aard is. \n",
    "Nadat er vanuit artsen, wetenschappers en deskundigen een brandbrief werd verstuurd met een oproep tot regelgeving omtrent smartphone bezit en sociale media gebruik, komt de Nederlandse politiek binnenkort met een richtlijn omtrent dit  (NOS, 2025). In hoeverre is de invoering van deze richtlijnen terecht? Zijn richtlijnen alleen voor kinderen nodig of mooeten deze voor de hele samenleving gelden?\n",
    "\n",
    "Wereldwijd is de populatie met mentale stoornissen significant gestegen. In de grafiek boven is per land de trend te zien. Vandaar dat dit onderzoek nog meer van belang is. Vrouwen en mannen zijn beide slachtoffer van deze chronische ziekte. \n",
    "\n",
    "In dit onderzoek worden beide standpunten onderbouwd aan de hand van data visualisaties, specifiek gericht op sociale mediaverslaving onder studenten. Dit wordt gedaan met behulp van verschillende datasets van diverse groepen studenten. Tevens wordt een dataset van het Institute for Health Metrics and Evaluation gebruikt om de grootschaligheid van het wereldwijde probleem van mentale stoornissen en verminderde mentale gesteldheid in kaart te brengen."
   ]
  },
  {
   "cell_type": "markdown",
   "id": "59a8e340",
   "metadata": {},
   "source": []
  },
  {
   "cell_type": "markdown",
   "id": "98a9e6df",
   "metadata": {},
   "source": [
    "## Dataset and Preprocessing"
   ]
  },
  {
   "cell_type": "markdown",
   "id": "5416978a",
   "metadata": {},
   "source": [
    "Voor ons onderzoek hebben we veel achtergrond informatie opgezocht om de juiste data te vinden. In veel datasets omtremd mentale gezondheid zijn simulaties gebruikt en gegevens nagebootst. Om nuttige correlaties te vinden in de variabelen hebben we elke set goed bestudeerd of er realistische situaties zijn gebruikt. Er zijn drie datasets gebruikt. Daar is voor gekozen omdat veel goede datasets erg specifiek zijn, met consequentie dat er niet veel variabelen maar wel veel informatie te vinden is. \n",
    "\n",
    "De dataset van het Institute for Health Metrics and Evaluation is een dataset van de GBD (Global Burden of Disease) studie uit 2021. Deze studie is het grootste en meest uitgebreide onderzoek om gezondheidsverlies op verschillende plaatsen en in de loop van de tijd te kwantificeren. Zo vormt de gevonden data een krachtig middel om inzichten te creëren voor inzichten omtrent globale gezondheidstrends en -uitdagingen (Global Burden of Disease (GBD), n.d.). De dataset is gevonden via https://vizhub.healthdata.org/gbd-results/ , waar de data gefilterd kan worden naar de schattingen van de prevalentie, of andere statistieken, mentale stoornissen.\n",
    "\n",
    "De dataset Social Media Addiction vs. Relationship is afkomstig van Kaggle. Deze specifieke dataset brengt de mogelijke verbanden in kaart tussen sociale media gebruik, verslavingskenmerken en de kwaliteit van sociale relaties. De gegevens zijn verzameld via een online enquête en bevatten variabelen zoals de frequentie van socialmediagebruik, ervaren afhankelijkheid, relationele conflicten en emotionele beschikbaarheid. Dit biedt onderzoekers een toegankelijke bron voor het verkennen van hedendaagse digitale gedragsdynamieken binnen sociale contexten (Adil Shamim, n.d.). De dataset is beschikbaar via https://www.kaggle.com/datasets/adilshamim8/social-media-addiction-vs-relationships, waar de ruwe data kan worden gedownload voor verdere kwantitatieve analyse.\n",
    "\n",
    "De dataset Student Mental Health Survey is ook afkomstig van Kaggle en biedt inzicht in de mentale gezondheid van studenten in relatie tot factoren als academische druk, slaapgewoonten en sociale steun. De data zijn verzameld via een online vragenlijst en bevatten variabelen zoals het al dan niet zoeken van psychologische hulp, ervaren stressniveaus en copingmechanismen. De dataset vormt een toegankelijke bron voor het analyseren van trends in studentenwelzijn en kan bijdragen aan beleidsvorming of interventieontwikkeling binnen het hoger onderwijs (Abdullah Ashfaq Virk, n.d.). De gegevens zijn te vinden via https://www.kaggle.com/datasets/abdullahashfaqvirk/student-mental-health-survey, waar ze direct beschikbaar zijn voor download en verdere analyse.\n",
    "\n",
    "\n",
    "\n"
   ]
  },
  {
   "cell_type": "markdown",
   "id": "67a69d32",
   "metadata": {},
   "source": [
    "## Het gebruik van sociale media veroorzaakt diverse problemen"
   ]
  },
  {
   "cell_type": "markdown",
   "id": "5ba6336e",
   "metadata": {},
   "source": [
    "In het dagelijks gebruik zijn sociale media niet weg te krijgen. Het is een nieuwe norm geworden, wanneer men iets ziet dat te delen online. Vroeger had men vooral contact als ze elkaar fysiek zagen. Dat geeft ook een druk op mensen om altijd beschikbaar te zijn. In die tijd zouden ze eigenlijk met andere dingen bezig moeten zijn. Hun aandacht, focus en behoeftes worden geschoven, wat zorgt voor een verschuiving in prioriteiten. Een argument daarbij is dan ook dat het gebruik van sociale media diversie problemen veroorzaakt, zoals slechter presteren op school, slaapproblemen en internetverslaving.\n"
   ]
  },
  {
   "cell_type": "markdown",
   "id": "6f577c14",
   "metadata": {},
   "source": [
    "### Schoolprestatie"
   ]
  },
  {
   "cell_type": "markdown",
   "id": "b82c1559",
   "metadata": {},
   "source": [
    "Studenten zijn al langer bekend om gevoelig te zijn voor mentale stoornissen. Door hoge studielast, sociale druk en financiële moeilijkheden staan zijn erg onder druk. Ook zijn jongeren meer actief op sociale media en worden daardoor ook beïnvloed. Veel studenten geven aan dat hun studieprestaties negatief worden beïnvloed door sociale media. Studenten die aangeven academisch beïnvloed te worden, gebruiken sociale media vaker. "
   ]
  },
  {
   "cell_type": "code",
   "execution_count": 2,
   "id": "e2d80586",
   "metadata": {
    "tags": [
     "hide-input"
    ]
   },
   "outputs": [
    {
     "name": "stdout",
     "output_type": "stream",
     "text": [
      "Path to dataset files: C:\\Users\\Douwe Maljers\\.cache\\kagglehub\\datasets\\adilshamim8\\social-media-addiction-vs-relationships\\versions\\3\n"
     ]
    },
    {
     "name": "stderr",
     "output_type": "stream",
     "text": [
      "C:\\Users\\Douwe Maljers\\AppData\\Local\\Temp\\ipykernel_14784\\1989849081.py:21: FutureWarning:\n",
      "\n",
      "\n",
      "\n",
      "Passing `palette` without assigning `hue` is deprecated and will be removed in v0.14.0. Assign the `x` variable to `hue` and set `legend=False` for the same effect.\n",
      "\n",
      "\n"
     ]
    },
    {
     "data": {
      "image/png": "[encoded data removed]",
      "text/plain": [
       "<Figure size 1000x600 with 1 Axes>"
      ]
     },
     "metadata": {},
     "output_type": "display_data"
    }
   ],
   "source": [
    "\n",
    "import pandas as pd\n",
    "import matplotlib.pyplot as plt\n",
    "import seaborn as sns\n",
    "from numpy import mean\n",
    "import os\n",
    "\n",
    "import kagglehub\n",
    "\n",
    "# Download latest version\n",
    "path = kagglehub.dataset_download(\"adilshamim8/social-media-addiction-vs-relationships\")\n",
    "\n",
    "print(\"Path to dataset files:\", path)\n",
    "csv_path = os.path.join(path, \"Students Social Media Addiction.csv\") \n",
    "df4 = pd.read_csv(csv_path)\n",
    "\n",
    "# Algemene stijl\n",
    "sns.set(style=\"whitegrid\")\n",
    "plt.rcParams[\"figure.figsize\"] = (10, 6)\n",
    "\n",
    "plt.figure()\n",
    "sns.boxplot(\n",
    "    data=df4,\n",
    "    x=\"Affects_Academic_Performance\",\n",
    "    y=\"Avg_Daily_Usage_Hours\",\n",
    "    palette=\"coolwarm\"\n",
    ")\n",
    "plt.title(\"Dagelijks gebruik vs. invloed op academische prestaties\")\n",
    "plt.xlabel(\"Beïnvloedt academische prestaties?\")\n",
    "plt.ylabel(\"Gemiddelde gebruiksuren\")\n",
    "plt.tight_layout()\n",
    "plt.show()"
   ]
  },
  {
   "cell_type": "markdown",
   "id": "b2ca2cab",
   "metadata": {},
   "source": [
    "> *Figuur 2: De correlatie tussen het de gemiddelde gebruiksuren van sociale media en of de student vind dat de acadmische prestatie worden beïnvloed.*"
   ]
  },
  {
   "cell_type": "markdown",
   "id": "f7faa78c",
   "metadata": {},
   "source": [
    "In de tekst boven is de data te zien van studenten die aangeven of hun academische prestaties worden aangetast door het overmatig gebruik van sociale media. In de linker kolom is een significant hoger aantal studenten te zien die wel vindt dat zijn of haar scores minderen. Uit zelf reflectie is een punt te halen dat sociale media een probleem is en niet een vrijwillige actie is. De mentale gezondheid van de student kan hier ook onder lijden door de algoritmes van de apps."
   ]
  },
  {
   "cell_type": "code",
   "execution_count": 4,
   "id": "9ce29d4d",
   "metadata": {
    "tags": [
     "hide-input"
    ]
   },
   "outputs": [
    {
     "data": {
      "application/vnd.plotly.v1+json": {
       "config": {
        "plotlyServerURL": "https://plot.ly"
       },
       "data": [
        {
         "fill": "toself",
         "name": "CGPA 2.5-3.0",
         "r": {
          "bdata": "F1100UUXCUCMLrrooosKQC+66KKLLgpAL7rooosuCkC66KKLLroQQA==",
          "dtype": "f8"
         },
         "theta": [
          "depression",
          "anxiety",
          "isolation",
          "future_insecurity",
          "academic_pressure"
         ],
         "type": "scatterpolar"
        },
        {
         "fill": "toself",
         "name": "CGPA 3.0-3.5",
         "r": {
          "bdata": "9xLaS2gvCUCF9hLaS2gHQAntJbSX0AZATGgvob2EBkBfQnsJ7SUMQA==",
          "dtype": "f8"
         },
         "theta": [
          "depression",
          "anxiety",
          "isolation",
          "future_insecurity",
          "academic_pressure"
         ],
         "type": "scatterpolar"
        },
        {
         "fill": "toself",
         "name": "CGPA 3.5-4.0",
         "r": {
          "bdata": "5DiO4ziOC0DkOI7jOI4LQKG9hPYS2gtAOY7jOI7jCEAT2ktoL6ENQA==",
          "dtype": "f8"
         },
         "theta": [
          "depression",
          "anxiety",
          "isolation",
          "future_insecurity",
          "academic_pressure"
         ],
         "type": "scatterpolar"
        }
       ],
       "layout": {
        "polar": {
         "radialaxis": {
          "range": [
           0,
           5
          ],
          "visible": true
         }
        },
        "showlegend": true,
        "template": {
         "data": {
          "bar": [
           {
            "error_x": {
             "color": "#2a3f5f"
            },
            "error_y": {
             "color": "#2a3f5f"
            },
            "marker": {
             "line": {
              "color": "#E5ECF6",
              "width": 0.5
             },
             "pattern": {
              "fillmode": "overlay",
              "size": 10,
              "solidity": 0.2
             }
            },
            "type": "bar"
           }
          ],
          "barpolar": [
           {
            "marker": {
             "line": {
              "color": "#E5ECF6",
              "width": 0.5
             },
             "pattern": {
              "fillmode": "overlay",
              "size": 10,
              "solidity": 0.2
             }
            },
            "type": "barpolar"
           }
          ],
          "carpet": [
           {
            "aaxis": {
             "endlinecolor": "#2a3f5f",
             "gridcolor": "white",
             "linecolor": "white",
             "minorgridcolor": "white",
             "startlinecolor": "#2a3f5f"
            },
            "baxis": {
             "endlinecolor": "#2a3f5f",
             "gridcolor": "white",
             "linecolor": "white",
             "minorgridcolor": "white",
             "startlinecolor": "#2a3f5f"
            },
            "type": "carpet"
           }
          ],
          "choropleth": [
           {
            "colorbar": {
             "outlinewidth": 0,
             "ticks": ""
            },
            "type": "choropleth"
           }
          ],
          "contour": [
           {
            "colorbar": {
             "outlinewidth": 0,
             "ticks": ""
            },
            "colorscale": [
             [
              0,
              "#0d0887"
             ],
             [
              0.1111111111111111,
              "#46039f"
             ],
             [
              0.2222222222222222,
              "#7201a8"
             ],
             [
              0.3333333333333333,
              "#9c179e"
             ],
             [
              0.4444444444444444,
              "#bd3786"
             ],
             [
              0.5555555555555556,
              "#d8576b"
             ],
             [
              0.6666666666666666,
              "#ed7953"
             ],
             [
              0.7777777777777778,
              "#fb9f3a"
             ],
             [
              0.8888888888888888,
              "#fdca26"
             ],
             [
              1,
              "#f0f921"
             ]
            ],
            "type": "contour"
           }
          ],
          "contourcarpet": [
           {
            "colorbar": {
             "outlinewidth": 0,
             "ticks": ""
            },
            "type": "contourcarpet"
           }
          ],
          "heatmap": [
           {
            "colorbar": {
             "outlinewidth": 0,
             "ticks": ""
            },
            "colorscale": [
             [
              0,
              "#0d0887"
             ],
             [
              0.1111111111111111,
              "#46039f"
             ],
             [
              0.2222222222222222,
              "#7201a8"
             ],
             [
              0.3333333333333333,
              "#9c179e"
             ],
             [
              0.4444444444444444,
              "#bd3786"
             ],
             [
              0.5555555555555556,
              "#d8576b"
             ],
             [
              0.6666666666666666,
              "#ed7953"
             ],
             [
              0.7777777777777778,
              "#fb9f3a"
             ],
             [
              0.8888888888888888,
              "#fdca26"
             ],
             [
              1,
              "#f0f921"
             ]
            ],
            "type": "heatmap"
           }
          ],
          "histogram": [
           {
            "marker": {
             "pattern": {
              "fillmode": "overlay",
              "size": 10,
              "solidity": 0.2
             }
            },
            "type": "histogram"
           }
          ],
          "histogram2d": [
           {
            "colorbar": {
             "outlinewidth": 0,
             "ticks": ""
            },
            "colorscale": [
             [
              0,
              "#0d0887"
             ],
             [
              0.1111111111111111,
              "#46039f"
             ],
             [
              0.2222222222222222,
              "#7201a8"
             ],
             [
              0.3333333333333333,
              "#9c179e"
             ],
             [
              0.4444444444444444,
              "#bd3786"
             ],
             [
              0.5555555555555556,
              "#d8576b"
             ],
             [
              0.6666666666666666,
              "#ed7953"
             ],
             [
              0.7777777777777778,
              "#fb9f3a"
             ],
             [
              0.8888888888888888,
              "#fdca26"
             ],
             [
              1,
              "#f0f921"
             ]
            ],
            "type": "histogram2d"
           }
          ],
          "histogram2dcontour": [
           {
            "colorbar": {
             "outlinewidth": 0,
             "ticks": ""
            },
            "colorscale": [
             [
              0,
              "#0d0887"
             ],
             [
              0.1111111111111111,
              "#46039f"
             ],
             [
              0.2222222222222222,
              "#7201a8"
             ],
             [
              0.3333333333333333,
              "#9c179e"
             ],
             [
              0.4444444444444444,
              "#bd3786"
             ],
             [
              0.5555555555555556,
              "#d8576b"
             ],
             [
              0.6666666666666666,
              "#ed7953"
             ],
             [
              0.7777777777777778,
              "#fb9f3a"
             ],
             [
              0.8888888888888888,
              "#fdca26"
             ],
             [
              1,
              "#f0f921"
             ]
            ],
            "type": "histogram2dcontour"
           }
          ],
          "mesh3d": [
           {
            "colorbar": {
             "outlinewidth": 0,
             "ticks": ""
            },
            "type": "mesh3d"
           }
          ],
          "parcoords": [
           {
            "line": {
             "colorbar": {
              "outlinewidth": 0,
              "ticks": ""
             }
            },
            "type": "parcoords"
           }
          ],
          "pie": [
           {
            "automargin": true,
            "type": "pie"
           }
          ],
          "scatter": [
           {
            "fillpattern": {
             "fillmode": "overlay",
             "size": 10,
             "solidity": 0.2
            },
            "type": "scatter"
           }
          ],
          "scatter3d": [
           {
            "line": {
             "colorbar": {
              "outlinewidth": 0,
              "ticks": ""
             }
            },
            "marker": {
             "colorbar": {
              "outlinewidth": 0,
              "ticks": ""
             }
            },
            "type": "scatter3d"
           }
          ],
          "scattercarpet": [
           {
            "marker": {
             "colorbar": {
              "outlinewidth": 0,
              "ticks": ""
             }
            },
            "type": "scattercarpet"
           }
          ],
          "scattergeo": [
           {
            "marker": {
             "colorbar": {
              "outlinewidth": 0,
              "ticks": ""
             }
            },
            "type": "scattergeo"
           }
          ],
          "scattergl": [
           {
            "marker": {
             "colorbar": {
              "outlinewidth": 0,
              "ticks": ""
             }
            },
            "type": "scattergl"
           }
          ],
          "scattermap": [
           {
            "marker": {
             "colorbar": {
              "outlinewidth": 0,
              "ticks": ""
             }
            },
            "type": "scattermap"
           }
          ],
          "scattermapbox": [
           {
            "marker": {
             "colorbar": {
              "outlinewidth": 0,
              "ticks": ""
             }
            },
            "type": "scattermapbox"
           }
          ],
          "scatterpolar": [
           {
            "marker": {
             "colorbar": {
              "outlinewidth": 0,
              "ticks": ""
             }
            },
            "type": "scatterpolar"
           }
          ],
          "scatterpolargl": [
           {
            "marker": {
             "colorbar": {
              "outlinewidth": 0,
              "ticks": ""
             }
            },
            "type": "scatterpolargl"
           }
          ],
          "scatterternary": [
           {
            "marker": {
             "colorbar": {
              "outlinewidth": 0,
              "ticks": ""
             }
            },
            "type": "scatterternary"
           }
          ],
          "surface": [
           {
            "colorbar": {
             "outlinewidth": 0,
             "ticks": ""
            },
            "colorscale": [
             [
              0,
              "#0d0887"
             ],
             [
              0.1111111111111111,
              "#46039f"
             ],
             [
              0.2222222222222222,
              "#7201a8"
             ],
             [
              0.3333333333333333,
              "#9c179e"
             ],
             [
              0.4444444444444444,
              "#bd3786"
             ],
             [
              0.5555555555555556,
              "#d8576b"
             ],
             [
              0.6666666666666666,
              "#ed7953"
             ],
             [
              0.7777777777777778,
              "#fb9f3a"
             ],
             [
              0.8888888888888888,
              "#fdca26"
             ],
             [
              1,
              "#f0f921"
             ]
            ],
            "type": "surface"
           }
          ],
          "table": [
           {
            "cells": {
             "fill": {
              "color": "#EBF0F8"
             },
             "line": {
              "color": "white"
             }
            },
            "header": {
             "fill": {
              "color": "#C8D4E3"
             },
             "line": {
              "color": "white"
             }
            },
            "type": "table"
           }
          ]
         },
         "layout": {
          "annotationdefaults": {
           "arrowcolor": "#2a3f5f",
           "arrowhead": 0,
           "arrowwidth": 1
          },
          "autotypenumbers": "strict",
          "coloraxis": {
           "colorbar": {
            "outlinewidth": 0,
            "ticks": ""
           }
          },
          "colorscale": {
           "diverging": [
            [
             0,
             "#8e0152"
            ],
            [
             0.1,
             "#c51b7d"
            ],
            [
             0.2,
             "#de77ae"
            ],
            [
             0.3,
             "#f1b6da"
            ],
            [
             0.4,
             "#fde0ef"
            ],
            [
             0.5,
             "#f7f7f7"
            ],
            [
             0.6,
             "#e6f5d0"
            ],
            [
             0.7,
             "#b8e186"
            ],
            [
             0.8,
             "#7fbc41"
            ],
            [
             0.9,
             "#4d9221"
            ],
            [
             1,
             "#276419"
            ]
           ],
           "sequential": [
            [
             0,
             "#0d0887"
            ],
            [
             0.1111111111111111,
             "#46039f"
            ],
            [
             0.2222222222222222,
             "#7201a8"
            ],
            [
             0.3333333333333333,
             "#9c179e"
            ],
            [
             0.4444444444444444,
             "#bd3786"
            ],
            [
             0.5555555555555556,
             "#d8576b"
            ],
            [
             0.6666666666666666,
             "#ed7953"
            ],
            [
             0.7777777777777778,
             "#fb9f3a"
            ],
            [
             0.8888888888888888,
             "#fdca26"
            ],
            [
             1,
             "#f0f921"
            ]
           ],
           "sequentialminus": [
            [
             0,
             "#0d0887"
            ],
            [
             0.1111111111111111,
             "#46039f"
            ],
            [
             0.2222222222222222,
             "#7201a8"
            ],
            [
             0.3333333333333333,
             "#9c179e"
            ],
            [
             0.4444444444444444,
             "#bd3786"
            ],
            [
             0.5555555555555556,
             "#d8576b"
            ],
            [
             0.6666666666666666,
             "#ed7953"
            ],
            [
             0.7777777777777778,
             "#fb9f3a"
            ],
            [
             0.8888888888888888,
             "#fdca26"
            ],
            [
             1,
             "#f0f921"
            ]
           ]
          },
          "colorway": [
           "#636efa",
           "#EF553B",
           "#00cc96",
           "#ab63fa",
           "#FFA15A",
           "#19d3f3",
           "#FF6692",
           "#B6E880",
           "#FF97FF",
           "#FECB52"
          ],
          "font": {
           "color": "#2a3f5f"
          },
          "geo": {
           "bgcolor": "white",
           "lakecolor": "white",
           "landcolor": "#E5ECF6",
           "showlakes": true,
           "showland": true,
           "subunitcolor": "white"
          },
          "hoverlabel": {
           "align": "left"
          },
          "hovermode": "closest",
          "mapbox": {
           "style": "light"
          },
          "paper_bgcolor": "white",
          "plot_bgcolor": "#E5ECF6",
          "polar": {
           "angularaxis": {
            "gridcolor": "white",
            "linecolor": "white",
            "ticks": ""
           },
           "bgcolor": "#E5ECF6",
           "radialaxis": {
            "gridcolor": "white",
            "linecolor": "white",
            "ticks": ""
           }
          },
          "scene": {
           "xaxis": {
            "backgroundcolor": "#E5ECF6",
            "gridcolor": "white",
            "gridwidth": 2,
            "linecolor": "white",
            "showbackground": true,
            "ticks": "",
            "zerolinecolor": "white"
           },
           "yaxis": {
            "backgroundcolor": "#E5ECF6",
            "gridcolor": "white",
            "gridwidth": 2,
            "linecolor": "white",
            "showbackground": true,
            "ticks": "",
            "zerolinecolor": "white"
           },
           "zaxis": {
            "backgroundcolor": "#E5ECF6",
            "gridcolor": "white",
            "gridwidth": 2,
            "linecolor": "white",
            "showbackground": true,
            "ticks": "",
            "zerolinecolor": "white"
           }
          },
          "shapedefaults": {
           "line": {
            "color": "#2a3f5f"
           }
          },
          "ternary": {
           "aaxis": {
            "gridcolor": "white",
            "linecolor": "white",
            "ticks": ""
           },
           "baxis": {
            "gridcolor": "white",
            "linecolor": "white",
            "ticks": ""
           },
           "bgcolor": "#E5ECF6",
           "caxis": {
            "gridcolor": "white",
            "linecolor": "white",
            "ticks": ""
           }
          },
          "title": {
           "x": 0.05
          },
          "xaxis": {
           "automargin": true,
           "gridcolor": "white",
           "linecolor": "white",
           "ticks": "",
           "title": {
            "standoff": 15
           },
           "zerolinecolor": "white",
           "zerolinewidth": 2
          },
          "yaxis": {
           "automargin": true,
           "gridcolor": "white",
           "linecolor": "white",
           "ticks": "",
           "title": {
            "standoff": 15
           },
           "zerolinecolor": "white",
           "zerolinewidth": 2
          }
         }
        },
        "title": {
         "text": "Mentale Gezondheid per CGPA-groep"
        }
       }
      }
     },
     "metadata": {},
     "output_type": "display_data"
    }
   ],
   "source": [
    "import pandas as pd\n",
    "import plotly.graph_objects as go\n",
    "\n",
    "# Laad data\n",
    "df = pd.read_csv(\"datasets/MentalHealthSurvey.csv\")\n",
    "\n",
    "# Schoon CGPA-categorieën op\n",
    "df['cgpa'] = df['cgpa'].str.strip()\n",
    "\n",
    "# Relevante mentale gezondheidsdimensies\n",
    "mental_columns = ['depression', 'anxiety', 'isolation', 'future_insecurity', 'academic_pressure']\n",
    "\n",
    "# Bereken gemiddelden per CGPA-groep\n",
    "grouped = df.groupby('cgpa')[mental_columns].mean()\n",
    "\n",
    "# Sorteer in logische volgorde\n",
    "cgpa_order = ['<2.5', '2.5-3.0', '3.0-3.5', '3.5-4.0']\n",
    "grouped = grouped.loc[[g for g in cgpa_order if g in grouped.index]]\n",
    "\n",
    "# Maak radar chart\n",
    "fig = go.Figure()\n",
    "\n",
    "for cgpa in grouped.index:\n",
    "    fig.add_trace(go.Scatterpolar(\n",
    "        r=grouped.loc[cgpa].values,\n",
    "        theta=mental_columns,\n",
    "        fill='toself',\n",
    "        name=f'CGPA {cgpa}'\n",
    "    ))\n",
    "\n",
    "fig.update_layout(\n",
    "    title='Mentale Gezondheid per CGPA-groep',\n",
    "    polar=dict(\n",
    "        radialaxis=dict(\n",
    "            visible=True,\n",
    "            range=[0, 5]\n",
    "        )\n",
    "    ),\n",
    "    showlegend=True\n",
    ")\n",
    "\n",
    "fig.show()\n",
    "\n"
   ]
  },
  {
   "cell_type": "markdown",
   "id": "6a7a3b80",
   "metadata": {},
   "source": [
    "> *Figuur 3: Weergave van de effecten van verschillende effecten op de gemiddeld behaalde cijfers van studenten.*"
   ]
  },
  {
   "cell_type": "markdown",
   "id": "d88eb3fe",
   "metadata": {},
   "source": [
    "Zoals eerder benoemd heeft academische druk niet alleen gevolgen op de academische scores maar ook de mentale gezondheid van studenten. Studenten die meer werken voor hoge cijfers hebben sneller last van mentale klachten zoals depressie en stress. Ook is af te lezen dat studenten lagere cijfers sneller geneigd zijn om onzeker te zijn. De studententijd is een tijd waar mensen zich kunnen ontwikkelen en groeien tot de persoon die ze met zelfverzekerheid willen worden. Ook is de prestatiedruk voor studenten met lage cijfer immens hoog."
   ]
  },
  {
   "cell_type": "markdown",
   "id": "22bd728d",
   "metadata": {},
   "source": [
    "### Sociale Media"
   ]
  },
  {
   "cell_type": "markdown",
   "id": "effafcfa",
   "metadata": {},
   "source": [
    "Daarnaast scoren studenten met een hoger dagelijks gebruik vaak lager op mentale gezondheid. Meer gebruik hangt vaak samen met een lagere mentale gezondheidsscore "
   ]
  },
  {
   "cell_type": "code",
   "execution_count": null,
   "id": "d599df3d",
   "metadata": {
    "tags": [
     "hide-input"
    ]
   },
   "outputs": [
    {
     "data": {
      "application/vnd.plotly.v1+json": {
       "config": {
        "plotlyServerURL": "https://plot.ly"
       },
       "data": [
        {
         "marker": {
          "color": "blue",
          "opacity": 0.6
         },
         "mode": "markers",
         "name": "Male - data",
         "showlegend": true,
         "type": "scatter",
         "x": {
          "bdata": "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",
          "dtype": "f8"
         },
         "y": {
          "bdata": "CAcGCQcFCAcIBwUGBwcIBwUGBwcIBwUGBwcIBwUGBwYIBwgFBggFBggHBQUGBwcIBQYFBgcHCAUHBgUHBgUHBgUHBgUHBgUHBgUHBgUHBgUHBQYHBQYHBQYHBQYHBQYHBQYHBQYHBQYHBQYHBQYGBwYHBggFBwYIBQcGCAUHBggFBwYIBQcGCAUHBggFBwYIBQcGCAUHBggFBwYIBQcGCAgFBgYGCAUGBgYIBQYGBggFBgYGCAUGBgYIBQYGBggFBgYGCAUGBgYIBQYGBggFBgYGCAUGBgYIBQYGBggFBgYGCAUGBgYIBQYGBggFBgYGCAUGBgYIBQYGBgcHBgcHBwcGBwcHBwYHBwcHBgcHBwcGBwcHBwYHBwcHBgcHCAQFBQYHBgUFBgcGBgUECAcHBAUFBgcGBQUGBwYHBQQIBwcEBQUGBwYFBQYHBgcFBAgHBwQFBQYHBgUFBgcGBwUECA==",
          "dtype": "i1"
         }
        },
        {
         "line": {
          "color": "blue",
          "width": 2
         },
         "mode": "lines",
         "name": "Male - trend",
         "showlegend": true,
         "type": "scatter",
         "x": {
          "bdata": "AAAAAAAA+D/44IMPPvj4P/DBBx988Pk/6aKLLrro+j/hgw8++OD7P9lkk0022fw/0kUXXXTR/T/KJptsssn+P8IHH3zwwf8/XXTRRRddAEDZZJNNNtkAQFZVVVVVVQFA0kUXXXTRAUBONtlkk00CQMomm2yyyQJARhdddNFFA0DCBx988MEDQD744IMPPgRAuuiiiy66BEA22WSTTTYFQLLJJptssgVALrrooosuBkCrqqqqqqoGQCebbLLJJgdAo4suuuiiB0AffPDBBx8IQJtssskmmwhAGF100UUXCUCUTTbZZJMJQBA++OCDDwpAjC666KKLCkAIH3zwwQcLQIQPPvjggwtAAAAAAAAADEB88MEHH3wMQPjggw8++AxAdNFFF110DUDxwQcffPANQG2yySabbA5A6aKLLrroDkBlk0022WQPQOGDDz744A9ALrrooosuEEBssskmm2wQQKuqqqqqqhBA6aKLLrroEEAnm2yyySYRQGWTTTbZZBFAo4suuuiiEUDhgw8++OARQB988MEHHxJAXXTRRRddEkCbbLLJJpsSQNpkk0022RJAGF100UUXE0BWVVVVVVUTQJRNNtlkkxNA0kUXXXTRE0AQPvjggw8UQE422WSTTRRAjC666KKLFEDKJptssskUQAgffPDBBxVARhdddNFFFUCEDz744IMVQMIHH3zwwRVAAAAAAAAAFkA++OCDDz4WQHzwwQcffBZAuuiiiy66FkD44IMPPvgWQDbZZJNNNhdAdNFFF110F0CzySabbLIXQPHBBx988BdAL7rooosuGEBtsskmm2wYQKuqqqqqqhhA6aKLLrroGEAnm2yyySYZQGWTTTbZZBlAo4suuuiiGUDhgw8++OAZQB988MEHHxpAXXTRRRddGkCbbLLJJpsaQNlkk0022RpAF1100UUXG0BWVVVVVVUbQJRNNtlkkxtA0kUXXXTRG0AQPvjggw8cQE422WSTTRxAjC666KKLHEDKJptssskcQAgffPDBBx1ARhdddNFFHUCEDz744IMdQMIHH3zwwR1AAAAAAAAAHkA=",
          "dtype": "f8"
         },
         "y": {
          "bdata": "G5H7wIcYIUCvYjWKWwMhQEM0b1Mv7iBA1wWpHAPZIEBr1+Ll1sMgQP6oHK+qriBAknpWeH6ZIEAmTJBBUoQgQLodygombyBATu8D1PlZIEDiwD2dzUQgQHaSd2ahLyBACmSxL3UaIECeNev4SAUgQGMOSoQ54B9AirG9FuG1H0CyVDGpiIsfQNr3pDswYR9AApsYztc2H0AqPoxgfwwfQFLh//Im4h5AeoRzhc63HkChJ+cXdo0eQMnKWqodYx5A8G3OPMU4HkAYEULPbA4eQEC0tWEU5B1AaFcp9Lu5HUCQ+pyGY48dQLedEBkLZR1A30CEq7I6HUAH5Pc9WhAdQC6Ha9AB5hxAVirfYqm7HEB+zVL1UJEcQKZwxof4ZhxAzhM6GqA8HED2tq2sRxIcQB1aIT/v5xtARf2U0Za9G0BsoAhkPpMbQJRDfPblaBtAvObviI0+G0DkiWMbNRQbQAwt163c6RpANNBKQIS/GkBbc77SK5UaQIMWMmXTahpAq7ml93pAGkDSXBmKIhYaQPr/jBzK6xlAIqMAr3HBGUBKRnRBGZcZQHHp59PAbBlAmYxbZmhCGUDBL8/4DxgZQOjSQou37RhAEHa2HV/DGEA4GSqwBpkYQGC8nUKubhhAiF8R1VVEGECwAoVn/RkYQNil+Pmk7xdAAElsjEzFF0An7N8e9JoXQE+PU7GbcBdAdjLHQ0NGF0Ce1TrW6hsXQMZ4rmiS8RZA7hsi+znHFkAWv5WN4ZwWQD5iCSCJchZAZgV9sjBIFkCNqPBE2B0WQLRLZNd/8xVA3O7XaSfJFUAEkkv8zp4VQCw1v452dBVAVNgyIR5KFUB7e6azxR8VQKMeGkZt9RRAy8GN2BTLFEDzZAFrvKAUQBsIdf1jdhRAQ6vojwtMFEBqTlwisyEUQJLxz7Ra9xNAupRDRwLNE0DhN7fZqaITQAnbKmxReBNAMX6e/vhNE0BYIRKRoCMTQIDEhSNI+RJAqGf5te/OEkDQCm1Il6QSQPit4No+ehJAIFFUbeZPEkBH9Mf/jSUSQG+XO5I1+xFAlzqvJN3QEUA=",
          "dtype": "f8"
         }
        },
        {
         "marker": {
          "color": "deeppink",
          "opacity": 0.6
         },
         "mode": "markers",
         "name": "Female - data",
         "showlegend": true,
         "type": "scatter",
         "x": {
          "bdata": "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",
          "dtype": "f8"
         },
         "y": {
          "bdata": "BgUEBgcGBQYFBggFBQYFBggFBQYFBggFBQYFBggFBQQGBQYHBQYHBQYIBggFBgUGCAUIBQYFBgYFCAYFCAYFCAYFCAYFCAYFCAYFCAYFCAYFBgcFBgcFBgcFBgcFBgcFBgcFBgcFBgcFBgcFBgcFCAgGBAcIBgQHCAYEBwgGBAcIBgQHCAYEBwgGBAcIBgQHCAYEBwgGBAcIBgQHCAYEBwYHCAUHBgcIBQcGBwgFBwYHCAUHBgcIBQcGBwgFBwYHCAUHBgcIBQcGBwgFBwYHCAUHBgcIBQcGBwgFBwYHCAUHBgcIBQcGBwgFBwYHCAUHBgcIBQcGBwgFBwYIBgUFBggGBQUGCAYFBQYIBgUFBggGBQUGCAYFBQYIBgUFBQYHBgcFBQgHBwQFBQcHBgUFBgcGBwUECAcHBAUFBgcGBQUGBwYHBQQIBwcEBQUGBwYFBQYHBgcFBAgHBwQFBQYHBgU=",
          "dtype": "i1"
         }
        },
        {
         "line": {
          "color": "deeppink",
          "width": 2
         },
         "mode": "lines",
         "name": "Female - trend",
         "showlegend": true,
         "type": "scatter",
         "x": {
          "bdata": "mpmZmZmZAUAc1r5h7RsCQJ8S5ClBngJAIU8J8pQgA0Cjiy666KIDQCbIU4I8JQRAqAR5SpCnBEAqQZ4S5CkFQKx9w9o3rAVAL7rooosuBkCx9g1r37AGQDQzMzMzMwdAtm9Y+4a1B0A4rH3D2jcIQLrooosuughAPSXIU4I8CUC/Ye0b1r4JQEKeEuQpQQpAxNo3rH3DCkBGF1100UULQMhTgjwlyAtASpCnBHlKDEDNzMzMzMwMQE8J8pQgTw1A0kUXXXTRDUBUgjwlyFMOQNa+Ye0b1g5AWPuGtW9YD0DbN6x9w9oPQC666KKLLhBAcFj7hrVvEECx9g1r37AQQPKUIE8J8hBAMzMzMzMzEUB00UUXXXQRQLZvWPuGtRFA9g1r37D2EUA4rH3D2jcSQHlKkKcEeRJAuuiiiy66EkD7hrVvWPsSQDwlyFOCPBNAfsPaN6x9E0C+Ye0b1r4TQAAAAAAAABRAQZ4S5ClBFECCPCXIU4IUQMTaN6x9wxRABHlKkKcEFUBGF1100UUVQIe1b1j7hhVAyFOCPCXIFUAJ8pQgTwkWQEqQpwR5ShZAjC666KKLFkDMzMzMzMwWQA5r37D2DRdATwnylCBPF0CQpwR5SpAXQNFFF1100RdAEuQpQZ4SGEBUgjwlyFMYQJQgTwnylBhA1r5h7RvWGEAXXXTRRRcZQFj7hrVvWBlAmZmZmZmZGUDaN6x9w9oZQBzWvmHtGxpAXXTRRRddGkCeEuQpQZ4aQN+w9g1r3xpAIE8J8pQgG0Bh7RvWvmEbQKOLLrroohtA5ClBnhLkG0AlyFOCPCUcQGZmZmZmZhxApwR5SpCnHEDooosuuugcQClBnhLkKR1Aa9+w9g1rHUCsfcPaN6wdQO0b1r5h7R1ALrrooosuHkBvWPuGtW8eQLD2DWvfsB5A8pQgTwnyHkAzMzMzMzMfQHTRRRdddB9AtW9Y+4a1H0D2DWvfsPYfQBzWvmHtGyBAPCXIU4I8IEBddNFFF10gQH7D2jesfSBAnhLkKUGeIEC+Ye0b1r4gQN+w9g1r3yBAAAAAAAAAIUA=",
          "dtype": "f8"
         },
         "y": {
          "bdata": "27FuoENpIEAyWjhWvFEgQIkCAgw1OiBA4KrLwa0iIEA3U5V3JgsgQBr3vVo+5x9AyEdRxi+4H0B2mOQxIYkfQCTpd50SWh9A0TkLCQQrH0B/ip509fseQCzbMeDmzB5A2ivFS9idHkCIfFi3yW4eQDbN6yK7Px5A4x1/jqwQHkCRbhL6neEdQD6/pWWPsh1A7A850YCDHUCaYMw8clQdQEixX6hjJR1A9QHzE1X2HECiUoZ/RsccQFCjGes3mBxA/vOsVilpHECsREDCGjocQFmV0y0MCxxAB+Zmmf3bG0C0NvoE76wbQGKHjXDgfRtAENgg3NFOG0C9KLRHwx8bQGt5R7O08BpAGMraHqbBGkDGGm6Kl5IaQHRrAfaIYxpAIryUYXo0GkDPDCjNawUaQHxduzhd1hlAKq5OpE6nGUDY/uEPQHgZQIZPdXsxSRlAM6AI5yIaGUDi8JtSFOsYQI5BL74FvBhAPJLCKfeMGEDq4lWV6F0YQJcz6QDaLhhARoR8bMv/F0Dy1A/YvNAXQKAlo0OuoRdATnY2r59yF0D8xskakUMXQKoXXYaCFBdAV2jw8XPlFkAFuYNdZbYWQLIJF8lWhxZAYFqqNEhYFkAOqz2gOSkWQLv70Asr+hVAaUxkdxzLFUAWnffiDZwVQMXtik7/bBVAcj4euvA9FUAfj7El4g4VQM3fRJHT3xRAezDY/MSwFEApgWtotoEUQNbR/tOnUhRAgyKSP5kjFEAxcyWrivQTQN/DuBZ8xRNAjRRMgm2WE0A6Zd/tXmcTQOe1cllQOBNAlQYGxUEJE0BDV5kwM9oSQPGnLJwkqxJAnvi/BxZ8EkBMSVNzB00SQPqZ5t74HRJAp+p5SuruEUBVOw22278RQAKMoCHNkBFAsNwzjb5hEUBeLcf4rzIRQAx+WmShAxFAuc7tz5LUEEBmH4E7hKUQQBRwFKd1dhBAwsCnEmdHEEBwETt+WBgQQDrEnNOT0g9AlmXDqnZ0D0DwBuqBWRYPQEqoEFk8uA5AqEk3MB9aDkAE610HAvwNQF6MhN7knQ1AuC2rtcc/DUA=",
          "dtype": "f8"
         }
        },
        {
         "marker": {
          "color": "green",
          "opacity": 0.6
         },
         "mode": "markers",
         "name": "All - data",
         "showlegend": true,
         "type": "scatter",
         "x": {
          "bdata": "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",
          "dtype": "f8"
         },
         "y": {
          "bdata": "BggFBwYECQYHBwUGCAUHBggFBwYFCAYFBwUHBggFBwYFCAYFBwUHBggFBwYFCAYFBwUHBggFBwYFCAYFBwUGBAgGBwUIBgUHBgUIBgUHBgUIBgcIBQYFCAYFBwYHBQgGBQgGBQUIBgUHBgcFCAYFBgcFBggFBgcFBggFBgcFBggFBgcFBggFBgcFBggFBgcFBggFBgcFBggFBgcFBggFBgUHBgUHBgUHBgUHBgUHBgUHBgUHBgUHBgUHBgUHBgUHBgUHBgUHBgUHBgUHBgUHBgUHBgUHBgUHBgUHBgUGCAcIBgYHBAYHCAgFBgcEBgcICAUGBwQGBwgIBQYHBAYHCAgFBgcEBgcICAUGBwQGBwgIBQYHBAYHCAgFBgcEBgcICAUGBwQGBwgIBQYHBAYHCAgFBgcEBgcICAUGBwQGBwgGCAcFCAYFBgcGBggHBQgGBQYHBgYIBwUIBgUGBwYGCAcFCAYFBgcGBggHBQgGBQYHBgYIBwUIBgUGBwYGCAcFCAYFBgcGBggHBQgGBQYHBgYIBwUIBgUGBwYGCAcFCAYFBgcGBggHBQgGBQYHBgYIBwUIBgUGBwYGCAcFCAYFBgcGBggHBQgGBQYHBgYIBwUIBgUGBwYGCAcFCAYFBgcGBggHBQgGBQYHBgYIBwUIBgUGBwYGBwgHBgYFBwUHBgcIBwYGBQcFBwYHCAcGBgUHBQcGBwgHBgYFBwUHBgcIBwYGBQcFBwYHCAcGBgUHBQcGBwgHBgYFBwUHBQgGBAcFBgUHBgUHBQYIBQcFBwYEBwUGBQYHBQcEBggFBwUHBgQHBQYFBwYFBwQGCAUHBQcGBAcFBgUHBgUHBAYIBQcFBwYEBwUGBQcGBQcEBggFBwUHBgQHBQYFBwYFBwQGCAUHBQcGBAcFBgUHBgUHBAYIBQcFBwYEBwUGBQcGBQcEBggF",
          "dtype": "i1"
         }
        },
        {
         "line": {
          "color": "green",
          "width": 2
         },
         "mode": "lines",
         "name": "All - trend",
         "showlegend": true,
         "type": "scatter",
         "x": {
          "bdata": "AAAAAAAA+D93hsS8nSH5P+4MiXk7Q/o/ZZNNNtlk+z/cGRLzdob8P1Og1q8UqP0/yiabbLLJ/j9ArV8pUOv/P9wZEvN2hgBAF1100UUXAUBToNavFKgBQI7jOI7jOAJAyiabbLLJAkAFav1KgVoDQECtXylQ6wNAfPDBBx98BEC4MyTm7QwFQPN2hsS8nQVALrrooosuBkBq/UqBWr8GQKZArV8pUAdA4YMPPvjgB0Acx3Ecx3EIQFgK1PqVAglAk0022WSTCUDOkJi3MyQKQArU+pUCtQpARhdddNFFC0CBWr9SoNYLQL2dITFvZwxA+OCDDz74DEA0JObtDIkNQG9nSMzbGQ5AqqqqqqqqDkDm7QyJeTsPQCExb2dIzA9ALrrooosuEEDM2xkS83YQQGr9SoFavxBACB988MEHEUCmQK1fKVARQENi3s6QmBFA4YMPPvjgEUB+pUCtXykSQBzHcRzHcRJAuuiiiy66EkBYCtT6lQITQPYrBWr9ShNAk0022WSTE0Axb2dIzNsTQM6QmLczJBRAbLLJJptsFEAK1PqVArUUQKj1KwVq/RRARhdddNFFFUDkOI7jOI4VQIFav1Kg1hVAH3zwwQcfFkC9nSExb2cWQFq/UqDWrxZA+OCDDz74FkCWArV+pUAXQDQk5u0MiRdA0UUXXXTRF0BvZ0jM2xkYQA2JeTtDYhhAqqqqqqqqGEBIzNsZEvMYQObtDIl5OxlAhA8++OCDGUAhMW9nSMwZQL9SoNavFBpAXXTRRRddGkD7lQK1fqUaQJi3MyTm7RpANtlkk002G0DU+pUCtX4bQHIcx3EcxxtADz744IMPHECtXylQ61ccQEuBWr9SoBxA6KKLLrroHECGxLydITEdQCTm7QyJeR1AwgcffPDBHUBfKVDrVwoeQP1KgVq/Uh5Am2yyySabHkA5juM4juMeQNavFKj1Kx9AdNFFF110H0AS83aGxLwfQFgK1PqVAiBAJptssskmIED2KwVq/UogQMS8nSExbyBAk0022WSTIEBi3s6QmLcgQDFvZ0jM2yBAAAAAAAAAIUA=",
          "dtype": "f8"
         },
         "y": {
          "bdata": "hSWyGntEIUBWgrOT/iohQCfftAyCESFA+Du2hQX4IEDJmLf+iN4gQJr1uHcMxSBAbFK68I+rIEA9r7tpE5IgQA4MveKWeCBA32i+WxpfIECwxb/UnUUgQIIiwU0hLCBAU3/CxqQSIEBIuId/UPIfQOtxinFXvx9AjSuNY16MH0Av5Y9VZVkfQNKekkdsJh9AdFiVOXPzHkAWEpgresAeQLjLmh2BjR5AW4WdD4haHkD+PqABjyceQKD4ovOV9B1AQrKl5ZzBHUDla6jXo44dQIclq8mqWx1AKd+tu7EoHUDMmLCtuPUcQG5Ss5+/whxAEAy2kcaPHECyxbiDzVwcQFV/u3XUKRxA+Di+Z9v2G0Ca8sBZ4sMbQDysw0vpkBtA32XGPfBdG0CBH8kv9yobQCTZyyH+9xpAxpLOEwXFGkBoTNEFDJIaQAoG1PcSXxpArb/W6RksGkBQednbIPkZQPIy3M0nxhlAlOzevy6TGUA2puGxNWAZQNhf5KM8LRlAfBnnlUP6GEAe0+mHSscYQMCM7HlRlBhAYkbva1hhGEAFAPJdXy4YQKe59E9m+xdASXP3QW3IF0DsLPozdJUXQI7m/CV7YhdAMKD/F4IvF0DSWQIKifwWQHYTBfyPyRZAGM0H7paWFkC6hgrgnWMWQFxADdKkMBZA//kPxKv9FUChsxK2ssoVQENtFai5lxVA5iYYmsBkFUCI4BqMxzEVQCuaHX7O/hRAzVMgcNXLFEBwDSNi3JgUQBLHJVTjZRRAtIAoRuoyFEBWOis48f8TQPnzLSr4zBNAm60wHP+ZE0A+ZzMOBmcTQOAgNgANNBNAg9o48hMBE0AllDvkGs4SQMdNPtYhmxJAagdByChoEkAMwUO6LzUSQK56Rqw2AhJAUDRJnj3PEUDz7UuQRJwRQJanToJLaRFAOGFRdFI2EUDaGlRmWQMRQH3UVlhg0BBAH45ZSmedEEDBR1w8bmoQQGMBXy51NxBAB7thIHwEEEBQ6cgkBqMPQJZczggUPQ9A2s/T7CHXDkAgQ9nQL3EOQGS23rQ9Cw5AqCnkmEulDUA=",
          "dtype": "f8"
         }
        }
       ],
       "layout": {
        "template": {
         "data": {
          "bar": [
           {
            "error_x": {
             "color": "#2a3f5f"
            },
            "error_y": {
             "color": "#2a3f5f"
            },
            "marker": {
             "line": {
              "color": "#E5ECF6",
              "width": 0.5
             },
             "pattern": {
              "fillmode": "overlay",
              "size": 10,
              "solidity": 0.2
             }
            },
            "type": "bar"
           }
          ],
          "barpolar": [
           {
            "marker": {
             "line": {
              "color": "#E5ECF6",
              "width": 0.5
             },
             "pattern": {
              "fillmode": "overlay",
              "size": 10,
              "solidity": 0.2
             }
            },
            "type": "barpolar"
           }
          ],
          "carpet": [
           {
            "aaxis": {
             "endlinecolor": "#2a3f5f",
             "gridcolor": "white",
             "linecolor": "white",
             "minorgridcolor": "white",
             "startlinecolor": "#2a3f5f"
            },
            "baxis": {
             "endlinecolor": "#2a3f5f",
             "gridcolor": "white",
             "linecolor": "white",
             "minorgridcolor": "white",
             "startlinecolor": "#2a3f5f"
            },
            "type": "carpet"
           }
          ],
          "choropleth": [
           {
            "colorbar": {
             "outlinewidth": 0,
             "ticks": ""
            },
            "type": "choropleth"
           }
          ],
          "contour": [
           {
            "colorbar": {
             "outlinewidth": 0,
             "ticks": ""
            },
            "colorscale": [
             [
              0,
              "#0d0887"
             ],
             [
              0.1111111111111111,
              "#46039f"
             ],
             [
              0.2222222222222222,
              "#7201a8"
             ],
             [
              0.3333333333333333,
              "#9c179e"
             ],
             [
              0.4444444444444444,
              "#bd3786"
             ],
             [
              0.5555555555555556,
              "#d8576b"
             ],
             [
              0.6666666666666666,
              "#ed7953"
             ],
             [
              0.7777777777777778,
              "#fb9f3a"
             ],
             [
              0.8888888888888888,
              "#fdca26"
             ],
             [
              1,
              "#f0f921"
             ]
            ],
            "type": "contour"
           }
          ],
          "contourcarpet": [
           {
            "colorbar": {
             "outlinewidth": 0,
             "ticks": ""
            },
            "type": "contourcarpet"
           }
          ],
          "heatmap": [
           {
            "colorbar": {
             "outlinewidth": 0,
             "ticks": ""
            },
            "colorscale": [
             [
              0,
              "#0d0887"
             ],
             [
              0.1111111111111111,
              "#46039f"
             ],
             [
              0.2222222222222222,
              "#7201a8"
             ],
             [
              0.3333333333333333,
              "#9c179e"
             ],
             [
              0.4444444444444444,
              "#bd3786"
             ],
             [
              0.5555555555555556,
              "#d8576b"
             ],
             [
              0.6666666666666666,
              "#ed7953"
             ],
             [
              0.7777777777777778,
              "#fb9f3a"
             ],
             [
              0.8888888888888888,
              "#fdca26"
             ],
             [
              1,
              "#f0f921"
             ]
            ],
            "type": "heatmap"
           }
          ],
          "histogram": [
           {
            "marker": {
             "pattern": {
              "fillmode": "overlay",
              "size": 10,
              "solidity": 0.2
             }
            },
            "type": "histogram"
           }
          ],
          "histogram2d": [
           {
            "colorbar": {
             "outlinewidth": 0,
             "ticks": ""
            },
            "colorscale": [
             [
              0,
              "#0d0887"
             ],
             [
              0.1111111111111111,
              "#46039f"
             ],
             [
              0.2222222222222222,
              "#7201a8"
             ],
             [
              0.3333333333333333,
              "#9c179e"
             ],
             [
              0.4444444444444444,
              "#bd3786"
             ],
             [
              0.5555555555555556,
              "#d8576b"
             ],
             [
              0.6666666666666666,
              "#ed7953"
             ],
             [
              0.7777777777777778,
              "#fb9f3a"
             ],
             [
              0.8888888888888888,
              "#fdca26"
             ],
             [
              1,
              "#f0f921"
             ]
            ],
            "type": "histogram2d"
           }
          ],
          "histogram2dcontour": [
           {
            "colorbar": {
             "outlinewidth": 0,
             "ticks": ""
            },
            "colorscale": [
             [
              0,
              "#0d0887"
             ],
             [
              0.1111111111111111,
              "#46039f"
             ],
             [
              0.2222222222222222,
              "#7201a8"
             ],
             [
              0.3333333333333333,
              "#9c179e"
             ],
             [
              0.4444444444444444,
              "#bd3786"
             ],
             [
              0.5555555555555556,
              "#d8576b"
             ],
             [
              0.6666666666666666,
              "#ed7953"
             ],
             [
              0.7777777777777778,
              "#fb9f3a"
             ],
             [
              0.8888888888888888,
              "#fdca26"
             ],
             [
              1,
              "#f0f921"
             ]
            ],
            "type": "histogram2dcontour"
           }
          ],
          "mesh3d": [
           {
            "colorbar": {
             "outlinewidth": 0,
             "ticks": ""
            },
            "type": "mesh3d"
           }
          ],
          "parcoords": [
           {
            "line": {
             "colorbar": {
              "outlinewidth": 0,
              "ticks": ""
             }
            },
            "type": "parcoords"
           }
          ],
          "pie": [
           {
            "automargin": true,
            "type": "pie"
           }
          ],
          "scatter": [
           {
            "fillpattern": {
             "fillmode": "overlay",
             "size": 10,
             "solidity": 0.2
            },
            "type": "scatter"
           }
          ],
          "scatter3d": [
           {
            "line": {
             "colorbar": {
              "outlinewidth": 0,
              "ticks": ""
             }
            },
            "marker": {
             "colorbar": {
              "outlinewidth": 0,
              "ticks": ""
             }
            },
            "type": "scatter3d"
           }
          ],
          "scattercarpet": [
           {
            "marker": {
             "colorbar": {
              "outlinewidth": 0,
              "ticks": ""
             }
            },
            "type": "scattercarpet"
           }
          ],
          "scattergeo": [
           {
            "marker": {
             "colorbar": {
              "outlinewidth": 0,
              "ticks": ""
             }
            },
            "type": "scattergeo"
           }
          ],
          "scattergl": [
           {
            "marker": {
             "colorbar": {
              "outlinewidth": 0,
              "ticks": ""
             }
            },
            "type": "scattergl"
           }
          ],
          "scattermap": [
           {
            "marker": {
             "colorbar": {
              "outlinewidth": 0,
              "ticks": ""
             }
            },
            "type": "scattermap"
           }
          ],
          "scattermapbox": [
           {
            "marker": {
             "colorbar": {
              "outlinewidth": 0,
              "ticks": ""
             }
            },
            "type": "scattermapbox"
           }
          ],
          "scatterpolar": [
           {
            "marker": {
             "colorbar": {
              "outlinewidth": 0,
              "ticks": ""
             }
            },
            "type": "scatterpolar"
           }
          ],
          "scatterpolargl": [
           {
            "marker": {
             "colorbar": {
              "outlinewidth": 0,
              "ticks": ""
             }
            },
            "type": "scatterpolargl"
           }
          ],
          "scatterternary": [
           {
            "marker": {
             "colorbar": {
              "outlinewidth": 0,
              "ticks": ""
             }
            },
            "type": "scatterternary"
           }
          ],
          "surface": [
           {
            "colorbar": {
             "outlinewidth": 0,
             "ticks": ""
            },
            "colorscale": [
             [
              0,
              "#0d0887"
             ],
             [
              0.1111111111111111,
              "#46039f"
             ],
             [
              0.2222222222222222,
              "#7201a8"
             ],
             [
              0.3333333333333333,
              "#9c179e"
             ],
             [
              0.4444444444444444,
              "#bd3786"
             ],
             [
              0.5555555555555556,
              "#d8576b"
             ],
             [
              0.6666666666666666,
              "#ed7953"
             ],
             [
              0.7777777777777778,
              "#fb9f3a"
             ],
             [
              0.8888888888888888,
              "#fdca26"
             ],
             [
              1,
              "#f0f921"
             ]
            ],
            "type": "surface"
           }
          ],
          "table": [
           {
            "cells": {
             "fill": {
              "color": "#EBF0F8"
             },
             "line": {
              "color": "white"
             }
            },
            "header": {
             "fill": {
              "color": "#C8D4E3"
             },
             "line": {
              "color": "white"
             }
            },
            "type": "table"
           }
          ]
         },
         "layout": {
          "annotationdefaults": {
           "arrowcolor": "#2a3f5f",
           "arrowhead": 0,
           "arrowwidth": 1
          },
          "autotypenumbers": "strict",
          "coloraxis": {
           "colorbar": {
            "outlinewidth": 0,
            "ticks": ""
           }
          },
          "colorscale": {
           "diverging": [
            [
             0,
             "#8e0152"
            ],
            [
             0.1,
             "#c51b7d"
            ],
            [
             0.2,
             "#de77ae"
            ],
            [
             0.3,
             "#f1b6da"
            ],
            [
             0.4,
             "#fde0ef"
            ],
            [
             0.5,
             "#f7f7f7"
            ],
            [
             0.6,
             "#e6f5d0"
            ],
            [
             0.7,
             "#b8e186"
            ],
            [
             0.8,
             "#7fbc41"
            ],
            [
             0.9,
             "#4d9221"
            ],
            [
             1,
             "#276419"
            ]
           ],
           "sequential": [
            [
             0,
             "#0d0887"
            ],
            [
             0.1111111111111111,
             "#46039f"
            ],
            [
             0.2222222222222222,
             "#7201a8"
            ],
            [
             0.3333333333333333,
             "#9c179e"
            ],
            [
             0.4444444444444444,
             "#bd3786"
            ],
            [
             0.5555555555555556,
             "#d8576b"
            ],
            [
             0.6666666666666666,
             "#ed7953"
            ],
            [
             0.7777777777777778,
             "#fb9f3a"
            ],
            [
             0.8888888888888888,
             "#fdca26"
            ],
            [
             1,
             "#f0f921"
            ]
           ],
           "sequentialminus": [
            [
             0,
             "#0d0887"
            ],
            [
             0.1111111111111111,
             "#46039f"
            ],
            [
             0.2222222222222222,
             "#7201a8"
            ],
            [
             0.3333333333333333,
             "#9c179e"
            ],
            [
             0.4444444444444444,
             "#bd3786"
            ],
            [
             0.5555555555555556,
             "#d8576b"
            ],
            [
             0.6666666666666666,
             "#ed7953"
            ],
            [
             0.7777777777777778,
             "#fb9f3a"
            ],
            [
             0.8888888888888888,
             "#fdca26"
            ],
            [
             1,
             "#f0f921"
            ]
           ]
          },
          "colorway": [
           "#636efa",
           "#EF553B",
           "#00cc96",
           "#ab63fa",
           "#FFA15A",
           "#19d3f3",
           "#FF6692",
           "#B6E880",
           "#FF97FF",
           "#FECB52"
          ],
          "font": {
           "color": "#2a3f5f"
          },
          "geo": {
           "bgcolor": "white",
           "lakecolor": "white",
           "landcolor": "#E5ECF6",
           "showlakes": true,
           "showland": true,
           "subunitcolor": "white"
          },
          "hoverlabel": {
           "align": "left"
          },
          "hovermode": "closest",
          "mapbox": {
           "style": "light"
          },
          "paper_bgcolor": "white",
          "plot_bgcolor": "#E5ECF6",
          "polar": {
           "angularaxis": {
            "gridcolor": "white",
            "linecolor": "white",
            "ticks": ""
           },
           "bgcolor": "#E5ECF6",
           "radialaxis": {
            "gridcolor": "white",
            "linecolor": "white",
            "ticks": ""
           }
          },
          "scene": {
           "xaxis": {
            "backgroundcolor": "#E5ECF6",
            "gridcolor": "white",
            "gridwidth": 2,
            "linecolor": "white",
            "showbackground": true,
            "ticks": "",
            "zerolinecolor": "white"
           },
           "yaxis": {
            "backgroundcolor": "#E5ECF6",
            "gridcolor": "white",
            "gridwidth": 2,
            "linecolor": "white",
            "showbackground": true,
            "ticks": "",
            "zerolinecolor": "white"
           },
           "zaxis": {
            "backgroundcolor": "#E5ECF6",
            "gridcolor": "white",
            "gridwidth": 2,
            "linecolor": "white",
            "showbackground": true,
            "ticks": "",
            "zerolinecolor": "white"
           }
          },
          "shapedefaults": {
           "line": {
            "color": "#2a3f5f"
           }
          },
          "ternary": {
           "aaxis": {
            "gridcolor": "white",
            "linecolor": "white",
            "ticks": ""
           },
           "baxis": {
            "gridcolor": "white",
            "linecolor": "white",
            "ticks": ""
           },
           "bgcolor": "#E5ECF6",
           "caxis": {
            "gridcolor": "white",
            "linecolor": "white",
            "ticks": ""
           }
          },
          "title": {
           "x": 0.05
          },
          "xaxis": {
           "automargin": true,
           "gridcolor": "white",
           "linecolor": "white",
           "ticks": "",
           "title": {
            "standoff": 15
           },
           "zerolinecolor": "white",
           "zerolinewidth": 2
          },
          "yaxis": {
           "automargin": true,
           "gridcolor": "white",
           "linecolor": "white",
           "ticks": "",
           "title": {
            "standoff": 15
           },
           "zerolinecolor": "white",
           "zerolinewidth": 2
          }
         }
        },
        "title": {
         "text": "Social media gebruik vs. mentale gezondheid"
        },
        "updatemenus": [
         {
          "active": 0,
          "buttons": [
           {
            "args": [
             {
              "visible": [
               true,
               true,
               false,
               false,
               false,
               false
              ]
             },
             {
              "title": "Social media gebruik vs. mentale gezondheid (mannen)"
             }
            ],
            "label": "Man",
            "method": "update"
           },
           {
            "args": [
             {
              "visible": [
               false,
               false,
               true,
               true,
               false,
               false
              ]
             },
             {
              "title": "Social media gebruik vs. mentale gezondheid (vrouwen)"
             }
            ],
            "label": "Vrouw",
            "method": "update"
           },
           {
            "args": [
             {
              "visible": [
               false,
               false,
               false,
               false,
               true,
               true
              ]
             },
             {
              "title": "Social media gebruik vs. mentale gezondheid (alle studenten)"
             }
            ],
            "label": "Iedereen",
            "method": "update"
           }
          ],
          "x": 1.15
         }
        ],
        "xaxis": {
         "title": {
          "text": "Gemiddeld aantal gebruiksuren van social media per dag"
         }
        },
        "yaxis": {
         "title": {
          "text": "Mentale gezondheidsscore"
         }
        }
       }
      },
      "text/html": [
       "<div>            <script src=\"https://cdnjs.cloudflare.com/ajax/libs/mathjax/2.7.5/MathJax.js?config=TeX-AMS-MML_SVG\"></script><script type=\"text/javascript\">if (window.MathJax && window.MathJax.Hub && window.MathJax.Hub.Config) {window.MathJax.Hub.Config({SVG: {font: \"STIX-Web\"}});}</script>                <script type=\"text/javascript\">window.PlotlyConfig = {MathJaxConfig: 'local'};</script>\n",
       "        <script charset=\"utf-8\" src=\"https://cdn.plot.ly/plotly-3.0.1.min.js\"></script>                <div id=\"854be3da-f558-4c88-bde2-f99a372d23b9\" class=\"plotly-graph-div\" style=\"height:525px; width:100%;\"></div>            <script type=\"text/javascript\">                window.PLOTLYENV=window.PLOTLYENV || {};                                if (document.getElementById(\"854be3da-f558-4c88-bde2-f99a372d23b9\")) {                    Plotly.newPlot(                        \"854be3da-f558-4c88-bde2-f99a372d23b9\",                        [{\"marker\":{\"color\":\"blue\",\"opacity\":0.6},\"mode\":\"markers\",\"name\":\"Male - data\",\"showlegend\":true,\"x\":{\"dtype\":\"f8\",\"bdata\":\"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\"},\"y\":{\"dtype\":\"i1\",\"bdata\":\"CAcGCQcFCAcIBwUGBwcIBwUGBwcIBwUGBwcIBwUGBwYIBwgFBggFBggHBQUGBwcIBQYFBgcHCAUHBgUHBgUHBgUHBgUHBgUHBgUHBgUHBgUHBQYHBQYHBQYHBQYHBQYHBQYHBQYHBQYHBQYHBQYGBwYHBggFBwYIBQcGCAUHBggFBwYIBQcGCAUHBggFBwYIBQcGCAUHBggFBwYIBQcGCAgFBgYGCAUGBgYIBQYGBggFBgYGCAUGBgYIBQYGBggFBgYGCAUGBgYIBQYGBggFBgYGCAUGBgYIBQYGBggFBgYGCAUGBgYIBQYGBggFBgYGCAUGBgYIBQYGBgcHBgcHBwcGBwcHBwYHBwcHBgcHBwcGBwcHBwYHBwcHBgcHCAQFBQYHBgUFBgcGBgUECAcHBAUFBgcGBQUGBwYHBQQIBwcEBQUGBwYFBQYHBgcFBAgHBwQFBQYHBgUFBgcGBwUECA==\"},\"type\":\"scatter\"},{\"line\":{\"color\":\"blue\",\"width\":2},\"mode\":\"lines\",\"name\":\"Male - trend\",\"showlegend\":true,\"x\":{\"dtype\":\"f8\",\"bdata\":\"AAAAAAAA+D\\u002f44IMPPvj4P\\u002fDBBx988Pk\\u002f6aKLLrro+j\\u002fhgw8++OD7P9lkk0022fw\\u002f0kUXXXTR\\u002fT\\u002fKJptsssn+P8IHH3zwwf8\\u002fXXTRRRddAEDZZJNNNtkAQFZVVVVVVQFA0kUXXXTRAUBONtlkk00CQMomm2yyyQJARhdddNFFA0DCBx988MEDQD744IMPPgRAuuiiiy66BEA22WSTTTYFQLLJJptssgVALrrooosuBkCrqqqqqqoGQCebbLLJJgdAo4suuuiiB0AffPDBBx8IQJtssskmmwhAGF100UUXCUCUTTbZZJMJQBA++OCDDwpAjC666KKLCkAIH3zwwQcLQIQPPvjggwtAAAAAAAAADEB88MEHH3wMQPjggw8++AxAdNFFF110DUDxwQcffPANQG2yySabbA5A6aKLLrroDkBlk0022WQPQOGDDz744A9ALrrooosuEEBssskmm2wQQKuqqqqqqhBA6aKLLrroEEAnm2yyySYRQGWTTTbZZBFAo4suuuiiEUDhgw8++OARQB988MEHHxJAXXTRRRddEkCbbLLJJpsSQNpkk0022RJAGF100UUXE0BWVVVVVVUTQJRNNtlkkxNA0kUXXXTRE0AQPvjggw8UQE422WSTTRRAjC666KKLFEDKJptssskUQAgffPDBBxVARhdddNFFFUCEDz744IMVQMIHH3zwwRVAAAAAAAAAFkA++OCDDz4WQHzwwQcffBZAuuiiiy66FkD44IMPPvgWQDbZZJNNNhdAdNFFF110F0CzySabbLIXQPHBBx988BdAL7rooosuGEBtsskmm2wYQKuqqqqqqhhA6aKLLrroGEAnm2yyySYZQGWTTTbZZBlAo4suuuiiGUDhgw8++OAZQB988MEHHxpAXXTRRRddGkCbbLLJJpsaQNlkk0022RpAF1100UUXG0BWVVVVVVUbQJRNNtlkkxtA0kUXXXTRG0AQPvjggw8cQE422WSTTRxAjC666KKLHEDKJptssskcQAgffPDBBx1ARhdddNFFHUCEDz744IMdQMIHH3zwwR1AAAAAAAAAHkA=\"},\"y\":{\"dtype\":\"f8\",\"bdata\":\"G5H7wIcYIUCvYjWKWwMhQEM0b1Mv7iBA1wWpHAPZIEBr1+Ll1sMgQP6oHK+qriBAknpWeH6ZIEAmTJBBUoQgQLodygombyBATu8D1PlZIEDiwD2dzUQgQHaSd2ahLyBACmSxL3UaIECeNev4SAUgQGMOSoQ54B9AirG9FuG1H0CyVDGpiIsfQNr3pDswYR9AApsYztc2H0AqPoxgfwwfQFLh\\u002f\\u002fIm4h5AeoRzhc63HkChJ+cXdo0eQMnKWqodYx5A8G3OPMU4HkAYEULPbA4eQEC0tWEU5B1AaFcp9Lu5HUCQ+pyGY48dQLedEBkLZR1A30CEq7I6HUAH5Pc9WhAdQC6Ha9AB5hxAVirfYqm7HEB+zVL1UJEcQKZwxof4ZhxAzhM6GqA8HED2tq2sRxIcQB1aIT\\u002fv5xtARf2U0Za9G0BsoAhkPpMbQJRDfPblaBtAvObviI0+G0DkiWMbNRQbQAwt163c6RpANNBKQIS\\u002fGkBbc77SK5UaQIMWMmXTahpAq7ml93pAGkDSXBmKIhYaQPr\\u002fjBzK6xlAIqMAr3HBGUBKRnRBGZcZQHHp59PAbBlAmYxbZmhCGUDBL8\\u002f4DxgZQOjSQou37RhAEHa2HV\\u002fDGEA4GSqwBpkYQGC8nUKubhhAiF8R1VVEGECwAoVn\\u002fRkYQNil+Pmk7xdAAElsjEzFF0An7N8e9JoXQE+PU7GbcBdAdjLHQ0NGF0Ce1TrW6hsXQMZ4rmiS8RZA7hsi+znHFkAWv5WN4ZwWQD5iCSCJchZAZgV9sjBIFkCNqPBE2B0WQLRLZNd\\u002f8xVA3O7XaSfJFUAEkkv8zp4VQCw1v452dBVAVNgyIR5KFUB7e6azxR8VQKMeGkZt9RRAy8GN2BTLFEDzZAFrvKAUQBsIdf1jdhRAQ6vojwtMFEBqTlwisyEUQJLxz7Ra9xNAupRDRwLNE0DhN7fZqaITQAnbKmxReBNAMX6e\\u002fvhNE0BYIRKRoCMTQIDEhSNI+RJAqGf5te\\u002fOEkDQCm1Il6QSQPit4No+ehJAIFFUbeZPEkBH9Mf\\u002fjSUSQG+XO5I1+xFAlzqvJN3QEUA=\"},\"type\":\"scatter\"},{\"marker\":{\"color\":\"deeppink\",\"opacity\":0.6},\"mode\":\"markers\",\"name\":\"Female - data\",\"showlegend\":true,\"x\":{\"dtype\":\"f8\",\"bdata\":\"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\"},\"y\":{\"dtype\":\"i1\",\"bdata\":\"BgUEBgcGBQYFBggFBQYFBggFBQYFBggFBQYFBggFBQQGBQYHBQYHBQYIBggFBgUGCAUIBQYFBgYFCAYFCAYFCAYFCAYFCAYFCAYFCAYFCAYFBgcFBgcFBgcFBgcFBgcFBgcFBgcFBgcFBgcFBgcFCAgGBAcIBgQHCAYEBwgGBAcIBgQHCAYEBwgGBAcIBgQHCAYEBwgGBAcIBgQHCAYEBwYHCAUHBgcIBQcGBwgFBwYHCAUHBgcIBQcGBwgFBwYHCAUHBgcIBQcGBwgFBwYHCAUHBgcIBQcGBwgFBwYHCAUHBgcIBQcGBwgFBwYHCAUHBgcIBQcGBwgFBwYIBgUFBggGBQUGCAYFBQYIBgUFBggGBQUGCAYFBQYIBgUFBQYHBgcFBQgHBwQFBQcHBgUFBgcGBwUECAcHBAUFBgcGBQUGBwYHBQQIBwcEBQUGBwYFBQYHBgcFBAgHBwQFBQYHBgU=\"},\"type\":\"scatter\"},{\"line\":{\"color\":\"deeppink\",\"width\":2},\"mode\":\"lines\",\"name\":\"Female - trend\",\"showlegend\":true,\"x\":{\"dtype\":\"f8\",\"bdata\":\"mpmZmZmZAUAc1r5h7RsCQJ8S5ClBngJAIU8J8pQgA0Cjiy666KIDQCbIU4I8JQRAqAR5SpCnBEAqQZ4S5CkFQKx9w9o3rAVAL7rooosuBkCx9g1r37AGQDQzMzMzMwdAtm9Y+4a1B0A4rH3D2jcIQLrooosuughAPSXIU4I8CUC\\u002fYe0b1r4JQEKeEuQpQQpAxNo3rH3DCkBGF1100UULQMhTgjwlyAtASpCnBHlKDEDNzMzMzMwMQE8J8pQgTw1A0kUXXXTRDUBUgjwlyFMOQNa+Ye0b1g5AWPuGtW9YD0DbN6x9w9oPQC666KKLLhBAcFj7hrVvEECx9g1r37AQQPKUIE8J8hBAMzMzMzMzEUB00UUXXXQRQLZvWPuGtRFA9g1r37D2EUA4rH3D2jcSQHlKkKcEeRJAuuiiiy66EkD7hrVvWPsSQDwlyFOCPBNAfsPaN6x9E0C+Ye0b1r4TQAAAAAAAABRAQZ4S5ClBFECCPCXIU4IUQMTaN6x9wxRABHlKkKcEFUBGF1100UUVQIe1b1j7hhVAyFOCPCXIFUAJ8pQgTwkWQEqQpwR5ShZAjC666KKLFkDMzMzMzMwWQA5r37D2DRdATwnylCBPF0CQpwR5SpAXQNFFF1100RdAEuQpQZ4SGEBUgjwlyFMYQJQgTwnylBhA1r5h7RvWGEAXXXTRRRcZQFj7hrVvWBlAmZmZmZmZGUDaN6x9w9oZQBzWvmHtGxpAXXTRRRddGkCeEuQpQZ4aQN+w9g1r3xpAIE8J8pQgG0Bh7RvWvmEbQKOLLrroohtA5ClBnhLkG0AlyFOCPCUcQGZmZmZmZhxApwR5SpCnHEDooosuuugcQClBnhLkKR1Aa9+w9g1rHUCsfcPaN6wdQO0b1r5h7R1ALrrooosuHkBvWPuGtW8eQLD2DWvfsB5A8pQgTwnyHkAzMzMzMzMfQHTRRRdddB9AtW9Y+4a1H0D2DWvfsPYfQBzWvmHtGyBAPCXIU4I8IEBddNFFF10gQH7D2jesfSBAnhLkKUGeIEC+Ye0b1r4gQN+w9g1r3yBAAAAAAAAAIUA=\"},\"y\":{\"dtype\":\"f8\",\"bdata\":\"27FuoENpIEAyWjhWvFEgQIkCAgw1OiBA4KrLwa0iIEA3U5V3JgsgQBr3vVo+5x9AyEdRxi+4H0B2mOQxIYkfQCTpd50SWh9A0TkLCQQrH0B\\u002fip509fseQCzbMeDmzB5A2ivFS9idHkCIfFi3yW4eQDbN6yK7Px5A4x1\\u002fjqwQHkCRbhL6neEdQD6\\u002fpWWPsh1A7A850YCDHUCaYMw8clQdQEixX6hjJR1A9QHzE1X2HECiUoZ\\u002fRsccQFCjGes3mBxA\\u002fvOsVilpHECsREDCGjocQFmV0y0MCxxAB+Zmmf3bG0C0NvoE76wbQGKHjXDgfRtAENgg3NFOG0C9KLRHwx8bQGt5R7O08BpAGMraHqbBGkDGGm6Kl5IaQHRrAfaIYxpAIryUYXo0GkDPDCjNawUaQHxduzhd1hlAKq5OpE6nGUDY\\u002fuEPQHgZQIZPdXsxSRlAM6AI5yIaGUDi8JtSFOsYQI5BL74FvBhAPJLCKfeMGEDq4lWV6F0YQJcz6QDaLhhARoR8bMv\\u002fF0Dy1A\\u002fYvNAXQKAlo0OuoRdATnY2r59yF0D8xskakUMXQKoXXYaCFBdAV2jw8XPlFkAFuYNdZbYWQLIJF8lWhxZAYFqqNEhYFkAOqz2gOSkWQLv70Asr+hVAaUxkdxzLFUAWnffiDZwVQMXtik7\\u002fbBVAcj4euvA9FUAfj7El4g4VQM3fRJHT3xRAezDY\\u002fMSwFEApgWtotoEUQNbR\\u002ftOnUhRAgyKSP5kjFEAxcyWrivQTQN\\u002fDuBZ8xRNAjRRMgm2WE0A6Zd\\u002ftXmcTQOe1cllQOBNAlQYGxUEJE0BDV5kwM9oSQPGnLJwkqxJAnvi\\u002fBxZ8EkBMSVNzB00SQPqZ5t74HRJAp+p5SuruEUBVOw22278RQAKMoCHNkBFAsNwzjb5hEUBeLcf4rzIRQAx+WmShAxFAuc7tz5LUEEBmH4E7hKUQQBRwFKd1dhBAwsCnEmdHEEBwETt+WBgQQDrEnNOT0g9AlmXDqnZ0D0DwBuqBWRYPQEqoEFk8uA5AqEk3MB9aDkAE610HAvwNQF6MhN7knQ1AuC2rtcc\\u002fDUA=\"},\"type\":\"scatter\"},{\"marker\":{\"color\":\"green\",\"opacity\":0.6},\"mode\":\"markers\",\"name\":\"All - data\",\"showlegend\":true,\"x\":{\"dtype\":\"f8\",\"bdata\":\"zczMzMzMFEDNzMzMzMwAQAAAAAAAABhAAAAAAAAACEAAAAAAAAASQM3MzMzMzBxAAAAAAAAA+D8zMzMzMzMXQAAAAAAAABBAZmZmZmZmCkAzMzMzMzMTQAAAAAAAABZAZmZmZmZmBkAAAAAAAAAaQJqZmZmZmQ1AzczMzMzMEEAAAAAAAAAAQAAAAAAAABRAAAAAAAAADEDNzMzMzMwSQDMzMzMzMxVAAAAAAAAABECamZmZmZkTQM3MzMzMzBZAmpmZmZmZCUBmZmZmZmYYQGZmZmZmZg5AmpmZmZmZEUCamZmZmZkBQJqZmZmZmRdAzczMzMzMDEAzMzMzMzMTQJqZmZmZmRVAzczMzMzMBEDNzMzMzMwSQGZmZmZmZhZAzczMzMzMCEDNzMzMzMwYQDMzMzMzMw9AAAAAAAAAEkBmZmZmZmYCQDMzMzMzMxdAmpmZmZmZDUBmZmZmZmYSQAAAAAAAABZAmpmZmZmZBUAzMzMzMzMTQAAAAAAAABZAZmZmZmZmCkAzMzMzMzMZQGZmZmZmZg5AzczMzMzMEkAzMzMzMzMDQM3MzMzMzBZAzczMzMzMDECamZmZmZkTQGZmZmZmZhZAZmZmZmZmBkBmZmZmZmYSQJqZmZmZmRVAzczMzMzMCEBmZmZmZmYWQM3MzMzMzBBAZmZmZmZmGEBmZmZmZmYCQDMzMzMzMxNAMzMzMzMzD0DNzMzMzMwWQGZmZmZmZgZAAAAAAAAAEkCamZmZmZkVQJqZmZmZmQlAmpmZmZmZE0AzMzMzMzMXQAAAAAAAAARAZmZmZmZmEkAAAAAAAAAWQDMzMzMzMwdAzczMzMzMEkCamZmZmZkXQAAAAAAAAAhAMzMzMzMzE0BmZmZmZmYOQJqZmZmZmQVAZmZmZmZmFkAAAAAAAAASQDMzMzMzMxVAzczMzMzMBECamZmZmZkRQDMzMzMzMxdAMzMzMzMzB0DNzMzMzMwSQJqZmZmZmQ1AAAAAAAAAFkAzMzMzMzMDQJqZmZmZmRNAzczMzMzMFkBmZmZmZmYGQGZmZmZmZhJAmpmZmZmZFUAzMzMzMzMXQAAAAAAAAARAzczMzMzMEkBmZmZmZmYWQDMzMzMzMwdAMzMzMzMzE0BmZmZmZmYOQAAAAAAAABZAzczMzMzMBECamZmZmZkTQGZmZmZmZhhAMzMzMzMzF0CamZmZmZkTQAAAAAAAABZAzczMzMzMFEAzMzMzMzMTQAAAAAAAABhAzczMzMzMFkDNzMzMzMwSQJqZmZmZmRVAmpmZmZmZF0BmZmZmZmYSQDMzMzMzMxVAMzMzMzMzF0AAAAAAAAASQM3MzMzMzBRAzczMzMzMFkCamZmZmZkRQGZmZmZmZhRAZmZmZmZmFkAzMzMzMzMRQAAAAAAAABRAAAAAAAAAFkDNzMzMzMwQQJqZmZmZmRNAmpmZmZmZFUBmZmZmZmYQQDMzMzMzMxNAMzMzMzMzFUAAAAAAAAAQQM3MzMzMzBJAzczMzMzMFEAzMzMzMzMPQGZmZmZmZhJAZmZmZmZmFEBmZmZmZmYOQAAAAAAAABJAAAAAAAAAFECamZmZmZkNQJqZmZmZmRFAmpmZmZmZE0DNzMzMzMwMQDMzMzMzMxFAMzMzMzMzE0AAAAAAAAAMQM3MzMzMzBBAzczMzMzMEkAzMzMzMzMLQGZmZmZmZhBAZmZmZmZmEkAzMzMzMzMVQDMzMzMzMxNAAAAAAAAAFkDNzMzMzMwSQGZmZmZmZhRAmpmZmZmZFUCamZmZmZkTQM3MzMzMzBRAZmZmZmZmFkBmZmZmZmYSQAAAAAAAABRAMzMzMzMzFUAzMzMzMzMTQGZmZmZmZhRAzczMzMzMFkAAAAAAAAASQJqZmZmZmRNAzczMzMzMFEDNzMzMzMwSQAAAAAAAABRAMzMzMzMzF0CamZmZmZkRQDMzMzMzMxNAZmZmZmZmFEBmZmZmZmYSQJqZmZmZmRNAmpmZmZmZF0AzMzMzMzMRQM3MzMzMzBJAAAAAAAAAFEAAAAAAAAASQDMzMzMzMxNAAAAAAAAAGEDNzMzMzMwQQGZmZmZmZhJAmpmZmZmZE0CamZmZmZkRQM3MzMzMzBJAZmZmZmZmGEBmZmZmZmYQQAAAAAAAABJAMzMzMzMzE0AzMzMzMzMRQGZmZmZmZhJAzczMzMzMGEAAAAAAAAAQQJqZmZmZmRFAzczMzMzMEkDNzMzMzMwQQAAAAAAAABJAMzMzMzMzGUAzMzMzMzMPQDMzMzMzMxFAZmZmZmZmEkBmZmZmZmYQQJqZmZmZmRFAmpmZmZmZGUBmZmZmZmYOQM3MzMzMzBBAAAAAAAAAEkAAAAAAAAAaQDMzMzMzMxdAAAAAAAAAEkDNzMzMzMwQQGZmZmZmZg5AAAAAAAAAFkDNzMzMzMwUQDMzMzMzMxNAAAAAAAAAHEAAAAAAAAAWQM3MzMzMzBJAAAAAAAAAEEAAAAAAAAAMQM3MzMzMzBZAAAAAAAAAFEAAAAAAAAASQDMzMzMzMxtAZmZmZmZmFkBmZmZmZmYSQGZmZmZmZhBAmpmZmZmZDUCamZmZmZkVQGZmZmZmZhRAzczMzMzMEkCamZmZmZkbQM3MzMzMzBZAMzMzMzMzE0AzMzMzMzMPQM3MzMzMzAxAZmZmZmZmFkCamZmZmZkTQGZmZmZmZhJAzczMzMzMGkCamZmZmZkVQJqZmZmZmRFAAAAAAAAAEEAzMzMzMzMLQDMzMzMzMxVAAAAAAAAAFECamZmZmZkRQGZmZmZmZhpAMzMzMzMzFUAzMzMzMzMRQGZmZmZmZg5AZmZmZmZmCkDNzMzMzMwUQDMzMzMzMxNAMzMzMzMzEUCamZmZmZkZQM3MzMzMzBRAAAAAAAAAEkCamZmZmZkNQJqZmZmZmQlAmpmZmZmZFUDNzMzMzMwSQM3MzMzMzBBAZmZmZmZmGkBmZmZmZmYUQJqZmZmZmRFAzczMzMzMDEDNzMzMzMwIQDMzMzMzMxVAZmZmZmZmEkBmZmZmZmYQQM3MzMzMzBpAAAAAAAAAFEAzMzMzMzMRQAAAAAAAAAxAAAAAAAAACEDNzMzMzMwUQAAAAAAAABJAAAAAAAAAEEAzMzMzMzMbQJqZmZmZmRNAzczMzMzMEEAzMzMzMzMLQDMzMzMzMwdAZmZmZmZmFECamZmZmZkRQDMzMzMzMw9AmpmZmZmZG0AzMzMzMzMTQGZmZmZmZhBAZmZmZmZmCkBmZmZmZmYGQAAAAAAAABRAMzMzMzMzEUBmZmZmZmYOQAAAAAAAABxAzczMzMzMEkAAAAAAAAAQQJqZmZmZmQlAmpmZmZmZBUCamZmZmZkTQM3MzMzMzBBAmpmZmZmZDUBmZmZmZmYcQGZmZmZmZhJAMzMzMzMzD0DNzMzMzMwIQM3MzMzMzBRAZmZmZmZmEEAAAAAAAAAUQDMzMzMzMxdAAAAAAAAAEEAAAAAAAAAWQDMzMzMzMxtAZmZmZmZmFkAAAAAAAAASQDMzMzMzMxVAZmZmZmZmFEAzMzMzMzMPQDMzMzMzMxNAmpmZmZmZF0BmZmZmZmYOQJqZmZmZmRVAmpmZmZmZG0DNzMzMzMwWQJqZmZmZmRFAzczMzMzMFEAAAAAAAAAUQGZmZmZmZg5AzczMzMzMEkAAAAAAAAAYQJqZmZmZmQ1AMzMzMzMzFUAAAAAAAAAcQDMzMzMzMxdAMzMzMzMzEUBmZmZmZmYUQJqZmZmZmRNAmpmZmZmZDUBmZmZmZmYSQGZmZmZmZhhAzczMzMzMDEDNzMzMzMwUQGZmZmZmZhxAmpmZmZmZF0DNzMzMzMwQQAAAAAAAABRAMzMzMzMzE0DNzMzMzMwMQAAAAAAAABJAzczMzMzMGEAAAAAAAAAMQGZmZmZmZhRAzczMzMzMHEAAAAAAAAAYQGZmZmZmZhBAmpmZmZmZE0DNzMzMzMwSQAAAAAAAAAxAmpmZmZmZEUAzMzMzMzMZQDMzMzMzMwtAAAAAAAAAFEAzMzMzMzMdQGZmZmZmZhhAAAAAAAAAEEAzMzMzMzMTQGZmZmZmZhJAMzMzMzMzC0AzMzMzMzMRQJqZmZmZmRlAZmZmZmZmCkCamZmZmZkTQJqZmZmZmR1AzczMzMzMGEAzMzMzMzMPQM3MzMzMzBJAAAAAAAAAEkBmZmZmZmYKQM3MzMzMzBBAAAAAAAAAGkCamZmZmZkJQDMzMzMzMxNAAAAAAAAAHkAzMzMzMzMZQGZmZmZmZg5AZmZmZmZmEkCamZmZmZkRQJqZmZmZmQlAZmZmZmZmEEBmZmZmZmYaQM3MzMzMzAhAzczMzMzMEkBmZmZmZmYeQJqZmZmZmRlAmpmZmZmZDUAAAAAAAAASQDMzMzMzMxFAzczMzMzMCEAAAAAAAAAQQM3MzMzMzBpAAAAAAAAACEBmZmZmZmYSQM3MzMzMzB5AAAAAAAAAGkDNzMzMzMwMQJqZmZmZmRFAzczMzMzMEEAAAAAAAAAIQDMzMzMzMw9AMzMzMzMzG0AzMzMzMzMHQAAAAAAAABJAMzMzMzMzH0BmZmZmZmYaQAAAAAAAAAxAMzMzMzMzEUBmZmZmZmYQQDMzMzMzMwdAZmZmZmZmDkCamZmZmZkbQGZmZmZmZgZAmpmZmZmZEUCamZmZmZkfQM3MzMzMzBpAMzMzMzMzC0DNzMzMzMwQQAAAAAAAABBAZmZmZmZmBkCamZmZmZkNQAAAAAAAABxAmpmZmZmZBUAzMzMzMzMRQAAAAAAAACBAMzMzMzMzG0BmZmZmZmYKQGZmZmZmZhBAMzMzMzMzD0CamZmZmZkFQM3MzMzMzAxAZmZmZmZmHEDNzMzMzMwEQM3MzMzMzBBAMzMzMzMzIECamZmZmZkbQJqZmZmZmQlAAAAAAAAAEEBmZmZmZmYOQM3MzMzMzARAAAAAAAAADEDNzMzMzMwcQAAAAAAAAARAZmZmZmZmEEBmZmZmZmYgQAAAAAAAABxAzczMzMzMCEAzMzMzMzMPQJqZmZmZmQ1AAAAAAAAABEAzMzMzMzMLQDMzMzMzMx1AMzMzMzMzA0AAAAAAAAAQQJqZmZmZmSBAZmZmZmZmHEAAAAAAAAAIQGZmZmZmZg5AzczMzMzMDEAzMzMzMzMDQGZmZmZmZgpAmpmZmZmZHUBmZmZmZmYCQDMzMzMzMw9AzczMzMzMIEDNzMzMzMwcQDMzMzMzMwdAmpmZmZmZDUAAAAAAAAAMQGZmZmZmZgJAmpmZmZmZCUAAAAAAAAAeQJqZmZmZmQFAZmZmZmZmDkAAAAAAAAAhQDMzMzMzMx1AZmZmZmZmBkDNzMzMzMwMQM3MzMzMzBhAAAAAAAAAEkBmZmZmZmYOQM3MzMzMzBJAZmZmZmZmFEAAAAAAAAAWQAAAAAAAABpAzczMzMzMEEAzMzMzMzMbQDMzMzMzMxNAZmZmZmZmGECamZmZmZkRQJqZmZmZmQ1AZmZmZmZmEkDNzMzMzMwUQGZmZmZmZhZAZmZmZmZmGkBmZmZmZmYQQJqZmZmZmRtAzczMzMzMEkAAAAAAAAAYQDMzMzMzMxFAzczMzMzMDEAAAAAAAAASQDMzMzMzMxVAzczMzMzMFkDNzMzMzMwaQAAAAAAAABBAAAAAAAAAHEBmZmZmZmYSQJqZmZmZmRdAzczMzMzMEEAAAAAAAAAMQJqZmZmZmRFAmpmZmZmZFUAzMzMzMzMXQDMzMzMzMxtAMzMzMzMzD0BmZmZmZmYcQAAAAAAAABJAMzMzMzMzF0BmZmZmZmYQQDMzMzMzMwtAMzMzMzMzEUAAAAAAAAAWQJqZmZmZmRdAmpmZmZmZG0BmZmZmZmYOQM3MzMzMzBxAmpmZmZmZEUDNzMzMzMwWQAAAAAAAABBAZmZmZmZmCkDNzMzMzMwQQGZmZmZmZhZAAAAAAAAAGEAAAAAAAAAcQJqZmZmZmQ1AMzMzMzMzHUAzMzMzMzMRQGZmZmZmZhZAMzMzMzMzD0CamZmZmZkJQGZmZmZmZhBAzczMzMzMFkBmZmZmZmYYQGZmZmZmZhxAzczMzMzMDECamZmZmZkdQM3MzMzMzBBAZmZmZmZmGEBmZmZmZmYOQAAAAAAAABZAzczMzMzMHEDNzMzMzMwQQDMzMzMzMxtAmpmZmZmZF0AAAAAAAAAaQM3MzMzMzBJAzczMzMzMFEAzMzMzMzMZQJqZmZmZmRNAzczMzMzMGkAzMzMzMzMXQAAAAAAAABJAmpmZmZmZGUBmZmZmZmYQQGZmZmZmZhpAmpmZmZmZEUDNzMzMzMwWQAAAAAAAABxAMzMzMzMzEUCamZmZmZkbQGZmZmZmZhZAzczMzMzMGEAzMzMzMzMXQJqZmZmZmRNAmpmZmZmZGUBmZmZmZmYUQM3MzMzMzBpAAAAAAAAAFkAzMzMzMzMRQM3MzMzMzBhAAAAAAAAAEkAzMzMzMzMZQM3MzMzMzBJAmpmZmZmZF0BmZmZmZmYcQJqZmZmZmRFAZmZmZmZmGkCamZmZmZkVQAAAAAAAABpAMzMzMzMzE0DNzMzMzMwWQGZmZmZmZhhAZmZmZmZmEkAzMzMzMzMbQGZmZmZmZhZAzczMzMzMEEAzMzMzMzMZQJqZmZmZmRFAAAAAAAAAGkBmZmZmZmYSQDMzMzMzMxdAAAAAAAAAHEAAAAAAAAASQM3MzMzMzBpAAAAAAAAAFkCamZmZmZkZQM3MzMzMzBJAZmZmZmZmFkDNzMzMzMwYQDMzMzMzMxNAmpmZmZmZG0DNzMzMzMwWQJqZmZmZmRFAZmZmZmZmGEAzMzMzMzMRQJqZmZmZmRlAAAAAAAAAEkCamZmZmZkXQM3MzMzMzBxAZmZmZmZmEkAzMzMzMzMbQDMzMzMzMxVAMzMzMzMzGUAzMzMzMzMTQM3MzMzMzBZAzczMzMzMGEDNzMzMzMwSQDMzMzMzMxtAZmZmZmZmFkAzMzMzMzMRQM3MzMzMzBhAmpmZmZmZEUAAAAAAAAAaQGZmZmZmZhJAMzMzMzMzF0BmZmZmZmYcQAAAAAAAABJAzczMzMzMGkCamZmZmZkVQJqZmZmZmRlAzczMzMzMEkBmZmZmZmYWQDMzMzMzMxlAMzMzMzMzE0CamZmZmZkbQM3MzMzMzBZAmpmZmZmZEUBmZmZmZmYYQDMzMzMzMxFAmpmZmZmZGUAAAAAAAAASQJqZmZmZmRdAzczMzMzMHEBmZmZmZmYSQDMzMzMzMxtAMzMzMzMzFUDNzMzMzMwYQM3MzMzMzBJAMzMzMzMzF0BmZmZmZmYYQDMzMzMzMxNAzczMzMzMGkAAAAAAAAAWQM3MzMzMzBBAMzMzMzMzGUCamZmZmZkRQAAAAAAAABpAZmZmZmZmEkCamZmZmZkXQAAAAAAAABxAAAAAAAAAEkBmZmZmZmYaQAAAAAAAABZAMzMzMzMzGUAzMzMzMzMTQM3MzMzMzBZAzczMzMzMGEDNzMzMzMwSQDMzMzMzMxtAZmZmZmZmFkAzMzMzMzMRQM3MzMzMzBhA\"},\"y\":{\"dtype\":\"i1\",\"bdata\":\"BggFBwYECQYHBwUGCAUHBggFBwYFCAYFBwUHBggFBwYFCAYFBwUHBggFBwYFCAYFBwUHBggFBwYFCAYFBwUGBAgGBwUIBgUHBgUIBgUHBgUIBgcIBQYFCAYFBwYHBQgGBQgGBQUIBgUHBgcFCAYFBgcFBggFBgcFBggFBgcFBggFBgcFBggFBgcFBggFBgcFBggFBgcFBggFBgcFBggFBgUHBgUHBgUHBgUHBgUHBgUHBgUHBgUHBgUHBgUHBgUHBgUHBgUHBgUHBgUHBgUHBgUHBgUHBgUHBgUHBgUGCAcIBgYHBAYHCAgFBgcEBgcICAUGBwQGBwgIBQYHBAYHCAgFBgcEBgcICAUGBwQGBwgIBQYHBAYHCAgFBgcEBgcICAUGBwQGBwgIBQYHBAYHCAgFBgcEBgcICAUGBwQGBwgGCAcFCAYFBgcGBggHBQgGBQYHBgYIBwUIBgUGBwYGCAcFCAYFBgcGBggHBQgGBQYHBgYIBwUIBgUGBwYGCAcFCAYFBgcGBggHBQgGBQYHBgYIBwUIBgUGBwYGCAcFCAYFBgcGBggHBQgGBQYHBgYIBwUIBgUGBwYGCAcFCAYFBgcGBggHBQgGBQYHBgYIBwUIBgUGBwYGCAcFCAYFBgcGBggHBQgGBQYHBgYIBwUIBgUGBwYGBwgHBgYFBwUHBgcIBwYGBQcFBwYHCAcGBgUHBQcGBwgHBgYFBwUHBgcIBwYGBQcFBwYHCAcGBgUHBQcGBwgHBgYFBwUHBQgGBAcFBgUHBgUHBQYIBQcFBwYEBwUGBQYHBQcEBggFBwUHBgQHBQYFBwYFBwQGCAUHBQcGBAcFBgUHBgUHBAYIBQcFBwYEBwUGBQcGBQcEBggFBwUHBgQHBQYFBwYFBwQGCAUHBQcGBAcFBgUHBgUHBAYIBQcFBwYEBwUGBQcGBQcEBggF\"},\"type\":\"scatter\"},{\"line\":{\"color\":\"green\",\"width\":2},\"mode\":\"lines\",\"name\":\"All - trend\",\"showlegend\":true,\"x\":{\"dtype\":\"f8\",\"bdata\":\"AAAAAAAA+D93hsS8nSH5P+4MiXk7Q\\u002fo\\u002fZZNNNtlk+z\\u002fcGRLzdob8P1Og1q8UqP0\\u002fyiabbLLJ\\u002fj9ArV8pUOv\\u002fP9wZEvN2hgBAF1100UUXAUBToNavFKgBQI7jOI7jOAJAyiabbLLJAkAFav1KgVoDQECtXylQ6wNAfPDBBx98BEC4MyTm7QwFQPN2hsS8nQVALrrooosuBkBq\\u002fUqBWr8GQKZArV8pUAdA4YMPPvjgB0Acx3Ecx3EIQFgK1PqVAglAk0022WSTCUDOkJi3MyQKQArU+pUCtQpARhdddNFFC0CBWr9SoNYLQL2dITFvZwxA+OCDDz74DEA0JObtDIkNQG9nSMzbGQ5AqqqqqqqqDkDm7QyJeTsPQCExb2dIzA9ALrrooosuEEDM2xkS83YQQGr9SoFavxBACB988MEHEUCmQK1fKVARQENi3s6QmBFA4YMPPvjgEUB+pUCtXykSQBzHcRzHcRJAuuiiiy66EkBYCtT6lQITQPYrBWr9ShNAk0022WSTE0Axb2dIzNsTQM6QmLczJBRAbLLJJptsFEAK1PqVArUUQKj1KwVq\\u002fRRARhdddNFFFUDkOI7jOI4VQIFav1Kg1hVAH3zwwQcfFkC9nSExb2cWQFq\\u002fUqDWrxZA+OCDDz74FkCWArV+pUAXQDQk5u0MiRdA0UUXXXTRF0BvZ0jM2xkYQA2JeTtDYhhAqqqqqqqqGEBIzNsZEvMYQObtDIl5OxlAhA8++OCDGUAhMW9nSMwZQL9SoNavFBpAXXTRRRddGkD7lQK1fqUaQJi3MyTm7RpANtlkk002G0DU+pUCtX4bQHIcx3EcxxtADz744IMPHECtXylQ61ccQEuBWr9SoBxA6KKLLrroHECGxLydITEdQCTm7QyJeR1AwgcffPDBHUBfKVDrVwoeQP1KgVq\\u002fUh5Am2yyySabHkA5juM4juMeQNavFKj1Kx9AdNFFF110H0AS83aGxLwfQFgK1PqVAiBAJptssskmIED2KwVq\\u002fUogQMS8nSExbyBAk0022WSTIEBi3s6QmLcgQDFvZ0jM2yBAAAAAAAAAIUA=\"},\"y\":{\"dtype\":\"f8\",\"bdata\":\"hSWyGntEIUBWgrOT\\u002fiohQCfftAyCESFA+Du2hQX4IEDJmLf+iN4gQJr1uHcMxSBAbFK68I+rIEA9r7tpE5IgQA4MveKWeCBA32i+WxpfIECwxb\\u002fUnUUgQIIiwU0hLCBAU3\\u002fCxqQSIEBIuId\\u002fUPIfQOtxinFXvx9AjSuNY16MH0Av5Y9VZVkfQNKekkdsJh9AdFiVOXPzHkAWEpgresAeQLjLmh2BjR5AW4WdD4haHkD+PqABjyceQKD4ovOV9B1AQrKl5ZzBHUDla6jXo44dQIclq8mqWx1AKd+tu7EoHUDMmLCtuPUcQG5Ss5+\\u002fwhxAEAy2kcaPHECyxbiDzVwcQFV\\u002fu3XUKRxA+Di+Z9v2G0Ca8sBZ4sMbQDysw0vpkBtA32XGPfBdG0CBH8kv9yobQCTZyyH+9xpAxpLOEwXFGkBoTNEFDJIaQAoG1PcSXxpArb\\u002fW6RksGkBQednbIPkZQPIy3M0nxhlAlOzevy6TGUA2puGxNWAZQNhf5KM8LRlAfBnnlUP6GEAe0+mHSscYQMCM7HlRlBhAYkbva1hhGEAFAPJdXy4YQKe59E9m+xdASXP3QW3IF0DsLPozdJUXQI7m\\u002fCV7YhdAMKD\\u002fF4IvF0DSWQIKifwWQHYTBfyPyRZAGM0H7paWFkC6hgrgnWMWQFxADdKkMBZA\\u002f\\u002fkPxKv9FUChsxK2ssoVQENtFai5lxVA5iYYmsBkFUCI4BqMxzEVQCuaHX7O\\u002fhRAzVMgcNXLFEBwDSNi3JgUQBLHJVTjZRRAtIAoRuoyFEBWOis48f8TQPnzLSr4zBNAm60wHP+ZE0A+ZzMOBmcTQOAgNgANNBNAg9o48hMBE0AllDvkGs4SQMdNPtYhmxJAagdByChoEkAMwUO6LzUSQK56Rqw2AhJAUDRJnj3PEUDz7UuQRJwRQJanToJLaRFAOGFRdFI2EUDaGlRmWQMRQH3UVlhg0BBAH45ZSmedEEDBR1w8bmoQQGMBXy51NxBAB7thIHwEEEBQ6cgkBqMPQJZczggUPQ9A2s\\u002fT7CHXDkAgQ9nQL3EOQGS23rQ9Cw5AqCnkmEulDUA=\"},\"type\":\"scatter\"}],                        {\"template\":{\"data\":{\"histogram2dcontour\":[{\"type\":\"histogram2dcontour\",\"colorbar\":{\"outlinewidth\":0,\"ticks\":\"\"},\"colorscale\":[[0.0,\"#0d0887\"],[0.1111111111111111,\"#46039f\"],[0.2222222222222222,\"#7201a8\"],[0.3333333333333333,\"#9c179e\"],[0.4444444444444444,\"#bd3786\"],[0.5555555555555556,\"#d8576b\"],[0.6666666666666666,\"#ed7953\"],[0.7777777777777778,\"#fb9f3a\"],[0.8888888888888888,\"#fdca26\"],[1.0,\"#f0f921\"]]}],\"choropleth\":[{\"type\":\"choropleth\",\"colorbar\":{\"outlinewidth\":0,\"ticks\":\"\"}}],\"histogram2d\":[{\"type\":\"histogram2d\",\"colorbar\":{\"outlinewidth\":0,\"ticks\":\"\"},\"colorscale\":[[0.0,\"#0d0887\"],[0.1111111111111111,\"#46039f\"],[0.2222222222222222,\"#7201a8\"],[0.3333333333333333,\"#9c179e\"],[0.4444444444444444,\"#bd3786\"],[0.5555555555555556,\"#d8576b\"],[0.6666666666666666,\"#ed7953\"],[0.7777777777777778,\"#fb9f3a\"],[0.8888888888888888,\"#fdca26\"],[1.0,\"#f0f921\"]]}],\"heatmap\":[{\"type\":\"heatmap\",\"colorbar\":{\"outlinewidth\":0,\"ticks\":\"\"},\"colorscale\":[[0.0,\"#0d0887\"],[0.1111111111111111,\"#46039f\"],[0.2222222222222222,\"#7201a8\"],[0.3333333333333333,\"#9c179e\"],[0.4444444444444444,\"#bd3786\"],[0.5555555555555556,\"#d8576b\"],[0.6666666666666666,\"#ed7953\"],[0.7777777777777778,\"#fb9f3a\"],[0.8888888888888888,\"#fdca26\"],[1.0,\"#f0f921\"]]}],\"contourcarpet\":[{\"type\":\"contourcarpet\",\"colorbar\":{\"outlinewidth\":0,\"ticks\":\"\"}}],\"contour\":[{\"type\":\"contour\",\"colorbar\":{\"outlinewidth\":0,\"ticks\":\"\"},\"colorscale\":[[0.0,\"#0d0887\"],[0.1111111111111111,\"#46039f\"],[0.2222222222222222,\"#7201a8\"],[0.3333333333333333,\"#9c179e\"],[0.4444444444444444,\"#bd3786\"],[0.5555555555555556,\"#d8576b\"],[0.6666666666666666,\"#ed7953\"],[0.7777777777777778,\"#fb9f3a\"],[0.8888888888888888,\"#fdca26\"],[1.0,\"#f0f921\"]]}],\"surface\":[{\"type\":\"surface\",\"colorbar\":{\"outlinewidth\":0,\"ticks\":\"\"},\"colorscale\":[[0.0,\"#0d0887\"],[0.1111111111111111,\"#46039f\"],[0.2222222222222222,\"#7201a8\"],[0.3333333333333333,\"#9c179e\"],[0.4444444444444444,\"#bd3786\"],[0.5555555555555556,\"#d8576b\"],[0.6666666666666666,\"#ed7953\"],[0.7777777777777778,\"#fb9f3a\"],[0.8888888888888888,\"#fdca26\"],[1.0,\"#f0f921\"]]}],\"mesh3d\":[{\"type\":\"mesh3d\",\"colorbar\":{\"outlinewidth\":0,\"ticks\":\"\"}}],\"scatter\":[{\"fillpattern\":{\"fillmode\":\"overlay\",\"size\":10,\"solidity\":0.2},\"type\":\"scatter\"}],\"parcoords\":[{\"type\":\"parcoords\",\"line\":{\"colorbar\":{\"outlinewidth\":0,\"ticks\":\"\"}}}],\"scatterpolargl\":[{\"type\":\"scatterpolargl\",\"marker\":{\"colorbar\":{\"outlinewidth\":0,\"ticks\":\"\"}}}],\"bar\":[{\"error_x\":{\"color\":\"#2a3f5f\"},\"error_y\":{\"color\":\"#2a3f5f\"},\"marker\":{\"line\":{\"color\":\"#E5ECF6\",\"width\":0.5},\"pattern\":{\"fillmode\":\"overlay\",\"size\":10,\"solidity\":0.2}},\"type\":\"bar\"}],\"scattergeo\":[{\"type\":\"scattergeo\",\"marker\":{\"colorbar\":{\"outlinewidth\":0,\"ticks\":\"\"}}}],\"scatterpolar\":[{\"type\":\"scatterpolar\",\"marker\":{\"colorbar\":{\"outlinewidth\":0,\"ticks\":\"\"}}}],\"histogram\":[{\"marker\":{\"pattern\":{\"fillmode\":\"overlay\",\"size\":10,\"solidity\":0.2}},\"type\":\"histogram\"}],\"scattergl\":[{\"type\":\"scattergl\",\"marker\":{\"colorbar\":{\"outlinewidth\":0,\"ticks\":\"\"}}}],\"scatter3d\":[{\"type\":\"scatter3d\",\"line\":{\"colorbar\":{\"outlinewidth\":0,\"ticks\":\"\"}},\"marker\":{\"colorbar\":{\"outlinewidth\":0,\"ticks\":\"\"}}}],\"scattermap\":[{\"type\":\"scattermap\",\"marker\":{\"colorbar\":{\"outlinewidth\":0,\"ticks\":\"\"}}}],\"scattermapbox\":[{\"type\":\"scattermapbox\",\"marker\":{\"colorbar\":{\"outlinewidth\":0,\"ticks\":\"\"}}}],\"scatterternary\":[{\"type\":\"scatterternary\",\"marker\":{\"colorbar\":{\"outlinewidth\":0,\"ticks\":\"\"}}}],\"scattercarpet\":[{\"type\":\"scattercarpet\",\"marker\":{\"colorbar\":{\"outlinewidth\":0,\"ticks\":\"\"}}}],\"carpet\":[{\"aaxis\":{\"endlinecolor\":\"#2a3f5f\",\"gridcolor\":\"white\",\"linecolor\":\"white\",\"minorgridcolor\":\"white\",\"startlinecolor\":\"#2a3f5f\"},\"baxis\":{\"endlinecolor\":\"#2a3f5f\",\"gridcolor\":\"white\",\"linecolor\":\"white\",\"minorgridcolor\":\"white\",\"startlinecolor\":\"#2a3f5f\"},\"type\":\"carpet\"}],\"table\":[{\"cells\":{\"fill\":{\"color\":\"#EBF0F8\"},\"line\":{\"color\":\"white\"}},\"header\":{\"fill\":{\"color\":\"#C8D4E3\"},\"line\":{\"color\":\"white\"}},\"type\":\"table\"}],\"barpolar\":[{\"marker\":{\"line\":{\"color\":\"#E5ECF6\",\"width\":0.5},\"pattern\":{\"fillmode\":\"overlay\",\"size\":10,\"solidity\":0.2}},\"type\":\"barpolar\"}],\"pie\":[{\"automargin\":true,\"type\":\"pie\"}]},\"layout\":{\"autotypenumbers\":\"strict\",\"colorway\":[\"#636efa\",\"#EF553B\",\"#00cc96\",\"#ab63fa\",\"#FFA15A\",\"#19d3f3\",\"#FF6692\",\"#B6E880\",\"#FF97FF\",\"#FECB52\"],\"font\":{\"color\":\"#2a3f5f\"},\"hovermode\":\"closest\",\"hoverlabel\":{\"align\":\"left\"},\"paper_bgcolor\":\"white\",\"plot_bgcolor\":\"#E5ECF6\",\"polar\":{\"bgcolor\":\"#E5ECF6\",\"angularaxis\":{\"gridcolor\":\"white\",\"linecolor\":\"white\",\"ticks\":\"\"},\"radialaxis\":{\"gridcolor\":\"white\",\"linecolor\":\"white\",\"ticks\":\"\"}},\"ternary\":{\"bgcolor\":\"#E5ECF6\",\"aaxis\":{\"gridcolor\":\"white\",\"linecolor\":\"white\",\"ticks\":\"\"},\"baxis\":{\"gridcolor\":\"white\",\"linecolor\":\"white\",\"ticks\":\"\"},\"caxis\":{\"gridcolor\":\"white\",\"linecolor\":\"white\",\"ticks\":\"\"}},\"coloraxis\":{\"colorbar\":{\"outlinewidth\":0,\"ticks\":\"\"}},\"colorscale\":{\"sequential\":[[0.0,\"#0d0887\"],[0.1111111111111111,\"#46039f\"],[0.2222222222222222,\"#7201a8\"],[0.3333333333333333,\"#9c179e\"],[0.4444444444444444,\"#bd3786\"],[0.5555555555555556,\"#d8576b\"],[0.6666666666666666,\"#ed7953\"],[0.7777777777777778,\"#fb9f3a\"],[0.8888888888888888,\"#fdca26\"],[1.0,\"#f0f921\"]],\"sequentialminus\":[[0.0,\"#0d0887\"],[0.1111111111111111,\"#46039f\"],[0.2222222222222222,\"#7201a8\"],[0.3333333333333333,\"#9c179e\"],[0.4444444444444444,\"#bd3786\"],[0.5555555555555556,\"#d8576b\"],[0.6666666666666666,\"#ed7953\"],[0.7777777777777778,\"#fb9f3a\"],[0.8888888888888888,\"#fdca26\"],[1.0,\"#f0f921\"]],\"diverging\":[[0,\"#8e0152\"],[0.1,\"#c51b7d\"],[0.2,\"#de77ae\"],[0.3,\"#f1b6da\"],[0.4,\"#fde0ef\"],[0.5,\"#f7f7f7\"],[0.6,\"#e6f5d0\"],[0.7,\"#b8e186\"],[0.8,\"#7fbc41\"],[0.9,\"#4d9221\"],[1,\"#276419\"]]},\"xaxis\":{\"gridcolor\":\"white\",\"linecolor\":\"white\",\"ticks\":\"\",\"title\":{\"standoff\":15},\"zerolinecolor\":\"white\",\"automargin\":true,\"zerolinewidth\":2},\"yaxis\":{\"gridcolor\":\"white\",\"linecolor\":\"white\",\"ticks\":\"\",\"title\":{\"standoff\":15},\"zerolinecolor\":\"white\",\"automargin\":true,\"zerolinewidth\":2},\"scene\":{\"xaxis\":{\"backgroundcolor\":\"#E5ECF6\",\"gridcolor\":\"white\",\"linecolor\":\"white\",\"showbackground\":true,\"ticks\":\"\",\"zerolinecolor\":\"white\",\"gridwidth\":2},\"yaxis\":{\"backgroundcolor\":\"#E5ECF6\",\"gridcolor\":\"white\",\"linecolor\":\"white\",\"showbackground\":true,\"ticks\":\"\",\"zerolinecolor\":\"white\",\"gridwidth\":2},\"zaxis\":{\"backgroundcolor\":\"#E5ECF6\",\"gridcolor\":\"white\",\"linecolor\":\"white\",\"showbackground\":true,\"ticks\":\"\",\"zerolinecolor\":\"white\",\"gridwidth\":2}},\"shapedefaults\":{\"line\":{\"color\":\"#2a3f5f\"}},\"annotationdefaults\":{\"arrowcolor\":\"#2a3f5f\",\"arrowhead\":0,\"arrowwidth\":1},\"geo\":{\"bgcolor\":\"white\",\"landcolor\":\"#E5ECF6\",\"subunitcolor\":\"white\",\"showland\":true,\"showlakes\":true,\"lakecolor\":\"white\"},\"title\":{\"x\":0.05},\"mapbox\":{\"style\":\"light\"}}},\"title\":{\"text\":\"Social media gebruik vs. mentale gezondheid\"},\"xaxis\":{\"title\":{\"text\":\"Gemiddeld aantal gebruiksuren van social media per dag\"}},\"yaxis\":{\"title\":{\"text\":\"Mentale gezondheidsscore\"}},\"updatemenus\":[{\"active\":0,\"buttons\":[{\"args\":[{\"visible\":[true,true,false,false,false,false]},{\"title\":\"Social media gebruik vs. mentale gezondheid (mannen)\"}],\"label\":\"Man\",\"method\":\"update\"},{\"args\":[{\"visible\":[false,false,true,true,false,false]},{\"title\":\"Social media gebruik vs. mentale gezondheid (vrouwen)\"}],\"label\":\"Vrouw\",\"method\":\"update\"},{\"args\":[{\"visible\":[false,false,false,false,true,true]},{\"title\":\"Social media gebruik vs. mentale gezondheid (alle studenten)\"}],\"label\":\"Iedereen\",\"method\":\"update\"}],\"x\":1.15}]},                        {\"responsive\": true}                    ).then(function(){\n",
       "                            \n",
       "var gd = document.getElementById('854be3da-f558-4c88-bde2-f99a372d23b9');\n",
       "var x = new MutationObserver(function (mutations, observer) {{\n",
       "        var display = window.getComputedStyle(gd).display;\n",
       "        if (!display || display === 'none') {{\n",
       "            console.log([gd, 'removed!']);\n",
       "            Plotly.purge(gd);\n",
       "            observer.disconnect();\n",
       "        }}\n",
       "}});\n",
       "\n",
       "// Listen for the removal of the full notebook cells\n",
       "var notebookContainer = gd.closest('#notebook-container');\n",
       "if (notebookContainer) {{\n",
       "    x.observe(notebookContainer, {childList: true});\n",
       "}}\n",
       "\n",
       "// Listen for the clearing of the current output cell\n",
       "var outputEl = gd.closest('.output');\n",
       "if (outputEl) {{\n",
       "    x.observe(outputEl, {childList: true});\n",
       "}}\n",
       "\n",
       "                        })                };            </script>        </div>"
      ]
     },
     "metadata": {},
     "output_type": "display_data"
    }
   ],
   "source": [
    "import pandas as pd\n",
    "import numpy as np\n",
    "import plotly.graph_objects as go\n",
    "import os\n",
    "import kagglehub\n",
    "\n",
    "path = kagglehub.dataset_download(\"adilshamim8/social-media-addiction-vs-relationships\")\n",
    "csv_path = os.path.join(path, \"Students Social Media Addiction.csv\")\n",
    "df = pd.read_csv(csv_path)\n",
    "df = df.dropna(subset=[\"Avg_Daily_Usage_Hours\", \"Mental_Health_Score\", \"Gender\"])\n",
    "\n",
    "genders = [\"Male\", \"Female\"]\n",
    "colors = {\"Male\": \"blue\", \"Female\": \"deeppink\", \"All\": \"green\"}\n",
    "\n",
    "# Functie om scatter + regressielijn trace te maken\n",
    "def get_traces(gender=None):\n",
    "    if gender:\n",
    "        d = df[df[\"Gender\"] == gender]\n",
    "        label = gender\n",
    "    else:\n",
    "        d = df\n",
    "        label = \"All\"\n",
    "\n",
    "    # Regressielijn berekenen\n",
    "    x = d[\"Avg_Daily_Usage_Hours\"]\n",
    "    y = d[\"Mental_Health_Score\"]\n",
    "    slope, intercept = np.polyfit(x, y, 1)\n",
    "    x_vals = np.linspace(x.min(), x.max(), 100)\n",
    "    y_vals = slope * x_vals + intercept\n",
    "\n",
    "    # Scatter trace\n",
    "    scatter = go.Scatter(\n",
    "        x=x, y=y,\n",
    "        mode='markers',\n",
    "        name=f\"{label} - data\",\n",
    "        marker=dict(color=colors[label], opacity=0.6),\n",
    "        showlegend=True\n",
    "    )\n",
    "\n",
    "    # Lijn trace\n",
    "    line = go.Scatter(\n",
    "        x=x_vals, y=y_vals,\n",
    "        mode='lines',\n",
    "        name=f\"{label} - trend\",\n",
    "        line=dict(color=colors[label], width=2, ),\n",
    "        showlegend=True\n",
    "    )\n",
    "\n",
    "    return scatter, line\n",
    "\n",
    "# Maak alle traces aan (elk 2: scatter + line)\n",
    "male_traces = get_traces(\"Male\")\n",
    "female_traces = get_traces(\"Female\")\n",
    "all_traces = get_traces(None)\n",
    "all_plot_traces = [*male_traces, *female_traces, *all_traces]\n",
    "\n",
    "# Dropdown menu logica\n",
    "buttons = [\n",
    "    dict(label=\"Man\",\n",
    "         method=\"update\",\n",
    "         args=[{\"visible\": [True, True, False, False, False, False]},\n",
    "               {\"title\": \"Social media gebruik vs. mentale gezondheid (mannen)\"}]),\n",
    "    dict(label=\"Vrouw\",\n",
    "         method=\"update\",\n",
    "         args=[{\"visible\": [False, False, True, True, False, False]},\n",
    "               {\"title\": \"Social media gebruik vs. mentale gezondheid (vrouwen)\"}]),\n",
    "    dict(label=\"Iedereen\",\n",
    "         method=\"update\",\n",
    "         args=[{\"visible\": [False, False, False, False, True, True]},\n",
    "               {\"title\": \"Social media gebruik vs. mentale gezondheid (alle studenten)\"}])\n",
    "]\n",
    "\n",
    "# Plot figuur\n",
    "fig = go.Figure(data=all_plot_traces)\n",
    "\n",
    "fig.update_layout(\n",
    "    title=\"Social media gebruik vs. mentale gezondheid\",\n",
    "    xaxis_title=\"Gemiddeld aantal gebruiksuren van social media per dag\",\n",
    "    yaxis_title=\"Mentale gezondheidsscore\",\n",
    "    updatemenus=[dict(active=0, buttons=buttons, x=1.15)]\n",
    ")\n",
    "\n",
    "fig.show()\n"
   ]
  },
  {
   "cell_type": "markdown",
   "id": "33b5fcb4",
   "metadata": {},
   "source": [
    "> *Figure 4: Gebruik van sociale media en de mentale gezondheid van mannen en vrouwen.*"
   ]
  },
  {
   "cell_type": "markdown",
   "id": "c8bebe86",
   "metadata": {},
   "source": [
    "De bovenstaande grafiek toont het verband tussen de gemiddelde dagelijkse social media uren per dag (x-as) en de mentale gezondheidsscore van studenten (y-as). Er is een duidelijke negatieve trend zichtbaar in de regessielijn, bij zowel mannen als vrouwen. De mentale gezondheidsscoren daalt naarmate het aantal social media uren meer wordt. Dit betekent dat hoe meer tijd studenten gemiddeld per dag op social media doorbrengen, hoe lager hun mentale gezondheidsscore gemiddeld is, dus meer social media gebruik hangt samen met slechtere mentale gezondheid."
   ]
  },
  {
   "cell_type": "markdown",
   "id": "235c2948",
   "metadata": {},
   "source": [
    "### Slaapgedrag"
   ]
  },
  {
   "cell_type": "markdown",
   "id": "26c562be",
   "metadata": {},
   "source": [
    "Mentale gezondheid wordt sterk beïnvloedt door het slaapgedrag."
   ]
  },
  {
   "cell_type": "code",
   "execution_count": null,
   "id": "37a1b1c7",
   "metadata": {
    "tags": [
     "hide-input"
    ]
   },
   "outputs": [
    {
     "data": {
      "application/vnd.plotly.v1+json": {
       "config": {
        "plotlyServerURL": "https://plot.ly"
       },
       "data": [
        {
         "line": {
          "color": "blue",
          "width": 3
         },
         "mode": "lines+markers",
         "name": "Male",
         "type": "scatter",
         "visible": true,
         "x": {
          "bdata": "ZmZmZmZmEEAzMzMzMzMRQAAAAAAAABJAzczMzMzMEkAzMzMzMzMTQJqZmZmZmRNAAAAAAAAAFEBmZmZmZmYUQM3MzMzMzBRAMzMzMzMzFUCamZmZmZkVQAAAAAAAABZAZmZmZmZmFkDNzMzMzMwWQDMzMzMzMxdAmpmZmZmZF0AAAAAAAAAYQGZmZmZmZhhAzczMzMzMGEAzMzMzMzMZQJqZmZmZmRlAAAAAAAAAGkBmZmZmZmYaQM3MzMzMzBpAMzMzMzMzG0CamZmZmZkbQAAAAAAAABxAZmZmZmZmHEDNzMzMzMwcQDMzMzMzMx1AmpmZmZmZHUAAAAAAAAAeQGZmZmZmZh5AzczMzMzMHkAzMzMzMzMfQJqZmZmZmR9AAAAAAAAAIEAzMzMzMzMgQGZmZmZmZiBAmpmZmZmZIEDNzMzMzMwgQAAAAAAAACFAMzMzMzMzIUBmZmZmZmYhQJqZmZmZmSFAzczMzMzMIUAAAAAAAAAiQDMzMzMzMyJAZmZmZmZmIkCamZmZmZkiQM3MzMzMzCJAAAAAAAAAI0A=",
          "dtype": "f8"
         },
         "y": {
          "bdata": "AAAAAAAAGEAAAAAAAAAYQAAAAAAAABhAAAAAAAAAGEAAAAAAAAAUQAAAAAAAABdAAAAAAAAAFkAAAAAAAAAXQAAAAAAAABVAbtu2bdu2FUAAAAAAAAAVQG7btm3bthVAAAAAAAAAFkAAAAAAAIAUQKuqqqqqqhZAuuiiiy66FEByHMdxHMcVQKuqqqqqqhRA2Ymd2ImdFECxEzuxEzsVQAAAAAAAABhAAAAAAABAGEDFTuzETuwYQLy7u7u7uxdAAAAAAAAAGECrqqqqqqoWQAAAAAAAABlAdNFFF110GUAAAAAAAAAcQLdt27Zt2xpAF1100UUXHUBP7MRO7MQaQAAAAAAAABxAx3Ecx3EcG0DFTuzETuwcQKuqqqqqqhtAuuiiiy66HEAzMzMzMzMbQAAAAAAAABxAAAAAAAAAHEAAAAAAAAAcQAAAAAAAABxAAAAAAAAAHEAAAAAAAAAgQAAAAAAAAB5AAAAAAAAAIEAAAAAAAAAgQAAAAAAAACBAAAAAAAAAIEAAAAAAAAAgQAAAAAAAACBAAAAAAAAAIEA=",
          "dtype": "f8"
         }
        },
        {
         "line": {
          "color": "deeppink",
          "width": 3
         },
         "mode": "lines+markers",
         "name": "Female",
         "type": "scatter",
         "visible": false,
         "x": {
          "bdata": "ZmZmZmZmDkAzMzMzMzMPQAAAAAAAABBAZmZmZmZmEEDNzMzMzMwQQDMzMzMzMxFAmpmZmZmZEUAAAAAAAAASQGZmZmZmZhJAzczMzMzMEkAzMzMzMzMTQJqZmZmZmRNAAAAAAAAAFEBmZmZmZmYUQM3MzMzMzBRAMzMzMzMzFUCamZmZmZkVQAAAAAAAABZAZmZmZmZmFkDNzMzMzMwWQDMzMzMzMxdAmpmZmZmZF0AAAAAAAAAYQGZmZmZmZhhAzczMzMzMGEAzMzMzMzMZQJqZmZmZmRlAAAAAAAAAGkBmZmZmZmYaQM3MzMzMzBpAMzMzMzMzG0CamZmZmZkbQAAAAAAAABxAZmZmZmZmHEDNzMzMzMwcQDMzMzMzMx1AmpmZmZmZHUAAAAAAAAAeQGZmZmZmZh5AzczMzMzMHkAzMzMzMzMfQJqZmZmZmR9AAAAAAAAAIEAzMzMzMzMgQGZmZmZmZiBAmpmZmZmZIEDNzMzMzMwgQAAAAAAAACFAMzMzMzMzIUBmZmZmZmYhQJqZmZmZmSFAzczMzMzMIUAAAAAAAAAiQDMzMzMzMyJAZmZmZmZmIkCamZmZmZkiQM3MzMzMzCJAAAAAAAAAI0AzMzMzMzMjQA==",
          "dtype": "f8"
         },
         "y": {
          "bdata": "AAAAAAAAFEAAAAAAAAAUQAAAAAAAABRAAAAAAAAAFEAAAAAAAAAWQAAAAAAAABRAAAAAAAAAFkAAAAAAAAASQKuqqqqqqhZAAAAAAAAAFECrqqqqqqoWQAAAAAAAABRAzczMzMzMFECrqqqqqqoSQAAAAAAAABRAAAAAAAAAE0BmZmZmZmYUQAAAAAAAgBNASZIkSZIkFUAzMzMzMzMVQPHw8PDw8BRAzczMzMzMFEAcx3Ecx3EUQKuqqqqqqhRAAAAAAAAAFECrqqqqqqoUQLrooosuuhRA27Zt27ZtF0C3bdu2bdsWQAAAAAAAABhAo4suuuiiF0AAAAAAAAAYQJqZmZmZmRlAAAAAAAAAHEAlSZIkSZIaQJIkSZIkSRxAq6qqqqqqGkCrqqqqqqocQAAAAAAAABtAVVVVVVVVG0Dbtm3btm0bQCVJkiRJkhxAAAAAAAAAHECrqqqqqqocQG7btm3bth1ASZIkSZIkHUBu27Zt27YdQAAAAAAAAB5Aq6qqqqqqHkAAAAAAAAAeQAAAAAAAAB9AAAAAAAAAHkAAAAAAAAAeQAAAAAAAAB5AAAAAAAAAHkAAAAAAAAAgQAAAAAAAACBAAAAAAAAAIEAAAAAAAAAgQA==",
          "dtype": "f8"
         }
        },
        {
         "line": {
          "color": "green",
          "width": 3
         },
         "mode": "lines+markers",
         "name": "All",
         "type": "scatter",
         "visible": false,
         "x": {
          "bdata": "ZmZmZmZmDkAzMzMzMzMPQAAAAAAAABBAZmZmZmZmEEDNzMzMzMwQQDMzMzMzMxFAmpmZmZmZEUAAAAAAAAASQGZmZmZmZhJAzczMzMzMEkAzMzMzMzMTQJqZmZmZmRNAAAAAAAAAFEBmZmZmZmYUQM3MzMzMzBRAMzMzMzMzFUCamZmZmZkVQAAAAAAAABZAZmZmZmZmFkDNzMzMzMwWQDMzMzMzMxdAmpmZmZmZF0AAAAAAAAAYQGZmZmZmZhhAzczMzMzMGEAzMzMzMzMZQJqZmZmZmRlAAAAAAAAAGkBmZmZmZmYaQM3MzMzMzBpAMzMzMzMzG0CamZmZmZkbQAAAAAAAABxAZmZmZmZmHEDNzMzMzMwcQDMzMzMzMx1AmpmZmZmZHUAAAAAAAAAeQGZmZmZmZh5AzczMzMzMHkAzMzMzMzMfQJqZmZmZmR9AAAAAAAAAIEAzMzMzMzMgQGZmZmZmZiBAmpmZmZmZIEDNzMzMzMwgQAAAAAAAACFAMzMzMzMzIUBmZmZmZmYhQJqZmZmZmSFAzczMzMzMIUAAAAAAAAAiQDMzMzMzMyJAZmZmZmZmIkCamZmZmZkiQM3MzMzMzCJAAAAAAAAAI0AzMzMzMzMjQA==",
          "dtype": "f8"
         },
         "y": {
          "bdata": "AAAAAAAAFEAAAAAAAAAUQAAAAAAAABRAAAAAAAAAFkAAAAAAAAAWQAAAAAAAABZAAAAAAAAAFkAAAAAAAAAUQKuqqqqqqhZAq6qqqqqqFkAAAAAAAAAWQGZmZmZmZhZASZIkSZIkFUBJkiRJkiQVQOzETuzEThRAuuiiiy66FEAlSZIkSZIUQImIiIiIiBRAVVVVVVVVFUA5juM4juMUQBaykIUsZBVAMQzDMAzDFEDHcRzHcRwVQKuqqqqqqhRAZmZmZmZmFEDYUF5DeQ0VQOLh4eHh4RVAAAAAAAAAGEAzMzMzMzMYQNejcD0K1xdAVVVVVVXVF0BJkiRJkiQXQFVVVVVVVRlAmpmZmZmZGkCSJEmSJEkbQCVJkiRJkhtAFDuxEzuxG0CuR+F6FK4bQAAAAAAAgBtAMzMzMzMzG0BmZmZmZmYcQAAAAAAAABxAHMdxHMdxHEAAAAAAAMAbQM3MzMzMzBxAiYiIiIiIHEC3bdu2bdscQDMzMzMzMx1AchzHcRzHHUCSJEmSJEkeQKuqqqqqqh5AZmZmZmZmHkCrqqqqqqoeQKuqqqqqqh5Aq6qqqqqqHkAAAAAAAAAgQAAAAAAAACBAAAAAAAAAIEAAAAAAAAAgQA==",
          "dtype": "f8"
         }
        }
       ],
       "layout": {
        "template": {
         "data": {
          "bar": [
           {
            "error_x": {
             "color": "#2a3f5f"
            },
            "error_y": {
             "color": "#2a3f5f"
            },
            "marker": {
             "line": {
              "color": "#E5ECF6",
              "width": 0.5
             },
             "pattern": {
              "fillmode": "overlay",
              "size": 10,
              "solidity": 0.2
             }
            },
            "type": "bar"
           }
          ],
          "barpolar": [
           {
            "marker": {
             "line": {
              "color": "#E5ECF6",
              "width": 0.5
             },
             "pattern": {
              "fillmode": "overlay",
              "size": 10,
              "solidity": 0.2
             }
            },
            "type": "barpolar"
           }
          ],
          "carpet": [
           {
            "aaxis": {
             "endlinecolor": "#2a3f5f",
             "gridcolor": "white",
             "linecolor": "white",
             "minorgridcolor": "white",
             "startlinecolor": "#2a3f5f"
            },
            "baxis": {
             "endlinecolor": "#2a3f5f",
             "gridcolor": "white",
             "linecolor": "white",
             "minorgridcolor": "white",
             "startlinecolor": "#2a3f5f"
            },
            "type": "carpet"
           }
          ],
          "choropleth": [
           {
            "colorbar": {
             "outlinewidth": 0,
             "ticks": ""
            },
            "type": "choropleth"
           }
          ],
          "contour": [
           {
            "colorbar": {
             "outlinewidth": 0,
             "ticks": ""
            },
            "colorscale": [
             [
              0,
              "#0d0887"
             ],
             [
              0.1111111111111111,
              "#46039f"
             ],
             [
              0.2222222222222222,
              "#7201a8"
             ],
             [
              0.3333333333333333,
              "#9c179e"
             ],
             [
              0.4444444444444444,
              "#bd3786"
             ],
             [
              0.5555555555555556,
              "#d8576b"
             ],
             [
              0.6666666666666666,
              "#ed7953"
             ],
             [
              0.7777777777777778,
              "#fb9f3a"
             ],
             [
              0.8888888888888888,
              "#fdca26"
             ],
             [
              1,
              "#f0f921"
             ]
            ],
            "type": "contour"
           }
          ],
          "contourcarpet": [
           {
            "colorbar": {
             "outlinewidth": 0,
             "ticks": ""
            },
            "type": "contourcarpet"
           }
          ],
          "heatmap": [
           {
            "colorbar": {
             "outlinewidth": 0,
             "ticks": ""
            },
            "colorscale": [
             [
              0,
              "#0d0887"
             ],
             [
              0.1111111111111111,
              "#46039f"
             ],
             [
              0.2222222222222222,
              "#7201a8"
             ],
             [
              0.3333333333333333,
              "#9c179e"
             ],
             [
              0.4444444444444444,
              "#bd3786"
             ],
             [
              0.5555555555555556,
              "#d8576b"
             ],
             [
              0.6666666666666666,
              "#ed7953"
             ],
             [
              0.7777777777777778,
              "#fb9f3a"
             ],
             [
              0.8888888888888888,
              "#fdca26"
             ],
             [
              1,
              "#f0f921"
             ]
            ],
            "type": "heatmap"
           }
          ],
          "histogram": [
           {
            "marker": {
             "pattern": {
              "fillmode": "overlay",
              "size": 10,
              "solidity": 0.2
             }
            },
            "type": "histogram"
           }
          ],
          "histogram2d": [
           {
            "colorbar": {
             "outlinewidth": 0,
             "ticks": ""
            },
            "colorscale": [
             [
              0,
              "#0d0887"
             ],
             [
              0.1111111111111111,
              "#46039f"
             ],
             [
              0.2222222222222222,
              "#7201a8"
             ],
             [
              0.3333333333333333,
              "#9c179e"
             ],
             [
              0.4444444444444444,
              "#bd3786"
             ],
             [
              0.5555555555555556,
              "#d8576b"
             ],
             [
              0.6666666666666666,
              "#ed7953"
             ],
             [
              0.7777777777777778,
              "#fb9f3a"
             ],
             [
              0.8888888888888888,
              "#fdca26"
             ],
             [
              1,
              "#f0f921"
             ]
            ],
            "type": "histogram2d"
           }
          ],
          "histogram2dcontour": [
           {
            "colorbar": {
             "outlinewidth": 0,
             "ticks": ""
            },
            "colorscale": [
             [
              0,
              "#0d0887"
             ],
             [
              0.1111111111111111,
              "#46039f"
             ],
             [
              0.2222222222222222,
              "#7201a8"
             ],
             [
              0.3333333333333333,
              "#9c179e"
             ],
             [
              0.4444444444444444,
              "#bd3786"
             ],
             [
              0.5555555555555556,
              "#d8576b"
             ],
             [
              0.6666666666666666,
              "#ed7953"
             ],
             [
              0.7777777777777778,
              "#fb9f3a"
             ],
             [
              0.8888888888888888,
              "#fdca26"
             ],
             [
              1,
              "#f0f921"
             ]
            ],
            "type": "histogram2dcontour"
           }
          ],
          "mesh3d": [
           {
            "colorbar": {
             "outlinewidth": 0,
             "ticks": ""
            },
            "type": "mesh3d"
           }
          ],
          "parcoords": [
           {
            "line": {
             "colorbar": {
              "outlinewidth": 0,
              "ticks": ""
             }
            },
            "type": "parcoords"
           }
          ],
          "pie": [
           {
            "automargin": true,
            "type": "pie"
           }
          ],
          "scatter": [
           {
            "fillpattern": {
             "fillmode": "overlay",
             "size": 10,
             "solidity": 0.2
            },
            "type": "scatter"
           }
          ],
          "scatter3d": [
           {
            "line": {
             "colorbar": {
              "outlinewidth": 0,
              "ticks": ""
             }
            },
            "marker": {
             "colorbar": {
              "outlinewidth": 0,
              "ticks": ""
             }
            },
            "type": "scatter3d"
           }
          ],
          "scattercarpet": [
           {
            "marker": {
             "colorbar": {
              "outlinewidth": 0,
              "ticks": ""
             }
            },
            "type": "scattercarpet"
           }
          ],
          "scattergeo": [
           {
            "marker": {
             "colorbar": {
              "outlinewidth": 0,
              "ticks": ""
             }
            },
            "type": "scattergeo"
           }
          ],
          "scattergl": [
           {
            "marker": {
             "colorbar": {
              "outlinewidth": 0,
              "ticks": ""
             }
            },
            "type": "scattergl"
           }
          ],
          "scattermap": [
           {
            "marker": {
             "colorbar": {
              "outlinewidth": 0,
              "ticks": ""
             }
            },
            "type": "scattermap"
           }
          ],
          "scattermapbox": [
           {
            "marker": {
             "colorbar": {
              "outlinewidth": 0,
              "ticks": ""
             }
            },
            "type": "scattermapbox"
           }
          ],
          "scatterpolar": [
           {
            "marker": {
             "colorbar": {
              "outlinewidth": 0,
              "ticks": ""
             }
            },
            "type": "scatterpolar"
           }
          ],
          "scatterpolargl": [
           {
            "marker": {
             "colorbar": {
              "outlinewidth": 0,
              "ticks": ""
             }
            },
            "type": "scatterpolargl"
           }
          ],
          "scatterternary": [
           {
            "marker": {
             "colorbar": {
              "outlinewidth": 0,
              "ticks": ""
             }
            },
            "type": "scatterternary"
           }
          ],
          "surface": [
           {
            "colorbar": {
             "outlinewidth": 0,
             "ticks": ""
            },
            "colorscale": [
             [
              0,
              "#0d0887"
             ],
             [
              0.1111111111111111,
              "#46039f"
             ],
             [
              0.2222222222222222,
              "#7201a8"
             ],
             [
              0.3333333333333333,
              "#9c179e"
             ],
             [
              0.4444444444444444,
              "#bd3786"
             ],
             [
              0.5555555555555556,
              "#d8576b"
             ],
             [
              0.6666666666666666,
              "#ed7953"
             ],
             [
              0.7777777777777778,
              "#fb9f3a"
             ],
             [
              0.8888888888888888,
              "#fdca26"
             ],
             [
              1,
              "#f0f921"
             ]
            ],
            "type": "surface"
           }
          ],
          "table": [
           {
            "cells": {
             "fill": {
              "color": "#EBF0F8"
             },
             "line": {
              "color": "white"
             }
            },
            "header": {
             "fill": {
              "color": "#C8D4E3"
             },
             "line": {
              "color": "white"
             }
            },
            "type": "table"
           }
          ]
         },
         "layout": {
          "annotationdefaults": {
           "arrowcolor": "#2a3f5f",
           "arrowhead": 0,
           "arrowwidth": 1
          },
          "autotypenumbers": "strict",
          "coloraxis": {
           "colorbar": {
            "outlinewidth": 0,
            "ticks": ""
           }
          },
          "colorscale": {
           "diverging": [
            [
             0,
             "#8e0152"
            ],
            [
             0.1,
             "#c51b7d"
            ],
            [
             0.2,
             "#de77ae"
            ],
            [
             0.3,
             "#f1b6da"
            ],
            [
             0.4,
             "#fde0ef"
            ],
            [
             0.5,
             "#f7f7f7"
            ],
            [
             0.6,
             "#e6f5d0"
            ],
            [
             0.7,
             "#b8e186"
            ],
            [
             0.8,
             "#7fbc41"
            ],
            [
             0.9,
             "#4d9221"
            ],
            [
             1,
             "#276419"
            ]
           ],
           "sequential": [
            [
             0,
             "#0d0887"
            ],
            [
             0.1111111111111111,
             "#46039f"
            ],
            [
             0.2222222222222222,
             "#7201a8"
            ],
            [
             0.3333333333333333,
             "#9c179e"
            ],
            [
             0.4444444444444444,
             "#bd3786"
            ],
            [
             0.5555555555555556,
             "#d8576b"
            ],
            [
             0.6666666666666666,
             "#ed7953"
            ],
            [
             0.7777777777777778,
             "#fb9f3a"
            ],
            [
             0.8888888888888888,
             "#fdca26"
            ],
            [
             1,
             "#f0f921"
            ]
           ],
           "sequentialminus": [
            [
             0,
             "#0d0887"
            ],
            [
             0.1111111111111111,
             "#46039f"
            ],
            [
             0.2222222222222222,
             "#7201a8"
            ],
            [
             0.3333333333333333,
             "#9c179e"
            ],
            [
             0.4444444444444444,
             "#bd3786"
            ],
            [
             0.5555555555555556,
             "#d8576b"
            ],
            [
             0.6666666666666666,
             "#ed7953"
            ],
            [
             0.7777777777777778,
             "#fb9f3a"
            ],
            [
             0.8888888888888888,
             "#fdca26"
            ],
            [
             1,
             "#f0f921"
            ]
           ]
          },
          "colorway": [
           "#636efa",
           "#EF553B",
           "#00cc96",
           "#ab63fa",
           "#FFA15A",
           "#19d3f3",
           "#FF6692",
           "#B6E880",
           "#FF97FF",
           "#FECB52"
          ],
          "font": {
           "color": "#2a3f5f"
          },
          "geo": {
           "bgcolor": "white",
           "lakecolor": "white",
           "landcolor": "#E5ECF6",
           "showlakes": true,
           "showland": true,
           "subunitcolor": "white"
          },
          "hoverlabel": {
           "align": "left"
          },
          "hovermode": "closest",
          "mapbox": {
           "style": "light"
          },
          "paper_bgcolor": "white",
          "plot_bgcolor": "#E5ECF6",
          "polar": {
           "angularaxis": {
            "gridcolor": "white",
            "linecolor": "white",
            "ticks": ""
           },
           "bgcolor": "#E5ECF6",
           "radialaxis": {
            "gridcolor": "white",
            "linecolor": "white",
            "ticks": ""
           }
          },
          "scene": {
           "xaxis": {
            "backgroundcolor": "#E5ECF6",
            "gridcolor": "white",
            "gridwidth": 2,
            "linecolor": "white",
            "showbackground": true,
            "ticks": "",
            "zerolinecolor": "white"
           },
           "yaxis": {
            "backgroundcolor": "#E5ECF6",
            "gridcolor": "white",
            "gridwidth": 2,
            "linecolor": "white",
            "showbackground": true,
            "ticks": "",
            "zerolinecolor": "white"
           },
           "zaxis": {
            "backgroundcolor": "#E5ECF6",
            "gridcolor": "white",
            "gridwidth": 2,
            "linecolor": "white",
            "showbackground": true,
            "ticks": "",
            "zerolinecolor": "white"
           }
          },
          "shapedefaults": {
           "line": {
            "color": "#2a3f5f"
           }
          },
          "ternary": {
           "aaxis": {
            "gridcolor": "white",
            "linecolor": "white",
            "ticks": ""
           },
           "baxis": {
            "gridcolor": "white",
            "linecolor": "white",
            "ticks": ""
           },
           "bgcolor": "#E5ECF6",
           "caxis": {
            "gridcolor": "white",
            "linecolor": "white",
            "ticks": ""
           }
          },
          "title": {
           "x": 0.05
          },
          "xaxis": {
           "automargin": true,
           "gridcolor": "white",
           "linecolor": "white",
           "ticks": "",
           "title": {
            "standoff": 15
           },
           "zerolinecolor": "white",
           "zerolinewidth": 2
          },
          "yaxis": {
           "automargin": true,
           "gridcolor": "white",
           "linecolor": "white",
           "ticks": "",
           "title": {
            "standoff": 15
           },
           "zerolinecolor": "white",
           "zerolinewidth": 2
          }
         }
        },
        "title": {
         "text": "Gemiddelde mentale gezondheid per slaapduur"
        },
        "updatemenus": [
         {
          "active": 0,
          "buttons": [
           {
            "args": [
             {
              "visible": [
               true,
               false,
               false
              ]
             },
             {
              "title": "Gemiddelde mentale gezondheid per slaapduur (mannen)"
             }
            ],
            "label": "Man",
            "method": "update"
           },
           {
            "args": [
             {
              "visible": [
               false,
               true,
               false
              ]
             },
             {
              "title": "Gemiddelde mentale gezondheid per slaapduur (vrouwen)"
             }
            ],
            "label": "Vrouw",
            "method": "update"
           },
           {
            "args": [
             {
              "visible": [
               false,
               false,
               true
              ]
             },
             {
              "title": "Gemiddelde mentale gezondheid per slaapduur (alle studenten)"
             }
            ],
            "label": "Iedereen",
            "method": "update"
           }
          ],
          "x": 1.15
         }
        ],
        "xaxis": {
         "title": {
          "text": "Aantal uren slaap per nacht"
         }
        },
        "yaxis": {
         "title": {
          "text": "Gemiddelde mentale gezondheidsscore"
         }
        }
       }
      },
      "text/html": [
       "<div>            <script src=\"https://cdnjs.cloudflare.com/ajax/libs/mathjax/2.7.5/MathJax.js?config=TeX-AMS-MML_SVG\"></script><script type=\"text/javascript\">if (window.MathJax && window.MathJax.Hub && window.MathJax.Hub.Config) {window.MathJax.Hub.Config({SVG: {font: \"STIX-Web\"}});}</script>                <script type=\"text/javascript\">window.PlotlyConfig = {MathJaxConfig: 'local'};</script>\n",
       "        <script charset=\"utf-8\" src=\"https://cdn.plot.ly/plotly-3.0.1.min.js\"></script>                <div id=\"ed5b7f44-68cd-4d3a-bbc1-77a988d4c39b\" class=\"plotly-graph-div\" style=\"height:525px; width:100%;\"></div>            <script type=\"text/javascript\">                window.PLOTLYENV=window.PLOTLYENV || {};                                if (document.getElementById(\"ed5b7f44-68cd-4d3a-bbc1-77a988d4c39b\")) {                    Plotly.newPlot(                        \"ed5b7f44-68cd-4d3a-bbc1-77a988d4c39b\",                        [{\"line\":{\"color\":\"blue\",\"width\":3},\"mode\":\"lines+markers\",\"name\":\"Male\",\"visible\":true,\"x\":{\"dtype\":\"f8\",\"bdata\":\"ZmZmZmZmEEAzMzMzMzMRQAAAAAAAABJAzczMzMzMEkAzMzMzMzMTQJqZmZmZmRNAAAAAAAAAFEBmZmZmZmYUQM3MzMzMzBRAMzMzMzMzFUCamZmZmZkVQAAAAAAAABZAZmZmZmZmFkDNzMzMzMwWQDMzMzMzMxdAmpmZmZmZF0AAAAAAAAAYQGZmZmZmZhhAzczMzMzMGEAzMzMzMzMZQJqZmZmZmRlAAAAAAAAAGkBmZmZmZmYaQM3MzMzMzBpAMzMzMzMzG0CamZmZmZkbQAAAAAAAABxAZmZmZmZmHEDNzMzMzMwcQDMzMzMzMx1AmpmZmZmZHUAAAAAAAAAeQGZmZmZmZh5AzczMzMzMHkAzMzMzMzMfQJqZmZmZmR9AAAAAAAAAIEAzMzMzMzMgQGZmZmZmZiBAmpmZmZmZIEDNzMzMzMwgQAAAAAAAACFAMzMzMzMzIUBmZmZmZmYhQJqZmZmZmSFAzczMzMzMIUAAAAAAAAAiQDMzMzMzMyJAZmZmZmZmIkCamZmZmZkiQM3MzMzMzCJAAAAAAAAAI0A=\"},\"y\":{\"dtype\":\"f8\",\"bdata\":\"AAAAAAAAGEAAAAAAAAAYQAAAAAAAABhAAAAAAAAAGEAAAAAAAAAUQAAAAAAAABdAAAAAAAAAFkAAAAAAAAAXQAAAAAAAABVAbtu2bdu2FUAAAAAAAAAVQG7btm3bthVAAAAAAAAAFkAAAAAAAIAUQKuqqqqqqhZAuuiiiy66FEByHMdxHMcVQKuqqqqqqhRA2Ymd2ImdFECxEzuxEzsVQAAAAAAAABhAAAAAAABAGEDFTuzETuwYQLy7u7u7uxdAAAAAAAAAGECrqqqqqqoWQAAAAAAAABlAdNFFF110GUAAAAAAAAAcQLdt27Zt2xpAF1100UUXHUBP7MRO7MQaQAAAAAAAABxAx3Ecx3EcG0DFTuzETuwcQKuqqqqqqhtAuuiiiy66HEAzMzMzMzMbQAAAAAAAABxAAAAAAAAAHEAAAAAAAAAcQAAAAAAAABxAAAAAAAAAHEAAAAAAAAAgQAAAAAAAAB5AAAAAAAAAIEAAAAAAAAAgQAAAAAAAACBAAAAAAAAAIEAAAAAAAAAgQAAAAAAAACBAAAAAAAAAIEA=\"},\"type\":\"scatter\"},{\"line\":{\"color\":\"deeppink\",\"width\":3},\"mode\":\"lines+markers\",\"name\":\"Female\",\"visible\":false,\"x\":{\"dtype\":\"f8\",\"bdata\":\"ZmZmZmZmDkAzMzMzMzMPQAAAAAAAABBAZmZmZmZmEEDNzMzMzMwQQDMzMzMzMxFAmpmZmZmZEUAAAAAAAAASQGZmZmZmZhJAzczMzMzMEkAzMzMzMzMTQJqZmZmZmRNAAAAAAAAAFEBmZmZmZmYUQM3MzMzMzBRAMzMzMzMzFUCamZmZmZkVQAAAAAAAABZAZmZmZmZmFkDNzMzMzMwWQDMzMzMzMxdAmpmZmZmZF0AAAAAAAAAYQGZmZmZmZhhAzczMzMzMGEAzMzMzMzMZQJqZmZmZmRlAAAAAAAAAGkBmZmZmZmYaQM3MzMzMzBpAMzMzMzMzG0CamZmZmZkbQAAAAAAAABxAZmZmZmZmHEDNzMzMzMwcQDMzMzMzMx1AmpmZmZmZHUAAAAAAAAAeQGZmZmZmZh5AzczMzMzMHkAzMzMzMzMfQJqZmZmZmR9AAAAAAAAAIEAzMzMzMzMgQGZmZmZmZiBAmpmZmZmZIEDNzMzMzMwgQAAAAAAAACFAMzMzMzMzIUBmZmZmZmYhQJqZmZmZmSFAzczMzMzMIUAAAAAAAAAiQDMzMzMzMyJAZmZmZmZmIkCamZmZmZkiQM3MzMzMzCJAAAAAAAAAI0AzMzMzMzMjQA==\"},\"y\":{\"dtype\":\"f8\",\"bdata\":\"AAAAAAAAFEAAAAAAAAAUQAAAAAAAABRAAAAAAAAAFEAAAAAAAAAWQAAAAAAAABRAAAAAAAAAFkAAAAAAAAASQKuqqqqqqhZAAAAAAAAAFECrqqqqqqoWQAAAAAAAABRAzczMzMzMFECrqqqqqqoSQAAAAAAAABRAAAAAAAAAE0BmZmZmZmYUQAAAAAAAgBNASZIkSZIkFUAzMzMzMzMVQPHw8PDw8BRAzczMzMzMFEAcx3Ecx3EUQKuqqqqqqhRAAAAAAAAAFECrqqqqqqoUQLrooosuuhRA27Zt27ZtF0C3bdu2bdsWQAAAAAAAABhAo4suuuiiF0AAAAAAAAAYQJqZmZmZmRlAAAAAAAAAHEAlSZIkSZIaQJIkSZIkSRxAq6qqqqqqGkCrqqqqqqocQAAAAAAAABtAVVVVVVVVG0Dbtm3btm0bQCVJkiRJkhxAAAAAAAAAHECrqqqqqqocQG7btm3bth1ASZIkSZIkHUBu27Zt27YdQAAAAAAAAB5Aq6qqqqqqHkAAAAAAAAAeQAAAAAAAAB9AAAAAAAAAHkAAAAAAAAAeQAAAAAAAAB5AAAAAAAAAHkAAAAAAAAAgQAAAAAAAACBAAAAAAAAAIEAAAAAAAAAgQA==\"},\"type\":\"scatter\"},{\"line\":{\"color\":\"green\",\"width\":3},\"mode\":\"lines+markers\",\"name\":\"All\",\"visible\":false,\"x\":{\"dtype\":\"f8\",\"bdata\":\"ZmZmZmZmDkAzMzMzMzMPQAAAAAAAABBAZmZmZmZmEEDNzMzMzMwQQDMzMzMzMxFAmpmZmZmZEUAAAAAAAAASQGZmZmZmZhJAzczMzMzMEkAzMzMzMzMTQJqZmZmZmRNAAAAAAAAAFEBmZmZmZmYUQM3MzMzMzBRAMzMzMzMzFUCamZmZmZkVQAAAAAAAABZAZmZmZmZmFkDNzMzMzMwWQDMzMzMzMxdAmpmZmZmZF0AAAAAAAAAYQGZmZmZmZhhAzczMzMzMGEAzMzMzMzMZQJqZmZmZmRlAAAAAAAAAGkBmZmZmZmYaQM3MzMzMzBpAMzMzMzMzG0CamZmZmZkbQAAAAAAAABxAZmZmZmZmHEDNzMzMzMwcQDMzMzMzMx1AmpmZmZmZHUAAAAAAAAAeQGZmZmZmZh5AzczMzMzMHkAzMzMzMzMfQJqZmZmZmR9AAAAAAAAAIEAzMzMzMzMgQGZmZmZmZiBAmpmZmZmZIEDNzMzMzMwgQAAAAAAAACFAMzMzMzMzIUBmZmZmZmYhQJqZmZmZmSFAzczMzMzMIUAAAAAAAAAiQDMzMzMzMyJAZmZmZmZmIkCamZmZmZkiQM3MzMzMzCJAAAAAAAAAI0AzMzMzMzMjQA==\"},\"y\":{\"dtype\":\"f8\",\"bdata\":\"AAAAAAAAFEAAAAAAAAAUQAAAAAAAABRAAAAAAAAAFkAAAAAAAAAWQAAAAAAAABZAAAAAAAAAFkAAAAAAAAAUQKuqqqqqqhZAq6qqqqqqFkAAAAAAAAAWQGZmZmZmZhZASZIkSZIkFUBJkiRJkiQVQOzETuzEThRAuuiiiy66FEAlSZIkSZIUQImIiIiIiBRAVVVVVVVVFUA5juM4juMUQBaykIUsZBVAMQzDMAzDFEDHcRzHcRwVQKuqqqqqqhRAZmZmZmZmFEDYUF5DeQ0VQOLh4eHh4RVAAAAAAAAAGEAzMzMzMzMYQNejcD0K1xdAVVVVVVXVF0BJkiRJkiQXQFVVVVVVVRlAmpmZmZmZGkCSJEmSJEkbQCVJkiRJkhtAFDuxEzuxG0CuR+F6FK4bQAAAAAAAgBtAMzMzMzMzG0BmZmZmZmYcQAAAAAAAABxAHMdxHMdxHEAAAAAAAMAbQM3MzMzMzBxAiYiIiIiIHEC3bdu2bdscQDMzMzMzMx1AchzHcRzHHUCSJEmSJEkeQKuqqqqqqh5AZmZmZmZmHkCrqqqqqqoeQKuqqqqqqh5Aq6qqqqqqHkAAAAAAAAAgQAAAAAAAACBAAAAAAAAAIEAAAAAAAAAgQA==\"},\"type\":\"scatter\"}],                        {\"template\":{\"data\":{\"histogram2dcontour\":[{\"type\":\"histogram2dcontour\",\"colorbar\":{\"outlinewidth\":0,\"ticks\":\"\"},\"colorscale\":[[0.0,\"#0d0887\"],[0.1111111111111111,\"#46039f\"],[0.2222222222222222,\"#7201a8\"],[0.3333333333333333,\"#9c179e\"],[0.4444444444444444,\"#bd3786\"],[0.5555555555555556,\"#d8576b\"],[0.6666666666666666,\"#ed7953\"],[0.7777777777777778,\"#fb9f3a\"],[0.8888888888888888,\"#fdca26\"],[1.0,\"#f0f921\"]]}],\"choropleth\":[{\"type\":\"choropleth\",\"colorbar\":{\"outlinewidth\":0,\"ticks\":\"\"}}],\"histogram2d\":[{\"type\":\"histogram2d\",\"colorbar\":{\"outlinewidth\":0,\"ticks\":\"\"},\"colorscale\":[[0.0,\"#0d0887\"],[0.1111111111111111,\"#46039f\"],[0.2222222222222222,\"#7201a8\"],[0.3333333333333333,\"#9c179e\"],[0.4444444444444444,\"#bd3786\"],[0.5555555555555556,\"#d8576b\"],[0.6666666666666666,\"#ed7953\"],[0.7777777777777778,\"#fb9f3a\"],[0.8888888888888888,\"#fdca26\"],[1.0,\"#f0f921\"]]}],\"heatmap\":[{\"type\":\"heatmap\",\"colorbar\":{\"outlinewidth\":0,\"ticks\":\"\"},\"colorscale\":[[0.0,\"#0d0887\"],[0.1111111111111111,\"#46039f\"],[0.2222222222222222,\"#7201a8\"],[0.3333333333333333,\"#9c179e\"],[0.4444444444444444,\"#bd3786\"],[0.5555555555555556,\"#d8576b\"],[0.6666666666666666,\"#ed7953\"],[0.7777777777777778,\"#fb9f3a\"],[0.8888888888888888,\"#fdca26\"],[1.0,\"#f0f921\"]]}],\"contourcarpet\":[{\"type\":\"contourcarpet\",\"colorbar\":{\"outlinewidth\":0,\"ticks\":\"\"}}],\"contour\":[{\"type\":\"contour\",\"colorbar\":{\"outlinewidth\":0,\"ticks\":\"\"},\"colorscale\":[[0.0,\"#0d0887\"],[0.1111111111111111,\"#46039f\"],[0.2222222222222222,\"#7201a8\"],[0.3333333333333333,\"#9c179e\"],[0.4444444444444444,\"#bd3786\"],[0.5555555555555556,\"#d8576b\"],[0.6666666666666666,\"#ed7953\"],[0.7777777777777778,\"#fb9f3a\"],[0.8888888888888888,\"#fdca26\"],[1.0,\"#f0f921\"]]}],\"surface\":[{\"type\":\"surface\",\"colorbar\":{\"outlinewidth\":0,\"ticks\":\"\"},\"colorscale\":[[0.0,\"#0d0887\"],[0.1111111111111111,\"#46039f\"],[0.2222222222222222,\"#7201a8\"],[0.3333333333333333,\"#9c179e\"],[0.4444444444444444,\"#bd3786\"],[0.5555555555555556,\"#d8576b\"],[0.6666666666666666,\"#ed7953\"],[0.7777777777777778,\"#fb9f3a\"],[0.8888888888888888,\"#fdca26\"],[1.0,\"#f0f921\"]]}],\"mesh3d\":[{\"type\":\"mesh3d\",\"colorbar\":{\"outlinewidth\":0,\"ticks\":\"\"}}],\"scatter\":[{\"fillpattern\":{\"fillmode\":\"overlay\",\"size\":10,\"solidity\":0.2},\"type\":\"scatter\"}],\"parcoords\":[{\"type\":\"parcoords\",\"line\":{\"colorbar\":{\"outlinewidth\":0,\"ticks\":\"\"}}}],\"scatterpolargl\":[{\"type\":\"scatterpolargl\",\"marker\":{\"colorbar\":{\"outlinewidth\":0,\"ticks\":\"\"}}}],\"bar\":[{\"error_x\":{\"color\":\"#2a3f5f\"},\"error_y\":{\"color\":\"#2a3f5f\"},\"marker\":{\"line\":{\"color\":\"#E5ECF6\",\"width\":0.5},\"pattern\":{\"fillmode\":\"overlay\",\"size\":10,\"solidity\":0.2}},\"type\":\"bar\"}],\"scattergeo\":[{\"type\":\"scattergeo\",\"marker\":{\"colorbar\":{\"outlinewidth\":0,\"ticks\":\"\"}}}],\"scatterpolar\":[{\"type\":\"scatterpolar\",\"marker\":{\"colorbar\":{\"outlinewidth\":0,\"ticks\":\"\"}}}],\"histogram\":[{\"marker\":{\"pattern\":{\"fillmode\":\"overlay\",\"size\":10,\"solidity\":0.2}},\"type\":\"histogram\"}],\"scattergl\":[{\"type\":\"scattergl\",\"marker\":{\"colorbar\":{\"outlinewidth\":0,\"ticks\":\"\"}}}],\"scatter3d\":[{\"type\":\"scatter3d\",\"line\":{\"colorbar\":{\"outlinewidth\":0,\"ticks\":\"\"}},\"marker\":{\"colorbar\":{\"outlinewidth\":0,\"ticks\":\"\"}}}],\"scattermap\":[{\"type\":\"scattermap\",\"marker\":{\"colorbar\":{\"outlinewidth\":0,\"ticks\":\"\"}}}],\"scattermapbox\":[{\"type\":\"scattermapbox\",\"marker\":{\"colorbar\":{\"outlinewidth\":0,\"ticks\":\"\"}}}],\"scatterternary\":[{\"type\":\"scatterternary\",\"marker\":{\"colorbar\":{\"outlinewidth\":0,\"ticks\":\"\"}}}],\"scattercarpet\":[{\"type\":\"scattercarpet\",\"marker\":{\"colorbar\":{\"outlinewidth\":0,\"ticks\":\"\"}}}],\"carpet\":[{\"aaxis\":{\"endlinecolor\":\"#2a3f5f\",\"gridcolor\":\"white\",\"linecolor\":\"white\",\"minorgridcolor\":\"white\",\"startlinecolor\":\"#2a3f5f\"},\"baxis\":{\"endlinecolor\":\"#2a3f5f\",\"gridcolor\":\"white\",\"linecolor\":\"white\",\"minorgridcolor\":\"white\",\"startlinecolor\":\"#2a3f5f\"},\"type\":\"carpet\"}],\"table\":[{\"cells\":{\"fill\":{\"color\":\"#EBF0F8\"},\"line\":{\"color\":\"white\"}},\"header\":{\"fill\":{\"color\":\"#C8D4E3\"},\"line\":{\"color\":\"white\"}},\"type\":\"table\"}],\"barpolar\":[{\"marker\":{\"line\":{\"color\":\"#E5ECF6\",\"width\":0.5},\"pattern\":{\"fillmode\":\"overlay\",\"size\":10,\"solidity\":0.2}},\"type\":\"barpolar\"}],\"pie\":[{\"automargin\":true,\"type\":\"pie\"}]},\"layout\":{\"autotypenumbers\":\"strict\",\"colorway\":[\"#636efa\",\"#EF553B\",\"#00cc96\",\"#ab63fa\",\"#FFA15A\",\"#19d3f3\",\"#FF6692\",\"#B6E880\",\"#FF97FF\",\"#FECB52\"],\"font\":{\"color\":\"#2a3f5f\"},\"hovermode\":\"closest\",\"hoverlabel\":{\"align\":\"left\"},\"paper_bgcolor\":\"white\",\"plot_bgcolor\":\"#E5ECF6\",\"polar\":{\"bgcolor\":\"#E5ECF6\",\"angularaxis\":{\"gridcolor\":\"white\",\"linecolor\":\"white\",\"ticks\":\"\"},\"radialaxis\":{\"gridcolor\":\"white\",\"linecolor\":\"white\",\"ticks\":\"\"}},\"ternary\":{\"bgcolor\":\"#E5ECF6\",\"aaxis\":{\"gridcolor\":\"white\",\"linecolor\":\"white\",\"ticks\":\"\"},\"baxis\":{\"gridcolor\":\"white\",\"linecolor\":\"white\",\"ticks\":\"\"},\"caxis\":{\"gridcolor\":\"white\",\"linecolor\":\"white\",\"ticks\":\"\"}},\"coloraxis\":{\"colorbar\":{\"outlinewidth\":0,\"ticks\":\"\"}},\"colorscale\":{\"sequential\":[[0.0,\"#0d0887\"],[0.1111111111111111,\"#46039f\"],[0.2222222222222222,\"#7201a8\"],[0.3333333333333333,\"#9c179e\"],[0.4444444444444444,\"#bd3786\"],[0.5555555555555556,\"#d8576b\"],[0.6666666666666666,\"#ed7953\"],[0.7777777777777778,\"#fb9f3a\"],[0.8888888888888888,\"#fdca26\"],[1.0,\"#f0f921\"]],\"sequentialminus\":[[0.0,\"#0d0887\"],[0.1111111111111111,\"#46039f\"],[0.2222222222222222,\"#7201a8\"],[0.3333333333333333,\"#9c179e\"],[0.4444444444444444,\"#bd3786\"],[0.5555555555555556,\"#d8576b\"],[0.6666666666666666,\"#ed7953\"],[0.7777777777777778,\"#fb9f3a\"],[0.8888888888888888,\"#fdca26\"],[1.0,\"#f0f921\"]],\"diverging\":[[0,\"#8e0152\"],[0.1,\"#c51b7d\"],[0.2,\"#de77ae\"],[0.3,\"#f1b6da\"],[0.4,\"#fde0ef\"],[0.5,\"#f7f7f7\"],[0.6,\"#e6f5d0\"],[0.7,\"#b8e186\"],[0.8,\"#7fbc41\"],[0.9,\"#4d9221\"],[1,\"#276419\"]]},\"xaxis\":{\"gridcolor\":\"white\",\"linecolor\":\"white\",\"ticks\":\"\",\"title\":{\"standoff\":15},\"zerolinecolor\":\"white\",\"automargin\":true,\"zerolinewidth\":2},\"yaxis\":{\"gridcolor\":\"white\",\"linecolor\":\"white\",\"ticks\":\"\",\"title\":{\"standoff\":15},\"zerolinecolor\":\"white\",\"automargin\":true,\"zerolinewidth\":2},\"scene\":{\"xaxis\":{\"backgroundcolor\":\"#E5ECF6\",\"gridcolor\":\"white\",\"linecolor\":\"white\",\"showbackground\":true,\"ticks\":\"\",\"zerolinecolor\":\"white\",\"gridwidth\":2},\"yaxis\":{\"backgroundcolor\":\"#E5ECF6\",\"gridcolor\":\"white\",\"linecolor\":\"white\",\"showbackground\":true,\"ticks\":\"\",\"zerolinecolor\":\"white\",\"gridwidth\":2},\"zaxis\":{\"backgroundcolor\":\"#E5ECF6\",\"gridcolor\":\"white\",\"linecolor\":\"white\",\"showbackground\":true,\"ticks\":\"\",\"zerolinecolor\":\"white\",\"gridwidth\":2}},\"shapedefaults\":{\"line\":{\"color\":\"#2a3f5f\"}},\"annotationdefaults\":{\"arrowcolor\":\"#2a3f5f\",\"arrowhead\":0,\"arrowwidth\":1},\"geo\":{\"bgcolor\":\"white\",\"landcolor\":\"#E5ECF6\",\"subunitcolor\":\"white\",\"showland\":true,\"showlakes\":true,\"lakecolor\":\"white\"},\"title\":{\"x\":0.05},\"mapbox\":{\"style\":\"light\"}}},\"title\":{\"text\":\"Gemiddelde mentale gezondheid per slaapduur\"},\"xaxis\":{\"title\":{\"text\":\"Aantal uren slaap per nacht\"}},\"yaxis\":{\"title\":{\"text\":\"Gemiddelde mentale gezondheidsscore\"}},\"updatemenus\":[{\"active\":0,\"buttons\":[{\"args\":[{\"visible\":[true,false,false]},{\"title\":\"Gemiddelde mentale gezondheid per slaapduur (mannen)\"}],\"label\":\"Man\",\"method\":\"update\"},{\"args\":[{\"visible\":[false,true,false]},{\"title\":\"Gemiddelde mentale gezondheid per slaapduur (vrouwen)\"}],\"label\":\"Vrouw\",\"method\":\"update\"},{\"args\":[{\"visible\":[false,false,true]},{\"title\":\"Gemiddelde mentale gezondheid per slaapduur (alle studenten)\"}],\"label\":\"Iedereen\",\"method\":\"update\"}],\"x\":1.15}]},                        {\"responsive\": true}                    ).then(function(){\n",
       "                            \n",
       "var gd = document.getElementById('ed5b7f44-68cd-4d3a-bbc1-77a988d4c39b');\n",
       "var x = new MutationObserver(function (mutations, observer) {{\n",
       "        var display = window.getComputedStyle(gd).display;\n",
       "        if (!display || display === 'none') {{\n",
       "            console.log([gd, 'removed!']);\n",
       "            Plotly.purge(gd);\n",
       "            observer.disconnect();\n",
       "        }}\n",
       "}});\n",
       "\n",
       "// Listen for the removal of the full notebook cells\n",
       "var notebookContainer = gd.closest('#notebook-container');\n",
       "if (notebookContainer) {{\n",
       "    x.observe(notebookContainer, {childList: true});\n",
       "}}\n",
       "\n",
       "// Listen for the clearing of the current output cell\n",
       "var outputEl = gd.closest('.output');\n",
       "if (outputEl) {{\n",
       "    x.observe(outputEl, {childList: true});\n",
       "}}\n",
       "\n",
       "                        })                };            </script>        </div>"
      ]
     },
     "metadata": {},
     "output_type": "display_data"
    }
   ],
   "source": [
    "import pandas as pd\n",
    "import numpy as np\n",
    "import plotly.graph_objects as go\n",
    "import os\n",
    "import kagglehub\n",
    "\n",
    "# Dataset ophalen\n",
    "path = kagglehub.dataset_download(\"adilshamim8/social-media-addiction-vs-relationships\")\n",
    "csv_path = os.path.join(path, \"Students Social Media Addiction.csv\")\n",
    "df = pd.read_csv(csv_path)\n",
    "\n",
    "# Filter op leeftijd en geldige waarden\n",
    "df_filtered = df[(df['Age'] >= 18) & (df['Age'] <= 25)]\n",
    "df_filtered = df_filtered.dropna(subset=[\"Mental_Health_Score\", \"Sleep_Hours_Per_Night\", \"Gender\"])\n",
    "\n",
    "# Kleuren\n",
    "colors = {\"Male\": \"blue\", \"Female\": \"deeppink\", \"All\": \"green\"}\n",
    "\n",
    "# Functie om groepsgemiddelde lijntrace te maken\n",
    "def get_line_trace(gender=None):\n",
    "    if gender:\n",
    "        d = df_filtered[df_filtered[\"Gender\"] == gender]\n",
    "        label = gender\n",
    "    else:\n",
    "        d = df_filtered\n",
    "        label = \"All\"\n",
    "\n",
    "    df_avg = d.groupby(\"Sleep_Hours_Per_Night\")[\"Mental_Health_Score\"].mean().reset_index()\n",
    "\n",
    "    return go.Scatter(\n",
    "        x=df_avg[\"Sleep_Hours_Per_Night\"],\n",
    "        y=df_avg[\"Mental_Health_Score\"],\n",
    "        mode='lines+markers',\n",
    "        name=label,\n",
    "        line=dict(color=colors[label], width=3),\n",
    "        visible=True if label == \"Male\" else False  # standaard alleen Male tonen\n",
    "    )\n",
    "\n",
    "# Genereer traces\n",
    "male_line = get_line_trace(\"Male\")\n",
    "female_line = get_line_trace(\"Female\")\n",
    "all_line = get_line_trace(None)\n",
    "\n",
    "# Dropdown-menu\n",
    "buttons = [\n",
    "    dict(label=\"Man\",\n",
    "         method=\"update\",\n",
    "         args=[{\"visible\": [True, False, False]},\n",
    "               {\"title\": \"Gemiddelde mentale gezondheid per slaapduur (mannen)\"}]),\n",
    "    dict(label=\"Vrouw\",\n",
    "         method=\"update\",\n",
    "         args=[{\"visible\": [False, True, False]},\n",
    "               {\"title\": \"Gemiddelde mentale gezondheid per slaapduur (vrouwen)\"}]),\n",
    "    dict(label=\"Iedereen\",\n",
    "         method=\"update\",\n",
    "         args=[{\"visible\": [False, False, True]},\n",
    "               {\"title\": \"Gemiddelde mentale gezondheid per slaapduur (alle studenten)\"}])\n",
    "]\n",
    "\n",
    "# Plot figuur\n",
    "fig = go.Figure(data=[male_line, female_line, all_line])\n",
    "\n",
    "fig.update_layout(\n",
    "    title=\"Gemiddelde mentale gezondheid per slaapduur\",\n",
    "    xaxis_title=\"Aantal uren slaap per nacht\",\n",
    "    yaxis_title=\"Gemiddelde mentale gezondheidsscore\",\n",
    "    updatemenus=[dict(active=0, buttons=buttons, x=1.15)]\n",
    ")\n",
    "\n",
    "fig.show()\n",
    "\n"
   ]
  },
  {
   "cell_type": "markdown",
   "id": "b2ad9165",
   "metadata": {},
   "source": [
    "> *Figure 8: Verschil per geslacht over mentale gezondheid en slaapuren.*"
   ]
  },
  {
   "cell_type": "markdown",
   "id": "25e278ee",
   "metadata": {},
   "source": [
    "De bovenstaande grafiek toont het verband tussen het aantal uren slaap per nacht (x-as) en de mentale gezondheidsscore van studenten (y-as). Er is een duidelijke positieve trend zichtbaar in de regessielijn, bij zowel mannen als vrouwen. De mentale gezondheidsscoren stijgt naarmate het aantal uren slaap meer wordt. Dit betekent dat hoe meer uren slaap studenten krijgen, hoe hoger hun mentale gezondheidsscore gemiddeld is, dus meer slaap hangt samen met betere mentale gezondheid."
   ]
  },
  {
   "cell_type": "markdown",
   "id": "d5e2d661",
   "metadata": {},
   "source": [
    "## Sport Gewoontes"
   ]
  },
  {
   "cell_type": "code",
   "execution_count": null,
   "id": "dca10f3a",
   "metadata": {
    "tags": [
     "hide-input"
    ]
   },
   "outputs": [
    {
     "data": {
      "text/html": [
       "        <script type=\"text/javascript\">\n",
       "        window.PlotlyConfig = {MathJaxConfig: 'local'};\n",
       "        if (window.MathJax && window.MathJax.Hub && window.MathJax.Hub.Config) {window.MathJax.Hub.Config({SVG: {font: \"STIX-Web\"}});}\n",
       "        </script>\n",
       "        <script type=\"module\">import \"https://cdn.plot.ly/plotly-3.0.1.min\"</script>\n",
       "        "
      ]
     },
     "metadata": {},
     "output_type": "display_data"
    },
    {
     "data": {
      "application/vnd.plotly.v1+json": {
       "config": {
        "plotlyServerURL": "https://plot.ly"
       },
       "data": [
        {
         "type": "box",
         "x": [
          "No Sports",
          "1-3 times",
          "1-3 times",
          "No Sports",
          "No Sports",
          "No Sports",
          "1-3 times",
          "No Sports",
          "1-3 times",
          "No Sports",
          "No Sports",
          "1-3 times",
          "No Sports",
          "No Sports",
          "No Sports",
          "No Sports",
          "No Sports",
          "No Sports",
          "1-3 times",
          "1-3 times",
          "1-3 times",
          "No Sports",
          "No Sports",
          "1-3 times",
          "1-3 times",
          "7+ times",
          "1-3 times",
          "7+ times",
          "4-6 times",
          "4-6 times",
          "No Sports",
          "No Sports",
          "No Sports",
          "No Sports",
          "No Sports",
          "7+ times",
          "No Sports",
          "4-6 times",
          "No Sports",
          "No Sports",
          "1-3 times",
          "No Sports",
          "1-3 times",
          "4-6 times",
          "1-3 times",
          "7+ times",
          "1-3 times",
          "No Sports",
          "1-3 times",
          "No Sports",
          "1-3 times",
          "7+ times",
          "7+ times",
          "1-3 times",
          "1-3 times",
          "4-6 times",
          "4-6 times",
          "No Sports",
          "4-6 times",
          "1-3 times",
          "4-6 times",
          "1-3 times",
          "7+ times",
          "No Sports",
          "1-3 times",
          "No Sports",
          "1-3 times",
          "No Sports",
          "7+ times",
          "4-6 times",
          "No Sports",
          "7+ times",
          "No Sports",
          "No Sports",
          "7+ times",
          "1-3 times",
          "No Sports",
          "4-6 times",
          "No Sports",
          "No Sports",
          "No Sports",
          "No Sports",
          "No Sports",
          "No Sports",
          "No Sports",
          "No Sports",
          "4-6 times"
         ],
         "y": {
          "bdata": "AQMDBQUFBAIEBQMDBAQDAQICBAUCBAQFBAEDBQQDAgMDAgUDBAIFAwEEAwECAwUDBAECBAMEAwEEAgECAgIEBAUEBAIEAQQDBQUBBQMCBQUEAgMFAgQC",
          "dtype": "i1"
         }
        }
       ],
       "layout": {
        "template": {
         "data": {
          "bar": [
           {
            "error_x": {
             "color": "#2a3f5f"
            },
            "error_y": {
             "color": "#2a3f5f"
            },
            "marker": {
             "line": {
              "color": "#E5ECF6",
              "width": 0.5
             },
             "pattern": {
              "fillmode": "overlay",
              "size": 10,
              "solidity": 0.2
             }
            },
            "type": "bar"
           }
          ],
          "barpolar": [
           {
            "marker": {
             "line": {
              "color": "#E5ECF6",
              "width": 0.5
             },
             "pattern": {
              "fillmode": "overlay",
              "size": 10,
              "solidity": 0.2
             }
            },
            "type": "barpolar"
           }
          ],
          "carpet": [
           {
            "aaxis": {
             "endlinecolor": "#2a3f5f",
             "gridcolor": "white",
             "linecolor": "white",
             "minorgridcolor": "white",
             "startlinecolor": "#2a3f5f"
            },
            "baxis": {
             "endlinecolor": "#2a3f5f",
             "gridcolor": "white",
             "linecolor": "white",
             "minorgridcolor": "white",
             "startlinecolor": "#2a3f5f"
            },
            "type": "carpet"
           }
          ],
          "choropleth": [
           {
            "colorbar": {
             "outlinewidth": 0,
             "ticks": ""
            },
            "type": "choropleth"
           }
          ],
          "contour": [
           {
            "colorbar": {
             "outlinewidth": 0,
             "ticks": ""
            },
            "colorscale": [
             [
              0,
              "#0d0887"
             ],
             [
              0.1111111111111111,
              "#46039f"
             ],
             [
              0.2222222222222222,
              "#7201a8"
             ],
             [
              0.3333333333333333,
              "#9c179e"
             ],
             [
              0.4444444444444444,
              "#bd3786"
             ],
             [
              0.5555555555555556,
              "#d8576b"
             ],
             [
              0.6666666666666666,
              "#ed7953"
             ],
             [
              0.7777777777777778,
              "#fb9f3a"
             ],
             [
              0.8888888888888888,
              "#fdca26"
             ],
             [
              1,
              "#f0f921"
             ]
            ],
            "type": "contour"
           }
          ],
          "contourcarpet": [
           {
            "colorbar": {
             "outlinewidth": 0,
             "ticks": ""
            },
            "type": "contourcarpet"
           }
          ],
          "heatmap": [
           {
            "colorbar": {
             "outlinewidth": 0,
             "ticks": ""
            },
            "colorscale": [
             [
              0,
              "#0d0887"
             ],
             [
              0.1111111111111111,
              "#46039f"
             ],
             [
              0.2222222222222222,
              "#7201a8"
             ],
             [
              0.3333333333333333,
              "#9c179e"
             ],
             [
              0.4444444444444444,
              "#bd3786"
             ],
             [
              0.5555555555555556,
              "#d8576b"
             ],
             [
              0.6666666666666666,
              "#ed7953"
             ],
             [
              0.7777777777777778,
              "#fb9f3a"
             ],
             [
              0.8888888888888888,
              "#fdca26"
             ],
             [
              1,
              "#f0f921"
             ]
            ],
            "type": "heatmap"
           }
          ],
          "histogram": [
           {
            "marker": {
             "pattern": {
              "fillmode": "overlay",
              "size": 10,
              "solidity": 0.2
             }
            },
            "type": "histogram"
           }
          ],
          "histogram2d": [
           {
            "colorbar": {
             "outlinewidth": 0,
             "ticks": ""
            },
            "colorscale": [
             [
              0,
              "#0d0887"
             ],
             [
              0.1111111111111111,
              "#46039f"
             ],
             [
              0.2222222222222222,
              "#7201a8"
             ],
             [
              0.3333333333333333,
              "#9c179e"
             ],
             [
              0.4444444444444444,
              "#bd3786"
             ],
             [
              0.5555555555555556,
              "#d8576b"
             ],
             [
              0.6666666666666666,
              "#ed7953"
             ],
             [
              0.7777777777777778,
              "#fb9f3a"
             ],
             [
              0.8888888888888888,
              "#fdca26"
             ],
             [
              1,
              "#f0f921"
             ]
            ],
            "type": "histogram2d"
           }
          ],
          "histogram2dcontour": [
           {
            "colorbar": {
             "outlinewidth": 0,
             "ticks": ""
            },
            "colorscale": [
             [
              0,
              "#0d0887"
             ],
             [
              0.1111111111111111,
              "#46039f"
             ],
             [
              0.2222222222222222,
              "#7201a8"
             ],
             [
              0.3333333333333333,
              "#9c179e"
             ],
             [
              0.4444444444444444,
              "#bd3786"
             ],
             [
              0.5555555555555556,
              "#d8576b"
             ],
             [
              0.6666666666666666,
              "#ed7953"
             ],
             [
              0.7777777777777778,
              "#fb9f3a"
             ],
             [
              0.8888888888888888,
              "#fdca26"
             ],
             [
              1,
              "#f0f921"
             ]
            ],
            "type": "histogram2dcontour"
           }
          ],
          "mesh3d": [
           {
            "colorbar": {
             "outlinewidth": 0,
             "ticks": ""
            },
            "type": "mesh3d"
           }
          ],
          "parcoords": [
           {
            "line": {
             "colorbar": {
              "outlinewidth": 0,
              "ticks": ""
             }
            },
            "type": "parcoords"
           }
          ],
          "pie": [
           {
            "automargin": true,
            "type": "pie"
           }
          ],
          "scatter": [
           {
            "fillpattern": {
             "fillmode": "overlay",
             "size": 10,
             "solidity": 0.2
            },
            "type": "scatter"
           }
          ],
          "scatter3d": [
           {
            "line": {
             "colorbar": {
              "outlinewidth": 0,
              "ticks": ""
             }
            },
            "marker": {
             "colorbar": {
              "outlinewidth": 0,
              "ticks": ""
             }
            },
            "type": "scatter3d"
           }
          ],
          "scattercarpet": [
           {
            "marker": {
             "colorbar": {
              "outlinewidth": 0,
              "ticks": ""
             }
            },
            "type": "scattercarpet"
           }
          ],
          "scattergeo": [
           {
            "marker": {
             "colorbar": {
              "outlinewidth": 0,
              "ticks": ""
             }
            },
            "type": "scattergeo"
           }
          ],
          "scattergl": [
           {
            "marker": {
             "colorbar": {
              "outlinewidth": 0,
              "ticks": ""
             }
            },
            "type": "scattergl"
           }
          ],
          "scattermap": [
           {
            "marker": {
             "colorbar": {
              "outlinewidth": 0,
              "ticks": ""
             }
            },
            "type": "scattermap"
           }
          ],
          "scattermapbox": [
           {
            "marker": {
             "colorbar": {
              "outlinewidth": 0,
              "ticks": ""
             }
            },
            "type": "scattermapbox"
           }
          ],
          "scatterpolar": [
           {
            "marker": {
             "colorbar": {
              "outlinewidth": 0,
              "ticks": ""
             }
            },
            "type": "scatterpolar"
           }
          ],
          "scatterpolargl": [
           {
            "marker": {
             "colorbar": {
              "outlinewidth": 0,
              "ticks": ""
             }
            },
            "type": "scatterpolargl"
           }
          ],
          "scatterternary": [
           {
            "marker": {
             "colorbar": {
              "outlinewidth": 0,
              "ticks": ""
             }
            },
            "type": "scatterternary"
           }
          ],
          "surface": [
           {
            "colorbar": {
             "outlinewidth": 0,
             "ticks": ""
            },
            "colorscale": [
             [
              0,
              "#0d0887"
             ],
             [
              0.1111111111111111,
              "#46039f"
             ],
             [
              0.2222222222222222,
              "#7201a8"
             ],
             [
              0.3333333333333333,
              "#9c179e"
             ],
             [
              0.4444444444444444,
              "#bd3786"
             ],
             [
              0.5555555555555556,
              "#d8576b"
             ],
             [
              0.6666666666666666,
              "#ed7953"
             ],
             [
              0.7777777777777778,
              "#fb9f3a"
             ],
             [
              0.8888888888888888,
              "#fdca26"
             ],
             [
              1,
              "#f0f921"
             ]
            ],
            "type": "surface"
           }
          ],
          "table": [
           {
            "cells": {
             "fill": {
              "color": "#EBF0F8"
             },
             "line": {
              "color": "white"
             }
            },
            "header": {
             "fill": {
              "color": "#C8D4E3"
             },
             "line": {
              "color": "white"
             }
            },
            "type": "table"
           }
          ]
         },
         "layout": {
          "annotationdefaults": {
           "arrowcolor": "#2a3f5f",
           "arrowhead": 0,
           "arrowwidth": 1
          },
          "autotypenumbers": "strict",
          "coloraxis": {
           "colorbar": {
            "outlinewidth": 0,
            "ticks": ""
           }
          },
          "colorscale": {
           "diverging": [
            [
             0,
             "#8e0152"
            ],
            [
             0.1,
             "#c51b7d"
            ],
            [
             0.2,
             "#de77ae"
            ],
            [
             0.3,
             "#f1b6da"
            ],
            [
             0.4,
             "#fde0ef"
            ],
            [
             0.5,
             "#f7f7f7"
            ],
            [
             0.6,
             "#e6f5d0"
            ],
            [
             0.7,
             "#b8e186"
            ],
            [
             0.8,
             "#7fbc41"
            ],
            [
             0.9,
             "#4d9221"
            ],
            [
             1,
             "#276419"
            ]
           ],
           "sequential": [
            [
             0,
             "#0d0887"
            ],
            [
             0.1111111111111111,
             "#46039f"
            ],
            [
             0.2222222222222222,
             "#7201a8"
            ],
            [
             0.3333333333333333,
             "#9c179e"
            ],
            [
             0.4444444444444444,
             "#bd3786"
            ],
            [
             0.5555555555555556,
             "#d8576b"
            ],
            [
             0.6666666666666666,
             "#ed7953"
            ],
            [
             0.7777777777777778,
             "#fb9f3a"
            ],
            [
             0.8888888888888888,
             "#fdca26"
            ],
            [
             1,
             "#f0f921"
            ]
           ],
           "sequentialminus": [
            [
             0,
             "#0d0887"
            ],
            [
             0.1111111111111111,
             "#46039f"
            ],
            [
             0.2222222222222222,
             "#7201a8"
            ],
            [
             0.3333333333333333,
             "#9c179e"
            ],
            [
             0.4444444444444444,
             "#bd3786"
            ],
            [
             0.5555555555555556,
             "#d8576b"
            ],
            [
             0.6666666666666666,
             "#ed7953"
            ],
            [
             0.7777777777777778,
             "#fb9f3a"
            ],
            [
             0.8888888888888888,
             "#fdca26"
            ],
            [
             1,
             "#f0f921"
            ]
           ]
          },
          "colorway": [
           "#636efa",
           "#EF553B",
           "#00cc96",
           "#ab63fa",
           "#FFA15A",
           "#19d3f3",
           "#FF6692",
           "#B6E880",
           "#FF97FF",
           "#FECB52"
          ],
          "font": {
           "color": "#2a3f5f"
          },
          "geo": {
           "bgcolor": "white",
           "lakecolor": "white",
           "landcolor": "#E5ECF6",
           "showlakes": true,
           "showland": true,
           "subunitcolor": "white"
          },
          "hoverlabel": {
           "align": "left"
          },
          "hovermode": "closest",
          "mapbox": {
           "style": "light"
          },
          "paper_bgcolor": "white",
          "plot_bgcolor": "#E5ECF6",
          "polar": {
           "angularaxis": {
            "gridcolor": "white",
            "linecolor": "white",
            "ticks": ""
           },
           "bgcolor": "#E5ECF6",
           "radialaxis": {
            "gridcolor": "white",
            "linecolor": "white",
            "ticks": ""
           }
          },
          "scene": {
           "xaxis": {
            "backgroundcolor": "#E5ECF6",
            "gridcolor": "white",
            "gridwidth": 2,
            "linecolor": "white",
            "showbackground": true,
            "ticks": "",
            "zerolinecolor": "white"
           },
           "yaxis": {
            "backgroundcolor": "#E5ECF6",
            "gridcolor": "white",
            "gridwidth": 2,
            "linecolor": "white",
            "showbackground": true,
            "ticks": "",
            "zerolinecolor": "white"
           },
           "zaxis": {
            "backgroundcolor": "#E5ECF6",
            "gridcolor": "white",
            "gridwidth": 2,
            "linecolor": "white",
            "showbackground": true,
            "ticks": "",
            "zerolinecolor": "white"
           }
          },
          "shapedefaults": {
           "line": {
            "color": "#2a3f5f"
           }
          },
          "ternary": {
           "aaxis": {
            "gridcolor": "white",
            "linecolor": "white",
            "ticks": ""
           },
           "baxis": {
            "gridcolor": "white",
            "linecolor": "white",
            "ticks": ""
           },
           "bgcolor": "#E5ECF6",
           "caxis": {
            "gridcolor": "white",
            "linecolor": "white",
            "ticks": ""
           }
          },
          "title": {
           "x": 0.05
          },
          "xaxis": {
           "automargin": true,
           "gridcolor": "white",
           "linecolor": "white",
           "ticks": "",
           "title": {
            "standoff": 15
           },
           "zerolinecolor": "white",
           "zerolinewidth": 2
          },
          "yaxis": {
           "automargin": true,
           "gridcolor": "white",
           "linecolor": "white",
           "ticks": "",
           "title": {
            "standoff": 15
           },
           "zerolinecolor": "white",
           "zerolinewidth": 2
          }
         }
        },
        "title": {
         "text": "Stress en Sportgewoontes"
        },
        "xaxis": {
         "categoryarray": [
          "No Sports",
          "1-3 times",
          "4-6 times",
          "7+ times"
         ],
         "categoryorder": "array",
         "title": {
          "text": "sport level"
         }
        },
        "yaxis": {
         "title": {
          "text": "stress"
         }
        }
       }
      },
      "text/html": [
       "<div>            <script src=\"https://cdnjs.cloudflare.com/ajax/libs/mathjax/2.7.5/MathJax.js?config=TeX-AMS-MML_SVG\"></script><script type=\"text/javascript\">if (window.MathJax && window.MathJax.Hub && window.MathJax.Hub.Config) {window.MathJax.Hub.Config({SVG: {font: \"STIX-Web\"}});}</script>                <script type=\"text/javascript\">window.PlotlyConfig = {MathJaxConfig: 'local'};</script>\n",
       "        <script charset=\"utf-8\" src=\"https://cdn.plot.ly/plotly-3.0.1.min.js\"></script>                <div id=\"25c2935e-7877-4650-89b0-3825c4c74bc7\" class=\"plotly-graph-div\" style=\"height:525px; width:100%;\"></div>            <script type=\"text/javascript\">                window.PLOTLYENV=window.PLOTLYENV || {};                                if (document.getElementById(\"25c2935e-7877-4650-89b0-3825c4c74bc7\")) {                    Plotly.newPlot(                        \"25c2935e-7877-4650-89b0-3825c4c74bc7\",                        [{\"x\":[\"No Sports\",\"1-3 times\",\"1-3 times\",\"No Sports\",\"No Sports\",\"No Sports\",\"1-3 times\",\"No Sports\",\"1-3 times\",\"No Sports\",\"No Sports\",\"1-3 times\",\"No Sports\",\"No Sports\",\"No Sports\",\"No Sports\",\"No Sports\",\"No Sports\",\"1-3 times\",\"1-3 times\",\"1-3 times\",\"No Sports\",\"No Sports\",\"1-3 times\",\"1-3 times\",\"7+ times\",\"1-3 times\",\"7+ times\",\"4-6 times\",\"4-6 times\",\"No Sports\",\"No Sports\",\"No Sports\",\"No Sports\",\"No Sports\",\"7+ times\",\"No Sports\",\"4-6 times\",\"No Sports\",\"No Sports\",\"1-3 times\",\"No Sports\",\"1-3 times\",\"4-6 times\",\"1-3 times\",\"7+ times\",\"1-3 times\",\"No Sports\",\"1-3 times\",\"No Sports\",\"1-3 times\",\"7+ times\",\"7+ times\",\"1-3 times\",\"1-3 times\",\"4-6 times\",\"4-6 times\",\"No Sports\",\"4-6 times\",\"1-3 times\",\"4-6 times\",\"1-3 times\",\"7+ times\",\"No Sports\",\"1-3 times\",\"No Sports\",\"1-3 times\",\"No Sports\",\"7+ times\",\"4-6 times\",\"No Sports\",\"7+ times\",\"No Sports\",\"No Sports\",\"7+ times\",\"1-3 times\",\"No Sports\",\"4-6 times\",\"No Sports\",\"No Sports\",\"No Sports\",\"No Sports\",\"No Sports\",\"No Sports\",\"No Sports\",\"No Sports\",\"4-6 times\"],\"y\":{\"dtype\":\"i1\",\"bdata\":\"AQMDBQUFBAIEBQMDBAQDAQICBAUCBAQFBAEDBQQDAgMDAgUDBAIFAwEEAwECAwUDBAECBAMEAwEEAgECAgIEBAUEBAIEAQQDBQUBBQMCBQUEAgMFAgQC\"},\"type\":\"box\"}],                        {\"template\":{\"data\":{\"histogram2dcontour\":[{\"type\":\"histogram2dcontour\",\"colorbar\":{\"outlinewidth\":0,\"ticks\":\"\"},\"colorscale\":[[0.0,\"#0d0887\"],[0.1111111111111111,\"#46039f\"],[0.2222222222222222,\"#7201a8\"],[0.3333333333333333,\"#9c179e\"],[0.4444444444444444,\"#bd3786\"],[0.5555555555555556,\"#d8576b\"],[0.6666666666666666,\"#ed7953\"],[0.7777777777777778,\"#fb9f3a\"],[0.8888888888888888,\"#fdca26\"],[1.0,\"#f0f921\"]]}],\"choropleth\":[{\"type\":\"choropleth\",\"colorbar\":{\"outlinewidth\":0,\"ticks\":\"\"}}],\"histogram2d\":[{\"type\":\"histogram2d\",\"colorbar\":{\"outlinewidth\":0,\"ticks\":\"\"},\"colorscale\":[[0.0,\"#0d0887\"],[0.1111111111111111,\"#46039f\"],[0.2222222222222222,\"#7201a8\"],[0.3333333333333333,\"#9c179e\"],[0.4444444444444444,\"#bd3786\"],[0.5555555555555556,\"#d8576b\"],[0.6666666666666666,\"#ed7953\"],[0.7777777777777778,\"#fb9f3a\"],[0.8888888888888888,\"#fdca26\"],[1.0,\"#f0f921\"]]}],\"heatmap\":[{\"type\":\"heatmap\",\"colorbar\":{\"outlinewidth\":0,\"ticks\":\"\"},\"colorscale\":[[0.0,\"#0d0887\"],[0.1111111111111111,\"#46039f\"],[0.2222222222222222,\"#7201a8\"],[0.3333333333333333,\"#9c179e\"],[0.4444444444444444,\"#bd3786\"],[0.5555555555555556,\"#d8576b\"],[0.6666666666666666,\"#ed7953\"],[0.7777777777777778,\"#fb9f3a\"],[0.8888888888888888,\"#fdca26\"],[1.0,\"#f0f921\"]]}],\"contourcarpet\":[{\"type\":\"contourcarpet\",\"colorbar\":{\"outlinewidth\":0,\"ticks\":\"\"}}],\"contour\":[{\"type\":\"contour\",\"colorbar\":{\"outlinewidth\":0,\"ticks\":\"\"},\"colorscale\":[[0.0,\"#0d0887\"],[0.1111111111111111,\"#46039f\"],[0.2222222222222222,\"#7201a8\"],[0.3333333333333333,\"#9c179e\"],[0.4444444444444444,\"#bd3786\"],[0.5555555555555556,\"#d8576b\"],[0.6666666666666666,\"#ed7953\"],[0.7777777777777778,\"#fb9f3a\"],[0.8888888888888888,\"#fdca26\"],[1.0,\"#f0f921\"]]}],\"surface\":[{\"type\":\"surface\",\"colorbar\":{\"outlinewidth\":0,\"ticks\":\"\"},\"colorscale\":[[0.0,\"#0d0887\"],[0.1111111111111111,\"#46039f\"],[0.2222222222222222,\"#7201a8\"],[0.3333333333333333,\"#9c179e\"],[0.4444444444444444,\"#bd3786\"],[0.5555555555555556,\"#d8576b\"],[0.6666666666666666,\"#ed7953\"],[0.7777777777777778,\"#fb9f3a\"],[0.8888888888888888,\"#fdca26\"],[1.0,\"#f0f921\"]]}],\"mesh3d\":[{\"type\":\"mesh3d\",\"colorbar\":{\"outlinewidth\":0,\"ticks\":\"\"}}],\"scatter\":[{\"fillpattern\":{\"fillmode\":\"overlay\",\"size\":10,\"solidity\":0.2},\"type\":\"scatter\"}],\"parcoords\":[{\"type\":\"parcoords\",\"line\":{\"colorbar\":{\"outlinewidth\":0,\"ticks\":\"\"}}}],\"scatterpolargl\":[{\"type\":\"scatterpolargl\",\"marker\":{\"colorbar\":{\"outlinewidth\":0,\"ticks\":\"\"}}}],\"bar\":[{\"error_x\":{\"color\":\"#2a3f5f\"},\"error_y\":{\"color\":\"#2a3f5f\"},\"marker\":{\"line\":{\"color\":\"#E5ECF6\",\"width\":0.5},\"pattern\":{\"fillmode\":\"overlay\",\"size\":10,\"solidity\":0.2}},\"type\":\"bar\"}],\"scattergeo\":[{\"type\":\"scattergeo\",\"marker\":{\"colorbar\":{\"outlinewidth\":0,\"ticks\":\"\"}}}],\"scatterpolar\":[{\"type\":\"scatterpolar\",\"marker\":{\"colorbar\":{\"outlinewidth\":0,\"ticks\":\"\"}}}],\"histogram\":[{\"marker\":{\"pattern\":{\"fillmode\":\"overlay\",\"size\":10,\"solidity\":0.2}},\"type\":\"histogram\"}],\"scattergl\":[{\"type\":\"scattergl\",\"marker\":{\"colorbar\":{\"outlinewidth\":0,\"ticks\":\"\"}}}],\"scatter3d\":[{\"type\":\"scatter3d\",\"line\":{\"colorbar\":{\"outlinewidth\":0,\"ticks\":\"\"}},\"marker\":{\"colorbar\":{\"outlinewidth\":0,\"ticks\":\"\"}}}],\"scattermap\":[{\"type\":\"scattermap\",\"marker\":{\"colorbar\":{\"outlinewidth\":0,\"ticks\":\"\"}}}],\"scattermapbox\":[{\"type\":\"scattermapbox\",\"marker\":{\"colorbar\":{\"outlinewidth\":0,\"ticks\":\"\"}}}],\"scatterternary\":[{\"type\":\"scatterternary\",\"marker\":{\"colorbar\":{\"outlinewidth\":0,\"ticks\":\"\"}}}],\"scattercarpet\":[{\"type\":\"scattercarpet\",\"marker\":{\"colorbar\":{\"outlinewidth\":0,\"ticks\":\"\"}}}],\"carpet\":[{\"aaxis\":{\"endlinecolor\":\"#2a3f5f\",\"gridcolor\":\"white\",\"linecolor\":\"white\",\"minorgridcolor\":\"white\",\"startlinecolor\":\"#2a3f5f\"},\"baxis\":{\"endlinecolor\":\"#2a3f5f\",\"gridcolor\":\"white\",\"linecolor\":\"white\",\"minorgridcolor\":\"white\",\"startlinecolor\":\"#2a3f5f\"},\"type\":\"carpet\"}],\"table\":[{\"cells\":{\"fill\":{\"color\":\"#EBF0F8\"},\"line\":{\"color\":\"white\"}},\"header\":{\"fill\":{\"color\":\"#C8D4E3\"},\"line\":{\"color\":\"white\"}},\"type\":\"table\"}],\"barpolar\":[{\"marker\":{\"line\":{\"color\":\"#E5ECF6\",\"width\":0.5},\"pattern\":{\"fillmode\":\"overlay\",\"size\":10,\"solidity\":0.2}},\"type\":\"barpolar\"}],\"pie\":[{\"automargin\":true,\"type\":\"pie\"}]},\"layout\":{\"autotypenumbers\":\"strict\",\"colorway\":[\"#636efa\",\"#EF553B\",\"#00cc96\",\"#ab63fa\",\"#FFA15A\",\"#19d3f3\",\"#FF6692\",\"#B6E880\",\"#FF97FF\",\"#FECB52\"],\"font\":{\"color\":\"#2a3f5f\"},\"hovermode\":\"closest\",\"hoverlabel\":{\"align\":\"left\"},\"paper_bgcolor\":\"white\",\"plot_bgcolor\":\"#E5ECF6\",\"polar\":{\"bgcolor\":\"#E5ECF6\",\"angularaxis\":{\"gridcolor\":\"white\",\"linecolor\":\"white\",\"ticks\":\"\"},\"radialaxis\":{\"gridcolor\":\"white\",\"linecolor\":\"white\",\"ticks\":\"\"}},\"ternary\":{\"bgcolor\":\"#E5ECF6\",\"aaxis\":{\"gridcolor\":\"white\",\"linecolor\":\"white\",\"ticks\":\"\"},\"baxis\":{\"gridcolor\":\"white\",\"linecolor\":\"white\",\"ticks\":\"\"},\"caxis\":{\"gridcolor\":\"white\",\"linecolor\":\"white\",\"ticks\":\"\"}},\"coloraxis\":{\"colorbar\":{\"outlinewidth\":0,\"ticks\":\"\"}},\"colorscale\":{\"sequential\":[[0.0,\"#0d0887\"],[0.1111111111111111,\"#46039f\"],[0.2222222222222222,\"#7201a8\"],[0.3333333333333333,\"#9c179e\"],[0.4444444444444444,\"#bd3786\"],[0.5555555555555556,\"#d8576b\"],[0.6666666666666666,\"#ed7953\"],[0.7777777777777778,\"#fb9f3a\"],[0.8888888888888888,\"#fdca26\"],[1.0,\"#f0f921\"]],\"sequentialminus\":[[0.0,\"#0d0887\"],[0.1111111111111111,\"#46039f\"],[0.2222222222222222,\"#7201a8\"],[0.3333333333333333,\"#9c179e\"],[0.4444444444444444,\"#bd3786\"],[0.5555555555555556,\"#d8576b\"],[0.6666666666666666,\"#ed7953\"],[0.7777777777777778,\"#fb9f3a\"],[0.8888888888888888,\"#fdca26\"],[1.0,\"#f0f921\"]],\"diverging\":[[0,\"#8e0152\"],[0.1,\"#c51b7d\"],[0.2,\"#de77ae\"],[0.3,\"#f1b6da\"],[0.4,\"#fde0ef\"],[0.5,\"#f7f7f7\"],[0.6,\"#e6f5d0\"],[0.7,\"#b8e186\"],[0.8,\"#7fbc41\"],[0.9,\"#4d9221\"],[1,\"#276419\"]]},\"xaxis\":{\"gridcolor\":\"white\",\"linecolor\":\"white\",\"ticks\":\"\",\"title\":{\"standoff\":15},\"zerolinecolor\":\"white\",\"automargin\":true,\"zerolinewidth\":2},\"yaxis\":{\"gridcolor\":\"white\",\"linecolor\":\"white\",\"ticks\":\"\",\"title\":{\"standoff\":15},\"zerolinecolor\":\"white\",\"automargin\":true,\"zerolinewidth\":2},\"scene\":{\"xaxis\":{\"backgroundcolor\":\"#E5ECF6\",\"gridcolor\":\"white\",\"linecolor\":\"white\",\"showbackground\":true,\"ticks\":\"\",\"zerolinecolor\":\"white\",\"gridwidth\":2},\"yaxis\":{\"backgroundcolor\":\"#E5ECF6\",\"gridcolor\":\"white\",\"linecolor\":\"white\",\"showbackground\":true,\"ticks\":\"\",\"zerolinecolor\":\"white\",\"gridwidth\":2},\"zaxis\":{\"backgroundcolor\":\"#E5ECF6\",\"gridcolor\":\"white\",\"linecolor\":\"white\",\"showbackground\":true,\"ticks\":\"\",\"zerolinecolor\":\"white\",\"gridwidth\":2}},\"shapedefaults\":{\"line\":{\"color\":\"#2a3f5f\"}},\"annotationdefaults\":{\"arrowcolor\":\"#2a3f5f\",\"arrowhead\":0,\"arrowwidth\":1},\"geo\":{\"bgcolor\":\"white\",\"landcolor\":\"#E5ECF6\",\"subunitcolor\":\"white\",\"showland\":true,\"showlakes\":true,\"lakecolor\":\"white\"},\"title\":{\"x\":0.05},\"mapbox\":{\"style\":\"light\"}}},\"xaxis\":{\"title\":{\"text\":\"sport level\"},\"categoryorder\":\"array\",\"categoryarray\":[\"No Sports\",\"1-3 times\",\"4-6 times\",\"7+ times\"]},\"title\":{\"text\":\"Stress en Sportgewoontes\"},\"yaxis\":{\"title\":{\"text\":\"stress\"}}},                        {\"responsive\": true}                    ).then(function(){\n",
       "                            \n",
       "var gd = document.getElementById('25c2935e-7877-4650-89b0-3825c4c74bc7');\n",
       "var x = new MutationObserver(function (mutations, observer) {{\n",
       "        var display = window.getComputedStyle(gd).display;\n",
       "        if (!display || display === 'none') {{\n",
       "            console.log([gd, 'removed!']);\n",
       "            Plotly.purge(gd);\n",
       "            observer.disconnect();\n",
       "        }}\n",
       "}});\n",
       "\n",
       "// Listen for the removal of the full notebook cells\n",
       "var notebookContainer = gd.closest('#notebook-container');\n",
       "if (notebookContainer) {{\n",
       "    x.observe(notebookContainer, {childList: true});\n",
       "}}\n",
       "\n",
       "// Listen for the clearing of the current output cell\n",
       "var outputEl = gd.closest('.output');\n",
       "if (outputEl) {{\n",
       "    x.observe(outputEl, {childList: true});\n",
       "}}\n",
       "\n",
       "                        })                };            </script>        </div>"
      ]
     },
     "metadata": {},
     "output_type": "display_data"
    }
   ],
   "source": [
    "import kagglehub\n",
    "import pandas as pd\n",
    "import os\n",
    "import plotly.express as px\n",
    "import plotly.graph_objs as go\n",
    "from plotly.offline import init_notebook_mode\n",
    "init_notebook_mode(connected=True)\n",
    "# Download latest version\n",
    "path = kagglehub.dataset_download(\"abdullahashfaqvirk/student-mental-health-survey\")\n",
    "\n",
    "# print(\"Path to dataset files:\", path)\n",
    "\n",
    "csv_path = os.path.join(path, \"MentalHealthSurvey.csv\") \n",
    "df = pd.read_csv(csv_path)\n",
    "# print(df.head(n=5))\n",
    "\n",
    "df['sports_engagement'] = pd.Categorical(\n",
    "    df['sports_engagement'],\n",
    "    categories=['No Sports','1-3 times', '4-6 times', '7+ times'],\n",
    "    ordered=True\n",
    ")\n",
    "depressie_level = df['depression']\n",
    "stress_level = df['anxiety']\n",
    "slaap_level = df['average_sleep']\n",
    "isolatie = df['isolation']\n",
    "\n",
    "fig = go.Figure()\n",
    "\n",
    "fig.add_trace(go.Box(\n",
    "    x=df['sports_engagement'],\n",
    "    y=stress_level\n",
    "))\n",
    "fig.update_layout(\n",
    "    title = 'Stress en Sportgewoontes',\n",
    "    xaxis_title = 'sport level',\n",
    "    yaxis_title = 'stress',\n",
    "    xaxis=dict(\n",
    "        categoryorder='array',\n",
    "        categoryarray=['No Sports', '1-3 times', '4-6 times', '7+ times']\n",
    "    )\n",
    ")\n",
    "\n",
    "fig.show()\n",
    "\n"
   ]
  },
  {
   "cell_type": "code",
   "execution_count": null,
   "id": "494e2b19",
   "metadata": {},
   "outputs": [],
   "source": []
  }
 ],
 "metadata": {
  "kernelspec": {
   "display_name": "base",
   "language": "python",
   "name": "python3"
  },
  "language_info": {
   "codemirror_mode": {
    "name": "ipython",
    "version": 3
   },
   "file_extension": ".py",
   "mimetype": "text/x-python",
   "name": "python",
   "nbconvert_exporter": "python",
   "pygments_lexer": "ipython3",
   "version": "3.11.5"
  }
 },
 "nbformat": 4,
 "nbformat_minor": 5
}
