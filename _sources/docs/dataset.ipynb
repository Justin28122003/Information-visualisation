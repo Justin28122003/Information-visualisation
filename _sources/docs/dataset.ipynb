{
 "cells": [
  {
   "cell_type": "markdown",
   "id": "8d0719af",
   "metadata": {},
   "source": [
    "# Dataset\n",
    "Voor de datasets zijn er verschillende datasets gezocht. Uiteindelijk concludeerden we dat er veel uiteenlopende datasets bestaan over dit onderwerp. Veel daarvan richten zich op één specifiek aspect dat correleert met mentale gezondheid. Om toch een antwoord op onze onderzoeksvraag te kunnen geven, hebben we ervoor gekozen om meerdere datasets te gebruiken. Omdat veel openbaar beschikbare datasets zich richten op slechts één aspect van mentale gezondheid zoals slaap, stress of digitaal gedrag, hebben we ervoor gekozen om meerdere datasets in onze analyse te betrekken. Naast de Stack Overflow-dataset gebruikten we ook enquêtegegevens van wereldwijde gebruikers van het IHME om meer te weten te komen over mentale gezondheid wereldwijd.\n",
    "\n",
    "De volgende datasets zijn gebruikt.\n",
    "\n",
    "### Mental Health Survey\n",
    "Bestandsnaam: MentalHealthSurvey.csv\n",
    "\n",
    "De dataset Student Mental Health Survey is afkomstig van een open dataset die beschikbaar is gesteld via [Kaggle](https://www.kaggle.com/datasets/abdullahashfaqvirk/student-mental-health-survey) door gebruiker Abdullah Ashfaq Virk. De dataset bevat resultaten van een enquête onder studenten waarin diverse factoren rond mentaal welzijn worden onderzocht, zoals studiebelasting, financiële zorgen, sociale relaties, woonsituatie en stressverlichtende activiteiten. De antwoorden zijn gekoppeld aan zelfgerapporteerde scores op onder andere depressie, angst en gevoelens van isolatie. Dankzij de combinatie van contextuele, academische en psychologische variabelen is deze dataset goed geschikt voor analyses van mentale gezondheid in relatie tot de leef- en leeromgeving van studenten (Ashfaq Virk, 2022).\n",
    "\n",
    "### Students Social Media Addiction\n",
    "Bestandsnaam: Students Social Media Addiction.csv\n",
    "\n",
    "De dataset Mental Health Survey is afkomstig van een online onderzoeksproject dat als open dataset beschikbaar is gesteld via [Kaggle](https://www.kaggle.com/datasets/pratyushpuri/students-social-media-addiction). Het betreft een kleinschalige enquête onder studenten waarin uiteenlopende factoren zoals academische druk, discriminatie op de campus, sociale relaties en copingmechanismen worden bevraagd. Deze factoren zijn vervolgens gerelateerd aan zelfgerapporteerde gevoelens van depressie, angst en onzekerheid over de toekomst. De combinatie van sociaal-demografische kenmerken, gedragingen en mentale gezondheidsuitkomsten maakt deze dataset waardevol voor het analyseren van samenhangen tussen omgevingsfactoren en mentaal welzijn bij studenten.\n",
    "\n",
    "### IHME Mental Health Global Data\n",
    "Bestandsnaam: IHME_mental_real.csv\n",
    "\n",
    "De dataset van het  Institute for Health Metrics and Evaluation is een dataset van de GBD (Global Burden of Disease) studie uit 2021. Deze studie is het grootste en meest uitgebreide onderzoek om gezondheidsverlies op verschillende plaatsen en in de loop van de tijd te kwantificeren. Zo vormt de gevonden data een krachtig middel om inzichten te creëren voor inzichten omtrent globale gezondheidstrends en -uitdagingen (Global Burden of Disease (GBD), n.d.). De dataset is gevonden via [IHME Mental Health Global Data](https://vizhub.healthdata.org/gbd-results/) , waar de data gefilterd is op de prevalentie van mentale stoornissen, waarin verschillende seksen en verschillende statistische uitdrukkingen meegenomen zijn, waaronder de ‘rate’, die omschrijft hoeveel mensen op de 1000 naar schatting een mentale stoornis hebben en de schatting van het landelijk percentage van deze prevalentie van mentale stoornissen."
   ]
  },
  {
   "cell_type": "markdown",
   "id": "681ed2fb",
   "metadata": {},
   "source": [
    "## Variabelen omschrijving\n",
    "\n",
    "### Mental Health Survey\n",
    "\n",
    "- **Ratio variabelen**:  \n",
    "  `age`, `study_satisfaction`, `academic_workload`, `academic_pressure`, `financial_concerns`, `social_relationships`, `depression`, `anxiety`, `isolation`, `future_insecurity`\n",
    "\n",
    "- **Ordinale variabelen**:  \n",
    "  `cgpa`, `academic_year`\n",
    "\n",
    "- **Nominale variabelen**:  \n",
    "  `gender`, `university`, `degree_level`, `degree_major`, `residential_status`, `campus_discrimination`, `sports_engagement`, `stress_relief_activities`\n",
    "\n",
    "### Social Media Addiction\n",
    "\n",
    "  - **Ratio variabelen**:  \n",
    "  `Age`, `Avg_Daily_Usage_Hours`, `Sleep_Hours_Per_Night`, `Mental_Health_Score`, `Addicted_Score`\n",
    "\n",
    "- **Nominale variabelen**:  \n",
    "  `Gender`, `Academic_Level`, `Country`, `Most_Used_Platform`, `Affects_Academic_Performance`, `Relationship_Status`\n",
    "\n",
    "- **Ordinale variabelen**:  \n",
    "  `Conflicts_Over_Social_Media`\n",
    "\n",
    "###  IHME Mental Health \n",
    "\n",
    "- **Ratio variabelen**:  \n",
    "  `val`, `upper`, `lower`  \n",
    "\n",
    "- **Nominale variabelen**:  \n",
    "  `measure`, `location`, `sex`, `age`, `cause`, `metric`  \n",
    "\n",
    "- **Ordinale variabelen**:  \n",
    "  `year`   "
   ]
  },
  {
   "cell_type": "markdown",
   "id": "3c3abc91",
   "metadata": {},
   "source": [
    "## Referenties\n",
    "\n",
    "\n",
    "Ergün, N., Özkan, Z., & Griffiths, M. D. (2023). Social Media Addiction and Poor Mental Health: Examining the mediating roles of internet addiction and phubbing. Psychological Reports. https://doi.org/10.1177/00332941231166609 \n",
    "\n",
    "Global Burden of Disease (GBD). (n.d.). Institute for Health Metrics and Evaluation. https://www.healthdata.org/research-analysis/gbd\n",
    "\n",
    "Huang, C. (2017). Time spent on social network sites and Psychological Well-Being: A Meta-Analysis. Cyberpsychology Behavior and Social Networking, 20(6), 346–354. https://doi.org/10.1089/cyber.2016.0758\n",
    "\n",
    "NOS Nieuws & NOS Nieuws. (2025, June 16). Kabinet: geen sociale media onder 15 jaar, smartphone vanaf groep 8. NOS. https://nos.nl/artikel/2571382-kabinet-geen-sociale-media-onder-15-jaar-smartphone-vanaf-groep-8"
   ]
  }
 ],
 "metadata": {
  "language_info": {
   "name": "python"
  }
 },
 "nbformat": 4,
 "nbformat_minor": 5
}
