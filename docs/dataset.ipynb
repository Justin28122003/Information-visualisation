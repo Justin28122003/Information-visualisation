{
 "cells": [
  {
   "cell_type": "markdown",
   "id": "8d0719af",
   "metadata": {},
   "source": [
    "# Dataset\n"
   ]
  },
  {
   "cell_type": "markdown",
   "id": "681ed2fb",
   "metadata": {},
   "source": [
    "## Variabelen omschrijving\n",
    "\n",
    "#### Ratio-variabelen: \n",
    "- Age: Leeftijd van respondent\n",
    "- Depression: Score op depressieschaal\n",
    "- Academic_pressure: Ervaren druk door academische verplichtingen\n",
    "- Financial_concerns: Ervaren financiële zorgen\n",
    "- Relationship_issues: Problemen in persoonlijke relaties\n",
    "- Sleep_quality: Waardering van slaapkwaliteit\n",
    "\n",
    "#### Ordinale-variabelen: \n",
    "- Mental_health_effect: Hoeveel invloed mentale gezondheid heeft op het dagelijks functioneren\n",
    "- Academic_performance: Beoordeling van academische prestaties\n",
    "\n",
    "#### Nominale-variabelen: \n",
    "- Gender: Geslacht van de student\n",
    "- University_support: Vindt dat de universiteit voldoende ondersteuning biedt (ja / nee)\n",
    "- Social_activity: Deelname aan sociale activiteiten (ja / nee)"
   ]
  },
  {
   "cell_type": "markdown",
   "id": "3c3abc91",
   "metadata": {},
   "source": [
    "## Referenties\n",
    "\n",
    "\n",
    "Ergün, N., Özkan, Z., & Griffiths, M. D. (2023). Social Media Addiction and Poor Mental Health: Examining the mediating roles of internet addiction and phubbing. Psychological Reports. https://doi.org/10.1177/00332941231166609 \n",
    "\n",
    "Global Burden of Disease (GBD). (n.d.). Institute for Health Metrics and Evaluation. https://www.healthdata.org/research-analysis/gbd\n",
    "\n",
    "Huang, C. (2017). Time spent on social network sites and Psychological Well-Being: A Meta-Analysis. Cyberpsychology Behavior and Social Networking, 20(6), 346–354. https://doi.org/10.1089/cyber.2016.0758\n",
    "\n",
    "NOS Nieuws & NOS Nieuws. (2025, June 16). Kabinet: geen sociale media onder 15 jaar, smartphone vanaf groep 8. NOS. https://nos.nl/artikel/2571382-kabinet-geen-sociale-media-onder-15-jaar-smartphone-vanaf-groep-8"
   ]
  }
 ],
 "metadata": {
  "language_info": {
   "name": "python"
  }
 },
 "nbformat": 4,
 "nbformat_minor": 5
}
