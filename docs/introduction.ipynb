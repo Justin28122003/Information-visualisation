{
 "cells": [
  {
   "cell_type": "markdown",
   "id": "998aedbc",
   "metadata": {},
   "source": [
    "# Introduction"
   ]
  },
  {
   "cell_type": "markdown",
   "id": "99c2e38d",
   "metadata": {},
   "source": [
    "- Douwe Maljers (15264424)\n",
    "- Justin van Egmond (15011178)\n",
    "- Noor Verbrugge (15168298)"
   ]
  },
  {
   "cell_type": "markdown",
   "id": "317435ef",
   "metadata": {},
   "source": [
    "Mentale gezondheid onder studenten is de afgelopen jaren een groeiend maatschappelijk thema geworden. De combinatie van allemaal verschillende omstandigheden, zoals prestatiedruk, sociale verwachtingen en onzekerheid over de toekomst maakt deze groep bijzonder kwetsbaar. In deze data-analyse richten we ons op het identificeren van factoren die samenhangen met mentale gezondheid, met als doel het onthullen van mogelijke risico’s en beschermende factoren binnen het studentenleven.\n",
    "\n",
    "Op basis van enquêtegegevens van studenten wereldwijd, verkennen we de verbanden tussen mentale gezondheid en verschillende leefomstandigheden, gedragingen en gevoelens. Daarbij kijken we naar zowel interne als externe factoren die het welzijn kunnen beïnvloeden. De persectieven waaruit wij naar de mentale gezondheid gaan kijken zijn, social media gebruik, slaap, sport gewoonten ....\n",
    "\n",
    "Wereldwijd is de populatie met mentale stoornissen significant gestegen. In de grafiek boven is per land de trend te zien. Vandaar dat dit onderzoek nog meer van belang is. Vrouwen en mannen zijn beide slachtoffer van deze chronische ziekte. \n",
    "\n",
    "In dit onderzoek worden meerdere standpunten onderbouwd aan de hand van data visualisaties, specifiek gericht op de invloeden op metale gezondheid onder studenten. Dit wordt gedaan met behulp van verschillende datasets van diverse groepen studenten. Tevens wordt een dataset van het Institute for Health Metrics and Evaluation gebruikt om de grootschaligheid van het wereldwijde probleem van mentale stoornissen en verminderde mentale gesteldheid in kaart te brengen."
   ]
  },
  {
   "cell_type": "code",
   "execution_count": 2,
   "id": "0b6219e6",
   "metadata": {
    "tags": [
     "hide-input"
    ]
   },
   "outputs": [
    {
     "ename": "ModuleNotFoundError",
     "evalue": "No module named 'pycountry'",
     "output_type": "error",
     "traceback": [
      "\u001b[31m---------------------------------------------------------------------------\u001b[39m",
      "\u001b[31mModuleNotFoundError\u001b[39m                       Traceback (most recent call last)",
      "\u001b[36mCell\u001b[39m\u001b[36m \u001b[39m\u001b[32mIn[2]\u001b[39m\u001b[32m, line 5\u001b[39m\n\u001b[32m      3\u001b[39m \u001b[38;5;28;01mfrom\u001b[39;00m\u001b[38;5;250m \u001b[39m\u001b[34;01mipywidgets\u001b[39;00m\u001b[38;5;250m \u001b[39m\u001b[38;5;28;01mimport\u001b[39;00m Dropdown, SelectionSlider, Layout, HBox, VBox, interactive_output\n\u001b[32m      4\u001b[39m \u001b[38;5;28;01mfrom\u001b[39;00m\u001b[38;5;250m \u001b[39m\u001b[34;01mIPython\u001b[39;00m\u001b[34;01m.\u001b[39;00m\u001b[34;01mdisplay\u001b[39;00m\u001b[38;5;250m \u001b[39m\u001b[38;5;28;01mimport\u001b[39;00m display, HTML\n\u001b[32m----> \u001b[39m\u001b[32m5\u001b[39m \u001b[38;5;28;01mimport\u001b[39;00m\u001b[38;5;250m \u001b[39m\u001b[34;01mpycountry\u001b[39;00m\n\u001b[32m      7\u001b[39m \u001b[38;5;66;03m# === Data inladen ===\u001b[39;00m\n\u001b[32m      8\u001b[39m csv_path = \u001b[33m\"\u001b[39m\u001b[33mdatasets/IHME_mental_real.csv\u001b[39m\u001b[33m\"\u001b[39m\n",
      "\u001b[31mModuleNotFoundError\u001b[39m: No module named 'pycountry'"
     ]
    }
   ],
   "source": [
    "import pandas as pd\n",
    "import plotly.express as px\n",
    "from ipywidgets import Dropdown, SelectionSlider, Layout, HBox, VBox, interactive_output\n",
    "from IPython.display import display, HTML\n",
    "import pycountry\n",
    "\n",
    "# === Data inladen ===\n",
    "csv_path = \"datasets/IHME_mental_real.csv\"\n",
    "df2 = pd.read_csv(csv_path)\n",
    "\n",
    "# === Landen omzetten naar ISO3-codes ===\n",
    "def get_iso3(name):\n",
    "    try:\n",
    "        return pycountry.countries.lookup(name).alpha_3\n",
    "    except LookupError:\n",
    "        return None\n",
    "\n",
    "df2[\"Country\"] = df2[\"location\"].apply(get_iso3)\n",
    "\n",
    "df2[\"val_display\"] = df2[\"val\"]\n",
    "df2.loc[df2[\"metric\"] == \"Percent\", \"val_display\"] *= 100\n",
    "\n",
    "# === Vaste schaal voor percentages ===\n",
    "percent_max = df2.loc[df2[\"metric\"] == \"Percent\", \"val_display\"].max()\n",
    "\n",
    "year = 2015\n",
    "sex = 'Both'\n",
    "metric = 'Rate'\n",
    "\n",
    "dff = df2[(df2[\"year\"] == year) & (df2[\"sex\"] == sex) & (df2[\"metric\"] == metric)]\n",
    "if dff.empty:\n",
    "    print(\"Geen data beschikbaar voor deze selectie.\")\n",
    "\n",
    "if metric == \"Percent\":\n",
    "    color_range = [0, percent_max]\n",
    "else:\n",
    "    color_range = [df2[\"val_display\"].min(), df2[\"val_display\"].max()]\n",
    "\n",
    "fig = px.choropleth(\n",
    "    dff,\n",
    "    locations=\"Country\",\n",
    "    color=\"val_display\",\n",
    "    hover_name=\"location\",\n",
    "    color_continuous_scale=\"Reds\",\n",
    "    range_color=color_range,\n",
    "    labels={\"val_display\": f\"Prevalentie ({metric})\"},\n",
    "    title=f\"Mental Disorders – {sex} – {metric} – {year}\",\n",
    "    width=1100,\n",
    "    height=650\n",
    ")\n",
    "fig.update_layout(\n",
    "    geo=dict(\n",
    "        showframe=False,\n",
    "        showcoastlines=True,\n",
    "        projection_type=\"natural earth\"\n",
    "    ),\n",
    "    margin=dict(l=0, r=0, t=50, b=0)\n",
    ")\n",
    "fig.show()"
   ]
  },
  {
   "cell_type": "code",
   "execution_count": null,
   "id": "47a30911",
   "metadata": {},
   "outputs": [],
   "source": []
  }
 ],
 "metadata": {
  "kernelspec": {
   "display_name": "Python 3",
   "language": "python",
   "name": "python3"
  },
  "language_info": {
   "codemirror_mode": {
    "name": "ipython",
    "version": 3
   },
   "file_extension": ".py",
   "mimetype": "text/x-python",
   "name": "python",
   "nbconvert_exporter": "python",
   "pygments_lexer": "ipython3",
   "version": "3.11.13"
  }
 },
 "nbformat": 4,
 "nbformat_minor": 5
}
