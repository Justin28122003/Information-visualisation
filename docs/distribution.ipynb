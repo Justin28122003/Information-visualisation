{
 "cells": [
  {
   "cell_type": "markdown",
   "id": "b6219ae1",
   "metadata": {},
   "source": [
    "# Distribution\n",
    "\n"
   ]
  },
  {
   "cell_type": "markdown",
   "id": "7244c5a8",
   "metadata": {},
   "source": [
    "Hier komt per naam te staan wat ze allemaal hebben uitgevoerd"
   ]
  }
 ],
 "metadata": {
  "language_info": {
   "name": "python"
  }
 },
 "nbformat": 4,
 "nbformat_minor": 5
}
