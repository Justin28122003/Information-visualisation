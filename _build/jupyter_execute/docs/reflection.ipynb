{
 "cells": [
  {
   "cell_type": "markdown",
   "id": "891192ff",
   "metadata": {},
   "source": [
    "# Reflection\n",
    "\n"
   ]
  },
  {
   "cell_type": "markdown",
   "id": "5543e1d1",
   "metadata": {},
   "source": [
    "hier moet iets te komen staan over hoe het ging"
   ]
  }
 ],
 "metadata": {
  "language_info": {
   "codemirror_mode": {
    "name": "ipython",
    "version": 3
   },
   "file_extension": ".py",
   "mimetype": "text/x-python",
   "name": "python",
   "nbconvert_exporter": "python",
   "pygments_lexer": "ipython3",
   "version": "3.10.16"
  }
 },
 "nbformat": 4,
 "nbformat_minor": 5
}