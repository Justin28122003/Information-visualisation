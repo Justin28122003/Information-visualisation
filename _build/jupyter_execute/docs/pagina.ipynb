{
 "cells": [
  {
   "cell_type": "markdown",
   "id": "64ff58a4",
   "metadata": {},
   "source": [
    "# Mentale Gezondheid\n",
    "\n",
    "Student names: Justin van Egmond, Noor Verbrugge & Douwe Maljers\n",
    "\n",
    "Team number: 32"
   ]
  },
  {
   "cell_type": "markdown",
   "id": "bb03ae5f",
   "metadata": {},
   "source": [
    "## Beïnvloedende Factoren Op Mentale Gezondheid"
   ]
  },
  {
   "cell_type": "markdown",
   "id": "c0ce9732",
   "metadata": {},
   "source": [
    "Sociale media is niet meer weg te denken uit vrijwel ieders leven, maar dit is met name het geval voor jongeren en studenten. Het is een nieuwe norm geworden, om online actief te zijn en onderdelen je leven online te delen. Voorheen was contact iets, wat louter in de fysieke wereld mogelijk was, maar sociale media heeft op dit gebied een revolutie teweeggebracht die door sommigen als problematisch beschouwd wordt (NOS, 2025). Iedereen is met een druk op de knop bereikbaar. Dit geeft op zijn beurt weer een druk op mensen om ook altijd bereikbaar te zijn, voor iemand die contact wil leggen. Sommigen zijn van mening, dat deze tijdbesteding verloren tijd is, die eigenlijk in andere dingen gestopt zou moeten worden. Naast de andere invulling van tijdsbesteding onder de nieuwere generaties, bestaat de consensus dat sociale media gebruik nog veel meer invloeden. Aan de hand van de onderzochte datasets zijn mogelijke invloeden hiervan in kaart gebracht in FIGUUR ?.\n",
    "\n",
    "Hun aandacht, focus en behoeftes worden geschoven, wat zorgt voor een verschuiving in prioriteiten. Een argument daarbij is dan ook dat het gebruik van sociale media diversie problemen veroorzaakt, zoals slechter presteren op school, slaapproblemen en internetverslaving.\n",
    "\n",
    "De mentale gezondheid van studenten is drastisch verslechterd sinds de coronapandemie. Dit is extra zorgelijk, aangezien de WHO in 2017 studenten al bestempelde als een groep met een hogere prevalentie van verminderde mentale gezondheid dan de rest van de bevolking (Zarowski et al., 2024). Het is van enorm belang voor het slagen van deze generatie in het werkveld, dat mogelijke verklaringen van verminderde mentale gesteldheid in kaart worden gebracht, om de maatschappij in de toekomst op de been te houden en deze beter te kunnen behoeden tegen dergelijke mentale problematiek. In figuur 2? worden, aan de hand van onderzochte data, factoren getoond die op het oog invloed hebben op de depressiescore van studenten."
   ]
  },
  {
   "cell_type": "code",
   "execution_count": 1,
   "id": "3d38d2fc",
   "metadata": {
    "tags": [
     "hide-input"
    ]
   },
   "outputs": [
    {
     "ename": "ModuleNotFoundError",
     "evalue": "No module named 'sklearn'",
     "output_type": "error",
     "traceback": [
      "\u001b[31m---------------------------------------------------------------------------\u001b[39m",
      "\u001b[31mModuleNotFoundError\u001b[39m                       Traceback (most recent call last)",
      "\u001b[36mCell\u001b[39m\u001b[36m \u001b[39m\u001b[32mIn[1]\u001b[39m\u001b[32m, line 5\u001b[39m\n\u001b[32m      3\u001b[39m \u001b[38;5;28;01mimport\u001b[39;00m\u001b[38;5;250m \u001b[39m\u001b[34;01mmatplotlib\u001b[39;00m\u001b[34;01m.\u001b[39;00m\u001b[34;01mpyplot\u001b[39;00m\u001b[38;5;250m \u001b[39m\u001b[38;5;28;01mas\u001b[39;00m\u001b[38;5;250m \u001b[39m\u001b[34;01mplt\u001b[39;00m\n\u001b[32m      4\u001b[39m \u001b[38;5;28;01mimport\u001b[39;00m\u001b[38;5;250m \u001b[39m\u001b[34;01mmatplotlib\u001b[39;00m\u001b[34;01m.\u001b[39;00m\u001b[34;01mcolors\u001b[39;00m\u001b[38;5;250m \u001b[39m\u001b[38;5;28;01mas\u001b[39;00m\u001b[38;5;250m \u001b[39m\u001b[34;01mmcolors\u001b[39;00m\n\u001b[32m----> \u001b[39m\u001b[32m5\u001b[39m \u001b[38;5;28;01mfrom\u001b[39;00m\u001b[38;5;250m \u001b[39m\u001b[34;01msklearn\u001b[39;00m\u001b[34;01m.\u001b[39;00m\u001b[34;01mlinear_model\u001b[39;00m\u001b[38;5;250m \u001b[39m\u001b[38;5;28;01mimport\u001b[39;00m LinearRegression\n\u001b[32m      6\u001b[39m \u001b[38;5;28;01mfrom\u001b[39;00m\u001b[38;5;250m \u001b[39m\u001b[34;01msklearn\u001b[39;00m\u001b[34;01m.\u001b[39;00m\u001b[34;01mpreprocessing\u001b[39;00m\u001b[38;5;250m \u001b[39m\u001b[38;5;28;01mimport\u001b[39;00m StandardScaler\n\u001b[32m      7\u001b[39m \u001b[38;5;28;01mfrom\u001b[39;00m\u001b[38;5;250m \u001b[39m\u001b[34;01mplotly\u001b[39;00m\u001b[34;01m.\u001b[39;00m\u001b[34;01moffline\u001b[39;00m\u001b[38;5;250m \u001b[39m\u001b[38;5;28;01mimport\u001b[39;00m init_notebook_mode\n",
      "\u001b[31mModuleNotFoundError\u001b[39m: No module named 'sklearn'"
     ]
    }
   ],
   "source": [
    "import pandas as pd\n",
    "import seaborn as sns\n",
    "import matplotlib.pyplot as plt\n",
    "import matplotlib.colors as mcolors\n",
    "from sklearn.linear_model import LinearRegression\n",
    "from sklearn.preprocessing import StandardScaler\n",
    "from plotly.offline import init_notebook_mode\n",
    "init_notebook_mode(connected=True)\n",
    "\n",
    "# Dataset inladen\n",
    "da = pd.read_csv(\"datasets/MentalHealthSurvey.csv\")\n",
    "\n",
    "# Kolomnamen toevoegen\n",
    "da.columns = [\n",
    "    'gender', 'age', 'university', 'degree_level', 'degree_major', 'academic_year',\n",
    "    'cgpa', 'residential_status', 'campus_discrimination', 'sports_engagement',\n",
    "    'average_sleep', 'study_satisfaction', 'academic_workload', 'academic_pressure',\n",
    "    'financial_concerns', 'social_relationships', 'depression', 'anxiety',\n",
    "    'isolation', 'future_insecurity', 'stress_relief_activities'\n",
    "]\n",
    "\n",
    "# CGPA converteren\n",
    "def convert_cgpa(value):\n",
    "    if isinstance(value, str) and \"-\" in value:\n",
    "        try:\n",
    "            low, high = value.split(\"-\")\n",
    "            return (float(low) + float(high)) / 2\n",
    "        except:\n",
    "            return None\n",
    "    try:\n",
    "        return float(value)\n",
    "    except:\n",
    "        return None\n",
    "\n",
    "da['cgpa'] = da['cgpa'].apply(convert_cgpa)\n",
    "\n",
    "# 💤 Slaapduur converteren\n",
    "def convert_sleep(value):\n",
    "    if isinstance(value, str) and \"-\" in value:\n",
    "        try:\n",
    "            nums = [int(s.replace(\"hrs\", \"\").strip()) for s in value.split(\"-\")]\n",
    "            return sum(nums) / len(nums)\n",
    "        except:\n",
    "            return None\n",
    "    try:\n",
    "        return float(value)\n",
    "    except:\n",
    "        return None\n",
    "\n",
    "da['average_sleep'] = da['average_sleep'].apply(convert_sleep)\n",
    "\n",
    "# Variabelen en doelvariabele\n",
    "features = [\n",
    "    'academic_workload',\n",
    "    'academic_pressure',\n",
    "    'financial_concerns',\n",
    "    'study_satisfaction',\n",
    "    'social_relationships',\n",
    "    'average_sleep'\n",
    "]\n",
    "target = 'depression'\n",
    "\n",
    "# Data voorbereiden\n",
    "reg_df = da[features + [target]].dropna().astype(float)\n",
    "X = reg_df[features]\n",
    "y = reg_df[target]\n",
    "\n",
    "# Standaardiseren\n",
    "scaler = StandardScaler()\n",
    "X_scaled = scaler.fit_transform(X)\n",
    "\n",
    "# Regressie\n",
    "model = LinearRegression()\n",
    "model.fit(X_scaled, y)\n",
    "\n",
    "# Coëfficiënten berekenen\n",
    "coefs = pd.Series(model.coef_, index=features).sort_values()\n",
    "\n",
    "# Labels leesbaar maken\n",
    "rename_map = {\n",
    "    'academic_workload': 'Studielast',\n",
    "    'academic_pressure': 'Academische druk',\n",
    "    'financial_concerns': 'Financiële zorgen',\n",
    "    'study_satisfaction': 'Tevredenheid over studie',\n",
    "    'social_relationships': 'Sociale relaties',\n",
    "    'average_sleep': 'Gemiddelde slaapduur'\n",
    "}\n",
    "coefs.index = coefs.index.map(rename_map)\n",
    "\n",
    "# DataFrame voor plot\n",
    "bar_df = pd.DataFrame({\n",
    "    \"Variabele\": coefs.index,\n",
    "    \"Waarde\": coefs.values\n",
    "})\n",
    "\n",
    "# Kleurgradient berekenen (coolwarm met wit rond 0)\n",
    "norm = mcolors.TwoSlopeNorm(\n",
    "    vmin=bar_df[\"Waarde\"].min(),\n",
    "    vcenter=0,\n",
    "    vmax=bar_df[\"Waarde\"].max()\n",
    ")\n",
    "cmap = plt.colormaps['coolwarm']\n",
    "kleuren = [mcolors.to_hex(cmap(norm(w))) for w in bar_df[\"Waarde\"]]\n",
    "\n",
    "# Plotten zonder palette of hue\n",
    "fig, ax = plt.subplots(figsize=(10, 6))\n",
    "bars = sns.barplot(\n",
    "    data=bar_df,\n",
    "    x=\"Waarde\",\n",
    "    y=\"Variabele\",\n",
    "    orient=\"h\",\n",
    "    ax=ax\n",
    ")\n",
    "\n",
    "# Kleuren toepassen per balk\n",
    "for bar, kleur in zip(bars.patches, kleuren):\n",
    "    bar.set_color(kleur)\n",
    "\n",
    "# Styling\n",
    "ax.axvline(0, color='black', linestyle='--')\n",
    "ax.set_title(\"Effect van verklarende factoren op depressiescore\")\n",
    "ax.set_xlabel(\"Standaardiseerde regressiecoëfficiënt\")\n",
    "ax.set_ylabel(\"Factoren\")\n",
    "fig.tight_layout()\n",
    "plt.show()\n",
    "\n"
   ]
  },
  {
   "cell_type": "markdown",
   "id": "7304b686",
   "metadata": {},
   "source": [
    "> *Figuur 2: De correlatie tussen verschillende factoren op de mentale gezondheid van studenten.*"
   ]
  },
  {
   "cell_type": "markdown",
   "id": "e71ab38e",
   "metadata": {},
   "source": [
    "Figuur 2 toont het een staafdiagram met de gestandaardiseerde regressiecoëfficiënten van zes factoren die mogelijk verband houden met de depressiescore van studenten. De x-as geeft de sterkte en richting van het effect weer, negatieve waarden hebben een negatieve relatie met de depressiescore, wat betekent dat een toename van deze variabele lijdt tot een afname van de depressiescore. Anderzijds beïnvloeden positieve waarden deze score positief, wat duidt op een toename van de depressiescore, naarmate de variabele toene. De y-as zet de onderzochte factoren uiteen. Sociale relaties lijken het sterkst samen te hangen met een lage depressiescore, deze variabele omschrijft de mate waarin studenten sociale verbinding vinden aan de universiteit en zich gezien en gehoord voelen. Daarnaast is er ook een sterk verband tussen de tevredenheid over studie en een verminderde depressiescore. Waardering van studie lijkt dus samen te hangen met een lagere depressiescore. Aan de andere kant hebben een hoge studielast, het ondervinden van academische druk, en met name financiële zorgen een positieve relatie met de depressiescore. Naarmate men meer studielast en academische druk ervaart, variabelen die hoge onderlinge correlatie hebben, neemt de depressiescore toe. Een langere gemiddelde slaapduur lijkt hier ook samen te hangen met een kleine toename van de depressiescore, iets wat tegenintuïtief lijkt en ook de literatuur tegenspreekt. Een gezond slaappatroon wordt vaak geassocieerd met verbetering van mentale gezondheid. Echter, is er bij teveel slaap geen sprake van een gezond slaappatroon, wat een mogelijke verklaring kan zijn voor dit gevonden verband (Lee et al., 2024)."
   ]
  },
  {
   "cell_type": "markdown",
   "id": "e3c35ee9",
   "metadata": {},
   "source": [
    "### Slaapgedrag"
   ]
  },
  {
   "cell_type": "markdown",
   "id": "199d1b08",
   "metadata": {},
   "source": [
    "Hoewel in Figuur 2 een langere gemiddelde slaapduur samenhangt met een lichte toename van de depressiescore, is het belangrijk om dit resultaat in perspectief te plaatsen. In Figuur 3 wordt, op basis van een andere dataset, een duidelijk positief verband aangetoond tussen het aantal uren slaap en mentale gezondheid: naarmate studenten meer slapen , neemt hun mentale welzijn toe. Dit bevestigt bevindingen uit bestaande literatuur waarin voldoende slaap consequent wordt gekoppeld aan betere mentale gezondheid (Lee et al., 2024). De schijnbare tegenstelling met Figuur 2 kan mogelijk worden verklaard door het verschil tussen gezond veel slapen en overmatig slapen, waarbij het laatste vaak een symptoom is van onderliggende psychische (Dauvilliers et al., 2013)."
   ]
  },
  {
   "cell_type": "code",
   "execution_count": 20,
   "id": "b1b7f363",
   "metadata": {
    "tags": [
     "hide-input"
    ]
   },
   "outputs": [
    {
     "data": {
      "text/html": [
       "        <script type=\"text/javascript\">\n",
       "        window.PlotlyConfig = {MathJaxConfig: 'local'};\n",
       "        if (window.MathJax && window.MathJax.Hub && window.MathJax.Hub.Config) {window.MathJax.Hub.Config({SVG: {font: \"STIX-Web\"}});}\n",
       "        </script>\n",
       "        <script type=\"module\">import \"https://cdn.plot.ly/plotly-3.0.1.min\"</script>\n",
       "        "
      ]
     },
     "metadata": {},
     "output_type": "display_data"
    },
    {
     "data": {
      "application/vnd.plotly.v1+json": {
       "config": {
        "plotlyServerURL": "https://plot.ly"
       },
       "data": [
        {
         "line": {
          "color": "blue",
          "width": 3
         },
         "mode": "lines+markers",
         "name": "Male",
         "type": "scatter",
         "visible": true,
         "x": {
          "bdata": "ZmZmZmZmEEAzMzMzMzMRQAAAAAAAABJAzczMzMzMEkAzMzMzMzMTQJqZmZmZmRNAAAAAAAAAFEBmZmZmZmYUQM3MzMzMzBRAMzMzMzMzFUCamZmZmZkVQAAAAAAAABZAZmZmZmZmFkDNzMzMzMwWQDMzMzMzMxdAmpmZmZmZF0AAAAAAAAAYQGZmZmZmZhhAzczMzMzMGEAzMzMzMzMZQJqZmZmZmRlAAAAAAAAAGkBmZmZmZmYaQM3MzMzMzBpAMzMzMzMzG0CamZmZmZkbQAAAAAAAABxAZmZmZmZmHEDNzMzMzMwcQDMzMzMzMx1AmpmZmZmZHUAAAAAAAAAeQGZmZmZmZh5AzczMzMzMHkAzMzMzMzMfQJqZmZmZmR9AAAAAAAAAIEAzMzMzMzMgQGZmZmZmZiBAmpmZmZmZIEDNzMzMzMwgQAAAAAAAACFAMzMzMzMzIUBmZmZmZmYhQJqZmZmZmSFAzczMzMzMIUAAAAAAAAAiQDMzMzMzMyJAZmZmZmZmIkCamZmZmZkiQM3MzMzMzCJAAAAAAAAAI0A=",
          "dtype": "f8"
         },
         "y": {
          "bdata": "AAAAAAAAGEAAAAAAAAAYQAAAAAAAABhAAAAAAAAAGEAAAAAAAAAUQAAAAAAAABdAAAAAAAAAFkAAAAAAAAAXQAAAAAAAABVAbtu2bdu2FUAAAAAAAAAVQG7btm3bthVAAAAAAAAAFkAAAAAAAIAUQKuqqqqqqhZAuuiiiy66FEByHMdxHMcVQKuqqqqqqhRA2Ymd2ImdFECxEzuxEzsVQAAAAAAAABhAAAAAAABAGEDFTuzETuwYQLy7u7u7uxdAAAAAAAAAGECrqqqqqqoWQAAAAAAAABlAdNFFF110GUAAAAAAAAAcQLdt27Zt2xpAF1100UUXHUBP7MRO7MQaQAAAAAAAABxAx3Ecx3EcG0DFTuzETuwcQKuqqqqqqhtAuuiiiy66HEAzMzMzMzMbQAAAAAAAABxAAAAAAAAAHEAAAAAAAAAcQAAAAAAAABxAAAAAAAAAHEAAAAAAAAAgQAAAAAAAAB5AAAAAAAAAIEAAAAAAAAAgQAAAAAAAACBAAAAAAAAAIEAAAAAAAAAgQAAAAAAAACBAAAAAAAAAIEA=",
          "dtype": "f8"
         }
        },
        {
         "line": {
          "color": "deeppink",
          "width": 3
         },
         "mode": "lines+markers",
         "name": "Female",
         "type": "scatter",
         "visible": false,
         "x": {
          "bdata": "ZmZmZmZmDkAzMzMzMzMPQAAAAAAAABBAZmZmZmZmEEDNzMzMzMwQQDMzMzMzMxFAmpmZmZmZEUAAAAAAAAASQGZmZmZmZhJAzczMzMzMEkAzMzMzMzMTQJqZmZmZmRNAAAAAAAAAFEBmZmZmZmYUQM3MzMzMzBRAMzMzMzMzFUCamZmZmZkVQAAAAAAAABZAZmZmZmZmFkDNzMzMzMwWQDMzMzMzMxdAmpmZmZmZF0AAAAAAAAAYQGZmZmZmZhhAzczMzMzMGEAzMzMzMzMZQJqZmZmZmRlAAAAAAAAAGkBmZmZmZmYaQM3MzMzMzBpAMzMzMzMzG0CamZmZmZkbQAAAAAAAABxAZmZmZmZmHEDNzMzMzMwcQDMzMzMzMx1AmpmZmZmZHUAAAAAAAAAeQGZmZmZmZh5AzczMzMzMHkAzMzMzMzMfQJqZmZmZmR9AAAAAAAAAIEAzMzMzMzMgQGZmZmZmZiBAmpmZmZmZIEDNzMzMzMwgQAAAAAAAACFAMzMzMzMzIUBmZmZmZmYhQJqZmZmZmSFAzczMzMzMIUAAAAAAAAAiQDMzMzMzMyJAZmZmZmZmIkCamZmZmZkiQM3MzMzMzCJAAAAAAAAAI0AzMzMzMzMjQA==",
          "dtype": "f8"
         },
         "y": {
          "bdata": "AAAAAAAAFEAAAAAAAAAUQAAAAAAAABRAAAAAAAAAFEAAAAAAAAAWQAAAAAAAABRAAAAAAAAAFkAAAAAAAAASQKuqqqqqqhZAAAAAAAAAFECrqqqqqqoWQAAAAAAAABRAzczMzMzMFECrqqqqqqoSQAAAAAAAABRAAAAAAAAAE0BmZmZmZmYUQAAAAAAAgBNASZIkSZIkFUAzMzMzMzMVQPHw8PDw8BRAzczMzMzMFEAcx3Ecx3EUQKuqqqqqqhRAAAAAAAAAFECrqqqqqqoUQLrooosuuhRA27Zt27ZtF0C3bdu2bdsWQAAAAAAAABhAo4suuuiiF0AAAAAAAAAYQJqZmZmZmRlAAAAAAAAAHEAlSZIkSZIaQJIkSZIkSRxAq6qqqqqqGkCrqqqqqqocQAAAAAAAABtAVVVVVVVVG0Dbtm3btm0bQCVJkiRJkhxAAAAAAAAAHECrqqqqqqocQG7btm3bth1ASZIkSZIkHUBu27Zt27YdQAAAAAAAAB5Aq6qqqqqqHkAAAAAAAAAeQAAAAAAAAB9AAAAAAAAAHkAAAAAAAAAeQAAAAAAAAB5AAAAAAAAAHkAAAAAAAAAgQAAAAAAAACBAAAAAAAAAIEAAAAAAAAAgQA==",
          "dtype": "f8"
         }
        },
        {
         "line": {
          "color": "green",
          "width": 3
         },
         "mode": "lines+markers",
         "name": "All",
         "type": "scatter",
         "visible": false,
         "x": {
          "bdata": "ZmZmZmZmDkAzMzMzMzMPQAAAAAAAABBAZmZmZmZmEEDNzMzMzMwQQDMzMzMzMxFAmpmZmZmZEUAAAAAAAAASQGZmZmZmZhJAzczMzMzMEkAzMzMzMzMTQJqZmZmZmRNAAAAAAAAAFEBmZmZmZmYUQM3MzMzMzBRAMzMzMzMzFUCamZmZmZkVQAAAAAAAABZAZmZmZmZmFkDNzMzMzMwWQDMzMzMzMxdAmpmZmZmZF0AAAAAAAAAYQGZmZmZmZhhAzczMzMzMGEAzMzMzMzMZQJqZmZmZmRlAAAAAAAAAGkBmZmZmZmYaQM3MzMzMzBpAMzMzMzMzG0CamZmZmZkbQAAAAAAAABxAZmZmZmZmHEDNzMzMzMwcQDMzMzMzMx1AmpmZmZmZHUAAAAAAAAAeQGZmZmZmZh5AzczMzMzMHkAzMzMzMzMfQJqZmZmZmR9AAAAAAAAAIEAzMzMzMzMgQGZmZmZmZiBAmpmZmZmZIEDNzMzMzMwgQAAAAAAAACFAMzMzMzMzIUBmZmZmZmYhQJqZmZmZmSFAzczMzMzMIUAAAAAAAAAiQDMzMzMzMyJAZmZmZmZmIkCamZmZmZkiQM3MzMzMzCJAAAAAAAAAI0AzMzMzMzMjQA==",
          "dtype": "f8"
         },
         "y": {
          "bdata": "AAAAAAAAFEAAAAAAAAAUQAAAAAAAABRAAAAAAAAAFkAAAAAAAAAWQAAAAAAAABZAAAAAAAAAFkAAAAAAAAAUQKuqqqqqqhZAq6qqqqqqFkAAAAAAAAAWQGZmZmZmZhZASZIkSZIkFUBJkiRJkiQVQOzETuzEThRAuuiiiy66FEAlSZIkSZIUQImIiIiIiBRAVVVVVVVVFUA5juM4juMUQBaykIUsZBVAMQzDMAzDFEDHcRzHcRwVQKuqqqqqqhRAZmZmZmZmFEDYUF5DeQ0VQOLh4eHh4RVAAAAAAAAAGEAzMzMzMzMYQNejcD0K1xdAVVVVVVXVF0BJkiRJkiQXQFVVVVVVVRlAmpmZmZmZGkCSJEmSJEkbQCVJkiRJkhtAFDuxEzuxG0CuR+F6FK4bQAAAAAAAgBtAMzMzMzMzG0BmZmZmZmYcQAAAAAAAABxAHMdxHMdxHEAAAAAAAMAbQM3MzMzMzBxAiYiIiIiIHEC3bdu2bdscQDMzMzMzMx1AchzHcRzHHUCSJEmSJEkeQKuqqqqqqh5AZmZmZmZmHkCrqqqqqqoeQKuqqqqqqh5Aq6qqqqqqHkAAAAAAAAAgQAAAAAAAACBAAAAAAAAAIEAAAAAAAAAgQA==",
          "dtype": "f8"
         }
        }
       ],
       "layout": {
        "template": {
         "data": {
          "bar": [
           {
            "error_x": {
             "color": "#2a3f5f"
            },
            "error_y": {
             "color": "#2a3f5f"
            },
            "marker": {
             "line": {
              "color": "#E5ECF6",
              "width": 0.5
             },
             "pattern": {
              "fillmode": "overlay",
              "size": 10,
              "solidity": 0.2
             }
            },
            "type": "bar"
           }
          ],
          "barpolar": [
           {
            "marker": {
             "line": {
              "color": "#E5ECF6",
              "width": 0.5
             },
             "pattern": {
              "fillmode": "overlay",
              "size": 10,
              "solidity": 0.2
             }
            },
            "type": "barpolar"
           }
          ],
          "carpet": [
           {
            "aaxis": {
             "endlinecolor": "#2a3f5f",
             "gridcolor": "white",
             "linecolor": "white",
             "minorgridcolor": "white",
             "startlinecolor": "#2a3f5f"
            },
            "baxis": {
             "endlinecolor": "#2a3f5f",
             "gridcolor": "white",
             "linecolor": "white",
             "minorgridcolor": "white",
             "startlinecolor": "#2a3f5f"
            },
            "type": "carpet"
           }
          ],
          "choropleth": [
           {
            "colorbar": {
             "outlinewidth": 0,
             "ticks": ""
            },
            "type": "choropleth"
           }
          ],
          "contour": [
           {
            "colorbar": {
             "outlinewidth": 0,
             "ticks": ""
            },
            "colorscale": [
             [
              0,
              "#0d0887"
             ],
             [
              0.1111111111111111,
              "#46039f"
             ],
             [
              0.2222222222222222,
              "#7201a8"
             ],
             [
              0.3333333333333333,
              "#9c179e"
             ],
             [
              0.4444444444444444,
              "#bd3786"
             ],
             [
              0.5555555555555556,
              "#d8576b"
             ],
             [
              0.6666666666666666,
              "#ed7953"
             ],
             [
              0.7777777777777778,
              "#fb9f3a"
             ],
             [
              0.8888888888888888,
              "#fdca26"
             ],
             [
              1,
              "#f0f921"
             ]
            ],
            "type": "contour"
           }
          ],
          "contourcarpet": [
           {
            "colorbar": {
             "outlinewidth": 0,
             "ticks": ""
            },
            "type": "contourcarpet"
           }
          ],
          "heatmap": [
           {
            "colorbar": {
             "outlinewidth": 0,
             "ticks": ""
            },
            "colorscale": [
             [
              0,
              "#0d0887"
             ],
             [
              0.1111111111111111,
              "#46039f"
             ],
             [
              0.2222222222222222,
              "#7201a8"
             ],
             [
              0.3333333333333333,
              "#9c179e"
             ],
             [
              0.4444444444444444,
              "#bd3786"
             ],
             [
              0.5555555555555556,
              "#d8576b"
             ],
             [
              0.6666666666666666,
              "#ed7953"
             ],
             [
              0.7777777777777778,
              "#fb9f3a"
             ],
             [
              0.8888888888888888,
              "#fdca26"
             ],
             [
              1,
              "#f0f921"
             ]
            ],
            "type": "heatmap"
           }
          ],
          "histogram": [
           {
            "marker": {
             "pattern": {
              "fillmode": "overlay",
              "size": 10,
              "solidity": 0.2
             }
            },
            "type": "histogram"
           }
          ],
          "histogram2d": [
           {
            "colorbar": {
             "outlinewidth": 0,
             "ticks": ""
            },
            "colorscale": [
             [
              0,
              "#0d0887"
             ],
             [
              0.1111111111111111,
              "#46039f"
             ],
             [
              0.2222222222222222,
              "#7201a8"
             ],
             [
              0.3333333333333333,
              "#9c179e"
             ],
             [
              0.4444444444444444,
              "#bd3786"
             ],
             [
              0.5555555555555556,
              "#d8576b"
             ],
             [
              0.6666666666666666,
              "#ed7953"
             ],
             [
              0.7777777777777778,
              "#fb9f3a"
             ],
             [
              0.8888888888888888,
              "#fdca26"
             ],
             [
              1,
              "#f0f921"
             ]
            ],
            "type": "histogram2d"
           }
          ],
          "histogram2dcontour": [
           {
            "colorbar": {
             "outlinewidth": 0,
             "ticks": ""
            },
            "colorscale": [
             [
              0,
              "#0d0887"
             ],
             [
              0.1111111111111111,
              "#46039f"
             ],
             [
              0.2222222222222222,
              "#7201a8"
             ],
             [
              0.3333333333333333,
              "#9c179e"
             ],
             [
              0.4444444444444444,
              "#bd3786"
             ],
             [
              0.5555555555555556,
              "#d8576b"
             ],
             [
              0.6666666666666666,
              "#ed7953"
             ],
             [
              0.7777777777777778,
              "#fb9f3a"
             ],
             [
              0.8888888888888888,
              "#fdca26"
             ],
             [
              1,
              "#f0f921"
             ]
            ],
            "type": "histogram2dcontour"
           }
          ],
          "mesh3d": [
           {
            "colorbar": {
             "outlinewidth": 0,
             "ticks": ""
            },
            "type": "mesh3d"
           }
          ],
          "parcoords": [
           {
            "line": {
             "colorbar": {
              "outlinewidth": 0,
              "ticks": ""
             }
            },
            "type": "parcoords"
           }
          ],
          "pie": [
           {
            "automargin": true,
            "type": "pie"
           }
          ],
          "scatter": [
           {
            "fillpattern": {
             "fillmode": "overlay",
             "size": 10,
             "solidity": 0.2
            },
            "type": "scatter"
           }
          ],
          "scatter3d": [
           {
            "line": {
             "colorbar": {
              "outlinewidth": 0,
              "ticks": ""
             }
            },
            "marker": {
             "colorbar": {
              "outlinewidth": 0,
              "ticks": ""
             }
            },
            "type": "scatter3d"
           }
          ],
          "scattercarpet": [
           {
            "marker": {
             "colorbar": {
              "outlinewidth": 0,
              "ticks": ""
             }
            },
            "type": "scattercarpet"
           }
          ],
          "scattergeo": [
           {
            "marker": {
             "colorbar": {
              "outlinewidth": 0,
              "ticks": ""
             }
            },
            "type": "scattergeo"
           }
          ],
          "scattergl": [
           {
            "marker": {
             "colorbar": {
              "outlinewidth": 0,
              "ticks": ""
             }
            },
            "type": "scattergl"
           }
          ],
          "scattermap": [
           {
            "marker": {
             "colorbar": {
              "outlinewidth": 0,
              "ticks": ""
             }
            },
            "type": "scattermap"
           }
          ],
          "scattermapbox": [
           {
            "marker": {
             "colorbar": {
              "outlinewidth": 0,
              "ticks": ""
             }
            },
            "type": "scattermapbox"
           }
          ],
          "scatterpolar": [
           {
            "marker": {
             "colorbar": {
              "outlinewidth": 0,
              "ticks": ""
             }
            },
            "type": "scatterpolar"
           }
          ],
          "scatterpolargl": [
           {
            "marker": {
             "colorbar": {
              "outlinewidth": 0,
              "ticks": ""
             }
            },
            "type": "scatterpolargl"
           }
          ],
          "scatterternary": [
           {
            "marker": {
             "colorbar": {
              "outlinewidth": 0,
              "ticks": ""
             }
            },
            "type": "scatterternary"
           }
          ],
          "surface": [
           {
            "colorbar": {
             "outlinewidth": 0,
             "ticks": ""
            },
            "colorscale": [
             [
              0,
              "#0d0887"
             ],
             [
              0.1111111111111111,
              "#46039f"
             ],
             [
              0.2222222222222222,
              "#7201a8"
             ],
             [
              0.3333333333333333,
              "#9c179e"
             ],
             [
              0.4444444444444444,
              "#bd3786"
             ],
             [
              0.5555555555555556,
              "#d8576b"
             ],
             [
              0.6666666666666666,
              "#ed7953"
             ],
             [
              0.7777777777777778,
              "#fb9f3a"
             ],
             [
              0.8888888888888888,
              "#fdca26"
             ],
             [
              1,
              "#f0f921"
             ]
            ],
            "type": "surface"
           }
          ],
          "table": [
           {
            "cells": {
             "fill": {
              "color": "#EBF0F8"
             },
             "line": {
              "color": "white"
             }
            },
            "header": {
             "fill": {
              "color": "#C8D4E3"
             },
             "line": {
              "color": "white"
             }
            },
            "type": "table"
           }
          ]
         },
         "layout": {
          "annotationdefaults": {
           "arrowcolor": "#2a3f5f",
           "arrowhead": 0,
           "arrowwidth": 1
          },
          "autotypenumbers": "strict",
          "coloraxis": {
           "colorbar": {
            "outlinewidth": 0,
            "ticks": ""
           }
          },
          "colorscale": {
           "diverging": [
            [
             0,
             "#8e0152"
            ],
            [
             0.1,
             "#c51b7d"
            ],
            [
             0.2,
             "#de77ae"
            ],
            [
             0.3,
             "#f1b6da"
            ],
            [
             0.4,
             "#fde0ef"
            ],
            [
             0.5,
             "#f7f7f7"
            ],
            [
             0.6,
             "#e6f5d0"
            ],
            [
             0.7,
             "#b8e186"
            ],
            [
             0.8,
             "#7fbc41"
            ],
            [
             0.9,
             "#4d9221"
            ],
            [
             1,
             "#276419"
            ]
           ],
           "sequential": [
            [
             0,
             "#0d0887"
            ],
            [
             0.1111111111111111,
             "#46039f"
            ],
            [
             0.2222222222222222,
             "#7201a8"
            ],
            [
             0.3333333333333333,
             "#9c179e"
            ],
            [
             0.4444444444444444,
             "#bd3786"
            ],
            [
             0.5555555555555556,
             "#d8576b"
            ],
            [
             0.6666666666666666,
             "#ed7953"
            ],
            [
             0.7777777777777778,
             "#fb9f3a"
            ],
            [
             0.8888888888888888,
             "#fdca26"
            ],
            [
             1,
             "#f0f921"
            ]
           ],
           "sequentialminus": [
            [
             0,
             "#0d0887"
            ],
            [
             0.1111111111111111,
             "#46039f"
            ],
            [
             0.2222222222222222,
             "#7201a8"
            ],
            [
             0.3333333333333333,
             "#9c179e"
            ],
            [
             0.4444444444444444,
             "#bd3786"
            ],
            [
             0.5555555555555556,
             "#d8576b"
            ],
            [
             0.6666666666666666,
             "#ed7953"
            ],
            [
             0.7777777777777778,
             "#fb9f3a"
            ],
            [
             0.8888888888888888,
             "#fdca26"
            ],
            [
             1,
             "#f0f921"
            ]
           ]
          },
          "colorway": [
           "#636efa",
           "#EF553B",
           "#00cc96",
           "#ab63fa",
           "#FFA15A",
           "#19d3f3",
           "#FF6692",
           "#B6E880",
           "#FF97FF",
           "#FECB52"
          ],
          "font": {
           "color": "#2a3f5f"
          },
          "geo": {
           "bgcolor": "white",
           "lakecolor": "white",
           "landcolor": "#E5ECF6",
           "showlakes": true,
           "showland": true,
           "subunitcolor": "white"
          },
          "hoverlabel": {
           "align": "left"
          },
          "hovermode": "closest",
          "mapbox": {
           "style": "light"
          },
          "paper_bgcolor": "white",
          "plot_bgcolor": "#E5ECF6",
          "polar": {
           "angularaxis": {
            "gridcolor": "white",
            "linecolor": "white",
            "ticks": ""
           },
           "bgcolor": "#E5ECF6",
           "radialaxis": {
            "gridcolor": "white",
            "linecolor": "white",
            "ticks": ""
           }
          },
          "scene": {
           "xaxis": {
            "backgroundcolor": "#E5ECF6",
            "gridcolor": "white",
            "gridwidth": 2,
            "linecolor": "white",
            "showbackground": true,
            "ticks": "",
            "zerolinecolor": "white"
           },
           "yaxis": {
            "backgroundcolor": "#E5ECF6",
            "gridcolor": "white",
            "gridwidth": 2,
            "linecolor": "white",
            "showbackground": true,
            "ticks": "",
            "zerolinecolor": "white"
           },
           "zaxis": {
            "backgroundcolor": "#E5ECF6",
            "gridcolor": "white",
            "gridwidth": 2,
            "linecolor": "white",
            "showbackground": true,
            "ticks": "",
            "zerolinecolor": "white"
           }
          },
          "shapedefaults": {
           "line": {
            "color": "#2a3f5f"
           }
          },
          "ternary": {
           "aaxis": {
            "gridcolor": "white",
            "linecolor": "white",
            "ticks": ""
           },
           "baxis": {
            "gridcolor": "white",
            "linecolor": "white",
            "ticks": ""
           },
           "bgcolor": "#E5ECF6",
           "caxis": {
            "gridcolor": "white",
            "linecolor": "white",
            "ticks": ""
           }
          },
          "title": {
           "x": 0.05
          },
          "xaxis": {
           "automargin": true,
           "gridcolor": "white",
           "linecolor": "white",
           "ticks": "",
           "title": {
            "standoff": 15
           },
           "zerolinecolor": "white",
           "zerolinewidth": 2
          },
          "yaxis": {
           "automargin": true,
           "gridcolor": "white",
           "linecolor": "white",
           "ticks": "",
           "title": {
            "standoff": 15
           },
           "zerolinecolor": "white",
           "zerolinewidth": 2
          }
         }
        },
        "title": {
         "text": "Gemiddelde mentale gezondheid per slaapduur (mannen)"
        },
        "updatemenus": [
         {
          "active": 0,
          "buttons": [
           {
            "args": [
             {
              "visible": [
               true,
               false,
               false
              ]
             },
             {
              "title": {
               "text": "Gemiddelde mentale gezondheid per slaapduur (mannen)"
              }
             }
            ],
            "label": "Man",
            "method": "update"
           },
           {
            "args": [
             {
              "visible": [
               false,
               true,
               false
              ]
             },
             {
              "title": {
               "text": "Gemiddelde mentale gezondheid per slaapduur (vrouwen)"
              }
             }
            ],
            "label": "Vrouw",
            "method": "update"
           },
           {
            "args": [
             {
              "visible": [
               false,
               false,
               true
              ]
             },
             {
              "title": {
               "text": "Gemiddelde mentale gezondheid per slaapduur (alle studenten)"
              }
             }
            ],
            "label": "Iedereen",
            "method": "update"
           },
           {
            "args": [
             {
              "visible": [
               true,
               true,
               true
              ]
             },
             {
              "title": {
               "text": "Gemiddelde mentale gezondheid per slaapduur (alle groepen)"
              }
             }
            ],
            "label": "Allemaal",
            "method": "update"
           }
          ],
          "direction": "down",
          "showactive": true,
          "x": 0.01,
          "xanchor": "left",
          "y": 1.15,
          "yanchor": "top"
         }
        ],
        "xaxis": {
         "dtick": 1,
         "fixedrange": true,
         "range": [
          3,
          10
         ],
         "title": {
          "text": "Aantal uren slaap per nacht"
         }
        },
        "yaxis": {
         "dtick": 1,
         "fixedrange": true,
         "range": [
          3,
          10
         ],
         "title": {
          "text": "Gemiddelde mentale gezondheidsscore"
         }
        }
       }
      },
      "text/html": [
       "<div>            <script src=\"https://cdnjs.cloudflare.com/ajax/libs/mathjax/2.7.5/MathJax.js?config=TeX-AMS-MML_SVG\"></script><script type=\"text/javascript\">if (window.MathJax && window.MathJax.Hub && window.MathJax.Hub.Config) {window.MathJax.Hub.Config({SVG: {font: \"STIX-Web\"}});}</script>                <script type=\"text/javascript\">window.PlotlyConfig = {MathJaxConfig: 'local'};</script>\n",
       "        <script charset=\"utf-8\" src=\"https://cdn.plot.ly/plotly-3.0.1.min.js\"></script>                <div id=\"2adcd02c-2e03-4915-ad4a-544de0b3b31d\" class=\"plotly-graph-div\" style=\"height:525px; width:100%;\"></div>            <script type=\"text/javascript\">                window.PLOTLYENV=window.PLOTLYENV || {};                                if (document.getElementById(\"2adcd02c-2e03-4915-ad4a-544de0b3b31d\")) {                    Plotly.newPlot(                        \"2adcd02c-2e03-4915-ad4a-544de0b3b31d\",                        [{\"line\":{\"color\":\"blue\",\"width\":3},\"mode\":\"lines+markers\",\"name\":\"Male\",\"visible\":true,\"x\":{\"dtype\":\"f8\",\"bdata\":\"ZmZmZmZmEEAzMzMzMzMRQAAAAAAAABJAzczMzMzMEkAzMzMzMzMTQJqZmZmZmRNAAAAAAAAAFEBmZmZmZmYUQM3MzMzMzBRAMzMzMzMzFUCamZmZmZkVQAAAAAAAABZAZmZmZmZmFkDNzMzMzMwWQDMzMzMzMxdAmpmZmZmZF0AAAAAAAAAYQGZmZmZmZhhAzczMzMzMGEAzMzMzMzMZQJqZmZmZmRlAAAAAAAAAGkBmZmZmZmYaQM3MzMzMzBpAMzMzMzMzG0CamZmZmZkbQAAAAAAAABxAZmZmZmZmHEDNzMzMzMwcQDMzMzMzMx1AmpmZmZmZHUAAAAAAAAAeQGZmZmZmZh5AzczMzMzMHkAzMzMzMzMfQJqZmZmZmR9AAAAAAAAAIEAzMzMzMzMgQGZmZmZmZiBAmpmZmZmZIEDNzMzMzMwgQAAAAAAAACFAMzMzMzMzIUBmZmZmZmYhQJqZmZmZmSFAzczMzMzMIUAAAAAAAAAiQDMzMzMzMyJAZmZmZmZmIkCamZmZmZkiQM3MzMzMzCJAAAAAAAAAI0A=\"},\"y\":{\"dtype\":\"f8\",\"bdata\":\"AAAAAAAAGEAAAAAAAAAYQAAAAAAAABhAAAAAAAAAGEAAAAAAAAAUQAAAAAAAABdAAAAAAAAAFkAAAAAAAAAXQAAAAAAAABVAbtu2bdu2FUAAAAAAAAAVQG7btm3bthVAAAAAAAAAFkAAAAAAAIAUQKuqqqqqqhZAuuiiiy66FEByHMdxHMcVQKuqqqqqqhRA2Ymd2ImdFECxEzuxEzsVQAAAAAAAABhAAAAAAABAGEDFTuzETuwYQLy7u7u7uxdAAAAAAAAAGECrqqqqqqoWQAAAAAAAABlAdNFFF110GUAAAAAAAAAcQLdt27Zt2xpAF1100UUXHUBP7MRO7MQaQAAAAAAAABxAx3Ecx3EcG0DFTuzETuwcQKuqqqqqqhtAuuiiiy66HEAzMzMzMzMbQAAAAAAAABxAAAAAAAAAHEAAAAAAAAAcQAAAAAAAABxAAAAAAAAAHEAAAAAAAAAgQAAAAAAAAB5AAAAAAAAAIEAAAAAAAAAgQAAAAAAAACBAAAAAAAAAIEAAAAAAAAAgQAAAAAAAACBAAAAAAAAAIEA=\"},\"type\":\"scatter\"},{\"line\":{\"color\":\"deeppink\",\"width\":3},\"mode\":\"lines+markers\",\"name\":\"Female\",\"visible\":false,\"x\":{\"dtype\":\"f8\",\"bdata\":\"ZmZmZmZmDkAzMzMzMzMPQAAAAAAAABBAZmZmZmZmEEDNzMzMzMwQQDMzMzMzMxFAmpmZmZmZEUAAAAAAAAASQGZmZmZmZhJAzczMzMzMEkAzMzMzMzMTQJqZmZmZmRNAAAAAAAAAFEBmZmZmZmYUQM3MzMzMzBRAMzMzMzMzFUCamZmZmZkVQAAAAAAAABZAZmZmZmZmFkDNzMzMzMwWQDMzMzMzMxdAmpmZmZmZF0AAAAAAAAAYQGZmZmZmZhhAzczMzMzMGEAzMzMzMzMZQJqZmZmZmRlAAAAAAAAAGkBmZmZmZmYaQM3MzMzMzBpAMzMzMzMzG0CamZmZmZkbQAAAAAAAABxAZmZmZmZmHEDNzMzMzMwcQDMzMzMzMx1AmpmZmZmZHUAAAAAAAAAeQGZmZmZmZh5AzczMzMzMHkAzMzMzMzMfQJqZmZmZmR9AAAAAAAAAIEAzMzMzMzMgQGZmZmZmZiBAmpmZmZmZIEDNzMzMzMwgQAAAAAAAACFAMzMzMzMzIUBmZmZmZmYhQJqZmZmZmSFAzczMzMzMIUAAAAAAAAAiQDMzMzMzMyJAZmZmZmZmIkCamZmZmZkiQM3MzMzMzCJAAAAAAAAAI0AzMzMzMzMjQA==\"},\"y\":{\"dtype\":\"f8\",\"bdata\":\"AAAAAAAAFEAAAAAAAAAUQAAAAAAAABRAAAAAAAAAFEAAAAAAAAAWQAAAAAAAABRAAAAAAAAAFkAAAAAAAAASQKuqqqqqqhZAAAAAAAAAFECrqqqqqqoWQAAAAAAAABRAzczMzMzMFECrqqqqqqoSQAAAAAAAABRAAAAAAAAAE0BmZmZmZmYUQAAAAAAAgBNASZIkSZIkFUAzMzMzMzMVQPHw8PDw8BRAzczMzMzMFEAcx3Ecx3EUQKuqqqqqqhRAAAAAAAAAFECrqqqqqqoUQLrooosuuhRA27Zt27ZtF0C3bdu2bdsWQAAAAAAAABhAo4suuuiiF0AAAAAAAAAYQJqZmZmZmRlAAAAAAAAAHEAlSZIkSZIaQJIkSZIkSRxAq6qqqqqqGkCrqqqqqqocQAAAAAAAABtAVVVVVVVVG0Dbtm3btm0bQCVJkiRJkhxAAAAAAAAAHECrqqqqqqocQG7btm3bth1ASZIkSZIkHUBu27Zt27YdQAAAAAAAAB5Aq6qqqqqqHkAAAAAAAAAeQAAAAAAAAB9AAAAAAAAAHkAAAAAAAAAeQAAAAAAAAB5AAAAAAAAAHkAAAAAAAAAgQAAAAAAAACBAAAAAAAAAIEAAAAAAAAAgQA==\"},\"type\":\"scatter\"},{\"line\":{\"color\":\"green\",\"width\":3},\"mode\":\"lines+markers\",\"name\":\"All\",\"visible\":false,\"x\":{\"dtype\":\"f8\",\"bdata\":\"ZmZmZmZmDkAzMzMzMzMPQAAAAAAAABBAZmZmZmZmEEDNzMzMzMwQQDMzMzMzMxFAmpmZmZmZEUAAAAAAAAASQGZmZmZmZhJAzczMzMzMEkAzMzMzMzMTQJqZmZmZmRNAAAAAAAAAFEBmZmZmZmYUQM3MzMzMzBRAMzMzMzMzFUCamZmZmZkVQAAAAAAAABZAZmZmZmZmFkDNzMzMzMwWQDMzMzMzMxdAmpmZmZmZF0AAAAAAAAAYQGZmZmZmZhhAzczMzMzMGEAzMzMzMzMZQJqZmZmZmRlAAAAAAAAAGkBmZmZmZmYaQM3MzMzMzBpAMzMzMzMzG0CamZmZmZkbQAAAAAAAABxAZmZmZmZmHEDNzMzMzMwcQDMzMzMzMx1AmpmZmZmZHUAAAAAAAAAeQGZmZmZmZh5AzczMzMzMHkAzMzMzMzMfQJqZmZmZmR9AAAAAAAAAIEAzMzMzMzMgQGZmZmZmZiBAmpmZmZmZIEDNzMzMzMwgQAAAAAAAACFAMzMzMzMzIUBmZmZmZmYhQJqZmZmZmSFAzczMzMzMIUAAAAAAAAAiQDMzMzMzMyJAZmZmZmZmIkCamZmZmZkiQM3MzMzMzCJAAAAAAAAAI0AzMzMzMzMjQA==\"},\"y\":{\"dtype\":\"f8\",\"bdata\":\"AAAAAAAAFEAAAAAAAAAUQAAAAAAAABRAAAAAAAAAFkAAAAAAAAAWQAAAAAAAABZAAAAAAAAAFkAAAAAAAAAUQKuqqqqqqhZAq6qqqqqqFkAAAAAAAAAWQGZmZmZmZhZASZIkSZIkFUBJkiRJkiQVQOzETuzEThRAuuiiiy66FEAlSZIkSZIUQImIiIiIiBRAVVVVVVVVFUA5juM4juMUQBaykIUsZBVAMQzDMAzDFEDHcRzHcRwVQKuqqqqqqhRAZmZmZmZmFEDYUF5DeQ0VQOLh4eHh4RVAAAAAAAAAGEAzMzMzMzMYQNejcD0K1xdAVVVVVVXVF0BJkiRJkiQXQFVVVVVVVRlAmpmZmZmZGkCSJEmSJEkbQCVJkiRJkhtAFDuxEzuxG0CuR+F6FK4bQAAAAAAAgBtAMzMzMzMzG0BmZmZmZmYcQAAAAAAAABxAHMdxHMdxHEAAAAAAAMAbQM3MzMzMzBxAiYiIiIiIHEC3bdu2bdscQDMzMzMzMx1AchzHcRzHHUCSJEmSJEkeQKuqqqqqqh5AZmZmZmZmHkCrqqqqqqoeQKuqqqqqqh5Aq6qqqqqqHkAAAAAAAAAgQAAAAAAAACBAAAAAAAAAIEAAAAAAAAAgQA==\"},\"type\":\"scatter\"}],                        {\"template\":{\"data\":{\"histogram2dcontour\":[{\"type\":\"histogram2dcontour\",\"colorbar\":{\"outlinewidth\":0,\"ticks\":\"\"},\"colorscale\":[[0.0,\"#0d0887\"],[0.1111111111111111,\"#46039f\"],[0.2222222222222222,\"#7201a8\"],[0.3333333333333333,\"#9c179e\"],[0.4444444444444444,\"#bd3786\"],[0.5555555555555556,\"#d8576b\"],[0.6666666666666666,\"#ed7953\"],[0.7777777777777778,\"#fb9f3a\"],[0.8888888888888888,\"#fdca26\"],[1.0,\"#f0f921\"]]}],\"choropleth\":[{\"type\":\"choropleth\",\"colorbar\":{\"outlinewidth\":0,\"ticks\":\"\"}}],\"histogram2d\":[{\"type\":\"histogram2d\",\"colorbar\":{\"outlinewidth\":0,\"ticks\":\"\"},\"colorscale\":[[0.0,\"#0d0887\"],[0.1111111111111111,\"#46039f\"],[0.2222222222222222,\"#7201a8\"],[0.3333333333333333,\"#9c179e\"],[0.4444444444444444,\"#bd3786\"],[0.5555555555555556,\"#d8576b\"],[0.6666666666666666,\"#ed7953\"],[0.7777777777777778,\"#fb9f3a\"],[0.8888888888888888,\"#fdca26\"],[1.0,\"#f0f921\"]]}],\"heatmap\":[{\"type\":\"heatmap\",\"colorbar\":{\"outlinewidth\":0,\"ticks\":\"\"},\"colorscale\":[[0.0,\"#0d0887\"],[0.1111111111111111,\"#46039f\"],[0.2222222222222222,\"#7201a8\"],[0.3333333333333333,\"#9c179e\"],[0.4444444444444444,\"#bd3786\"],[0.5555555555555556,\"#d8576b\"],[0.6666666666666666,\"#ed7953\"],[0.7777777777777778,\"#fb9f3a\"],[0.8888888888888888,\"#fdca26\"],[1.0,\"#f0f921\"]]}],\"contourcarpet\":[{\"type\":\"contourcarpet\",\"colorbar\":{\"outlinewidth\":0,\"ticks\":\"\"}}],\"contour\":[{\"type\":\"contour\",\"colorbar\":{\"outlinewidth\":0,\"ticks\":\"\"},\"colorscale\":[[0.0,\"#0d0887\"],[0.1111111111111111,\"#46039f\"],[0.2222222222222222,\"#7201a8\"],[0.3333333333333333,\"#9c179e\"],[0.4444444444444444,\"#bd3786\"],[0.5555555555555556,\"#d8576b\"],[0.6666666666666666,\"#ed7953\"],[0.7777777777777778,\"#fb9f3a\"],[0.8888888888888888,\"#fdca26\"],[1.0,\"#f0f921\"]]}],\"surface\":[{\"type\":\"surface\",\"colorbar\":{\"outlinewidth\":0,\"ticks\":\"\"},\"colorscale\":[[0.0,\"#0d0887\"],[0.1111111111111111,\"#46039f\"],[0.2222222222222222,\"#7201a8\"],[0.3333333333333333,\"#9c179e\"],[0.4444444444444444,\"#bd3786\"],[0.5555555555555556,\"#d8576b\"],[0.6666666666666666,\"#ed7953\"],[0.7777777777777778,\"#fb9f3a\"],[0.8888888888888888,\"#fdca26\"],[1.0,\"#f0f921\"]]}],\"mesh3d\":[{\"type\":\"mesh3d\",\"colorbar\":{\"outlinewidth\":0,\"ticks\":\"\"}}],\"scatter\":[{\"fillpattern\":{\"fillmode\":\"overlay\",\"size\":10,\"solidity\":0.2},\"type\":\"scatter\"}],\"parcoords\":[{\"type\":\"parcoords\",\"line\":{\"colorbar\":{\"outlinewidth\":0,\"ticks\":\"\"}}}],\"scatterpolargl\":[{\"type\":\"scatterpolargl\",\"marker\":{\"colorbar\":{\"outlinewidth\":0,\"ticks\":\"\"}}}],\"bar\":[{\"error_x\":{\"color\":\"#2a3f5f\"},\"error_y\":{\"color\":\"#2a3f5f\"},\"marker\":{\"line\":{\"color\":\"#E5ECF6\",\"width\":0.5},\"pattern\":{\"fillmode\":\"overlay\",\"size\":10,\"solidity\":0.2}},\"type\":\"bar\"}],\"scattergeo\":[{\"type\":\"scattergeo\",\"marker\":{\"colorbar\":{\"outlinewidth\":0,\"ticks\":\"\"}}}],\"scatterpolar\":[{\"type\":\"scatterpolar\",\"marker\":{\"colorbar\":{\"outlinewidth\":0,\"ticks\":\"\"}}}],\"histogram\":[{\"marker\":{\"pattern\":{\"fillmode\":\"overlay\",\"size\":10,\"solidity\":0.2}},\"type\":\"histogram\"}],\"scattergl\":[{\"type\":\"scattergl\",\"marker\":{\"colorbar\":{\"outlinewidth\":0,\"ticks\":\"\"}}}],\"scatter3d\":[{\"type\":\"scatter3d\",\"line\":{\"colorbar\":{\"outlinewidth\":0,\"ticks\":\"\"}},\"marker\":{\"colorbar\":{\"outlinewidth\":0,\"ticks\":\"\"}}}],\"scattermap\":[{\"type\":\"scattermap\",\"marker\":{\"colorbar\":{\"outlinewidth\":0,\"ticks\":\"\"}}}],\"scattermapbox\":[{\"type\":\"scattermapbox\",\"marker\":{\"colorbar\":{\"outlinewidth\":0,\"ticks\":\"\"}}}],\"scatterternary\":[{\"type\":\"scatterternary\",\"marker\":{\"colorbar\":{\"outlinewidth\":0,\"ticks\":\"\"}}}],\"scattercarpet\":[{\"type\":\"scattercarpet\",\"marker\":{\"colorbar\":{\"outlinewidth\":0,\"ticks\":\"\"}}}],\"carpet\":[{\"aaxis\":{\"endlinecolor\":\"#2a3f5f\",\"gridcolor\":\"white\",\"linecolor\":\"white\",\"minorgridcolor\":\"white\",\"startlinecolor\":\"#2a3f5f\"},\"baxis\":{\"endlinecolor\":\"#2a3f5f\",\"gridcolor\":\"white\",\"linecolor\":\"white\",\"minorgridcolor\":\"white\",\"startlinecolor\":\"#2a3f5f\"},\"type\":\"carpet\"}],\"table\":[{\"cells\":{\"fill\":{\"color\":\"#EBF0F8\"},\"line\":{\"color\":\"white\"}},\"header\":{\"fill\":{\"color\":\"#C8D4E3\"},\"line\":{\"color\":\"white\"}},\"type\":\"table\"}],\"barpolar\":[{\"marker\":{\"line\":{\"color\":\"#E5ECF6\",\"width\":0.5},\"pattern\":{\"fillmode\":\"overlay\",\"size\":10,\"solidity\":0.2}},\"type\":\"barpolar\"}],\"pie\":[{\"automargin\":true,\"type\":\"pie\"}]},\"layout\":{\"autotypenumbers\":\"strict\",\"colorway\":[\"#636efa\",\"#EF553B\",\"#00cc96\",\"#ab63fa\",\"#FFA15A\",\"#19d3f3\",\"#FF6692\",\"#B6E880\",\"#FF97FF\",\"#FECB52\"],\"font\":{\"color\":\"#2a3f5f\"},\"hovermode\":\"closest\",\"hoverlabel\":{\"align\":\"left\"},\"paper_bgcolor\":\"white\",\"plot_bgcolor\":\"#E5ECF6\",\"polar\":{\"bgcolor\":\"#E5ECF6\",\"angularaxis\":{\"gridcolor\":\"white\",\"linecolor\":\"white\",\"ticks\":\"\"},\"radialaxis\":{\"gridcolor\":\"white\",\"linecolor\":\"white\",\"ticks\":\"\"}},\"ternary\":{\"bgcolor\":\"#E5ECF6\",\"aaxis\":{\"gridcolor\":\"white\",\"linecolor\":\"white\",\"ticks\":\"\"},\"baxis\":{\"gridcolor\":\"white\",\"linecolor\":\"white\",\"ticks\":\"\"},\"caxis\":{\"gridcolor\":\"white\",\"linecolor\":\"white\",\"ticks\":\"\"}},\"coloraxis\":{\"colorbar\":{\"outlinewidth\":0,\"ticks\":\"\"}},\"colorscale\":{\"sequential\":[[0.0,\"#0d0887\"],[0.1111111111111111,\"#46039f\"],[0.2222222222222222,\"#7201a8\"],[0.3333333333333333,\"#9c179e\"],[0.4444444444444444,\"#bd3786\"],[0.5555555555555556,\"#d8576b\"],[0.6666666666666666,\"#ed7953\"],[0.7777777777777778,\"#fb9f3a\"],[0.8888888888888888,\"#fdca26\"],[1.0,\"#f0f921\"]],\"sequentialminus\":[[0.0,\"#0d0887\"],[0.1111111111111111,\"#46039f\"],[0.2222222222222222,\"#7201a8\"],[0.3333333333333333,\"#9c179e\"],[0.4444444444444444,\"#bd3786\"],[0.5555555555555556,\"#d8576b\"],[0.6666666666666666,\"#ed7953\"],[0.7777777777777778,\"#fb9f3a\"],[0.8888888888888888,\"#fdca26\"],[1.0,\"#f0f921\"]],\"diverging\":[[0,\"#8e0152\"],[0.1,\"#c51b7d\"],[0.2,\"#de77ae\"],[0.3,\"#f1b6da\"],[0.4,\"#fde0ef\"],[0.5,\"#f7f7f7\"],[0.6,\"#e6f5d0\"],[0.7,\"#b8e186\"],[0.8,\"#7fbc41\"],[0.9,\"#4d9221\"],[1,\"#276419\"]]},\"xaxis\":{\"gridcolor\":\"white\",\"linecolor\":\"white\",\"ticks\":\"\",\"title\":{\"standoff\":15},\"zerolinecolor\":\"white\",\"automargin\":true,\"zerolinewidth\":2},\"yaxis\":{\"gridcolor\":\"white\",\"linecolor\":\"white\",\"ticks\":\"\",\"title\":{\"standoff\":15},\"zerolinecolor\":\"white\",\"automargin\":true,\"zerolinewidth\":2},\"scene\":{\"xaxis\":{\"backgroundcolor\":\"#E5ECF6\",\"gridcolor\":\"white\",\"linecolor\":\"white\",\"showbackground\":true,\"ticks\":\"\",\"zerolinecolor\":\"white\",\"gridwidth\":2},\"yaxis\":{\"backgroundcolor\":\"#E5ECF6\",\"gridcolor\":\"white\",\"linecolor\":\"white\",\"showbackground\":true,\"ticks\":\"\",\"zerolinecolor\":\"white\",\"gridwidth\":2},\"zaxis\":{\"backgroundcolor\":\"#E5ECF6\",\"gridcolor\":\"white\",\"linecolor\":\"white\",\"showbackground\":true,\"ticks\":\"\",\"zerolinecolor\":\"white\",\"gridwidth\":2}},\"shapedefaults\":{\"line\":{\"color\":\"#2a3f5f\"}},\"annotationdefaults\":{\"arrowcolor\":\"#2a3f5f\",\"arrowhead\":0,\"arrowwidth\":1},\"geo\":{\"bgcolor\":\"white\",\"landcolor\":\"#E5ECF6\",\"subunitcolor\":\"white\",\"showland\":true,\"showlakes\":true,\"lakecolor\":\"white\"},\"title\":{\"x\":0.05},\"mapbox\":{\"style\":\"light\"}}},\"title\":{\"text\":\"Gemiddelde mentale gezondheid per slaapduur (mannen)\"},\"xaxis\":{\"title\":{\"text\":\"Aantal uren slaap per nacht\"},\"range\":[3,10],\"dtick\":1,\"fixedrange\":true},\"yaxis\":{\"title\":{\"text\":\"Gemiddelde mentale gezondheidsscore\"},\"range\":[3,10],\"dtick\":1,\"fixedrange\":true},\"updatemenus\":[{\"active\":0,\"buttons\":[{\"args\":[{\"visible\":[true,false,false]},{\"title\":{\"text\":\"Gemiddelde mentale gezondheid per slaapduur (mannen)\"}}],\"label\":\"Man\",\"method\":\"update\"},{\"args\":[{\"visible\":[false,true,false]},{\"title\":{\"text\":\"Gemiddelde mentale gezondheid per slaapduur (vrouwen)\"}}],\"label\":\"Vrouw\",\"method\":\"update\"},{\"args\":[{\"visible\":[false,false,true]},{\"title\":{\"text\":\"Gemiddelde mentale gezondheid per slaapduur (alle studenten)\"}}],\"label\":\"Iedereen\",\"method\":\"update\"},{\"args\":[{\"visible\":[true,true,true]},{\"title\":{\"text\":\"Gemiddelde mentale gezondheid per slaapduur (alle groepen)\"}}],\"label\":\"Allemaal\",\"method\":\"update\"}],\"direction\":\"down\",\"showactive\":true,\"x\":0.01,\"xanchor\":\"left\",\"y\":1.15,\"yanchor\":\"top\"}]},                        {\"responsive\": true}                    ).then(function(){\n",
       "                            \n",
       "var gd = document.getElementById('2adcd02c-2e03-4915-ad4a-544de0b3b31d');\n",
       "var x = new MutationObserver(function (mutations, observer) {{\n",
       "        var display = window.getComputedStyle(gd).display;\n",
       "        if (!display || display === 'none') {{\n",
       "            console.log([gd, 'removed!']);\n",
       "            Plotly.purge(gd);\n",
       "            observer.disconnect();\n",
       "        }}\n",
       "}});\n",
       "\n",
       "// Listen for the removal of the full notebook cells\n",
       "var notebookContainer = gd.closest('#notebook-container');\n",
       "if (notebookContainer) {{\n",
       "    x.observe(notebookContainer, {childList: true});\n",
       "}}\n",
       "\n",
       "// Listen for the clearing of the current output cell\n",
       "var outputEl = gd.closest('.output');\n",
       "if (outputEl) {{\n",
       "    x.observe(outputEl, {childList: true});\n",
       "}}\n",
       "\n",
       "                        })                };            </script>        </div>"
      ]
     },
     "metadata": {},
     "output_type": "display_data"
    }
   ],
   "source": [
    "import pandas as pd\n",
    "import numpy as np\n",
    "import plotly.graph_objects as go\n",
    "import os\n",
    "import kagglehub\n",
    "from plotly.offline import init_notebook_mode\n",
    "init_notebook_mode(connected=True)\n",
    "\n",
    "# Dataset ophalen\n",
    "path = kagglehub.dataset_download(\"adilshamim8/social-media-addiction-vs-relationships\")\n",
    "csv_path = os.path.join(path, \"Students Social Media Addiction.csv\")\n",
    "df = pd.read_csv(csv_path)\n",
    "\n",
    "# Filter op leeftijd en geldige waarden\n",
    "df_filtered = df[(df['Age'] >= 18) & (df['Age'] <= 25)]\n",
    "df_filtered = df_filtered.dropna(subset=[\"Mental_Health_Score\", \"Sleep_Hours_Per_Night\", \"Gender\"])\n",
    "\n",
    "# Kleuren\n",
    "colors = {\"Male\": \"blue\", \"Female\": \"deeppink\", \"All\": \"green\"}\n",
    "\n",
    "# Functie om groepsgemiddelde lijntrace te maken\n",
    "def get_line_trace(gender=None):\n",
    "    if gender:\n",
    "        d = df_filtered[df_filtered[\"Gender\"] == gender]\n",
    "        label = gender\n",
    "    else:\n",
    "        d = df_filtered\n",
    "        label = \"All\"\n",
    "\n",
    "    df_avg = d.groupby(\"Sleep_Hours_Per_Night\")[\"Mental_Health_Score\"].mean().reset_index()\n",
    "\n",
    "    return go.Scatter(\n",
    "        x=df_avg[\"Sleep_Hours_Per_Night\"],\n",
    "        y=df_avg[\"Mental_Health_Score\"],\n",
    "        mode='lines+markers',\n",
    "        name=label,\n",
    "        line=dict(color=colors[label], width=3),\n",
    "        visible=True if label == \"Male\" else False  # standaard alleen Male tonen\n",
    "    )\n",
    "\n",
    "# Genereer traces\n",
    "male_line = get_line_trace(\"Male\")\n",
    "female_line = get_line_trace(\"Female\")\n",
    "all_line = get_line_trace(None)\n",
    "\n",
    "# Dropdown-menu (met correcte title.text)\n",
    "buttons = [\n",
    "    dict(label=\"Man\",\n",
    "         method=\"update\",\n",
    "         args=[{\"visible\": [True, False, False]},\n",
    "               {\"title\": {\"text\": \"Gemiddelde mentale gezondheid per slaapduur (mannen)\"}}]),\n",
    "    dict(label=\"Vrouw\",\n",
    "         method=\"update\",\n",
    "         args=[{\"visible\": [False, True, False]},\n",
    "               {\"title\": {\"text\": \"Gemiddelde mentale gezondheid per slaapduur (vrouwen)\"}}]),\n",
    "    dict(label=\"Iedereen\",\n",
    "         method=\"update\",\n",
    "         args=[{\"visible\": [False, False, True]},\n",
    "               {\"title\": {\"text\": \"Gemiddelde mentale gezondheid per slaapduur (alle studenten)\"}}]),\n",
    "    dict(label=\"Allemaal\",\n",
    "         method=\"update\",\n",
    "         args=[{\"visible\": [True, True, True]},\n",
    "               {\"title\": {\"text\": \"Gemiddelde mentale gezondheid per slaapduur (alle groepen)\"}}])\n",
    "]\n",
    "\n",
    "# Plot figuur\n",
    "fig = go.Figure(data=[male_line, female_line, all_line])\n",
    "\n",
    "fig.update_layout(\n",
    "    title={\"text\": \"Gemiddelde mentale gezondheid per slaapduur (mannen)\"},\n",
    "    xaxis=dict(\n",
    "        title=\"Aantal uren slaap per nacht\",\n",
    "        range=[3, 10], \n",
    "        dtick=1,\n",
    "        fixedrange=True\n",
    "    ),\n",
    "    yaxis=dict(\n",
    "        title=\"Gemiddelde mentale gezondheidsscore\",\n",
    "        range=[3, 10],      \n",
    "        dtick=1,\n",
    "        fixedrange=True\n",
    "    ),\n",
    "    updatemenus=[dict(\n",
    "        active=0,\n",
    "        buttons=buttons,\n",
    "        direction=\"down\",\n",
    "        showactive=True,\n",
    "        x=0.01,             # links in beeld\n",
    "        xanchor=\"left\",\n",
    "        y=1.15,             # boven de plot\n",
    "        yanchor=\"top\"\n",
    "    )]\n",
    ")\n",
    "\n",
    "fig.show()"
   ]
  },
  {
   "cell_type": "markdown",
   "id": "2f78cce0",
   "metadata": {},
   "source": [
    "> *Figuur 3: De correlatie tussen de hoeveelheid slaap uren per nacht en de mentale gezondheid van mannen en vrouwen.*"
   ]
  },
  {
   "cell_type": "markdown",
   "id": "8ef91ad9",
   "metadata": {},
   "source": [
    "Figuur 3 toont het verband tussen het aantal uren slaap per nacht (x-as) en de mentale gezondheidsscore van studenten (y-as). Voor zowel mannelijke als vrouwelijke studenten is een duidelijke positieve trend zichtbaar in de regressielijn: de mentale gezondheidsscore neemt toe naarmate studenten meer slapen. Dit wijst erop dat voldoende slaap een beschermende factor vormt voor het mentale welzijn van studenten. Het patroon ondersteunt het idee dat slaaptekort nadelige effecten heeft op de geestelijke gezondheid, terwijl een gezond slaappatroon juist bijdraagt aan psychisch herstel en emotioneel evenwicht (Lee et al., 2024)."
   ]
  },
  {
   "cell_type": "markdown",
   "id": "319cb331",
   "metadata": {},
   "source": [
    "### Sociale Media"
   ]
  },
  {
   "cell_type": "markdown",
   "id": "b5d9e229",
   "metadata": {},
   "source": [
    "Studenten zijn al langer bekend om gevoelig te zijn voor mentale stoornissen. Door hoge studielast, sociale druk en financiële moeilijkheden staan zijn erg onder druk. Ook zijn jongeren meer actief op sociale media en worden daardoor ook beïnvloed. Veel studenten geven aan dat hun studieprestaties negatief worden beïnvloed door sociale media. Studenten die aangeven academisch beïnvloed te worden, gebruiken sociale media vaker. "
   ]
  },
  {
   "cell_type": "code",
   "execution_count": 21,
   "id": "5985ee6e",
   "metadata": {
    "tags": [
     "hide-input"
    ]
   },
   "outputs": [
    {
     "data": {
      "text/html": [
       "        <script type=\"text/javascript\">\n",
       "        window.PlotlyConfig = {MathJaxConfig: 'local'};\n",
       "        if (window.MathJax && window.MathJax.Hub && window.MathJax.Hub.Config) {window.MathJax.Hub.Config({SVG: {font: \"STIX-Web\"}});}\n",
       "        </script>\n",
       "        <script type=\"module\">import \"https://cdn.plot.ly/plotly-3.0.1.min\"</script>\n",
       "        "
      ]
     },
     "metadata": {},
     "output_type": "display_data"
    },
    {
     "data": {
      "application/vnd.plotly.v1+json": {
       "config": {
        "plotlyServerURL": "https://plot.ly"
       },
       "data": [
        {
         "marker": {
          "color": "blue",
          "opacity": 0.6
         },
         "mode": "markers",
         "name": "Male - data",
         "showlegend": true,
         "type": "scatter",
         "x": {
          "bdata": "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",
          "dtype": "f8"
         },
         "y": {
          "bdata": "CAcGCQcFCAcIBwUGBwcIBwUGBwcIBwUGBwcIBwUGBwYIBwgFBggFBggHBQUGBwcIBQYFBgcHCAUHBgUHBgUHBgUHBgUHBgUHBgUHBgUHBgUHBQYHBQYHBQYHBQYHBQYHBQYHBQYHBQYHBQYHBQYGBwYHBggFBwYIBQcGCAUHBggFBwYIBQcGCAUHBggFBwYIBQcGCAUHBggFBwYIBQcGCAgFBgYGCAUGBgYIBQYGBggFBgYGCAUGBgYIBQYGBggFBgYGCAUGBgYIBQYGBggFBgYGCAUGBgYIBQYGBggFBgYGCAUGBgYIBQYGBggFBgYGCAUGBgYIBQYGBgcHBgcHBwcGBwcHBwYHBwcHBgcHBwcGBwcHBwYHBwcHBgcHCAQFBQYHBgUFBgcGBgUECAcHBAUFBgcGBQUGBwYHBQQIBwcEBQUGBwYFBQYHBgcFBAgHBwQFBQYHBgUFBgcGBwUECA==",
          "dtype": "i1"
         }
        },
        {
         "line": {
          "color": "blue",
          "width": 2
         },
         "mode": "lines",
         "name": "Male - trend",
         "showlegend": true,
         "type": "scatter",
         "x": {
          "bdata": "AAAAAAAA+D/44IMPPvj4P/DBBx988Pk/6aKLLrro+j/hgw8++OD7P9lkk0022fw/0kUXXXTR/T/KJptsssn+P8IHH3zwwf8/XXTRRRddAEDZZJNNNtkAQFZVVVVVVQFA0kUXXXTRAUBONtlkk00CQMomm2yyyQJARhdddNFFA0DCBx988MEDQD744IMPPgRAuuiiiy66BEA22WSTTTYFQLLJJptssgVALrrooosuBkCrqqqqqqoGQCebbLLJJgdAo4suuuiiB0AffPDBBx8IQJtssskmmwhAGF100UUXCUCUTTbZZJMJQBA++OCDDwpAjC666KKLCkAIH3zwwQcLQIQPPvjggwtAAAAAAAAADEB88MEHH3wMQPjggw8++AxAdNFFF110DUDxwQcffPANQG2yySabbA5A6aKLLrroDkBlk0022WQPQOGDDz744A9ALrrooosuEEBssskmm2wQQKuqqqqqqhBA6aKLLrroEEAnm2yyySYRQGWTTTbZZBFAo4suuuiiEUDhgw8++OARQB988MEHHxJAXXTRRRddEkCbbLLJJpsSQNpkk0022RJAGF100UUXE0BWVVVVVVUTQJRNNtlkkxNA0kUXXXTRE0AQPvjggw8UQE422WSTTRRAjC666KKLFEDKJptssskUQAgffPDBBxVARhdddNFFFUCEDz744IMVQMIHH3zwwRVAAAAAAAAAFkA++OCDDz4WQHzwwQcffBZAuuiiiy66FkD44IMPPvgWQDbZZJNNNhdAdNFFF110F0CzySabbLIXQPHBBx988BdAL7rooosuGEBtsskmm2wYQKuqqqqqqhhA6aKLLrroGEAnm2yyySYZQGWTTTbZZBlAo4suuuiiGUDhgw8++OAZQB988MEHHxpAXXTRRRddGkCbbLLJJpsaQNlkk0022RpAF1100UUXG0BWVVVVVVUbQJRNNtlkkxtA0kUXXXTRG0AQPvjggw8cQE422WSTTRxAjC666KKLHEDKJptssskcQAgffPDBBx1ARhdddNFFHUCEDz744IMdQMIHH3zwwR1AAAAAAAAAHkA=",
          "dtype": "f8"
         },
         "y": {
          "bdata": "G5H7wIcYIUCvYjWKWwMhQEM0b1Mv7iBA1wWpHAPZIEBr1+Ll1sMgQP+oHK+qriBAk3pWeH6ZIEAmTJBBUoQgQLodygombyBATu8D1PlZIEDiwD2dzUQgQHaSd2ahLyBACmSxL3UaIECeNev4SAUgQGQOSoQ54B9Ai7G9FuG1H0CzVDGpiIsfQNv3pDswYR9AA5sYztc2H0AqPoxgfwwfQFLh//Im4h5AeoRzhc63HkCiJ+cXdo0eQMrKWqodYx5A8m3OPMU4HkAZEULPbA4eQEG0tWEU5B1AaFcp9Lu5HUCQ+pyGY48dQLidEBkLZR1A4ECEq7I6HUAI5Pc9WhAdQDCHa9AB5hxAWCrfYqm7HEB/zVL1UJEcQKdwxof4ZhxAzxM6GqA8HED2tq2sRxIcQB5aIT/v5xtARv2U0Za9G0BuoAhkPpMbQJZDfPblaBtAvubviI0+G0DmiWMbNRQbQAwt163c6RpANNBKQIS/GkBcc77SK5UaQIQWMmXTahpArLml93pAGkDUXBmKIhYaQPz/jBzK6xlAJKMAr3HBGUBLRnRBGZcZQHLp59PAbBlAmoxbZmhCGUDCL8/4DxgZQOrSQou37RhAEna2HV/DGEA6GSqwBpkYQGK8nUKubhhAiV8R1VVEGECxAoVn/RkYQNml+Pmk7xdAAElsjEzFF0Ao7N8e9JoXQFCPU7GbcBdAeDLHQ0NGF0Cg1TrW6hsXQMh4rmiS8RZA8Bsi+znHFkAYv5WN4ZwWQD9iCSCJchZAZwV9sjBIFkCOqPBE2B0WQLZLZNd/8xVA3u7XaSfJFUAGkkv8zp4VQC01v452dBVAVdgyIR5KFUB9e6azxR8VQKUeGkZt9RRAzcGN2BTLFED1ZAFrvKAUQBwIdf1jdhRARKvojwtMFEBsTlwisyEUQJTxz7Ra9xNAvJRDRwLNE0DjN7fZqaITQAvbKmxReBNAMn6e/vhNE0BaIRKRoCMTQILEhSNI+RJAqmf5te/OEkDSCm1Il6QSQPqt4No+ehJAIVFUbeZPEkBJ9Mf/jSUSQHGXO5I1+xFAmTqvJN3QEUA=",
          "dtype": "f8"
         }
        },
        {
         "marker": {
          "color": "deeppink",
          "opacity": 0.6
         },
         "mode": "markers",
         "name": "Female - data",
         "showlegend": true,
         "type": "scatter",
         "x": {
          "bdata": "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",
          "dtype": "f8"
         },
         "y": {
          "bdata": "BgUEBgcGBQYFBggFBQYFBggFBQYFBggFBQYFBggFBQQGBQYHBQYHBQYIBggFBgUGCAUIBQYFBgYFCAYFCAYFCAYFCAYFCAYFCAYFCAYFCAYFBgcFBgcFBgcFBgcFBgcFBgcFBgcFBgcFBgcFBgcFCAgGBAcIBgQHCAYEBwgGBAcIBgQHCAYEBwgGBAcIBgQHCAYEBwgGBAcIBgQHCAYEBwYHCAUHBgcIBQcGBwgFBwYHCAUHBgcIBQcGBwgFBwYHCAUHBgcIBQcGBwgFBwYHCAUHBgcIBQcGBwgFBwYHCAUHBgcIBQcGBwgFBwYHCAUHBgcIBQcGBwgFBwYIBgUFBggGBQUGCAYFBQYIBgUFBggGBQUGCAYFBQYIBgUFBQYHBgcFBQgHBwQFBQcHBgUFBgcGBwUECAcHBAUFBgcGBQUGBwYHBQQIBwcEBQUGBwYFBQYHBgcFBAgHBwQFBQYHBgU=",
          "dtype": "i1"
         }
        },
        {
         "line": {
          "color": "deeppink",
          "width": 2
         },
         "mode": "lines",
         "name": "Female - trend",
         "showlegend": true,
         "type": "scatter",
         "x": {
          "bdata": "mpmZmZmZAUAc1r5h7RsCQJ8S5ClBngJAIU8J8pQgA0Cjiy666KIDQCbIU4I8JQRAqAR5SpCnBEAqQZ4S5CkFQKx9w9o3rAVAL7rooosuBkCx9g1r37AGQDQzMzMzMwdAtm9Y+4a1B0A4rH3D2jcIQLrooosuughAPSXIU4I8CUC/Ye0b1r4JQEKeEuQpQQpAxNo3rH3DCkBGF1100UULQMhTgjwlyAtASpCnBHlKDEDNzMzMzMwMQE8J8pQgTw1A0kUXXXTRDUBUgjwlyFMOQNa+Ye0b1g5AWPuGtW9YD0DbN6x9w9oPQC666KKLLhBAcFj7hrVvEECx9g1r37AQQPKUIE8J8hBAMzMzMzMzEUB00UUXXXQRQLZvWPuGtRFA9g1r37D2EUA4rH3D2jcSQHlKkKcEeRJAuuiiiy66EkD7hrVvWPsSQDwlyFOCPBNAfsPaN6x9E0C+Ye0b1r4TQAAAAAAAABRAQZ4S5ClBFECCPCXIU4IUQMTaN6x9wxRABHlKkKcEFUBGF1100UUVQIe1b1j7hhVAyFOCPCXIFUAJ8pQgTwkWQEqQpwR5ShZAjC666KKLFkDMzMzMzMwWQA5r37D2DRdATwnylCBPF0CQpwR5SpAXQNFFF1100RdAEuQpQZ4SGEBUgjwlyFMYQJQgTwnylBhA1r5h7RvWGEAXXXTRRRcZQFj7hrVvWBlAmZmZmZmZGUDaN6x9w9oZQBzWvmHtGxpAXXTRRRddGkCeEuQpQZ4aQN+w9g1r3xpAIE8J8pQgG0Bh7RvWvmEbQKOLLrroohtA5ClBnhLkG0AlyFOCPCUcQGZmZmZmZhxApwR5SpCnHEDooosuuugcQClBnhLkKR1Aa9+w9g1rHUCsfcPaN6wdQO0b1r5h7R1ALrrooosuHkBvWPuGtW8eQLD2DWvfsB5A8pQgTwnyHkAzMzMzMzMfQHTRRRdddB9AtW9Y+4a1H0D2DWvfsPYfQBzWvmHtGyBAPCXIU4I8IEBddNFFF10gQH7D2jesfSBAnhLkKUGeIEC+Ye0b1r4gQN+w9g1r3yBAAAAAAAAAIUA=",
          "dtype": "f8"
         },
         "y": {
          "bdata": "27FuoENpIEAyWjhWvFEgQIgCAgw1OiBA36rLwa0iIEA2U5V3JgsgQBr3vVo+5x9AyEdRxi+4H0B2mOQxIYkfQCPpd50SWh9A0DkLCQQrH0B+ip509fseQCzbMeDmzB5A2ivFS9idHkCHfFi3yW4eQDXN6yK7Px5A4h1/jqwQHkCQbhL6neEdQD6/pWWPsh1A6w850YCDHUCZYMw8clQdQEaxX6hjJR1A9AHzE1X2HECiUoZ/RsccQFCjGes3mBxA/POsVilpHECqREDCGjocQFiV0y0MCxxABuZmmf3bG0C0NvoE76wbQGKHjXDgfRtADtgg3NFOG0C8KLRHwx8bQGp5R7O08BpAGMraHqbBGkDGGm6Kl5IaQHJrAfaIYxpAIbyUYXo0GkDODCjNawUaQHxduzhd1hlAKq5OpE6nGUDX/uEPQHgZQIVPdXsxSRlAMqAI5yIaGUDg8JtSFOsYQI1BL74FvBhAO5LCKfeMGEDo4lWV6F0YQJYz6QDaLhhARIR8bMv/F0Dx1A/YvNAXQJ8lo0OuoRdATHY2r59yF0D6xskakUMXQKgXXYaCFBdAVWjw8XPlFkAEuYNdZbYWQLEJF8lWhxZAXlqqNEhYFkAMqz2gOSkWQLr70Asr+hVAaExkdxzLFUAVnffiDZwVQMPtik7/bBVAcD4euvA9FUAej7El4g4VQMvfRJHT3xRAeTDY/MSwFEAngWtotoEUQNTR/tOnUhRAgiKSP5kjFEAvcyWrivQTQN3DuBZ8xRNAixRMgm2WE0A5Zd/tXmcTQOa1cllQOBNAkwYGxUEJE0BBV5kwM9oSQO+nLJwkqxJAnfi/BxZ8EkBKSVNzB00SQPiZ5t74HRJApep5SuruEUBTOw22278RQAGMoCHNkBFArtwzjb5hEUBcLcf4rzIRQAp+WmShAxFAt87tz5LUEEBkH4E7hKUQQBJwFKd1dhBAwMCnEmdHEEBuETt+WBgQQDbEnNOT0g9AkmXDqnZ0D0DsBuqBWRYPQEaoEFk8uA5ApEk3MB9aDkAA610HAvwNQFqMhN7knQ1AtC2rtcc/DUA=",
          "dtype": "f8"
         }
        },
        {
         "marker": {
          "color": "green",
          "opacity": 0.6
         },
         "mode": "markers",
         "name": "All - data",
         "showlegend": true,
         "type": "scatter",
         "x": {
          "bdata": "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",
          "dtype": "f8"
         },
         "y": {
          "bdata": "BggFBwYECQYHBwUGCAUHBggFBwYFCAYFBwUHBggFBwYFCAYFBwUHBggFBwYFCAYFBwUHBggFBwYFCAYFBwUGBAgGBwUIBgUHBgUIBgUHBgUIBgcIBQYFCAYFBwYHBQgGBQgGBQUIBgUHBgcFCAYFBgcFBggFBgcFBggFBgcFBggFBgcFBggFBgcFBggFBgcFBggFBgcFBggFBgcFBggFBgUHBgUHBgUHBgUHBgUHBgUHBgUHBgUHBgUHBgUHBgUHBgUHBgUHBgUHBgUHBgUHBgUHBgUHBgUHBgUHBgUGCAcIBgYHBAYHCAgFBgcEBgcICAUGBwQGBwgIBQYHBAYHCAgFBgcEBgcICAUGBwQGBwgIBQYHBAYHCAgFBgcEBgcICAUGBwQGBwgIBQYHBAYHCAgFBgcEBgcICAUGBwQGBwgGCAcFCAYFBgcGBggHBQgGBQYHBgYIBwUIBgUGBwYGCAcFCAYFBgcGBggHBQgGBQYHBgYIBwUIBgUGBwYGCAcFCAYFBgcGBggHBQgGBQYHBgYIBwUIBgUGBwYGCAcFCAYFBgcGBggHBQgGBQYHBgYIBwUIBgUGBwYGCAcFCAYFBgcGBggHBQgGBQYHBgYIBwUIBgUGBwYGCAcFCAYFBgcGBggHBQgGBQYHBgYIBwUIBgUGBwYGBwgHBgYFBwUHBgcIBwYGBQcFBwYHCAcGBgUHBQcGBwgHBgYFBwUHBgcIBwYGBQcFBwYHCAcGBgUHBQcGBwgHBgYFBwUHBQgGBAcFBgUHBgUHBQYIBQcFBwYEBwUGBQYHBQcEBggFBwUHBgQHBQYFBwYFBwQGCAUHBQcGBAcFBgUHBgUHBAYIBQcFBwYEBwUGBQcGBQcEBggFBwUHBgQHBQYFBwYFBwQGCAUHBQcGBAcFBgUHBgUHBAYIBQcFBwYEBwUGBQcGBQcEBggF",
          "dtype": "i1"
         }
        },
        {
         "line": {
          "color": "green",
          "width": 2
         },
         "mode": "lines",
         "name": "All - trend",
         "showlegend": true,
         "type": "scatter",
         "x": {
          "bdata": "AAAAAAAA+D93hsS8nSH5P+4MiXk7Q/o/ZZNNNtlk+z/cGRLzdob8P1Og1q8UqP0/yiabbLLJ/j9ArV8pUOv/P9wZEvN2hgBAF1100UUXAUBToNavFKgBQI7jOI7jOAJAyiabbLLJAkAFav1KgVoDQECtXylQ6wNAfPDBBx98BEC4MyTm7QwFQPN2hsS8nQVALrrooosuBkBq/UqBWr8GQKZArV8pUAdA4YMPPvjgB0Acx3Ecx3EIQFgK1PqVAglAk0022WSTCUDOkJi3MyQKQArU+pUCtQpARhdddNFFC0CBWr9SoNYLQL2dITFvZwxA+OCDDz74DEA0JObtDIkNQG9nSMzbGQ5AqqqqqqqqDkDm7QyJeTsPQCExb2dIzA9ALrrooosuEEDM2xkS83YQQGr9SoFavxBACB988MEHEUCmQK1fKVARQENi3s6QmBFA4YMPPvjgEUB+pUCtXykSQBzHcRzHcRJAuuiiiy66EkBYCtT6lQITQPYrBWr9ShNAk0022WSTE0Axb2dIzNsTQM6QmLczJBRAbLLJJptsFEAK1PqVArUUQKj1KwVq/RRARhdddNFFFUDkOI7jOI4VQIFav1Kg1hVAH3zwwQcfFkC9nSExb2cWQFq/UqDWrxZA+OCDDz74FkCWArV+pUAXQDQk5u0MiRdA0UUXXXTRF0BvZ0jM2xkYQA2JeTtDYhhAqqqqqqqqGEBIzNsZEvMYQObtDIl5OxlAhA8++OCDGUAhMW9nSMwZQL9SoNavFBpAXXTRRRddGkD7lQK1fqUaQJi3MyTm7RpANtlkk002G0DU+pUCtX4bQHIcx3EcxxtADz744IMPHECtXylQ61ccQEuBWr9SoBxA6KKLLrroHECGxLydITEdQCTm7QyJeR1AwgcffPDBHUBfKVDrVwoeQP1KgVq/Uh5Am2yyySabHkA5juM4juMeQNavFKj1Kx9AdNFFF110H0AS83aGxLwfQFgK1PqVAiBAJptssskmIED2KwVq/UogQMS8nSExbyBAk0022WSTIEBi3s6QmLcgQDFvZ0jM2yBAAAAAAAAAIUA=",
          "dtype": "f8"
         },
         "y": {
          "bdata": "gyWyGntEIUBUgrOT/iohQCXftAyCESFA9ju2hQX4IEDImLf+iN4gQJn1uHcMxSBAalK68I+rIEA7r7tpE5IgQAwMveKWeCBA3mi+WxpfIECvxb/UnUUgQIAiwU0hLCBAUX/CxqQSIEBGuId/UPIfQOhxinFXvx9AiiuNY16MH0As5Y9VZVkfQM+ekkdsJh9AcliVOXPzHkAUEpgresAeQLbLmh2BjR5AWYWdD4haHkD8PqABjyceQJ74ovOV9B1AQLKl5ZzBHUDka6jXo44dQIYlq8mqWx1AKN+tu7EoHUDKmLCtuPUcQG1Ss5+/whxAEAy2kcaPHECyxbiDzVwcQFR/u3XUKRxA9zi+Z9v2G0Ca8sBZ4sMbQDysw0vpkBtA3mXGPfBdG0CBH8kv9yobQCPZyyH+9xpAxpLOEwXFGkBoTNEFDJIaQAoG1PcSXxpArb/W6RksGkBQednbIPkZQPIy3M0nxhlAlOzevy6TGUA3puGxNWAZQNlf5KM8LRlAfBnnlUP6GEAe0+mHSscYQMKM7HlRlBhAZEbva1hhGEAGAPJdXy4YQKi59E9m+xdASnP3QW3IF0DtLPozdJUXQJDm/CV7YhdAMqD/F4IvF0DUWQIKifwWQHgTBfyPyRZAGs0H7paWFkC8hgrgnWMWQF5ADdKkMBZAAfoPxKv9FUCjsxK2ssoVQEZtFai5lxVA6SYYmsBkFUCL4BqMxzEVQC2aHX7O/hRA0FMgcNXLFEBzDSNi3JgUQBXHJVTjZRRAt4AoRuoyFEBZOis48f8TQPzzLSr4zBNAn60wHP+ZE0BBZzMOBmcTQOMgNgANNBNAhto48hMBE0AplDvkGs4SQMtNPtYhmxJAbgdByChoEkAQwUO6LzUSQLJ6Rqw2AhJAVTRJnj3PEUD47UuQRJwRQJqnToJLaRFAPGFRdFI2EUDfGlRmWQMRQIHUVlhg0BBAJI5ZSmedEEDGR1w8bmoQQGgBXy51NxBADLthIHwEEEBa6cgkBqMPQKJczggUPQ9A5s/T7CHXDkAqQ9nQL3EOQG623rQ9Cw5AtCnkmEulDUA=",
          "dtype": "f8"
         }
        }
       ],
       "layout": {
        "template": {
         "data": {
          "bar": [
           {
            "error_x": {
             "color": "#2a3f5f"
            },
            "error_y": {
             "color": "#2a3f5f"
            },
            "marker": {
             "line": {
              "color": "#E5ECF6",
              "width": 0.5
             },
             "pattern": {
              "fillmode": "overlay",
              "size": 10,
              "solidity": 0.2
             }
            },
            "type": "bar"
           }
          ],
          "barpolar": [
           {
            "marker": {
             "line": {
              "color": "#E5ECF6",
              "width": 0.5
             },
             "pattern": {
              "fillmode": "overlay",
              "size": 10,
              "solidity": 0.2
             }
            },
            "type": "barpolar"
           }
          ],
          "carpet": [
           {
            "aaxis": {
             "endlinecolor": "#2a3f5f",
             "gridcolor": "white",
             "linecolor": "white",
             "minorgridcolor": "white",
             "startlinecolor": "#2a3f5f"
            },
            "baxis": {
             "endlinecolor": "#2a3f5f",
             "gridcolor": "white",
             "linecolor": "white",
             "minorgridcolor": "white",
             "startlinecolor": "#2a3f5f"
            },
            "type": "carpet"
           }
          ],
          "choropleth": [
           {
            "colorbar": {
             "outlinewidth": 0,
             "ticks": ""
            },
            "type": "choropleth"
           }
          ],
          "contour": [
           {
            "colorbar": {
             "outlinewidth": 0,
             "ticks": ""
            },
            "colorscale": [
             [
              0,
              "#0d0887"
             ],
             [
              0.1111111111111111,
              "#46039f"
             ],
             [
              0.2222222222222222,
              "#7201a8"
             ],
             [
              0.3333333333333333,
              "#9c179e"
             ],
             [
              0.4444444444444444,
              "#bd3786"
             ],
             [
              0.5555555555555556,
              "#d8576b"
             ],
             [
              0.6666666666666666,
              "#ed7953"
             ],
             [
              0.7777777777777778,
              "#fb9f3a"
             ],
             [
              0.8888888888888888,
              "#fdca26"
             ],
             [
              1,
              "#f0f921"
             ]
            ],
            "type": "contour"
           }
          ],
          "contourcarpet": [
           {
            "colorbar": {
             "outlinewidth": 0,
             "ticks": ""
            },
            "type": "contourcarpet"
           }
          ],
          "heatmap": [
           {
            "colorbar": {
             "outlinewidth": 0,
             "ticks": ""
            },
            "colorscale": [
             [
              0,
              "#0d0887"
             ],
             [
              0.1111111111111111,
              "#46039f"
             ],
             [
              0.2222222222222222,
              "#7201a8"
             ],
             [
              0.3333333333333333,
              "#9c179e"
             ],
             [
              0.4444444444444444,
              "#bd3786"
             ],
             [
              0.5555555555555556,
              "#d8576b"
             ],
             [
              0.6666666666666666,
              "#ed7953"
             ],
             [
              0.7777777777777778,
              "#fb9f3a"
             ],
             [
              0.8888888888888888,
              "#fdca26"
             ],
             [
              1,
              "#f0f921"
             ]
            ],
            "type": "heatmap"
           }
          ],
          "histogram": [
           {
            "marker": {
             "pattern": {
              "fillmode": "overlay",
              "size": 10,
              "solidity": 0.2
             }
            },
            "type": "histogram"
           }
          ],
          "histogram2d": [
           {
            "colorbar": {
             "outlinewidth": 0,
             "ticks": ""
            },
            "colorscale": [
             [
              0,
              "#0d0887"
             ],
             [
              0.1111111111111111,
              "#46039f"
             ],
             [
              0.2222222222222222,
              "#7201a8"
             ],
             [
              0.3333333333333333,
              "#9c179e"
             ],
             [
              0.4444444444444444,
              "#bd3786"
             ],
             [
              0.5555555555555556,
              "#d8576b"
             ],
             [
              0.6666666666666666,
              "#ed7953"
             ],
             [
              0.7777777777777778,
              "#fb9f3a"
             ],
             [
              0.8888888888888888,
              "#fdca26"
             ],
             [
              1,
              "#f0f921"
             ]
            ],
            "type": "histogram2d"
           }
          ],
          "histogram2dcontour": [
           {
            "colorbar": {
             "outlinewidth": 0,
             "ticks": ""
            },
            "colorscale": [
             [
              0,
              "#0d0887"
             ],
             [
              0.1111111111111111,
              "#46039f"
             ],
             [
              0.2222222222222222,
              "#7201a8"
             ],
             [
              0.3333333333333333,
              "#9c179e"
             ],
             [
              0.4444444444444444,
              "#bd3786"
             ],
             [
              0.5555555555555556,
              "#d8576b"
             ],
             [
              0.6666666666666666,
              "#ed7953"
             ],
             [
              0.7777777777777778,
              "#fb9f3a"
             ],
             [
              0.8888888888888888,
              "#fdca26"
             ],
             [
              1,
              "#f0f921"
             ]
            ],
            "type": "histogram2dcontour"
           }
          ],
          "mesh3d": [
           {
            "colorbar": {
             "outlinewidth": 0,
             "ticks": ""
            },
            "type": "mesh3d"
           }
          ],
          "parcoords": [
           {
            "line": {
             "colorbar": {
              "outlinewidth": 0,
              "ticks": ""
             }
            },
            "type": "parcoords"
           }
          ],
          "pie": [
           {
            "automargin": true,
            "type": "pie"
           }
          ],
          "scatter": [
           {
            "fillpattern": {
             "fillmode": "overlay",
             "size": 10,
             "solidity": 0.2
            },
            "type": "scatter"
           }
          ],
          "scatter3d": [
           {
            "line": {
             "colorbar": {
              "outlinewidth": 0,
              "ticks": ""
             }
            },
            "marker": {
             "colorbar": {
              "outlinewidth": 0,
              "ticks": ""
             }
            },
            "type": "scatter3d"
           }
          ],
          "scattercarpet": [
           {
            "marker": {
             "colorbar": {
              "outlinewidth": 0,
              "ticks": ""
             }
            },
            "type": "scattercarpet"
           }
          ],
          "scattergeo": [
           {
            "marker": {
             "colorbar": {
              "outlinewidth": 0,
              "ticks": ""
             }
            },
            "type": "scattergeo"
           }
          ],
          "scattergl": [
           {
            "marker": {
             "colorbar": {
              "outlinewidth": 0,
              "ticks": ""
             }
            },
            "type": "scattergl"
           }
          ],
          "scattermap": [
           {
            "marker": {
             "colorbar": {
              "outlinewidth": 0,
              "ticks": ""
             }
            },
            "type": "scattermap"
           }
          ],
          "scattermapbox": [
           {
            "marker": {
             "colorbar": {
              "outlinewidth": 0,
              "ticks": ""
             }
            },
            "type": "scattermapbox"
           }
          ],
          "scatterpolar": [
           {
            "marker": {
             "colorbar": {
              "outlinewidth": 0,
              "ticks": ""
             }
            },
            "type": "scatterpolar"
           }
          ],
          "scatterpolargl": [
           {
            "marker": {
             "colorbar": {
              "outlinewidth": 0,
              "ticks": ""
             }
            },
            "type": "scatterpolargl"
           }
          ],
          "scatterternary": [
           {
            "marker": {
             "colorbar": {
              "outlinewidth": 0,
              "ticks": ""
             }
            },
            "type": "scatterternary"
           }
          ],
          "surface": [
           {
            "colorbar": {
             "outlinewidth": 0,
             "ticks": ""
            },
            "colorscale": [
             [
              0,
              "#0d0887"
             ],
             [
              0.1111111111111111,
              "#46039f"
             ],
             [
              0.2222222222222222,
              "#7201a8"
             ],
             [
              0.3333333333333333,
              "#9c179e"
             ],
             [
              0.4444444444444444,
              "#bd3786"
             ],
             [
              0.5555555555555556,
              "#d8576b"
             ],
             [
              0.6666666666666666,
              "#ed7953"
             ],
             [
              0.7777777777777778,
              "#fb9f3a"
             ],
             [
              0.8888888888888888,
              "#fdca26"
             ],
             [
              1,
              "#f0f921"
             ]
            ],
            "type": "surface"
           }
          ],
          "table": [
           {
            "cells": {
             "fill": {
              "color": "#EBF0F8"
             },
             "line": {
              "color": "white"
             }
            },
            "header": {
             "fill": {
              "color": "#C8D4E3"
             },
             "line": {
              "color": "white"
             }
            },
            "type": "table"
           }
          ]
         },
         "layout": {
          "annotationdefaults": {
           "arrowcolor": "#2a3f5f",
           "arrowhead": 0,
           "arrowwidth": 1
          },
          "autotypenumbers": "strict",
          "coloraxis": {
           "colorbar": {
            "outlinewidth": 0,
            "ticks": ""
           }
          },
          "colorscale": {
           "diverging": [
            [
             0,
             "#8e0152"
            ],
            [
             0.1,
             "#c51b7d"
            ],
            [
             0.2,
             "#de77ae"
            ],
            [
             0.3,
             "#f1b6da"
            ],
            [
             0.4,
             "#fde0ef"
            ],
            [
             0.5,
             "#f7f7f7"
            ],
            [
             0.6,
             "#e6f5d0"
            ],
            [
             0.7,
             "#b8e186"
            ],
            [
             0.8,
             "#7fbc41"
            ],
            [
             0.9,
             "#4d9221"
            ],
            [
             1,
             "#276419"
            ]
           ],
           "sequential": [
            [
             0,
             "#0d0887"
            ],
            [
             0.1111111111111111,
             "#46039f"
            ],
            [
             0.2222222222222222,
             "#7201a8"
            ],
            [
             0.3333333333333333,
             "#9c179e"
            ],
            [
             0.4444444444444444,
             "#bd3786"
            ],
            [
             0.5555555555555556,
             "#d8576b"
            ],
            [
             0.6666666666666666,
             "#ed7953"
            ],
            [
             0.7777777777777778,
             "#fb9f3a"
            ],
            [
             0.8888888888888888,
             "#fdca26"
            ],
            [
             1,
             "#f0f921"
            ]
           ],
           "sequentialminus": [
            [
             0,
             "#0d0887"
            ],
            [
             0.1111111111111111,
             "#46039f"
            ],
            [
             0.2222222222222222,
             "#7201a8"
            ],
            [
             0.3333333333333333,
             "#9c179e"
            ],
            [
             0.4444444444444444,
             "#bd3786"
            ],
            [
             0.5555555555555556,
             "#d8576b"
            ],
            [
             0.6666666666666666,
             "#ed7953"
            ],
            [
             0.7777777777777778,
             "#fb9f3a"
            ],
            [
             0.8888888888888888,
             "#fdca26"
            ],
            [
             1,
             "#f0f921"
            ]
           ]
          },
          "colorway": [
           "#636efa",
           "#EF553B",
           "#00cc96",
           "#ab63fa",
           "#FFA15A",
           "#19d3f3",
           "#FF6692",
           "#B6E880",
           "#FF97FF",
           "#FECB52"
          ],
          "font": {
           "color": "#2a3f5f"
          },
          "geo": {
           "bgcolor": "white",
           "lakecolor": "white",
           "landcolor": "#E5ECF6",
           "showlakes": true,
           "showland": true,
           "subunitcolor": "white"
          },
          "hoverlabel": {
           "align": "left"
          },
          "hovermode": "closest",
          "mapbox": {
           "style": "light"
          },
          "paper_bgcolor": "white",
          "plot_bgcolor": "#E5ECF6",
          "polar": {
           "angularaxis": {
            "gridcolor": "white",
            "linecolor": "white",
            "ticks": ""
           },
           "bgcolor": "#E5ECF6",
           "radialaxis": {
            "gridcolor": "white",
            "linecolor": "white",
            "ticks": ""
           }
          },
          "scene": {
           "xaxis": {
            "backgroundcolor": "#E5ECF6",
            "gridcolor": "white",
            "gridwidth": 2,
            "linecolor": "white",
            "showbackground": true,
            "ticks": "",
            "zerolinecolor": "white"
           },
           "yaxis": {
            "backgroundcolor": "#E5ECF6",
            "gridcolor": "white",
            "gridwidth": 2,
            "linecolor": "white",
            "showbackground": true,
            "ticks": "",
            "zerolinecolor": "white"
           },
           "zaxis": {
            "backgroundcolor": "#E5ECF6",
            "gridcolor": "white",
            "gridwidth": 2,
            "linecolor": "white",
            "showbackground": true,
            "ticks": "",
            "zerolinecolor": "white"
           }
          },
          "shapedefaults": {
           "line": {
            "color": "#2a3f5f"
           }
          },
          "ternary": {
           "aaxis": {
            "gridcolor": "white",
            "linecolor": "white",
            "ticks": ""
           },
           "baxis": {
            "gridcolor": "white",
            "linecolor": "white",
            "ticks": ""
           },
           "bgcolor": "#E5ECF6",
           "caxis": {
            "gridcolor": "white",
            "linecolor": "white",
            "ticks": ""
           }
          },
          "title": {
           "x": 0.05
          },
          "xaxis": {
           "automargin": true,
           "gridcolor": "white",
           "linecolor": "white",
           "ticks": "",
           "title": {
            "standoff": 15
           },
           "zerolinecolor": "white",
           "zerolinewidth": 2
          },
          "yaxis": {
           "automargin": true,
           "gridcolor": "white",
           "linecolor": "white",
           "ticks": "",
           "title": {
            "standoff": 15
           },
           "zerolinecolor": "white",
           "zerolinewidth": 2
          }
         }
        },
        "title": {
         "text": "Social media gebruik vs. mentale gezondheid"
        },
        "updatemenus": [
         {
          "active": 0,
          "buttons": [
           {
            "args": [
             {
              "visible": [
               true,
               true,
               false,
               false,
               false,
               false
              ]
             }
            ],
            "label": "Man",
            "method": "update"
           },
           {
            "args": [
             {
              "visible": [
               false,
               false,
               true,
               true,
               false,
               false
              ]
             }
            ],
            "label": "Vrouw",
            "method": "update"
           },
           {
            "args": [
             {
              "visible": [
               false,
               false,
               false,
               false,
               true,
               true
              ]
             }
            ],
            "label": "Iedereen",
            "method": "update"
           }
          ],
          "direction": "down",
          "showactive": true,
          "x": 0.01,
          "xanchor": "left",
          "y": 1.15,
          "yanchor": "top"
         }
        ],
        "xaxis": {
         "dtick": 1,
         "fixedrange": true,
         "range": [
          0.5,
          9.5
         ],
         "title": {
          "text": "Gemiddeld aantal gebruiksuren van social media per dag"
         }
        },
        "yaxis": {
         "dtick": 1,
         "fixedrange": true,
         "range": [
          3,
          10
         ],
         "title": {
          "text": "Mentale gezondheidsscore"
         }
        }
       }
      },
      "text/html": [
       "<div>            <script src=\"https://cdnjs.cloudflare.com/ajax/libs/mathjax/2.7.5/MathJax.js?config=TeX-AMS-MML_SVG\"></script><script type=\"text/javascript\">if (window.MathJax && window.MathJax.Hub && window.MathJax.Hub.Config) {window.MathJax.Hub.Config({SVG: {font: \"STIX-Web\"}});}</script>                <script type=\"text/javascript\">window.PlotlyConfig = {MathJaxConfig: 'local'};</script>\n",
       "        <script charset=\"utf-8\" src=\"https://cdn.plot.ly/plotly-3.0.1.min.js\"></script>                <div id=\"be8e1262-676f-41a1-a20d-b3ac298676fd\" class=\"plotly-graph-div\" style=\"height:525px; width:100%;\"></div>            <script type=\"text/javascript\">                window.PLOTLYENV=window.PLOTLYENV || {};                                if (document.getElementById(\"be8e1262-676f-41a1-a20d-b3ac298676fd\")) {                    Plotly.newPlot(                        \"be8e1262-676f-41a1-a20d-b3ac298676fd\",                        [{\"marker\":{\"color\":\"blue\",\"opacity\":0.6},\"mode\":\"markers\",\"name\":\"Male - data\",\"showlegend\":true,\"x\":{\"dtype\":\"f8\",\"bdata\":\"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\"},\"y\":{\"dtype\":\"i1\",\"bdata\":\"CAcGCQcFCAcIBwUGBwcIBwUGBwcIBwUGBwcIBwUGBwYIBwgFBggFBggHBQUGBwcIBQYFBgcHCAUHBgUHBgUHBgUHBgUHBgUHBgUHBgUHBgUHBQYHBQYHBQYHBQYHBQYHBQYHBQYHBQYHBQYHBQYGBwYHBggFBwYIBQcGCAUHBggFBwYIBQcGCAUHBggFBwYIBQcGCAUHBggFBwYIBQcGCAgFBgYGCAUGBgYIBQYGBggFBgYGCAUGBgYIBQYGBggFBgYGCAUGBgYIBQYGBggFBgYGCAUGBgYIBQYGBggFBgYGCAUGBgYIBQYGBggFBgYGCAUGBgYIBQYGBgcHBgcHBwcGBwcHBwYHBwcHBgcHBwcGBwcHBwYHBwcHBgcHCAQFBQYHBgUFBgcGBgUECAcHBAUFBgcGBQUGBwYHBQQIBwcEBQUGBwYFBQYHBgcFBAgHBwQFBQYHBgUFBgcGBwUECA==\"},\"type\":\"scatter\"},{\"line\":{\"color\":\"blue\",\"width\":2},\"mode\":\"lines\",\"name\":\"Male - trend\",\"showlegend\":true,\"x\":{\"dtype\":\"f8\",\"bdata\":\"AAAAAAAA+D\\u002f44IMPPvj4P\\u002fDBBx988Pk\\u002f6aKLLrro+j\\u002fhgw8++OD7P9lkk0022fw\\u002f0kUXXXTR\\u002fT\\u002fKJptsssn+P8IHH3zwwf8\\u002fXXTRRRddAEDZZJNNNtkAQFZVVVVVVQFA0kUXXXTRAUBONtlkk00CQMomm2yyyQJARhdddNFFA0DCBx988MEDQD744IMPPgRAuuiiiy66BEA22WSTTTYFQLLJJptssgVALrrooosuBkCrqqqqqqoGQCebbLLJJgdAo4suuuiiB0AffPDBBx8IQJtssskmmwhAGF100UUXCUCUTTbZZJMJQBA++OCDDwpAjC666KKLCkAIH3zwwQcLQIQPPvjggwtAAAAAAAAADEB88MEHH3wMQPjggw8++AxAdNFFF110DUDxwQcffPANQG2yySabbA5A6aKLLrroDkBlk0022WQPQOGDDz744A9ALrrooosuEEBssskmm2wQQKuqqqqqqhBA6aKLLrroEEAnm2yyySYRQGWTTTbZZBFAo4suuuiiEUDhgw8++OARQB988MEHHxJAXXTRRRddEkCbbLLJJpsSQNpkk0022RJAGF100UUXE0BWVVVVVVUTQJRNNtlkkxNA0kUXXXTRE0AQPvjggw8UQE422WSTTRRAjC666KKLFEDKJptssskUQAgffPDBBxVARhdddNFFFUCEDz744IMVQMIHH3zwwRVAAAAAAAAAFkA++OCDDz4WQHzwwQcffBZAuuiiiy66FkD44IMPPvgWQDbZZJNNNhdAdNFFF110F0CzySabbLIXQPHBBx988BdAL7rooosuGEBtsskmm2wYQKuqqqqqqhhA6aKLLrroGEAnm2yyySYZQGWTTTbZZBlAo4suuuiiGUDhgw8++OAZQB988MEHHxpAXXTRRRddGkCbbLLJJpsaQNlkk0022RpAF1100UUXG0BWVVVVVVUbQJRNNtlkkxtA0kUXXXTRG0AQPvjggw8cQE422WSTTRxAjC666KKLHEDKJptssskcQAgffPDBBx1ARhdddNFFHUCEDz744IMdQMIHH3zwwR1AAAAAAAAAHkA=\"},\"y\":{\"dtype\":\"f8\",\"bdata\":\"G5H7wIcYIUCvYjWKWwMhQEM0b1Mv7iBA1wWpHAPZIEBr1+Ll1sMgQP+oHK+qriBAk3pWeH6ZIEAmTJBBUoQgQLodygombyBATu8D1PlZIEDiwD2dzUQgQHaSd2ahLyBACmSxL3UaIECeNev4SAUgQGQOSoQ54B9Ai7G9FuG1H0CzVDGpiIsfQNv3pDswYR9AA5sYztc2H0AqPoxgfwwfQFLh\\u002f\\u002fIm4h5AeoRzhc63HkCiJ+cXdo0eQMrKWqodYx5A8m3OPMU4HkAZEULPbA4eQEG0tWEU5B1AaFcp9Lu5HUCQ+pyGY48dQLidEBkLZR1A4ECEq7I6HUAI5Pc9WhAdQDCHa9AB5hxAWCrfYqm7HEB\\u002fzVL1UJEcQKdwxof4ZhxAzxM6GqA8HED2tq2sRxIcQB5aIT\\u002fv5xtARv2U0Za9G0BuoAhkPpMbQJZDfPblaBtAvubviI0+G0DmiWMbNRQbQAwt163c6RpANNBKQIS\\u002fGkBcc77SK5UaQIQWMmXTahpArLml93pAGkDUXBmKIhYaQPz\\u002fjBzK6xlAJKMAr3HBGUBLRnRBGZcZQHLp59PAbBlAmoxbZmhCGUDCL8\\u002f4DxgZQOrSQou37RhAEna2HV\\u002fDGEA6GSqwBpkYQGK8nUKubhhAiV8R1VVEGECxAoVn\\u002fRkYQNml+Pmk7xdAAElsjEzFF0Ao7N8e9JoXQFCPU7GbcBdAeDLHQ0NGF0Cg1TrW6hsXQMh4rmiS8RZA8Bsi+znHFkAYv5WN4ZwWQD9iCSCJchZAZwV9sjBIFkCOqPBE2B0WQLZLZNd\\u002f8xVA3u7XaSfJFUAGkkv8zp4VQC01v452dBVAVdgyIR5KFUB9e6azxR8VQKUeGkZt9RRAzcGN2BTLFED1ZAFrvKAUQBwIdf1jdhRARKvojwtMFEBsTlwisyEUQJTxz7Ra9xNAvJRDRwLNE0DjN7fZqaITQAvbKmxReBNAMn6e\\u002fvhNE0BaIRKRoCMTQILEhSNI+RJAqmf5te\\u002fOEkDSCm1Il6QSQPqt4No+ehJAIVFUbeZPEkBJ9Mf\\u002fjSUSQHGXO5I1+xFAmTqvJN3QEUA=\"},\"type\":\"scatter\"},{\"marker\":{\"color\":\"deeppink\",\"opacity\":0.6},\"mode\":\"markers\",\"name\":\"Female - data\",\"showlegend\":true,\"x\":{\"dtype\":\"f8\",\"bdata\":\"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\"},\"y\":{\"dtype\":\"i1\",\"bdata\":\"BgUEBgcGBQYFBggFBQYFBggFBQYFBggFBQYFBggFBQQGBQYHBQYHBQYIBggFBgUGCAUIBQYFBgYFCAYFCAYFCAYFCAYFCAYFCAYFCAYFCAYFBgcFBgcFBgcFBgcFBgcFBgcFBgcFBgcFBgcFBgcFCAgGBAcIBgQHCAYEBwgGBAcIBgQHCAYEBwgGBAcIBgQHCAYEBwgGBAcIBgQHCAYEBwYHCAUHBgcIBQcGBwgFBwYHCAUHBgcIBQcGBwgFBwYHCAUHBgcIBQcGBwgFBwYHCAUHBgcIBQcGBwgFBwYHCAUHBgcIBQcGBwgFBwYHCAUHBgcIBQcGBwgFBwYIBgUFBggGBQUGCAYFBQYIBgUFBggGBQUGCAYFBQYIBgUFBQYHBgcFBQgHBwQFBQcHBgUFBgcGBwUECAcHBAUFBgcGBQUGBwYHBQQIBwcEBQUGBwYFBQYHBgcFBAgHBwQFBQYHBgU=\"},\"type\":\"scatter\"},{\"line\":{\"color\":\"deeppink\",\"width\":2},\"mode\":\"lines\",\"name\":\"Female - trend\",\"showlegend\":true,\"x\":{\"dtype\":\"f8\",\"bdata\":\"mpmZmZmZAUAc1r5h7RsCQJ8S5ClBngJAIU8J8pQgA0Cjiy666KIDQCbIU4I8JQRAqAR5SpCnBEAqQZ4S5CkFQKx9w9o3rAVAL7rooosuBkCx9g1r37AGQDQzMzMzMwdAtm9Y+4a1B0A4rH3D2jcIQLrooosuughAPSXIU4I8CUC\\u002fYe0b1r4JQEKeEuQpQQpAxNo3rH3DCkBGF1100UULQMhTgjwlyAtASpCnBHlKDEDNzMzMzMwMQE8J8pQgTw1A0kUXXXTRDUBUgjwlyFMOQNa+Ye0b1g5AWPuGtW9YD0DbN6x9w9oPQC666KKLLhBAcFj7hrVvEECx9g1r37AQQPKUIE8J8hBAMzMzMzMzEUB00UUXXXQRQLZvWPuGtRFA9g1r37D2EUA4rH3D2jcSQHlKkKcEeRJAuuiiiy66EkD7hrVvWPsSQDwlyFOCPBNAfsPaN6x9E0C+Ye0b1r4TQAAAAAAAABRAQZ4S5ClBFECCPCXIU4IUQMTaN6x9wxRABHlKkKcEFUBGF1100UUVQIe1b1j7hhVAyFOCPCXIFUAJ8pQgTwkWQEqQpwR5ShZAjC666KKLFkDMzMzMzMwWQA5r37D2DRdATwnylCBPF0CQpwR5SpAXQNFFF1100RdAEuQpQZ4SGEBUgjwlyFMYQJQgTwnylBhA1r5h7RvWGEAXXXTRRRcZQFj7hrVvWBlAmZmZmZmZGUDaN6x9w9oZQBzWvmHtGxpAXXTRRRddGkCeEuQpQZ4aQN+w9g1r3xpAIE8J8pQgG0Bh7RvWvmEbQKOLLrroohtA5ClBnhLkG0AlyFOCPCUcQGZmZmZmZhxApwR5SpCnHEDooosuuugcQClBnhLkKR1Aa9+w9g1rHUCsfcPaN6wdQO0b1r5h7R1ALrrooosuHkBvWPuGtW8eQLD2DWvfsB5A8pQgTwnyHkAzMzMzMzMfQHTRRRdddB9AtW9Y+4a1H0D2DWvfsPYfQBzWvmHtGyBAPCXIU4I8IEBddNFFF10gQH7D2jesfSBAnhLkKUGeIEC+Ye0b1r4gQN+w9g1r3yBAAAAAAAAAIUA=\"},\"y\":{\"dtype\":\"f8\",\"bdata\":\"27FuoENpIEAyWjhWvFEgQIgCAgw1OiBA36rLwa0iIEA2U5V3JgsgQBr3vVo+5x9AyEdRxi+4H0B2mOQxIYkfQCPpd50SWh9A0DkLCQQrH0B+ip509fseQCzbMeDmzB5A2ivFS9idHkCHfFi3yW4eQDXN6yK7Px5A4h1\\u002fjqwQHkCQbhL6neEdQD6\\u002fpWWPsh1A6w850YCDHUCZYMw8clQdQEaxX6hjJR1A9AHzE1X2HECiUoZ\\u002fRsccQFCjGes3mBxA\\u002fPOsVilpHECqREDCGjocQFiV0y0MCxxABuZmmf3bG0C0NvoE76wbQGKHjXDgfRtADtgg3NFOG0C8KLRHwx8bQGp5R7O08BpAGMraHqbBGkDGGm6Kl5IaQHJrAfaIYxpAIbyUYXo0GkDODCjNawUaQHxduzhd1hlAKq5OpE6nGUDX\\u002fuEPQHgZQIVPdXsxSRlAMqAI5yIaGUDg8JtSFOsYQI1BL74FvBhAO5LCKfeMGEDo4lWV6F0YQJYz6QDaLhhARIR8bMv\\u002fF0Dx1A\\u002fYvNAXQJ8lo0OuoRdATHY2r59yF0D6xskakUMXQKgXXYaCFBdAVWjw8XPlFkAEuYNdZbYWQLEJF8lWhxZAXlqqNEhYFkAMqz2gOSkWQLr70Asr+hVAaExkdxzLFUAVnffiDZwVQMPtik7\\u002fbBVAcD4euvA9FUAej7El4g4VQMvfRJHT3xRAeTDY\\u002fMSwFEAngWtotoEUQNTR\\u002ftOnUhRAgiKSP5kjFEAvcyWrivQTQN3DuBZ8xRNAixRMgm2WE0A5Zd\\u002ftXmcTQOa1cllQOBNAkwYGxUEJE0BBV5kwM9oSQO+nLJwkqxJAnfi\\u002fBxZ8EkBKSVNzB00SQPiZ5t74HRJApep5SuruEUBTOw22278RQAGMoCHNkBFArtwzjb5hEUBcLcf4rzIRQAp+WmShAxFAt87tz5LUEEBkH4E7hKUQQBJwFKd1dhBAwMCnEmdHEEBuETt+WBgQQDbEnNOT0g9AkmXDqnZ0D0DsBuqBWRYPQEaoEFk8uA5ApEk3MB9aDkAA610HAvwNQFqMhN7knQ1AtC2rtcc\\u002fDUA=\"},\"type\":\"scatter\"},{\"marker\":{\"color\":\"green\",\"opacity\":0.6},\"mode\":\"markers\",\"name\":\"All - data\",\"showlegend\":true,\"x\":{\"dtype\":\"f8\",\"bdata\":\"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\"},\"y\":{\"dtype\":\"i1\",\"bdata\":\"BggFBwYECQYHBwUGCAUHBggFBwYFCAYFBwUHBggFBwYFCAYFBwUHBggFBwYFCAYFBwUHBggFBwYFCAYFBwUGBAgGBwUIBgUHBgUIBgUHBgUIBgcIBQYFCAYFBwYHBQgGBQgGBQUIBgUHBgcFCAYFBgcFBggFBgcFBggFBgcFBggFBgcFBggFBgcFBggFBgcFBggFBgcFBggFBgcFBggFBgUHBgUHBgUHBgUHBgUHBgUHBgUHBgUHBgUHBgUHBgUHBgUHBgUHBgUHBgUHBgUHBgUHBgUHBgUHBgUHBgUGCAcIBgYHBAYHCAgFBgcEBgcICAUGBwQGBwgIBQYHBAYHCAgFBgcEBgcICAUGBwQGBwgIBQYHBAYHCAgFBgcEBgcICAUGBwQGBwgIBQYHBAYHCAgFBgcEBgcICAUGBwQGBwgGCAcFCAYFBgcGBggHBQgGBQYHBgYIBwUIBgUGBwYGCAcFCAYFBgcGBggHBQgGBQYHBgYIBwUIBgUGBwYGCAcFCAYFBgcGBggHBQgGBQYHBgYIBwUIBgUGBwYGCAcFCAYFBgcGBggHBQgGBQYHBgYIBwUIBgUGBwYGCAcFCAYFBgcGBggHBQgGBQYHBgYIBwUIBgUGBwYGCAcFCAYFBgcGBggHBQgGBQYHBgYIBwUIBgUGBwYGBwgHBgYFBwUHBgcIBwYGBQcFBwYHCAcGBgUHBQcGBwgHBgYFBwUHBgcIBwYGBQcFBwYHCAcGBgUHBQcGBwgHBgYFBwUHBQgGBAcFBgUHBgUHBQYIBQcFBwYEBwUGBQYHBQcEBggFBwUHBgQHBQYFBwYFBwQGCAUHBQcGBAcFBgUHBgUHBAYIBQcFBwYEBwUGBQcGBQcEBggFBwUHBgQHBQYFBwYFBwQGCAUHBQcGBAcFBgUHBgUHBAYIBQcFBwYEBwUGBQcGBQcEBggF\"},\"type\":\"scatter\"},{\"line\":{\"color\":\"green\",\"width\":2},\"mode\":\"lines\",\"name\":\"All - trend\",\"showlegend\":true,\"x\":{\"dtype\":\"f8\",\"bdata\":\"AAAAAAAA+D93hsS8nSH5P+4MiXk7Q\\u002fo\\u002fZZNNNtlk+z\\u002fcGRLzdob8P1Og1q8UqP0\\u002fyiabbLLJ\\u002fj9ArV8pUOv\\u002fP9wZEvN2hgBAF1100UUXAUBToNavFKgBQI7jOI7jOAJAyiabbLLJAkAFav1KgVoDQECtXylQ6wNAfPDBBx98BEC4MyTm7QwFQPN2hsS8nQVALrrooosuBkBq\\u002fUqBWr8GQKZArV8pUAdA4YMPPvjgB0Acx3Ecx3EIQFgK1PqVAglAk0022WSTCUDOkJi3MyQKQArU+pUCtQpARhdddNFFC0CBWr9SoNYLQL2dITFvZwxA+OCDDz74DEA0JObtDIkNQG9nSMzbGQ5AqqqqqqqqDkDm7QyJeTsPQCExb2dIzA9ALrrooosuEEDM2xkS83YQQGr9SoFavxBACB988MEHEUCmQK1fKVARQENi3s6QmBFA4YMPPvjgEUB+pUCtXykSQBzHcRzHcRJAuuiiiy66EkBYCtT6lQITQPYrBWr9ShNAk0022WSTE0Axb2dIzNsTQM6QmLczJBRAbLLJJptsFEAK1PqVArUUQKj1KwVq\\u002fRRARhdddNFFFUDkOI7jOI4VQIFav1Kg1hVAH3zwwQcfFkC9nSExb2cWQFq\\u002fUqDWrxZA+OCDDz74FkCWArV+pUAXQDQk5u0MiRdA0UUXXXTRF0BvZ0jM2xkYQA2JeTtDYhhAqqqqqqqqGEBIzNsZEvMYQObtDIl5OxlAhA8++OCDGUAhMW9nSMwZQL9SoNavFBpAXXTRRRddGkD7lQK1fqUaQJi3MyTm7RpANtlkk002G0DU+pUCtX4bQHIcx3EcxxtADz744IMPHECtXylQ61ccQEuBWr9SoBxA6KKLLrroHECGxLydITEdQCTm7QyJeR1AwgcffPDBHUBfKVDrVwoeQP1KgVq\\u002fUh5Am2yyySabHkA5juM4juMeQNavFKj1Kx9AdNFFF110H0AS83aGxLwfQFgK1PqVAiBAJptssskmIED2KwVq\\u002fUogQMS8nSExbyBAk0022WSTIEBi3s6QmLcgQDFvZ0jM2yBAAAAAAAAAIUA=\"},\"y\":{\"dtype\":\"f8\",\"bdata\":\"gyWyGntEIUBUgrOT\\u002fiohQCXftAyCESFA9ju2hQX4IEDImLf+iN4gQJn1uHcMxSBAalK68I+rIEA7r7tpE5IgQAwMveKWeCBA3mi+WxpfIECvxb\\u002fUnUUgQIAiwU0hLCBAUX\\u002fCxqQSIEBGuId\\u002fUPIfQOhxinFXvx9AiiuNY16MH0As5Y9VZVkfQM+ekkdsJh9AcliVOXPzHkAUEpgresAeQLbLmh2BjR5AWYWdD4haHkD8PqABjyceQJ74ovOV9B1AQLKl5ZzBHUDka6jXo44dQIYlq8mqWx1AKN+tu7EoHUDKmLCtuPUcQG1Ss5+\\u002fwhxAEAy2kcaPHECyxbiDzVwcQFR\\u002fu3XUKRxA9zi+Z9v2G0Ca8sBZ4sMbQDysw0vpkBtA3mXGPfBdG0CBH8kv9yobQCPZyyH+9xpAxpLOEwXFGkBoTNEFDJIaQAoG1PcSXxpArb\\u002fW6RksGkBQednbIPkZQPIy3M0nxhlAlOzevy6TGUA3puGxNWAZQNlf5KM8LRlAfBnnlUP6GEAe0+mHSscYQMKM7HlRlBhAZEbva1hhGEAGAPJdXy4YQKi59E9m+xdASnP3QW3IF0DtLPozdJUXQJDm\\u002fCV7YhdAMqD\\u002fF4IvF0DUWQIKifwWQHgTBfyPyRZAGs0H7paWFkC8hgrgnWMWQF5ADdKkMBZAAfoPxKv9FUCjsxK2ssoVQEZtFai5lxVA6SYYmsBkFUCL4BqMxzEVQC2aHX7O\\u002fhRA0FMgcNXLFEBzDSNi3JgUQBXHJVTjZRRAt4AoRuoyFEBZOis48f8TQPzzLSr4zBNAn60wHP+ZE0BBZzMOBmcTQOMgNgANNBNAhto48hMBE0AplDvkGs4SQMtNPtYhmxJAbgdByChoEkAQwUO6LzUSQLJ6Rqw2AhJAVTRJnj3PEUD47UuQRJwRQJqnToJLaRFAPGFRdFI2EUDfGlRmWQMRQIHUVlhg0BBAJI5ZSmedEEDGR1w8bmoQQGgBXy51NxBADLthIHwEEEBa6cgkBqMPQKJczggUPQ9A5s\\u002fT7CHXDkAqQ9nQL3EOQG623rQ9Cw5AtCnkmEulDUA=\"},\"type\":\"scatter\"}],                        {\"template\":{\"data\":{\"histogram2dcontour\":[{\"type\":\"histogram2dcontour\",\"colorbar\":{\"outlinewidth\":0,\"ticks\":\"\"},\"colorscale\":[[0.0,\"#0d0887\"],[0.1111111111111111,\"#46039f\"],[0.2222222222222222,\"#7201a8\"],[0.3333333333333333,\"#9c179e\"],[0.4444444444444444,\"#bd3786\"],[0.5555555555555556,\"#d8576b\"],[0.6666666666666666,\"#ed7953\"],[0.7777777777777778,\"#fb9f3a\"],[0.8888888888888888,\"#fdca26\"],[1.0,\"#f0f921\"]]}],\"choropleth\":[{\"type\":\"choropleth\",\"colorbar\":{\"outlinewidth\":0,\"ticks\":\"\"}}],\"histogram2d\":[{\"type\":\"histogram2d\",\"colorbar\":{\"outlinewidth\":0,\"ticks\":\"\"},\"colorscale\":[[0.0,\"#0d0887\"],[0.1111111111111111,\"#46039f\"],[0.2222222222222222,\"#7201a8\"],[0.3333333333333333,\"#9c179e\"],[0.4444444444444444,\"#bd3786\"],[0.5555555555555556,\"#d8576b\"],[0.6666666666666666,\"#ed7953\"],[0.7777777777777778,\"#fb9f3a\"],[0.8888888888888888,\"#fdca26\"],[1.0,\"#f0f921\"]]}],\"heatmap\":[{\"type\":\"heatmap\",\"colorbar\":{\"outlinewidth\":0,\"ticks\":\"\"},\"colorscale\":[[0.0,\"#0d0887\"],[0.1111111111111111,\"#46039f\"],[0.2222222222222222,\"#7201a8\"],[0.3333333333333333,\"#9c179e\"],[0.4444444444444444,\"#bd3786\"],[0.5555555555555556,\"#d8576b\"],[0.6666666666666666,\"#ed7953\"],[0.7777777777777778,\"#fb9f3a\"],[0.8888888888888888,\"#fdca26\"],[1.0,\"#f0f921\"]]}],\"contourcarpet\":[{\"type\":\"contourcarpet\",\"colorbar\":{\"outlinewidth\":0,\"ticks\":\"\"}}],\"contour\":[{\"type\":\"contour\",\"colorbar\":{\"outlinewidth\":0,\"ticks\":\"\"},\"colorscale\":[[0.0,\"#0d0887\"],[0.1111111111111111,\"#46039f\"],[0.2222222222222222,\"#7201a8\"],[0.3333333333333333,\"#9c179e\"],[0.4444444444444444,\"#bd3786\"],[0.5555555555555556,\"#d8576b\"],[0.6666666666666666,\"#ed7953\"],[0.7777777777777778,\"#fb9f3a\"],[0.8888888888888888,\"#fdca26\"],[1.0,\"#f0f921\"]]}],\"surface\":[{\"type\":\"surface\",\"colorbar\":{\"outlinewidth\":0,\"ticks\":\"\"},\"colorscale\":[[0.0,\"#0d0887\"],[0.1111111111111111,\"#46039f\"],[0.2222222222222222,\"#7201a8\"],[0.3333333333333333,\"#9c179e\"],[0.4444444444444444,\"#bd3786\"],[0.5555555555555556,\"#d8576b\"],[0.6666666666666666,\"#ed7953\"],[0.7777777777777778,\"#fb9f3a\"],[0.8888888888888888,\"#fdca26\"],[1.0,\"#f0f921\"]]}],\"mesh3d\":[{\"type\":\"mesh3d\",\"colorbar\":{\"outlinewidth\":0,\"ticks\":\"\"}}],\"scatter\":[{\"fillpattern\":{\"fillmode\":\"overlay\",\"size\":10,\"solidity\":0.2},\"type\":\"scatter\"}],\"parcoords\":[{\"type\":\"parcoords\",\"line\":{\"colorbar\":{\"outlinewidth\":0,\"ticks\":\"\"}}}],\"scatterpolargl\":[{\"type\":\"scatterpolargl\",\"marker\":{\"colorbar\":{\"outlinewidth\":0,\"ticks\":\"\"}}}],\"bar\":[{\"error_x\":{\"color\":\"#2a3f5f\"},\"error_y\":{\"color\":\"#2a3f5f\"},\"marker\":{\"line\":{\"color\":\"#E5ECF6\",\"width\":0.5},\"pattern\":{\"fillmode\":\"overlay\",\"size\":10,\"solidity\":0.2}},\"type\":\"bar\"}],\"scattergeo\":[{\"type\":\"scattergeo\",\"marker\":{\"colorbar\":{\"outlinewidth\":0,\"ticks\":\"\"}}}],\"scatterpolar\":[{\"type\":\"scatterpolar\",\"marker\":{\"colorbar\":{\"outlinewidth\":0,\"ticks\":\"\"}}}],\"histogram\":[{\"marker\":{\"pattern\":{\"fillmode\":\"overlay\",\"size\":10,\"solidity\":0.2}},\"type\":\"histogram\"}],\"scattergl\":[{\"type\":\"scattergl\",\"marker\":{\"colorbar\":{\"outlinewidth\":0,\"ticks\":\"\"}}}],\"scatter3d\":[{\"type\":\"scatter3d\",\"line\":{\"colorbar\":{\"outlinewidth\":0,\"ticks\":\"\"}},\"marker\":{\"colorbar\":{\"outlinewidth\":0,\"ticks\":\"\"}}}],\"scattermap\":[{\"type\":\"scattermap\",\"marker\":{\"colorbar\":{\"outlinewidth\":0,\"ticks\":\"\"}}}],\"scattermapbox\":[{\"type\":\"scattermapbox\",\"marker\":{\"colorbar\":{\"outlinewidth\":0,\"ticks\":\"\"}}}],\"scatterternary\":[{\"type\":\"scatterternary\",\"marker\":{\"colorbar\":{\"outlinewidth\":0,\"ticks\":\"\"}}}],\"scattercarpet\":[{\"type\":\"scattercarpet\",\"marker\":{\"colorbar\":{\"outlinewidth\":0,\"ticks\":\"\"}}}],\"carpet\":[{\"aaxis\":{\"endlinecolor\":\"#2a3f5f\",\"gridcolor\":\"white\",\"linecolor\":\"white\",\"minorgridcolor\":\"white\",\"startlinecolor\":\"#2a3f5f\"},\"baxis\":{\"endlinecolor\":\"#2a3f5f\",\"gridcolor\":\"white\",\"linecolor\":\"white\",\"minorgridcolor\":\"white\",\"startlinecolor\":\"#2a3f5f\"},\"type\":\"carpet\"}],\"table\":[{\"cells\":{\"fill\":{\"color\":\"#EBF0F8\"},\"line\":{\"color\":\"white\"}},\"header\":{\"fill\":{\"color\":\"#C8D4E3\"},\"line\":{\"color\":\"white\"}},\"type\":\"table\"}],\"barpolar\":[{\"marker\":{\"line\":{\"color\":\"#E5ECF6\",\"width\":0.5},\"pattern\":{\"fillmode\":\"overlay\",\"size\":10,\"solidity\":0.2}},\"type\":\"barpolar\"}],\"pie\":[{\"automargin\":true,\"type\":\"pie\"}]},\"layout\":{\"autotypenumbers\":\"strict\",\"colorway\":[\"#636efa\",\"#EF553B\",\"#00cc96\",\"#ab63fa\",\"#FFA15A\",\"#19d3f3\",\"#FF6692\",\"#B6E880\",\"#FF97FF\",\"#FECB52\"],\"font\":{\"color\":\"#2a3f5f\"},\"hovermode\":\"closest\",\"hoverlabel\":{\"align\":\"left\"},\"paper_bgcolor\":\"white\",\"plot_bgcolor\":\"#E5ECF6\",\"polar\":{\"bgcolor\":\"#E5ECF6\",\"angularaxis\":{\"gridcolor\":\"white\",\"linecolor\":\"white\",\"ticks\":\"\"},\"radialaxis\":{\"gridcolor\":\"white\",\"linecolor\":\"white\",\"ticks\":\"\"}},\"ternary\":{\"bgcolor\":\"#E5ECF6\",\"aaxis\":{\"gridcolor\":\"white\",\"linecolor\":\"white\",\"ticks\":\"\"},\"baxis\":{\"gridcolor\":\"white\",\"linecolor\":\"white\",\"ticks\":\"\"},\"caxis\":{\"gridcolor\":\"white\",\"linecolor\":\"white\",\"ticks\":\"\"}},\"coloraxis\":{\"colorbar\":{\"outlinewidth\":0,\"ticks\":\"\"}},\"colorscale\":{\"sequential\":[[0.0,\"#0d0887\"],[0.1111111111111111,\"#46039f\"],[0.2222222222222222,\"#7201a8\"],[0.3333333333333333,\"#9c179e\"],[0.4444444444444444,\"#bd3786\"],[0.5555555555555556,\"#d8576b\"],[0.6666666666666666,\"#ed7953\"],[0.7777777777777778,\"#fb9f3a\"],[0.8888888888888888,\"#fdca26\"],[1.0,\"#f0f921\"]],\"sequentialminus\":[[0.0,\"#0d0887\"],[0.1111111111111111,\"#46039f\"],[0.2222222222222222,\"#7201a8\"],[0.3333333333333333,\"#9c179e\"],[0.4444444444444444,\"#bd3786\"],[0.5555555555555556,\"#d8576b\"],[0.6666666666666666,\"#ed7953\"],[0.7777777777777778,\"#fb9f3a\"],[0.8888888888888888,\"#fdca26\"],[1.0,\"#f0f921\"]],\"diverging\":[[0,\"#8e0152\"],[0.1,\"#c51b7d\"],[0.2,\"#de77ae\"],[0.3,\"#f1b6da\"],[0.4,\"#fde0ef\"],[0.5,\"#f7f7f7\"],[0.6,\"#e6f5d0\"],[0.7,\"#b8e186\"],[0.8,\"#7fbc41\"],[0.9,\"#4d9221\"],[1,\"#276419\"]]},\"xaxis\":{\"gridcolor\":\"white\",\"linecolor\":\"white\",\"ticks\":\"\",\"title\":{\"standoff\":15},\"zerolinecolor\":\"white\",\"automargin\":true,\"zerolinewidth\":2},\"yaxis\":{\"gridcolor\":\"white\",\"linecolor\":\"white\",\"ticks\":\"\",\"title\":{\"standoff\":15},\"zerolinecolor\":\"white\",\"automargin\":true,\"zerolinewidth\":2},\"scene\":{\"xaxis\":{\"backgroundcolor\":\"#E5ECF6\",\"gridcolor\":\"white\",\"linecolor\":\"white\",\"showbackground\":true,\"ticks\":\"\",\"zerolinecolor\":\"white\",\"gridwidth\":2},\"yaxis\":{\"backgroundcolor\":\"#E5ECF6\",\"gridcolor\":\"white\",\"linecolor\":\"white\",\"showbackground\":true,\"ticks\":\"\",\"zerolinecolor\":\"white\",\"gridwidth\":2},\"zaxis\":{\"backgroundcolor\":\"#E5ECF6\",\"gridcolor\":\"white\",\"linecolor\":\"white\",\"showbackground\":true,\"ticks\":\"\",\"zerolinecolor\":\"white\",\"gridwidth\":2}},\"shapedefaults\":{\"line\":{\"color\":\"#2a3f5f\"}},\"annotationdefaults\":{\"arrowcolor\":\"#2a3f5f\",\"arrowhead\":0,\"arrowwidth\":1},\"geo\":{\"bgcolor\":\"white\",\"landcolor\":\"#E5ECF6\",\"subunitcolor\":\"white\",\"showland\":true,\"showlakes\":true,\"lakecolor\":\"white\"},\"title\":{\"x\":0.05},\"mapbox\":{\"style\":\"light\"}}},\"title\":{\"text\":\"Social media gebruik vs. mentale gezondheid\"},\"xaxis\":{\"title\":{\"text\":\"Gemiddeld aantal gebruiksuren van social media per dag\"},\"range\":[0.5,9.5],\"dtick\":1,\"fixedrange\":true},\"yaxis\":{\"title\":{\"text\":\"Mentale gezondheidsscore\"},\"range\":[3,10],\"dtick\":1,\"fixedrange\":true},\"updatemenus\":[{\"active\":0,\"buttons\":[{\"args\":[{\"visible\":[true,true,false,false,false,false]}],\"label\":\"Man\",\"method\":\"update\"},{\"args\":[{\"visible\":[false,false,true,true,false,false]}],\"label\":\"Vrouw\",\"method\":\"update\"},{\"args\":[{\"visible\":[false,false,false,false,true,true]}],\"label\":\"Iedereen\",\"method\":\"update\"}],\"direction\":\"down\",\"showactive\":true,\"x\":0.01,\"xanchor\":\"left\",\"y\":1.15,\"yanchor\":\"top\"}]},                        {\"responsive\": true}                    ).then(function(){\n",
       "                            \n",
       "var gd = document.getElementById('be8e1262-676f-41a1-a20d-b3ac298676fd');\n",
       "var x = new MutationObserver(function (mutations, observer) {{\n",
       "        var display = window.getComputedStyle(gd).display;\n",
       "        if (!display || display === 'none') {{\n",
       "            console.log([gd, 'removed!']);\n",
       "            Plotly.purge(gd);\n",
       "            observer.disconnect();\n",
       "        }}\n",
       "}});\n",
       "\n",
       "// Listen for the removal of the full notebook cells\n",
       "var notebookContainer = gd.closest('#notebook-container');\n",
       "if (notebookContainer) {{\n",
       "    x.observe(notebookContainer, {childList: true});\n",
       "}}\n",
       "\n",
       "// Listen for the clearing of the current output cell\n",
       "var outputEl = gd.closest('.output');\n",
       "if (outputEl) {{\n",
       "    x.observe(outputEl, {childList: true});\n",
       "}}\n",
       "\n",
       "                        })                };            </script>        </div>"
      ]
     },
     "metadata": {},
     "output_type": "display_data"
    }
   ],
   "source": [
    "import pandas as pd\n",
    "import numpy as np\n",
    "import plotly.graph_objects as go\n",
    "import os\n",
    "import kagglehub\n",
    "from plotly.offline import init_notebook_mode\n",
    "init_notebook_mode(connected=True)\n",
    "\n",
    "path = kagglehub.dataset_download(\"adilshamim8/social-media-addiction-vs-relationships\")\n",
    "csv_path = os.path.join(path, \"Students Social Media Addiction.csv\")\n",
    "df = pd.read_csv(csv_path)\n",
    "df = df.dropna(subset=[\"Avg_Daily_Usage_Hours\", \"Mental_Health_Score\", \"Gender\"])\n",
    "\n",
    "genders = [\"Male\", \"Female\"]\n",
    "colors = {\"Male\": \"blue\", \"Female\": \"deeppink\", \"All\": \"green\"}\n",
    "\n",
    "# Functie om scatter + regressielijn trace te maken\n",
    "def get_traces(gender=None):\n",
    "    if gender:\n",
    "        d = df[df[\"Gender\"] == gender]\n",
    "        label = gender\n",
    "    else:\n",
    "        d = df\n",
    "        label = \"All\"\n",
    "\n",
    "    # Regressielijn berekenen\n",
    "    x = d[\"Avg_Daily_Usage_Hours\"]\n",
    "    y = d[\"Mental_Health_Score\"]\n",
    "    slope, intercept = np.polyfit(x, y, 1)\n",
    "    x_vals = np.linspace(x.min(), x.max(), 100)\n",
    "    y_vals = slope * x_vals + intercept\n",
    "\n",
    "    # Scatter trace\n",
    "    scatter = go.Scatter(\n",
    "        x=x, y=y,\n",
    "        mode='markers',\n",
    "        name=f\"{label} - data\",\n",
    "        marker=dict(color=colors[label], opacity=0.6),\n",
    "        showlegend=True\n",
    "    )\n",
    "\n",
    "    # Lijn trace\n",
    "    line = go.Scatter(\n",
    "        x=x_vals, y=y_vals,\n",
    "        mode='lines',\n",
    "        name=f\"{label} - trend\",\n",
    "        line=dict(color=colors[label], width=2),\n",
    "        showlegend=True\n",
    "    )\n",
    "\n",
    "    return scatter, line\n",
    "\n",
    "# Maak alle traces aan (elk 2: scatter + line)\n",
    "male_traces = get_traces(\"Male\")\n",
    "female_traces = get_traces(\"Female\")\n",
    "all_traces = get_traces(None)\n",
    "all_plot_traces = [*male_traces, *female_traces, *all_traces]\n",
    "\n",
    "# Vaste assen bepalen op basis van hele dataset\n",
    "x_min = df[\"Avg_Daily_Usage_Hours\"].min()\n",
    "x_max = df[\"Avg_Daily_Usage_Hours\"].max()\n",
    "y_min = df[\"Mental_Health_Score\"].min()\n",
    "y_max = df[\"Mental_Health_Score\"].max()\n",
    "\n",
    "# Dropdown menu zonder title updates\n",
    "buttons = [\n",
    "    dict(label=\"Man\",\n",
    "         method=\"update\",\n",
    "         args=[{\"visible\": [True, True, False, False, False, False]}]),\n",
    "    dict(label=\"Vrouw\",\n",
    "         method=\"update\",\n",
    "         args=[{\"visible\": [False, False, True, True, False, False]}]),\n",
    "    dict(label=\"Iedereen\",\n",
    "         method=\"update\",\n",
    "         args=[{\"visible\": [False, False, False, False, True, True]}])\n",
    "]\n",
    "\n",
    "# Plot figuur\n",
    "fig = go.Figure(data=all_plot_traces)\n",
    "\n",
    "fig.update_layout(\n",
    "    title={\"text\": \"Social media gebruik vs. mentale gezondheid\"},\n",
    "    xaxis=dict(\n",
    "        title=\"Gemiddeld aantal gebruiksuren van social media per dag\",\n",
    "        range=[x_min - 1, x_max + 1],  # iets marge\n",
    "        dtick=1,\n",
    "        fixedrange=True\n",
    "    ),\n",
    "    yaxis=dict(\n",
    "        title=\"Mentale gezondheidsscore\",\n",
    "        range=[y_min - 1, y_max + 1],\n",
    "        dtick=1,\n",
    "        fixedrange=True\n",
    "    ),\n",
    "    updatemenus=[dict(\n",
    "        active=0,\n",
    "        buttons=buttons,\n",
    "        direction=\"down\",\n",
    "        showactive=True,\n",
    "        x=0.01,             # links in beeld\n",
    "        xanchor=\"left\",\n",
    "        y=1.15,             # boven de plot\n",
    "        yanchor=\"top\"\n",
    "    )]\n",
    ")\n",
    "\n",
    "fig.show()\n"
   ]
  },
  {
   "cell_type": "markdown",
   "id": "149a2093",
   "metadata": {},
   "source": [
    "> *Figuur 4: Gebruik van sociale media en de mentale gezondheid van mannen en vrouwen.*"
   ]
  },
  {
   "cell_type": "markdown",
   "id": "55732e20",
   "metadata": {},
   "source": [
    "De bovenstaande interactieve grafiek laat het verband zien tussen het gemiddelde aantal uren dat studenten per dag op social media doorbrengen (x-as) en hun mentale gezondheidsscore (y-as). Deze score laat zien hoe goed of slecht studenten zich mentaal voelen, hoe hoger de score, hoe beter ze zich voelen.\n",
    "\n",
    "Voor elke groep is zowel de ruwe data (in de vorm van een scatterplot) als een trendlijn (lineaire regressie) weergegeven. Deze trendlijn geeft het algemene patroon aan in de relatie tussen socialmediagebruik en mentale gezondheid. Wat opvalt, is dat de regressielijnen voor alle drie de groepen een negatieve helling hebben. Dit betekent dat naarmate studenten meer tijd besteden aan social media, hun mentale gezondheidsscore gemiddeld genomen daalt. Dus, meer gebruik van social media lijkt samen te hangen met een verslechtering van de mentale gezondheid.\n",
    "\n",
    "In de visualisatie worden de gegevens opgedeeld in drie groepen: mannen, vrouwen en een gecombineerde groep van alle respondenten. De dropdownfunctie boven de grafiek maakt het mogelijk om de gegevens afzonderlijk per gender of voor alle respontenten te bekijken. Dit biedt de mogelijkheid om verschillen tussen mannen en vrouwen te analyseren. Hoewel de algemene trend (negatief verband) bij beide geslachten aanwezig is, kunnen er subtiele verschillen zijn in de mate van de daling of spreiding van de data.\n",
    "\n",
    "Deze visualisatie benadrukt een zorgwekkend patroon, studenten die veel tijd op social media doorbrengen, ervaren gemiddeld een lagere mentale gezondheid. Hoewel dit geen oorzakelijk verband aantoont, is er wel een duidelijke correlatie aanwezig tussen sociale media en de mentale gezondheid."
   ]
  },
  {
   "cell_type": "markdown",
   "id": "339d6a2a",
   "metadata": {},
   "source": [
    "### Sport Gewoontes"
   ]
  },
  {
   "cell_type": "markdown",
   "id": "72990718",
   "metadata": {},
   "source": [
    "Meer bewegen wordt in de wetenschappelijke literatuur gezien, als één van de eenvoudigste manieren om iemands mentale gezondheid te verbeteren (Mahindru et al., 2023). Dit idee wordt bevestigd door de data uit de gevonden datasets. Daarnaast heeft meer fysieke activiteit een positieve invloed op het slaappatroon (Mahindru et al., 2023), wat tot een extra versterkt effect ter verbetering van de mentale gezondheid onder studenten zou kunnen leiden."
   ]
  },
  {
   "cell_type": "code",
   "execution_count": 22,
   "id": "65e365b0",
   "metadata": {
    "tags": [
     "hide-input"
    ]
   },
   "outputs": [
    {
     "data": {
      "text/html": [
       "        <script type=\"text/javascript\">\n",
       "        window.PlotlyConfig = {MathJaxConfig: 'local'};\n",
       "        if (window.MathJax && window.MathJax.Hub && window.MathJax.Hub.Config) {window.MathJax.Hub.Config({SVG: {font: \"STIX-Web\"}});}\n",
       "        </script>\n",
       "        <script type=\"module\">import \"https://cdn.plot.ly/plotly-3.0.1.min\"</script>\n",
       "        "
      ]
     },
     "metadata": {},
     "output_type": "display_data"
    },
    {
     "data": {
      "application/vnd.plotly.v1+json": {
       "config": {
        "plotlyServerURL": "https://plot.ly"
       },
       "data": [
        {
         "type": "box",
         "x": [
          "No Sports",
          "1-3 times",
          "1-3 times",
          "No Sports",
          "No Sports",
          "No Sports",
          "1-3 times",
          "No Sports",
          "1-3 times",
          "No Sports",
          "No Sports",
          "1-3 times",
          "No Sports",
          "No Sports",
          "No Sports",
          "No Sports",
          "No Sports",
          "No Sports",
          "1-3 times",
          "1-3 times",
          "1-3 times",
          "No Sports",
          "No Sports",
          "1-3 times",
          "1-3 times",
          "7+ times",
          "1-3 times",
          "7+ times",
          "4-6 times",
          "4-6 times",
          "No Sports",
          "No Sports",
          "No Sports",
          "No Sports",
          "No Sports",
          "7+ times",
          "No Sports",
          "4-6 times",
          "No Sports",
          "No Sports",
          "1-3 times",
          "No Sports",
          "1-3 times",
          "4-6 times",
          "1-3 times",
          "7+ times",
          "1-3 times",
          "No Sports",
          "1-3 times",
          "No Sports",
          "1-3 times",
          "7+ times",
          "7+ times",
          "1-3 times",
          "1-3 times",
          "4-6 times",
          "4-6 times",
          "No Sports",
          "4-6 times",
          "1-3 times",
          "4-6 times",
          "1-3 times",
          "7+ times",
          "No Sports",
          "1-3 times",
          "No Sports",
          "1-3 times",
          "No Sports",
          "7+ times",
          "4-6 times",
          "No Sports",
          "7+ times",
          "No Sports",
          "No Sports",
          "7+ times",
          "1-3 times",
          "No Sports",
          "4-6 times",
          "No Sports",
          "No Sports",
          "No Sports",
          "No Sports",
          "No Sports",
          "No Sports",
          "No Sports",
          "No Sports",
          "4-6 times"
         ],
         "y": {
          "bdata": "AQMDBQUFBAIEBQMDBAQDAQICBAUCBAQFBAEDBQQDAgMDAgUDBAIFAwEEAwECAwUDBAECBAMEAwEEAgECAgIEBAUEBAIEAQQDBQUBBQMCBQUEAgMFAgQC",
          "dtype": "i1"
         }
        }
       ],
       "layout": {
        "template": {
         "data": {
          "bar": [
           {
            "error_x": {
             "color": "#2a3f5f"
            },
            "error_y": {
             "color": "#2a3f5f"
            },
            "marker": {
             "line": {
              "color": "#E5ECF6",
              "width": 0.5
             },
             "pattern": {
              "fillmode": "overlay",
              "size": 10,
              "solidity": 0.2
             }
            },
            "type": "bar"
           }
          ],
          "barpolar": [
           {
            "marker": {
             "line": {
              "color": "#E5ECF6",
              "width": 0.5
             },
             "pattern": {
              "fillmode": "overlay",
              "size": 10,
              "solidity": 0.2
             }
            },
            "type": "barpolar"
           }
          ],
          "carpet": [
           {
            "aaxis": {
             "endlinecolor": "#2a3f5f",
             "gridcolor": "white",
             "linecolor": "white",
             "minorgridcolor": "white",
             "startlinecolor": "#2a3f5f"
            },
            "baxis": {
             "endlinecolor": "#2a3f5f",
             "gridcolor": "white",
             "linecolor": "white",
             "minorgridcolor": "white",
             "startlinecolor": "#2a3f5f"
            },
            "type": "carpet"
           }
          ],
          "choropleth": [
           {
            "colorbar": {
             "outlinewidth": 0,
             "ticks": ""
            },
            "type": "choropleth"
           }
          ],
          "contour": [
           {
            "colorbar": {
             "outlinewidth": 0,
             "ticks": ""
            },
            "colorscale": [
             [
              0,
              "#0d0887"
             ],
             [
              0.1111111111111111,
              "#46039f"
             ],
             [
              0.2222222222222222,
              "#7201a8"
             ],
             [
              0.3333333333333333,
              "#9c179e"
             ],
             [
              0.4444444444444444,
              "#bd3786"
             ],
             [
              0.5555555555555556,
              "#d8576b"
             ],
             [
              0.6666666666666666,
              "#ed7953"
             ],
             [
              0.7777777777777778,
              "#fb9f3a"
             ],
             [
              0.8888888888888888,
              "#fdca26"
             ],
             [
              1,
              "#f0f921"
             ]
            ],
            "type": "contour"
           }
          ],
          "contourcarpet": [
           {
            "colorbar": {
             "outlinewidth": 0,
             "ticks": ""
            },
            "type": "contourcarpet"
           }
          ],
          "heatmap": [
           {
            "colorbar": {
             "outlinewidth": 0,
             "ticks": ""
            },
            "colorscale": [
             [
              0,
              "#0d0887"
             ],
             [
              0.1111111111111111,
              "#46039f"
             ],
             [
              0.2222222222222222,
              "#7201a8"
             ],
             [
              0.3333333333333333,
              "#9c179e"
             ],
             [
              0.4444444444444444,
              "#bd3786"
             ],
             [
              0.5555555555555556,
              "#d8576b"
             ],
             [
              0.6666666666666666,
              "#ed7953"
             ],
             [
              0.7777777777777778,
              "#fb9f3a"
             ],
             [
              0.8888888888888888,
              "#fdca26"
             ],
             [
              1,
              "#f0f921"
             ]
            ],
            "type": "heatmap"
           }
          ],
          "histogram": [
           {
            "marker": {
             "pattern": {
              "fillmode": "overlay",
              "size": 10,
              "solidity": 0.2
             }
            },
            "type": "histogram"
           }
          ],
          "histogram2d": [
           {
            "colorbar": {
             "outlinewidth": 0,
             "ticks": ""
            },
            "colorscale": [
             [
              0,
              "#0d0887"
             ],
             [
              0.1111111111111111,
              "#46039f"
             ],
             [
              0.2222222222222222,
              "#7201a8"
             ],
             [
              0.3333333333333333,
              "#9c179e"
             ],
             [
              0.4444444444444444,
              "#bd3786"
             ],
             [
              0.5555555555555556,
              "#d8576b"
             ],
             [
              0.6666666666666666,
              "#ed7953"
             ],
             [
              0.7777777777777778,
              "#fb9f3a"
             ],
             [
              0.8888888888888888,
              "#fdca26"
             ],
             [
              1,
              "#f0f921"
             ]
            ],
            "type": "histogram2d"
           }
          ],
          "histogram2dcontour": [
           {
            "colorbar": {
             "outlinewidth": 0,
             "ticks": ""
            },
            "colorscale": [
             [
              0,
              "#0d0887"
             ],
             [
              0.1111111111111111,
              "#46039f"
             ],
             [
              0.2222222222222222,
              "#7201a8"
             ],
             [
              0.3333333333333333,
              "#9c179e"
             ],
             [
              0.4444444444444444,
              "#bd3786"
             ],
             [
              0.5555555555555556,
              "#d8576b"
             ],
             [
              0.6666666666666666,
              "#ed7953"
             ],
             [
              0.7777777777777778,
              "#fb9f3a"
             ],
             [
              0.8888888888888888,
              "#fdca26"
             ],
             [
              1,
              "#f0f921"
             ]
            ],
            "type": "histogram2dcontour"
           }
          ],
          "mesh3d": [
           {
            "colorbar": {
             "outlinewidth": 0,
             "ticks": ""
            },
            "type": "mesh3d"
           }
          ],
          "parcoords": [
           {
            "line": {
             "colorbar": {
              "outlinewidth": 0,
              "ticks": ""
             }
            },
            "type": "parcoords"
           }
          ],
          "pie": [
           {
            "automargin": true,
            "type": "pie"
           }
          ],
          "scatter": [
           {
            "fillpattern": {
             "fillmode": "overlay",
             "size": 10,
             "solidity": 0.2
            },
            "type": "scatter"
           }
          ],
          "scatter3d": [
           {
            "line": {
             "colorbar": {
              "outlinewidth": 0,
              "ticks": ""
             }
            },
            "marker": {
             "colorbar": {
              "outlinewidth": 0,
              "ticks": ""
             }
            },
            "type": "scatter3d"
           }
          ],
          "scattercarpet": [
           {
            "marker": {
             "colorbar": {
              "outlinewidth": 0,
              "ticks": ""
             }
            },
            "type": "scattercarpet"
           }
          ],
          "scattergeo": [
           {
            "marker": {
             "colorbar": {
              "outlinewidth": 0,
              "ticks": ""
             }
            },
            "type": "scattergeo"
           }
          ],
          "scattergl": [
           {
            "marker": {
             "colorbar": {
              "outlinewidth": 0,
              "ticks": ""
             }
            },
            "type": "scattergl"
           }
          ],
          "scattermap": [
           {
            "marker": {
             "colorbar": {
              "outlinewidth": 0,
              "ticks": ""
             }
            },
            "type": "scattermap"
           }
          ],
          "scattermapbox": [
           {
            "marker": {
             "colorbar": {
              "outlinewidth": 0,
              "ticks": ""
             }
            },
            "type": "scattermapbox"
           }
          ],
          "scatterpolar": [
           {
            "marker": {
             "colorbar": {
              "outlinewidth": 0,
              "ticks": ""
             }
            },
            "type": "scatterpolar"
           }
          ],
          "scatterpolargl": [
           {
            "marker": {
             "colorbar": {
              "outlinewidth": 0,
              "ticks": ""
             }
            },
            "type": "scatterpolargl"
           }
          ],
          "scatterternary": [
           {
            "marker": {
             "colorbar": {
              "outlinewidth": 0,
              "ticks": ""
             }
            },
            "type": "scatterternary"
           }
          ],
          "surface": [
           {
            "colorbar": {
             "outlinewidth": 0,
             "ticks": ""
            },
            "colorscale": [
             [
              0,
              "#0d0887"
             ],
             [
              0.1111111111111111,
              "#46039f"
             ],
             [
              0.2222222222222222,
              "#7201a8"
             ],
             [
              0.3333333333333333,
              "#9c179e"
             ],
             [
              0.4444444444444444,
              "#bd3786"
             ],
             [
              0.5555555555555556,
              "#d8576b"
             ],
             [
              0.6666666666666666,
              "#ed7953"
             ],
             [
              0.7777777777777778,
              "#fb9f3a"
             ],
             [
              0.8888888888888888,
              "#fdca26"
             ],
             [
              1,
              "#f0f921"
             ]
            ],
            "type": "surface"
           }
          ],
          "table": [
           {
            "cells": {
             "fill": {
              "color": "#EBF0F8"
             },
             "line": {
              "color": "white"
             }
            },
            "header": {
             "fill": {
              "color": "#C8D4E3"
             },
             "line": {
              "color": "white"
             }
            },
            "type": "table"
           }
          ]
         },
         "layout": {
          "annotationdefaults": {
           "arrowcolor": "#2a3f5f",
           "arrowhead": 0,
           "arrowwidth": 1
          },
          "autotypenumbers": "strict",
          "coloraxis": {
           "colorbar": {
            "outlinewidth": 0,
            "ticks": ""
           }
          },
          "colorscale": {
           "diverging": [
            [
             0,
             "#8e0152"
            ],
            [
             0.1,
             "#c51b7d"
            ],
            [
             0.2,
             "#de77ae"
            ],
            [
             0.3,
             "#f1b6da"
            ],
            [
             0.4,
             "#fde0ef"
            ],
            [
             0.5,
             "#f7f7f7"
            ],
            [
             0.6,
             "#e6f5d0"
            ],
            [
             0.7,
             "#b8e186"
            ],
            [
             0.8,
             "#7fbc41"
            ],
            [
             0.9,
             "#4d9221"
            ],
            [
             1,
             "#276419"
            ]
           ],
           "sequential": [
            [
             0,
             "#0d0887"
            ],
            [
             0.1111111111111111,
             "#46039f"
            ],
            [
             0.2222222222222222,
             "#7201a8"
            ],
            [
             0.3333333333333333,
             "#9c179e"
            ],
            [
             0.4444444444444444,
             "#bd3786"
            ],
            [
             0.5555555555555556,
             "#d8576b"
            ],
            [
             0.6666666666666666,
             "#ed7953"
            ],
            [
             0.7777777777777778,
             "#fb9f3a"
            ],
            [
             0.8888888888888888,
             "#fdca26"
            ],
            [
             1,
             "#f0f921"
            ]
           ],
           "sequentialminus": [
            [
             0,
             "#0d0887"
            ],
            [
             0.1111111111111111,
             "#46039f"
            ],
            [
             0.2222222222222222,
             "#7201a8"
            ],
            [
             0.3333333333333333,
             "#9c179e"
            ],
            [
             0.4444444444444444,
             "#bd3786"
            ],
            [
             0.5555555555555556,
             "#d8576b"
            ],
            [
             0.6666666666666666,
             "#ed7953"
            ],
            [
             0.7777777777777778,
             "#fb9f3a"
            ],
            [
             0.8888888888888888,
             "#fdca26"
            ],
            [
             1,
             "#f0f921"
            ]
           ]
          },
          "colorway": [
           "#636efa",
           "#EF553B",
           "#00cc96",
           "#ab63fa",
           "#FFA15A",
           "#19d3f3",
           "#FF6692",
           "#B6E880",
           "#FF97FF",
           "#FECB52"
          ],
          "font": {
           "color": "#2a3f5f"
          },
          "geo": {
           "bgcolor": "white",
           "lakecolor": "white",
           "landcolor": "#E5ECF6",
           "showlakes": true,
           "showland": true,
           "subunitcolor": "white"
          },
          "hoverlabel": {
           "align": "left"
          },
          "hovermode": "closest",
          "mapbox": {
           "style": "light"
          },
          "paper_bgcolor": "white",
          "plot_bgcolor": "#E5ECF6",
          "polar": {
           "angularaxis": {
            "gridcolor": "white",
            "linecolor": "white",
            "ticks": ""
           },
           "bgcolor": "#E5ECF6",
           "radialaxis": {
            "gridcolor": "white",
            "linecolor": "white",
            "ticks": ""
           }
          },
          "scene": {
           "xaxis": {
            "backgroundcolor": "#E5ECF6",
            "gridcolor": "white",
            "gridwidth": 2,
            "linecolor": "white",
            "showbackground": true,
            "ticks": "",
            "zerolinecolor": "white"
           },
           "yaxis": {
            "backgroundcolor": "#E5ECF6",
            "gridcolor": "white",
            "gridwidth": 2,
            "linecolor": "white",
            "showbackground": true,
            "ticks": "",
            "zerolinecolor": "white"
           },
           "zaxis": {
            "backgroundcolor": "#E5ECF6",
            "gridcolor": "white",
            "gridwidth": 2,
            "linecolor": "white",
            "showbackground": true,
            "ticks": "",
            "zerolinecolor": "white"
           }
          },
          "shapedefaults": {
           "line": {
            "color": "#2a3f5f"
           }
          },
          "ternary": {
           "aaxis": {
            "gridcolor": "white",
            "linecolor": "white",
            "ticks": ""
           },
           "baxis": {
            "gridcolor": "white",
            "linecolor": "white",
            "ticks": ""
           },
           "bgcolor": "#E5ECF6",
           "caxis": {
            "gridcolor": "white",
            "linecolor": "white",
            "ticks": ""
           }
          },
          "title": {
           "x": 0.05
          },
          "xaxis": {
           "automargin": true,
           "gridcolor": "white",
           "linecolor": "white",
           "ticks": "",
           "title": {
            "standoff": 15
           },
           "zerolinecolor": "white",
           "zerolinewidth": 2
          },
          "yaxis": {
           "automargin": true,
           "gridcolor": "white",
           "linecolor": "white",
           "ticks": "",
           "title": {
            "standoff": 15
           },
           "zerolinecolor": "white",
           "zerolinewidth": 2
          }
         }
        },
        "title": {
         "text": "Stress en Sportgewoontes"
        },
        "xaxis": {
         "categoryarray": [
          "No Sports",
          "1-3 times",
          "4-6 times",
          "7+ times"
         ],
         "categoryorder": "array",
         "title": {
          "text": "Wekelijkse sportfrequentie"
         }
        },
        "yaxis": {
         "title": {
          "text": "Stress score"
         }
        }
       }
      },
      "text/html": [
       "<div>            <script src=\"https://cdnjs.cloudflare.com/ajax/libs/mathjax/2.7.5/MathJax.js?config=TeX-AMS-MML_SVG\"></script><script type=\"text/javascript\">if (window.MathJax && window.MathJax.Hub && window.MathJax.Hub.Config) {window.MathJax.Hub.Config({SVG: {font: \"STIX-Web\"}});}</script>                <script type=\"text/javascript\">window.PlotlyConfig = {MathJaxConfig: 'local'};</script>\n",
       "        <script charset=\"utf-8\" src=\"https://cdn.plot.ly/plotly-3.0.1.min.js\"></script>                <div id=\"7861c6a7-b07b-47be-970e-cad808bf97b2\" class=\"plotly-graph-div\" style=\"height:525px; width:100%;\"></div>            <script type=\"text/javascript\">                window.PLOTLYENV=window.PLOTLYENV || {};                                if (document.getElementById(\"7861c6a7-b07b-47be-970e-cad808bf97b2\")) {                    Plotly.newPlot(                        \"7861c6a7-b07b-47be-970e-cad808bf97b2\",                        [{\"x\":[\"No Sports\",\"1-3 times\",\"1-3 times\",\"No Sports\",\"No Sports\",\"No Sports\",\"1-3 times\",\"No Sports\",\"1-3 times\",\"No Sports\",\"No Sports\",\"1-3 times\",\"No Sports\",\"No Sports\",\"No Sports\",\"No Sports\",\"No Sports\",\"No Sports\",\"1-3 times\",\"1-3 times\",\"1-3 times\",\"No Sports\",\"No Sports\",\"1-3 times\",\"1-3 times\",\"7+ times\",\"1-3 times\",\"7+ times\",\"4-6 times\",\"4-6 times\",\"No Sports\",\"No Sports\",\"No Sports\",\"No Sports\",\"No Sports\",\"7+ times\",\"No Sports\",\"4-6 times\",\"No Sports\",\"No Sports\",\"1-3 times\",\"No Sports\",\"1-3 times\",\"4-6 times\",\"1-3 times\",\"7+ times\",\"1-3 times\",\"No Sports\",\"1-3 times\",\"No Sports\",\"1-3 times\",\"7+ times\",\"7+ times\",\"1-3 times\",\"1-3 times\",\"4-6 times\",\"4-6 times\",\"No Sports\",\"4-6 times\",\"1-3 times\",\"4-6 times\",\"1-3 times\",\"7+ times\",\"No Sports\",\"1-3 times\",\"No Sports\",\"1-3 times\",\"No Sports\",\"7+ times\",\"4-6 times\",\"No Sports\",\"7+ times\",\"No Sports\",\"No Sports\",\"7+ times\",\"1-3 times\",\"No Sports\",\"4-6 times\",\"No Sports\",\"No Sports\",\"No Sports\",\"No Sports\",\"No Sports\",\"No Sports\",\"No Sports\",\"No Sports\",\"4-6 times\"],\"y\":{\"dtype\":\"i1\",\"bdata\":\"AQMDBQUFBAIEBQMDBAQDAQICBAUCBAQFBAEDBQQDAgMDAgUDBAIFAwEEAwECAwUDBAECBAMEAwEEAgECAgIEBAUEBAIEAQQDBQUBBQMCBQUEAgMFAgQC\"},\"type\":\"box\"}],                        {\"template\":{\"data\":{\"histogram2dcontour\":[{\"type\":\"histogram2dcontour\",\"colorbar\":{\"outlinewidth\":0,\"ticks\":\"\"},\"colorscale\":[[0.0,\"#0d0887\"],[0.1111111111111111,\"#46039f\"],[0.2222222222222222,\"#7201a8\"],[0.3333333333333333,\"#9c179e\"],[0.4444444444444444,\"#bd3786\"],[0.5555555555555556,\"#d8576b\"],[0.6666666666666666,\"#ed7953\"],[0.7777777777777778,\"#fb9f3a\"],[0.8888888888888888,\"#fdca26\"],[1.0,\"#f0f921\"]]}],\"choropleth\":[{\"type\":\"choropleth\",\"colorbar\":{\"outlinewidth\":0,\"ticks\":\"\"}}],\"histogram2d\":[{\"type\":\"histogram2d\",\"colorbar\":{\"outlinewidth\":0,\"ticks\":\"\"},\"colorscale\":[[0.0,\"#0d0887\"],[0.1111111111111111,\"#46039f\"],[0.2222222222222222,\"#7201a8\"],[0.3333333333333333,\"#9c179e\"],[0.4444444444444444,\"#bd3786\"],[0.5555555555555556,\"#d8576b\"],[0.6666666666666666,\"#ed7953\"],[0.7777777777777778,\"#fb9f3a\"],[0.8888888888888888,\"#fdca26\"],[1.0,\"#f0f921\"]]}],\"heatmap\":[{\"type\":\"heatmap\",\"colorbar\":{\"outlinewidth\":0,\"ticks\":\"\"},\"colorscale\":[[0.0,\"#0d0887\"],[0.1111111111111111,\"#46039f\"],[0.2222222222222222,\"#7201a8\"],[0.3333333333333333,\"#9c179e\"],[0.4444444444444444,\"#bd3786\"],[0.5555555555555556,\"#d8576b\"],[0.6666666666666666,\"#ed7953\"],[0.7777777777777778,\"#fb9f3a\"],[0.8888888888888888,\"#fdca26\"],[1.0,\"#f0f921\"]]}],\"contourcarpet\":[{\"type\":\"contourcarpet\",\"colorbar\":{\"outlinewidth\":0,\"ticks\":\"\"}}],\"contour\":[{\"type\":\"contour\",\"colorbar\":{\"outlinewidth\":0,\"ticks\":\"\"},\"colorscale\":[[0.0,\"#0d0887\"],[0.1111111111111111,\"#46039f\"],[0.2222222222222222,\"#7201a8\"],[0.3333333333333333,\"#9c179e\"],[0.4444444444444444,\"#bd3786\"],[0.5555555555555556,\"#d8576b\"],[0.6666666666666666,\"#ed7953\"],[0.7777777777777778,\"#fb9f3a\"],[0.8888888888888888,\"#fdca26\"],[1.0,\"#f0f921\"]]}],\"surface\":[{\"type\":\"surface\",\"colorbar\":{\"outlinewidth\":0,\"ticks\":\"\"},\"colorscale\":[[0.0,\"#0d0887\"],[0.1111111111111111,\"#46039f\"],[0.2222222222222222,\"#7201a8\"],[0.3333333333333333,\"#9c179e\"],[0.4444444444444444,\"#bd3786\"],[0.5555555555555556,\"#d8576b\"],[0.6666666666666666,\"#ed7953\"],[0.7777777777777778,\"#fb9f3a\"],[0.8888888888888888,\"#fdca26\"],[1.0,\"#f0f921\"]]}],\"mesh3d\":[{\"type\":\"mesh3d\",\"colorbar\":{\"outlinewidth\":0,\"ticks\":\"\"}}],\"scatter\":[{\"fillpattern\":{\"fillmode\":\"overlay\",\"size\":10,\"solidity\":0.2},\"type\":\"scatter\"}],\"parcoords\":[{\"type\":\"parcoords\",\"line\":{\"colorbar\":{\"outlinewidth\":0,\"ticks\":\"\"}}}],\"scatterpolargl\":[{\"type\":\"scatterpolargl\",\"marker\":{\"colorbar\":{\"outlinewidth\":0,\"ticks\":\"\"}}}],\"bar\":[{\"error_x\":{\"color\":\"#2a3f5f\"},\"error_y\":{\"color\":\"#2a3f5f\"},\"marker\":{\"line\":{\"color\":\"#E5ECF6\",\"width\":0.5},\"pattern\":{\"fillmode\":\"overlay\",\"size\":10,\"solidity\":0.2}},\"type\":\"bar\"}],\"scattergeo\":[{\"type\":\"scattergeo\",\"marker\":{\"colorbar\":{\"outlinewidth\":0,\"ticks\":\"\"}}}],\"scatterpolar\":[{\"type\":\"scatterpolar\",\"marker\":{\"colorbar\":{\"outlinewidth\":0,\"ticks\":\"\"}}}],\"histogram\":[{\"marker\":{\"pattern\":{\"fillmode\":\"overlay\",\"size\":10,\"solidity\":0.2}},\"type\":\"histogram\"}],\"scattergl\":[{\"type\":\"scattergl\",\"marker\":{\"colorbar\":{\"outlinewidth\":0,\"ticks\":\"\"}}}],\"scatter3d\":[{\"type\":\"scatter3d\",\"line\":{\"colorbar\":{\"outlinewidth\":0,\"ticks\":\"\"}},\"marker\":{\"colorbar\":{\"outlinewidth\":0,\"ticks\":\"\"}}}],\"scattermap\":[{\"type\":\"scattermap\",\"marker\":{\"colorbar\":{\"outlinewidth\":0,\"ticks\":\"\"}}}],\"scattermapbox\":[{\"type\":\"scattermapbox\",\"marker\":{\"colorbar\":{\"outlinewidth\":0,\"ticks\":\"\"}}}],\"scatterternary\":[{\"type\":\"scatterternary\",\"marker\":{\"colorbar\":{\"outlinewidth\":0,\"ticks\":\"\"}}}],\"scattercarpet\":[{\"type\":\"scattercarpet\",\"marker\":{\"colorbar\":{\"outlinewidth\":0,\"ticks\":\"\"}}}],\"carpet\":[{\"aaxis\":{\"endlinecolor\":\"#2a3f5f\",\"gridcolor\":\"white\",\"linecolor\":\"white\",\"minorgridcolor\":\"white\",\"startlinecolor\":\"#2a3f5f\"},\"baxis\":{\"endlinecolor\":\"#2a3f5f\",\"gridcolor\":\"white\",\"linecolor\":\"white\",\"minorgridcolor\":\"white\",\"startlinecolor\":\"#2a3f5f\"},\"type\":\"carpet\"}],\"table\":[{\"cells\":{\"fill\":{\"color\":\"#EBF0F8\"},\"line\":{\"color\":\"white\"}},\"header\":{\"fill\":{\"color\":\"#C8D4E3\"},\"line\":{\"color\":\"white\"}},\"type\":\"table\"}],\"barpolar\":[{\"marker\":{\"line\":{\"color\":\"#E5ECF6\",\"width\":0.5},\"pattern\":{\"fillmode\":\"overlay\",\"size\":10,\"solidity\":0.2}},\"type\":\"barpolar\"}],\"pie\":[{\"automargin\":true,\"type\":\"pie\"}]},\"layout\":{\"autotypenumbers\":\"strict\",\"colorway\":[\"#636efa\",\"#EF553B\",\"#00cc96\",\"#ab63fa\",\"#FFA15A\",\"#19d3f3\",\"#FF6692\",\"#B6E880\",\"#FF97FF\",\"#FECB52\"],\"font\":{\"color\":\"#2a3f5f\"},\"hovermode\":\"closest\",\"hoverlabel\":{\"align\":\"left\"},\"paper_bgcolor\":\"white\",\"plot_bgcolor\":\"#E5ECF6\",\"polar\":{\"bgcolor\":\"#E5ECF6\",\"angularaxis\":{\"gridcolor\":\"white\",\"linecolor\":\"white\",\"ticks\":\"\"},\"radialaxis\":{\"gridcolor\":\"white\",\"linecolor\":\"white\",\"ticks\":\"\"}},\"ternary\":{\"bgcolor\":\"#E5ECF6\",\"aaxis\":{\"gridcolor\":\"white\",\"linecolor\":\"white\",\"ticks\":\"\"},\"baxis\":{\"gridcolor\":\"white\",\"linecolor\":\"white\",\"ticks\":\"\"},\"caxis\":{\"gridcolor\":\"white\",\"linecolor\":\"white\",\"ticks\":\"\"}},\"coloraxis\":{\"colorbar\":{\"outlinewidth\":0,\"ticks\":\"\"}},\"colorscale\":{\"sequential\":[[0.0,\"#0d0887\"],[0.1111111111111111,\"#46039f\"],[0.2222222222222222,\"#7201a8\"],[0.3333333333333333,\"#9c179e\"],[0.4444444444444444,\"#bd3786\"],[0.5555555555555556,\"#d8576b\"],[0.6666666666666666,\"#ed7953\"],[0.7777777777777778,\"#fb9f3a\"],[0.8888888888888888,\"#fdca26\"],[1.0,\"#f0f921\"]],\"sequentialminus\":[[0.0,\"#0d0887\"],[0.1111111111111111,\"#46039f\"],[0.2222222222222222,\"#7201a8\"],[0.3333333333333333,\"#9c179e\"],[0.4444444444444444,\"#bd3786\"],[0.5555555555555556,\"#d8576b\"],[0.6666666666666666,\"#ed7953\"],[0.7777777777777778,\"#fb9f3a\"],[0.8888888888888888,\"#fdca26\"],[1.0,\"#f0f921\"]],\"diverging\":[[0,\"#8e0152\"],[0.1,\"#c51b7d\"],[0.2,\"#de77ae\"],[0.3,\"#f1b6da\"],[0.4,\"#fde0ef\"],[0.5,\"#f7f7f7\"],[0.6,\"#e6f5d0\"],[0.7,\"#b8e186\"],[0.8,\"#7fbc41\"],[0.9,\"#4d9221\"],[1,\"#276419\"]]},\"xaxis\":{\"gridcolor\":\"white\",\"linecolor\":\"white\",\"ticks\":\"\",\"title\":{\"standoff\":15},\"zerolinecolor\":\"white\",\"automargin\":true,\"zerolinewidth\":2},\"yaxis\":{\"gridcolor\":\"white\",\"linecolor\":\"white\",\"ticks\":\"\",\"title\":{\"standoff\":15},\"zerolinecolor\":\"white\",\"automargin\":true,\"zerolinewidth\":2},\"scene\":{\"xaxis\":{\"backgroundcolor\":\"#E5ECF6\",\"gridcolor\":\"white\",\"linecolor\":\"white\",\"showbackground\":true,\"ticks\":\"\",\"zerolinecolor\":\"white\",\"gridwidth\":2},\"yaxis\":{\"backgroundcolor\":\"#E5ECF6\",\"gridcolor\":\"white\",\"linecolor\":\"white\",\"showbackground\":true,\"ticks\":\"\",\"zerolinecolor\":\"white\",\"gridwidth\":2},\"zaxis\":{\"backgroundcolor\":\"#E5ECF6\",\"gridcolor\":\"white\",\"linecolor\":\"white\",\"showbackground\":true,\"ticks\":\"\",\"zerolinecolor\":\"white\",\"gridwidth\":2}},\"shapedefaults\":{\"line\":{\"color\":\"#2a3f5f\"}},\"annotationdefaults\":{\"arrowcolor\":\"#2a3f5f\",\"arrowhead\":0,\"arrowwidth\":1},\"geo\":{\"bgcolor\":\"white\",\"landcolor\":\"#E5ECF6\",\"subunitcolor\":\"white\",\"showland\":true,\"showlakes\":true,\"lakecolor\":\"white\"},\"title\":{\"x\":0.05},\"mapbox\":{\"style\":\"light\"}}},\"xaxis\":{\"title\":{\"text\":\"Wekelijkse sportfrequentie\"},\"categoryorder\":\"array\",\"categoryarray\":[\"No Sports\",\"1-3 times\",\"4-6 times\",\"7+ times\"]},\"title\":{\"text\":\"Stress en Sportgewoontes\"},\"yaxis\":{\"title\":{\"text\":\"Stress score\"}}},                        {\"responsive\": true}                    ).then(function(){\n",
       "                            \n",
       "var gd = document.getElementById('7861c6a7-b07b-47be-970e-cad808bf97b2');\n",
       "var x = new MutationObserver(function (mutations, observer) {{\n",
       "        var display = window.getComputedStyle(gd).display;\n",
       "        if (!display || display === 'none') {{\n",
       "            console.log([gd, 'removed!']);\n",
       "            Plotly.purge(gd);\n",
       "            observer.disconnect();\n",
       "        }}\n",
       "}});\n",
       "\n",
       "// Listen for the removal of the full notebook cells\n",
       "var notebookContainer = gd.closest('#notebook-container');\n",
       "if (notebookContainer) {{\n",
       "    x.observe(notebookContainer, {childList: true});\n",
       "}}\n",
       "\n",
       "// Listen for the clearing of the current output cell\n",
       "var outputEl = gd.closest('.output');\n",
       "if (outputEl) {{\n",
       "    x.observe(outputEl, {childList: true});\n",
       "}}\n",
       "\n",
       "                        })                };            </script>        </div>"
      ]
     },
     "metadata": {},
     "output_type": "display_data"
    }
   ],
   "source": [
    "import kagglehub\n",
    "import pandas as pd\n",
    "import os\n",
    "import plotly.express as px\n",
    "import plotly.graph_objs as go\n",
    "from plotly.offline import init_notebook_mode\n",
    "init_notebook_mode(connected=True)\n",
    "# Download latest version\n",
    "path = kagglehub.dataset_download(\"abdullahashfaqvirk/student-mental-health-survey\")\n",
    "\n",
    "# print(\"Path to dataset files:\", path)\n",
    "\n",
    "csv_path = os.path.join(path, \"MentalHealthSurvey.csv\") \n",
    "df = pd.read_csv(csv_path)\n",
    "# print(df.head(n=5))\n",
    "\n",
    "df['sports_engagement'] = pd.Categorical(\n",
    "    df['sports_engagement'],\n",
    "    categories=['No Sports','1-3 times', '4-6 times', '7+ times'],\n",
    "    ordered=True\n",
    ")\n",
    "depressie_level = df['depression']\n",
    "stress_level = df['anxiety']\n",
    "slaap_level = df['average_sleep']\n",
    "isolatie = df['isolation']\n",
    "\n",
    "fig = go.Figure()\n",
    "\n",
    "fig.add_trace(go.Box(\n",
    "    x=df['sports_engagement'],\n",
    "    y=stress_level\n",
    "))\n",
    "fig.update_layout(\n",
    "    title = 'Stress en Sportgewoontes',\n",
    "    xaxis_title = 'Wekelijkse sportfrequentie',\n",
    "    yaxis_title = 'Stress score',\n",
    "    xaxis=dict(\n",
    "        categoryorder='array',\n",
    "        categoryarray=['No Sports', '1-3 times', '4-6 times', '7+ times']\n",
    "    )\n",
    ")\n",
    "\n",
    "fig.show()\n",
    "\n"
   ]
  },
  {
   "cell_type": "markdown",
   "id": "e9560897",
   "metadata": {},
   "source": [
    "> *Figuur 5: Boxplot van stressniveau en wekelijkse sportfrequentie .*"
   ]
  },
  {
   "cell_type": "markdown",
   "id": "a2967cb2",
   "metadata": {},
   "source": [
    "De bovenstaande boxplot laat zien hoe het stressniveau van studenten samenhangt met hun sportgewoontes. Op de horizontale as (x-as) staan vier categorieën die aangeven hoe vaak studenten per week sporten: No Sports, 1–3 times, 4–6 times en 7+ times. Op de verticale as (y-as) staat het gerapporteerde stressniveau, gemeten op een schaal van 1 (laag) tot 5 (hoog), afkomstig uit de dataset van een studentenonderzoek naar mentale gezondheid.\n",
    "\n",
    "Elke box geeft de spreiding van stressniveaus binnen een sportcategorie weer. De dikke lijn in het midden van de box toont de mediaan (het midden van de dataset), terwijl de boven- en onderrand van de box het interkwartielbereik aangeven (de middelste 50% van de waarden). De lijnen (whiskers) tonen de volledige spreiding, en eventuele punten buiten dit bereik zijn uitschieters, zoals te zien is bij 7+ times, waar één student een extreem laag stressniveau van 1 heeft.\n",
    "\n",
    "Wat opvalt in de visualisatie is dat studenten die niet sporten gemiddeld het hoogste stressniveau ervaren. Hun mediaan ligt op niveau 4, met een vrij brede spreiding. Naarmate de frequentie van sportdeelname toeneemt, daalt het gemiddelde stressniveau. Een overmatige hoeveelheid stress is een indicator van verminderde mentale gezondheid (Fruehwirth et al., 2023). De groep die 4–6 keer per week sport laat zelfs de laagste mediaan zien (niveau 2), met een relatief compacte spreiding. Het stressniveau bij studenten die meer dan 7 keer per week sporten ligt weer iets hoger, dit zou kunnen komen doordat die studenten zo hard en waarschijnlijk ook op redelijk hoog niveau sporten, waardoor het weer stress opleverd door bijvoorbeeld prestatiedruk of tijdsgebrek. Een gebrek aan tijd voor dingen die belangrijk geacht worden is een veel onderzochte reden voor stress (Maule & Hockey, 1998).\n",
    "\n",
    "Deze resultaten suggereren dat regelmatige fysieke activiteit, samenhangt met lagere stressniveaus onder studenten. Hoewel deze data geen causaal verband bewijst, biedt het wel aanleiding om sport te beschouwen als een mogelijke beschermende factor voor mentale gezondheid. Kortom, deze grafiek onderstreept het belang van een gebalanceerd sportpatroon als potentiële bijdrage aan stressvermindering bij studenten."
   ]
  },
  {
   "cell_type": "markdown",
   "id": "eb65a1a3",
   "metadata": {},
   "source": [
    "### Academische druk"
   ]
  },
  {
   "cell_type": "code",
   "execution_count": 23,
   "id": "a1889e06",
   "metadata": {
    "tags": [
     "hide-input"
    ]
   },
   "outputs": [
    {
     "data": {
      "application/vnd.plotly.v1+json": {
       "config": {
        "plotlyServerURL": "https://plot.ly"
       },
       "data": [
        {
         "hovertemplate": "Academische druk (afgerond)=%{x}<br>Gemiddelde depressiescore=%{marker.color}<extra></extra>",
         "legendgroup": "",
         "marker": {
          "color": {
           "bdata": "MzMzMzMzA0BVVVVVVVX9P+Q4juM4jgdAAAAAAABACkBiJ3ZiJ3YOQA==",
           "dtype": "f8"
          },
          "coloraxis": "coloraxis",
          "pattern": {
           "shape": ""
          }
         },
         "name": "",
         "orientation": "v",
         "showlegend": false,
         "textposition": "auto",
         "type": "bar",
         "x": {
          "bdata": "AQIDBAU=",
          "dtype": "i1"
         },
         "xaxis": "x",
         "y": {
          "bdata": "MzMzMzMzA0BVVVVVVVX9P+Q4juM4jgdAAAAAAABACkBiJ3ZiJ3YOQA==",
          "dtype": "f8"
         },
         "yaxis": "y"
        }
       ],
       "layout": {
        "bargap": 0,
        "barmode": "relative",
        "coloraxis": {
         "colorbar": {
          "title": {
           "text": "Gemiddelde depressiescore"
          }
         },
         "colorscale": [
          [
           0,
           "#ffcccc"
          ],
          [
           0.3333333333333333,
           "#ff6666"
          ],
          [
           0.6666666666666666,
           "#cc0000"
          ],
          [
           1,
           "#660000"
          ]
         ]
        },
        "height": 400,
        "legend": {
         "tracegroupgap": 0
        },
        "template": {
         "data": {
          "bar": [
           {
            "error_x": {
             "color": "#2a3f5f"
            },
            "error_y": {
             "color": "#2a3f5f"
            },
            "marker": {
             "line": {
              "color": "white",
              "width": 0.5
             },
             "pattern": {
              "fillmode": "overlay",
              "size": 10,
              "solidity": 0.2
             }
            },
            "type": "bar"
           }
          ],
          "barpolar": [
           {
            "marker": {
             "line": {
              "color": "white",
              "width": 0.5
             },
             "pattern": {
              "fillmode": "overlay",
              "size": 10,
              "solidity": 0.2
             }
            },
            "type": "barpolar"
           }
          ],
          "carpet": [
           {
            "aaxis": {
             "endlinecolor": "#2a3f5f",
             "gridcolor": "#C8D4E3",
             "linecolor": "#C8D4E3",
             "minorgridcolor": "#C8D4E3",
             "startlinecolor": "#2a3f5f"
            },
            "baxis": {
             "endlinecolor": "#2a3f5f",
             "gridcolor": "#C8D4E3",
             "linecolor": "#C8D4E3",
             "minorgridcolor": "#C8D4E3",
             "startlinecolor": "#2a3f5f"
            },
            "type": "carpet"
           }
          ],
          "choropleth": [
           {
            "colorbar": {
             "outlinewidth": 0,
             "ticks": ""
            },
            "type": "choropleth"
           }
          ],
          "contour": [
           {
            "colorbar": {
             "outlinewidth": 0,
             "ticks": ""
            },
            "colorscale": [
             [
              0,
              "#0d0887"
             ],
             [
              0.1111111111111111,
              "#46039f"
             ],
             [
              0.2222222222222222,
              "#7201a8"
             ],
             [
              0.3333333333333333,
              "#9c179e"
             ],
             [
              0.4444444444444444,
              "#bd3786"
             ],
             [
              0.5555555555555556,
              "#d8576b"
             ],
             [
              0.6666666666666666,
              "#ed7953"
             ],
             [
              0.7777777777777778,
              "#fb9f3a"
             ],
             [
              0.8888888888888888,
              "#fdca26"
             ],
             [
              1,
              "#f0f921"
             ]
            ],
            "type": "contour"
           }
          ],
          "contourcarpet": [
           {
            "colorbar": {
             "outlinewidth": 0,
             "ticks": ""
            },
            "type": "contourcarpet"
           }
          ],
          "heatmap": [
           {
            "colorbar": {
             "outlinewidth": 0,
             "ticks": ""
            },
            "colorscale": [
             [
              0,
              "#0d0887"
             ],
             [
              0.1111111111111111,
              "#46039f"
             ],
             [
              0.2222222222222222,
              "#7201a8"
             ],
             [
              0.3333333333333333,
              "#9c179e"
             ],
             [
              0.4444444444444444,
              "#bd3786"
             ],
             [
              0.5555555555555556,
              "#d8576b"
             ],
             [
              0.6666666666666666,
              "#ed7953"
             ],
             [
              0.7777777777777778,
              "#fb9f3a"
             ],
             [
              0.8888888888888888,
              "#fdca26"
             ],
             [
              1,
              "#f0f921"
             ]
            ],
            "type": "heatmap"
           }
          ],
          "histogram": [
           {
            "marker": {
             "pattern": {
              "fillmode": "overlay",
              "size": 10,
              "solidity": 0.2
             }
            },
            "type": "histogram"
           }
          ],
          "histogram2d": [
           {
            "colorbar": {
             "outlinewidth": 0,
             "ticks": ""
            },
            "colorscale": [
             [
              0,
              "#0d0887"
             ],
             [
              0.1111111111111111,
              "#46039f"
             ],
             [
              0.2222222222222222,
              "#7201a8"
             ],
             [
              0.3333333333333333,
              "#9c179e"
             ],
             [
              0.4444444444444444,
              "#bd3786"
             ],
             [
              0.5555555555555556,
              "#d8576b"
             ],
             [
              0.6666666666666666,
              "#ed7953"
             ],
             [
              0.7777777777777778,
              "#fb9f3a"
             ],
             [
              0.8888888888888888,
              "#fdca26"
             ],
             [
              1,
              "#f0f921"
             ]
            ],
            "type": "histogram2d"
           }
          ],
          "histogram2dcontour": [
           {
            "colorbar": {
             "outlinewidth": 0,
             "ticks": ""
            },
            "colorscale": [
             [
              0,
              "#0d0887"
             ],
             [
              0.1111111111111111,
              "#46039f"
             ],
             [
              0.2222222222222222,
              "#7201a8"
             ],
             [
              0.3333333333333333,
              "#9c179e"
             ],
             [
              0.4444444444444444,
              "#bd3786"
             ],
             [
              0.5555555555555556,
              "#d8576b"
             ],
             [
              0.6666666666666666,
              "#ed7953"
             ],
             [
              0.7777777777777778,
              "#fb9f3a"
             ],
             [
              0.8888888888888888,
              "#fdca26"
             ],
             [
              1,
              "#f0f921"
             ]
            ],
            "type": "histogram2dcontour"
           }
          ],
          "mesh3d": [
           {
            "colorbar": {
             "outlinewidth": 0,
             "ticks": ""
            },
            "type": "mesh3d"
           }
          ],
          "parcoords": [
           {
            "line": {
             "colorbar": {
              "outlinewidth": 0,
              "ticks": ""
             }
            },
            "type": "parcoords"
           }
          ],
          "pie": [
           {
            "automargin": true,
            "type": "pie"
           }
          ],
          "scatter": [
           {
            "fillpattern": {
             "fillmode": "overlay",
             "size": 10,
             "solidity": 0.2
            },
            "type": "scatter"
           }
          ],
          "scatter3d": [
           {
            "line": {
             "colorbar": {
              "outlinewidth": 0,
              "ticks": ""
             }
            },
            "marker": {
             "colorbar": {
              "outlinewidth": 0,
              "ticks": ""
             }
            },
            "type": "scatter3d"
           }
          ],
          "scattercarpet": [
           {
            "marker": {
             "colorbar": {
              "outlinewidth": 0,
              "ticks": ""
             }
            },
            "type": "scattercarpet"
           }
          ],
          "scattergeo": [
           {
            "marker": {
             "colorbar": {
              "outlinewidth": 0,
              "ticks": ""
             }
            },
            "type": "scattergeo"
           }
          ],
          "scattergl": [
           {
            "marker": {
             "colorbar": {
              "outlinewidth": 0,
              "ticks": ""
             }
            },
            "type": "scattergl"
           }
          ],
          "scattermap": [
           {
            "marker": {
             "colorbar": {
              "outlinewidth": 0,
              "ticks": ""
             }
            },
            "type": "scattermap"
           }
          ],
          "scattermapbox": [
           {
            "marker": {
             "colorbar": {
              "outlinewidth": 0,
              "ticks": ""
             }
            },
            "type": "scattermapbox"
           }
          ],
          "scatterpolar": [
           {
            "marker": {
             "colorbar": {
              "outlinewidth": 0,
              "ticks": ""
             }
            },
            "type": "scatterpolar"
           }
          ],
          "scatterpolargl": [
           {
            "marker": {
             "colorbar": {
              "outlinewidth": 0,
              "ticks": ""
             }
            },
            "type": "scatterpolargl"
           }
          ],
          "scatterternary": [
           {
            "marker": {
             "colorbar": {
              "outlinewidth": 0,
              "ticks": ""
             }
            },
            "type": "scatterternary"
           }
          ],
          "surface": [
           {
            "colorbar": {
             "outlinewidth": 0,
             "ticks": ""
            },
            "colorscale": [
             [
              0,
              "#0d0887"
             ],
             [
              0.1111111111111111,
              "#46039f"
             ],
             [
              0.2222222222222222,
              "#7201a8"
             ],
             [
              0.3333333333333333,
              "#9c179e"
             ],
             [
              0.4444444444444444,
              "#bd3786"
             ],
             [
              0.5555555555555556,
              "#d8576b"
             ],
             [
              0.6666666666666666,
              "#ed7953"
             ],
             [
              0.7777777777777778,
              "#fb9f3a"
             ],
             [
              0.8888888888888888,
              "#fdca26"
             ],
             [
              1,
              "#f0f921"
             ]
            ],
            "type": "surface"
           }
          ],
          "table": [
           {
            "cells": {
             "fill": {
              "color": "#EBF0F8"
             },
             "line": {
              "color": "white"
             }
            },
            "header": {
             "fill": {
              "color": "#C8D4E3"
             },
             "line": {
              "color": "white"
             }
            },
            "type": "table"
           }
          ]
         },
         "layout": {
          "annotationdefaults": {
           "arrowcolor": "#2a3f5f",
           "arrowhead": 0,
           "arrowwidth": 1
          },
          "autotypenumbers": "strict",
          "coloraxis": {
           "colorbar": {
            "outlinewidth": 0,
            "ticks": ""
           }
          },
          "colorscale": {
           "diverging": [
            [
             0,
             "#8e0152"
            ],
            [
             0.1,
             "#c51b7d"
            ],
            [
             0.2,
             "#de77ae"
            ],
            [
             0.3,
             "#f1b6da"
            ],
            [
             0.4,
             "#fde0ef"
            ],
            [
             0.5,
             "#f7f7f7"
            ],
            [
             0.6,
             "#e6f5d0"
            ],
            [
             0.7,
             "#b8e186"
            ],
            [
             0.8,
             "#7fbc41"
            ],
            [
             0.9,
             "#4d9221"
            ],
            [
             1,
             "#276419"
            ]
           ],
           "sequential": [
            [
             0,
             "#0d0887"
            ],
            [
             0.1111111111111111,
             "#46039f"
            ],
            [
             0.2222222222222222,
             "#7201a8"
            ],
            [
             0.3333333333333333,
             "#9c179e"
            ],
            [
             0.4444444444444444,
             "#bd3786"
            ],
            [
             0.5555555555555556,
             "#d8576b"
            ],
            [
             0.6666666666666666,
             "#ed7953"
            ],
            [
             0.7777777777777778,
             "#fb9f3a"
            ],
            [
             0.8888888888888888,
             "#fdca26"
            ],
            [
             1,
             "#f0f921"
            ]
           ],
           "sequentialminus": [
            [
             0,
             "#0d0887"
            ],
            [
             0.1111111111111111,
             "#46039f"
            ],
            [
             0.2222222222222222,
             "#7201a8"
            ],
            [
             0.3333333333333333,
             "#9c179e"
            ],
            [
             0.4444444444444444,
             "#bd3786"
            ],
            [
             0.5555555555555556,
             "#d8576b"
            ],
            [
             0.6666666666666666,
             "#ed7953"
            ],
            [
             0.7777777777777778,
             "#fb9f3a"
            ],
            [
             0.8888888888888888,
             "#fdca26"
            ],
            [
             1,
             "#f0f921"
            ]
           ]
          },
          "colorway": [
           "#636efa",
           "#EF553B",
           "#00cc96",
           "#ab63fa",
           "#FFA15A",
           "#19d3f3",
           "#FF6692",
           "#B6E880",
           "#FF97FF",
           "#FECB52"
          ],
          "font": {
           "color": "#2a3f5f"
          },
          "geo": {
           "bgcolor": "white",
           "lakecolor": "white",
           "landcolor": "white",
           "showlakes": true,
           "showland": true,
           "subunitcolor": "#C8D4E3"
          },
          "hoverlabel": {
           "align": "left"
          },
          "hovermode": "closest",
          "mapbox": {
           "style": "light"
          },
          "paper_bgcolor": "white",
          "plot_bgcolor": "white",
          "polar": {
           "angularaxis": {
            "gridcolor": "#EBF0F8",
            "linecolor": "#EBF0F8",
            "ticks": ""
           },
           "bgcolor": "white",
           "radialaxis": {
            "gridcolor": "#EBF0F8",
            "linecolor": "#EBF0F8",
            "ticks": ""
           }
          },
          "scene": {
           "xaxis": {
            "backgroundcolor": "white",
            "gridcolor": "#DFE8F3",
            "gridwidth": 2,
            "linecolor": "#EBF0F8",
            "showbackground": true,
            "ticks": "",
            "zerolinecolor": "#EBF0F8"
           },
           "yaxis": {
            "backgroundcolor": "white",
            "gridcolor": "#DFE8F3",
            "gridwidth": 2,
            "linecolor": "#EBF0F8",
            "showbackground": true,
            "ticks": "",
            "zerolinecolor": "#EBF0F8"
           },
           "zaxis": {
            "backgroundcolor": "white",
            "gridcolor": "#DFE8F3",
            "gridwidth": 2,
            "linecolor": "#EBF0F8",
            "showbackground": true,
            "ticks": "",
            "zerolinecolor": "#EBF0F8"
           }
          },
          "shapedefaults": {
           "line": {
            "color": "#2a3f5f"
           }
          },
          "ternary": {
           "aaxis": {
            "gridcolor": "#DFE8F3",
            "linecolor": "#A2B1C6",
            "ticks": ""
           },
           "baxis": {
            "gridcolor": "#DFE8F3",
            "linecolor": "#A2B1C6",
            "ticks": ""
           },
           "bgcolor": "white",
           "caxis": {
            "gridcolor": "#DFE8F3",
            "linecolor": "#A2B1C6",
            "ticks": ""
           }
          },
          "title": {
           "x": 0.05
          },
          "xaxis": {
           "automargin": true,
           "gridcolor": "#EBF0F8",
           "linecolor": "#EBF0F8",
           "ticks": "",
           "title": {
            "standoff": 15
           },
           "zerolinecolor": "#EBF0F8",
           "zerolinewidth": 2
          },
          "yaxis": {
           "automargin": true,
           "gridcolor": "#EBF0F8",
           "linecolor": "#EBF0F8",
           "ticks": "",
           "title": {
            "standoff": 15
           },
           "zerolinecolor": "#EBF0F8",
           "zerolinewidth": 2
          }
         }
        },
        "title": {
         "text": "Gemiddelde depressiescore per niveau van academische druk"
        },
        "width": 1200,
        "xaxis": {
         "anchor": "y",
         "domain": [
          0,
          1
         ],
         "dtick": 1,
         "title": {
          "text": "Academische druk (afgerond)"
         }
        },
        "yaxis": {
         "anchor": "x",
         "domain": [
          0,
          1
         ],
         "title": {
          "text": "Gemiddelde depressiescore"
         }
        }
       }
      },
      "text/html": [
       "<div>            <script src=\"https://cdnjs.cloudflare.com/ajax/libs/mathjax/2.7.5/MathJax.js?config=TeX-AMS-MML_SVG\"></script><script type=\"text/javascript\">if (window.MathJax && window.MathJax.Hub && window.MathJax.Hub.Config) {window.MathJax.Hub.Config({SVG: {font: \"STIX-Web\"}});}</script>                <script type=\"text/javascript\">window.PlotlyConfig = {MathJaxConfig: 'local'};</script>\n",
       "        <script charset=\"utf-8\" src=\"https://cdn.plot.ly/plotly-3.0.1.min.js\"></script>                <div id=\"35f24189-db42-421f-93cb-1d18108b6e7f\" class=\"plotly-graph-div\" style=\"height:400px; width:1200px;\"></div>            <script type=\"text/javascript\">                window.PLOTLYENV=window.PLOTLYENV || {};                                if (document.getElementById(\"35f24189-db42-421f-93cb-1d18108b6e7f\")) {                    Plotly.newPlot(                        \"35f24189-db42-421f-93cb-1d18108b6e7f\",                        [{\"hovertemplate\":\"Academische druk (afgerond)=%{x}\\u003cbr\\u003eGemiddelde depressiescore=%{marker.color}\\u003cextra\\u003e\\u003c\\u002fextra\\u003e\",\"legendgroup\":\"\",\"marker\":{\"color\":{\"dtype\":\"f8\",\"bdata\":\"MzMzMzMzA0BVVVVVVVX9P+Q4juM4jgdAAAAAAABACkBiJ3ZiJ3YOQA==\"},\"coloraxis\":\"coloraxis\",\"pattern\":{\"shape\":\"\"}},\"name\":\"\",\"orientation\":\"v\",\"showlegend\":false,\"textposition\":\"auto\",\"x\":{\"dtype\":\"i1\",\"bdata\":\"AQIDBAU=\"},\"xaxis\":\"x\",\"y\":{\"dtype\":\"f8\",\"bdata\":\"MzMzMzMzA0BVVVVVVVX9P+Q4juM4jgdAAAAAAABACkBiJ3ZiJ3YOQA==\"},\"yaxis\":\"y\",\"type\":\"bar\"}],                        {\"template\":{\"data\":{\"barpolar\":[{\"marker\":{\"line\":{\"color\":\"white\",\"width\":0.5},\"pattern\":{\"fillmode\":\"overlay\",\"size\":10,\"solidity\":0.2}},\"type\":\"barpolar\"}],\"bar\":[{\"error_x\":{\"color\":\"#2a3f5f\"},\"error_y\":{\"color\":\"#2a3f5f\"},\"marker\":{\"line\":{\"color\":\"white\",\"width\":0.5},\"pattern\":{\"fillmode\":\"overlay\",\"size\":10,\"solidity\":0.2}},\"type\":\"bar\"}],\"carpet\":[{\"aaxis\":{\"endlinecolor\":\"#2a3f5f\",\"gridcolor\":\"#C8D4E3\",\"linecolor\":\"#C8D4E3\",\"minorgridcolor\":\"#C8D4E3\",\"startlinecolor\":\"#2a3f5f\"},\"baxis\":{\"endlinecolor\":\"#2a3f5f\",\"gridcolor\":\"#C8D4E3\",\"linecolor\":\"#C8D4E3\",\"minorgridcolor\":\"#C8D4E3\",\"startlinecolor\":\"#2a3f5f\"},\"type\":\"carpet\"}],\"choropleth\":[{\"colorbar\":{\"outlinewidth\":0,\"ticks\":\"\"},\"type\":\"choropleth\"}],\"contourcarpet\":[{\"colorbar\":{\"outlinewidth\":0,\"ticks\":\"\"},\"type\":\"contourcarpet\"}],\"contour\":[{\"colorbar\":{\"outlinewidth\":0,\"ticks\":\"\"},\"colorscale\":[[0.0,\"#0d0887\"],[0.1111111111111111,\"#46039f\"],[0.2222222222222222,\"#7201a8\"],[0.3333333333333333,\"#9c179e\"],[0.4444444444444444,\"#bd3786\"],[0.5555555555555556,\"#d8576b\"],[0.6666666666666666,\"#ed7953\"],[0.7777777777777778,\"#fb9f3a\"],[0.8888888888888888,\"#fdca26\"],[1.0,\"#f0f921\"]],\"type\":\"contour\"}],\"heatmap\":[{\"colorbar\":{\"outlinewidth\":0,\"ticks\":\"\"},\"colorscale\":[[0.0,\"#0d0887\"],[0.1111111111111111,\"#46039f\"],[0.2222222222222222,\"#7201a8\"],[0.3333333333333333,\"#9c179e\"],[0.4444444444444444,\"#bd3786\"],[0.5555555555555556,\"#d8576b\"],[0.6666666666666666,\"#ed7953\"],[0.7777777777777778,\"#fb9f3a\"],[0.8888888888888888,\"#fdca26\"],[1.0,\"#f0f921\"]],\"type\":\"heatmap\"}],\"histogram2dcontour\":[{\"colorbar\":{\"outlinewidth\":0,\"ticks\":\"\"},\"colorscale\":[[0.0,\"#0d0887\"],[0.1111111111111111,\"#46039f\"],[0.2222222222222222,\"#7201a8\"],[0.3333333333333333,\"#9c179e\"],[0.4444444444444444,\"#bd3786\"],[0.5555555555555556,\"#d8576b\"],[0.6666666666666666,\"#ed7953\"],[0.7777777777777778,\"#fb9f3a\"],[0.8888888888888888,\"#fdca26\"],[1.0,\"#f0f921\"]],\"type\":\"histogram2dcontour\"}],\"histogram2d\":[{\"colorbar\":{\"outlinewidth\":0,\"ticks\":\"\"},\"colorscale\":[[0.0,\"#0d0887\"],[0.1111111111111111,\"#46039f\"],[0.2222222222222222,\"#7201a8\"],[0.3333333333333333,\"#9c179e\"],[0.4444444444444444,\"#bd3786\"],[0.5555555555555556,\"#d8576b\"],[0.6666666666666666,\"#ed7953\"],[0.7777777777777778,\"#fb9f3a\"],[0.8888888888888888,\"#fdca26\"],[1.0,\"#f0f921\"]],\"type\":\"histogram2d\"}],\"histogram\":[{\"marker\":{\"pattern\":{\"fillmode\":\"overlay\",\"size\":10,\"solidity\":0.2}},\"type\":\"histogram\"}],\"mesh3d\":[{\"colorbar\":{\"outlinewidth\":0,\"ticks\":\"\"},\"type\":\"mesh3d\"}],\"parcoords\":[{\"line\":{\"colorbar\":{\"outlinewidth\":0,\"ticks\":\"\"}},\"type\":\"parcoords\"}],\"pie\":[{\"automargin\":true,\"type\":\"pie\"}],\"scatter3d\":[{\"line\":{\"colorbar\":{\"outlinewidth\":0,\"ticks\":\"\"}},\"marker\":{\"colorbar\":{\"outlinewidth\":0,\"ticks\":\"\"}},\"type\":\"scatter3d\"}],\"scattercarpet\":[{\"marker\":{\"colorbar\":{\"outlinewidth\":0,\"ticks\":\"\"}},\"type\":\"scattercarpet\"}],\"scattergeo\":[{\"marker\":{\"colorbar\":{\"outlinewidth\":0,\"ticks\":\"\"}},\"type\":\"scattergeo\"}],\"scattergl\":[{\"marker\":{\"colorbar\":{\"outlinewidth\":0,\"ticks\":\"\"}},\"type\":\"scattergl\"}],\"scattermapbox\":[{\"marker\":{\"colorbar\":{\"outlinewidth\":0,\"ticks\":\"\"}},\"type\":\"scattermapbox\"}],\"scattermap\":[{\"marker\":{\"colorbar\":{\"outlinewidth\":0,\"ticks\":\"\"}},\"type\":\"scattermap\"}],\"scatterpolargl\":[{\"marker\":{\"colorbar\":{\"outlinewidth\":0,\"ticks\":\"\"}},\"type\":\"scatterpolargl\"}],\"scatterpolar\":[{\"marker\":{\"colorbar\":{\"outlinewidth\":0,\"ticks\":\"\"}},\"type\":\"scatterpolar\"}],\"scatter\":[{\"fillpattern\":{\"fillmode\":\"overlay\",\"size\":10,\"solidity\":0.2},\"type\":\"scatter\"}],\"scatterternary\":[{\"marker\":{\"colorbar\":{\"outlinewidth\":0,\"ticks\":\"\"}},\"type\":\"scatterternary\"}],\"surface\":[{\"colorbar\":{\"outlinewidth\":0,\"ticks\":\"\"},\"colorscale\":[[0.0,\"#0d0887\"],[0.1111111111111111,\"#46039f\"],[0.2222222222222222,\"#7201a8\"],[0.3333333333333333,\"#9c179e\"],[0.4444444444444444,\"#bd3786\"],[0.5555555555555556,\"#d8576b\"],[0.6666666666666666,\"#ed7953\"],[0.7777777777777778,\"#fb9f3a\"],[0.8888888888888888,\"#fdca26\"],[1.0,\"#f0f921\"]],\"type\":\"surface\"}],\"table\":[{\"cells\":{\"fill\":{\"color\":\"#EBF0F8\"},\"line\":{\"color\":\"white\"}},\"header\":{\"fill\":{\"color\":\"#C8D4E3\"},\"line\":{\"color\":\"white\"}},\"type\":\"table\"}]},\"layout\":{\"annotationdefaults\":{\"arrowcolor\":\"#2a3f5f\",\"arrowhead\":0,\"arrowwidth\":1},\"autotypenumbers\":\"strict\",\"coloraxis\":{\"colorbar\":{\"outlinewidth\":0,\"ticks\":\"\"}},\"colorscale\":{\"diverging\":[[0,\"#8e0152\"],[0.1,\"#c51b7d\"],[0.2,\"#de77ae\"],[0.3,\"#f1b6da\"],[0.4,\"#fde0ef\"],[0.5,\"#f7f7f7\"],[0.6,\"#e6f5d0\"],[0.7,\"#b8e186\"],[0.8,\"#7fbc41\"],[0.9,\"#4d9221\"],[1,\"#276419\"]],\"sequential\":[[0.0,\"#0d0887\"],[0.1111111111111111,\"#46039f\"],[0.2222222222222222,\"#7201a8\"],[0.3333333333333333,\"#9c179e\"],[0.4444444444444444,\"#bd3786\"],[0.5555555555555556,\"#d8576b\"],[0.6666666666666666,\"#ed7953\"],[0.7777777777777778,\"#fb9f3a\"],[0.8888888888888888,\"#fdca26\"],[1.0,\"#f0f921\"]],\"sequentialminus\":[[0.0,\"#0d0887\"],[0.1111111111111111,\"#46039f\"],[0.2222222222222222,\"#7201a8\"],[0.3333333333333333,\"#9c179e\"],[0.4444444444444444,\"#bd3786\"],[0.5555555555555556,\"#d8576b\"],[0.6666666666666666,\"#ed7953\"],[0.7777777777777778,\"#fb9f3a\"],[0.8888888888888888,\"#fdca26\"],[1.0,\"#f0f921\"]]},\"colorway\":[\"#636efa\",\"#EF553B\",\"#00cc96\",\"#ab63fa\",\"#FFA15A\",\"#19d3f3\",\"#FF6692\",\"#B6E880\",\"#FF97FF\",\"#FECB52\"],\"font\":{\"color\":\"#2a3f5f\"},\"geo\":{\"bgcolor\":\"white\",\"lakecolor\":\"white\",\"landcolor\":\"white\",\"showlakes\":true,\"showland\":true,\"subunitcolor\":\"#C8D4E3\"},\"hoverlabel\":{\"align\":\"left\"},\"hovermode\":\"closest\",\"mapbox\":{\"style\":\"light\"},\"paper_bgcolor\":\"white\",\"plot_bgcolor\":\"white\",\"polar\":{\"angularaxis\":{\"gridcolor\":\"#EBF0F8\",\"linecolor\":\"#EBF0F8\",\"ticks\":\"\"},\"bgcolor\":\"white\",\"radialaxis\":{\"gridcolor\":\"#EBF0F8\",\"linecolor\":\"#EBF0F8\",\"ticks\":\"\"}},\"scene\":{\"xaxis\":{\"backgroundcolor\":\"white\",\"gridcolor\":\"#DFE8F3\",\"gridwidth\":2,\"linecolor\":\"#EBF0F8\",\"showbackground\":true,\"ticks\":\"\",\"zerolinecolor\":\"#EBF0F8\"},\"yaxis\":{\"backgroundcolor\":\"white\",\"gridcolor\":\"#DFE8F3\",\"gridwidth\":2,\"linecolor\":\"#EBF0F8\",\"showbackground\":true,\"ticks\":\"\",\"zerolinecolor\":\"#EBF0F8\"},\"zaxis\":{\"backgroundcolor\":\"white\",\"gridcolor\":\"#DFE8F3\",\"gridwidth\":2,\"linecolor\":\"#EBF0F8\",\"showbackground\":true,\"ticks\":\"\",\"zerolinecolor\":\"#EBF0F8\"}},\"shapedefaults\":{\"line\":{\"color\":\"#2a3f5f\"}},\"ternary\":{\"aaxis\":{\"gridcolor\":\"#DFE8F3\",\"linecolor\":\"#A2B1C6\",\"ticks\":\"\"},\"baxis\":{\"gridcolor\":\"#DFE8F3\",\"linecolor\":\"#A2B1C6\",\"ticks\":\"\"},\"bgcolor\":\"white\",\"caxis\":{\"gridcolor\":\"#DFE8F3\",\"linecolor\":\"#A2B1C6\",\"ticks\":\"\"}},\"title\":{\"x\":0.05},\"xaxis\":{\"automargin\":true,\"gridcolor\":\"#EBF0F8\",\"linecolor\":\"#EBF0F8\",\"ticks\":\"\",\"title\":{\"standoff\":15},\"zerolinecolor\":\"#EBF0F8\",\"zerolinewidth\":2},\"yaxis\":{\"automargin\":true,\"gridcolor\":\"#EBF0F8\",\"linecolor\":\"#EBF0F8\",\"ticks\":\"\",\"title\":{\"standoff\":15},\"zerolinecolor\":\"#EBF0F8\",\"zerolinewidth\":2}}},\"xaxis\":{\"anchor\":\"y\",\"domain\":[0.0,1.0],\"title\":{\"text\":\"Academische druk (afgerond)\"},\"dtick\":1},\"yaxis\":{\"anchor\":\"x\",\"domain\":[0.0,1.0],\"title\":{\"text\":\"Gemiddelde depressiescore\"}},\"coloraxis\":{\"colorbar\":{\"title\":{\"text\":\"Gemiddelde depressiescore\"}},\"colorscale\":[[0.0,\"#ffcccc\"],[0.3333333333333333,\"#ff6666\"],[0.6666666666666666,\"#cc0000\"],[1.0,\"#660000\"]]},\"legend\":{\"tracegroupgap\":0},\"title\":{\"text\":\"Gemiddelde depressiescore per niveau van academische druk\"},\"barmode\":\"relative\",\"bargap\":0,\"width\":1200,\"height\":400},                        {\"responsive\": true}                    ).then(function(){\n",
       "                            \n",
       "var gd = document.getElementById('35f24189-db42-421f-93cb-1d18108b6e7f');\n",
       "var x = new MutationObserver(function (mutations, observer) {{\n",
       "        var display = window.getComputedStyle(gd).display;\n",
       "        if (!display || display === 'none') {{\n",
       "            console.log([gd, 'removed!']);\n",
       "            Plotly.purge(gd);\n",
       "            observer.disconnect();\n",
       "        }}\n",
       "}});\n",
       "\n",
       "// Listen for the removal of the full notebook cells\n",
       "var notebookContainer = gd.closest('#notebook-container');\n",
       "if (notebookContainer) {{\n",
       "    x.observe(notebookContainer, {childList: true});\n",
       "}}\n",
       "\n",
       "// Listen for the clearing of the current output cell\n",
       "var outputEl = gd.closest('.output');\n",
       "if (outputEl) {{\n",
       "    x.observe(outputEl, {childList: true});\n",
       "}}\n",
       "\n",
       "                        })                };            </script>        </div>"
      ]
     },
     "metadata": {},
     "output_type": "display_data"
    }
   ],
   "source": [
    "import pandas as pd\n",
    "import plotly.express as px\n",
    "import os\n",
    "import kagglehub\n",
    "\n",
    "# Dataset ophalen\n",
    "path = kagglehub.dataset_download(\"abdullahashfaqvirk/student-mental-health-survey\")\n",
    "csv_path = os.path.join(path, \"MentalHealthSurvey.csv\")\n",
    "df = pd.read_csv(csv_path)\n",
    "\n",
    "# Kolommen numeriek maken\n",
    "df[\"depression\"] = pd.to_numeric(df[\"depression\"], errors=\"coerce\")\n",
    "df[\"academic_pressure\"] = pd.to_numeric(df[\"academic_pressure\"], errors=\"coerce\")\n",
    "\n",
    "# Verwijder missende data\n",
    "df = df.dropna(subset=[\"depression\", \"academic_pressure\"])\n",
    "\n",
    "# Rond academische druk af naar hele getallen\n",
    "df[\"academic_pressure_rounded\"] = df[\"academic_pressure\"].round(0).astype(int)\n",
    "\n",
    "# Groepeer en bereken gemiddelde depressiescore per afgerond drukniveau\n",
    "mean_df = df.groupby(\"academic_pressure_rounded\", as_index=False)[\"depression\"].mean()\n",
    "\n",
    "# Staafdiagram maken met rood kleurverloop\n",
    "fig = px.bar(\n",
    "    mean_df,\n",
    "    x=\"academic_pressure_rounded\",\n",
    "    y=\"depression\",\n",
    "    title=\"Gemiddelde depressiescore per niveau van academische druk\",\n",
    "    labels={\n",
    "        \"academic_pressure_rounded\": \"Academische druk (afgerond)\",\n",
    "        \"depression\": \"Gemiddelde depressiescore\"\n",
    "    },\n",
    "    template=\"plotly_white\",\n",
    "    color=\"depression\",\n",
    "    color_continuous_scale=[\"#ffcccc\", \"#ff6666\", \"#cc0000\", \"#660000\"]\n",
    ")\n",
    "\n",
    "# Stijl: geen ruimte tussen de balken, kleinere breedte\n",
    "fig.update_layout(\n",
    "    bargap=0,\n",
    "    xaxis=dict(dtick=1),\n",
    "    width=1200,\n",
    "    height=400\n",
    ")\n",
    "\n",
    "fig.show()"
   ]
  },
  {
   "cell_type": "markdown",
   "id": "a6a578af",
   "metadata": {},
   "source": [
    "> *Figuur 6: Staafdiagram van depressiesscore afgezet tegen ervaren academische druk.*"
   ]
  },
  {
   "cell_type": "markdown",
   "id": "d0f6da59",
   "metadata": {},
   "source": [
    "### Financiële zorgen"
   ]
  },
  {
   "cell_type": "code",
   "execution_count": 24,
   "id": "972ebbcc",
   "metadata": {
    "tags": [
     "hide-input"
    ]
   },
   "outputs": [
    {
     "data": {
      "application/vnd.plotly.v1+json": {
       "config": {
        "plotlyServerURL": "https://plot.ly"
       },
       "data": [
        {
         "coloraxis": "coloraxis",
         "hovertemplate": "Financiële zorgen (afgerond)=%{x}<br>Depressieniveau (afgerond)=%{y}<br>count=%{z}<extra></extra>",
         "name": "",
         "type": "histogram2d",
         "x": {
          "bdata": "BAEDBAIDBQUEBQEEBQUDBAMDAwUCAgMFAQUBBQQDAQUCAwUFBQIFAQQFAgEDBAQBBQUEAQMCBQMDBQEBAgQDAwUFAQMFBAQEBAMCBQUDBQMDAQQFBAMD",
          "dtype": "i1"
         },
         "xaxis": "x",
         "xbingroup": "x",
         "xgap": 0,
         "y": {
          "bdata": "AgMCBQUFBQMDBQMCBAUEAQMCBAUBBAQFAwQDBQMFAQMEBAUEBAEFAwEFAwECAwUDAwECBAMCAwEEAwECAgEEBAUEAwIDAQQDBAUBBQQCBQUEAgIFAQMC",
          "dtype": "i1"
         },
         "yaxis": "y",
         "ybingroup": "y",
         "ygap": 0
        }
       ],
       "layout": {
        "coloraxis": {
         "colorbar": {
          "title": {
           "text": "count"
          }
         },
         "colorscale": [
          [
           0,
           "rgb(0, 147, 146)"
          ],
          [
           0.16666666666666666,
           "rgb(114, 170, 161)"
          ],
          [
           0.3333333333333333,
           "rgb(177, 199, 179)"
          ],
          [
           0.5,
           "rgb(241, 234, 200)"
          ],
          [
           0.6666666666666666,
           "rgb(229, 185, 173)"
          ],
          [
           0.8333333333333334,
           "rgb(217, 137, 148)"
          ],
          [
           1,
           "rgb(208, 88, 126)"
          ]
         ]
        },
        "legend": {
         "tracegroupgap": 0
        },
        "template": {
         "data": {
          "bar": [
           {
            "error_x": {
             "color": "#2a3f5f"
            },
            "error_y": {
             "color": "#2a3f5f"
            },
            "marker": {
             "line": {
              "color": "white",
              "width": 0.5
             },
             "pattern": {
              "fillmode": "overlay",
              "size": 10,
              "solidity": 0.2
             }
            },
            "type": "bar"
           }
          ],
          "barpolar": [
           {
            "marker": {
             "line": {
              "color": "white",
              "width": 0.5
             },
             "pattern": {
              "fillmode": "overlay",
              "size": 10,
              "solidity": 0.2
             }
            },
            "type": "barpolar"
           }
          ],
          "carpet": [
           {
            "aaxis": {
             "endlinecolor": "#2a3f5f",
             "gridcolor": "#C8D4E3",
             "linecolor": "#C8D4E3",
             "minorgridcolor": "#C8D4E3",
             "startlinecolor": "#2a3f5f"
            },
            "baxis": {
             "endlinecolor": "#2a3f5f",
             "gridcolor": "#C8D4E3",
             "linecolor": "#C8D4E3",
             "minorgridcolor": "#C8D4E3",
             "startlinecolor": "#2a3f5f"
            },
            "type": "carpet"
           }
          ],
          "choropleth": [
           {
            "colorbar": {
             "outlinewidth": 0,
             "ticks": ""
            },
            "type": "choropleth"
           }
          ],
          "contour": [
           {
            "colorbar": {
             "outlinewidth": 0,
             "ticks": ""
            },
            "colorscale": [
             [
              0,
              "#0d0887"
             ],
             [
              0.1111111111111111,
              "#46039f"
             ],
             [
              0.2222222222222222,
              "#7201a8"
             ],
             [
              0.3333333333333333,
              "#9c179e"
             ],
             [
              0.4444444444444444,
              "#bd3786"
             ],
             [
              0.5555555555555556,
              "#d8576b"
             ],
             [
              0.6666666666666666,
              "#ed7953"
             ],
             [
              0.7777777777777778,
              "#fb9f3a"
             ],
             [
              0.8888888888888888,
              "#fdca26"
             ],
             [
              1,
              "#f0f921"
             ]
            ],
            "type": "contour"
           }
          ],
          "contourcarpet": [
           {
            "colorbar": {
             "outlinewidth": 0,
             "ticks": ""
            },
            "type": "contourcarpet"
           }
          ],
          "heatmap": [
           {
            "colorbar": {
             "outlinewidth": 0,
             "ticks": ""
            },
            "colorscale": [
             [
              0,
              "#0d0887"
             ],
             [
              0.1111111111111111,
              "#46039f"
             ],
             [
              0.2222222222222222,
              "#7201a8"
             ],
             [
              0.3333333333333333,
              "#9c179e"
             ],
             [
              0.4444444444444444,
              "#bd3786"
             ],
             [
              0.5555555555555556,
              "#d8576b"
             ],
             [
              0.6666666666666666,
              "#ed7953"
             ],
             [
              0.7777777777777778,
              "#fb9f3a"
             ],
             [
              0.8888888888888888,
              "#fdca26"
             ],
             [
              1,
              "#f0f921"
             ]
            ],
            "type": "heatmap"
           }
          ],
          "histogram": [
           {
            "marker": {
             "pattern": {
              "fillmode": "overlay",
              "size": 10,
              "solidity": 0.2
             }
            },
            "type": "histogram"
           }
          ],
          "histogram2d": [
           {
            "colorbar": {
             "outlinewidth": 0,
             "ticks": ""
            },
            "colorscale": [
             [
              0,
              "#0d0887"
             ],
             [
              0.1111111111111111,
              "#46039f"
             ],
             [
              0.2222222222222222,
              "#7201a8"
             ],
             [
              0.3333333333333333,
              "#9c179e"
             ],
             [
              0.4444444444444444,
              "#bd3786"
             ],
             [
              0.5555555555555556,
              "#d8576b"
             ],
             [
              0.6666666666666666,
              "#ed7953"
             ],
             [
              0.7777777777777778,
              "#fb9f3a"
             ],
             [
              0.8888888888888888,
              "#fdca26"
             ],
             [
              1,
              "#f0f921"
             ]
            ],
            "type": "histogram2d"
           }
          ],
          "histogram2dcontour": [
           {
            "colorbar": {
             "outlinewidth": 0,
             "ticks": ""
            },
            "colorscale": [
             [
              0,
              "#0d0887"
             ],
             [
              0.1111111111111111,
              "#46039f"
             ],
             [
              0.2222222222222222,
              "#7201a8"
             ],
             [
              0.3333333333333333,
              "#9c179e"
             ],
             [
              0.4444444444444444,
              "#bd3786"
             ],
             [
              0.5555555555555556,
              "#d8576b"
             ],
             [
              0.6666666666666666,
              "#ed7953"
             ],
             [
              0.7777777777777778,
              "#fb9f3a"
             ],
             [
              0.8888888888888888,
              "#fdca26"
             ],
             [
              1,
              "#f0f921"
             ]
            ],
            "type": "histogram2dcontour"
           }
          ],
          "mesh3d": [
           {
            "colorbar": {
             "outlinewidth": 0,
             "ticks": ""
            },
            "type": "mesh3d"
           }
          ],
          "parcoords": [
           {
            "line": {
             "colorbar": {
              "outlinewidth": 0,
              "ticks": ""
             }
            },
            "type": "parcoords"
           }
          ],
          "pie": [
           {
            "automargin": true,
            "type": "pie"
           }
          ],
          "scatter": [
           {
            "fillpattern": {
             "fillmode": "overlay",
             "size": 10,
             "solidity": 0.2
            },
            "type": "scatter"
           }
          ],
          "scatter3d": [
           {
            "line": {
             "colorbar": {
              "outlinewidth": 0,
              "ticks": ""
             }
            },
            "marker": {
             "colorbar": {
              "outlinewidth": 0,
              "ticks": ""
             }
            },
            "type": "scatter3d"
           }
          ],
          "scattercarpet": [
           {
            "marker": {
             "colorbar": {
              "outlinewidth": 0,
              "ticks": ""
             }
            },
            "type": "scattercarpet"
           }
          ],
          "scattergeo": [
           {
            "marker": {
             "colorbar": {
              "outlinewidth": 0,
              "ticks": ""
             }
            },
            "type": "scattergeo"
           }
          ],
          "scattergl": [
           {
            "marker": {
             "colorbar": {
              "outlinewidth": 0,
              "ticks": ""
             }
            },
            "type": "scattergl"
           }
          ],
          "scattermap": [
           {
            "marker": {
             "colorbar": {
              "outlinewidth": 0,
              "ticks": ""
             }
            },
            "type": "scattermap"
           }
          ],
          "scattermapbox": [
           {
            "marker": {
             "colorbar": {
              "outlinewidth": 0,
              "ticks": ""
             }
            },
            "type": "scattermapbox"
           }
          ],
          "scatterpolar": [
           {
            "marker": {
             "colorbar": {
              "outlinewidth": 0,
              "ticks": ""
             }
            },
            "type": "scatterpolar"
           }
          ],
          "scatterpolargl": [
           {
            "marker": {
             "colorbar": {
              "outlinewidth": 0,
              "ticks": ""
             }
            },
            "type": "scatterpolargl"
           }
          ],
          "scatterternary": [
           {
            "marker": {
             "colorbar": {
              "outlinewidth": 0,
              "ticks": ""
             }
            },
            "type": "scatterternary"
           }
          ],
          "surface": [
           {
            "colorbar": {
             "outlinewidth": 0,
             "ticks": ""
            },
            "colorscale": [
             [
              0,
              "#0d0887"
             ],
             [
              0.1111111111111111,
              "#46039f"
             ],
             [
              0.2222222222222222,
              "#7201a8"
             ],
             [
              0.3333333333333333,
              "#9c179e"
             ],
             [
              0.4444444444444444,
              "#bd3786"
             ],
             [
              0.5555555555555556,
              "#d8576b"
             ],
             [
              0.6666666666666666,
              "#ed7953"
             ],
             [
              0.7777777777777778,
              "#fb9f3a"
             ],
             [
              0.8888888888888888,
              "#fdca26"
             ],
             [
              1,
              "#f0f921"
             ]
            ],
            "type": "surface"
           }
          ],
          "table": [
           {
            "cells": {
             "fill": {
              "color": "#EBF0F8"
             },
             "line": {
              "color": "white"
             }
            },
            "header": {
             "fill": {
              "color": "#C8D4E3"
             },
             "line": {
              "color": "white"
             }
            },
            "type": "table"
           }
          ]
         },
         "layout": {
          "annotationdefaults": {
           "arrowcolor": "#2a3f5f",
           "arrowhead": 0,
           "arrowwidth": 1
          },
          "autotypenumbers": "strict",
          "coloraxis": {
           "colorbar": {
            "outlinewidth": 0,
            "ticks": ""
           }
          },
          "colorscale": {
           "diverging": [
            [
             0,
             "#8e0152"
            ],
            [
             0.1,
             "#c51b7d"
            ],
            [
             0.2,
             "#de77ae"
            ],
            [
             0.3,
             "#f1b6da"
            ],
            [
             0.4,
             "#fde0ef"
            ],
            [
             0.5,
             "#f7f7f7"
            ],
            [
             0.6,
             "#e6f5d0"
            ],
            [
             0.7,
             "#b8e186"
            ],
            [
             0.8,
             "#7fbc41"
            ],
            [
             0.9,
             "#4d9221"
            ],
            [
             1,
             "#276419"
            ]
           ],
           "sequential": [
            [
             0,
             "#0d0887"
            ],
            [
             0.1111111111111111,
             "#46039f"
            ],
            [
             0.2222222222222222,
             "#7201a8"
            ],
            [
             0.3333333333333333,
             "#9c179e"
            ],
            [
             0.4444444444444444,
             "#bd3786"
            ],
            [
             0.5555555555555556,
             "#d8576b"
            ],
            [
             0.6666666666666666,
             "#ed7953"
            ],
            [
             0.7777777777777778,
             "#fb9f3a"
            ],
            [
             0.8888888888888888,
             "#fdca26"
            ],
            [
             1,
             "#f0f921"
            ]
           ],
           "sequentialminus": [
            [
             0,
             "#0d0887"
            ],
            [
             0.1111111111111111,
             "#46039f"
            ],
            [
             0.2222222222222222,
             "#7201a8"
            ],
            [
             0.3333333333333333,
             "#9c179e"
            ],
            [
             0.4444444444444444,
             "#bd3786"
            ],
            [
             0.5555555555555556,
             "#d8576b"
            ],
            [
             0.6666666666666666,
             "#ed7953"
            ],
            [
             0.7777777777777778,
             "#fb9f3a"
            ],
            [
             0.8888888888888888,
             "#fdca26"
            ],
            [
             1,
             "#f0f921"
            ]
           ]
          },
          "colorway": [
           "#636efa",
           "#EF553B",
           "#00cc96",
           "#ab63fa",
           "#FFA15A",
           "#19d3f3",
           "#FF6692",
           "#B6E880",
           "#FF97FF",
           "#FECB52"
          ],
          "font": {
           "color": "#2a3f5f"
          },
          "geo": {
           "bgcolor": "white",
           "lakecolor": "white",
           "landcolor": "white",
           "showlakes": true,
           "showland": true,
           "subunitcolor": "#C8D4E3"
          },
          "hoverlabel": {
           "align": "left"
          },
          "hovermode": "closest",
          "mapbox": {
           "style": "light"
          },
          "paper_bgcolor": "white",
          "plot_bgcolor": "white",
          "polar": {
           "angularaxis": {
            "gridcolor": "#EBF0F8",
            "linecolor": "#EBF0F8",
            "ticks": ""
           },
           "bgcolor": "white",
           "radialaxis": {
            "gridcolor": "#EBF0F8",
            "linecolor": "#EBF0F8",
            "ticks": ""
           }
          },
          "scene": {
           "xaxis": {
            "backgroundcolor": "white",
            "gridcolor": "#DFE8F3",
            "gridwidth": 2,
            "linecolor": "#EBF0F8",
            "showbackground": true,
            "ticks": "",
            "zerolinecolor": "#EBF0F8"
           },
           "yaxis": {
            "backgroundcolor": "white",
            "gridcolor": "#DFE8F3",
            "gridwidth": 2,
            "linecolor": "#EBF0F8",
            "showbackground": true,
            "ticks": "",
            "zerolinecolor": "#EBF0F8"
           },
           "zaxis": {
            "backgroundcolor": "white",
            "gridcolor": "#DFE8F3",
            "gridwidth": 2,
            "linecolor": "#EBF0F8",
            "showbackground": true,
            "ticks": "",
            "zerolinecolor": "#EBF0F8"
           }
          },
          "shapedefaults": {
           "line": {
            "color": "#2a3f5f"
           }
          },
          "ternary": {
           "aaxis": {
            "gridcolor": "#DFE8F3",
            "linecolor": "#A2B1C6",
            "ticks": ""
           },
           "baxis": {
            "gridcolor": "#DFE8F3",
            "linecolor": "#A2B1C6",
            "ticks": ""
           },
           "bgcolor": "white",
           "caxis": {
            "gridcolor": "#DFE8F3",
            "linecolor": "#A2B1C6",
            "ticks": ""
           }
          },
          "title": {
           "x": 0.05
          },
          "xaxis": {
           "automargin": true,
           "gridcolor": "#EBF0F8",
           "linecolor": "#EBF0F8",
           "ticks": "",
           "title": {
            "standoff": 15
           },
           "zerolinecolor": "#EBF0F8",
           "zerolinewidth": 2
          },
          "yaxis": {
           "automargin": true,
           "gridcolor": "#EBF0F8",
           "linecolor": "#EBF0F8",
           "ticks": "",
           "title": {
            "standoff": 15
           },
           "zerolinecolor": "#EBF0F8",
           "zerolinewidth": 2
          }
         }
        },
        "title": {
         "text": "Dichtheidskaart: Financiële Zorgen vs. Depressie"
        },
        "xaxis": {
         "anchor": "y",
         "domain": [
          0,
          1
         ],
         "dtick": 1,
         "tickmode": "linear",
         "title": {
          "text": "Financiële zorgen (afgerond)"
         }
        },
        "yaxis": {
         "anchor": "x",
         "domain": [
          0,
          1
         ],
         "dtick": 1,
         "tickmode": "linear",
         "title": {
          "text": "Depressieniveau (afgerond)"
         }
        }
       }
      },
      "text/html": [
       "<div>            <script src=\"https://cdnjs.cloudflare.com/ajax/libs/mathjax/2.7.5/MathJax.js?config=TeX-AMS-MML_SVG\"></script><script type=\"text/javascript\">if (window.MathJax && window.MathJax.Hub && window.MathJax.Hub.Config) {window.MathJax.Hub.Config({SVG: {font: \"STIX-Web\"}});}</script>                <script type=\"text/javascript\">window.PlotlyConfig = {MathJaxConfig: 'local'};</script>\n",
       "        <script charset=\"utf-8\" src=\"https://cdn.plot.ly/plotly-3.0.1.min.js\"></script>                <div id=\"f78490d3-5288-45b7-aa41-cb1593f45bfe\" class=\"plotly-graph-div\" style=\"height:525px; width:100%;\"></div>            <script type=\"text/javascript\">                window.PLOTLYENV=window.PLOTLYENV || {};                                if (document.getElementById(\"f78490d3-5288-45b7-aa41-cb1593f45bfe\")) {                    Plotly.newPlot(                        \"f78490d3-5288-45b7-aa41-cb1593f45bfe\",                        [{\"coloraxis\":\"coloraxis\",\"hovertemplate\":\"Financi\\u00eble zorgen (afgerond)=%{x}\\u003cbr\\u003eDepressieniveau (afgerond)=%{y}\\u003cbr\\u003ecount=%{z}\\u003cextra\\u003e\\u003c\\u002fextra\\u003e\",\"name\":\"\",\"x\":{\"dtype\":\"i1\",\"bdata\":\"BAEDBAIDBQUEBQEEBQUDBAMDAwUCAgMFAQUBBQQDAQUCAwUFBQIFAQQFAgEDBAQBBQUEAQMCBQMDBQEBAgQDAwUFAQMFBAQEBAMCBQUDBQMDAQQFBAMD\"},\"xaxis\":\"x\",\"xbingroup\":\"x\",\"y\":{\"dtype\":\"i1\",\"bdata\":\"AgMCBQUFBQMDBQMCBAUEAQMCBAUBBAQFAwQDBQMFAQMEBAUEBAEFAwEFAwECAwUDAwECBAMCAwEEAwECAgEEBAUEAwIDAQQDBAUBBQQCBQUEAgIFAQMC\"},\"yaxis\":\"y\",\"ybingroup\":\"y\",\"type\":\"histogram2d\",\"xgap\":0,\"ygap\":0}],                        {\"template\":{\"data\":{\"barpolar\":[{\"marker\":{\"line\":{\"color\":\"white\",\"width\":0.5},\"pattern\":{\"fillmode\":\"overlay\",\"size\":10,\"solidity\":0.2}},\"type\":\"barpolar\"}],\"bar\":[{\"error_x\":{\"color\":\"#2a3f5f\"},\"error_y\":{\"color\":\"#2a3f5f\"},\"marker\":{\"line\":{\"color\":\"white\",\"width\":0.5},\"pattern\":{\"fillmode\":\"overlay\",\"size\":10,\"solidity\":0.2}},\"type\":\"bar\"}],\"carpet\":[{\"aaxis\":{\"endlinecolor\":\"#2a3f5f\",\"gridcolor\":\"#C8D4E3\",\"linecolor\":\"#C8D4E3\",\"minorgridcolor\":\"#C8D4E3\",\"startlinecolor\":\"#2a3f5f\"},\"baxis\":{\"endlinecolor\":\"#2a3f5f\",\"gridcolor\":\"#C8D4E3\",\"linecolor\":\"#C8D4E3\",\"minorgridcolor\":\"#C8D4E3\",\"startlinecolor\":\"#2a3f5f\"},\"type\":\"carpet\"}],\"choropleth\":[{\"colorbar\":{\"outlinewidth\":0,\"ticks\":\"\"},\"type\":\"choropleth\"}],\"contourcarpet\":[{\"colorbar\":{\"outlinewidth\":0,\"ticks\":\"\"},\"type\":\"contourcarpet\"}],\"contour\":[{\"colorbar\":{\"outlinewidth\":0,\"ticks\":\"\"},\"colorscale\":[[0.0,\"#0d0887\"],[0.1111111111111111,\"#46039f\"],[0.2222222222222222,\"#7201a8\"],[0.3333333333333333,\"#9c179e\"],[0.4444444444444444,\"#bd3786\"],[0.5555555555555556,\"#d8576b\"],[0.6666666666666666,\"#ed7953\"],[0.7777777777777778,\"#fb9f3a\"],[0.8888888888888888,\"#fdca26\"],[1.0,\"#f0f921\"]],\"type\":\"contour\"}],\"heatmap\":[{\"colorbar\":{\"outlinewidth\":0,\"ticks\":\"\"},\"colorscale\":[[0.0,\"#0d0887\"],[0.1111111111111111,\"#46039f\"],[0.2222222222222222,\"#7201a8\"],[0.3333333333333333,\"#9c179e\"],[0.4444444444444444,\"#bd3786\"],[0.5555555555555556,\"#d8576b\"],[0.6666666666666666,\"#ed7953\"],[0.7777777777777778,\"#fb9f3a\"],[0.8888888888888888,\"#fdca26\"],[1.0,\"#f0f921\"]],\"type\":\"heatmap\"}],\"histogram2dcontour\":[{\"colorbar\":{\"outlinewidth\":0,\"ticks\":\"\"},\"colorscale\":[[0.0,\"#0d0887\"],[0.1111111111111111,\"#46039f\"],[0.2222222222222222,\"#7201a8\"],[0.3333333333333333,\"#9c179e\"],[0.4444444444444444,\"#bd3786\"],[0.5555555555555556,\"#d8576b\"],[0.6666666666666666,\"#ed7953\"],[0.7777777777777778,\"#fb9f3a\"],[0.8888888888888888,\"#fdca26\"],[1.0,\"#f0f921\"]],\"type\":\"histogram2dcontour\"}],\"histogram2d\":[{\"colorbar\":{\"outlinewidth\":0,\"ticks\":\"\"},\"colorscale\":[[0.0,\"#0d0887\"],[0.1111111111111111,\"#46039f\"],[0.2222222222222222,\"#7201a8\"],[0.3333333333333333,\"#9c179e\"],[0.4444444444444444,\"#bd3786\"],[0.5555555555555556,\"#d8576b\"],[0.6666666666666666,\"#ed7953\"],[0.7777777777777778,\"#fb9f3a\"],[0.8888888888888888,\"#fdca26\"],[1.0,\"#f0f921\"]],\"type\":\"histogram2d\"}],\"histogram\":[{\"marker\":{\"pattern\":{\"fillmode\":\"overlay\",\"size\":10,\"solidity\":0.2}},\"type\":\"histogram\"}],\"mesh3d\":[{\"colorbar\":{\"outlinewidth\":0,\"ticks\":\"\"},\"type\":\"mesh3d\"}],\"parcoords\":[{\"line\":{\"colorbar\":{\"outlinewidth\":0,\"ticks\":\"\"}},\"type\":\"parcoords\"}],\"pie\":[{\"automargin\":true,\"type\":\"pie\"}],\"scatter3d\":[{\"line\":{\"colorbar\":{\"outlinewidth\":0,\"ticks\":\"\"}},\"marker\":{\"colorbar\":{\"outlinewidth\":0,\"ticks\":\"\"}},\"type\":\"scatter3d\"}],\"scattercarpet\":[{\"marker\":{\"colorbar\":{\"outlinewidth\":0,\"ticks\":\"\"}},\"type\":\"scattercarpet\"}],\"scattergeo\":[{\"marker\":{\"colorbar\":{\"outlinewidth\":0,\"ticks\":\"\"}},\"type\":\"scattergeo\"}],\"scattergl\":[{\"marker\":{\"colorbar\":{\"outlinewidth\":0,\"ticks\":\"\"}},\"type\":\"scattergl\"}],\"scattermapbox\":[{\"marker\":{\"colorbar\":{\"outlinewidth\":0,\"ticks\":\"\"}},\"type\":\"scattermapbox\"}],\"scattermap\":[{\"marker\":{\"colorbar\":{\"outlinewidth\":0,\"ticks\":\"\"}},\"type\":\"scattermap\"}],\"scatterpolargl\":[{\"marker\":{\"colorbar\":{\"outlinewidth\":0,\"ticks\":\"\"}},\"type\":\"scatterpolargl\"}],\"scatterpolar\":[{\"marker\":{\"colorbar\":{\"outlinewidth\":0,\"ticks\":\"\"}},\"type\":\"scatterpolar\"}],\"scatter\":[{\"fillpattern\":{\"fillmode\":\"overlay\",\"size\":10,\"solidity\":0.2},\"type\":\"scatter\"}],\"scatterternary\":[{\"marker\":{\"colorbar\":{\"outlinewidth\":0,\"ticks\":\"\"}},\"type\":\"scatterternary\"}],\"surface\":[{\"colorbar\":{\"outlinewidth\":0,\"ticks\":\"\"},\"colorscale\":[[0.0,\"#0d0887\"],[0.1111111111111111,\"#46039f\"],[0.2222222222222222,\"#7201a8\"],[0.3333333333333333,\"#9c179e\"],[0.4444444444444444,\"#bd3786\"],[0.5555555555555556,\"#d8576b\"],[0.6666666666666666,\"#ed7953\"],[0.7777777777777778,\"#fb9f3a\"],[0.8888888888888888,\"#fdca26\"],[1.0,\"#f0f921\"]],\"type\":\"surface\"}],\"table\":[{\"cells\":{\"fill\":{\"color\":\"#EBF0F8\"},\"line\":{\"color\":\"white\"}},\"header\":{\"fill\":{\"color\":\"#C8D4E3\"},\"line\":{\"color\":\"white\"}},\"type\":\"table\"}]},\"layout\":{\"annotationdefaults\":{\"arrowcolor\":\"#2a3f5f\",\"arrowhead\":0,\"arrowwidth\":1},\"autotypenumbers\":\"strict\",\"coloraxis\":{\"colorbar\":{\"outlinewidth\":0,\"ticks\":\"\"}},\"colorscale\":{\"diverging\":[[0,\"#8e0152\"],[0.1,\"#c51b7d\"],[0.2,\"#de77ae\"],[0.3,\"#f1b6da\"],[0.4,\"#fde0ef\"],[0.5,\"#f7f7f7\"],[0.6,\"#e6f5d0\"],[0.7,\"#b8e186\"],[0.8,\"#7fbc41\"],[0.9,\"#4d9221\"],[1,\"#276419\"]],\"sequential\":[[0.0,\"#0d0887\"],[0.1111111111111111,\"#46039f\"],[0.2222222222222222,\"#7201a8\"],[0.3333333333333333,\"#9c179e\"],[0.4444444444444444,\"#bd3786\"],[0.5555555555555556,\"#d8576b\"],[0.6666666666666666,\"#ed7953\"],[0.7777777777777778,\"#fb9f3a\"],[0.8888888888888888,\"#fdca26\"],[1.0,\"#f0f921\"]],\"sequentialminus\":[[0.0,\"#0d0887\"],[0.1111111111111111,\"#46039f\"],[0.2222222222222222,\"#7201a8\"],[0.3333333333333333,\"#9c179e\"],[0.4444444444444444,\"#bd3786\"],[0.5555555555555556,\"#d8576b\"],[0.6666666666666666,\"#ed7953\"],[0.7777777777777778,\"#fb9f3a\"],[0.8888888888888888,\"#fdca26\"],[1.0,\"#f0f921\"]]},\"colorway\":[\"#636efa\",\"#EF553B\",\"#00cc96\",\"#ab63fa\",\"#FFA15A\",\"#19d3f3\",\"#FF6692\",\"#B6E880\",\"#FF97FF\",\"#FECB52\"],\"font\":{\"color\":\"#2a3f5f\"},\"geo\":{\"bgcolor\":\"white\",\"lakecolor\":\"white\",\"landcolor\":\"white\",\"showlakes\":true,\"showland\":true,\"subunitcolor\":\"#C8D4E3\"},\"hoverlabel\":{\"align\":\"left\"},\"hovermode\":\"closest\",\"mapbox\":{\"style\":\"light\"},\"paper_bgcolor\":\"white\",\"plot_bgcolor\":\"white\",\"polar\":{\"angularaxis\":{\"gridcolor\":\"#EBF0F8\",\"linecolor\":\"#EBF0F8\",\"ticks\":\"\"},\"bgcolor\":\"white\",\"radialaxis\":{\"gridcolor\":\"#EBF0F8\",\"linecolor\":\"#EBF0F8\",\"ticks\":\"\"}},\"scene\":{\"xaxis\":{\"backgroundcolor\":\"white\",\"gridcolor\":\"#DFE8F3\",\"gridwidth\":2,\"linecolor\":\"#EBF0F8\",\"showbackground\":true,\"ticks\":\"\",\"zerolinecolor\":\"#EBF0F8\"},\"yaxis\":{\"backgroundcolor\":\"white\",\"gridcolor\":\"#DFE8F3\",\"gridwidth\":2,\"linecolor\":\"#EBF0F8\",\"showbackground\":true,\"ticks\":\"\",\"zerolinecolor\":\"#EBF0F8\"},\"zaxis\":{\"backgroundcolor\":\"white\",\"gridcolor\":\"#DFE8F3\",\"gridwidth\":2,\"linecolor\":\"#EBF0F8\",\"showbackground\":true,\"ticks\":\"\",\"zerolinecolor\":\"#EBF0F8\"}},\"shapedefaults\":{\"line\":{\"color\":\"#2a3f5f\"}},\"ternary\":{\"aaxis\":{\"gridcolor\":\"#DFE8F3\",\"linecolor\":\"#A2B1C6\",\"ticks\":\"\"},\"baxis\":{\"gridcolor\":\"#DFE8F3\",\"linecolor\":\"#A2B1C6\",\"ticks\":\"\"},\"bgcolor\":\"white\",\"caxis\":{\"gridcolor\":\"#DFE8F3\",\"linecolor\":\"#A2B1C6\",\"ticks\":\"\"}},\"title\":{\"x\":0.05},\"xaxis\":{\"automargin\":true,\"gridcolor\":\"#EBF0F8\",\"linecolor\":\"#EBF0F8\",\"ticks\":\"\",\"title\":{\"standoff\":15},\"zerolinecolor\":\"#EBF0F8\",\"zerolinewidth\":2},\"yaxis\":{\"automargin\":true,\"gridcolor\":\"#EBF0F8\",\"linecolor\":\"#EBF0F8\",\"ticks\":\"\",\"title\":{\"standoff\":15},\"zerolinecolor\":\"#EBF0F8\",\"zerolinewidth\":2}}},\"xaxis\":{\"anchor\":\"y\",\"domain\":[0.0,1.0],\"title\":{\"text\":\"Financi\\u00eble zorgen (afgerond)\"},\"tickmode\":\"linear\",\"dtick\":1},\"yaxis\":{\"anchor\":\"x\",\"domain\":[0.0,1.0],\"title\":{\"text\":\"Depressieniveau (afgerond)\"},\"tickmode\":\"linear\",\"dtick\":1},\"coloraxis\":{\"colorbar\":{\"title\":{\"text\":\"count\"}},\"colorscale\":[[0.0,\"rgb(0, 147, 146)\"],[0.16666666666666666,\"rgb(114, 170, 161)\"],[0.3333333333333333,\"rgb(177, 199, 179)\"],[0.5,\"rgb(241, 234, 200)\"],[0.6666666666666666,\"rgb(229, 185, 173)\"],[0.8333333333333334,\"rgb(217, 137, 148)\"],[1.0,\"rgb(208, 88, 126)\"]]},\"legend\":{\"tracegroupgap\":0},\"title\":{\"text\":\"Dichtheidskaart: Financi\\u00eble Zorgen vs. Depressie\"}},                        {\"responsive\": true}                    ).then(function(){\n",
       "                            \n",
       "var gd = document.getElementById('f78490d3-5288-45b7-aa41-cb1593f45bfe');\n",
       "var x = new MutationObserver(function (mutations, observer) {{\n",
       "        var display = window.getComputedStyle(gd).display;\n",
       "        if (!display || display === 'none') {{\n",
       "            console.log([gd, 'removed!']);\n",
       "            Plotly.purge(gd);\n",
       "            observer.disconnect();\n",
       "        }}\n",
       "}});\n",
       "\n",
       "// Listen for the removal of the full notebook cells\n",
       "var notebookContainer = gd.closest('#notebook-container');\n",
       "if (notebookContainer) {{\n",
       "    x.observe(notebookContainer, {childList: true});\n",
       "}}\n",
       "\n",
       "// Listen for the clearing of the current output cell\n",
       "var outputEl = gd.closest('.output');\n",
       "if (outputEl) {{\n",
       "    x.observe(outputEl, {childList: true});\n",
       "}}\n",
       "\n",
       "                        })                };            </script>        </div>"
      ]
     },
     "metadata": {},
     "output_type": "display_data"
    }
   ],
   "source": [
    "import pandas as pd\n",
    "import plotly.express as px\n",
    "import os\n",
    "import kagglehub\n",
    "\n",
    "# Dataset ophalen\n",
    "path = kagglehub.dataset_download(\"abdullahashfaqvirk/student-mental-health-survey\")\n",
    "csv_path = os.path.join(path, \"MentalHealthSurvey.csv\")\n",
    "df = pd.read_csv(csv_path)\n",
    "\n",
    "# Kolommen numeriek maken\n",
    "df[\"financial_concerns\"] = pd.to_numeric(df[\"financial_concerns\"], errors=\"coerce\")\n",
    "df[\"depression\"] = pd.to_numeric(df[\"depression\"], errors=\"coerce\")\n",
    "\n",
    "# Verwijder missende data\n",
    "df = df.dropna(subset=[\"financial_concerns\", \"depression\"])\n",
    "\n",
    "# Rond waardes af naar hele getallen\n",
    "df[\"financial_rounded\"] = df[\"financial_concerns\"].round(0).astype(int)\n",
    "df[\"depression_rounded\"] = df[\"depression\"].round(0).astype(int)\n",
    "\n",
    "# Maak heatmap\n",
    "fig = px.density_heatmap(\n",
    "    df,\n",
    "    x=\"financial_rounded\",\n",
    "    y=\"depression_rounded\",\n",
    "    title=\"Dichtheidskaart: Financiële Zorgen vs. Depressie\",\n",
    "    labels={\n",
    "        \"financial_rounded\": \"Financiële zorgen (afgerond)\",\n",
    "        \"depression_rounded\": \"Depressieniveau (afgerond)\"\n",
    "    },\n",
    "    template=\"plotly_white\",\n",
    "    color_continuous_scale=\"tealrose\"\n",
    ")\n",
    "\n",
    "# Hele getallen op assen, zonder tussenruimte\n",
    "fig.update_xaxes(\n",
    "    tickmode=\"linear\",\n",
    "    dtick=1\n",
    ")\n",
    "fig.update_yaxes(\n",
    "    tickmode=\"linear\",\n",
    "    dtick=1\n",
    ")\n",
    "fig.update_traces(xgap=0, ygap=0)  # Verwijder ruimte tussen blokken\n",
    "\n",
    "fig.show()\n"
   ]
  },
  {
   "cell_type": "markdown",
   "id": "41145295",
   "metadata": {},
   "source": [
    "> *Figuur 7: Heatmap van depressie ten opzichte van financiële zorgen .*"
   ]
  },
  {
   "cell_type": "markdown",
   "id": "eed741b8",
   "metadata": {},
   "source": [
    "De bovenstaande dichtheidskaart (heatmap) toont het verband tussen financiële zorgen en het depressieniveau onder studenten. Op de x-as staan de mate van ervaren financiële zorgen, en op de y-as het gerapporteerde niveau van depressie. Beide schalen lopen van 1 (laag) tot 5 (hoog) en zijn afgerond naar gehele getallen om een overzichtelijke rasterweergave mogelijk te maken. Elke cel in de heatmap vertegenwoordigt het aantal studenten dat een bepaalde combinatie van financiële zorgen en depressie heeft gerapporteerd. Hoe donkerder of roder de cel, hoe groter het aantal studenten in die combinatie. De kleurenschaal rechts geeft aan hoeveel studenten (count) in elke cel vallen.\n",
    "\n",
    "De donkerrode zone rechtsboven (financiële zorgen = 5 en depressieniveau = 5) wijst op een concentratie van studenten die zowel hoge financiële zorgen als hoge depressieniveaus ervaren In tegenstelling hiermee zijn lichtere gebieden zichtbaar in de linksonder (lage financiële zorgen en lage depressie), wat betekent dat er relatief minder studenten zijn met lage scores op beide vlakken. De algemene diagonale opbouw van linksonder naar rechtsboven suggereert een positieve samenhang: naarmate de financiële zorgen toenemen, neemt ook het risico op depressieve klachten toe.\n",
    "\n",
    "Deze visualisatie laat duidelijk zien dat er een verband bestaat tussen economische stress en mentale gezondheid. Studenten die hoge financiële zorgen rapporteren, hebben vaker ook een hoger depressieniveau. Hoewel de grafiek geen oorzaak-gevolgrelatie bevestigt, versterkt dit patroon wel bestaande inzichten uit de literatuur: geldproblemen kunnen een grote bron van psychische belasting zijn.\n"
   ]
  }
 ],
 "metadata": {
  "kernelspec": {
   "display_name": "base",
   "language": "python",
   "name": "python3"
  },
  "language_info": {
   "codemirror_mode": {
    "name": "ipython",
    "version": 3
   },
   "file_extension": ".py",
   "mimetype": "text/x-python",
   "name": "python",
   "nbconvert_exporter": "python",
   "pygments_lexer": "ipython3",
   "version": "3.11.7"
  }
 },
 "nbformat": 4,
 "nbformat_minor": 5
}