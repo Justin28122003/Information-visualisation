{
 "cells": [
  {
   "cell_type": "markdown",
   "id": "7b891d73",
   "metadata": {},
   "source": [
    "## Beïnvloedende Factoren Mentale Gezondheid"
   ]
  },
  {
   "cell_type": "markdown",
   "id": "eb24e95e",
   "metadata": {},
   "source": [
    "De mentale gezondheid van studenten is drastisch verslechterd sinds de coronapandemie. Dit is extra zorgelijk, aangezien de WHO in 2017 studenten al bestempelde als een groep met een hogere prevalentie van verminderde mentale gezondheid dan de rest van de bevolking (Zarowski et al., 2024). Het is van enorm belang voor het slagen van deze generatie in het werkveld, dat mogelijke verklaringen van verminderde mentale gesteldheid in kaart worden gebracht, om de maatschappij in de toekomst op de been te houden en deze beter te kunnen behoeden tegen dergelijke mentale problematiek. In figuur 2? worden, aan de hand van onderzochte data, factoren getoond die op het oog invloed hebben op de depressiescore van studenten."
   ]
  },
  {
   "cell_type": "code",
   "execution_count": 1,
   "id": "d7d1a102",
   "metadata": {
    "tags": [
     "hide-input"
    ]
   },
   "outputs": [
    {
     "ename": "ModuleNotFoundError",
     "evalue": "No module named 'sklearn'",
     "output_type": "error",
     "traceback": [
      "\u001b[0;31m---------------------------------------------------------------------------\u001b[0m",
      "\u001b[0;31mModuleNotFoundError\u001b[0m                       Traceback (most recent call last)",
      "Cell \u001b[0;32mIn[1], line 5\u001b[0m\n\u001b[1;32m      3\u001b[0m \u001b[38;5;28;01mimport\u001b[39;00m \u001b[38;5;21;01mmatplotlib\u001b[39;00m\u001b[38;5;21;01m.\u001b[39;00m\u001b[38;5;21;01mpyplot\u001b[39;00m \u001b[38;5;28;01mas\u001b[39;00m \u001b[38;5;21;01mplt\u001b[39;00m\n\u001b[1;32m      4\u001b[0m \u001b[38;5;28;01mimport\u001b[39;00m \u001b[38;5;21;01mmatplotlib\u001b[39;00m\u001b[38;5;21;01m.\u001b[39;00m\u001b[38;5;21;01mcolors\u001b[39;00m \u001b[38;5;28;01mas\u001b[39;00m \u001b[38;5;21;01mmcolors\u001b[39;00m\n\u001b[0;32m----> 5\u001b[0m \u001b[38;5;28;01mfrom\u001b[39;00m \u001b[38;5;21;01msklearn\u001b[39;00m\u001b[38;5;21;01m.\u001b[39;00m\u001b[38;5;21;01mlinear_model\u001b[39;00m \u001b[38;5;28;01mimport\u001b[39;00m LinearRegression\n\u001b[1;32m      6\u001b[0m \u001b[38;5;28;01mfrom\u001b[39;00m \u001b[38;5;21;01msklearn\u001b[39;00m\u001b[38;5;21;01m.\u001b[39;00m\u001b[38;5;21;01mpreprocessing\u001b[39;00m \u001b[38;5;28;01mimport\u001b[39;00m StandardScaler\n\u001b[1;32m      7\u001b[0m \u001b[38;5;28;01mfrom\u001b[39;00m \u001b[38;5;21;01mplotly\u001b[39;00m\u001b[38;5;21;01m.\u001b[39;00m\u001b[38;5;21;01moffline\u001b[39;00m \u001b[38;5;28;01mimport\u001b[39;00m init_notebook_mode\n",
      "\u001b[0;31mModuleNotFoundError\u001b[0m: No module named 'sklearn'"
     ]
    }
   ],
   "source": [
    "import pandas as pd\n",
    "import seaborn as sns\n",
    "import matplotlib.pyplot as plt\n",
    "import matplotlib.colors as mcolors\n",
    "from sklearn.linear_model import LinearRegression\n",
    "from sklearn.preprocessing import StandardScaler\n",
    "from plotly.offline import init_notebook_mode\n",
    "init_notebook_mode(connected=True)\n",
    "\n",
    "# ⬇️ Dataset inladen\n",
    "da = pd.read_csv(\"datasets/MentalHealthSurvey.csv\")\n",
    "\n",
    "# 🏷️ Kolomnamen toevoegen\n",
    "da.columns = [\n",
    "    'gender', 'age', 'university', 'degree_level', 'degree_major', 'academic_year',\n",
    "    'cgpa', 'residential_status', 'campus_discrimination', 'sports_engagement',\n",
    "    'average_sleep', 'study_satisfaction', 'academic_workload', 'academic_pressure',\n",
    "    'financial_concerns', 'social_relationships', 'depression', 'anxiety',\n",
    "    'isolation', 'future_insecurity', 'stress_relief_activities'\n",
    "]\n",
    "\n",
    "# 🔢 CGPA converteren\n",
    "def convert_cgpa(value):\n",
    "    if isinstance(value, str) and \"-\" in value:\n",
    "        try:\n",
    "            low, high = value.split(\"-\")\n",
    "            return (float(low) + float(high)) / 2\n",
    "        except:\n",
    "            return None\n",
    "    try:\n",
    "        return float(value)\n",
    "    except:\n",
    "        return None\n",
    "\n",
    "da['cgpa'] = da['cgpa'].apply(convert_cgpa)\n",
    "\n",
    "# 💤 Slaapduur converteren\n",
    "def convert_sleep(value):\n",
    "    if isinstance(value, str) and \"-\" in value:\n",
    "        try:\n",
    "            nums = [int(s.replace(\"hrs\", \"\").strip()) for s in value.split(\"-\")]\n",
    "            return sum(nums) / len(nums)\n",
    "        except:\n",
    "            return None\n",
    "    try:\n",
    "        return float(value)\n",
    "    except:\n",
    "        return None\n",
    "\n",
    "da['average_sleep'] = da['average_sleep'].apply(convert_sleep)\n",
    "\n",
    "# 📌 Variabelen en doelvariabele\n",
    "features = [\n",
    "    'academic_workload',\n",
    "    'academic_pressure',\n",
    "    'financial_concerns',\n",
    "    'study_satisfaction',\n",
    "    'social_relationships',\n",
    "    'average_sleep'\n",
    "]\n",
    "target = 'depression'\n",
    "\n",
    "# 🧼 Data voorbereiden\n",
    "reg_df = da[features + [target]].dropna().astype(float)\n",
    "X = reg_df[features]\n",
    "y = reg_df[target]\n",
    "\n",
    "# 🧮 Standaardiseren\n",
    "scaler = StandardScaler()\n",
    "X_scaled = scaler.fit_transform(X)\n",
    "\n",
    "# 🔁 Regressie\n",
    "model = LinearRegression()\n",
    "model.fit(X_scaled, y)\n",
    "\n",
    "# 📊 Coëfficiënten berekenen\n",
    "coefs = pd.Series(model.coef_, index=features).sort_values()\n",
    "\n",
    "# 🏷️ Labels leesbaar maken\n",
    "rename_map = {\n",
    "    'academic_workload': 'Studielast',\n",
    "    'academic_pressure': 'Academische druk',\n",
    "    'financial_concerns': 'Financiële zorgen',\n",
    "    'study_satisfaction': 'Tevredenheid over studie',\n",
    "    'social_relationships': 'Sociale relaties',\n",
    "    'average_sleep': 'Gemiddelde slaapduur'\n",
    "}\n",
    "coefs.index = coefs.index.map(rename_map)\n",
    "\n",
    "# 📋 DataFrame voor plot\n",
    "bar_df = pd.DataFrame({\n",
    "    \"Variabele\": coefs.index,\n",
    "    \"Waarde\": coefs.values\n",
    "})\n",
    "\n",
    "# 🎨 Kleurgradient berekenen (coolwarm met wit rond 0)\n",
    "norm = mcolors.TwoSlopeNorm(\n",
    "    vmin=bar_df[\"Waarde\"].min(),\n",
    "    vcenter=0,\n",
    "    vmax=bar_df[\"Waarde\"].max()\n",
    ")\n",
    "cmap = plt.colormaps['coolwarm']\n",
    "kleuren = [mcolors.to_hex(cmap(norm(w))) for w in bar_df[\"Waarde\"]]\n",
    "\n",
    "# 📈 Plotten zonder palette of hue\n",
    "fig, ax = plt.subplots(figsize=(10, 6))\n",
    "bars = sns.barplot(\n",
    "    data=bar_df,\n",
    "    x=\"Waarde\",\n",
    "    y=\"Variabele\",\n",
    "    orient=\"h\",\n",
    "    ax=ax\n",
    ")\n",
    "\n",
    "# 🎯 Kleuren toepassen per balk\n",
    "for bar, kleur in zip(bars.patches, kleuren):\n",
    "    bar.set_color(kleur)\n",
    "\n",
    "# 🎨 Styling\n",
    "ax.axvline(0, color='black', linestyle='--')\n",
    "ax.set_title(\"Effect van verklarende factoren op depressiescore\")\n",
    "ax.set_xlabel(\"Standaardiseerde regressiecoëfficiënt\")\n",
    "ax.set_ylabel(\"Factoren\")\n",
    "fig.tight_layout()\n",
    "plt.show()\n"
   ]
  },
  {
   "cell_type": "markdown",
   "id": "6933e243",
   "metadata": {},
   "source": [
    "> *Figuur 2: De correlatie tussen verschillende factoren op de mentale gezondheid van studenten.*"
   ]
  },
  {
   "cell_type": "markdown",
   "id": "600afe0f",
   "metadata": {},
   "source": [
    "Figuur 2 toont het een staafdiagram met de gestandaardiseerde regressiecoëfficiënten van zes factoren die mogelijk verband houden met de depressiescore van studenten. De x-as geeft de sterkte en richting van het effect weer, negatieve waarden hebben een negatieve relatie met de depressiescore, wat betekent dat een toename van deze variabele lijdt tot een afname van de depressiescore. Anderzijds beïnvloeden positieve waarden deze score positief, wat duidt op een toename van de depressiescore, naarmate de variabele toene. De y-as zet de onderzochte factoren uiteen. Sociale relaties lijken het sterkst samen te hangen met een lage depressiescore, deze variabele omschrijft de mate waarin studenten sociale verbinding vinden aan de universiteit en zich gezien en gehoord voelen. Daarnaast is er ook een sterk verband tussen de tevredenheid over studie en een verminderde depressiescore. Waardering van studie lijkt dus samen te hangen met een lagere depressiescore. Aan de andere kant hebben een hoge studielast, het ondervinden van academische druk, en met name financiële zorgen een positieve relatie met de depressiescore. Naarmate men meer studielast en academische druk ervaart, variabelen die vaak hand in hand gaan (FIGUUR 3), neemt de depressiescore toe. Een langere gemiddelde slaapduur lijkt hier ook samen te hangen met een kleine toename van de depressiescore, iets wat tegenintuïtief lijkt en ook de literatuur tegenspreekt. Een gezond slaappatroon wordt vaak geassocieerd met verbetering van mentale gezondheid. Echter, is er bij teveel slaap geen sprake van een gezond slaappatroon, wat een mogelijke verklaring kan zijn voor dit gevonden verband (Lee et al., 2024).\n"
   ]
  },
  {
   "cell_type": "markdown",
   "id": "a38b5a1b",
   "metadata": {},
   "source": [
    "## Academische druk"
   ]
  },
  {
   "cell_type": "markdown",
   "id": "1cf1e467",
   "metadata": {},
   "source": [
    "## Slaapgedrag"
   ]
  },
  {
   "cell_type": "markdown",
   "id": "c3df0053",
   "metadata": {},
   "source": [
    "Hoewel in Figuur 2 een langere gemiddelde slaapduur samenhangt met een lichte toename van de depressiescore, is het belangrijk om dit resultaat in perspectief te plaatsen. In Figuur 4 wordt, op basis van een andere dataset, een duidelijk positief verband aangetoond tussen het aantal uren slaap en mentale gezondheid: naarmate studenten meer slapen (tot een gezond niveau), neemt hun mentale welzijn toe. Dit bevestigt bevindingen uit bestaande literatuur waarin voldoende slaap consequent wordt gekoppeld aan betere mentale gezondheid (Lee et al., 2024). De schijnbare tegenstelling met Figuur 2 kan mogelijk worden verklaard door het verschil tussen gezond veel slapen en overmatig slapen, waarbij het laatste vaak een symptoom is van onderliggende psychische klachten.\n",
    "\n"
   ]
  },
  {
   "cell_type": "code",
   "execution_count": 14,
   "id": "4abd7c90",
   "metadata": {
    "tags": [
     "hide-input"
    ]
   },
   "outputs": [
    {
     "data": {
      "text/html": [
       "        <script type=\"text/javascript\">\n",
       "        window.PlotlyConfig = {MathJaxConfig: 'local'};\n",
       "        if (window.MathJax && window.MathJax.Hub && window.MathJax.Hub.Config) {window.MathJax.Hub.Config({SVG: {font: \"STIX-Web\"}});}\n",
       "        </script>\n",
       "        <script type=\"module\">import \"https://cdn.plot.ly/plotly-3.0.1.min\"</script>\n",
       "        "
      ]
     },
     "metadata": {},
     "output_type": "display_data"
    },
    {
     "data": {
      "application/vnd.plotly.v1+json": {
       "config": {
        "plotlyServerURL": "https://plot.ly"
       },
       "data": [
        {
         "line": {
          "color": "blue",
          "width": 3
         },
         "mode": "lines+markers",
         "name": "Male",
         "type": "scatter",
         "visible": true,
         "x": {
          "bdata": "ZmZmZmZmEEAzMzMzMzMRQAAAAAAAABJAzczMzMzMEkAzMzMzMzMTQJqZmZmZmRNAAAAAAAAAFEBmZmZmZmYUQM3MzMzMzBRAMzMzMzMzFUCamZmZmZkVQAAAAAAAABZAZmZmZmZmFkDNzMzMzMwWQDMzMzMzMxdAmpmZmZmZF0AAAAAAAAAYQGZmZmZmZhhAzczMzMzMGEAzMzMzMzMZQJqZmZmZmRlAAAAAAAAAGkBmZmZmZmYaQM3MzMzMzBpAMzMzMzMzG0CamZmZmZkbQAAAAAAAABxAZmZmZmZmHEDNzMzMzMwcQDMzMzMzMx1AmpmZmZmZHUAAAAAAAAAeQGZmZmZmZh5AzczMzMzMHkAzMzMzMzMfQJqZmZmZmR9AAAAAAAAAIEAzMzMzMzMgQGZmZmZmZiBAmpmZmZmZIEDNzMzMzMwgQAAAAAAAACFAMzMzMzMzIUBmZmZmZmYhQJqZmZmZmSFAzczMzMzMIUAAAAAAAAAiQDMzMzMzMyJAZmZmZmZmIkCamZmZmZkiQM3MzMzMzCJAAAAAAAAAI0A=",
          "dtype": "f8"
         },
         "y": {
          "bdata": "AAAAAAAAGEAAAAAAAAAYQAAAAAAAABhAAAAAAAAAGEAAAAAAAAAUQAAAAAAAABdAAAAAAAAAFkAAAAAAAAAXQAAAAAAAABVAbtu2bdu2FUAAAAAAAAAVQG7btm3bthVAAAAAAAAAFkAAAAAAAIAUQKuqqqqqqhZAuuiiiy66FEByHMdxHMcVQKuqqqqqqhRA2Ymd2ImdFECxEzuxEzsVQAAAAAAAABhAAAAAAABAGEDFTuzETuwYQLy7u7u7uxdAAAAAAAAAGECrqqqqqqoWQAAAAAAAABlAdNFFF110GUAAAAAAAAAcQLdt27Zt2xpAF1100UUXHUBP7MRO7MQaQAAAAAAAABxAx3Ecx3EcG0DFTuzETuwcQKuqqqqqqhtAuuiiiy66HEAzMzMzMzMbQAAAAAAAABxAAAAAAAAAHEAAAAAAAAAcQAAAAAAAABxAAAAAAAAAHEAAAAAAAAAgQAAAAAAAAB5AAAAAAAAAIEAAAAAAAAAgQAAAAAAAACBAAAAAAAAAIEAAAAAAAAAgQAAAAAAAACBAAAAAAAAAIEA=",
          "dtype": "f8"
         }
        },
        {
         "line": {
          "color": "deeppink",
          "width": 3
         },
         "mode": "lines+markers",
         "name": "Female",
         "type": "scatter",
         "visible": false,
         "x": {
          "bdata": "ZmZmZmZmDkAzMzMzMzMPQAAAAAAAABBAZmZmZmZmEEDNzMzMzMwQQDMzMzMzMxFAmpmZmZmZEUAAAAAAAAASQGZmZmZmZhJAzczMzMzMEkAzMzMzMzMTQJqZmZmZmRNAAAAAAAAAFEBmZmZmZmYUQM3MzMzMzBRAMzMzMzMzFUCamZmZmZkVQAAAAAAAABZAZmZmZmZmFkDNzMzMzMwWQDMzMzMzMxdAmpmZmZmZF0AAAAAAAAAYQGZmZmZmZhhAzczMzMzMGEAzMzMzMzMZQJqZmZmZmRlAAAAAAAAAGkBmZmZmZmYaQM3MzMzMzBpAMzMzMzMzG0CamZmZmZkbQAAAAAAAABxAZmZmZmZmHEDNzMzMzMwcQDMzMzMzMx1AmpmZmZmZHUAAAAAAAAAeQGZmZmZmZh5AzczMzMzMHkAzMzMzMzMfQJqZmZmZmR9AAAAAAAAAIEAzMzMzMzMgQGZmZmZmZiBAmpmZmZmZIEDNzMzMzMwgQAAAAAAAACFAMzMzMzMzIUBmZmZmZmYhQJqZmZmZmSFAzczMzMzMIUAAAAAAAAAiQDMzMzMzMyJAZmZmZmZmIkCamZmZmZkiQM3MzMzMzCJAAAAAAAAAI0AzMzMzMzMjQA==",
          "dtype": "f8"
         },
         "y": {
          "bdata": "AAAAAAAAFEAAAAAAAAAUQAAAAAAAABRAAAAAAAAAFEAAAAAAAAAWQAAAAAAAABRAAAAAAAAAFkAAAAAAAAASQKuqqqqqqhZAAAAAAAAAFECrqqqqqqoWQAAAAAAAABRAzczMzMzMFECrqqqqqqoSQAAAAAAAABRAAAAAAAAAE0BmZmZmZmYUQAAAAAAAgBNASZIkSZIkFUAzMzMzMzMVQPHw8PDw8BRAzczMzMzMFEAcx3Ecx3EUQKuqqqqqqhRAAAAAAAAAFECrqqqqqqoUQLrooosuuhRA27Zt27ZtF0C3bdu2bdsWQAAAAAAAABhAo4suuuiiF0AAAAAAAAAYQJqZmZmZmRlAAAAAAAAAHEAlSZIkSZIaQJIkSZIkSRxAq6qqqqqqGkCrqqqqqqocQAAAAAAAABtAVVVVVVVVG0Dbtm3btm0bQCVJkiRJkhxAAAAAAAAAHECrqqqqqqocQG7btm3bth1ASZIkSZIkHUBu27Zt27YdQAAAAAAAAB5Aq6qqqqqqHkAAAAAAAAAeQAAAAAAAAB9AAAAAAAAAHkAAAAAAAAAeQAAAAAAAAB5AAAAAAAAAHkAAAAAAAAAgQAAAAAAAACBAAAAAAAAAIEAAAAAAAAAgQA==",
          "dtype": "f8"
         }
        },
        {
         "line": {
          "color": "green",
          "width": 3
         },
         "mode": "lines+markers",
         "name": "All",
         "type": "scatter",
         "visible": false,
         "x": {
          "bdata": "ZmZmZmZmDkAzMzMzMzMPQAAAAAAAABBAZmZmZmZmEEDNzMzMzMwQQDMzMzMzMxFAmpmZmZmZEUAAAAAAAAASQGZmZmZmZhJAzczMzMzMEkAzMzMzMzMTQJqZmZmZmRNAAAAAAAAAFEBmZmZmZmYUQM3MzMzMzBRAMzMzMzMzFUCamZmZmZkVQAAAAAAAABZAZmZmZmZmFkDNzMzMzMwWQDMzMzMzMxdAmpmZmZmZF0AAAAAAAAAYQGZmZmZmZhhAzczMzMzMGEAzMzMzMzMZQJqZmZmZmRlAAAAAAAAAGkBmZmZmZmYaQM3MzMzMzBpAMzMzMzMzG0CamZmZmZkbQAAAAAAAABxAZmZmZmZmHEDNzMzMzMwcQDMzMzMzMx1AmpmZmZmZHUAAAAAAAAAeQGZmZmZmZh5AzczMzMzMHkAzMzMzMzMfQJqZmZmZmR9AAAAAAAAAIEAzMzMzMzMgQGZmZmZmZiBAmpmZmZmZIEDNzMzMzMwgQAAAAAAAACFAMzMzMzMzIUBmZmZmZmYhQJqZmZmZmSFAzczMzMzMIUAAAAAAAAAiQDMzMzMzMyJAZmZmZmZmIkCamZmZmZkiQM3MzMzMzCJAAAAAAAAAI0AzMzMzMzMjQA==",
          "dtype": "f8"
         },
         "y": {
          "bdata": "AAAAAAAAFEAAAAAAAAAUQAAAAAAAABRAAAAAAAAAFkAAAAAAAAAWQAAAAAAAABZAAAAAAAAAFkAAAAAAAAAUQKuqqqqqqhZAq6qqqqqqFkAAAAAAAAAWQGZmZmZmZhZASZIkSZIkFUBJkiRJkiQVQOzETuzEThRAuuiiiy66FEAlSZIkSZIUQImIiIiIiBRAVVVVVVVVFUA5juM4juMUQBaykIUsZBVAMQzDMAzDFEDHcRzHcRwVQKuqqqqqqhRAZmZmZmZmFEDYUF5DeQ0VQOLh4eHh4RVAAAAAAAAAGEAzMzMzMzMYQNejcD0K1xdAVVVVVVXVF0BJkiRJkiQXQFVVVVVVVRlAmpmZmZmZGkCSJEmSJEkbQCVJkiRJkhtAFDuxEzuxG0CuR+F6FK4bQAAAAAAAgBtAMzMzMzMzG0BmZmZmZmYcQAAAAAAAABxAHMdxHMdxHEAAAAAAAMAbQM3MzMzMzBxAiYiIiIiIHEC3bdu2bdscQDMzMzMzMx1AchzHcRzHHUCSJEmSJEkeQKuqqqqqqh5AZmZmZmZmHkCrqqqqqqoeQKuqqqqqqh5Aq6qqqqqqHkAAAAAAAAAgQAAAAAAAACBAAAAAAAAAIEAAAAAAAAAgQA==",
          "dtype": "f8"
         }
        }
       ],
       "layout": {
        "template": {
         "data": {
          "bar": [
           {
            "error_x": {
             "color": "#2a3f5f"
            },
            "error_y": {
             "color": "#2a3f5f"
            },
            "marker": {
             "line": {
              "color": "#E5ECF6",
              "width": 0.5
             },
             "pattern": {
              "fillmode": "overlay",
              "size": 10,
              "solidity": 0.2
             }
            },
            "type": "bar"
           }
          ],
          "barpolar": [
           {
            "marker": {
             "line": {
              "color": "#E5ECF6",
              "width": 0.5
             },
             "pattern": {
              "fillmode": "overlay",
              "size": 10,
              "solidity": 0.2
             }
            },
            "type": "barpolar"
           }
          ],
          "carpet": [
           {
            "aaxis": {
             "endlinecolor": "#2a3f5f",
             "gridcolor": "white",
             "linecolor": "white",
             "minorgridcolor": "white",
             "startlinecolor": "#2a3f5f"
            },
            "baxis": {
             "endlinecolor": "#2a3f5f",
             "gridcolor": "white",
             "linecolor": "white",
             "minorgridcolor": "white",
             "startlinecolor": "#2a3f5f"
            },
            "type": "carpet"
           }
          ],
          "choropleth": [
           {
            "colorbar": {
             "outlinewidth": 0,
             "ticks": ""
            },
            "type": "choropleth"
           }
          ],
          "contour": [
           {
            "colorbar": {
             "outlinewidth": 0,
             "ticks": ""
            },
            "colorscale": [
             [
              0,
              "#0d0887"
             ],
             [
              0.1111111111111111,
              "#46039f"
             ],
             [
              0.2222222222222222,
              "#7201a8"
             ],
             [
              0.3333333333333333,
              "#9c179e"
             ],
             [
              0.4444444444444444,
              "#bd3786"
             ],
             [
              0.5555555555555556,
              "#d8576b"
             ],
             [
              0.6666666666666666,
              "#ed7953"
             ],
             [
              0.7777777777777778,
              "#fb9f3a"
             ],
             [
              0.8888888888888888,
              "#fdca26"
             ],
             [
              1,
              "#f0f921"
             ]
            ],
            "type": "contour"
           }
          ],
          "contourcarpet": [
           {
            "colorbar": {
             "outlinewidth": 0,
             "ticks": ""
            },
            "type": "contourcarpet"
           }
          ],
          "heatmap": [
           {
            "colorbar": {
             "outlinewidth": 0,
             "ticks": ""
            },
            "colorscale": [
             [
              0,
              "#0d0887"
             ],
             [
              0.1111111111111111,
              "#46039f"
             ],
             [
              0.2222222222222222,
              "#7201a8"
             ],
             [
              0.3333333333333333,
              "#9c179e"
             ],
             [
              0.4444444444444444,
              "#bd3786"
             ],
             [
              0.5555555555555556,
              "#d8576b"
             ],
             [
              0.6666666666666666,
              "#ed7953"
             ],
             [
              0.7777777777777778,
              "#fb9f3a"
             ],
             [
              0.8888888888888888,
              "#fdca26"
             ],
             [
              1,
              "#f0f921"
             ]
            ],
            "type": "heatmap"
           }
          ],
          "histogram": [
           {
            "marker": {
             "pattern": {
              "fillmode": "overlay",
              "size": 10,
              "solidity": 0.2
             }
            },
            "type": "histogram"
           }
          ],
          "histogram2d": [
           {
            "colorbar": {
             "outlinewidth": 0,
             "ticks": ""
            },
            "colorscale": [
             [
              0,
              "#0d0887"
             ],
             [
              0.1111111111111111,
              "#46039f"
             ],
             [
              0.2222222222222222,
              "#7201a8"
             ],
             [
              0.3333333333333333,
              "#9c179e"
             ],
             [
              0.4444444444444444,
              "#bd3786"
             ],
             [
              0.5555555555555556,
              "#d8576b"
             ],
             [
              0.6666666666666666,
              "#ed7953"
             ],
             [
              0.7777777777777778,
              "#fb9f3a"
             ],
             [
              0.8888888888888888,
              "#fdca26"
             ],
             [
              1,
              "#f0f921"
             ]
            ],
            "type": "histogram2d"
           }
          ],
          "histogram2dcontour": [
           {
            "colorbar": {
             "outlinewidth": 0,
             "ticks": ""
            },
            "colorscale": [
             [
              0,
              "#0d0887"
             ],
             [
              0.1111111111111111,
              "#46039f"
             ],
             [
              0.2222222222222222,
              "#7201a8"
             ],
             [
              0.3333333333333333,
              "#9c179e"
             ],
             [
              0.4444444444444444,
              "#bd3786"
             ],
             [
              0.5555555555555556,
              "#d8576b"
             ],
             [
              0.6666666666666666,
              "#ed7953"
             ],
             [
              0.7777777777777778,
              "#fb9f3a"
             ],
             [
              0.8888888888888888,
              "#fdca26"
             ],
             [
              1,
              "#f0f921"
             ]
            ],
            "type": "histogram2dcontour"
           }
          ],
          "mesh3d": [
           {
            "colorbar": {
             "outlinewidth": 0,
             "ticks": ""
            },
            "type": "mesh3d"
           }
          ],
          "parcoords": [
           {
            "line": {
             "colorbar": {
              "outlinewidth": 0,
              "ticks": ""
             }
            },
            "type": "parcoords"
           }
          ],
          "pie": [
           {
            "automargin": true,
            "type": "pie"
           }
          ],
          "scatter": [
           {
            "fillpattern": {
             "fillmode": "overlay",
             "size": 10,
             "solidity": 0.2
            },
            "type": "scatter"
           }
          ],
          "scatter3d": [
           {
            "line": {
             "colorbar": {
              "outlinewidth": 0,
              "ticks": ""
             }
            },
            "marker": {
             "colorbar": {
              "outlinewidth": 0,
              "ticks": ""
             }
            },
            "type": "scatter3d"
           }
          ],
          "scattercarpet": [
           {
            "marker": {
             "colorbar": {
              "outlinewidth": 0,
              "ticks": ""
             }
            },
            "type": "scattercarpet"
           }
          ],
          "scattergeo": [
           {
            "marker": {
             "colorbar": {
              "outlinewidth": 0,
              "ticks": ""
             }
            },
            "type": "scattergeo"
           }
          ],
          "scattergl": [
           {
            "marker": {
             "colorbar": {
              "outlinewidth": 0,
              "ticks": ""
             }
            },
            "type": "scattergl"
           }
          ],
          "scattermap": [
           {
            "marker": {
             "colorbar": {
              "outlinewidth": 0,
              "ticks": ""
             }
            },
            "type": "scattermap"
           }
          ],
          "scattermapbox": [
           {
            "marker": {
             "colorbar": {
              "outlinewidth": 0,
              "ticks": ""
             }
            },
            "type": "scattermapbox"
           }
          ],
          "scatterpolar": [
           {
            "marker": {
             "colorbar": {
              "outlinewidth": 0,
              "ticks": ""
             }
            },
            "type": "scatterpolar"
           }
          ],
          "scatterpolargl": [
           {
            "marker": {
             "colorbar": {
              "outlinewidth": 0,
              "ticks": ""
             }
            },
            "type": "scatterpolargl"
           }
          ],
          "scatterternary": [
           {
            "marker": {
             "colorbar": {
              "outlinewidth": 0,
              "ticks": ""
             }
            },
            "type": "scatterternary"
           }
          ],
          "surface": [
           {
            "colorbar": {
             "outlinewidth": 0,
             "ticks": ""
            },
            "colorscale": [
             [
              0,
              "#0d0887"
             ],
             [
              0.1111111111111111,
              "#46039f"
             ],
             [
              0.2222222222222222,
              "#7201a8"
             ],
             [
              0.3333333333333333,
              "#9c179e"
             ],
             [
              0.4444444444444444,
              "#bd3786"
             ],
             [
              0.5555555555555556,
              "#d8576b"
             ],
             [
              0.6666666666666666,
              "#ed7953"
             ],
             [
              0.7777777777777778,
              "#fb9f3a"
             ],
             [
              0.8888888888888888,
              "#fdca26"
             ],
             [
              1,
              "#f0f921"
             ]
            ],
            "type": "surface"
           }
          ],
          "table": [
           {
            "cells": {
             "fill": {
              "color": "#EBF0F8"
             },
             "line": {
              "color": "white"
             }
            },
            "header": {
             "fill": {
              "color": "#C8D4E3"
             },
             "line": {
              "color": "white"
             }
            },
            "type": "table"
           }
          ]
         },
         "layout": {
          "annotationdefaults": {
           "arrowcolor": "#2a3f5f",
           "arrowhead": 0,
           "arrowwidth": 1
          },
          "autotypenumbers": "strict",
          "coloraxis": {
           "colorbar": {
            "outlinewidth": 0,
            "ticks": ""
           }
          },
          "colorscale": {
           "diverging": [
            [
             0,
             "#8e0152"
            ],
            [
             0.1,
             "#c51b7d"
            ],
            [
             0.2,
             "#de77ae"
            ],
            [
             0.3,
             "#f1b6da"
            ],
            [
             0.4,
             "#fde0ef"
            ],
            [
             0.5,
             "#f7f7f7"
            ],
            [
             0.6,
             "#e6f5d0"
            ],
            [
             0.7,
             "#b8e186"
            ],
            [
             0.8,
             "#7fbc41"
            ],
            [
             0.9,
             "#4d9221"
            ],
            [
             1,
             "#276419"
            ]
           ],
           "sequential": [
            [
             0,
             "#0d0887"
            ],
            [
             0.1111111111111111,
             "#46039f"
            ],
            [
             0.2222222222222222,
             "#7201a8"
            ],
            [
             0.3333333333333333,
             "#9c179e"
            ],
            [
             0.4444444444444444,
             "#bd3786"
            ],
            [
             0.5555555555555556,
             "#d8576b"
            ],
            [
             0.6666666666666666,
             "#ed7953"
            ],
            [
             0.7777777777777778,
             "#fb9f3a"
            ],
            [
             0.8888888888888888,
             "#fdca26"
            ],
            [
             1,
             "#f0f921"
            ]
           ],
           "sequentialminus": [
            [
             0,
             "#0d0887"
            ],
            [
             0.1111111111111111,
             "#46039f"
            ],
            [
             0.2222222222222222,
             "#7201a8"
            ],
            [
             0.3333333333333333,
             "#9c179e"
            ],
            [
             0.4444444444444444,
             "#bd3786"
            ],
            [
             0.5555555555555556,
             "#d8576b"
            ],
            [
             0.6666666666666666,
             "#ed7953"
            ],
            [
             0.7777777777777778,
             "#fb9f3a"
            ],
            [
             0.8888888888888888,
             "#fdca26"
            ],
            [
             1,
             "#f0f921"
            ]
           ]
          },
          "colorway": [
           "#636efa",
           "#EF553B",
           "#00cc96",
           "#ab63fa",
           "#FFA15A",
           "#19d3f3",
           "#FF6692",
           "#B6E880",
           "#FF97FF",
           "#FECB52"
          ],
          "font": {
           "color": "#2a3f5f"
          },
          "geo": {
           "bgcolor": "white",
           "lakecolor": "white",
           "landcolor": "#E5ECF6",
           "showlakes": true,
           "showland": true,
           "subunitcolor": "white"
          },
          "hoverlabel": {
           "align": "left"
          },
          "hovermode": "closest",
          "mapbox": {
           "style": "light"
          },
          "paper_bgcolor": "white",
          "plot_bgcolor": "#E5ECF6",
          "polar": {
           "angularaxis": {
            "gridcolor": "white",
            "linecolor": "white",
            "ticks": ""
           },
           "bgcolor": "#E5ECF6",
           "radialaxis": {
            "gridcolor": "white",
            "linecolor": "white",
            "ticks": ""
           }
          },
          "scene": {
           "xaxis": {
            "backgroundcolor": "#E5ECF6",
            "gridcolor": "white",
            "gridwidth": 2,
            "linecolor": "white",
            "showbackground": true,
            "ticks": "",
            "zerolinecolor": "white"
           },
           "yaxis": {
            "backgroundcolor": "#E5ECF6",
            "gridcolor": "white",
            "gridwidth": 2,
            "linecolor": "white",
            "showbackground": true,
            "ticks": "",
            "zerolinecolor": "white"
           },
           "zaxis": {
            "backgroundcolor": "#E5ECF6",
            "gridcolor": "white",
            "gridwidth": 2,
            "linecolor": "white",
            "showbackground": true,
            "ticks": "",
            "zerolinecolor": "white"
           }
          },
          "shapedefaults": {
           "line": {
            "color": "#2a3f5f"
           }
          },
          "ternary": {
           "aaxis": {
            "gridcolor": "white",
            "linecolor": "white",
            "ticks": ""
           },
           "baxis": {
            "gridcolor": "white",
            "linecolor": "white",
            "ticks": ""
           },
           "bgcolor": "#E5ECF6",
           "caxis": {
            "gridcolor": "white",
            "linecolor": "white",
            "ticks": ""
           }
          },
          "title": {
           "x": 0.05
          },
          "xaxis": {
           "automargin": true,
           "gridcolor": "white",
           "linecolor": "white",
           "ticks": "",
           "title": {
            "standoff": 15
           },
           "zerolinecolor": "white",
           "zerolinewidth": 2
          },
          "yaxis": {
           "automargin": true,
           "gridcolor": "white",
           "linecolor": "white",
           "ticks": "",
           "title": {
            "standoff": 15
           },
           "zerolinecolor": "white",
           "zerolinewidth": 2
          }
         }
        },
        "title": {
         "text": "Gemiddelde mentale gezondheid per slaapduur (mannen)"
        },
        "updatemenus": [
         {
          "active": 0,
          "buttons": [
           {
            "args": [
             {
              "visible": [
               true,
               false,
               false
              ]
             },
             {
              "title": {
               "text": "Gemiddelde mentale gezondheid per slaapduur (mannen)"
              }
             }
            ],
            "label": "Man",
            "method": "update"
           },
           {
            "args": [
             {
              "visible": [
               false,
               true,
               false
              ]
             },
             {
              "title": {
               "text": "Gemiddelde mentale gezondheid per slaapduur (vrouwen)"
              }
             }
            ],
            "label": "Vrouw",
            "method": "update"
           },
           {
            "args": [
             {
              "visible": [
               false,
               false,
               true
              ]
             },
             {
              "title": {
               "text": "Gemiddelde mentale gezondheid per slaapduur (alle studenten)"
              }
             }
            ],
            "label": "Iedereen",
            "method": "update"
           },
           {
            "args": [
             {
              "visible": [
               true,
               true,
               true
              ]
             },
             {
              "title": {
               "text": "Gemiddelde mentale gezondheid per slaapduur (alle groepen)"
              }
             }
            ],
            "label": "Allemaal",
            "method": "update"
           }
          ],
          "direction": "down",
          "showactive": true,
          "x": 0.01,
          "xanchor": "left",
          "y": 1.15,
          "yanchor": "top"
         }
        ],
        "xaxis": {
         "dtick": 1,
         "fixedrange": true,
         "range": [
          3,
          10
         ],
         "title": {
          "text": "Aantal uren slaap per nacht"
         }
        },
        "yaxis": {
         "dtick": 1,
         "fixedrange": true,
         "range": [
          3,
          10
         ],
         "title": {
          "text": "Gemiddelde mentale gezondheidsscore"
         }
        }
       }
      },
      "text/html": [
       "<div>            <script src=\"https://cdnjs.cloudflare.com/ajax/libs/mathjax/2.7.5/MathJax.js?config=TeX-AMS-MML_SVG\"></script><script type=\"text/javascript\">if (window.MathJax && window.MathJax.Hub && window.MathJax.Hub.Config) {window.MathJax.Hub.Config({SVG: {font: \"STIX-Web\"}});}</script>                <script type=\"text/javascript\">window.PlotlyConfig = {MathJaxConfig: 'local'};</script>\n",
       "        <script charset=\"utf-8\" src=\"https://cdn.plot.ly/plotly-3.0.1.min.js\"></script>                <div id=\"ba184dd0-2969-49d7-8f07-c6f5b86c8ad9\" class=\"plotly-graph-div\" style=\"height:525px; width:100%;\"></div>            <script type=\"text/javascript\">                window.PLOTLYENV=window.PLOTLYENV || {};                                if (document.getElementById(\"ba184dd0-2969-49d7-8f07-c6f5b86c8ad9\")) {                    Plotly.newPlot(                        \"ba184dd0-2969-49d7-8f07-c6f5b86c8ad9\",                        [{\"line\":{\"color\":\"blue\",\"width\":3},\"mode\":\"lines+markers\",\"name\":\"Male\",\"visible\":true,\"x\":{\"dtype\":\"f8\",\"bdata\":\"ZmZmZmZmEEAzMzMzMzMRQAAAAAAAABJAzczMzMzMEkAzMzMzMzMTQJqZmZmZmRNAAAAAAAAAFEBmZmZmZmYUQM3MzMzMzBRAMzMzMzMzFUCamZmZmZkVQAAAAAAAABZAZmZmZmZmFkDNzMzMzMwWQDMzMzMzMxdAmpmZmZmZF0AAAAAAAAAYQGZmZmZmZhhAzczMzMzMGEAzMzMzMzMZQJqZmZmZmRlAAAAAAAAAGkBmZmZmZmYaQM3MzMzMzBpAMzMzMzMzG0CamZmZmZkbQAAAAAAAABxAZmZmZmZmHEDNzMzMzMwcQDMzMzMzMx1AmpmZmZmZHUAAAAAAAAAeQGZmZmZmZh5AzczMzMzMHkAzMzMzMzMfQJqZmZmZmR9AAAAAAAAAIEAzMzMzMzMgQGZmZmZmZiBAmpmZmZmZIEDNzMzMzMwgQAAAAAAAACFAMzMzMzMzIUBmZmZmZmYhQJqZmZmZmSFAzczMzMzMIUAAAAAAAAAiQDMzMzMzMyJAZmZmZmZmIkCamZmZmZkiQM3MzMzMzCJAAAAAAAAAI0A=\"},\"y\":{\"dtype\":\"f8\",\"bdata\":\"AAAAAAAAGEAAAAAAAAAYQAAAAAAAABhAAAAAAAAAGEAAAAAAAAAUQAAAAAAAABdAAAAAAAAAFkAAAAAAAAAXQAAAAAAAABVAbtu2bdu2FUAAAAAAAAAVQG7btm3bthVAAAAAAAAAFkAAAAAAAIAUQKuqqqqqqhZAuuiiiy66FEByHMdxHMcVQKuqqqqqqhRA2Ymd2ImdFECxEzuxEzsVQAAAAAAAABhAAAAAAABAGEDFTuzETuwYQLy7u7u7uxdAAAAAAAAAGECrqqqqqqoWQAAAAAAAABlAdNFFF110GUAAAAAAAAAcQLdt27Zt2xpAF1100UUXHUBP7MRO7MQaQAAAAAAAABxAx3Ecx3EcG0DFTuzETuwcQKuqqqqqqhtAuuiiiy66HEAzMzMzMzMbQAAAAAAAABxAAAAAAAAAHEAAAAAAAAAcQAAAAAAAABxAAAAAAAAAHEAAAAAAAAAgQAAAAAAAAB5AAAAAAAAAIEAAAAAAAAAgQAAAAAAAACBAAAAAAAAAIEAAAAAAAAAgQAAAAAAAACBAAAAAAAAAIEA=\"},\"type\":\"scatter\"},{\"line\":{\"color\":\"deeppink\",\"width\":3},\"mode\":\"lines+markers\",\"name\":\"Female\",\"visible\":false,\"x\":{\"dtype\":\"f8\",\"bdata\":\"ZmZmZmZmDkAzMzMzMzMPQAAAAAAAABBAZmZmZmZmEEDNzMzMzMwQQDMzMzMzMxFAmpmZmZmZEUAAAAAAAAASQGZmZmZmZhJAzczMzMzMEkAzMzMzMzMTQJqZmZmZmRNAAAAAAAAAFEBmZmZmZmYUQM3MzMzMzBRAMzMzMzMzFUCamZmZmZkVQAAAAAAAABZAZmZmZmZmFkDNzMzMzMwWQDMzMzMzMxdAmpmZmZmZF0AAAAAAAAAYQGZmZmZmZhhAzczMzMzMGEAzMzMzMzMZQJqZmZmZmRlAAAAAAAAAGkBmZmZmZmYaQM3MzMzMzBpAMzMzMzMzG0CamZmZmZkbQAAAAAAAABxAZmZmZmZmHEDNzMzMzMwcQDMzMzMzMx1AmpmZmZmZHUAAAAAAAAAeQGZmZmZmZh5AzczMzMzMHkAzMzMzMzMfQJqZmZmZmR9AAAAAAAAAIEAzMzMzMzMgQGZmZmZmZiBAmpmZmZmZIEDNzMzMzMwgQAAAAAAAACFAMzMzMzMzIUBmZmZmZmYhQJqZmZmZmSFAzczMzMzMIUAAAAAAAAAiQDMzMzMzMyJAZmZmZmZmIkCamZmZmZkiQM3MzMzMzCJAAAAAAAAAI0AzMzMzMzMjQA==\"},\"y\":{\"dtype\":\"f8\",\"bdata\":\"AAAAAAAAFEAAAAAAAAAUQAAAAAAAABRAAAAAAAAAFEAAAAAAAAAWQAAAAAAAABRAAAAAAAAAFkAAAAAAAAASQKuqqqqqqhZAAAAAAAAAFECrqqqqqqoWQAAAAAAAABRAzczMzMzMFECrqqqqqqoSQAAAAAAAABRAAAAAAAAAE0BmZmZmZmYUQAAAAAAAgBNASZIkSZIkFUAzMzMzMzMVQPHw8PDw8BRAzczMzMzMFEAcx3Ecx3EUQKuqqqqqqhRAAAAAAAAAFECrqqqqqqoUQLrooosuuhRA27Zt27ZtF0C3bdu2bdsWQAAAAAAAABhAo4suuuiiF0AAAAAAAAAYQJqZmZmZmRlAAAAAAAAAHEAlSZIkSZIaQJIkSZIkSRxAq6qqqqqqGkCrqqqqqqocQAAAAAAAABtAVVVVVVVVG0Dbtm3btm0bQCVJkiRJkhxAAAAAAAAAHECrqqqqqqocQG7btm3bth1ASZIkSZIkHUBu27Zt27YdQAAAAAAAAB5Aq6qqqqqqHkAAAAAAAAAeQAAAAAAAAB9AAAAAAAAAHkAAAAAAAAAeQAAAAAAAAB5AAAAAAAAAHkAAAAAAAAAgQAAAAAAAACBAAAAAAAAAIEAAAAAAAAAgQA==\"},\"type\":\"scatter\"},{\"line\":{\"color\":\"green\",\"width\":3},\"mode\":\"lines+markers\",\"name\":\"All\",\"visible\":false,\"x\":{\"dtype\":\"f8\",\"bdata\":\"ZmZmZmZmDkAzMzMzMzMPQAAAAAAAABBAZmZmZmZmEEDNzMzMzMwQQDMzMzMzMxFAmpmZmZmZEUAAAAAAAAASQGZmZmZmZhJAzczMzMzMEkAzMzMzMzMTQJqZmZmZmRNAAAAAAAAAFEBmZmZmZmYUQM3MzMzMzBRAMzMzMzMzFUCamZmZmZkVQAAAAAAAABZAZmZmZmZmFkDNzMzMzMwWQDMzMzMzMxdAmpmZmZmZF0AAAAAAAAAYQGZmZmZmZhhAzczMzMzMGEAzMzMzMzMZQJqZmZmZmRlAAAAAAAAAGkBmZmZmZmYaQM3MzMzMzBpAMzMzMzMzG0CamZmZmZkbQAAAAAAAABxAZmZmZmZmHEDNzMzMzMwcQDMzMzMzMx1AmpmZmZmZHUAAAAAAAAAeQGZmZmZmZh5AzczMzMzMHkAzMzMzMzMfQJqZmZmZmR9AAAAAAAAAIEAzMzMzMzMgQGZmZmZmZiBAmpmZmZmZIEDNzMzMzMwgQAAAAAAAACFAMzMzMzMzIUBmZmZmZmYhQJqZmZmZmSFAzczMzMzMIUAAAAAAAAAiQDMzMzMzMyJAZmZmZmZmIkCamZmZmZkiQM3MzMzMzCJAAAAAAAAAI0AzMzMzMzMjQA==\"},\"y\":{\"dtype\":\"f8\",\"bdata\":\"AAAAAAAAFEAAAAAAAAAUQAAAAAAAABRAAAAAAAAAFkAAAAAAAAAWQAAAAAAAABZAAAAAAAAAFkAAAAAAAAAUQKuqqqqqqhZAq6qqqqqqFkAAAAAAAAAWQGZmZmZmZhZASZIkSZIkFUBJkiRJkiQVQOzETuzEThRAuuiiiy66FEAlSZIkSZIUQImIiIiIiBRAVVVVVVVVFUA5juM4juMUQBaykIUsZBVAMQzDMAzDFEDHcRzHcRwVQKuqqqqqqhRAZmZmZmZmFEDYUF5DeQ0VQOLh4eHh4RVAAAAAAAAAGEAzMzMzMzMYQNejcD0K1xdAVVVVVVXVF0BJkiRJkiQXQFVVVVVVVRlAmpmZmZmZGkCSJEmSJEkbQCVJkiRJkhtAFDuxEzuxG0CuR+F6FK4bQAAAAAAAgBtAMzMzMzMzG0BmZmZmZmYcQAAAAAAAABxAHMdxHMdxHEAAAAAAAMAbQM3MzMzMzBxAiYiIiIiIHEC3bdu2bdscQDMzMzMzMx1AchzHcRzHHUCSJEmSJEkeQKuqqqqqqh5AZmZmZmZmHkCrqqqqqqoeQKuqqqqqqh5Aq6qqqqqqHkAAAAAAAAAgQAAAAAAAACBAAAAAAAAAIEAAAAAAAAAgQA==\"},\"type\":\"scatter\"}],                        {\"template\":{\"data\":{\"histogram2dcontour\":[{\"type\":\"histogram2dcontour\",\"colorbar\":{\"outlinewidth\":0,\"ticks\":\"\"},\"colorscale\":[[0.0,\"#0d0887\"],[0.1111111111111111,\"#46039f\"],[0.2222222222222222,\"#7201a8\"],[0.3333333333333333,\"#9c179e\"],[0.4444444444444444,\"#bd3786\"],[0.5555555555555556,\"#d8576b\"],[0.6666666666666666,\"#ed7953\"],[0.7777777777777778,\"#fb9f3a\"],[0.8888888888888888,\"#fdca26\"],[1.0,\"#f0f921\"]]}],\"choropleth\":[{\"type\":\"choropleth\",\"colorbar\":{\"outlinewidth\":0,\"ticks\":\"\"}}],\"histogram2d\":[{\"type\":\"histogram2d\",\"colorbar\":{\"outlinewidth\":0,\"ticks\":\"\"},\"colorscale\":[[0.0,\"#0d0887\"],[0.1111111111111111,\"#46039f\"],[0.2222222222222222,\"#7201a8\"],[0.3333333333333333,\"#9c179e\"],[0.4444444444444444,\"#bd3786\"],[0.5555555555555556,\"#d8576b\"],[0.6666666666666666,\"#ed7953\"],[0.7777777777777778,\"#fb9f3a\"],[0.8888888888888888,\"#fdca26\"],[1.0,\"#f0f921\"]]}],\"heatmap\":[{\"type\":\"heatmap\",\"colorbar\":{\"outlinewidth\":0,\"ticks\":\"\"},\"colorscale\":[[0.0,\"#0d0887\"],[0.1111111111111111,\"#46039f\"],[0.2222222222222222,\"#7201a8\"],[0.3333333333333333,\"#9c179e\"],[0.4444444444444444,\"#bd3786\"],[0.5555555555555556,\"#d8576b\"],[0.6666666666666666,\"#ed7953\"],[0.7777777777777778,\"#fb9f3a\"],[0.8888888888888888,\"#fdca26\"],[1.0,\"#f0f921\"]]}],\"contourcarpet\":[{\"type\":\"contourcarpet\",\"colorbar\":{\"outlinewidth\":0,\"ticks\":\"\"}}],\"contour\":[{\"type\":\"contour\",\"colorbar\":{\"outlinewidth\":0,\"ticks\":\"\"},\"colorscale\":[[0.0,\"#0d0887\"],[0.1111111111111111,\"#46039f\"],[0.2222222222222222,\"#7201a8\"],[0.3333333333333333,\"#9c179e\"],[0.4444444444444444,\"#bd3786\"],[0.5555555555555556,\"#d8576b\"],[0.6666666666666666,\"#ed7953\"],[0.7777777777777778,\"#fb9f3a\"],[0.8888888888888888,\"#fdca26\"],[1.0,\"#f0f921\"]]}],\"surface\":[{\"type\":\"surface\",\"colorbar\":{\"outlinewidth\":0,\"ticks\":\"\"},\"colorscale\":[[0.0,\"#0d0887\"],[0.1111111111111111,\"#46039f\"],[0.2222222222222222,\"#7201a8\"],[0.3333333333333333,\"#9c179e\"],[0.4444444444444444,\"#bd3786\"],[0.5555555555555556,\"#d8576b\"],[0.6666666666666666,\"#ed7953\"],[0.7777777777777778,\"#fb9f3a\"],[0.8888888888888888,\"#fdca26\"],[1.0,\"#f0f921\"]]}],\"mesh3d\":[{\"type\":\"mesh3d\",\"colorbar\":{\"outlinewidth\":0,\"ticks\":\"\"}}],\"scatter\":[{\"fillpattern\":{\"fillmode\":\"overlay\",\"size\":10,\"solidity\":0.2},\"type\":\"scatter\"}],\"parcoords\":[{\"type\":\"parcoords\",\"line\":{\"colorbar\":{\"outlinewidth\":0,\"ticks\":\"\"}}}],\"scatterpolargl\":[{\"type\":\"scatterpolargl\",\"marker\":{\"colorbar\":{\"outlinewidth\":0,\"ticks\":\"\"}}}],\"bar\":[{\"error_x\":{\"color\":\"#2a3f5f\"},\"error_y\":{\"color\":\"#2a3f5f\"},\"marker\":{\"line\":{\"color\":\"#E5ECF6\",\"width\":0.5},\"pattern\":{\"fillmode\":\"overlay\",\"size\":10,\"solidity\":0.2}},\"type\":\"bar\"}],\"scattergeo\":[{\"type\":\"scattergeo\",\"marker\":{\"colorbar\":{\"outlinewidth\":0,\"ticks\":\"\"}}}],\"scatterpolar\":[{\"type\":\"scatterpolar\",\"marker\":{\"colorbar\":{\"outlinewidth\":0,\"ticks\":\"\"}}}],\"histogram\":[{\"marker\":{\"pattern\":{\"fillmode\":\"overlay\",\"size\":10,\"solidity\":0.2}},\"type\":\"histogram\"}],\"scattergl\":[{\"type\":\"scattergl\",\"marker\":{\"colorbar\":{\"outlinewidth\":0,\"ticks\":\"\"}}}],\"scatter3d\":[{\"type\":\"scatter3d\",\"line\":{\"colorbar\":{\"outlinewidth\":0,\"ticks\":\"\"}},\"marker\":{\"colorbar\":{\"outlinewidth\":0,\"ticks\":\"\"}}}],\"scattermap\":[{\"type\":\"scattermap\",\"marker\":{\"colorbar\":{\"outlinewidth\":0,\"ticks\":\"\"}}}],\"scattermapbox\":[{\"type\":\"scattermapbox\",\"marker\":{\"colorbar\":{\"outlinewidth\":0,\"ticks\":\"\"}}}],\"scatterternary\":[{\"type\":\"scatterternary\",\"marker\":{\"colorbar\":{\"outlinewidth\":0,\"ticks\":\"\"}}}],\"scattercarpet\":[{\"type\":\"scattercarpet\",\"marker\":{\"colorbar\":{\"outlinewidth\":0,\"ticks\":\"\"}}}],\"carpet\":[{\"aaxis\":{\"endlinecolor\":\"#2a3f5f\",\"gridcolor\":\"white\",\"linecolor\":\"white\",\"minorgridcolor\":\"white\",\"startlinecolor\":\"#2a3f5f\"},\"baxis\":{\"endlinecolor\":\"#2a3f5f\",\"gridcolor\":\"white\",\"linecolor\":\"white\",\"minorgridcolor\":\"white\",\"startlinecolor\":\"#2a3f5f\"},\"type\":\"carpet\"}],\"table\":[{\"cells\":{\"fill\":{\"color\":\"#EBF0F8\"},\"line\":{\"color\":\"white\"}},\"header\":{\"fill\":{\"color\":\"#C8D4E3\"},\"line\":{\"color\":\"white\"}},\"type\":\"table\"}],\"barpolar\":[{\"marker\":{\"line\":{\"color\":\"#E5ECF6\",\"width\":0.5},\"pattern\":{\"fillmode\":\"overlay\",\"size\":10,\"solidity\":0.2}},\"type\":\"barpolar\"}],\"pie\":[{\"automargin\":true,\"type\":\"pie\"}]},\"layout\":{\"autotypenumbers\":\"strict\",\"colorway\":[\"#636efa\",\"#EF553B\",\"#00cc96\",\"#ab63fa\",\"#FFA15A\",\"#19d3f3\",\"#FF6692\",\"#B6E880\",\"#FF97FF\",\"#FECB52\"],\"font\":{\"color\":\"#2a3f5f\"},\"hovermode\":\"closest\",\"hoverlabel\":{\"align\":\"left\"},\"paper_bgcolor\":\"white\",\"plot_bgcolor\":\"#E5ECF6\",\"polar\":{\"bgcolor\":\"#E5ECF6\",\"angularaxis\":{\"gridcolor\":\"white\",\"linecolor\":\"white\",\"ticks\":\"\"},\"radialaxis\":{\"gridcolor\":\"white\",\"linecolor\":\"white\",\"ticks\":\"\"}},\"ternary\":{\"bgcolor\":\"#E5ECF6\",\"aaxis\":{\"gridcolor\":\"white\",\"linecolor\":\"white\",\"ticks\":\"\"},\"baxis\":{\"gridcolor\":\"white\",\"linecolor\":\"white\",\"ticks\":\"\"},\"caxis\":{\"gridcolor\":\"white\",\"linecolor\":\"white\",\"ticks\":\"\"}},\"coloraxis\":{\"colorbar\":{\"outlinewidth\":0,\"ticks\":\"\"}},\"colorscale\":{\"sequential\":[[0.0,\"#0d0887\"],[0.1111111111111111,\"#46039f\"],[0.2222222222222222,\"#7201a8\"],[0.3333333333333333,\"#9c179e\"],[0.4444444444444444,\"#bd3786\"],[0.5555555555555556,\"#d8576b\"],[0.6666666666666666,\"#ed7953\"],[0.7777777777777778,\"#fb9f3a\"],[0.8888888888888888,\"#fdca26\"],[1.0,\"#f0f921\"]],\"sequentialminus\":[[0.0,\"#0d0887\"],[0.1111111111111111,\"#46039f\"],[0.2222222222222222,\"#7201a8\"],[0.3333333333333333,\"#9c179e\"],[0.4444444444444444,\"#bd3786\"],[0.5555555555555556,\"#d8576b\"],[0.6666666666666666,\"#ed7953\"],[0.7777777777777778,\"#fb9f3a\"],[0.8888888888888888,\"#fdca26\"],[1.0,\"#f0f921\"]],\"diverging\":[[0,\"#8e0152\"],[0.1,\"#c51b7d\"],[0.2,\"#de77ae\"],[0.3,\"#f1b6da\"],[0.4,\"#fde0ef\"],[0.5,\"#f7f7f7\"],[0.6,\"#e6f5d0\"],[0.7,\"#b8e186\"],[0.8,\"#7fbc41\"],[0.9,\"#4d9221\"],[1,\"#276419\"]]},\"xaxis\":{\"gridcolor\":\"white\",\"linecolor\":\"white\",\"ticks\":\"\",\"title\":{\"standoff\":15},\"zerolinecolor\":\"white\",\"automargin\":true,\"zerolinewidth\":2},\"yaxis\":{\"gridcolor\":\"white\",\"linecolor\":\"white\",\"ticks\":\"\",\"title\":{\"standoff\":15},\"zerolinecolor\":\"white\",\"automargin\":true,\"zerolinewidth\":2},\"scene\":{\"xaxis\":{\"backgroundcolor\":\"#E5ECF6\",\"gridcolor\":\"white\",\"linecolor\":\"white\",\"showbackground\":true,\"ticks\":\"\",\"zerolinecolor\":\"white\",\"gridwidth\":2},\"yaxis\":{\"backgroundcolor\":\"#E5ECF6\",\"gridcolor\":\"white\",\"linecolor\":\"white\",\"showbackground\":true,\"ticks\":\"\",\"zerolinecolor\":\"white\",\"gridwidth\":2},\"zaxis\":{\"backgroundcolor\":\"#E5ECF6\",\"gridcolor\":\"white\",\"linecolor\":\"white\",\"showbackground\":true,\"ticks\":\"\",\"zerolinecolor\":\"white\",\"gridwidth\":2}},\"shapedefaults\":{\"line\":{\"color\":\"#2a3f5f\"}},\"annotationdefaults\":{\"arrowcolor\":\"#2a3f5f\",\"arrowhead\":0,\"arrowwidth\":1},\"geo\":{\"bgcolor\":\"white\",\"landcolor\":\"#E5ECF6\",\"subunitcolor\":\"white\",\"showland\":true,\"showlakes\":true,\"lakecolor\":\"white\"},\"title\":{\"x\":0.05},\"mapbox\":{\"style\":\"light\"}}},\"title\":{\"text\":\"Gemiddelde mentale gezondheid per slaapduur (mannen)\"},\"xaxis\":{\"title\":{\"text\":\"Aantal uren slaap per nacht\"},\"range\":[3,10],\"dtick\":1,\"fixedrange\":true},\"yaxis\":{\"title\":{\"text\":\"Gemiddelde mentale gezondheidsscore\"},\"range\":[3,10],\"dtick\":1,\"fixedrange\":true},\"updatemenus\":[{\"active\":0,\"buttons\":[{\"args\":[{\"visible\":[true,false,false]},{\"title\":{\"text\":\"Gemiddelde mentale gezondheid per slaapduur (mannen)\"}}],\"label\":\"Man\",\"method\":\"update\"},{\"args\":[{\"visible\":[false,true,false]},{\"title\":{\"text\":\"Gemiddelde mentale gezondheid per slaapduur (vrouwen)\"}}],\"label\":\"Vrouw\",\"method\":\"update\"},{\"args\":[{\"visible\":[false,false,true]},{\"title\":{\"text\":\"Gemiddelde mentale gezondheid per slaapduur (alle studenten)\"}}],\"label\":\"Iedereen\",\"method\":\"update\"},{\"args\":[{\"visible\":[true,true,true]},{\"title\":{\"text\":\"Gemiddelde mentale gezondheid per slaapduur (alle groepen)\"}}],\"label\":\"Allemaal\",\"method\":\"update\"}],\"direction\":\"down\",\"showactive\":true,\"x\":0.01,\"xanchor\":\"left\",\"y\":1.15,\"yanchor\":\"top\"}]},                        {\"responsive\": true}                    ).then(function(){\n",
       "                            \n",
       "var gd = document.getElementById('ba184dd0-2969-49d7-8f07-c6f5b86c8ad9');\n",
       "var x = new MutationObserver(function (mutations, observer) {{\n",
       "        var display = window.getComputedStyle(gd).display;\n",
       "        if (!display || display === 'none') {{\n",
       "            console.log([gd, 'removed!']);\n",
       "            Plotly.purge(gd);\n",
       "            observer.disconnect();\n",
       "        }}\n",
       "}});\n",
       "\n",
       "// Listen for the removal of the full notebook cells\n",
       "var notebookContainer = gd.closest('#notebook-container');\n",
       "if (notebookContainer) {{\n",
       "    x.observe(notebookContainer, {childList: true});\n",
       "}}\n",
       "\n",
       "// Listen for the clearing of the current output cell\n",
       "var outputEl = gd.closest('.output');\n",
       "if (outputEl) {{\n",
       "    x.observe(outputEl, {childList: true});\n",
       "}}\n",
       "\n",
       "                        })                };            </script>        </div>"
      ]
     },
     "metadata": {},
     "output_type": "display_data"
    }
   ],
   "source": [
    "import pandas as pd\n",
    "import numpy as np\n",
    "import plotly.graph_objects as go\n",
    "import os\n",
    "import kagglehub\n",
    "from plotly.offline import init_notebook_mode\n",
    "init_notebook_mode(connected=True)\n",
    "\n",
    "# Dataset ophalen\n",
    "path = kagglehub.dataset_download(\"adilshamim8/social-media-addiction-vs-relationships\")\n",
    "csv_path = os.path.join(path, \"Students Social Media Addiction.csv\")\n",
    "df = pd.read_csv(csv_path)\n",
    "\n",
    "# Filter op leeftijd en geldige waarden\n",
    "df_filtered = df[(df['Age'] >= 18) & (df['Age'] <= 25)]\n",
    "df_filtered = df_filtered.dropna(subset=[\"Mental_Health_Score\", \"Sleep_Hours_Per_Night\", \"Gender\"])\n",
    "\n",
    "# Kleuren\n",
    "colors = {\"Male\": \"blue\", \"Female\": \"deeppink\", \"All\": \"green\"}\n",
    "\n",
    "# Functie om groepsgemiddelde lijntrace te maken\n",
    "def get_line_trace(gender=None):\n",
    "    if gender:\n",
    "        d = df_filtered[df_filtered[\"Gender\"] == gender]\n",
    "        label = gender\n",
    "    else:\n",
    "        d = df_filtered\n",
    "        label = \"All\"\n",
    "\n",
    "    df_avg = d.groupby(\"Sleep_Hours_Per_Night\")[\"Mental_Health_Score\"].mean().reset_index()\n",
    "\n",
    "    return go.Scatter(\n",
    "        x=df_avg[\"Sleep_Hours_Per_Night\"],\n",
    "        y=df_avg[\"Mental_Health_Score\"],\n",
    "        mode='lines+markers',\n",
    "        name=label,\n",
    "        line=dict(color=colors[label], width=3),\n",
    "        visible=True if label == \"Male\" else False  # standaard alleen Male tonen\n",
    "    )\n",
    "\n",
    "# Genereer traces\n",
    "male_line = get_line_trace(\"Male\")\n",
    "female_line = get_line_trace(\"Female\")\n",
    "all_line = get_line_trace(None)\n",
    "\n",
    "# Dropdown-menu (met correcte title.text)\n",
    "buttons = [\n",
    "    dict(label=\"Man\",\n",
    "         method=\"update\",\n",
    "         args=[{\"visible\": [True, False, False]},\n",
    "               {\"title\": {\"text\": \"Gemiddelde mentale gezondheid per slaapduur (mannen)\"}}]),\n",
    "    dict(label=\"Vrouw\",\n",
    "         method=\"update\",\n",
    "         args=[{\"visible\": [False, True, False]},\n",
    "               {\"title\": {\"text\": \"Gemiddelde mentale gezondheid per slaapduur (vrouwen)\"}}]),\n",
    "    dict(label=\"Iedereen\",\n",
    "         method=\"update\",\n",
    "         args=[{\"visible\": [False, False, True]},\n",
    "               {\"title\": {\"text\": \"Gemiddelde mentale gezondheid per slaapduur (alle studenten)\"}}]),\n",
    "    dict(label=\"Allemaal\",\n",
    "         method=\"update\",\n",
    "         args=[{\"visible\": [True, True, True]},\n",
    "               {\"title\": {\"text\": \"Gemiddelde mentale gezondheid per slaapduur (alle groepen)\"}}])\n",
    "]\n",
    "\n",
    "# Plot figuur\n",
    "fig = go.Figure(data=[male_line, female_line, all_line])\n",
    "\n",
    "fig.update_layout(\n",
    "    title={\"text\": \"Gemiddelde mentale gezondheid per slaapduur (mannen)\"},\n",
    "    xaxis=dict(\n",
    "        title=\"Aantal uren slaap per nacht\",\n",
    "        range=[3, 10], \n",
    "        dtick=1,\n",
    "        fixedrange=True\n",
    "    ),\n",
    "    yaxis=dict(\n",
    "        title=\"Gemiddelde mentale gezondheidsscore\",\n",
    "        range=[3, 10],      \n",
    "        dtick=1,\n",
    "        fixedrange=True\n",
    "    ),\n",
    "    updatemenus=[dict(\n",
    "        active=0,\n",
    "        buttons=buttons,\n",
    "        direction=\"down\",\n",
    "        showactive=True,\n",
    "        x=0.01,             # links in beeld\n",
    "        xanchor=\"left\",\n",
    "        y=1.15,             # boven de plot\n",
    "        yanchor=\"top\"\n",
    "    )]\n",
    ")\n",
    "\n",
    "fig.show()\n",
    "\n",
    "\n"
   ]
  },
  {
   "cell_type": "markdown",
   "id": "7427dfb1",
   "metadata": {},
   "source": [
    "> *Figuur 4: De correlatie tussen de hoeveelheid slaap uren per nacht en de mentale gezondheid van mannen en vrouwen.*"
   ]
  },
  {
   "cell_type": "markdown",
   "id": "9f220561",
   "metadata": {},
   "source": [
    "Figuur 4 toont het verband tussen het aantal uren slaap per nacht (x-as) en de mentale gezondheidsscore van studenten (y-as). Voor zowel mannelijke als vrouwelijke studenten is een duidelijke positieve trend zichtbaar in de regressielijn: de mentale gezondheidsscore neemt toe naarmate studenten meer slapen. Dit wijst erop dat voldoende slaap een beschermende factor vormt voor het mentale welzijn van studenten. Het patroon ondersteunt het idee dat slaaptekort nadelige effecten heeft op de geestelijke gezondheid, terwijl een gezond slaappatroon juist bijdraagt aan psychisch herstel en emotioneel evenwicht.\n",
    "\n"
   ]
  }
 ],
 "metadata": {
  "kernelspec": {
   "display_name": "jupyterbook",
   "language": "python",
   "name": "python3"
  },
  "language_info": {
   "codemirror_mode": {
    "name": "ipython",
    "version": 3
   },
   "file_extension": ".py",
   "mimetype": "text/x-python",
   "name": "python",
   "nbconvert_exporter": "python",
   "pygments_lexer": "ipython3",
   "version": "3.11.7"
  }
 },
 "nbformat": 4,
 "nbformat_minor": 5
}