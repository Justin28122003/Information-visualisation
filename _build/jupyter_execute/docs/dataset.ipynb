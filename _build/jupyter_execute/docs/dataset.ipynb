{
 "cells": [
  {
   "cell_type": "markdown",
   "id": "8d0719af",
   "metadata": {},
   "source": [
    "# Dataset\n"
   ]
  },
  {
   "cell_type": "markdown",
   "id": "3c3abc91",
   "metadata": {},
   "source": [
    "## Referenties\n",
    "\n",
    "\n",
    "Ergün, N., Özkan, Z., & Griffiths, M. D. (2023). Social Media Addiction and Poor Mental Health: Examining the mediating roles of internet addiction and phubbing. Psychological Reports. https://doi.org/10.1177/00332941231166609 \n",
    "\n",
    "Global Burden of Disease (GBD). (n.d.). Institute for Health Metrics and Evaluation. https://www.healthdata.org/research-analysis/gbd\n",
    "\n",
    "Huang, C. (2017). Time spent on social network sites and Psychological Well-Being: A Meta-Analysis. Cyberpsychology Behavior and Social Networking, 20(6), 346–354. https://doi.org/10.1089/cyber.2016.0758\n",
    "\n",
    "NOS Nieuws & NOS Nieuws. (2025, June 16). Kabinet: geen sociale media onder 15 jaar, smartphone vanaf groep 8. NOS. https://nos.nl/artikel/2571382-kabinet-geen-sociale-media-onder-15-jaar-smartphone-vanaf-groep-8"
   ]
  }
 ],
 "metadata": {
  "language_info": {
   "codemirror_mode": {
    "name": "ipython",
    "version": 3
   },
   "file_extension": ".py",
   "mimetype": "text/x-python",
   "name": "python",
   "nbconvert_exporter": "python",
   "pygments_lexer": "ipython3",
   "version": "3.10.16"
  }
 },
 "nbformat": 4,
 "nbformat_minor": 5
}