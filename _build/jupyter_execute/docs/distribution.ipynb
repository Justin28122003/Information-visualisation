{
 "cells": [
  {
   "cell_type": "markdown",
   "id": "b6219ae1",
   "metadata": {},
   "source": [
    "# Distribution\n",
    "\n"
   ]
  },
  {
   "cell_type": "markdown",
   "id": "7244c5a8",
   "metadata": {},
   "source": [
    "Hier komt per naam te staan wat ze allemaal hebben uitgevoerd"
   ]
  }
 ],
 "metadata": {
  "language_info": {
   "codemirror_mode": {
    "name": "ipython",
    "version": 3
   },
   "file_extension": ".py",
   "mimetype": "text/x-python",
   "name": "python",
   "nbconvert_exporter": "python",
   "pygments_lexer": "ipython3",
   "version": "3.10.16"
  }
 },
 "nbformat": 4,
 "nbformat_minor": 5
}