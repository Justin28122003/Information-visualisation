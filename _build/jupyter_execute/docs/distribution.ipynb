{
 "cells": [
  {
   "cell_type": "markdown",
   "id": "b6219ae1",
   "metadata": {},
   "source": [
    "# Distribution\n",
    "\n"
   ]
  },
  {
   "cell_type": "markdown",
   "id": "7244c5a8",
   "metadata": {},
   "source": [
    "Tijdens dit project hebben we vooral contact gehouden via WhatsApp. De meeste teamleden woonden niet in de buurt van Amsterdam, en daarom hebben we het grootste deel van de tijd op afstand samengewerkt. Wanneer we beschikbaar waren op Science Park, bespraken we onze uitdagingen direct met elkaar. Door de stakingen bij de Nederlandse Spoorwegen in de weken waarin het project plaatsvond, hebben we elkaar echter minder vaak fysiek kunnen ontmoeten dan we hadden gewild. Daarom was een duidelijke taakverdeling nodig, zodat iedereen wist wat er van hen werd verwacht en er geen onnodig werk werd verricht.\n",
    "\n",
    "### Justin\n",
    "Tijdens het project hield Justin vooral het overzicht. Hij is begonnen met het opzetten van de repository en het beheren van de verschillende branches, zodat er niets mis kon gaan en er geen data verloren zou raken. Daarnaast heeft hij gezocht naar geschikte datasets en daarmee belangrijk voorwerk verricht voor de rest van het team. Justin beheerde ook de website en zorgde ervoor dat alles daar correct en soepel functioneerde. Tot slot heeft hij bij alle teksten de puntjes op de i gezet en iedereen ondersteund waar nodig.\n",
    "\n",
    "### Douwe\n",
    "Douwe hield zich vooral bezig met de grotere dataset en de visualisaties binnen het onderzoek. Aan de complexe grafieken heeft hij intensief gewerkt, zodat deze niet alleen lokaal maar ook op afstand goed functioneerden. Daarnaast heeft hij bronnen verzameld ter onderbouwing van de visuele data. Op basis van die bronnen schreef Douwe ook een aanzienlijk deel van de tekst die het onderzoek theoretisch onderbouwt.\n",
    "\n",
    "### Noor\n",
    "Noor heeft zich veel beziggehouden met de verwerking van de datasets. Door meerdere visualisaties te maken en die aan de rest van het team te presenteren, heeft zij een belangrijke bijdrage geleverd aan het opzetten van de argumentatie. Dit was essentieel om ook de tekstuele onderbouwing van het onderzoek te starten. Tijdens het project hield zij intensief contact met de groep en ondersteunde zij anderen waar nodig. Daarnaast zorgde Noor ervoor dat het document overzichtelijk bleef en dat ieders bijdrage goed georganiseerd werd bijgehouden."
   ]
  }
 ],
 "metadata": {
  "language_info": {
   "codemirror_mode": {
    "name": "ipython",
    "version": 3
   },
   "file_extension": ".py",
   "mimetype": "text/x-python",
   "name": "python",
   "nbconvert_exporter": "python",
   "pygments_lexer": "ipython3",
   "version": "3.11.7"
  }
 },
 "nbformat": 4,
 "nbformat_minor": 5
}