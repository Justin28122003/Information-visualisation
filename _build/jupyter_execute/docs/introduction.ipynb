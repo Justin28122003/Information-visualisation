{
 "cells": [
  {
   "cell_type": "markdown",
   "id": "998aedbc",
   "metadata": {},
   "source": [
    "# Introduction"
   ]
  },
  {
   "cell_type": "markdown",
   "id": "99c2e38d",
   "metadata": {},
   "source": [
    "- Douwe Maljers (15264424)\n",
    "- Justin van Egmond (15011178)\n",
    "- Noor Verbrugge (15168298)"
   ]
  },
  {
   "cell_type": "markdown",
   "id": "317435ef",
   "metadata": {},
   "source": [
    "Mentale gezondheid onder studenten is de afgelopen jaren een groeiend maatschappelijk thema geworden. De combinatie van allemaal verschillende omstandigheden, zoals prestatiedruk, sociale verwachtingen en onzekerheid over de toekomst maakt deze groep bijzonder kwetsbaar. In deze data-analyse richten we ons op het identificeren van factoren die samenhangen met mentale gezondheid, met als doel het onthullen van mogelijke risico’s en beschermende factoren binnen het studentenleven.\n",
    "\n",
    "Op basis van enquêtegegevens van studenten wereldwijd, verkennen we de verbanden tussen mentale gezondheid en verschillende leefomstandigheden, gedragingen en gevoelens. Daarbij kijken we naar zowel interne als externe factoren die het welzijn kunnen beïnvloeden. De persectieven waaruit wij naar de mentale gezondheid gaan kijken zijn, social media gebruik, slaap, sport gewoonten ....\n",
    "\n",
    "Wereldwijd is de populatie met mentale stoornissen significant gestegen. In de grafiek boven is per land de trend te zien. Vandaar dat dit onderzoek nog meer van belang is. Vrouwen en mannen zijn beide slachtoffer van deze chronische ziekte. \n",
    "\n",
    "In dit onderzoek worden meerdere standpunten onderbouwd aan de hand van data visualisaties, specifiek gericht op de invloeden op metale gezondheid onder studenten. Dit wordt gedaan met behulp van verschillende datasets van diverse groepen studenten. Tevens wordt een dataset van het Institute for Health Metrics and Evaluation gebruikt om de grootschaligheid van het wereldwijde probleem van mentale stoornissen en verminderde mentale gesteldheid in kaart te brengen."
   ]
  },
  {
   "cell_type": "code",
   "execution_count": 1,
   "id": "47a30911",
   "metadata": {
    "tags": [
     "hide-input"
    ]
   },
   "outputs": [
    {
     "ename": "ModuleNotFoundError",
     "evalue": "No module named 'pycountry'",
     "output_type": "error",
     "traceback": [
      "\u001b[0;31m---------------------------------------------------------------------------\u001b[0m",
      "\u001b[0;31mModuleNotFoundError\u001b[0m                       Traceback (most recent call last)",
      "Cell \u001b[0;32mIn[1], line 3\u001b[0m\n\u001b[1;32m      1\u001b[0m \u001b[38;5;28;01mimport\u001b[39;00m \u001b[38;5;21;01mpandas\u001b[39;00m \u001b[38;5;28;01mas\u001b[39;00m \u001b[38;5;21;01mpd\u001b[39;00m\n\u001b[1;32m      2\u001b[0m \u001b[38;5;28;01mimport\u001b[39;00m \u001b[38;5;21;01mplotly\u001b[39;00m\u001b[38;5;21;01m.\u001b[39;00m\u001b[38;5;21;01mgraph_objects\u001b[39;00m \u001b[38;5;28;01mas\u001b[39;00m \u001b[38;5;21;01mgo\u001b[39;00m\n\u001b[0;32m----> 3\u001b[0m \u001b[38;5;28;01mimport\u001b[39;00m \u001b[38;5;21;01mpycountry\u001b[39;00m\n\u001b[1;32m      5\u001b[0m \u001b[38;5;66;03m# === Gegevens inladen ===\u001b[39;00m\n\u001b[1;32m      6\u001b[0m pad_csv \u001b[38;5;241m=\u001b[39m \u001b[38;5;124m\"\u001b[39m\u001b[38;5;124mdatasets/IHME_mental_real.csv\u001b[39m\u001b[38;5;124m\"\u001b[39m\n",
      "\u001b[0;31mModuleNotFoundError\u001b[0m: No module named 'pycountry'"
     ]
    }
   ],
   "source": [
    "import pandas as pd\n",
    "import plotly.graph_objects as go\n",
    "import pycountry\n",
    "\n",
    "# === Gegevens inladen ===\n",
    "pad_csv = \"datasets/IHME_mental_real.csv\"\n",
    "gegevens = pd.read_csv(pad_csv)\n",
    "\n",
    "# === Landen omzetten naar ISO3-codes ===\n",
    "def naar_iso3(naam):\n",
    "    try:\n",
    "        return pycountry.countries.lookup(naam).alpha_3\n",
    "    except LookupError:\n",
    "        return None\n",
    "\n",
    "gegevens[\"landcode\"] = gegevens[\"location\"].apply(naar_iso3)\n",
    "\n",
    "# === Waarden als percentages weergeven ===\n",
    "gegevens[\"percentage\"] = gegevens[\"val\"]\n",
    "gegevens.loc[gegevens[\"metric\"] == \"Percent\", \"percentage\"] *= 100\n",
    "gegevens.loc[gegevens[\"metric\"] == \"Rate\", \"percentage\"] *= 100\n",
    "\n",
    "# === Parameters ===\n",
    "geslachten = [\"Both\", \"Female\", \"Male\"]\n",
    "jaren = sorted(gegevens[\"year\"].unique())\n",
    "min_waarde = 0\n",
    "max_waarde = gegevens[\"percentage\"].max()\n",
    "\n",
    "# === Kaartlagen aanmaken voor alle combinaties van geslacht en jaar ===\n",
    "kaartlagen = []\n",
    "zichtbaarheid = {}\n",
    "for geslacht in geslachten:\n",
    "    for jaar in jaren:\n",
    "        sleutel = f\"{geslacht}_{jaar}\"\n",
    "        selectie = gegevens[(gegevens[\"sex\"] == geslacht) & (gegevens[\"year\"] == jaar)]\n",
    "        trace = go.Choropleth(\n",
    "            locations=selectie[\"landcode\"],\n",
    "            z=selectie[\"percentage\"],\n",
    "            text=selectie[\"location\"],\n",
    "            colorscale=\"Reds\",\n",
    "            zmin=min_waarde,\n",
    "            zmax=max_waarde,\n",
    "            colorbar_title=\"Prevalentie (%)\",\n",
    "            visible=False,\n",
    "            name=sleutel,\n",
    "        )\n",
    "        kaartlagen.append(trace)\n",
    "        zichtbaarheid[sleutel] = len(kaartlagen) - 1\n",
    "\n",
    "# === Startinstellingen ===\n",
    "start_geslacht = \"Both\"\n",
    "start_jaar = jaren[0]\n",
    "start_sleutel = f\"{start_geslacht}_{start_jaar}\"\n",
    "kaartlagen[zichtbaarheid[start_sleutel]].visible = True\n",
    "\n",
    "# === Dropdownmenu voor geslacht (labels in het Nederlands) ===\n",
    "keuzemenu_knoppen = []\n",
    "for geslacht in geslachten:\n",
    "    label_nl = {\n",
    "        \"Both\": \"Beide\",\n",
    "        \"Female\": \"Vrouw\",\n",
    "        \"Male\": \"Man\"\n",
    "    }[geslacht]\n",
    "    \n",
    "    knop = dict(\n",
    "        label=label_nl,\n",
    "        method=\"update\",\n",
    "        args=[\n",
    "            {\"visible\": [False] * len(kaartlagen)},\n",
    "            {\"title\": f\"Mentale stoornissen – {label_nl}\"},\n",
    "        ],\n",
    "    )\n",
    "    for jaar in jaren:\n",
    "        sleutel = f\"{geslacht}_{jaar}\"\n",
    "        index = zichtbaarheid.get(sleutel)\n",
    "        if jaar == start_jaar and index is not None:\n",
    "            knop[\"args\"][0][\"visible\"][index] = True\n",
    "    keuzemenu_knoppen.append(knop)\n",
    "\n",
    "# === Sliderstappen per jaar ===\n",
    "slider_stappen = []\n",
    "for jaar in jaren:\n",
    "    stap = dict(\n",
    "        method=\"update\",\n",
    "        args=[\n",
    "            {\"visible\": [False] * len(kaartlagen)},\n",
    "            {\"title\": f\"Mentale stoornissen – Beide\"},  # Defaulttitel blijft consistent\n",
    "        ],\n",
    "        label=str(jaar),\n",
    "    )\n",
    "    sleutel = f\"{start_geslacht}_{jaar}\"\n",
    "    index = zichtbaarheid.get(sleutel)\n",
    "    if index is not None:\n",
    "        stap[\"args\"][0][\"visible\"][index] = True\n",
    "    slider_stappen.append(stap)\n",
    "\n",
    "# === Figuur opbouwen ===\n",
    "figuur = go.Figure(\n",
    "    data=kaartlagen,\n",
    "    layout=go.Layout(\n",
    "        title_text=\"Mentale stoornissen – Beide\",\n",
    "        geo=dict(showframe=False, showcoastlines=True, projection_type=\"natural earth\"),\n",
    "        updatemenus=[\n",
    "            dict(\n",
    "                active=0,\n",
    "                buttons=keuzemenu_knoppen,\n",
    "                x=0.05,\n",
    "                y=1.12,\n",
    "                xanchor=\"left\",\n",
    "                yanchor=\"top\",\n",
    "            )\n",
    "        ],\n",
    "        sliders=[\n",
    "            dict(\n",
    "                active=0,\n",
    "                pad={\"t\": 50},\n",
    "                x=0.1,\n",
    "                len=0.8,\n",
    "                xanchor=\"left\",\n",
    "                yanchor=\"top\",\n",
    "                currentvalue={\"prefix\": \"Jaar: \", \"font\": {\"size\": 16}},\n",
    "                steps=slider_stappen,\n",
    "            )\n",
    "        ]\n",
    "    )\n",
    ")\n",
    "\n",
    "figuur.show()\n"
   ]
  },
  {
   "cell_type": "markdown",
   "id": "9e6502f8",
   "metadata": {},
   "source": [
    "> *Figure 1: Per geslacht het percentage mentale stoornissen wereldwijd*"
   ]
  }
 ],
 "metadata": {
  "kernelspec": {
   "display_name": "jupyterbook",
   "language": "python",
   "name": "python3"
  },
  "language_info": {
   "codemirror_mode": {
    "name": "ipython",
    "version": 3
   },
   "file_extension": ".py",
   "mimetype": "text/x-python",
   "name": "python",
   "nbconvert_exporter": "python",
   "pygments_lexer": "ipython3",
   "version": "3.11.7"
  }
 },
 "nbformat": 4,
 "nbformat_minor": 5
}