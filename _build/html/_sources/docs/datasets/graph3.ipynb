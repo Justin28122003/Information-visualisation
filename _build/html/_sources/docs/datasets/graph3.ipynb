{
 "cells": [
  {
   "cell_type": "code",
   "execution_count": 7,
   "id": "6f8465e6",
   "metadata": {},
   "outputs": [
    {
     "data": {
      "application/vnd.plotly.v1+json": {
       "config": {
        "plotlyServerURL": "https://plot.ly"
       },
       "data": [
        {
         "alignmentgroup": "True",
         "boxpoints": "all",
         "hovertemplate": "Activiteit=%{x}<br>anxiety=%{y}<extra></extra>",
         "legendgroup": "Religious Activities",
         "marker": {
          "color": "#636efa"
         },
         "name": "Religious Activities",
         "notched": false,
         "offsetgroup": "Religious Activities",
         "orientation": "v",
         "showlegend": true,
         "type": "box",
         "x": [
          "Religious Activities",
          "Religious Activities",
          "Religious Activities",
          "Religious Activities",
          "Religious Activities",
          "Religious Activities",
          "Religious Activities",
          "Religious Activities",
          "Religious Activities",
          "Religious Activities",
          "Religious Activities",
          "Religious Activities",
          "Religious Activities",
          "Religious Activities",
          "Religious Activities",
          "Religious Activities",
          "Religious Activities",
          "Religious Activities",
          "Religious Activities",
          "Religious Activities",
          "Religious Activities",
          "Religious Activities",
          "Religious Activities",
          "Religious Activities",
          "Religious Activities",
          "Religious Activities",
          "Religious Activities",
          "Religious Activities",
          "Religious Activities",
          "Religious Activities",
          "Religious Activities",
          "Religious Activities",
          "Religious Activities",
          "Religious Activities",
          "Religious Activities",
          "Religious Activities",
          "Religious Activities",
          "Religious Activities",
          "Religious Activities",
          "Religious Activities",
          "Religious Activities",
          "Religious Activities",
          "Religious Activities",
          "Religious Activities",
          "Religious Activities",
          "Religious Activities"
         ],
         "x0": " ",
         "xaxis": "x",
         "y": {
          "bdata": "AQMFAgQDAwQDAQIEBAUEAQMDAwMEAgMBAgUBAgMDAQECAgQEBQQCBAMBBQIFAg==",
          "dtype": "i1"
         },
         "y0": " ",
         "yaxis": "y"
        },
        {
         "alignmentgroup": "True",
         "boxpoints": "all",
         "hovertemplate": "Activiteit=%{x}<br>anxiety=%{y}<extra></extra>",
         "legendgroup": "Social Connections",
         "marker": {
          "color": "#EF553B"
         },
         "name": "Social Connections",
         "notched": false,
         "offsetgroup": "Social Connections",
         "orientation": "v",
         "showlegend": true,
         "type": "box",
         "x": [
          "Social Connections",
          "Social Connections",
          "Social Connections",
          "Social Connections",
          "Social Connections",
          "Social Connections",
          "Social Connections",
          "Social Connections",
          "Social Connections",
          "Social Connections",
          "Social Connections",
          "Social Connections",
          "Social Connections",
          "Social Connections",
          "Social Connections",
          "Social Connections",
          "Social Connections",
          "Social Connections",
          "Social Connections",
          "Social Connections",
          "Social Connections",
          "Social Connections",
          "Social Connections",
          "Social Connections",
          "Social Connections",
          "Social Connections",
          "Social Connections",
          "Social Connections",
          "Social Connections",
          "Social Connections",
          "Social Connections",
          "Social Connections",
          "Social Connections"
         ],
         "x0": " ",
         "xaxis": "x",
         "y": {
          "bdata": "AQUEAgQDAQIEAgQBAwMBBAIDBAEBAgQEBAQCBAEFAwIC",
          "dtype": "i1"
         },
         "y0": " ",
         "yaxis": "y"
        },
        {
         "alignmentgroup": "True",
         "boxpoints": "all",
         "hovertemplate": "Activiteit=%{x}<br>anxiety=%{y}<extra></extra>",
         "legendgroup": "Online Entertainment",
         "marker": {
          "color": "#00cc96"
         },
         "name": "Online Entertainment",
         "notched": false,
         "offsetgroup": "Online Entertainment",
         "orientation": "v",
         "showlegend": true,
         "type": "box",
         "x": [
          "Online Entertainment",
          "Online Entertainment",
          "Online Entertainment",
          "Online Entertainment",
          "Online Entertainment",
          "Online Entertainment",
          "Online Entertainment",
          "Online Entertainment",
          "Online Entertainment",
          "Online Entertainment",
          "Online Entertainment",
          "Online Entertainment",
          "Online Entertainment",
          "Online Entertainment",
          "Online Entertainment",
          "Online Entertainment",
          "Online Entertainment",
          "Online Entertainment",
          "Online Entertainment",
          "Online Entertainment",
          "Online Entertainment",
          "Online Entertainment",
          "Online Entertainment",
          "Online Entertainment",
          "Online Entertainment",
          "Online Entertainment",
          "Online Entertainment",
          "Online Entertainment",
          "Online Entertainment",
          "Online Entertainment",
          "Online Entertainment",
          "Online Entertainment",
          "Online Entertainment",
          "Online Entertainment",
          "Online Entertainment",
          "Online Entertainment",
          "Online Entertainment"
         ],
         "x0": " ",
         "xaxis": "x",
         "y": {
          "bdata": "AQMDBQUFBAIEAwMBBQEDBQQDAQQDAQIFAwIEAgQFAgUFBQQDAg==",
          "dtype": "i1"
         },
         "y0": " ",
         "yaxis": "y"
        },
        {
         "alignmentgroup": "True",
         "boxpoints": "all",
         "hovertemplate": "Activiteit=%{x}<br>anxiety=%{y}<extra></extra>",
         "legendgroup": "Sports and Fitness",
         "marker": {
          "color": "#ab63fa"
         },
         "name": "Sports and Fitness",
         "notched": false,
         "offsetgroup": "Sports and Fitness",
         "orientation": "v",
         "showlegend": true,
         "type": "box",
         "x": [
          "Sports and Fitness",
          "Sports and Fitness",
          "Sports and Fitness",
          "Sports and Fitness",
          "Sports and Fitness",
          "Sports and Fitness",
          "Sports and Fitness",
          "Sports and Fitness",
          "Sports and Fitness",
          "Sports and Fitness",
          "Sports and Fitness",
          "Sports and Fitness",
          "Sports and Fitness",
          "Sports and Fitness",
          "Sports and Fitness",
          "Sports and Fitness",
          "Sports and Fitness",
          "Sports and Fitness",
          "Sports and Fitness",
          "Sports and Fitness"
         ],
         "x0": " ",
         "xaxis": "x",
         "y": {
          "bdata": "AwUDBQEEAwMFBAMDAgQFBAMFAgI=",
          "dtype": "i1"
         },
         "y0": " ",
         "yaxis": "y"
        },
        {
         "alignmentgroup": "True",
         "boxpoints": "all",
         "hovertemplate": "Activiteit=%{x}<br>anxiety=%{y}<extra></extra>",
         "legendgroup": "Outdoor Activities",
         "marker": {
          "color": "#FFA15A"
         },
         "name": "Outdoor Activities",
         "notched": false,
         "offsetgroup": "Outdoor Activities",
         "orientation": "v",
         "showlegend": true,
         "type": "box",
         "x": [
          "Outdoor Activities",
          "Outdoor Activities",
          "Outdoor Activities",
          "Outdoor Activities",
          "Outdoor Activities",
          "Outdoor Activities",
          "Outdoor Activities",
          "Outdoor Activities",
          "Outdoor Activities",
          "Outdoor Activities",
          "Outdoor Activities",
          "Outdoor Activities",
          "Outdoor Activities",
          "Outdoor Activities",
          "Outdoor Activities",
          "Outdoor Activities",
          "Outdoor Activities",
          "Outdoor Activities",
          "Outdoor Activities"
         ],
         "x0": " ",
         "xaxis": "x",
         "y": {
          "bdata": "BAMEAQMEAwMCBAQDBAIEAQIDAg==",
          "dtype": "i1"
         },
         "y0": " ",
         "yaxis": "y"
        },
        {
         "alignmentgroup": "True",
         "boxpoints": "all",
         "hovertemplate": "Activiteit=%{x}<br>anxiety=%{y}<extra></extra>",
         "legendgroup": "Nothing",
         "marker": {
          "color": "#19d3f3"
         },
         "name": "Nothing",
         "notched": false,
         "offsetgroup": "Nothing",
         "orientation": "v",
         "showlegend": true,
         "type": "box",
         "x": [
          "Nothing"
         ],
         "x0": " ",
         "xaxis": "x",
         "y": {
          "bdata": "BA==",
          "dtype": "i1"
         },
         "y0": " ",
         "yaxis": "y"
        },
        {
         "alignmentgroup": "True",
         "boxpoints": "all",
         "hovertemplate": "Activiteit=%{x}<br>anxiety=%{y}<extra></extra>",
         "legendgroup": "Creative Outlets",
         "marker": {
          "color": "#FF6692"
         },
         "name": "Creative Outlets",
         "notched": false,
         "offsetgroup": "Creative Outlets",
         "orientation": "v",
         "showlegend": true,
         "type": "box",
         "x": [
          "Creative Outlets",
          "Creative Outlets",
          "Creative Outlets",
          "Creative Outlets",
          "Creative Outlets",
          "Creative Outlets",
          "Creative Outlets",
          "Creative Outlets",
          "Creative Outlets",
          "Creative Outlets"
         ],
         "x0": " ",
         "xaxis": "x",
         "y": {
          "bdata": "BAQEAwIFBQQFBQ==",
          "dtype": "i1"
         },
         "y0": " ",
         "yaxis": "y"
        },
        {
         "alignmentgroup": "True",
         "boxpoints": "all",
         "hovertemplate": "Activiteit=%{x}<br>anxiety=%{y}<extra></extra>",
         "legendgroup": "Sleep",
         "marker": {
          "color": "#B6E880"
         },
         "name": "Sleep",
         "notched": false,
         "offsetgroup": "Sleep",
         "orientation": "v",
         "showlegend": true,
         "type": "box",
         "x": [
          "Sleep",
          "Sleep",
          "Sleep",
          "Sleep",
          "Sleep",
          "Sleep",
          "Sleep",
          "Sleep",
          "Sleep",
          "Sleep",
          "Sleep",
          "Sleep",
          "Sleep",
          "Sleep",
          "Sleep",
          "Sleep",
          "Sleep",
          "Sleep",
          "Sleep",
          "Sleep"
         ],
         "x0": " ",
         "xaxis": "x",
         "y": {
          "bdata": "AgUEAgQCBAQEAgQDBQMFBAMFAgQ=",
          "dtype": "i1"
         },
         "y0": " ",
         "yaxis": "y"
        }
       ],
       "layout": {
        "boxmode": "overlay",
        "legend": {
         "title": {
          "text": "Activiteit"
         },
         "tracegroupgap": 0
        },
        "showlegend": false,
        "template": {
         "data": {
          "bar": [
           {
            "error_x": {
             "color": "#2a3f5f"
            },
            "error_y": {
             "color": "#2a3f5f"
            },
            "marker": {
             "line": {
              "color": "#E5ECF6",
              "width": 0.5
             },
             "pattern": {
              "fillmode": "overlay",
              "size": 10,
              "solidity": 0.2
             }
            },
            "type": "bar"
           }
          ],
          "barpolar": [
           {
            "marker": {
             "line": {
              "color": "#E5ECF6",
              "width": 0.5
             },
             "pattern": {
              "fillmode": "overlay",
              "size": 10,
              "solidity": 0.2
             }
            },
            "type": "barpolar"
           }
          ],
          "carpet": [
           {
            "aaxis": {
             "endlinecolor": "#2a3f5f",
             "gridcolor": "white",
             "linecolor": "white",
             "minorgridcolor": "white",
             "startlinecolor": "#2a3f5f"
            },
            "baxis": {
             "endlinecolor": "#2a3f5f",
             "gridcolor": "white",
             "linecolor": "white",
             "minorgridcolor": "white",
             "startlinecolor": "#2a3f5f"
            },
            "type": "carpet"
           }
          ],
          "choropleth": [
           {
            "colorbar": {
             "outlinewidth": 0,
             "ticks": ""
            },
            "type": "choropleth"
           }
          ],
          "contour": [
           {
            "colorbar": {
             "outlinewidth": 0,
             "ticks": ""
            },
            "colorscale": [
             [
              0,
              "#0d0887"
             ],
             [
              0.1111111111111111,
              "#46039f"
             ],
             [
              0.2222222222222222,
              "#7201a8"
             ],
             [
              0.3333333333333333,
              "#9c179e"
             ],
             [
              0.4444444444444444,
              "#bd3786"
             ],
             [
              0.5555555555555556,
              "#d8576b"
             ],
             [
              0.6666666666666666,
              "#ed7953"
             ],
             [
              0.7777777777777778,
              "#fb9f3a"
             ],
             [
              0.8888888888888888,
              "#fdca26"
             ],
             [
              1,
              "#f0f921"
             ]
            ],
            "type": "contour"
           }
          ],
          "contourcarpet": [
           {
            "colorbar": {
             "outlinewidth": 0,
             "ticks": ""
            },
            "type": "contourcarpet"
           }
          ],
          "heatmap": [
           {
            "colorbar": {
             "outlinewidth": 0,
             "ticks": ""
            },
            "colorscale": [
             [
              0,
              "#0d0887"
             ],
             [
              0.1111111111111111,
              "#46039f"
             ],
             [
              0.2222222222222222,
              "#7201a8"
             ],
             [
              0.3333333333333333,
              "#9c179e"
             ],
             [
              0.4444444444444444,
              "#bd3786"
             ],
             [
              0.5555555555555556,
              "#d8576b"
             ],
             [
              0.6666666666666666,
              "#ed7953"
             ],
             [
              0.7777777777777778,
              "#fb9f3a"
             ],
             [
              0.8888888888888888,
              "#fdca26"
             ],
             [
              1,
              "#f0f921"
             ]
            ],
            "type": "heatmap"
           }
          ],
          "histogram": [
           {
            "marker": {
             "pattern": {
              "fillmode": "overlay",
              "size": 10,
              "solidity": 0.2
             }
            },
            "type": "histogram"
           }
          ],
          "histogram2d": [
           {
            "colorbar": {
             "outlinewidth": 0,
             "ticks": ""
            },
            "colorscale": [
             [
              0,
              "#0d0887"
             ],
             [
              0.1111111111111111,
              "#46039f"
             ],
             [
              0.2222222222222222,
              "#7201a8"
             ],
             [
              0.3333333333333333,
              "#9c179e"
             ],
             [
              0.4444444444444444,
              "#bd3786"
             ],
             [
              0.5555555555555556,
              "#d8576b"
             ],
             [
              0.6666666666666666,
              "#ed7953"
             ],
             [
              0.7777777777777778,
              "#fb9f3a"
             ],
             [
              0.8888888888888888,
              "#fdca26"
             ],
             [
              1,
              "#f0f921"
             ]
            ],
            "type": "histogram2d"
           }
          ],
          "histogram2dcontour": [
           {
            "colorbar": {
             "outlinewidth": 0,
             "ticks": ""
            },
            "colorscale": [
             [
              0,
              "#0d0887"
             ],
             [
              0.1111111111111111,
              "#46039f"
             ],
             [
              0.2222222222222222,
              "#7201a8"
             ],
             [
              0.3333333333333333,
              "#9c179e"
             ],
             [
              0.4444444444444444,
              "#bd3786"
             ],
             [
              0.5555555555555556,
              "#d8576b"
             ],
             [
              0.6666666666666666,
              "#ed7953"
             ],
             [
              0.7777777777777778,
              "#fb9f3a"
             ],
             [
              0.8888888888888888,
              "#fdca26"
             ],
             [
              1,
              "#f0f921"
             ]
            ],
            "type": "histogram2dcontour"
           }
          ],
          "mesh3d": [
           {
            "colorbar": {
             "outlinewidth": 0,
             "ticks": ""
            },
            "type": "mesh3d"
           }
          ],
          "parcoords": [
           {
            "line": {
             "colorbar": {
              "outlinewidth": 0,
              "ticks": ""
             }
            },
            "type": "parcoords"
           }
          ],
          "pie": [
           {
            "automargin": true,
            "type": "pie"
           }
          ],
          "scatter": [
           {
            "fillpattern": {
             "fillmode": "overlay",
             "size": 10,
             "solidity": 0.2
            },
            "type": "scatter"
           }
          ],
          "scatter3d": [
           {
            "line": {
             "colorbar": {
              "outlinewidth": 0,
              "ticks": ""
             }
            },
            "marker": {
             "colorbar": {
              "outlinewidth": 0,
              "ticks": ""
             }
            },
            "type": "scatter3d"
           }
          ],
          "scattercarpet": [
           {
            "marker": {
             "colorbar": {
              "outlinewidth": 0,
              "ticks": ""
             }
            },
            "type": "scattercarpet"
           }
          ],
          "scattergeo": [
           {
            "marker": {
             "colorbar": {
              "outlinewidth": 0,
              "ticks": ""
             }
            },
            "type": "scattergeo"
           }
          ],
          "scattergl": [
           {
            "marker": {
             "colorbar": {
              "outlinewidth": 0,
              "ticks": ""
             }
            },
            "type": "scattergl"
           }
          ],
          "scattermap": [
           {
            "marker": {
             "colorbar": {
              "outlinewidth": 0,
              "ticks": ""
             }
            },
            "type": "scattermap"
           }
          ],
          "scattermapbox": [
           {
            "marker": {
             "colorbar": {
              "outlinewidth": 0,
              "ticks": ""
             }
            },
            "type": "scattermapbox"
           }
          ],
          "scatterpolar": [
           {
            "marker": {
             "colorbar": {
              "outlinewidth": 0,
              "ticks": ""
             }
            },
            "type": "scatterpolar"
           }
          ],
          "scatterpolargl": [
           {
            "marker": {
             "colorbar": {
              "outlinewidth": 0,
              "ticks": ""
             }
            },
            "type": "scatterpolargl"
           }
          ],
          "scatterternary": [
           {
            "marker": {
             "colorbar": {
              "outlinewidth": 0,
              "ticks": ""
             }
            },
            "type": "scatterternary"
           }
          ],
          "surface": [
           {
            "colorbar": {
             "outlinewidth": 0,
             "ticks": ""
            },
            "colorscale": [
             [
              0,
              "#0d0887"
             ],
             [
              0.1111111111111111,
              "#46039f"
             ],
             [
              0.2222222222222222,
              "#7201a8"
             ],
             [
              0.3333333333333333,
              "#9c179e"
             ],
             [
              0.4444444444444444,
              "#bd3786"
             ],
             [
              0.5555555555555556,
              "#d8576b"
             ],
             [
              0.6666666666666666,
              "#ed7953"
             ],
             [
              0.7777777777777778,
              "#fb9f3a"
             ],
             [
              0.8888888888888888,
              "#fdca26"
             ],
             [
              1,
              "#f0f921"
             ]
            ],
            "type": "surface"
           }
          ],
          "table": [
           {
            "cells": {
             "fill": {
              "color": "#EBF0F8"
             },
             "line": {
              "color": "white"
             }
            },
            "header": {
             "fill": {
              "color": "#C8D4E3"
             },
             "line": {
              "color": "white"
             }
            },
            "type": "table"
           }
          ]
         },
         "layout": {
          "annotationdefaults": {
           "arrowcolor": "#2a3f5f",
           "arrowhead": 0,
           "arrowwidth": 1
          },
          "autotypenumbers": "strict",
          "coloraxis": {
           "colorbar": {
            "outlinewidth": 0,
            "ticks": ""
           }
          },
          "colorscale": {
           "diverging": [
            [
             0,
             "#8e0152"
            ],
            [
             0.1,
             "#c51b7d"
            ],
            [
             0.2,
             "#de77ae"
            ],
            [
             0.3,
             "#f1b6da"
            ],
            [
             0.4,
             "#fde0ef"
            ],
            [
             0.5,
             "#f7f7f7"
            ],
            [
             0.6,
             "#e6f5d0"
            ],
            [
             0.7,
             "#b8e186"
            ],
            [
             0.8,
             "#7fbc41"
            ],
            [
             0.9,
             "#4d9221"
            ],
            [
             1,
             "#276419"
            ]
           ],
           "sequential": [
            [
             0,
             "#0d0887"
            ],
            [
             0.1111111111111111,
             "#46039f"
            ],
            [
             0.2222222222222222,
             "#7201a8"
            ],
            [
             0.3333333333333333,
             "#9c179e"
            ],
            [
             0.4444444444444444,
             "#bd3786"
            ],
            [
             0.5555555555555556,
             "#d8576b"
            ],
            [
             0.6666666666666666,
             "#ed7953"
            ],
            [
             0.7777777777777778,
             "#fb9f3a"
            ],
            [
             0.8888888888888888,
             "#fdca26"
            ],
            [
             1,
             "#f0f921"
            ]
           ],
           "sequentialminus": [
            [
             0,
             "#0d0887"
            ],
            [
             0.1111111111111111,
             "#46039f"
            ],
            [
             0.2222222222222222,
             "#7201a8"
            ],
            [
             0.3333333333333333,
             "#9c179e"
            ],
            [
             0.4444444444444444,
             "#bd3786"
            ],
            [
             0.5555555555555556,
             "#d8576b"
            ],
            [
             0.6666666666666666,
             "#ed7953"
            ],
            [
             0.7777777777777778,
             "#fb9f3a"
            ],
            [
             0.8888888888888888,
             "#fdca26"
            ],
            [
             1,
             "#f0f921"
            ]
           ]
          },
          "colorway": [
           "#636efa",
           "#EF553B",
           "#00cc96",
           "#ab63fa",
           "#FFA15A",
           "#19d3f3",
           "#FF6692",
           "#B6E880",
           "#FF97FF",
           "#FECB52"
          ],
          "font": {
           "color": "#2a3f5f"
          },
          "geo": {
           "bgcolor": "white",
           "lakecolor": "white",
           "landcolor": "#E5ECF6",
           "showlakes": true,
           "showland": true,
           "subunitcolor": "white"
          },
          "hoverlabel": {
           "align": "left"
          },
          "hovermode": "closest",
          "mapbox": {
           "style": "light"
          },
          "paper_bgcolor": "white",
          "plot_bgcolor": "#E5ECF6",
          "polar": {
           "angularaxis": {
            "gridcolor": "white",
            "linecolor": "white",
            "ticks": ""
           },
           "bgcolor": "#E5ECF6",
           "radialaxis": {
            "gridcolor": "white",
            "linecolor": "white",
            "ticks": ""
           }
          },
          "scene": {
           "xaxis": {
            "backgroundcolor": "#E5ECF6",
            "gridcolor": "white",
            "gridwidth": 2,
            "linecolor": "white",
            "showbackground": true,
            "ticks": "",
            "zerolinecolor": "white"
           },
           "yaxis": {
            "backgroundcolor": "#E5ECF6",
            "gridcolor": "white",
            "gridwidth": 2,
            "linecolor": "white",
            "showbackground": true,
            "ticks": "",
            "zerolinecolor": "white"
           },
           "zaxis": {
            "backgroundcolor": "#E5ECF6",
            "gridcolor": "white",
            "gridwidth": 2,
            "linecolor": "white",
            "showbackground": true,
            "ticks": "",
            "zerolinecolor": "white"
           }
          },
          "shapedefaults": {
           "line": {
            "color": "#2a3f5f"
           }
          },
          "ternary": {
           "aaxis": {
            "gridcolor": "white",
            "linecolor": "white",
            "ticks": ""
           },
           "baxis": {
            "gridcolor": "white",
            "linecolor": "white",
            "ticks": ""
           },
           "bgcolor": "#E5ECF6",
           "caxis": {
            "gridcolor": "white",
            "linecolor": "white",
            "ticks": ""
           }
          },
          "title": {
           "x": 0.05
          },
          "xaxis": {
           "automargin": true,
           "gridcolor": "white",
           "linecolor": "white",
           "ticks": "",
           "title": {
            "standoff": 15
           },
           "zerolinecolor": "white",
           "zerolinewidth": 2
          },
          "yaxis": {
           "automargin": true,
           "gridcolor": "white",
           "linecolor": "white",
           "ticks": "",
           "title": {
            "standoff": 15
           },
           "zerolinecolor": "white",
           "zerolinewidth": 2
          }
         }
        },
        "title": {
         "text": "Angstniveau per Stressverlichtende Activiteit"
        },
        "xaxis": {
         "anchor": "y",
         "categoryarray": [
          "Religious Activities",
          "Social Connections",
          "Online Entertainment",
          "Sports and Fitness",
          "Outdoor Activities",
          "Nothing",
          "Creative Outlets",
          "Sleep"
         ],
         "categoryorder": "array",
         "domain": [
          0,
          1
         ],
         "title": {
          "text": "Activiteit"
         }
        },
        "yaxis": {
         "anchor": "x",
         "domain": [
          0,
          1
         ],
         "title": {
          "text": "anxiety"
         }
        }
       }
      }
     },
     "metadata": {},
     "output_type": "display_data"
    }
   ],
   "source": [
    "import pandas as pd\n",
    "import plotly.express as px\n",
    "\n",
    "# Laad de dataset\n",
    "df = pd.read_csv(\"MentalHealthSurvey.csv\")\n",
    "\n",
    "# Zorg dat activiteiten correct gesplitst zijn\n",
    "df['stress_relief_activities'] = df['stress_relief_activities'].fillna('').str.strip()\n",
    "df['stress_relief_activities'] = df['stress_relief_activities'].str.split(', ')\n",
    "\n",
    "# Maak één rij per activiteit\n",
    "df_expanded = df.explode('stress_relief_activities')\n",
    "\n",
    "# Filter lege rijen eruit\n",
    "df_expanded = df_expanded[df_expanded['stress_relief_activities'] != '']\n",
    "\n",
    "# Plot interactieve boxplot voor 'anxiety'\n",
    "fig = px.box(\n",
    "    df_expanded,\n",
    "    x='stress_relief_activities',\n",
    "    y='anxiety',\n",
    "    color='stress_relief_activities',\n",
    "    points='all',\n",
    "    title='Angstniveau per Stressverlichtende Activiteit',\n",
    "    labels={\n",
    "        'depressie': 'depression',\n",
    "        'stress_relief_activities': 'Activiteit'\n",
    "    }\n",
    ")\n",
    "\n",
    "fig.update_layout(showlegend=False)\n",
    "fig.show()\n"
   ]
  },
  {
   "cell_type": "code",
   "execution_count": null,
   "id": "b7bdd0ee",
   "metadata": {},
   "outputs": [],
   "source": []
  }
 ],
 "metadata": {
  "kernelspec": {
   "display_name": "jupyterbook",
   "language": "python",
   "name": "python3"
  },
  "language_info": {
   "codemirror_mode": {
    "name": "ipython",
    "version": 3
   },
   "file_extension": ".py",
   "mimetype": "text/x-python",
   "name": "python",
   "nbconvert_exporter": "python",
   "pygments_lexer": "ipython3",
   "version": "3.10.16"
  }
 },
 "nbformat": 4,
 "nbformat_minor": 5
}
