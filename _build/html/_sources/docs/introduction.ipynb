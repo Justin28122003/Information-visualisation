{
 "cells": [
  {
   "cell_type": "markdown",
   "id": "998aedbc",
   "metadata": {},
   "source": [
    "# Introduction"
   ]
  },
  {
   "cell_type": "markdown",
   "id": "99c2e38d",
   "metadata": {},
   "source": [
    "- Douwe Maljers (15264424)\n",
    "- Justin van Egmond (15011178)\n",
    "- Noor Verbrugge (15168298)"
   ]
  },
  {
   "cell_type": "markdown",
   "id": "317435ef",
   "metadata": {},
   "source": [
    "Mentale gezondheid onder studenten is de afgelopen jaren een groeiend maatschappelijk thema geworden. De combinatie van allemaal verschillende omstandigheden, zoals prestatiedruk, sociale verwachtingen en onzekerheid over de toekomst maakt deze groep bijzonder kwetsbaar. In deze data-analyse richten we ons op het identificeren van factoren die samenhangen met mentale gezondheid, met als doel het onthullen van mogelijke risico’s en beschermende factoren binnen het studentenleven.\n",
    "\n",
    "Op basis van enquêtegegevens van studenten wereldwijd, verkennen we de verbanden tussen mentale gezondheid en verschillende leefomstandigheden, gedragingen en gevoelens. Daarbij kijken we naar zowel interne als externe factoren die het welzijn kunnen beïnvloeden. De persectieven waaruit wij naar de mentale gezondheid gaan kijken zijn, social media gebruik, slaap, sport gewoonten ....\n",
    "\n",
    "Wereldwijd is de populatie met mentale stoornissen significant gestegen. In de grafiek boven is per land de trend te zien. Vandaar dat dit onderzoek nog meer van belang is. Vrouwen en mannen zijn beide slachtoffer van deze chronische ziekte. \n",
    "\n",
    "In dit onderzoek worden meerdere standpunten onderbouwd aan de hand van data visualisaties, specifiek gericht op de invloeden op metale gezondheid onder studenten. Dit wordt gedaan met behulp van verschillende datasets van diverse groepen studenten. Tevens wordt een dataset van het Institute for Health Metrics and Evaluation gebruikt om de grootschaligheid van het wereldwijde probleem van mentale stoornissen en verminderde mentale gesteldheid in kaart te brengen."
   ]
  },
  {
   "cell_type": "code",
   "execution_count": 1,
   "id": "0b6219e6",
   "metadata": {
    "tags": [
     "hide-input"
    ]
   },
   "outputs": [
    {
     "data": {
      "text/html": [
       "        <script type=\"text/javascript\">\n",
       "        window.PlotlyConfig = {MathJaxConfig: 'local'};\n",
       "        if (window.MathJax && window.MathJax.Hub && window.MathJax.Hub.Config) {window.MathJax.Hub.Config({SVG: {font: \"STIX-Web\"}});}\n",
       "        </script>\n",
       "        <script type=\"module\">import \"https://cdn.plot.ly/plotly-3.0.1.min\"</script>\n",
       "        "
      ]
     },
     "metadata": {},
     "output_type": "display_data"
    },
    {
     "data": {
      "text/html": [
       "\n",
       "<style>\n",
       ".vbox {\n",
       "    background-color: #f9f9f9;\n",
       "    padding: 20px;\n",
       "    border-radius: 12px;\n",
       "    box-shadow: 0 0 10px rgba(0,0,0,0.1);\n",
       "    width: fit-content;\n",
       "    margin-bottom: 25px;\n",
       "}\n",
       "\n",
       "/* Dropdown styling */\n",
       ".widget-dropdown select {\n",
       "    background-color: white;\n",
       "    border: 1px solid #ccc;\n",
       "    border-radius: 8px;\n",
       "    padding: 6px 12px;\n",
       "    font-size: 14px;\n",
       "}\n",
       "\n",
       "/* Slider track */\n",
       ".widget-selection-slider .slider {\n",
       "    background-color: #ddd;\n",
       "    height: 8px;\n",
       "    border-radius: 4px;\n",
       "}\n",
       "\n",
       "/* Slider handle */\n",
       ".widget-selection-slider .slider .slider-handle {\n",
       "    background-color: #e74c3c;\n",
       "    border-radius: 50%;\n",
       "    width: 16px;\n",
       "    height: 16px;\n",
       "    margin-top: -4px;\n",
       "}\n",
       "\n",
       "/* Beschrijving labels */\n",
       ".widget-label {\n",
       "    font-weight: bold;\n",
       "    font-size: 14px;\n",
       "}\n",
       "\n",
       "/* Responsive tweaks */\n",
       "@media screen and (max-width: 768px) {\n",
       "    .hbox {\n",
       "        flex-direction: column !important;\n",
       "        gap: 10px !important;\n",
       "    }\n",
       "}\n",
       "</style>\n"
      ],
      "text/plain": [
       "<IPython.core.display.HTML object>"
      ]
     },
     "metadata": {},
     "output_type": "display_data"
    },
    {
     "data": {
      "application/vnd.jupyter.widget-view+json": {
       "model_id": "cefe4dfc1d3d465db988dd27ea9ba75e",
       "version_major": 2,
       "version_minor": 0
      },
      "text/plain": [
       "VBox(children=(HBox(children=(Dropdown(description='Sex', layout=Layout(width='200px'), options=('Both', 'Fema…"
      ]
     },
     "metadata": {},
     "output_type": "display_data"
    },
    {
     "data": {
      "application/vnd.jupyter.widget-view+json": {
       "model_id": "75c097023a464ee9885ce80aa344aaf8",
       "version_major": 2,
       "version_minor": 0
      },
      "text/plain": [
       "Output()"
      ]
     },
     "metadata": {},
     "output_type": "display_data"
    }
   ],
   "source": [
    "\n",
    "import pandas as pd\n",
    "import plotly.express as px\n",
    "from ipywidgets import Dropdown, SelectionSlider, Layout, HBox, VBox, interactive_output\n",
    "from IPython.display import display, HTML\n",
    "import pycountry\n",
    "from plotly.offline import init_notebook_mode\n",
    "init_notebook_mode(connected=True)\n",
    "# === Data inladen ===\n",
    "csv_path = \"datasets/IHME_mental_real.csv\"\n",
    "df2 = pd.read_csv(csv_path)\n",
    "\n",
    "# === Landen omzetten naar ISO3-codes ===\n",
    "def get_iso3(name):\n",
    "    try:\n",
    "        return pycountry.countries.lookup(name).alpha_3\n",
    "    except LookupError:\n",
    "        return None\n",
    "\n",
    "df2[\"Country\"] = df2[\"location\"].apply(get_iso3)\n",
    "\n",
    "# === Waarden in juiste schaal zetten ===\n",
    "df2[\"val_display\"] = df2[\"val\"]\n",
    "df2.loc[df2[\"metric\"] == \"Percent\", \"val_display\"] *= 100\n",
    "\n",
    "# === Vaste schaal voor percentages ===\n",
    "percent_max = df2.loc[df2[\"metric\"] == \"Percent\", \"val_display\"].max()\n",
    "\n",
    "# === Widget opties ===\n",
    "years = sorted(df2[\"year\"].unique())\n",
    "sexes = sorted(df2[\"sex\"].unique())\n",
    "metrics = sorted(df2[\"metric\"].unique())\n",
    "\n",
    "# === Plotfunctie ===\n",
    "def plot_map(year, sex, metric):\n",
    "    dff = df2[(df2[\"year\"] == year) & (df2[\"sex\"] == sex) & (df2[\"metric\"] == metric)]\n",
    "    print(f'y: {year} sex: {sex}')\n",
    "    if dff.empty:\n",
    "        print(\"Geen data beschikbaar voor deze selectie.\")\n",
    "        return\n",
    "    \n",
    "    if metric == \"Percent\":\n",
    "        color_range = [0, percent_max]\n",
    "    else:\n",
    "        color_range = [df2[\"val_display\"].min(), df2[\"val_display\"].max()]\n",
    "    \n",
    "    fig = px.choropleth(\n",
    "        dff,\n",
    "        locations=\"Country\",\n",
    "        color=\"val_display\",\n",
    "        hover_name=\"location\",\n",
    "        color_continuous_scale=\"Reds\",\n",
    "        range_color=color_range,\n",
    "        labels={\"val_display\": f\"Prevalentie ({metric})\"},\n",
    "        title=f\"Mental Disorders – {sex} – {metric} – {year}\",\n",
    "        width=1100,\n",
    "        height=650\n",
    "    )\n",
    "    fig.update_layout(\n",
    "        geo=dict(\n",
    "            showframe=False,\n",
    "            showcoastlines=True,\n",
    "            projection_type=\"natural earth\"\n",
    "        ),\n",
    "        margin=dict(l=0, r=0, t=50, b=0)\n",
    "    )\n",
    "    fig.show()\n",
    "\n",
    "# === Widgets ===\n",
    "year_slider = SelectionSlider(\n",
    "    options=years,\n",
    "    description=\"Jaar\",\n",
    "    continuous_update=False,\n",
    "    layout=Layout(width=\"100%\")\n",
    ")\n",
    "\n",
    "sex_dropdown = Dropdown(\n",
    "    options=sexes,\n",
    "    description=\"Sex\",\n",
    "    layout=Layout(width=\"200px\")\n",
    ")\n",
    "\n",
    "metric_dropdown = Dropdown(\n",
    "    options=metrics,\n",
    "    description=\"Metric\",\n",
    "    layout=Layout(width=\"200px\")\n",
    ")\n",
    "\n",
    "controls_top = HBox([sex_dropdown, metric_dropdown], layout=Layout(gap=\"20px\"))\n",
    "controls = VBox([controls_top, year_slider], layout=Layout(gap=\"15px\", width=\"1000px\"), _dom_classes=[\"vbox\"])\n",
    "\n",
    "interactive_plot = interactive_output(plot_map, {\n",
    "    \"year\": year_slider,\n",
    "    \"sex\": sex_dropdown,\n",
    "    \"metric\": metric_dropdown\n",
    "})\n",
    "\n",
    "# === Styling met CSS ===\n",
    "custom_css = \"\"\"\n",
    "<style>\n",
    ".vbox {\n",
    "    background-color: #f9f9f9;\n",
    "    padding: 20px;\n",
    "    border-radius: 12px;\n",
    "    box-shadow: 0 0 10px rgba(0,0,0,0.1);\n",
    "    width: fit-content;\n",
    "    margin-bottom: 25px;\n",
    "}\n",
    "\n",
    "/* Dropdown styling */\n",
    ".widget-dropdown select {\n",
    "    background-color: white;\n",
    "    border: 1px solid #ccc;\n",
    "    border-radius: 8px;\n",
    "    padding: 6px 12px;\n",
    "    font-size: 14px;\n",
    "}\n",
    "\n",
    "/* Slider track */\n",
    ".widget-selection-slider .slider {\n",
    "    background-color: #ddd;\n",
    "    height: 8px;\n",
    "    border-radius: 4px;\n",
    "}\n",
    "\n",
    "/* Slider handle */\n",
    ".widget-selection-slider .slider .slider-handle {\n",
    "    background-color: #e74c3c;\n",
    "    border-radius: 50%;\n",
    "    width: 16px;\n",
    "    height: 16px;\n",
    "    margin-top: -4px;\n",
    "}\n",
    "\n",
    "/* Beschrijving labels */\n",
    ".widget-label {\n",
    "    font-weight: bold;\n",
    "    font-size: 14px;\n",
    "}\n",
    "\n",
    "/* Responsive tweaks */\n",
    "@media screen and (max-width: 768px) {\n",
    "    .hbox {\n",
    "        flex-direction: column !important;\n",
    "        gap: 10px !important;\n",
    "    }\n",
    "}\n",
    "</style>\n",
    "\"\"\"\n",
    "\n",
    "# === Weergeven ===\n",
    "display(HTML(custom_css))\n",
    "display(controls, interactive_plot)\n"
   ]
  },
  {
   "cell_type": "code",
   "execution_count": null,
   "id": "47a30911",
   "metadata": {},
   "outputs": [],
   "source": []
  }
 ],
 "metadata": {
  "kernelspec": {
   "display_name": "jupyterbook",
   "language": "python",
   "name": "python3"
  },
  "language_info": {
   "codemirror_mode": {
    "name": "ipython",
    "version": 3
   },
   "file_extension": ".py",
   "mimetype": "text/x-python",
   "name": "python",
   "nbconvert_exporter": "python",
   "pygments_lexer": "ipython3",
   "version": "3.10.16"
  }
 },
 "nbformat": 4,
 "nbformat_minor": 5
}
